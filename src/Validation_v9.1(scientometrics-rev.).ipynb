{
 "cells": [
  {
   "cell_type": "code",
   "execution_count": 22,
   "metadata": {
    "ExecuteTime": {
     "end_time": "2025-06-09T02:18:08.196391Z",
     "start_time": "2025-06-09T02:18:08.154145Z"
    }
   },
   "outputs": [],
   "source": [
    "root_dir = '/home2/glee/dissertation/1_tech_gen_impact/class2class/Tech_Gen/'\n",
    "master_dir = '/home2/glee/dissertation/1_tech_gen_impact/master/Tech_Gen/'\n",
    "import sys\n",
    "sys.path.append(root_dir)\n",
    "\n",
    "import uspto\n",
    "import json\n",
    "import copy\n",
    "import gc\n",
    "import os\n",
    "import argparse\n",
    "import math\n",
    "import time\n",
    "import pickle\n",
    "import re\n",
    "import multiprocess as mp\n",
    "import warnings\n",
    "warnings.filterwarnings(action='ignore', category=UserWarning)\n",
    "warnings.filterwarnings(action='ignore', category=DeprecationWarning)\n",
    "sys.path.append(\"/share/tml_package\")\n",
    "from tml import utils\n",
    "from scipy import io\n",
    "from tqdm import tqdm\n",
    "from collections import OrderedDict\n",
    "\n",
    "import torch\n",
    "from torch.nn import functional as F\n",
    "from torch.nn import DataParallel as DP\n",
    "from torch.utils.data import TensorDataset, DataLoader, Subset, Dataset\n",
    "from accelerate import Accelerator\n",
    "import pytorch_model_summary\n",
    "\n",
    "import optuna\n",
    "from optuna.samplers import RandomSampler, TPESampler\n",
    "from optuna.integration import SkoptSampler\n",
    "\n",
    "import numpy as np\n",
    "import pandas as pd\n",
    "import scipy.stats\n",
    "import sklearn\n",
    "from sklearn.preprocessing import MinMaxScaler\n",
    "from sklearn.metrics import matthews_corrcoef, precision_recall_fscore_support, confusion_matrix\n",
    "from sklearn.utils.class_weight import compute_class_weight\n",
    "\n",
    "from data import TechDataset, CVSampler\n",
    "from models import Transformer, Predictor\n",
    "from train_utils import EarlyStopping, perf_eval, objective_cv, build_model, train_model, validate_model_mp\n",
    "from utils import token2class, DotDict, to_device\n",
    "\n",
    "from cleantext.sklearn import CleanTransformer\n",
    "from nltk.corpus import stopwords\n",
    "from nltk.stem.porter import PorterStemmer\n",
    "\n",
    "os.environ[\"TOKENIZERS_PARALLELISM\"] = \"false\"\n",
    "os.environ[\"CUDA_LAUNCH_BLOCKING\"] = \"1\""
   ]
  },
  {
   "cell_type": "markdown",
   "metadata": {},
   "source": [
    "# Configuration"
   ]
  },
  {
   "cell_type": "code",
   "execution_count": 4,
   "metadata": {
    "ExecuteTime": {
     "end_time": "2025-06-08T16:10:03.248864Z",
     "start_time": "2025-06-08T16:10:03.176379Z"
    }
   },
   "outputs": [],
   "source": [
    "# analysis_date = \"2023-05-04_1802\" # Seminconductor\n",
    "# analysis_date = \"2023-05-09_0331\" # AI\n",
    "analysis_date = \"2025-06-07_1732\" # AI, CPC\n",
    "args = argparse.Namespace(\n",
    "    do_eval = True,\n",
    "    do_save=False,\n",
    "    config_file=os.path.join(root_dir, \"configs\", \"USED_configs\", \"[CONFIGS]\"+analysis_date+\".json\"),\n",
    "    eval_train_set=False)\n",
    "\n",
    "project_data_dir = os.path.join(master_dir, \"data\")\n",
    "data_dir = os.path.join(\"/home2/glee/patent_data/data/\")\n",
    "model_dir = os.path.join(root_dir, \"models\")\n",
    "result_dir = os.path.join(root_dir, \"results\")\n",
    "config_dir = os.path.join(root_dir, \"configs\")\n",
    "\n",
    "## parse configuration file\n",
    "if args.config_file is not None:\n",
    "    config_file = args.config_file\n",
    "else:\n",
    "    config_file = os.path.join(config_dir, \"configs_light.json\") if args.light else os.path.join(config_dir, \"configs.json\")\n",
    "if args.do_eval: args.do_train = False\n",
    "configs = DotDict().load(config_file)\n",
    "org_config_keys = {key: list(configs[key].keys()) for key in configs.keys()}\n",
    "\n",
    "# parse command line arguments\n",
    "instant_configs = {key: value for (key, value) in vars(args).items() if value is not None} # if any argument passed when main.py executed\n",
    "instant_configs_for_update = {configkey: {key: value for (key,value) in instant_configs.items() if key in org_config_keys[configkey]} for configkey in org_config_keys.keys()}\n",
    "for key, value in configs.items():\n",
    "    value.update(instant_configs_for_update[key])\n",
    "\n",
    "## assign loss weights\n",
    "if configs.model.model_type == \"enc-pred-dec\":\n",
    "    configs.train.loss_weights[\"recon\"] = configs.train.loss_weights[\"recon\"] / sum(configs.train.loss_weights.values())\n",
    "    configs.train.loss_weights[\"y\"] = 1 - configs.train.loss_weights[\"recon\"]\n",
    "elif configs.model.model_type == \"enc-pred\":\n",
    "    configs.train.loss_weights = {\"recon\": 0, \"y\": 1}\n",
    "elif configs.model.model_type == \"enc-dec\":\n",
    "    configs.train.loss_weights = {\"recon\": 1, \"y\": 0}\n",
    "\n",
    "## assign devices\n",
    "if configs.train.use_accelerator:\n",
    "    accelerator = Accelerator()\n",
    "    device_ids = list(range(torch.cuda.device_count()))\n",
    "    device = accelerator.device\n",
    "    configs.train.update({\"accelerator\": accelerator})\n",
    "else:\n",
    "    if torch.cuda.is_available():\n",
    "        device_ids = list(range(torch.cuda.device_count()))\n",
    "        gpu_usages = [np.sum([float(usage.split(\"uses\")[-1].replace(\" \",\"\").replace(\"MB\",\"\")) for usage in torch.cuda.list_gpu_processes(id).split(\"GPU memory\") if not usage==\"\" and \"no processes are running\" not in usage]) for id in device_ids]\n",
    "        device_ids = np.argsort(gpu_usages)[:configs.train.n_gpus]\n",
    "        device_ids = list(map(lambda x: torch.device('cuda', x),list(device_ids)))\n",
    "        device = device_ids[0] # main device\n",
    "        torch.cuda.set_device(device)\n",
    "    else:\n",
    "        device = torch.device('cpu')\n",
    "        device_ids = []\n",
    "\n",
    "## extract configurations for dataset\n",
    "config_period = \"[\"+\"-\".join([str(year) for year in configs.data.target_period])+\"]\"\n",
    "config_area = str(configs.data.target_area).replace(\"\\'\",\"\").replace(\" \",\"\")\n",
    "config_keywords = str(configs.data.target_keywords).replace(\"\\'\",\"\").replace(\" \",\"\")\n",
    "config_sampling_ratio = \"[\"+str(configs.data.sampling_ratio)+\"sampling\"+\"]\" if configs.data.sampling_ratio < 1 else \"\"\n",
    "\n",
    "## update configurations\n",
    "configs.data.update({\"root_dir\": root_dir,\n",
    "                        \"data_dir\": data_dir,\n",
    "                        \"model_dir\": model_dir,\n",
    "                        \"result_dir\": result_dir,\n",
    "                        \"pretrained_enc\": configs.model.pretrained_enc,\n",
    "                        \"pretrained_dec\": configs.model.pretrained_dec,\n",
    "                        \"data_nrows\": None,\n",
    "                        \"data_file\": \"collection_\" + \"\".join([config_keywords, config_area, config_period, config_sampling_ratio]) + \".csv\"})\n",
    "configs.train.update({\"device\": device,\n",
    "                        \"device_ids\": device_ids,\n",
    "                        \"root_dir\": root_dir,\n",
    "                        \"data_dir\": data_dir,\n",
    "                        \"model_dir\": model_dir,\n",
    "                        \"use_keywords\": configs.data.use_keywords,\n",
    "                        \"class_system\": configs.data.class_system,\n",
    "                        \"curr_ep\": 1,\n",
    "                        \"early_stop_patience\": int(0.3*configs.train.max_epochs)})\n",
    "configs.model.update({\"device\": device,\n",
    "                        \"device_ids\": device_ids,\n",
    "                        \"n_directions\": 2 if configs.model.bidirec else 1,\n",
    "                        \"use_accelerator\": configs.train.use_accelerator,\n",
    "                        \"model_dir\": model_dir})\n",
    "\n",
    "## Set hyperparameters for model training (To be TUNED)\n",
    "if configs.train.do_train and configs.train.do_tune:\n",
    "    n_layers = configs.model.n_layers = None\n",
    "    d_embedding = configs.model.d_embedding = None\n",
    "    d_enc_hidden = configs.model.d_enc_hidden = None\n",
    "    d_pred_hidden = configs.model.d_pred_hidden = None\n",
    "    learning_rate = configs.train.learning_rate = None\n",
    "    batch_size = configs.train.batch_size = None\n",
    "    config_name = \"HPARAM_TUNING\"\n",
    "    final_model_path = None\n",
    "else:\n",
    "    n_layers = configs.model.n_layers\n",
    "    d_embedding = configs.model.d_embedding\n",
    "    d_enc_hidden = configs.model.d_enc_hidden\n",
    "    d_pred_hidden = configs.model.d_pred_hidden\n",
    "    d_latent = configs.model.d_latent\n",
    "\n",
    "    key_components = {\"data\": [\"class_level\", \"class_system\", \"max_seq_len_class\", \"max_seq_len_claim\", \"vocab_size\"], \"model\": [\"n_layers\", \"d_hidden\", \"d_pred_hidden\", \"d_latent\", \"d_embedding\", \"d_ff\", \"n_head\", \"d_head\"], \"train\": [\"learning_rate\", \"batch_size\", \"max_epochs\", \"curr_ep\"]}\n",
    "    model_config_name_prefix = \"\".join([config_keywords, config_area, config_period, config_sampling_ratio]) + \"data\"\n",
    "    model_config_name = \"\" + model_config_name_prefix\n",
    "    model_config_name += f\"[{configs.data.class_system}]system\"\n",
    "    for key in [\"model\", \"train\"]:\n",
    "        for component in key_components[key]:\n",
    "            model_config_name += f\"[{str(configs[key][component])}]{component}\"\n",
    "    final_model_path = os.path.join(model_dir, f\"[MODEL]{model_config_name}.ckpt\")\n",
    "\n",
    "# configs.train.update({\"model_config_name\": model_config_name, \"final_model_path\": final_model_path})"
   ]
  },
  {
   "cell_type": "markdown",
   "metadata": {},
   "source": [
    "# Dataset setting"
   ]
  },
  {
   "cell_type": "code",
   "execution_count": 5,
   "metadata": {
    "ExecuteTime": {
     "end_time": "2025-06-08T16:11:07.053705Z",
     "start_time": "2025-06-08T16:10:07.830871Z"
    },
    "scrolled": true
   },
   "outputs": [
    {
     "name": "stdout",
     "output_type": "stream",
     "text": [
      "Load pickled dataset...\n",
      "Pickled dataset loaded\n"
     ]
    }
   ],
   "source": [
    "''' PART 2: Dataset setting '''\n",
    "tstart = time.time()\n",
    "dataset_config_name = \"\".join([config_keywords, config_area, config_period, config_sampling_ratio]) + \"data\"\n",
    "for component in key_components[\"data\"]:\n",
    "    dataset_config_name += f\"[{str(configs.data[component])}]{component}\"\n",
    "dataset_path = os.path.join(project_data_dir, \"pickled_dataset\", \"[DATASET]\"+dataset_config_name+\".pickle\")\n",
    "\n",
    "if os.path.exists(dataset_path) and args.do_save is False:\n",
    "    print(\"Load pickled dataset...\")\n",
    "    with open(dataset_path, \"rb\") as f:\n",
    "        tech_dataset = pickle.load(f)   # Load pickled dataset if dataset with same configuration already saved\n",
    "        if tech_dataset.pretrained_enc != configs.data.pretrained_enc or tech_dataset.pretrained_dec != configs.data.pretrained_dec:\n",
    "            tech_dataset.pretrained_enc = configs.data.pretrained_enc\n",
    "            tech_dataset.pretrained_dec = configs.data.pretrained_dec\n",
    "            tech_dataset.tokenizers = tech_dataset.get_tokenizers()\n",
    "        for tk in tech_dataset.tokenizers.values():\n",
    "            if \"vocab_size\" not in dir(tk):\n",
    "                tk.vocab_size = tk.get_vocab_size()\n",
    "        tech_dataset.use_keywords = configs.data.use_keywords\n",
    "        ## load saved rawdata\n",
    "        if tech_dataset.rawdata is None:\n",
    "            tech_dataset.rawdata = pd.read_csv(os.path.join(data_dir, configs.data.data_file), low_memory=False)\n",
    "    print(\"Pickled dataset loaded\")\n",
    "else:\n",
    "    print(\"Make dataset...\")\n",
    "    if args.debug:\n",
    "        configs.data.update({\"data_nrows\": 1000})\n",
    "        dataset_path += \".debug\"\n",
    "    tech_dataset = TechDataset(configs.data)\n",
    "    if not args.debug:\n",
    "        rawdata_for_save = copy.deepcopy(tech_dataset.rawdata)\n",
    "        with open(dataset_path, \"wb\") as f:\n",
    "            tech_dataset.rawdata = None\n",
    "            pickle.dump(tech_dataset, f)\n",
    "        tech_dataset.rawdata = rawdata_for_save\n",
    "tend = time.time()\n",
    "# print(f\"{np.round(tend-tstart,4)} sec elapsed for loading patents for class [{configs.data.target_area}]\")\n",
    "\n",
    "configs.model.update({\"tokenizers\": tech_dataset.tokenizers,\n",
    "                    \"n_enc_seq_claim\": tech_dataset.max_seq_len_claim,\n",
    "                    \"n_dec_seq_claim\": tech_dataset.max_seq_len_claim,\n",
    "                    \"n_enc_seq_class\": tech_dataset.max_seq_len_class,\n",
    "                    \"n_dec_seq_class\": tech_dataset.max_seq_len_class,\n",
    "                    \"n_outputs\": 1 if configs.data.pred_type==\"regression\" else tech_dataset.n_outputs,\n",
    "                    \"i_padding\": tech_dataset.tokenizers[\"class_enc\"].pad_id})"
   ]
  },
  {
   "cell_type": "code",
   "execution_count": 6,
   "metadata": {
    "ExecuteTime": {
     "end_time": "2025-06-08T16:11:26.382500Z",
     "start_time": "2025-06-08T16:11:26.368204Z"
    }
   },
   "outputs": [
    {
     "data": {
      "text/plain": [
       "133654"
      ]
     },
     "execution_count": 6,
     "metadata": {},
     "output_type": "execute_result"
    }
   ],
   "source": [
    "tech_dataset.__len__()"
   ]
  },
  {
   "cell_type": "markdown",
   "metadata": {},
   "source": [
    "# Load model"
   ]
  },
  {
   "cell_type": "code",
   "execution_count": 7,
   "metadata": {
    "ExecuteTime": {
     "end_time": "2025-06-08T16:11:28.064203Z",
     "start_time": "2025-06-08T16:11:28.058633Z"
    }
   },
   "outputs": [
    {
     "data": {
      "text/plain": [
       "'/home2/glee/dissertation/1_tech_gen_impact/class2class/Tech_Gen/models/[MODEL][uspto_AI][2006-2015]data[CPC]system[2]n_layers[32]d_hidden[8]d_pred_hidden[32]d_latent[128]d_embedding[16]d_ff[2]n_head[16]d_head[0.0015]learning_rate[512]batch_size[30]max_epochs[1]curr_ep.ckpt'"
      ]
     },
     "execution_count": 7,
     "metadata": {},
     "output_type": "execute_result"
    }
   ],
   "source": [
    "final_model_path"
   ]
  },
  {
   "cell_type": "code",
   "execution_count": 8,
   "metadata": {
    "ExecuteTime": {
     "end_time": "2025-06-08T08:16:25.959653Z",
     "start_time": "2025-06-08T08:16:25.837219Z"
    }
   },
   "outputs": [
    {
     "name": "stdout",
     "output_type": "stream",
     "text": [
      "Model successfully loaded\n"
     ]
    }
   ],
   "source": [
    "final_model = build_model(configs.model, tokenizers=tech_dataset.tokenizers)\n",
    "final_model_finder = final_model_path.split(\"[MODEL]\")[-1].split(\"max_epochs\")[0]+\"max_epochs\"\n",
    "matched_ckpts = [f for f in os.listdir(model_dir) if final_model_finder in f]\n",
    "latest_ckpt_index = np.argmax([int(f.split(\"curr_ep\")[0].split(\"[\")[-1].replace(\"]\",\"\")) for f in matched_ckpts])\n",
    "final_model_path = os.path.join(model_dir, matched_ckpts[latest_ckpt_index])\n",
    "if os.path.exists(final_model_path):\n",
    "    best_states = torch.load(final_model_path, map_location=device)\n",
    "else:\n",
    "    raise Exception(\"Model need to be trained first\")\n",
    "\n",
    "has_module_prefix = any(k.startswith(\"module.\") for k in best_states.keys())\n",
    "if has_module_prefix:\n",
    "    stripped = {}\n",
    "    for k, v in best_states.items():\n",
    "        new_key = k[len(\"module.\"):] if k.startswith(\"module.\") else k\n",
    "        stripped[new_key] = v\n",
    "    best_states = stripped\n",
    "final_model.load_state_dict(best_states)\n",
    "\n",
    "del best_states\n",
    "torch.cuda.empty_cache()\n",
    "print(\"Model successfully loaded\")"
   ]
  },
  {
   "cell_type": "code",
   "execution_count": 9,
   "metadata": {
    "ExecuteTime": {
     "end_time": "2025-06-08T16:18:06.813862Z",
     "start_time": "2025-06-08T16:18:06.808290Z"
    }
   },
   "outputs": [],
   "source": [
    "global final_model"
   ]
  },
  {
   "cell_type": "code",
   "execution_count": 10,
   "metadata": {
    "ExecuteTime": {
     "end_time": "2025-06-08T08:16:33.750944Z",
     "start_time": "2025-06-08T08:16:33.746629Z"
    }
   },
   "outputs": [
    {
     "name": "stdout",
     "output_type": "stream",
     "text": [
      "Model size: 1.5M paramaters\n"
     ]
    }
   ],
   "source": [
    " if re.search(\"^1.\", torch.__version__) is not None:\n",
    "        model_size = sum(t.numel() for t in final_model.parameters())\n",
    "        print(f\"Model size: {model_size/1000**2:.1f}M paramaters\")"
   ]
  },
  {
   "cell_type": "code",
   "execution_count": 11,
   "metadata": {
    "ExecuteTime": {
     "end_time": "2025-06-08T08:17:46.284835Z",
     "start_time": "2025-06-08T08:17:08.710309Z"
    }
   },
   "outputs": [],
   "source": [
    "result_path = os.path.join(root_dir, \"results\")\n",
    "\n",
    "used_train_data = pd.read_excel(os.path.join(result_dir, \"[DATASET]\"+analysis_date+\".xlsx\"), sheet_name=\"TRAIN_dataset\")\n",
    "train_idx = tech_dataset.data.index.astype(int).get_indexer(pd.Index(used_train_data[\"patent_number\"]))\n",
    "train_dataset = Subset(tech_dataset, train_idx)\n",
    "\n",
    "used_test_data = pd.read_excel(os.path.join(result_dir, \"[DATASET]\"+analysis_date+\".xlsx\"), sheet_name=\"TEST_dataset\")\n",
    "test_idx = tech_dataset.data.index.astype(int).get_indexer(pd.Index(used_test_data[\"patent_number\"]))\n",
    "test_dataset = Subset(tech_dataset, test_idx)\n",
    "\n",
    "# used_train_data = pd.read_excel(os.path.join(result_path, \"[DATASET]\"+analysis_date+\".xlsx\"), sheet_name=\"TRAIN_dataset\")\n",
    "# used_test_data = pd.read_excel(os.path.join(result_path, \"[DATASET]\"+analysis_date+\".xlsx\"), sheet_name=\"TEST_dataset\")\n",
    "# used_train_index = tech_dataset.data.index.get_indexer(pd.Index(used_train_data[\"number\"]))\n",
    "# used_test_index = tech_dataset.data.index.get_indexer(pd.Index(used_test_data[\"number\"]))"
   ]
  },
  {
   "cell_type": "markdown",
   "metadata": {},
   "source": [
    "# Inference"
   ]
  },
  {
   "cell_type": "markdown",
   "metadata": {},
   "source": [
    "## Visualize"
   ]
  },
  {
   "cell_type": "code",
   "execution_count": 12,
   "metadata": {
    "ExecuteTime": {
     "end_time": "2025-06-08T08:17:48.461478Z",
     "start_time": "2025-06-08T08:17:46.287569Z"
    }
   },
   "outputs": [],
   "source": [
    "from sklearn.manifold import TSNE\n",
    "from matplotlib import pyplot as plt"
   ]
  },
  {
   "cell_type": "code",
   "execution_count": 21,
   "metadata": {
    "ExecuteTime": {
     "end_time": "2025-06-08T08:18:54.886806Z",
     "start_time": "2025-06-08T08:18:54.883359Z"
    }
   },
   "outputs": [],
   "source": [
    "batch_size = 128\n",
    "train_loader = DataLoader(train_dataset, batch_size=batch_size, drop_last=True)"
   ]
  },
  {
   "cell_type": "code",
   "execution_count": 22,
   "metadata": {
    "ExecuteTime": {
     "end_time": "2025-06-08T09:01:50.274414Z",
     "start_time": "2025-06-08T08:18:55.615283Z"
    },
    "scrolled": true
   },
   "outputs": [
    {
     "name": "stderr",
     "output_type": "stream",
     "text": [
      "100%|██████████| 939/939 [42:54<00:00,  2.74s/it]\n"
     ]
    }
   ],
   "source": [
    "zs, ys, preds = [], [], []\n",
    "newzs = []\n",
    "for batch_data in tqdm(train_loader):\n",
    "    batch_data = to_device(batch_data, final_model.device)\n",
    "    y = batch_data[\"targets\"].cpu().detach().numpy()\n",
    "    \n",
    "    enc_outputs, z, mu, logvar = final_model.encode(batch_data[\"text_inputs\"])\n",
    "    pred_outputs = final_model.predictor(z)\n",
    "    torch.cuda.empty_cache()\n",
    "\n",
    "    zs.append(z.cpu().detach().numpy())\n",
    "    ys.append(y)\n",
    "    preds.append(pred_outputs.argmax(1).cpu().detach().numpy())\n",
    "    \n",
    "    torch.cuda.empty_cache()\n",
    "                                                \n",
    "zs = np.concatenate(zs)\n",
    "ys = np.concatenate(ys)\n",
    "preds = np.concatenate(preds)"
   ]
  },
  {
   "cell_type": "code",
   "execution_count": 25,
   "metadata": {
    "ExecuteTime": {
     "end_time": "2025-06-09T02:19:10.242028Z",
     "start_time": "2025-06-09T02:19:10.231373Z"
    }
   },
   "outputs": [],
   "source": [
    "import datetime\n",
    "from nltk.translate.bleu_score import sentence_bleu\n",
    "col_years = [\"<1976\"] + np.arange(1976,2022).astype(str).tolist()\n",
    "# latest_year = datetime.datetime.now().year - 1\n",
    "latest_year = 2022\n",
    "n_TC = configs.data.n_TC\n",
    "\n",
    "visualize = True"
   ]
  },
  {
   "cell_type": "markdown",
   "metadata": {},
   "source": [
    "## Validation analysis"
   ]
  },
  {
   "cell_type": "code",
   "execution_count": 13,
   "metadata": {
    "ExecuteTime": {
     "end_time": "2025-06-08T17:15:15.988339Z",
     "start_time": "2025-06-08T17:15:10.808988Z"
    }
   },
   "outputs": [],
   "source": [
    "ref_config_period = \"[2006-2020]\"\n",
    "ref_data_file = \"collection_\" + \"\".join([config_keywords, config_area, ref_config_period, config_sampling_ratio]) + \".csv\"\n",
    "ref_configs = copy.deepcopy(configs)\n",
    "ref_configs.data.update({\"target_period\": ref_config_period, \"data_file\": ref_data_file})"
   ]
  },
  {
   "cell_type": "code",
   "execution_count": 14,
   "metadata": {
    "ExecuteTime": {
     "end_time": "2025-06-08T17:40:14.003254Z",
     "start_time": "2025-06-08T17:15:15.991772Z"
    },
    "scrolled": false
   },
   "outputs": [
    {
     "name": "stdout",
     "output_type": "stream",
     "text": [
      "\n",
      "\n",
      "\n",
      "Tokenizer is trained and saved\n"
     ]
    }
   ],
   "source": [
    "ref_dataset = TechDataset(ref_configs.data)"
   ]
  },
  {
   "cell_type": "code",
   "execution_count": 270,
   "metadata": {
    "ExecuteTime": {
     "end_time": "2025-06-08T17:40:15.894032Z",
     "start_time": "2025-06-08T17:40:15.884653Z"
    }
   },
   "outputs": [
    {
     "data": {
      "text/plain": [
       "<data.TechDataset at 0x7f9d04d0e370>"
      ]
     },
     "execution_count": 270,
     "metadata": {},
     "output_type": "execute_result"
    }
   ],
   "source": [
    "ref_dataset"
   ]
  },
  {
   "cell_type": "code",
   "execution_count": 100,
   "metadata": {
    "ExecuteTime": {
     "end_time": "2025-06-09T15:53:46.681334Z",
     "start_time": "2025-06-09T15:53:46.671750Z"
    }
   },
   "outputs": [
    {
     "data": {
      "text/plain": [
       "<data.TechDataset at 0x7f2844143970>"
      ]
     },
     "execution_count": 100,
     "metadata": {},
     "output_type": "execute_result"
    }
   ],
   "source": [
    "ref_dataset"
   ]
  },
  {
   "cell_type": "code",
   "execution_count": 101,
   "metadata": {
    "ExecuteTime": {
     "end_time": "2025-06-09T16:04:19.968956Z",
     "start_time": "2025-06-09T16:04:19.941003Z"
    }
   },
   "outputs": [
    {
     "data": {
      "text/plain": [
       "'/home2/glee/dissertation/1_tech_gen_impact/class2class/Tech_Gen/'"
      ]
     },
     "execution_count": 101,
     "metadata": {},
     "output_type": "execute_result"
    }
   ],
   "source": [
    "root_dir"
   ]
  },
  {
   "cell_type": "code",
   "execution_count": 103,
   "metadata": {
    "ExecuteTime": {
     "end_time": "2025-06-09T16:05:00.198185Z",
     "start_time": "2025-06-09T16:05:00.189663Z"
    }
   },
   "outputs": [],
   "source": [
    "ref_dataset_path = os.path.join(root_dir, \"data\", \"[DATASET]reference_[uspto_AI][2006-2020].pickle\")"
   ]
  },
  {
   "cell_type": "code",
   "execution_count": 104,
   "metadata": {
    "ExecuteTime": {
     "end_time": "2025-06-09T16:05:42.917355Z",
     "start_time": "2025-06-09T16:05:11.448424Z"
    }
   },
   "outputs": [],
   "source": [
    "with open(ref_dataset_path, \"wb\") as f:\n",
    "    ref_dataset.rawdata = None\n",
    "    pickle.dump(ref_dataset, f)"
   ]
  },
  {
   "cell_type": "code",
   "execution_count": null,
   "metadata": {},
   "outputs": [],
   "source": [
    "with open(dataset_path, \"rb\") as f:\n",
    "    ref_dataset = pickle.load(f)"
   ]
  },
  {
   "cell_type": "code",
   "execution_count": 15,
   "metadata": {
    "ExecuteTime": {
     "end_time": "2025-06-08T17:40:23.262067Z",
     "start_time": "2025-06-08T17:40:18.691873Z"
    }
   },
   "outputs": [],
   "source": [
    "used_rawdata = tech_dataset.rawdata.set_index(\"patent_number\")\n",
    "total_data = pd.concat([tech_dataset.data, ref_dataset.data], axis=0)\n",
    "total_rawdata = pd.concat([tech_dataset.rawdata.set_index(\"patent_number\"), ref_dataset.rawdata.set_index(\"patent_number\")], axis=0)"
   ]
  },
  {
   "cell_type": "code",
   "execution_count": 16,
   "metadata": {
    "ExecuteTime": {
     "end_time": "2025-06-08T17:41:18.938147Z",
     "start_time": "2025-06-08T17:41:18.901919Z"
    }
   },
   "outputs": [
    {
     "data": {
      "text/html": [
       "<div>\n",
       "<style scoped>\n",
       "    .dataframe tbody tr th:only-of-type {\n",
       "        vertical-align: middle;\n",
       "    }\n",
       "\n",
       "    .dataframe tbody tr th {\n",
       "        vertical-align: top;\n",
       "    }\n",
       "\n",
       "    .dataframe thead th {\n",
       "        text-align: right;\n",
       "    }\n",
       "</style>\n",
       "<table border=\"1\" class=\"dataframe\">\n",
       "  <thead>\n",
       "    <tr style=\"text-align: right;\">\n",
       "      <th></th>\n",
       "      <th>patent_number</th>\n",
       "      <th>main_class</th>\n",
       "      <th>sub_class</th>\n",
       "      <th>patent_classes</th>\n",
       "      <th>claims</th>\n",
       "      <th>TC5</th>\n",
       "      <th>TC5_digitized</th>\n",
       "      <th>class</th>\n",
       "    </tr>\n",
       "    <tr>\n",
       "      <th>patent_number</th>\n",
       "      <th></th>\n",
       "      <th></th>\n",
       "      <th></th>\n",
       "      <th></th>\n",
       "      <th></th>\n",
       "      <th></th>\n",
       "      <th></th>\n",
       "      <th></th>\n",
       "    </tr>\n",
       "  </thead>\n",
       "  <tbody>\n",
       "    <tr>\n",
       "      <th>6983309</th>\n",
       "      <td>6983309</td>\n",
       "      <td>[G06Q010, H04L063, H04L063, G06Q020, G06Q020, ...</td>\n",
       "      <td>[Y10S707, Y10S707, H04L051]</td>\n",
       "      <td>[G06Q010, H04L063, H04L063, G06Q020, G06Q020, ...</td>\n",
       "      <td>1. An electronic apparatus comprising: a trans...</td>\n",
       "      <td>8</td>\n",
       "      <td>0</td>\n",
       "      <td>1939</td>\n",
       "    </tr>\n",
       "    <tr>\n",
       "      <th>6982420</th>\n",
       "      <td>6982420</td>\n",
       "      <td>[H01J037, G06V020]</td>\n",
       "      <td>[]</td>\n",
       "      <td>[H01J037, G06V020]</td>\n",
       "      <td>1. A sample observation method comprising a st...</td>\n",
       "      <td>1</td>\n",
       "      <td>0</td>\n",
       "      <td>2157</td>\n",
       "    </tr>\n",
       "    <tr>\n",
       "      <th>6983071</th>\n",
       "      <td>6983071</td>\n",
       "      <td>[G06V030, G06V030, G06V010, G06V010]</td>\n",
       "      <td>[G06V030]</td>\n",
       "      <td>[G06V030, G06V030, G06V010, G06V010, G06V030]</td>\n",
       "      <td>1. A character segmentation device for removin...</td>\n",
       "      <td>0</td>\n",
       "      <td>0</td>\n",
       "      <td>1958</td>\n",
       "    </tr>\n",
       "    <tr>\n",
       "      <th>6982717</th>\n",
       "      <td>6982717</td>\n",
       "      <td>[G06T005]</td>\n",
       "      <td>[]</td>\n",
       "      <td>[G06T005]</td>\n",
       "      <td>1. A game apparatus comprising: an image gener...</td>\n",
       "      <td>0</td>\n",
       "      <td>0</td>\n",
       "      <td>1948</td>\n",
       "    </tr>\n",
       "    <tr>\n",
       "      <th>6983073</th>\n",
       "      <td>6983073</td>\n",
       "      <td>[G06T005, G06T005, G06T005]</td>\n",
       "      <td>[]</td>\n",
       "      <td>[G06T005, G06T005, G06T005]</td>\n",
       "      <td>1. A method for recovering an image defined as...</td>\n",
       "      <td>1</td>\n",
       "      <td>0</td>\n",
       "      <td>1948</td>\n",
       "    </tr>\n",
       "    <tr>\n",
       "      <th>...</th>\n",
       "      <td>...</td>\n",
       "      <td>...</td>\n",
       "      <td>...</td>\n",
       "      <td>...</td>\n",
       "      <td>...</td>\n",
       "      <td>...</td>\n",
       "      <td>...</td>\n",
       "      <td>...</td>\n",
       "    </tr>\n",
       "    <tr>\n",
       "      <th>10521802</th>\n",
       "      <td>10521802</td>\n",
       "      <td>[G06Q050, G06Q010, G06F040, G06F040, G06Q030, ...</td>\n",
       "      <td>[G06F016]</td>\n",
       "      <td>[G06Q050, G06Q010, G06F040, G06F040, G06Q030, ...</td>\n",
       "      <td>1. A computer-implemented method for reporting...</td>\n",
       "      <td>2</td>\n",
       "      <td>0</td>\n",
       "      <td>2539</td>\n",
       "    </tr>\n",
       "    <tr>\n",
       "      <th>10517556</th>\n",
       "      <td>10517556</td>\n",
       "      <td>[A61B006, A61B006, A61B006, A61B006, A61B006, ...</td>\n",
       "      <td>[G01R033, A61B005, G01R033, G01R033, A61B005, ...</td>\n",
       "      <td>[A61B006, A61B006, A61B006, A61B006, A61B006, ...</td>\n",
       "      <td>1. A computer-implemented method for increasin...</td>\n",
       "      <td>0</td>\n",
       "      <td>0</td>\n",
       "      <td>240</td>\n",
       "    </tr>\n",
       "    <tr>\n",
       "      <th>10523658</th>\n",
       "      <td>10523658</td>\n",
       "      <td>[H04L009, H04L009, H04L063, H04L067, H04L063, ...</td>\n",
       "      <td>[]</td>\n",
       "      <td>[H04L009, H04L009, H04L063, H04L067, H04L063, ...</td>\n",
       "      <td>1. A method comprising: establishing a first s...</td>\n",
       "      <td>0</td>\n",
       "      <td>0</td>\n",
       "      <td>2983</td>\n",
       "    </tr>\n",
       "    <tr>\n",
       "      <th>10523420</th>\n",
       "      <td>10523420</td>\n",
       "      <td>[H04L009, H04L009, H04L009, H04B010, H04B010]</td>\n",
       "      <td>[]</td>\n",
       "      <td>[H04L009, H04L009, H04L009, H04B010, H04B010]</td>\n",
       "      <td>1. An apparatus, comprising: a memory to store...</td>\n",
       "      <td>11</td>\n",
       "      <td>1</td>\n",
       "      <td>2983</td>\n",
       "    </tr>\n",
       "    <tr>\n",
       "      <th>10523929</th>\n",
       "      <td>10523929</td>\n",
       "      <td>[G06T017, H04N013, G06T007, G06T015, H04N021, ...</td>\n",
       "      <td>[H04N013, H04N013]</td>\n",
       "      <td>[G06T017, H04N013, G06T007, G06T015, H04N021, ...</td>\n",
       "      <td>1. A system comprising: a non-transitory memor...</td>\n",
       "      <td>0</td>\n",
       "      <td>0</td>\n",
       "      <td>2550</td>\n",
       "    </tr>\n",
       "  </tbody>\n",
       "</table>\n",
       "<p>392404 rows × 8 columns</p>\n",
       "</div>"
      ],
      "text/plain": [
       "               patent_number  \\\n",
       "patent_number                  \n",
       "6983309              6983309   \n",
       "6982420              6982420   \n",
       "6983071              6983071   \n",
       "6982717              6982717   \n",
       "6983073              6983073   \n",
       "...                      ...   \n",
       "10521802            10521802   \n",
       "10517556            10517556   \n",
       "10523658            10523658   \n",
       "10523420            10523420   \n",
       "10523929            10523929   \n",
       "\n",
       "                                                      main_class  \\\n",
       "patent_number                                                      \n",
       "6983309        [G06Q010, H04L063, H04L063, G06Q020, G06Q020, ...   \n",
       "6982420                                       [H01J037, G06V020]   \n",
       "6983071                     [G06V030, G06V030, G06V010, G06V010]   \n",
       "6982717                                                [G06T005]   \n",
       "6983073                              [G06T005, G06T005, G06T005]   \n",
       "...                                                          ...   \n",
       "10521802       [G06Q050, G06Q010, G06F040, G06F040, G06Q030, ...   \n",
       "10517556       [A61B006, A61B006, A61B006, A61B006, A61B006, ...   \n",
       "10523658       [H04L009, H04L009, H04L063, H04L067, H04L063, ...   \n",
       "10523420           [H04L009, H04L009, H04L009, H04B010, H04B010]   \n",
       "10523929       [G06T017, H04N013, G06T007, G06T015, H04N021, ...   \n",
       "\n",
       "                                                       sub_class  \\\n",
       "patent_number                                                      \n",
       "6983309                              [Y10S707, Y10S707, H04L051]   \n",
       "6982420                                                       []   \n",
       "6983071                                                [G06V030]   \n",
       "6982717                                                       []   \n",
       "6983073                                                       []   \n",
       "...                                                          ...   \n",
       "10521802                                               [G06F016]   \n",
       "10517556       [G01R033, A61B005, G01R033, G01R033, A61B005, ...   \n",
       "10523658                                                      []   \n",
       "10523420                                                      []   \n",
       "10523929                                      [H04N013, H04N013]   \n",
       "\n",
       "                                                  patent_classes  \\\n",
       "patent_number                                                      \n",
       "6983309        [G06Q010, H04L063, H04L063, G06Q020, G06Q020, ...   \n",
       "6982420                                       [H01J037, G06V020]   \n",
       "6983071            [G06V030, G06V030, G06V010, G06V010, G06V030]   \n",
       "6982717                                                [G06T005]   \n",
       "6983073                              [G06T005, G06T005, G06T005]   \n",
       "...                                                          ...   \n",
       "10521802       [G06Q050, G06Q010, G06F040, G06F040, G06Q030, ...   \n",
       "10517556       [A61B006, A61B006, A61B006, A61B006, A61B006, ...   \n",
       "10523658       [H04L009, H04L009, H04L063, H04L067, H04L063, ...   \n",
       "10523420           [H04L009, H04L009, H04L009, H04B010, H04B010]   \n",
       "10523929       [G06T017, H04N013, G06T007, G06T015, H04N021, ...   \n",
       "\n",
       "                                                          claims  TC5  \\\n",
       "patent_number                                                           \n",
       "6983309        1. An electronic apparatus comprising: a trans...    8   \n",
       "6982420        1. A sample observation method comprising a st...    1   \n",
       "6983071        1. A character segmentation device for removin...    0   \n",
       "6982717        1. A game apparatus comprising: an image gener...    0   \n",
       "6983073        1. A method for recovering an image defined as...    1   \n",
       "...                                                          ...  ...   \n",
       "10521802       1. A computer-implemented method for reporting...    2   \n",
       "10517556       1. A computer-implemented method for increasin...    0   \n",
       "10523658       1. A method comprising: establishing a first s...    0   \n",
       "10523420       1. An apparatus, comprising: a memory to store...   11   \n",
       "10523929       1. A system comprising: a non-transitory memor...    0   \n",
       "\n",
       "               TC5_digitized  class  \n",
       "patent_number                        \n",
       "6983309                    0   1939  \n",
       "6982420                    0   2157  \n",
       "6983071                    0   1958  \n",
       "6982717                    0   1948  \n",
       "6983073                    0   1948  \n",
       "...                      ...    ...  \n",
       "10521802                   0   2539  \n",
       "10517556                   0    240  \n",
       "10523658                   0   2983  \n",
       "10523420                   1   2983  \n",
       "10523929                   0   2550  \n",
       "\n",
       "[392404 rows x 8 columns]"
      ]
     },
     "execution_count": 16,
     "metadata": {},
     "output_type": "execute_result"
    }
   ],
   "source": [
    "total_data"
   ]
  },
  {
   "cell_type": "markdown",
   "metadata": {},
   "source": [
    "- Used dataset"
   ]
  },
  {
   "cell_type": "code",
   "execution_count": 18,
   "metadata": {
    "ExecuteTime": {
     "end_time": "2025-04-21T13:37:04.013723Z",
     "start_time": "2025-04-21T13:37:04.007407Z"
    }
   },
   "outputs": [],
   "source": [
    "L1_criterion = tech_dataset.data[\"TC5\"].quantile(0.9)"
   ]
  },
  {
   "cell_type": "code",
   "execution_count": 17,
   "metadata": {
    "ExecuteTime": {
     "end_time": "2025-06-08T16:25:37.426721Z",
     "start_time": "2025-06-08T16:25:37.387920Z"
    }
   },
   "outputs": [],
   "source": [
    "# used_test_data_TC = used_test_data[(used_test_data[\"TC5\"]>0) & (used_test_data[\"TC5\"]<L1_criterion)].reset_index()\n",
    "used_test_data_TC = used_test_data[used_test_data[\"TC5\"]!=0].reset_index()\n",
    "used_test_index_TC = tech_dataset.data.index.get_indexer(pd.Index(used_test_data_TC[\"patent_number\"].astype(str)))"
   ]
  },
  {
   "cell_type": "code",
   "execution_count": 28,
   "metadata": {
    "ExecuteTime": {
     "end_time": "2025-06-09T02:20:18.790586Z",
     "start_time": "2025-06-09T02:20:18.781713Z"
    }
   },
   "outputs": [],
   "source": [
    "def breakdown(ipcs):\n",
    "    return ([ipc[0] for ipc in ipcs], [ipc[:3] for ipc in ipcs], [ipc[:4] for ipc in ipcs], ipcs)"
   ]
  },
  {
   "cell_type": "code",
   "execution_count": 26,
   "metadata": {
    "ExecuteTime": {
     "end_time": "2025-06-09T02:19:21.958101Z",
     "start_time": "2025-06-09T02:19:21.889189Z"
    }
   },
   "outputs": [],
   "source": [
    "def validate_reliability(model=None, idx=None, L1_threshold=0.5, n_iter=30, step_size=40):\n",
    "    cnt_nonexist = 0\n",
    "    cnt_noFC = 0\n",
    "    cnt_diverge = 0\n",
    "    cnt_same_ipcs = 0\n",
    "    cnt_diff_ipcs = 0\n",
    "    \n",
    "    input_class = torch.tensor(tech_dataset.tokenizers[\"class_enc\"].encode(tech_dataset.X_class[used_test_index_TC][idx])).unsqueeze(0)\n",
    "    input_claim = tech_dataset.tokenize(tech_dataset.tokenizers[\"claim_enc\"], tech_dataset.X_claim[used_test_index_TC][idx])\n",
    "    input_claim = {k: v.unsqueeze(0) for k, v in input_claim.items()}\n",
    "    batch_input = {\"class\": torch.tensor(input_class), \"claim\": input_claim}\n",
    "    input_inf = to_device(batch_input, model.device)\n",
    "\n",
    "    output_class = torch.tensor(tech_dataset.tokenizers[\"class_dec\"].encode(tech_dataset.X_class[used_test_index_TC][idx])).unsqueeze(0)\n",
    "    batch_output = {\"text_outputs\": torch.tensor(output_class)}\n",
    "    output_inf = to_device(batch_output, model.device)\n",
    "\n",
    "    enc_outputs, z, mu, logvar = model.encode(input_inf)\n",
    "    org_z = copy.deepcopy(z.view(1,-1).cpu().detach().numpy())\n",
    "    pred_outputs = model.predict(z)\n",
    "    org_y = copy.deepcopy(pred_outputs.argmax(1).cpu().detach().numpy())\n",
    "    dec_inputs = None\n",
    "\n",
    "    if used_test_data_TC.iloc[idx][\"TC5\"] > 0:\n",
    "        forward_refs = used_rawdata.loc[used_test_data_TC.iloc[idx][\"patent_number\"]][\"forward_refs\"].split(\";\")\n",
    "        ref_info = total_data.loc[[ref for ref in forward_refs if ref in total_data.index]]\n",
    "        if len(ref_info) == 0:\n",
    "            cnt_nonexist += 1\n",
    "            return (cnt_nonexist, cnt_noFC, cnt_diverge, cnt_same_ipcs, cnt_diff_ipcs), None\n",
    "        else:\n",
    "            ref_ipcs = ref_info[\"patent_classes\"].apply(lambda x: set(x))\n",
    "            ref_FCs = ref_info[\"TC\"+str(n_TC)]\n",
    "\n",
    "            tokenizer = tech_dataset.tokenizers[\"class_dec\"]\n",
    "            \n",
    "            org_text = tokenizer.decode_batch(input_class.cpu().detach().numpy())[0]\n",
    "            org_text = org_text[org_text.index(tokenizer.sos_token)+1:org_text.index(tokenizer.eos_token)]\n",
    "            if set(org_text)==set(np.concatenate(ref_ipcs.apply(lambda x: list(x)).values)):\n",
    "                cnt_same_ipcs += 1\n",
    "\n",
    "            inclusions = [None, None, None, None]\n",
    "            higher_impacts = [None, None, None, None]\n",
    "            similar_refs_out = [None, None, None, None]\n",
    "            unsimilar_refs_out = [None, None, None, None]\n",
    "            optimised = False\n",
    "            for i in range(n_iter):\n",
    "                pred_outputs = model.predict(z)\n",
    "                z.retain_grad()\n",
    "                FC_estimated = np.round(np.exp(pred_outputs[0,1].item()), 4) # estimated forward citations\n",
    "                FC_estimated_inv = np.round(np.exp(pred_outputs[0,0].item()), 4)\n",
    "                \n",
    "                L1_error = (1-torch.exp(pred_outputs[0,1]))\n",
    "                L1_error.backward(retain_graph=True)\n",
    "\n",
    "                grad_for_update = (step_size * z.grad)\n",
    "                z_ = z - grad_for_update\n",
    "\n",
    "                z.grad.zero_()\n",
    "                dec_outputs = model.decode(z_, enc_outputs, dec_inputs=None)\n",
    "                dec_outputs = dec_outputs.argmax(-1)\n",
    "\n",
    "                tokenizer = tech_dataset.tokenizers[\"class_dec\"]\n",
    "                gen_text = tokenizer.decode_batch(dec_outputs.cpu().detach().numpy())[0]\n",
    "                if tokenizer.eos_token in gen_text:\n",
    "                    gen_text = gen_text[gen_text.index(tokenizer.sos_token)+1:gen_text.index(tokenizer.eos_token)]\n",
    "                else:\n",
    "                    gen_text = gen_text[gen_text.index(tokenizer.sos_token)+1:]\n",
    "                if gen_text != []:\n",
    "                    gen_text = [gen_text[0]] + list(np.array(gen_text[1:])[np.unique(gen_text[1:], return_index=True)[1]])                \n",
    "                    gen_text = set(gen_text)\n",
    "                else: continue\n",
    "                \n",
    "                if FC_estimated>=L1_threshold:\n",
    "                    optimised = True\n",
    "    \n",
    "                    gen_text_breakdown = breakdown(gen_text)\n",
    "                    ref_ipcs_breakdown = (ref_ipcs.apply(lambda x: breakdown(x)[0]), ref_ipcs.apply(lambda x: breakdown(x)[1]), ref_ipcs.apply(lambda x: breakdown(x)[2]), ref_ipcs)\n",
    "            \n",
    "                    for i in range(4):\n",
    "                        if inclusions[i] is not None: continue\n",
    "                        temp_gen_text = gen_text_breakdown[i]\n",
    "                        temp_ref_ipcs = ref_ipcs_breakdown[i]\n",
    "                    \n",
    "                        hit_index = temp_ref_ipcs.apply(lambda x: 1 if set(x)==set(temp_gen_text) else 0)==1\n",
    "                        similar_refs = temp_ref_ipcs[hit_index].index\n",
    "                        similar_refs_out[i] = similar_refs\n",
    "                        unsimilar_refs = temp_ref_ipcs[~hit_index].index\n",
    "                        unsimilar_refs_out[i] = unsimilar_refs\n",
    "                        if len(similar_refs) == 0:\n",
    "                            inclusions[i] = 0\n",
    "                            higher_impacts[i] = None\n",
    "                        elif len(unsimilar_refs) == 0:\n",
    "                            inclusions[i] = 1\n",
    "                            similar_mean_FC = np.mean(ref_FCs.loc[similar_refs])\n",
    "                            if similar_mean_FC <= 0:\n",
    "                                higher_impacts[i] = 0\n",
    "                            else:\n",
    "                                higher_impacts[i] = 1\n",
    "                        else:\n",
    "                            inclusions[i] = 1\n",
    "                            similar_mean_FC = np.mean(ref_FCs.loc[similar_refs])\n",
    "                            unsimilar_mean_FC = np.mean(ref_FCs.loc[unsimilar_refs])\n",
    "                            if similar_mean_FC >= unsimilar_mean_FC:\n",
    "                                if similar_mean_FC <= 0:\n",
    "                                    higher_impacts[i] = None\n",
    "                                else:\n",
    "                                    higher_impacts[i] = 1\n",
    "                            else:\n",
    "                                higher_impacts[i] = 0\n",
    "                    if None not in inclusions:\n",
    "                        break\n",
    "                z = z_\n",
    "                \n",
    "            if optimised:\n",
    "                cnt_diff_ipcs += 1\n",
    "                return (cnt_nonexist, cnt_noFC, cnt_diverge, cnt_same_ipcs, cnt_diff_ipcs), {\"index\": idx, \"patent_id\": used_test_data_TC.iloc[idx][\"patent_number\"], \n",
    "                         \"org_text\": org_text, \"gen_text\": gen_text, \"ref_ipcs\": ref_ipcs, \"ref_FCs\": ref_FCs,\n",
    "                         \"inclusions\": inclusions, \"higher_impacts\": higher_impacts, \n",
    "                         \"FC_estimated\": FC_estimated,\n",
    "                         \"similar_refs\": similar_refs_out, \"unsimilar_refs\": unsimilar_refs_out}\n",
    "            else:\n",
    "                cnt_diverge += 1\n",
    "                return (cnt_nonexist, cnt_noFC, cnt_diverge, cnt_same_ipcs, cnt_diff_ipcs), None\n",
    "    else:\n",
    "        pass\n",
    "        cnt_noFC += 1\n",
    "        return (cnt_nonexist, cnt_noFC, cnt_diverge, cnt_same_ipcs, cnt_diff_ipcs), None"
   ]
  },
  {
   "cell_type": "code",
   "execution_count": 290,
   "metadata": {
    "ExecuteTime": {
     "end_time": "2025-06-08T19:18:23.253706Z",
     "start_time": "2025-06-08T19:18:23.145483Z"
    }
   },
   "outputs": [],
   "source": [
    "# Temporary testing\n",
    "idx = 0\n",
    "\n",
    "cnt_nonexist = 0\n",
    "cnt_noFC = 0\n",
    "cnt_diverge = 0\n",
    "cnt_same_ipcs = 0\n",
    "cnt_diff_ipcs = 0\n",
    "\n",
    "input_class = torch.tensor(tech_dataset.tokenizers[\"class_enc\"].encode(tech_dataset.X_class[used_test_index_TC][idx])).unsqueeze(0)\n",
    "input_claim = tech_dataset.tokenize(tech_dataset.tokenizers[\"claim_enc\"], tech_dataset.X_claim[used_test_index_TC][idx])\n",
    "input_claim = {k: v.unsqueeze(0) for k, v in input_claim.items()}\n",
    "batch_input = {\"class\": torch.tensor(input_class), \"claim\": input_claim}\n",
    "input_inf = to_device(batch_input, model.device)\n",
    "\n",
    "output_class = torch.tensor(tech_dataset.tokenizers[\"class_dec\"].encode(tech_dataset.X_class[used_test_index_TC][idx])).unsqueeze(0)\n",
    "batch_output = {\"text_outputs\": torch.tensor(output_class)}\n",
    "output_inf = to_device(batch_output, model.device)\n",
    "\n",
    "enc_outputs, z, mu, logvar = model.encode(input_inf)\n",
    "org_z = copy.deepcopy(z.view(1,-1).cpu().detach().numpy())\n",
    "pred_outputs = model.predict(z)\n",
    "org_y = copy.deepcopy(pred_outputs.argmax(1).cpu().detach().numpy())\n",
    "dec_inputs = None\n"
   ]
  },
  {
   "cell_type": "code",
   "execution_count": 303,
   "metadata": {
    "ExecuteTime": {
     "end_time": "2025-06-08T19:21:02.889249Z",
     "start_time": "2025-06-08T19:21:02.876063Z"
    }
   },
   "outputs": [
    {
     "data": {
      "text/plain": [
       "index                                                              0\n",
       "patent_number                                                8423759\n",
       "patent_number.1                                              8423759\n",
       "main_class         ['H04L009', 'H04L063', 'H04L009', 'H04L009', '...\n",
       "sub_class                                                         []\n",
       "patent_classes     ['H04L009', 'H04L063', 'H04L009', 'H04L009', '...\n",
       "claims             1. A method of bootstrapping configuration for...\n",
       "TC5                                                               39\n",
       "TC5_digitized                                                      1\n",
       "class                                                           2335\n",
       "Name: 0, dtype: object"
      ]
     },
     "execution_count": 303,
     "metadata": {},
     "output_type": "execute_result"
    }
   ],
   "source": [
    "used_test_data_TC.iloc[idx]"
   ]
  },
  {
   "cell_type": "code",
   "execution_count": 291,
   "metadata": {
    "ExecuteTime": {
     "end_time": "2025-06-08T19:18:41.214520Z",
     "start_time": "2025-06-08T19:18:41.201601Z"
    }
   },
   "outputs": [
    {
     "data": {
      "text/plain": [
       "39"
      ]
     },
     "execution_count": 291,
     "metadata": {},
     "output_type": "execute_result"
    }
   ],
   "source": [
    "used_test_data_TC.iloc[idx][\"TC5\"]"
   ]
  },
  {
   "cell_type": "code",
   "execution_count": 292,
   "metadata": {
    "ExecuteTime": {
     "end_time": "2025-06-08T19:18:57.182747Z",
     "start_time": "2025-06-08T19:18:57.136469Z"
    }
   },
   "outputs": [],
   "source": [
    "forward_refs = used_rawdata.loc[used_test_data_TC.iloc[idx][\"patent_number\"]][\"forward_refs\"].split(\";\")\n",
    "ref_info = total_data.loc[[ref for ref in forward_refs if ref in total_data.index]]"
   ]
  },
  {
   "cell_type": "code",
   "execution_count": 299,
   "metadata": {
    "ExecuteTime": {
     "end_time": "2025-06-08T19:19:34.541272Z",
     "start_time": "2025-06-08T19:19:34.506515Z"
    },
    "scrolled": true
   },
   "outputs": [
    {
     "data": {
      "text/html": [
       "<div>\n",
       "<style scoped>\n",
       "    .dataframe tbody tr th:only-of-type {\n",
       "        vertical-align: middle;\n",
       "    }\n",
       "\n",
       "    .dataframe tbody tr th {\n",
       "        vertical-align: top;\n",
       "    }\n",
       "\n",
       "    .dataframe thead th {\n",
       "        text-align: right;\n",
       "    }\n",
       "</style>\n",
       "<table border=\"1\" class=\"dataframe\">\n",
       "  <thead>\n",
       "    <tr style=\"text-align: right;\">\n",
       "      <th></th>\n",
       "      <th>patent_number</th>\n",
       "      <th>main_class</th>\n",
       "      <th>sub_class</th>\n",
       "      <th>patent_classes</th>\n",
       "      <th>claims</th>\n",
       "      <th>TC5</th>\n",
       "      <th>TC5_digitized</th>\n",
       "      <th>class</th>\n",
       "    </tr>\n",
       "    <tr>\n",
       "      <th>patent_number</th>\n",
       "      <th></th>\n",
       "      <th></th>\n",
       "      <th></th>\n",
       "      <th></th>\n",
       "      <th></th>\n",
       "      <th></th>\n",
       "      <th></th>\n",
       "      <th></th>\n",
       "    </tr>\n",
       "  </thead>\n",
       "  <tbody>\n",
       "    <tr>\n",
       "      <th>9954866</th>\n",
       "      <td>9954866</td>\n",
       "      <td>[H04L009, H04L009, H04L009, H04L063, H04L063, ...</td>\n",
       "      <td>[H04L009, H04L009]</td>\n",
       "      <td>[H04L009, H04L009, H04L009, H04L063, H04L063, ...</td>\n",
       "      <td>1. A computer-implemented method, comprising: ...</td>\n",
       "      <td>2</td>\n",
       "      <td>0</td>\n",
       "      <td>2983</td>\n",
       "    </tr>\n",
       "    <tr>\n",
       "      <th>9215076</th>\n",
       "      <td>9215076</td>\n",
       "      <td>[H04L009, H04L063, H04L009, H04L009, H04L063, ...</td>\n",
       "      <td>[H04L009]</td>\n",
       "      <td>[H04L009, H04L063, H04L009, H04L009, H04L063, ...</td>\n",
       "      <td>1. A computer-implemented method, comprising: ...</td>\n",
       "      <td>85</td>\n",
       "      <td>1</td>\n",
       "      <td>2335</td>\n",
       "    </tr>\n",
       "    <tr>\n",
       "      <th>9215076</th>\n",
       "      <td>9215076</td>\n",
       "      <td>[H04L009, H04L063, H04L009, H04L009, H04L063, ...</td>\n",
       "      <td>[H04L009]</td>\n",
       "      <td>[H04L009, H04L063, H04L009, H04L009, H04L063, ...</td>\n",
       "      <td>1. A computer-implemented method, comprising: ...</td>\n",
       "      <td>85</td>\n",
       "      <td>1</td>\n",
       "      <td>2983</td>\n",
       "    </tr>\n",
       "    <tr>\n",
       "      <th>9819654</th>\n",
       "      <td>9819654</td>\n",
       "      <td>[H04L067, H04L063, H04L063, H04L063, H04L063, ...</td>\n",
       "      <td>[H04L063]</td>\n",
       "      <td>[H04L067, H04L063, H04L063, H04L063, H04L063, ...</td>\n",
       "      <td>1. A system, comprising: one or more processor...</td>\n",
       "      <td>2</td>\n",
       "      <td>0</td>\n",
       "      <td>2998</td>\n",
       "    </tr>\n",
       "    <tr>\n",
       "      <th>9882900</th>\n",
       "      <td>9882900</td>\n",
       "      <td>[H04L063, H04L009, H04L009, H04L009, H04L063, ...</td>\n",
       "      <td>[H04L009]</td>\n",
       "      <td>[H04L063, H04L009, H04L009, H04L009, H04L063, ...</td>\n",
       "      <td>1. A computer-implemented method, comprising: ...</td>\n",
       "      <td>0</td>\n",
       "      <td>0</td>\n",
       "      <td>2996</td>\n",
       "    </tr>\n",
       "    <tr>\n",
       "      <th>9420007</th>\n",
       "      <td>9420007</td>\n",
       "      <td>[H04L063, H04L009, H04L063, H04L063, G06F021, ...</td>\n",
       "      <td>[H04L063, G06F021]</td>\n",
       "      <td>[H04L063, H04L009, H04L063, H04L063, G06F021, ...</td>\n",
       "      <td>1. A system of a virtual computing resource se...</td>\n",
       "      <td>2</td>\n",
       "      <td>0</td>\n",
       "      <td>2996</td>\n",
       "    </tr>\n",
       "    <tr>\n",
       "      <th>9197409</th>\n",
       "      <td>9197409</td>\n",
       "      <td>[H04L009, H04L009, G06F021, H04L009, H04L009, ...</td>\n",
       "      <td>[H04L063, H04L063, H04L009]</td>\n",
       "      <td>[H04L009, H04L009, G06F021, H04L009, H04L009, ...</td>\n",
       "      <td>1. A computer-implemented method of authentica...</td>\n",
       "      <td>2</td>\n",
       "      <td>0</td>\n",
       "      <td>2335</td>\n",
       "    </tr>\n",
       "    <tr>\n",
       "      <th>9197409</th>\n",
       "      <td>9197409</td>\n",
       "      <td>[H04L009, H04L009, G06F021, H04L009, H04L009, ...</td>\n",
       "      <td>[H04L063, H04L063, H04L009]</td>\n",
       "      <td>[H04L009, H04L009, G06F021, H04L009, H04L009, ...</td>\n",
       "      <td>1. A computer-implemented method of authentica...</td>\n",
       "      <td>2</td>\n",
       "      <td>0</td>\n",
       "      <td>2983</td>\n",
       "    </tr>\n",
       "    <tr>\n",
       "      <th>9311500</th>\n",
       "      <td>9311500</td>\n",
       "      <td>[G06F021, H04L009, H04L009, G06F021, H04L063, ...</td>\n",
       "      <td>[H04L009, H04L009, H04L009]</td>\n",
       "      <td>[G06F021, H04L009, H04L009, G06F021, H04L063, ...</td>\n",
       "      <td>1. A computer-implemented method, comprising: ...</td>\n",
       "      <td>4</td>\n",
       "      <td>0</td>\n",
       "      <td>2513</td>\n",
       "    </tr>\n",
       "    <tr>\n",
       "      <th>10356062</th>\n",
       "      <td>10356062</td>\n",
       "      <td>[H04L063, H04L063, G06F021, H04L009, H04L063, ...</td>\n",
       "      <td>[H04L009]</td>\n",
       "      <td>[H04L063, H04L063, G06F021, H04L009, H04L063, ...</td>\n",
       "      <td>1. A computer-implemented method, comprising: ...</td>\n",
       "      <td>0</td>\n",
       "      <td>0</td>\n",
       "      <td>2996</td>\n",
       "    </tr>\n",
       "    <tr>\n",
       "      <th>9906564</th>\n",
       "      <td>9906564</td>\n",
       "      <td>[H04L063, H04L063, H04L063, H04L009, G06F021, ...</td>\n",
       "      <td>[H04L063, G06F021]</td>\n",
       "      <td>[H04L063, H04L063, H04L063, H04L009, G06F021, ...</td>\n",
       "      <td>1. A system, comprising: memory to store instr...</td>\n",
       "      <td>0</td>\n",
       "      <td>0</td>\n",
       "      <td>2996</td>\n",
       "    </tr>\n",
       "    <tr>\n",
       "      <th>10375067</th>\n",
       "      <td>10375067</td>\n",
       "      <td>[H04L009, H04L063, H04L063, H04L063, H04L009, ...</td>\n",
       "      <td>[H04L009]</td>\n",
       "      <td>[H04L009, H04L063, H04L063, H04L063, H04L009, ...</td>\n",
       "      <td>1. A non-transitory computer-readable storage ...</td>\n",
       "      <td>0</td>\n",
       "      <td>0</td>\n",
       "      <td>2983</td>\n",
       "    </tr>\n",
       "    <tr>\n",
       "      <th>10044503</th>\n",
       "      <td>10044503</td>\n",
       "      <td>[H04L009, H04L063, H04L009, G06F021, H04L009]</td>\n",
       "      <td>[]</td>\n",
       "      <td>[H04L009, H04L063, H04L009, G06F021, H04L009]</td>\n",
       "      <td>1. A computer-implemented method, comprising: ...</td>\n",
       "      <td>5</td>\n",
       "      <td>0</td>\n",
       "      <td>2983</td>\n",
       "    </tr>\n",
       "    <tr>\n",
       "      <th>9292711</th>\n",
       "      <td>9292711</td>\n",
       "      <td>[G06F012, G06F021, H04L063, G06F021, G06F021, ...</td>\n",
       "      <td>[]</td>\n",
       "      <td>[G06F012, G06F021, H04L063, G06F021, G06F021, ...</td>\n",
       "      <td>1. A computer-implemented method, comprising: ...</td>\n",
       "      <td>2</td>\n",
       "      <td>0</td>\n",
       "      <td>2506</td>\n",
       "    </tr>\n",
       "    <tr>\n",
       "      <th>10412059</th>\n",
       "      <td>10412059</td>\n",
       "      <td>[H04L009, H04L063, H04L063, H04L063, H04L009, ...</td>\n",
       "      <td>[H04L063]</td>\n",
       "      <td>[H04L009, H04L063, H04L063, H04L063, H04L009, ...</td>\n",
       "      <td>1. A method, comprising: receiving a request f...</td>\n",
       "      <td>0</td>\n",
       "      <td>0</td>\n",
       "      <td>2983</td>\n",
       "    </tr>\n",
       "    <tr>\n",
       "      <th>9258117</th>\n",
       "      <td>9258117</td>\n",
       "      <td>[H04L063, H04L009, H04L063, H04L009, H04L009, ...</td>\n",
       "      <td>[H04L009]</td>\n",
       "      <td>[H04L063, H04L009, H04L063, H04L009, H04L009, ...</td>\n",
       "      <td>1. A computer-implemented method, comprising: ...</td>\n",
       "      <td>22</td>\n",
       "      <td>1</td>\n",
       "      <td>2996</td>\n",
       "    </tr>\n",
       "    <tr>\n",
       "      <th>9237019</th>\n",
       "      <td>9237019</td>\n",
       "      <td>[H04L009, H04L063, H04L067, H04L063, H04L063, ...</td>\n",
       "      <td>[H04L063]</td>\n",
       "      <td>[H04L009, H04L063, H04L067, H04L063, H04L063, ...</td>\n",
       "      <td>1. A computer-implemented method, comprising: ...</td>\n",
       "      <td>3</td>\n",
       "      <td>0</td>\n",
       "      <td>2983</td>\n",
       "    </tr>\n",
       "  </tbody>\n",
       "</table>\n",
       "</div>"
      ],
      "text/plain": [
       "               patent_number  \\\n",
       "patent_number                  \n",
       "9954866              9954866   \n",
       "9215076              9215076   \n",
       "9215076              9215076   \n",
       "9819654              9819654   \n",
       "9882900              9882900   \n",
       "9420007              9420007   \n",
       "9197409              9197409   \n",
       "9197409              9197409   \n",
       "9311500              9311500   \n",
       "10356062            10356062   \n",
       "9906564              9906564   \n",
       "10375067            10375067   \n",
       "10044503            10044503   \n",
       "9292711              9292711   \n",
       "10412059            10412059   \n",
       "9258117              9258117   \n",
       "9237019              9237019   \n",
       "\n",
       "                                                      main_class  \\\n",
       "patent_number                                                      \n",
       "9954866        [H04L009, H04L009, H04L009, H04L063, H04L063, ...   \n",
       "9215076        [H04L009, H04L063, H04L009, H04L009, H04L063, ...   \n",
       "9215076        [H04L009, H04L063, H04L009, H04L009, H04L063, ...   \n",
       "9819654        [H04L067, H04L063, H04L063, H04L063, H04L063, ...   \n",
       "9882900        [H04L063, H04L009, H04L009, H04L009, H04L063, ...   \n",
       "9420007        [H04L063, H04L009, H04L063, H04L063, G06F021, ...   \n",
       "9197409        [H04L009, H04L009, G06F021, H04L009, H04L009, ...   \n",
       "9197409        [H04L009, H04L009, G06F021, H04L009, H04L009, ...   \n",
       "9311500        [G06F021, H04L009, H04L009, G06F021, H04L063, ...   \n",
       "10356062       [H04L063, H04L063, G06F021, H04L009, H04L063, ...   \n",
       "9906564        [H04L063, H04L063, H04L063, H04L009, G06F021, ...   \n",
       "10375067       [H04L009, H04L063, H04L063, H04L063, H04L009, ...   \n",
       "10044503           [H04L009, H04L063, H04L009, G06F021, H04L009]   \n",
       "9292711        [G06F012, G06F021, H04L063, G06F021, G06F021, ...   \n",
       "10412059       [H04L009, H04L063, H04L063, H04L063, H04L009, ...   \n",
       "9258117        [H04L063, H04L009, H04L063, H04L009, H04L009, ...   \n",
       "9237019        [H04L009, H04L063, H04L067, H04L063, H04L063, ...   \n",
       "\n",
       "                                 sub_class  \\\n",
       "patent_number                                \n",
       "9954866                 [H04L009, H04L009]   \n",
       "9215076                          [H04L009]   \n",
       "9215076                          [H04L009]   \n",
       "9819654                          [H04L063]   \n",
       "9882900                          [H04L009]   \n",
       "9420007                 [H04L063, G06F021]   \n",
       "9197409        [H04L063, H04L063, H04L009]   \n",
       "9197409        [H04L063, H04L063, H04L009]   \n",
       "9311500        [H04L009, H04L009, H04L009]   \n",
       "10356062                         [H04L009]   \n",
       "9906564                 [H04L063, G06F021]   \n",
       "10375067                         [H04L009]   \n",
       "10044503                                []   \n",
       "9292711                                 []   \n",
       "10412059                         [H04L063]   \n",
       "9258117                          [H04L009]   \n",
       "9237019                          [H04L063]   \n",
       "\n",
       "                                                  patent_classes  \\\n",
       "patent_number                                                      \n",
       "9954866        [H04L009, H04L009, H04L009, H04L063, H04L063, ...   \n",
       "9215076        [H04L009, H04L063, H04L009, H04L009, H04L063, ...   \n",
       "9215076        [H04L009, H04L063, H04L009, H04L009, H04L063, ...   \n",
       "9819654        [H04L067, H04L063, H04L063, H04L063, H04L063, ...   \n",
       "9882900        [H04L063, H04L009, H04L009, H04L009, H04L063, ...   \n",
       "9420007        [H04L063, H04L009, H04L063, H04L063, G06F021, ...   \n",
       "9197409        [H04L009, H04L009, G06F021, H04L009, H04L009, ...   \n",
       "9197409        [H04L009, H04L009, G06F021, H04L009, H04L009, ...   \n",
       "9311500        [G06F021, H04L009, H04L009, G06F021, H04L063, ...   \n",
       "10356062       [H04L063, H04L063, G06F021, H04L009, H04L063, ...   \n",
       "9906564        [H04L063, H04L063, H04L063, H04L009, G06F021, ...   \n",
       "10375067       [H04L009, H04L063, H04L063, H04L063, H04L009, ...   \n",
       "10044503           [H04L009, H04L063, H04L009, G06F021, H04L009]   \n",
       "9292711        [G06F012, G06F021, H04L063, G06F021, G06F021, ...   \n",
       "10412059       [H04L009, H04L063, H04L063, H04L063, H04L009, ...   \n",
       "9258117        [H04L063, H04L009, H04L063, H04L009, H04L009, ...   \n",
       "9237019        [H04L009, H04L063, H04L067, H04L063, H04L063, ...   \n",
       "\n",
       "                                                          claims  TC5  \\\n",
       "patent_number                                                           \n",
       "9954866        1. A computer-implemented method, comprising: ...    2   \n",
       "9215076        1. A computer-implemented method, comprising: ...   85   \n",
       "9215076        1. A computer-implemented method, comprising: ...   85   \n",
       "9819654        1. A system, comprising: one or more processor...    2   \n",
       "9882900        1. A computer-implemented method, comprising: ...    0   \n",
       "9420007        1. A system of a virtual computing resource se...    2   \n",
       "9197409        1. A computer-implemented method of authentica...    2   \n",
       "9197409        1. A computer-implemented method of authentica...    2   \n",
       "9311500        1. A computer-implemented method, comprising: ...    4   \n",
       "10356062       1. A computer-implemented method, comprising: ...    0   \n",
       "9906564        1. A system, comprising: memory to store instr...    0   \n",
       "10375067       1. A non-transitory computer-readable storage ...    0   \n",
       "10044503       1. A computer-implemented method, comprising: ...    5   \n",
       "9292711        1. A computer-implemented method, comprising: ...    2   \n",
       "10412059       1. A method, comprising: receiving a request f...    0   \n",
       "9258117        1. A computer-implemented method, comprising: ...   22   \n",
       "9237019        1. A computer-implemented method, comprising: ...    3   \n",
       "\n",
       "               TC5_digitized  class  \n",
       "patent_number                        \n",
       "9954866                    0   2983  \n",
       "9215076                    1   2335  \n",
       "9215076                    1   2983  \n",
       "9819654                    0   2998  \n",
       "9882900                    0   2996  \n",
       "9420007                    0   2996  \n",
       "9197409                    0   2335  \n",
       "9197409                    0   2983  \n",
       "9311500                    0   2513  \n",
       "10356062                   0   2996  \n",
       "9906564                    0   2996  \n",
       "10375067                   0   2983  \n",
       "10044503                   0   2983  \n",
       "9292711                    0   2506  \n",
       "10412059                   0   2983  \n",
       "9258117                    1   2996  \n",
       "9237019                    0   2983  "
      ]
     },
     "execution_count": 299,
     "metadata": {},
     "output_type": "execute_result"
    }
   ],
   "source": [
    "ref_info"
   ]
  },
  {
   "cell_type": "code",
   "execution_count": 300,
   "metadata": {
    "ExecuteTime": {
     "end_time": "2025-06-08T19:20:19.691471Z",
     "start_time": "2025-06-08T19:20:19.669402Z"
    }
   },
   "outputs": [],
   "source": [
    "ref_ipcs = ref_info[\"patent_classes\"].apply(lambda x: set(x))\n",
    "ref_FCs = ref_info[\"TC\"+str(n_TC)]\n",
    "\n",
    "tokenizer = tech_dataset.tokenizers[\"class_dec\"]\n",
    "\n",
    "org_text = tokenizer.decode_batch(input_class.cpu().detach().numpy())[0]\n",
    "org_text = org_text[org_text.index(tokenizer.sos_token)+1:org_text.index(tokenizer.eos_token)]\n",
    "if set(org_text)==set(np.concatenate(ref_ipcs.apply(lambda x: list(x)).values)):\n",
    "    cnt_same_ipcs += 1"
   ]
  },
  {
   "cell_type": "code",
   "execution_count": 310,
   "metadata": {
    "ExecuteTime": {
     "end_time": "2025-06-08T19:22:39.732795Z",
     "start_time": "2025-06-08T19:22:39.719714Z"
    }
   },
   "outputs": [
    {
     "data": {
      "text/plain": [
       "array([list(['H04L009', 'H04L063', 'G06F021']),\n",
       "       list(['H04L009', 'H04L063', 'G06F021']),\n",
       "       list(['H04L009', 'H04L063', 'G06F021']),\n",
       "       list(['H04L063', 'H04L009', 'H04L067']),\n",
       "       list(['H04L009', 'H04L063']),\n",
       "       list(['H04L009', 'H04L063', 'G06F021']),\n",
       "       list(['H04L063', 'H04L009', 'G06F021']),\n",
       "       list(['H04L063', 'H04L009', 'G06F021']),\n",
       "       list(['H04L063', 'H04L009', 'G06F021']),\n",
       "       list(['G06F021', 'H04L063', 'H04L009']),\n",
       "       list(['H04L009', 'H04L063', 'G06F021']),\n",
       "       list(['H04L009', 'H04L063']),\n",
       "       list(['H04L009', 'H04L063', 'G06F021']),\n",
       "       list(['H04L063', 'G06F012', 'G06F021']),\n",
       "       list(['H04L009', 'H04L063', 'H04L067']),\n",
       "       list(['H04L009', 'H04L063']),\n",
       "       list(['H04L009', 'H04L063', 'H04L067'])], dtype=object)"
      ]
     },
     "execution_count": 310,
     "metadata": {},
     "output_type": "execute_result"
    }
   ],
   "source": [
    "ref_ipcs.apply(lambda x: list(x)).values"
   ]
  },
  {
   "cell_type": "code",
   "execution_count": 308,
   "metadata": {
    "ExecuteTime": {
     "end_time": "2025-06-08T19:22:16.047134Z",
     "start_time": "2025-06-08T19:22:16.021931Z"
    }
   },
   "outputs": [
    {
     "data": {
      "text/plain": [
       "{'G06F012', 'G06F021', 'H04L009', 'H04L063', 'H04L067'}"
      ]
     },
     "execution_count": 308,
     "metadata": {},
     "output_type": "execute_result"
    }
   ],
   "source": [
    "set(np.concatenate(ref_ipcs.apply(lambda x: list(x)).values))"
   ]
  },
  {
   "cell_type": "code",
   "execution_count": 301,
   "metadata": {
    "ExecuteTime": {
     "end_time": "2025-06-08T19:20:24.684336Z",
     "start_time": "2025-06-08T19:20:24.674416Z"
    }
   },
   "outputs": [
    {
     "data": {
      "text/plain": [
       "['H04L009',\n",
       " 'H04L063',\n",
       " 'H04L009',\n",
       " 'H04L009',\n",
       " 'H04L063',\n",
       " 'H04L063',\n",
       " 'H04L063',\n",
       " 'H04L063']"
      ]
     },
     "execution_count": 301,
     "metadata": {},
     "output_type": "execute_result"
    }
   ],
   "source": [
    "org_text"
   ]
  },
  {
   "cell_type": "code",
   "execution_count": 312,
   "metadata": {
    "ExecuteTime": {
     "end_time": "2025-06-08T19:25:32.365714Z",
     "start_time": "2025-06-08T19:25:32.356741Z"
    }
   },
   "outputs": [],
   "source": [
    "inclusions = [None, None, None, None]\n",
    "higher_impacts = [None, None, None, None]\n",
    "similar_refs_out = [None, None, None, None]\n",
    "unsimilar_refs_out = [None, None, None, None]\n",
    "optimised = False"
   ]
  },
  {
   "cell_type": "code",
   "execution_count": 313,
   "metadata": {
    "ExecuteTime": {
     "end_time": "2025-06-08T19:25:41.987740Z",
     "start_time": "2025-06-08T19:25:41.396175Z"
    }
   },
   "outputs": [],
   "source": [
    "pred_outputs = model.predict(z)\n",
    "z.retain_grad()\n",
    "FC_estimated = np.round(np.exp(pred_outputs[0,1].item()), 4) # estimated forward citations\n",
    "FC_estimated_inv = np.round(np.exp(pred_outputs[0,0].item()), 4)\n",
    "\n",
    "L1_error = (1-torch.exp(pred_outputs[0,1]))\n",
    "L1_error.backward(retain_graph=True)\n",
    "\n",
    "grad_for_update = (step_size * z.grad)\n",
    "z_ = z - grad_for_update\n",
    "\n",
    "z.grad.zero_()\n",
    "dec_outputs = model.decode(z_, enc_outputs, dec_inputs=None)\n",
    "dec_outputs = dec_outputs.argmax(-1)"
   ]
  },
  {
   "cell_type": "code",
   "execution_count": 314,
   "metadata": {
    "ExecuteTime": {
     "end_time": "2025-06-08T19:25:45.706445Z",
     "start_time": "2025-06-08T19:25:45.696627Z"
    }
   },
   "outputs": [
    {
     "data": {
      "text/plain": [
       "tensor([[   0, 3183, 3701, 3701, 3701, 3701, 3183, 3183, 3183, 3183, 3183, 3183,\n",
       "         3182, 3701, 3152, 3152, 3152, 3701, 3152, 3152, 3152, 3152, 3152, 3152,\n",
       "         3152, 3152, 3152, 3152, 3152, 3152, 3152, 3152, 3152, 3152, 3152, 3152,\n",
       "         3152, 3152, 3152, 3152, 3152, 3152, 3152, 3152, 3152, 3152, 3152, 3152,\n",
       "         3152, 3152, 3152, 3152, 3152, 3152, 3152, 3152, 3152, 3152, 3152, 3152,\n",
       "         3152, 3152, 3152, 3152, 3152, 3152, 3152, 3152, 3152, 3152, 3152, 3152,\n",
       "         3152, 3152, 3152, 3152, 3152, 3152, 3152, 3152, 3152, 3152, 3152, 3152,\n",
       "         3152, 3152, 3152, 3152, 3152, 3152, 3152, 3152, 3152, 3152, 3152, 3152,\n",
       "         3152, 3152, 3152, 3152, 3152, 3152, 3152, 3152, 3152, 3152, 3152, 3152,\n",
       "         3152, 3152, 3152, 3152, 3152, 3152, 3152, 3152, 3152, 3152, 3152, 3152,\n",
       "         3152, 3152, 3152, 3152, 3152, 3152, 3152, 3152, 3152, 3152, 3152, 3152,\n",
       "         3152, 3152, 3152, 3152, 3152, 3152, 3152, 3152, 3152, 3152, 3152, 3152,\n",
       "         3152, 3152, 3152, 3152, 3152, 3152, 3152, 3152, 3152, 3152, 3152, 3152,\n",
       "         3152, 3152, 3152, 3152, 3152, 3152, 3152, 3152, 3152, 3152, 3152, 3152,\n",
       "         3152, 3152, 3152, 3152, 3152, 3152, 3152, 3152, 3152, 3152, 3152, 3152,\n",
       "         3152, 3152, 3152, 3152, 3152, 3152, 3152, 3152, 3152, 3152, 3152, 3152,\n",
       "         3152, 3152, 3152, 3152, 3152, 3152, 3152, 3152]])"
      ]
     },
     "execution_count": 314,
     "metadata": {},
     "output_type": "execute_result"
    }
   ],
   "source": [
    "dec_outputs"
   ]
  },
  {
   "cell_type": "code",
   "execution_count": 317,
   "metadata": {
    "ExecuteTime": {
     "end_time": "2025-06-08T19:26:04.782910Z",
     "start_time": "2025-06-08T19:26:04.766506Z"
    }
   },
   "outputs": [
    {
     "data": {
      "text/plain": [
       "['<SOS>',\n",
       " 'G06Q020',\n",
       " 'H04L063',\n",
       " 'H04L063',\n",
       " 'H04L063',\n",
       " 'H04L063',\n",
       " 'G06Q020',\n",
       " 'G06Q020',\n",
       " 'G06Q020',\n",
       " 'G06Q020',\n",
       " 'G06Q020',\n",
       " 'G06Q020',\n",
       " 'G06Q010',\n",
       " 'H04L063',\n",
       " 'G06F016',\n",
       " 'G06F016',\n",
       " 'G06F016',\n",
       " 'H04L063',\n",
       " 'G06F016',\n",
       " 'G06F016',\n",
       " 'G06F016',\n",
       " 'G06F016',\n",
       " 'G06F016',\n",
       " 'G06F016',\n",
       " 'G06F016',\n",
       " 'G06F016',\n",
       " 'G06F016',\n",
       " 'G06F016',\n",
       " 'G06F016',\n",
       " 'G06F016',\n",
       " 'G06F016',\n",
       " 'G06F016',\n",
       " 'G06F016',\n",
       " 'G06F016',\n",
       " 'G06F016',\n",
       " 'G06F016',\n",
       " 'G06F016',\n",
       " 'G06F016',\n",
       " 'G06F016',\n",
       " 'G06F016',\n",
       " 'G06F016',\n",
       " 'G06F016',\n",
       " 'G06F016',\n",
       " 'G06F016',\n",
       " 'G06F016',\n",
       " 'G06F016',\n",
       " 'G06F016',\n",
       " 'G06F016',\n",
       " 'G06F016',\n",
       " 'G06F016',\n",
       " 'G06F016',\n",
       " 'G06F016',\n",
       " 'G06F016',\n",
       " 'G06F016',\n",
       " 'G06F016',\n",
       " 'G06F016',\n",
       " 'G06F016',\n",
       " 'G06F016',\n",
       " 'G06F016',\n",
       " 'G06F016',\n",
       " 'G06F016',\n",
       " 'G06F016',\n",
       " 'G06F016',\n",
       " 'G06F016',\n",
       " 'G06F016',\n",
       " 'G06F016',\n",
       " 'G06F016',\n",
       " 'G06F016',\n",
       " 'G06F016',\n",
       " 'G06F016',\n",
       " 'G06F016',\n",
       " 'G06F016',\n",
       " 'G06F016',\n",
       " 'G06F016',\n",
       " 'G06F016',\n",
       " 'G06F016',\n",
       " 'G06F016',\n",
       " 'G06F016',\n",
       " 'G06F016',\n",
       " 'G06F016',\n",
       " 'G06F016',\n",
       " 'G06F016',\n",
       " 'G06F016',\n",
       " 'G06F016',\n",
       " 'G06F016',\n",
       " 'G06F016',\n",
       " 'G06F016',\n",
       " 'G06F016',\n",
       " 'G06F016',\n",
       " 'G06F016',\n",
       " 'G06F016',\n",
       " 'G06F016',\n",
       " 'G06F016',\n",
       " 'G06F016',\n",
       " 'G06F016',\n",
       " 'G06F016',\n",
       " 'G06F016',\n",
       " 'G06F016',\n",
       " 'G06F016',\n",
       " 'G06F016',\n",
       " 'G06F016',\n",
       " 'G06F016',\n",
       " 'G06F016',\n",
       " 'G06F016',\n",
       " 'G06F016',\n",
       " 'G06F016',\n",
       " 'G06F016',\n",
       " 'G06F016',\n",
       " 'G06F016',\n",
       " 'G06F016',\n",
       " 'G06F016',\n",
       " 'G06F016',\n",
       " 'G06F016',\n",
       " 'G06F016',\n",
       " 'G06F016',\n",
       " 'G06F016',\n",
       " 'G06F016',\n",
       " 'G06F016',\n",
       " 'G06F016',\n",
       " 'G06F016',\n",
       " 'G06F016',\n",
       " 'G06F016',\n",
       " 'G06F016',\n",
       " 'G06F016',\n",
       " 'G06F016',\n",
       " 'G06F016',\n",
       " 'G06F016',\n",
       " 'G06F016',\n",
       " 'G06F016',\n",
       " 'G06F016',\n",
       " 'G06F016',\n",
       " 'G06F016',\n",
       " 'G06F016',\n",
       " 'G06F016',\n",
       " 'G06F016',\n",
       " 'G06F016',\n",
       " 'G06F016',\n",
       " 'G06F016',\n",
       " 'G06F016',\n",
       " 'G06F016',\n",
       " 'G06F016',\n",
       " 'G06F016',\n",
       " 'G06F016',\n",
       " 'G06F016',\n",
       " 'G06F016',\n",
       " 'G06F016',\n",
       " 'G06F016',\n",
       " 'G06F016',\n",
       " 'G06F016',\n",
       " 'G06F016',\n",
       " 'G06F016',\n",
       " 'G06F016',\n",
       " 'G06F016',\n",
       " 'G06F016',\n",
       " 'G06F016',\n",
       " 'G06F016',\n",
       " 'G06F016',\n",
       " 'G06F016',\n",
       " 'G06F016',\n",
       " 'G06F016',\n",
       " 'G06F016',\n",
       " 'G06F016',\n",
       " 'G06F016',\n",
       " 'G06F016',\n",
       " 'G06F016',\n",
       " 'G06F016',\n",
       " 'G06F016',\n",
       " 'G06F016',\n",
       " 'G06F016',\n",
       " 'G06F016',\n",
       " 'G06F016',\n",
       " 'G06F016',\n",
       " 'G06F016',\n",
       " 'G06F016',\n",
       " 'G06F016',\n",
       " 'G06F016',\n",
       " 'G06F016',\n",
       " 'G06F016',\n",
       " 'G06F016',\n",
       " 'G06F016',\n",
       " 'G06F016',\n",
       " 'G06F016',\n",
       " 'G06F016',\n",
       " 'G06F016',\n",
       " 'G06F016',\n",
       " 'G06F016',\n",
       " 'G06F016',\n",
       " 'G06F016',\n",
       " 'G06F016',\n",
       " 'G06F016',\n",
       " 'G06F016',\n",
       " 'G06F016',\n",
       " 'G06F016',\n",
       " 'G06F016',\n",
       " 'G06F016',\n",
       " 'G06F016',\n",
       " 'G06F016',\n",
       " 'G06F016',\n",
       " 'G06F016',\n",
       " 'G06F016']"
      ]
     },
     "execution_count": 317,
     "metadata": {},
     "output_type": "execute_result"
    }
   ],
   "source": [
    "tokenizer = tech_dataset.tokenizers[\"class_dec\"]\n",
    "gen_text = tokenizer.decode_batch(dec_outputs.cpu().detach().numpy())[0]\n",
    "gen_text"
   ]
  },
  {
   "cell_type": "code",
   "execution_count": 318,
   "metadata": {
    "ExecuteTime": {
     "end_time": "2025-06-08T19:26:17.806314Z",
     "start_time": "2025-06-08T19:26:17.792288Z"
    }
   },
   "outputs": [],
   "source": [
    "if tokenizer.eos_token in gen_text:\n",
    "    gen_text = gen_text[gen_text.index(tokenizer.sos_token)+1:gen_text.index(tokenizer.eos_token)]\n",
    "else:\n",
    "    gen_text = gen_text[gen_text.index(tokenizer.sos_token)+1:]"
   ]
  },
  {
   "cell_type": "code",
   "execution_count": 319,
   "metadata": {
    "ExecuteTime": {
     "end_time": "2025-06-08T19:26:20.120997Z",
     "start_time": "2025-06-08T19:26:20.106554Z"
    }
   },
   "outputs": [
    {
     "data": {
      "text/plain": [
       "['G06Q020',\n",
       " 'H04L063',\n",
       " 'H04L063',\n",
       " 'H04L063',\n",
       " 'H04L063',\n",
       " 'G06Q020',\n",
       " 'G06Q020',\n",
       " 'G06Q020',\n",
       " 'G06Q020',\n",
       " 'G06Q020',\n",
       " 'G06Q020',\n",
       " 'G06Q010',\n",
       " 'H04L063',\n",
       " 'G06F016',\n",
       " 'G06F016',\n",
       " 'G06F016',\n",
       " 'H04L063',\n",
       " 'G06F016',\n",
       " 'G06F016',\n",
       " 'G06F016',\n",
       " 'G06F016',\n",
       " 'G06F016',\n",
       " 'G06F016',\n",
       " 'G06F016',\n",
       " 'G06F016',\n",
       " 'G06F016',\n",
       " 'G06F016',\n",
       " 'G06F016',\n",
       " 'G06F016',\n",
       " 'G06F016',\n",
       " 'G06F016',\n",
       " 'G06F016',\n",
       " 'G06F016',\n",
       " 'G06F016',\n",
       " 'G06F016',\n",
       " 'G06F016',\n",
       " 'G06F016',\n",
       " 'G06F016',\n",
       " 'G06F016',\n",
       " 'G06F016',\n",
       " 'G06F016',\n",
       " 'G06F016',\n",
       " 'G06F016',\n",
       " 'G06F016',\n",
       " 'G06F016',\n",
       " 'G06F016',\n",
       " 'G06F016',\n",
       " 'G06F016',\n",
       " 'G06F016',\n",
       " 'G06F016',\n",
       " 'G06F016',\n",
       " 'G06F016',\n",
       " 'G06F016',\n",
       " 'G06F016',\n",
       " 'G06F016',\n",
       " 'G06F016',\n",
       " 'G06F016',\n",
       " 'G06F016',\n",
       " 'G06F016',\n",
       " 'G06F016',\n",
       " 'G06F016',\n",
       " 'G06F016',\n",
       " 'G06F016',\n",
       " 'G06F016',\n",
       " 'G06F016',\n",
       " 'G06F016',\n",
       " 'G06F016',\n",
       " 'G06F016',\n",
       " 'G06F016',\n",
       " 'G06F016',\n",
       " 'G06F016',\n",
       " 'G06F016',\n",
       " 'G06F016',\n",
       " 'G06F016',\n",
       " 'G06F016',\n",
       " 'G06F016',\n",
       " 'G06F016',\n",
       " 'G06F016',\n",
       " 'G06F016',\n",
       " 'G06F016',\n",
       " 'G06F016',\n",
       " 'G06F016',\n",
       " 'G06F016',\n",
       " 'G06F016',\n",
       " 'G06F016',\n",
       " 'G06F016',\n",
       " 'G06F016',\n",
       " 'G06F016',\n",
       " 'G06F016',\n",
       " 'G06F016',\n",
       " 'G06F016',\n",
       " 'G06F016',\n",
       " 'G06F016',\n",
       " 'G06F016',\n",
       " 'G06F016',\n",
       " 'G06F016',\n",
       " 'G06F016',\n",
       " 'G06F016',\n",
       " 'G06F016',\n",
       " 'G06F016',\n",
       " 'G06F016',\n",
       " 'G06F016',\n",
       " 'G06F016',\n",
       " 'G06F016',\n",
       " 'G06F016',\n",
       " 'G06F016',\n",
       " 'G06F016',\n",
       " 'G06F016',\n",
       " 'G06F016',\n",
       " 'G06F016',\n",
       " 'G06F016',\n",
       " 'G06F016',\n",
       " 'G06F016',\n",
       " 'G06F016',\n",
       " 'G06F016',\n",
       " 'G06F016',\n",
       " 'G06F016',\n",
       " 'G06F016',\n",
       " 'G06F016',\n",
       " 'G06F016',\n",
       " 'G06F016',\n",
       " 'G06F016',\n",
       " 'G06F016',\n",
       " 'G06F016',\n",
       " 'G06F016',\n",
       " 'G06F016',\n",
       " 'G06F016',\n",
       " 'G06F016',\n",
       " 'G06F016',\n",
       " 'G06F016',\n",
       " 'G06F016',\n",
       " 'G06F016',\n",
       " 'G06F016',\n",
       " 'G06F016',\n",
       " 'G06F016',\n",
       " 'G06F016',\n",
       " 'G06F016',\n",
       " 'G06F016',\n",
       " 'G06F016',\n",
       " 'G06F016',\n",
       " 'G06F016',\n",
       " 'G06F016',\n",
       " 'G06F016',\n",
       " 'G06F016',\n",
       " 'G06F016',\n",
       " 'G06F016',\n",
       " 'G06F016',\n",
       " 'G06F016',\n",
       " 'G06F016',\n",
       " 'G06F016',\n",
       " 'G06F016',\n",
       " 'G06F016',\n",
       " 'G06F016',\n",
       " 'G06F016',\n",
       " 'G06F016',\n",
       " 'G06F016',\n",
       " 'G06F016',\n",
       " 'G06F016',\n",
       " 'G06F016',\n",
       " 'G06F016',\n",
       " 'G06F016',\n",
       " 'G06F016',\n",
       " 'G06F016',\n",
       " 'G06F016',\n",
       " 'G06F016',\n",
       " 'G06F016',\n",
       " 'G06F016',\n",
       " 'G06F016',\n",
       " 'G06F016',\n",
       " 'G06F016',\n",
       " 'G06F016',\n",
       " 'G06F016',\n",
       " 'G06F016',\n",
       " 'G06F016',\n",
       " 'G06F016',\n",
       " 'G06F016',\n",
       " 'G06F016',\n",
       " 'G06F016',\n",
       " 'G06F016',\n",
       " 'G06F016',\n",
       " 'G06F016',\n",
       " 'G06F016',\n",
       " 'G06F016',\n",
       " 'G06F016',\n",
       " 'G06F016',\n",
       " 'G06F016',\n",
       " 'G06F016',\n",
       " 'G06F016',\n",
       " 'G06F016',\n",
       " 'G06F016',\n",
       " 'G06F016',\n",
       " 'G06F016',\n",
       " 'G06F016',\n",
       " 'G06F016',\n",
       " 'G06F016',\n",
       " 'G06F016',\n",
       " 'G06F016',\n",
       " 'G06F016',\n",
       " 'G06F016']"
      ]
     },
     "execution_count": 319,
     "metadata": {},
     "output_type": "execute_result"
    }
   ],
   "source": [
    "gen_text"
   ]
  },
  {
   "cell_type": "code",
   "execution_count": 321,
   "metadata": {
    "ExecuteTime": {
     "end_time": "2025-06-08T19:26:43.448979Z",
     "start_time": "2025-06-08T19:26:43.433628Z"
    }
   },
   "outputs": [],
   "source": [
    "if gen_text != []:\n",
    "    gen_text = [gen_text[0]] + list(np.array(gen_text[1:])[np.unique(gen_text[1:], return_index=True)[1]])                \n",
    "    gen_text = set(gen_text)"
   ]
  },
  {
   "cell_type": "code",
   "execution_count": 322,
   "metadata": {
    "ExecuteTime": {
     "end_time": "2025-06-08T19:26:47.068003Z",
     "start_time": "2025-06-08T19:26:47.058321Z"
    }
   },
   "outputs": [
    {
     "data": {
      "text/plain": [
       "{'G06F016', 'G06Q010', 'G06Q020', 'H04L063'}"
      ]
     },
     "execution_count": 322,
     "metadata": {},
     "output_type": "execute_result"
    }
   ],
   "source": [
    "gen_text"
   ]
  },
  {
   "cell_type": "code",
   "execution_count": 323,
   "metadata": {
    "ExecuteTime": {
     "end_time": "2025-06-08T19:26:56.619163Z",
     "start_time": "2025-06-08T19:26:56.604450Z"
    }
   },
   "outputs": [
    {
     "data": {
      "text/plain": [
       "0.618"
      ]
     },
     "execution_count": 323,
     "metadata": {},
     "output_type": "execute_result"
    }
   ],
   "source": [
    "FC_estimated"
   ]
  },
  {
   "cell_type": "code",
   "execution_count": 324,
   "metadata": {
    "ExecuteTime": {
     "end_time": "2025-06-08T19:28:15.908268Z",
     "start_time": "2025-06-08T19:28:15.897813Z"
    }
   },
   "outputs": [
    {
     "data": {
      "text/plain": [
       "(['G', 'G', 'G', 'H'],\n",
       " ['G06', 'G06', 'G06', 'H04'],\n",
       " ['G06Q', 'G06F', 'G06Q', 'H04L'],\n",
       " {'G06F016', 'G06Q010', 'G06Q020', 'H04L063'})"
      ]
     },
     "execution_count": 324,
     "metadata": {},
     "output_type": "execute_result"
    }
   ],
   "source": [
    "breakdown(gen_text)"
   ]
  },
  {
   "cell_type": "code",
   "execution_count": 325,
   "metadata": {
    "ExecuteTime": {
     "end_time": "2025-06-08T19:28:42.012398Z",
     "start_time": "2025-06-08T19:28:42.000311Z"
    }
   },
   "outputs": [],
   "source": [
    "gen_text_breakdown = breakdown(gen_text)\n",
    "ref_ipcs_breakdown = (ref_ipcs.apply(lambda x: breakdown(x)[0]), ref_ipcs.apply(lambda x: breakdown(x)[1]), ref_ipcs.apply(lambda x: breakdown(x)[2]), ref_ipcs)"
   ]
  },
  {
   "cell_type": "code",
   "execution_count": 326,
   "metadata": {
    "ExecuteTime": {
     "end_time": "2025-06-08T19:28:44.792812Z",
     "start_time": "2025-06-08T19:28:44.768550Z"
    },
    "scrolled": true
   },
   "outputs": [
    {
     "data": {
      "text/plain": [
       "(patent_number\n",
       " 9954866     [H, H, G]\n",
       " 9215076     [H, H, G]\n",
       " 9215076     [H, H, G]\n",
       " 9819654     [H, H, H]\n",
       " 9882900        [H, H]\n",
       " 9420007     [H, H, G]\n",
       " 9197409     [H, H, G]\n",
       " 9197409     [H, H, G]\n",
       " 9311500     [H, H, G]\n",
       " 10356062    [G, H, H]\n",
       " 9906564     [H, H, G]\n",
       " 10375067       [H, H]\n",
       " 10044503    [H, H, G]\n",
       " 9292711     [H, G, G]\n",
       " 10412059    [H, H, H]\n",
       " 9258117        [H, H]\n",
       " 9237019     [H, H, H]\n",
       " Name: patent_classes, dtype: object,\n",
       " patent_number\n",
       " 9954866     [H04, H04, G06]\n",
       " 9215076     [H04, H04, G06]\n",
       " 9215076     [H04, H04, G06]\n",
       " 9819654     [H04, H04, H04]\n",
       " 9882900          [H04, H04]\n",
       " 9420007     [H04, H04, G06]\n",
       " 9197409     [H04, H04, G06]\n",
       " 9197409     [H04, H04, G06]\n",
       " 9311500     [H04, H04, G06]\n",
       " 10356062    [G06, H04, H04]\n",
       " 9906564     [H04, H04, G06]\n",
       " 10375067         [H04, H04]\n",
       " 10044503    [H04, H04, G06]\n",
       " 9292711     [H04, G06, G06]\n",
       " 10412059    [H04, H04, H04]\n",
       " 9258117          [H04, H04]\n",
       " 9237019     [H04, H04, H04]\n",
       " Name: patent_classes, dtype: object,\n",
       " patent_number\n",
       " 9954866     [H04L, H04L, G06F]\n",
       " 9215076     [H04L, H04L, G06F]\n",
       " 9215076     [H04L, H04L, G06F]\n",
       " 9819654     [H04L, H04L, H04L]\n",
       " 9882900           [H04L, H04L]\n",
       " 9420007     [H04L, H04L, G06F]\n",
       " 9197409     [H04L, H04L, G06F]\n",
       " 9197409     [H04L, H04L, G06F]\n",
       " 9311500     [H04L, H04L, G06F]\n",
       " 10356062    [G06F, H04L, H04L]\n",
       " 9906564     [H04L, H04L, G06F]\n",
       " 10375067          [H04L, H04L]\n",
       " 10044503    [H04L, H04L, G06F]\n",
       " 9292711     [H04L, G06F, G06F]\n",
       " 10412059    [H04L, H04L, H04L]\n",
       " 9258117           [H04L, H04L]\n",
       " 9237019     [H04L, H04L, H04L]\n",
       " Name: patent_classes, dtype: object,\n",
       " patent_number\n",
       " 9954866     {H04L009, H04L063, G06F021}\n",
       " 9215076     {H04L009, H04L063, G06F021}\n",
       " 9215076     {H04L009, H04L063, G06F021}\n",
       " 9819654     {H04L063, H04L009, H04L067}\n",
       " 9882900              {H04L009, H04L063}\n",
       " 9420007     {H04L009, H04L063, G06F021}\n",
       " 9197409     {H04L063, H04L009, G06F021}\n",
       " 9197409     {H04L063, H04L009, G06F021}\n",
       " 9311500     {H04L063, H04L009, G06F021}\n",
       " 10356062    {G06F021, H04L063, H04L009}\n",
       " 9906564     {H04L009, H04L063, G06F021}\n",
       " 10375067             {H04L009, H04L063}\n",
       " 10044503    {H04L009, H04L063, G06F021}\n",
       " 9292711     {H04L063, G06F012, G06F021}\n",
       " 10412059    {H04L009, H04L063, H04L067}\n",
       " 9258117              {H04L009, H04L063}\n",
       " 9237019     {H04L009, H04L063, H04L067}\n",
       " Name: patent_classes, dtype: object)"
      ]
     },
     "execution_count": 326,
     "metadata": {},
     "output_type": "execute_result"
    }
   ],
   "source": [
    "ref_ipcs_breakdown"
   ]
  },
  {
   "cell_type": "code",
   "execution_count": 333,
   "metadata": {
    "ExecuteTime": {
     "end_time": "2025-06-08T19:30:22.040976Z",
     "start_time": "2025-06-08T19:30:22.013914Z"
    }
   },
   "outputs": [],
   "source": [
    "for i in range(1):\n",
    "    if inclusions[i] is not None: continue\n",
    "    temp_gen_text = gen_text_breakdown[i]\n",
    "    temp_ref_ipcs = ref_ipcs_breakdown[i]\n",
    "\n",
    "    hit_index = temp_ref_ipcs.apply(lambda x: 1 if set(x)==set(temp_gen_text) else 0)==1\n",
    "    similar_refs = temp_ref_ipcs[hit_index].index\n",
    "    similar_refs_out[i] = similar_refs\n",
    "    unsimilar_refs = temp_ref_ipcs[~hit_index].index\n",
    "    unsimilar_refs_out[i] = unsimilar_refs\n",
    "    if len(similar_refs) == 0:\n",
    "        inclusions[i] = 0\n",
    "        higher_impacts[i] = None\n",
    "    elif len(unsimilar_refs) == 0:\n",
    "        inclusions[i] = 1\n",
    "        similar_mean_FC = np.mean(ref_FCs.loc[similar_refs])\n",
    "        if similar_mean_FC <= 0:\n",
    "            higher_impacts[i] = 0\n",
    "        else:\n",
    "            higher_impacts[i] = 1\n",
    "    else:\n",
    "        inclusions[i] = 1\n",
    "        similar_mean_FC = np.mean(ref_FCs.loc[similar_refs])\n",
    "        unsimilar_mean_FC = np.mean(ref_FCs.loc[unsimilar_refs])\n",
    "        if similar_mean_FC >= unsimilar_mean_FC:\n",
    "            if similar_mean_FC <= 0:\n",
    "                higher_impacts[i] = None\n",
    "            else:\n",
    "                higher_impacts[i] = 1\n",
    "        else:\n",
    "            higher_impacts[i] = 0"
   ]
  },
  {
   "cell_type": "code",
   "execution_count": 341,
   "metadata": {
    "ExecuteTime": {
     "end_time": "2025-06-08T19:32:37.816604Z",
     "start_time": "2025-06-08T19:32:37.806268Z"
    }
   },
   "outputs": [
    {
     "data": {
      "text/plain": [
       "[1, 1, None, None]"
      ]
     },
     "execution_count": 341,
     "metadata": {},
     "output_type": "execute_result"
    }
   ],
   "source": [
    "higher_impacts"
   ]
  },
  {
   "cell_type": "code",
   "execution_count": 339,
   "metadata": {
    "ExecuteTime": {
     "end_time": "2025-06-08T19:31:21.036281Z",
     "start_time": "2025-06-08T19:31:21.025405Z"
    }
   },
   "outputs": [
    {
     "data": {
      "text/plain": [
       "Index(['9819654', '9882900', '10375067', '10412059', '9258117', '9237019'], dtype='object', name='patent_number')"
      ]
     },
     "execution_count": 339,
     "metadata": {},
     "output_type": "execute_result"
    }
   ],
   "source": [
    "unsimilar_refs"
   ]
  },
  {
   "cell_type": "code",
   "execution_count": 335,
   "metadata": {
    "ExecuteTime": {
     "end_time": "2025-06-08T19:30:26.471450Z",
     "start_time": "2025-06-08T19:30:26.462105Z"
    }
   },
   "outputs": [
    {
     "data": {
      "text/plain": [
       "['G', 'G', 'G', 'H']"
      ]
     },
     "execution_count": 335,
     "metadata": {},
     "output_type": "execute_result"
    }
   ],
   "source": [
    "temp_gen_text"
   ]
  },
  {
   "cell_type": "code",
   "execution_count": 336,
   "metadata": {
    "ExecuteTime": {
     "end_time": "2025-06-08T19:30:31.128658Z",
     "start_time": "2025-06-08T19:30:31.110559Z"
    }
   },
   "outputs": [
    {
     "data": {
      "text/plain": [
       "patent_number\n",
       "9954866     [H, H, G]\n",
       "9215076     [H, H, G]\n",
       "9215076     [H, H, G]\n",
       "9819654     [H, H, H]\n",
       "9882900        [H, H]\n",
       "9420007     [H, H, G]\n",
       "9197409     [H, H, G]\n",
       "9197409     [H, H, G]\n",
       "9311500     [H, H, G]\n",
       "10356062    [G, H, H]\n",
       "9906564     [H, H, G]\n",
       "10375067       [H, H]\n",
       "10044503    [H, H, G]\n",
       "9292711     [H, G, G]\n",
       "10412059    [H, H, H]\n",
       "9258117        [H, H]\n",
       "9237019     [H, H, H]\n",
       "Name: patent_classes, dtype: object"
      ]
     },
     "execution_count": 336,
     "metadata": {},
     "output_type": "execute_result"
    }
   ],
   "source": [
    "temp_ref_ipcs"
   ]
  },
  {
   "cell_type": "code",
   "execution_count": 337,
   "metadata": {
    "ExecuteTime": {
     "end_time": "2025-06-08T19:30:45.103715Z",
     "start_time": "2025-06-08T19:30:45.090412Z"
    }
   },
   "outputs": [
    {
     "data": {
      "text/plain": [
       "patent_number\n",
       "9954866      True\n",
       "9215076      True\n",
       "9215076      True\n",
       "9819654     False\n",
       "9882900     False\n",
       "9420007      True\n",
       "9197409      True\n",
       "9197409      True\n",
       "9311500      True\n",
       "10356062     True\n",
       "9906564      True\n",
       "10375067    False\n",
       "10044503     True\n",
       "9292711      True\n",
       "10412059    False\n",
       "9258117     False\n",
       "9237019     False\n",
       "Name: patent_classes, dtype: bool"
      ]
     },
     "execution_count": 337,
     "metadata": {},
     "output_type": "execute_result"
    }
   ],
   "source": [
    "hit_index"
   ]
  },
  {
   "cell_type": "code",
   "execution_count": 334,
   "metadata": {
    "ExecuteTime": {
     "end_time": "2025-06-08T19:30:22.496746Z",
     "start_time": "2025-06-08T19:30:22.486783Z"
    }
   },
   "outputs": [
    {
     "data": {
      "text/plain": [
       "[1, None, None, None]"
      ]
     },
     "execution_count": 334,
     "metadata": {},
     "output_type": "execute_result"
    }
   ],
   "source": [
    "inclusions"
   ]
  },
  {
   "cell_type": "markdown",
   "metadata": {},
   "source": [
    "- Load computed dict_out (validation)"
   ]
  },
  {
   "cell_type": "code",
   "execution_count": 84,
   "metadata": {
    "ExecuteTime": {
     "end_time": "2025-06-09T10:07:01.403312Z",
     "start_time": "2025-06-09T10:07:01.392095Z"
    }
   },
   "outputs": [
    {
     "name": "stdout",
     "output_type": "stream",
     "text": [
      "2025-06-07_1732_thre0.9\n"
     ]
    }
   ],
   "source": [
    "load_dict_out = True\n",
    "save_dict_out = False\n",
    "L1_threshold = 0.9 # or None\n",
    "n_iter = 30\n",
    "step_size = 40\n",
    "analysis_config = analysis_date + \"_thre\" + str(L1_threshold)\n",
    "print(analysis_config)"
   ]
  },
  {
   "cell_type": "code",
   "execution_count": 85,
   "metadata": {
    "ExecuteTime": {
     "end_time": "2025-06-09T10:07:10.316420Z",
     "start_time": "2025-06-09T10:07:02.637346Z"
    },
    "scrolled": false
   },
   "outputs": [
    {
     "name": "stdout",
     "output_type": "stream",
     "text": [
      "dict_out loaded\n"
     ]
    }
   ],
   "source": [
    "if load_dict_out:\n",
    "    with open(\"../results/validation/\"+analysis_config+\"/dict_out.pickle\", \"rb\") as f:\n",
    "        dict_out = pickle.load(f)\n",
    "    print(\"dict_out loaded\")\n",
    "else:\n",
    "    model = final_model.module if torch.cuda.is_available() else final_model\n",
    "    cnt_nonexist, cnt_noFC, cnt_diverge, cnt_same_ipcs, cnt_diff_ipcs = 0, 0, 0, 0, 0\n",
    "    dict_out = {\"index\": [], \"patent_id\": [], \"org_text\": [], \"gen_text\": [], \"ref_ipcs\": [], \"ref_FCs\": [],\n",
    "                \"inclusions\": [], \"higher_impacts\": [], \"FC_estimated\": [], \"similar_refs\": [], \"unsimilar_refs\": []}\n",
    "    for idx in tqdm(range(len(used_test_index_TC))):\n",
    "#     for idx in tqdm(range(500)):\n",
    "        cnts, results = validate_reliability(model=model, idx=idx, L1_threshold=L1_threshold, n_iter=n_iter, step_size=step_size)\n",
    "        cnt_nonexist += cnts[0]\n",
    "        cnt_noFC += cnts[1]\n",
    "        cnt_diverge += cnts[2]\n",
    "        cnt_same_ipcs += cnts[3]\n",
    "        cnt_diff_ipcs += cnts[4]\n",
    "        if results is not None:\n",
    "            for k,v in results.items():\n",
    "                dict_out[k].append(v)\n",
    "    for k, v in dict_out.items():\n",
    "        dict_out[k] = np.array(v)\n",
    "    dict_out[\"cnts\"] = {\"cnt_nonexist\": cnt_nonexist, \"cnt_noFC\": cnt_noFC, \n",
    "                \"cnt_diverge\": cnt_diverge, \"cnt_same_ipcs\": cnt_same_ipcs, \"cnt_diff_ipcs\": cnt_diff_ipcs}\n",
    "    \n",
    "    if save_dict_out:\n",
    "        save_dir = \"../results/validation/\"+analysis_config\n",
    "        if not os.path.exists(save_dir):\n",
    "            os.makedirs(save_dir)\n",
    "        with open(save_dir+\"/dict_out.pickle\", \"wb\") as f:\n",
    "            pickle.dump(dict_out, f)"
   ]
  },
  {
   "cell_type": "code",
   "execution_count": 86,
   "metadata": {
    "ExecuteTime": {
     "end_time": "2025-06-09T10:07:15.346238Z",
     "start_time": "2025-06-09T10:07:15.320335Z"
    }
   },
   "outputs": [
    {
     "data": {
      "text/plain": [
       "{'cnt_nonexist': 2983,\n",
       " 'cnt_noFC': 0,\n",
       " 'cnt_diverge': 10,\n",
       " 'cnt_same_ipcs': 618,\n",
       " 'cnt_diff_ipcs': 6927}"
      ]
     },
     "execution_count": 86,
     "metadata": {},
     "output_type": "execute_result"
    }
   ],
   "source": [
    "dict_out[\"cnts\"]"
   ]
  },
  {
   "cell_type": "code",
   "execution_count": 87,
   "metadata": {
    "ExecuteTime": {
     "end_time": "2025-06-09T10:07:16.819449Z",
     "start_time": "2025-06-09T10:07:16.765860Z"
    }
   },
   "outputs": [],
   "source": [
    "ipcs_comparison = pd.concat([pd.Series(dict_out[\"org_text\"]).apply(lambda x: set(x)), pd.Series(dict_out[\"gen_text\"]).apply(lambda x: set(x))], axis=1)"
   ]
  },
  {
   "cell_type": "code",
   "execution_count": 88,
   "metadata": {
    "ExecuteTime": {
     "end_time": "2025-06-09T10:07:17.411668Z",
     "start_time": "2025-06-09T10:07:17.319001Z"
    }
   },
   "outputs": [],
   "source": [
    "n_differentiated = ipcs_comparison.apply(lambda x: 1 if x[0]!=x[1] else 0, axis=1).sum()"
   ]
  },
  {
   "cell_type": "code",
   "execution_count": 89,
   "metadata": {
    "ExecuteTime": {
     "end_time": "2025-06-09T10:07:17.689848Z",
     "start_time": "2025-06-09T10:07:17.679527Z"
    }
   },
   "outputs": [
    {
     "data": {
      "text/plain": [
       "0.9411000433087917"
      ]
     },
     "execution_count": 89,
     "metadata": {},
     "output_type": "execute_result"
    }
   ],
   "source": [
    "n_differentiated / len(ipcs_comparison)"
   ]
  },
  {
   "cell_type": "code",
   "execution_count": 90,
   "metadata": {
    "ExecuteTime": {
     "end_time": "2025-06-09T10:07:18.465836Z",
     "start_time": "2025-06-09T10:07:18.442138Z"
    },
    "scrolled": false
   },
   "outputs": [
    {
     "name": "stdout",
     "output_type": "stream",
     "text": [
      "#total: 9920\n",
      "#valid data: 6927\n",
      "#nonexist data: 2983\n",
      "#no forward citations: 0\n",
      "#diverged: 10\n",
      "#same ipcs: 618\n",
      "\n",
      "\n",
      "for level 2, Ratio generated IPCs are included in citing patents: 0.34\n",
      "for level 2, Ratio generated IPCs have higher impact than other citing patents: 0.5248\n",
      "\n",
      "\n",
      "for level 3, Ratio generated IPCs are included in citing patents: 0.1318\n",
      "for level 3, Ratio generated IPCs have higher impact than other citing patents: 0.4989\n",
      "\n",
      "\n",
      "for level 4, Ratio generated IPCs are included in citing patents: 0.037\n",
      "for level 4, Ratio generated IPCs have higher impact than other citing patents: 0.4758\n",
      "\n",
      "\n"
     ]
    }
   ],
   "source": [
    "print(\"#total:\",len(used_test_index_TC))\n",
    "print(\"#valid data:\",len(dict_out[\"index\"]))\n",
    "print(\"#nonexist data:\",dict_out[\"cnts\"][\"cnt_nonexist\"])\n",
    "print(\"#no forward citations:\",dict_out[\"cnts\"][\"cnt_noFC\"])\n",
    "print(\"#diverged:\",dict_out[\"cnts\"][\"cnt_diverge\"])\n",
    "print(\"#same ipcs:\",dict_out[\"cnts\"][\"cnt_same_ipcs\"])\n",
    "print(\"\\n\")\n",
    "for i in range(1,4):\n",
    "    inclusions = np.array(dict_out[\"inclusions\"])[:,i]\n",
    "    ratio_included = np.round(len(inclusions[inclusions==1])/len(inclusions), 4)\n",
    "    higher_impacts = np.array(dict_out[\"higher_impacts\"])[:,i][np.array(dict_out[\"higher_impacts\"])[:,i] != None]\n",
    "    ratio_higher_impact = np.round(len(higher_impacts[higher_impacts==1])/len(higher_impacts), 4)\n",
    "    print(f\"for level {i+1}, Ratio generated IPCs are included in citing patents: {ratio_included}\")\n",
    "    print(f\"for level {i+1}, Ratio generated IPCs have higher impact than other citing patents: {ratio_higher_impact}\")\n",
    "    print(\"\\n\")"
   ]
  },
  {
   "cell_type": "code",
   "execution_count": 91,
   "metadata": {
    "ExecuteTime": {
     "end_time": "2025-06-09T10:07:19.682781Z",
     "start_time": "2025-06-09T10:07:19.664566Z"
    }
   },
   "outputs": [],
   "source": [
    "temp_inclusions = np.array(dict_out[\"inclusions\"])[np.array(dict_out[\"inclusions\"])[:,-1]==0]"
   ]
  },
  {
   "cell_type": "code",
   "execution_count": 92,
   "metadata": {
    "ExecuteTime": {
     "end_time": "2025-06-09T10:07:20.112551Z",
     "start_time": "2025-06-09T10:07:20.099683Z"
    },
    "scrolled": true
   },
   "outputs": [
    {
     "name": "stdout",
     "output_type": "stream",
     "text": [
      "for level 1, Hit ratio when level 4 is not hit: 0.5128\n",
      "for level 2, Hit ratio when level 4 is not hit: 0.6854\n",
      "for level 3, Hit ratio when level 4 is not hit: 0.9015\n"
     ]
    }
   ],
   "source": [
    "temp_inclusions = np.array(dict_out[\"inclusions\"])[np.array(dict_out[\"inclusions\"])[:,-1]==0]\n",
    "for i in range(3):\n",
    "    temp_ratio = len(temp_inclusions[temp_inclusions[:,i]==0]) / len(temp_inclusions)\n",
    "    print(f\"for level {i+1}, Hit ratio when level 4 is not hit: {np.round(temp_ratio,4)}\")"
   ]
  },
  {
   "cell_type": "code",
   "execution_count": 93,
   "metadata": {
    "ExecuteTime": {
     "end_time": "2025-06-09T10:07:20.844798Z",
     "start_time": "2025-06-09T10:07:20.834280Z"
    }
   },
   "outputs": [
    {
     "data": {
      "text/plain": [
       "(133654, 8)"
      ]
     },
     "execution_count": 93,
     "metadata": {},
     "output_type": "execute_result"
    }
   ],
   "source": [
    "tech_dataset.data.shape"
   ]
  },
  {
   "cell_type": "code",
   "execution_count": 94,
   "metadata": {
    "ExecuteTime": {
     "end_time": "2025-06-09T10:07:30.892610Z",
     "start_time": "2025-06-09T10:07:21.710863Z"
    },
    "scrolled": true
   },
   "outputs": [
    {
     "name": "stderr",
     "output_type": "stream",
     "text": [
      "/home2/glee/.conda/envs/DL/lib/python3.9/site-packages/numpy/core/fromnumeric.py:3702: RuntimeWarning: Degrees of freedom <= 0 for slice\n",
      "  return _methods._var(a, axis=axis, dtype=dtype, out=out, ddof=ddof,\n",
      "/home2/glee/.conda/envs/DL/lib/python3.9/site-packages/numpy/core/_methods.py:253: RuntimeWarning: invalid value encountered in double_scalars\n",
      "  ret = ret.dtype.type(ret / rcount)\n"
     ]
    },
    {
     "name": "stdout",
     "output_type": "stream",
     "text": [
      "Distribution of forward citations (hit)\n",
      " count    682.000000\n",
      "mean      27.520528\n",
      "std       67.112002\n",
      "min        0.000000\n",
      "25%        1.000000\n",
      "50%        4.000000\n",
      "75%       15.000000\n",
      "max      843.000000\n",
      "dtype: float64 \n",
      "\n",
      "Distribution of forward citations (not hit)\n",
      " count    3492.000000\n",
      "mean       22.391753\n",
      "std        46.206764\n",
      "min         0.000000\n",
      "25%         1.000000\n",
      "50%         4.000000\n",
      "75%        19.000000\n",
      "max       481.000000\n",
      "dtype: float64 \n",
      "\n",
      "Distribution of mean forward citations (hit)\n",
      " count    256.000000\n",
      "mean      13.594364\n",
      "std       39.055363\n",
      "min        0.000000\n",
      "25%        0.666667\n",
      "50%        3.000000\n",
      "75%        9.125000\n",
      "max      421.000000\n",
      "dtype: float64 \n",
      "\n",
      "Distribution of mean forward citations (not hit)\n",
      " count    256.000000\n",
      "mean       9.779638\n",
      "std       20.097793\n",
      "min        0.000000\n",
      "25%        0.500000\n",
      "50%        3.645833\n",
      "75%       10.401316\n",
      "max      137.148148\n",
      "dtype: float64 \n",
      "\n",
      "Distribution of difference of forward citations\n",
      " count    256.000000\n",
      "mean       3.814726\n",
      "std       32.581013\n",
      "min      -74.600000\n",
      "25%       -3.500000\n",
      "50%        0.000000\n",
      "75%        4.041667\n",
      "max      390.818182\n",
      "dtype: float64 \n",
      "\n"
     ]
    }
   ],
   "source": [
    "from scipy.stats import ttest_ind\n",
    "whole_patent_classes = tech_dataset.data[\"patent_classes\"].apply(lambda x: set(x))\n",
    "\n",
    "hit_similar_FCs, hit_unsimilar_FCs, hit_diff_FCs = [], [], []\n",
    "hit_similar_FCs_mean, hit_unsimilar_FCs_mean = [], []\n",
    "hit_similar_FCs_rank = []\n",
    "whole_FC_ttest = {\"statistic\": [], \"pvalue\": []}\n",
    "whole_FCs_diff = []\n",
    "hit_samples_index = dict_out[\"inclusions\"][:,-1]==1\n",
    "\n",
    "hit_patent_ids = dict_out[\"patent_id\"][hit_samples_index]\n",
    "hit_similar_refs = dict_out[\"similar_refs\"][hit_samples_index][:,-1]\n",
    "hit_unsimilar_refs = dict_out[\"unsimilar_refs\"][hit_samples_index][:,-1]\n",
    "\n",
    "for i in range(len(hit_patent_ids)):\n",
    "    hit_FCs = dict_out[\"ref_FCs\"][hit_samples_index][i]\n",
    "    hit_FCs = hit_FCs.loc[~hit_FCs.index.duplicated(keep=\"first\")]\n",
    "    hit_similar_FC = hit_FCs.loc[hit_similar_refs[i].drop_duplicates()]\n",
    "    hit_similar_FC_rank = hit_FCs.rank(pct=True).loc[hit_similar_refs[i].drop_duplicates()]\n",
    "    hit_unsimilar_FC = hit_FCs.loc[hit_unsimilar_refs[i].drop_duplicates()]\n",
    "    if len(hit_unsimilar_FC)>0:\n",
    "        hit_diff_FC = hit_similar_FC.mean() - hit_unsimilar_FC.mean()\n",
    "    else:\n",
    "        hit_diff_FC = hit_similar_FC.mean()\n",
    "    \n",
    "    org_whole_FC = tech_dataset.data.loc[whole_patent_classes[whole_patent_classes==set(dict_out[\"org_text\"][hit_samples_index][i])].index][\"TC5\"]\n",
    "    gen_whole_FC = tech_dataset.data.loc[whole_patent_classes[whole_patent_classes==set(dict_out[\"gen_text\"][hit_samples_index][i])].index][\"TC5\"]\n",
    "    if len(org_whole_FC)>0:\n",
    "        whole_FC_diff = gen_whole_FC.mean() - org_whole_FC.mean()\n",
    "    else:\n",
    "        whole_FC_diff = gen_whole_FC.mean()\n",
    "    \n",
    "    hit_similar_FCs.append(hit_similar_FC)\n",
    "    hit_similar_FCs_rank.append(hit_similar_FC_rank)\n",
    "    hit_similar_FCs_mean.append(hit_similar_FC.mean())\n",
    "    hit_unsimilar_FCs.append(hit_unsimilar_FC)\n",
    "    if len(hit_unsimilar_FC)>0:\n",
    "        hit_unsimilar_FCs_mean.append(hit_unsimilar_FC.mean())\n",
    "    else:\n",
    "        hit_unsimilar_FCs_mean.append(0)\n",
    "    hit_diff_FCs.append(hit_diff_FC)\n",
    "    \n",
    "    ttest_res = ttest_ind(gen_whole_FC, org_whole_FC, equal_var=False)\n",
    "    \n",
    "    whole_FC_ttest[\"statistic\"].append(ttest_res.statistic)\n",
    "    whole_FC_ttest[\"pvalue\"].append(ttest_res.pvalue)\n",
    "    if set(dict_out[\"org_text\"][hit_samples_index][i]) != set(dict_out[\"gen_text\"][hit_samples_index][i]):\n",
    "        whole_FCs_diff.append(whole_FC_diff)\n",
    "    \n",
    "hit_similar_FCs = np.concatenate(hit_similar_FCs)\n",
    "hit_similar_FCs_rank = np.concatenate(hit_similar_FCs_rank)\n",
    "hit_similar_FCs_mean = np.array(hit_similar_FCs_mean)\n",
    "hit_unsimilar_FCs = np.concatenate(hit_unsimilar_FCs)\n",
    "hit_unsimilar_FCs_mean = np.array(hit_unsimilar_FCs_mean)\n",
    "hit_diff_FCs = np.array(hit_diff_FCs)\n",
    "\n",
    "print(\"Distribution of forward citations (hit)\\n\",pd.Series(hit_similar_FCs).describe(),\"\\n\")\n",
    "print(\"Distribution of forward citations (not hit)\\n\",pd.Series(hit_unsimilar_FCs).describe(),\"\\n\")\n",
    "print(\"Distribution of mean forward citations (hit)\\n\",pd.Series(hit_similar_FCs_mean).describe(),\"\\n\")\n",
    "print(\"Distribution of mean forward citations (not hit)\\n\",pd.Series(hit_unsimilar_FCs_mean).describe(),\"\\n\")\n",
    "print(\"Distribution of difference of forward citations\\n\",pd.Series(hit_diff_FCs).describe(),\"\\n\")"
   ]
  },
  {
   "cell_type": "code",
   "execution_count": 342,
   "metadata": {
    "ExecuteTime": {
     "end_time": "2025-06-08T19:33:11.291453Z",
     "start_time": "2025-06-08T19:33:10.741961Z"
    }
   },
   "outputs": [],
   "source": [
    "whole_patent_classes = tech_dataset.data[\"patent_classes\"].apply(lambda x: set(x))"
   ]
  },
  {
   "cell_type": "code",
   "execution_count": 344,
   "metadata": {
    "ExecuteTime": {
     "end_time": "2025-06-08T19:33:29.112868Z",
     "start_time": "2025-06-08T19:33:29.101551Z"
    }
   },
   "outputs": [],
   "source": [
    "hit_similar_FCs, hit_unsimilar_FCs, hit_diff_FCs = [], [], []\n",
    "hit_similar_FCs_mean, hit_unsimilar_FCs_mean = [], []\n",
    "hit_similar_FCs_rank = []\n",
    "whole_FC_ttest = {\"statistic\": [], \"pvalue\": []}\n",
    "whole_FCs_diff = []\n",
    "hit_samples_index = dict_out[\"inclusions\"][:,-1]==1"
   ]
  },
  {
   "cell_type": "code",
   "execution_count": 345,
   "metadata": {
    "ExecuteTime": {
     "end_time": "2025-06-08T19:33:40.619364Z",
     "start_time": "2025-06-08T19:33:40.605124Z"
    }
   },
   "outputs": [],
   "source": [
    "hit_patent_ids = dict_out[\"patent_id\"][hit_samples_index]\n",
    "hit_similar_refs = dict_out[\"similar_refs\"][hit_samples_index][:,-1]\n",
    "hit_unsimilar_refs = dict_out[\"unsimilar_refs\"][hit_samples_index][:,-1]"
   ]
  },
  {
   "cell_type": "code",
   "execution_count": 353,
   "metadata": {
    "ExecuteTime": {
     "end_time": "2025-06-08T19:35:14.458756Z",
     "start_time": "2025-06-08T19:35:14.452105Z"
    }
   },
   "outputs": [],
   "source": [
    "i = 0"
   ]
  },
  {
   "cell_type": "code",
   "execution_count": 354,
   "metadata": {
    "ExecuteTime": {
     "end_time": "2025-06-08T19:35:14.943700Z",
     "start_time": "2025-06-08T19:35:14.927688Z"
    }
   },
   "outputs": [],
   "source": [
    "hit_FCs = dict_out[\"ref_FCs\"][hit_samples_index][i]\n",
    "hit_FCs = hit_FCs.loc[~hit_FCs.index.duplicated(keep=\"first\")]\n",
    "hit_similar_FC = hit_FCs.loc[hit_similar_refs[i].drop_duplicates()]\n",
    "hit_similar_FC_rank = hit_FCs.rank(pct=True).loc[hit_similar_refs[i].drop_duplicates()]\n",
    "hit_unsimilar_FC = hit_FCs.loc[hit_unsimilar_refs[i].drop_duplicates()]"
   ]
  },
  {
   "cell_type": "code",
   "execution_count": 359,
   "metadata": {
    "ExecuteTime": {
     "end_time": "2025-06-08T19:36:08.450906Z",
     "start_time": "2025-06-08T19:36:08.437966Z"
    }
   },
   "outputs": [
    {
     "data": {
      "text/plain": [
       "patent_number\n",
       "10236013      0\n",
       "8135700       4\n",
       "9959028       6\n",
       "10236011      0\n",
       "10236012      0\n",
       "10311887      0\n",
       "9509269     111\n",
       "10133460      5\n",
       "10391361      7\n",
       "10410649      0\n",
       "10297265      0\n",
       "8135736       3\n",
       "10416666      4\n",
       "Name: TC5, dtype: int64"
      ]
     },
     "execution_count": 359,
     "metadata": {},
     "output_type": "execute_result"
    }
   ],
   "source": [
    "hit_unsimilar_FC"
   ]
  },
  {
   "cell_type": "code",
   "execution_count": 360,
   "metadata": {
    "ExecuteTime": {
     "end_time": "2025-06-08T19:36:21.826451Z",
     "start_time": "2025-06-08T19:36:21.817409Z"
    }
   },
   "outputs": [],
   "source": [
    "if len(hit_unsimilar_FC)>0:\n",
    "    hit_diff_FC = hit_similar_FC.mean() - hit_unsimilar_FC.mean()\n",
    "else:\n",
    "    hit_diff_FC = hit_similar_FC.mean()"
   ]
  },
  {
   "cell_type": "code",
   "execution_count": 361,
   "metadata": {
    "ExecuteTime": {
     "end_time": "2025-06-08T19:36:24.133157Z",
     "start_time": "2025-06-08T19:36:24.124561Z"
    }
   },
   "outputs": [
    {
     "data": {
      "text/plain": [
       "-4.76923076923077"
      ]
     },
     "execution_count": 361,
     "metadata": {},
     "output_type": "execute_result"
    }
   ],
   "source": [
    "hit_diff_FC"
   ]
  },
  {
   "cell_type": "code",
   "execution_count": 362,
   "metadata": {
    "ExecuteTime": {
     "end_time": "2025-06-08T19:36:34.696435Z",
     "start_time": "2025-06-08T19:36:34.614455Z"
    }
   },
   "outputs": [],
   "source": [
    "org_whole_FC = tech_dataset.data.loc[whole_patent_classes[whole_patent_classes==set(dict_out[\"org_text\"][hit_samples_index][i])].index][\"TC5\"]\n",
    "gen_whole_FC = tech_dataset.data.loc[whole_patent_classes[whole_patent_classes==set(dict_out[\"gen_text\"][hit_samples_index][i])].index][\"TC5\"]"
   ]
  },
  {
   "cell_type": "code",
   "execution_count": 364,
   "metadata": {
    "ExecuteTime": {
     "end_time": "2025-06-08T19:36:57.561881Z",
     "start_time": "2025-06-08T19:36:57.547767Z"
    },
    "scrolled": true
   },
   "outputs": [
    {
     "data": {
      "text/plain": [
       "patent_number\n",
       "6990503    23\n",
       "7020612     5\n",
       "7039873     2\n",
       "7065741     1\n",
       "7093012    20\n",
       "           ..\n",
       "9223872     1\n",
       "9223853     1\n",
       "9223861     0\n",
       "9223782     0\n",
       "9223902    11\n",
       "Name: TC5, Length: 348, dtype: int64"
      ]
     },
     "execution_count": 364,
     "metadata": {},
     "output_type": "execute_result"
    }
   ],
   "source": [
    "gen_whole_FC"
   ]
  },
  {
   "cell_type": "code",
   "execution_count": 365,
   "metadata": {
    "ExecuteTime": {
     "end_time": "2025-06-08T19:37:03.197752Z",
     "start_time": "2025-06-08T19:37:03.189085Z"
    }
   },
   "outputs": [],
   "source": [
    "if len(org_whole_FC)>0:\n",
    "    whole_FC_diff = gen_whole_FC.mean() - org_whole_FC.mean()\n",
    "else:\n",
    "    whole_FC_diff = gen_whole_FC.mean()"
   ]
  },
  {
   "cell_type": "code",
   "execution_count": 366,
   "metadata": {
    "ExecuteTime": {
     "end_time": "2025-06-08T19:37:05.835911Z",
     "start_time": "2025-06-08T19:37:05.826193Z"
    }
   },
   "outputs": [
    {
     "data": {
      "text/plain": [
       "-2.43103448275862"
      ]
     },
     "execution_count": 366,
     "metadata": {},
     "output_type": "execute_result"
    }
   ],
   "source": [
    "whole_FC_diff"
   ]
  },
  {
   "cell_type": "code",
   "execution_count": 367,
   "metadata": {
    "ExecuteTime": {
     "end_time": "2025-06-08T19:37:14.208864Z",
     "start_time": "2025-06-08T19:37:14.201477Z"
    }
   },
   "outputs": [],
   "source": [
    "hit_similar_FCs.append(hit_similar_FC)\n",
    "hit_similar_FCs_rank.append(hit_similar_FC_rank)\n",
    "hit_similar_FCs_mean.append(hit_similar_FC.mean())\n",
    "hit_unsimilar_FCs.append(hit_unsimilar_FC)"
   ]
  },
  {
   "cell_type": "code",
   "execution_count": null,
   "metadata": {},
   "outputs": [],
   "source": [
    "if len(hit_unsimilar_FC)>0:\n",
    "    hit_unsimilar_FCs_mean.append(hit_unsimilar_FC.mean())\n",
    "else:\n",
    "    hit_unsimilar_FCs_mean.append(0)\n",
    "hit_diff_FCs.append(hit_diff_FC)\n",
    "\n",
    "ttest_res = ttest_ind(gen_whole_FC, org_whole_FC, equal_var=False)\n",
    "\n",
    "whole_FC_ttest[\"statistic\"].append(ttest_res.statistic)\n",
    "whole_FC_ttest[\"pvalue\"].append(ttest_res.pvalue)\n",
    "if set(dict_out[\"org_text\"][hit_samples_index][i]) != set(dict_out[\"gen_text\"][hit_samples_index][i]):\n",
    "    whole_FCs_diff.append(whole_FC_diff)"
   ]
  },
  {
   "cell_type": "code",
   "execution_count": 264,
   "metadata": {
    "ExecuteTime": {
     "end_time": "2025-06-08T16:53:54.675989Z",
     "start_time": "2025-06-08T16:53:54.665441Z"
    }
   },
   "outputs": [
    {
     "data": {
      "text/plain": [
       "array([8108343, 8032383, 8024799, 8819826, 8355610, 7010095, 8977643,\n",
       "       7242681, 7085753, 7076481, 7181459, 8059265, 8571618, 8849670,\n",
       "       7185000, 7062083, 7243093, 7401069, 8886540, 8797295, 7440981])"
      ]
     },
     "execution_count": 264,
     "metadata": {},
     "output_type": "execute_result"
    }
   ],
   "source": [
    "dict_out[\"patent_id\"][hit_samples_index]"
   ]
  },
  {
   "cell_type": "code",
   "execution_count": 368,
   "metadata": {
    "ExecuteTime": {
     "end_time": "2025-06-08T19:38:04.885308Z",
     "start_time": "2025-06-08T19:38:04.868057Z"
    }
   },
   "outputs": [],
   "source": [
    "cnt_same, cnt_diff = 0, 0\n",
    "ranks_same, ranks_diff = [], []\n",
    "value_same, value_diff = [], []\n",
    "org_patents_same, org_patents_diff = [], []\n",
    "cols_val = [\"patent_id\", \"org_ipcs\", \"org_FC\", \"gen_ipcs\", \"is_same\", \n",
    "            \"forward_ref\", \"ref_ipcs\", \"ref_FC\", \"ref_FC_rank\"]\n",
    "df_val = pd.DataFrame(columns=cols_val)\n",
    "hit_similar_refs = dict_out[\"similar_refs\"][hit_samples_index][:,-1]"
   ]
  },
  {
   "cell_type": "code",
   "execution_count": 376,
   "metadata": {
    "ExecuteTime": {
     "end_time": "2025-06-08T19:38:43.663943Z",
     "start_time": "2025-06-08T19:38:43.641988Z"
    }
   },
   "outputs": [
    {
     "data": {
      "text/plain": [
       "patent_number\n",
       "10236013    {G10L013, H04W004, G06F003, H04M001, G10L025, ...\n",
       "8135700                                    {G06F016, Y10S715}\n",
       "8135700                                    {G06F016, Y10S715}\n",
       "9959028     {E21B044, G06F003, E21B047, E21B049, H04L067, ...\n",
       "10236011    {H04R001, G10L013, H04W004, G06F003, H04M001, ...\n",
       "10236012    {H04R001, G10L013, H04W004, G06F003, H04M001, ...\n",
       "10311887    {H04R001, G10L013, G06F003, H04W004, H04M001, ...\n",
       "9509269                           {G11B020, G11B027, H03G003}\n",
       "10133460                 {E21B047, H04L067, G06F003, H04L069}\n",
       "10391361                 {G06F016, A63B022, A63B024, A63B071}\n",
       "10410649    {H04R001, G10L013, H04W004, G06F003, H04M001, ...\n",
       "10297265    {H04R001, G10L013, G06F003, H04W004, G10L025, ...\n",
       "8135736                                    {G06F016, Y10S715}\n",
       "8135736                                    {G06F016, Y10S715}\n",
       "10416666        {B64C039, G06F003, H04L065, G05D001, G06Q010}\n",
       "9576050                                             {G06F016}\n",
       "Name: patent_classes, dtype: object"
      ]
     },
     "execution_count": 376,
     "metadata": {},
     "output_type": "execute_result"
    }
   ],
   "source": [
    "dict_out[\"ref_ipcs\"][hit_samples_index][0]"
   ]
  },
  {
   "cell_type": "code",
   "execution_count": 377,
   "metadata": {
    "ExecuteTime": {
     "end_time": "2025-06-08T19:38:57.234572Z",
     "start_time": "2025-06-08T19:38:57.222288Z"
    }
   },
   "outputs": [
    {
     "data": {
      "text/plain": [
       "7542816"
      ]
     },
     "execution_count": 377,
     "metadata": {},
     "output_type": "execute_result"
    }
   ],
   "source": [
    "dict_out[\"patent_id\"][hit_samples_index][i]"
   ]
  },
  {
   "cell_type": "code",
   "execution_count": 380,
   "metadata": {
    "ExecuteTime": {
     "end_time": "2025-06-08T19:39:18.156027Z",
     "start_time": "2025-06-08T19:39:18.146222Z"
    }
   },
   "outputs": [
    {
     "data": {
      "text/plain": [
       "Index(['6983309', '6982420', '6983071', '6982717', '6983073', '6983051',\n",
       "       '6983229', '6983242', '6983320', '6982659',\n",
       "       ...\n",
       "       '9226105', '9223299', '9226051', '9225639', '9225549', '9223620',\n",
       "       '9223405', '9225764', '9226068', '9223929'],\n",
       "      dtype='object', name='patent_number', length=133654)"
      ]
     },
     "execution_count": 380,
     "metadata": {},
     "output_type": "execute_result"
    }
   ],
   "source": [
    "tech_dataset.data.index"
   ]
  },
  {
   "cell_type": "code",
   "execution_count": 396,
   "metadata": {
    "ExecuteTime": {
     "end_time": "2025-06-08T19:51:35.677585Z",
     "start_time": "2025-06-08T19:51:35.667075Z"
    }
   },
   "outputs": [
    {
     "data": {
      "text/plain": [
       "(381,)"
      ]
     },
     "execution_count": 396,
     "metadata": {},
     "output_type": "execute_result"
    }
   ],
   "source": [
    "dict_out[\"patent_id\"][hit_samples_index].shape"
   ]
  },
  {
   "cell_type": "code",
   "execution_count": 95,
   "metadata": {
    "ExecuteTime": {
     "end_time": "2025-06-09T10:07:43.904723Z",
     "start_time": "2025-06-09T10:07:40.541040Z"
    },
    "scrolled": true
   },
   "outputs": [
    {
     "name": "stderr",
     "output_type": "stream",
     "text": [
      "100%|██████████| 256/256 [00:03<00:00, 76.96it/s] \n"
     ]
    }
   ],
   "source": [
    "cnt_same, cnt_diff = 0, 0\n",
    "ranks_same, ranks_diff = [], []\n",
    "value_same, value_diff = [], []\n",
    "org_patents_same, org_patents_diff = [], []\n",
    "cols_val = [\"patent_id\", \"org_ipcs\", \"org_FC\", \"gen_ipcs\", \"is_same\", \n",
    "            \"forward_ref\", \"ref_ipcs\", \"ref_FC\", \"ref_FC_rank\"]\n",
    "df_val = pd.DataFrame(columns=cols_val)\n",
    "hit_similar_refs = dict_out[\"similar_refs\"][hit_samples_index][:,-1]\n",
    "\n",
    "for i in tqdm(range(len(dict_out[\"ref_ipcs\"][hit_samples_index]))):\n",
    "    pid = dict_out[\"patent_id\"][hit_samples_index][i]\n",
    "    pid = str(pid)\n",
    "    org_FC = tech_dataset.data.loc[pid][\"TC5\"]\n",
    "    orgs = set(dict_out[\"org_text\"][dict_out[\"inclusions\"][:,-1]==1][i])\n",
    "    gens = set(dict_out[\"gen_text\"][dict_out[\"inclusions\"][:,-1]==1][i])\n",
    "    is_same = 1 if orgs==gens or orgs.union(gens)==orgs else 0\n",
    "    hit_FCs = dict_out[\"ref_FCs\"][hit_samples_index][i]\n",
    "    hit_FCs = hit_FCs.loc[~hit_FCs.index.duplicated(keep=\"first\")]\n",
    "    hit_similar_FC = hit_FCs.loc[hit_similar_refs[i][hit_similar_refs[i].duplicated()]]\n",
    "#     hit_similar_FC = hit_similar_FC.drop_duplicates()\n",
    "    hit_similar_FC_rank = hit_FCs.rank(pct=True).loc[hit_similar_refs[i][hit_similar_refs[i].duplicated()]]\n",
    "#     hit_similar_FC_rank = hit_similar_FC_rank.drop_duplicates()\n",
    "    \n",
    "    for ref in hit_similar_refs[i].drop_duplicates():\n",
    "        ref_ipcs = dict_out[\"ref_ipcs\"][hit_samples_index][i].loc[ref]\n",
    "        if isinstance(ref_ipcs, pd.Series): ref_ipcs = ref_ipcs[0]\n",
    "        hit_similar_FC = hit_FCs.loc[ref]\n",
    "        if isinstance(hit_similar_FC, pd.Series): hit_similar_FC = hit_similar_FC[0]\n",
    "        hit_similar_FC_rank = hit_FCs.rank(pct=True).loc[ref]\n",
    "        if isinstance(hit_similar_FC_rank, pd.Series): hit_similar_FC_rank = hit_similar_FC_rank[0]\n",
    "        \n",
    "        df_container = pd.DataFrame([[pid, orgs, org_FC, gens, is_same, ref, ref_ipcs, hit_similar_FC, hit_similar_FC_rank]], columns=cols_val)\n",
    "        df_val = pd.concat([df_val, df_container])\n",
    "\n",
    "df_val = df_val.set_index(\"patent_id\")"
   ]
  },
  {
   "cell_type": "code",
   "execution_count": 96,
   "metadata": {
    "ExecuteTime": {
     "end_time": "2025-06-09T10:07:44.715914Z",
     "start_time": "2025-06-09T10:07:44.667328Z"
    }
   },
   "outputs": [],
   "source": [
    "df_val.loc[:,\"ref_FC_new\"] = df_val.apply(lambda x: str(x[\"ref_FC\"])+\" (\"+str(np.round(x[\"ref_FC_rank\"],2))+\")\", axis=1)"
   ]
  },
  {
   "cell_type": "code",
   "execution_count": 97,
   "metadata": {
    "ExecuteTime": {
     "end_time": "2025-06-09T10:07:45.220644Z",
     "start_time": "2025-06-09T10:07:45.186716Z"
    },
    "scrolled": true
   },
   "outputs": [
    {
     "data": {
      "text/html": [
       "<div>\n",
       "<style scoped>\n",
       "    .dataframe tbody tr th:only-of-type {\n",
       "        vertical-align: middle;\n",
       "    }\n",
       "\n",
       "    .dataframe tbody tr th {\n",
       "        vertical-align: top;\n",
       "    }\n",
       "\n",
       "    .dataframe thead th {\n",
       "        text-align: right;\n",
       "    }\n",
       "</style>\n",
       "<table border=\"1\" class=\"dataframe\">\n",
       "  <thead>\n",
       "    <tr style=\"text-align: right;\">\n",
       "      <th></th>\n",
       "      <th>org_ipcs</th>\n",
       "      <th>org_FC</th>\n",
       "      <th>gen_ipcs</th>\n",
       "      <th>is_same</th>\n",
       "      <th>forward_ref</th>\n",
       "      <th>ref_ipcs</th>\n",
       "      <th>ref_FC</th>\n",
       "      <th>ref_FC_rank</th>\n",
       "      <th>ref_FC_new</th>\n",
       "    </tr>\n",
       "    <tr>\n",
       "      <th>patent_id</th>\n",
       "      <th></th>\n",
       "      <th></th>\n",
       "      <th></th>\n",
       "      <th></th>\n",
       "      <th></th>\n",
       "      <th></th>\n",
       "      <th></th>\n",
       "      <th></th>\n",
       "      <th></th>\n",
       "    </tr>\n",
       "  </thead>\n",
       "  <tbody>\n",
       "    <tr>\n",
       "      <th>7542816</th>\n",
       "      <td>{Y10S707, G11B027, G06F016}</td>\n",
       "      <td>18</td>\n",
       "      <td>{G06F016}</td>\n",
       "      <td>1</td>\n",
       "      <td>9576050</td>\n",
       "      <td>{G06F016}</td>\n",
       "      <td>6</td>\n",
       "      <td>0.821429</td>\n",
       "      <td>6 (0.82)</td>\n",
       "    </tr>\n",
       "    <tr>\n",
       "      <th>8108343</th>\n",
       "      <td>{G06F016}</td>\n",
       "      <td>11</td>\n",
       "      <td>{G06F016}</td>\n",
       "      <td>1</td>\n",
       "      <td>10331657</td>\n",
       "      <td>{G06F016}</td>\n",
       "      <td>2</td>\n",
       "      <td>0.500000</td>\n",
       "      <td>2 (0.5)</td>\n",
       "    </tr>\n",
       "    <tr>\n",
       "      <th>8032383</th>\n",
       "      <td>{G10L015}</td>\n",
       "      <td>51</td>\n",
       "      <td>{G10L015}</td>\n",
       "      <td>1</td>\n",
       "      <td>9858925</td>\n",
       "      <td>{G10L015}</td>\n",
       "      <td>35</td>\n",
       "      <td>0.822222</td>\n",
       "      <td>35 (0.82)</td>\n",
       "    </tr>\n",
       "    <tr>\n",
       "      <th>8032383</th>\n",
       "      <td>{G10L015}</td>\n",
       "      <td>51</td>\n",
       "      <td>{G10L015}</td>\n",
       "      <td>1</td>\n",
       "      <td>10395654</td>\n",
       "      <td>{G10L015}</td>\n",
       "      <td>3</td>\n",
       "      <td>0.400000</td>\n",
       "      <td>3 (0.4)</td>\n",
       "    </tr>\n",
       "    <tr>\n",
       "      <th>8032383</th>\n",
       "      <td>{G10L015}</td>\n",
       "      <td>51</td>\n",
       "      <td>{G10L015}</td>\n",
       "      <td>1</td>\n",
       "      <td>10079014</td>\n",
       "      <td>{G10L015}</td>\n",
       "      <td>0</td>\n",
       "      <td>0.107407</td>\n",
       "      <td>0 (0.11)</td>\n",
       "    </tr>\n",
       "    <tr>\n",
       "      <th>...</th>\n",
       "      <td>...</td>\n",
       "      <td>...</td>\n",
       "      <td>...</td>\n",
       "      <td>...</td>\n",
       "      <td>...</td>\n",
       "      <td>...</td>\n",
       "      <td>...</td>\n",
       "      <td>...</td>\n",
       "      <td>...</td>\n",
       "    </tr>\n",
       "    <tr>\n",
       "      <th>7080090</th>\n",
       "      <td>{G06F021, Y10S707, G06F016}</td>\n",
       "      <td>3</td>\n",
       "      <td>{G06F021, G06F016}</td>\n",
       "      <td>1</td>\n",
       "      <td>10346429</td>\n",
       "      <td>{G06F021, G06F016}</td>\n",
       "      <td>12</td>\n",
       "      <td>1.000000</td>\n",
       "      <td>12 (1.0)</td>\n",
       "    </tr>\n",
       "    <tr>\n",
       "      <th>8904496</th>\n",
       "      <td>{H04L009, H04W012, G06F021}</td>\n",
       "      <td>6</td>\n",
       "      <td>{H04L063, G06F021, H04W012}</td>\n",
       "      <td>0</td>\n",
       "      <td>10284538</td>\n",
       "      <td>{H04L063, G06F021, H04W012}</td>\n",
       "      <td>0</td>\n",
       "      <td>0.750000</td>\n",
       "      <td>0 (0.75)</td>\n",
       "    </tr>\n",
       "    <tr>\n",
       "      <th>9043922</th>\n",
       "      <td>{G06F021}</td>\n",
       "      <td>16</td>\n",
       "      <td>{H04L063, G06F021, G06F016}</td>\n",
       "      <td>0</td>\n",
       "      <td>9977920</td>\n",
       "      <td>{H04L063, G06F021, G06F016}</td>\n",
       "      <td>1</td>\n",
       "      <td>0.583333</td>\n",
       "      <td>1 (0.58)</td>\n",
       "    </tr>\n",
       "    <tr>\n",
       "      <th>7475425</th>\n",
       "      <td>{H04L063}</td>\n",
       "      <td>17</td>\n",
       "      <td>{H04L063}</td>\n",
       "      <td>1</td>\n",
       "      <td>9356941</td>\n",
       "      <td>{H04L063}</td>\n",
       "      <td>15</td>\n",
       "      <td>1.000000</td>\n",
       "      <td>15 (1.0)</td>\n",
       "    </tr>\n",
       "    <tr>\n",
       "      <th>7818341</th>\n",
       "      <td>{G06F016}</td>\n",
       "      <td>4</td>\n",
       "      <td>{G06F016}</td>\n",
       "      <td>1</td>\n",
       "      <td>9135357</td>\n",
       "      <td>{G06F016}</td>\n",
       "      <td>0</td>\n",
       "      <td>0.750000</td>\n",
       "      <td>0 (0.75)</td>\n",
       "    </tr>\n",
       "  </tbody>\n",
       "</table>\n",
       "<p>682 rows × 9 columns</p>\n",
       "</div>"
      ],
      "text/plain": [
       "                              org_ipcs org_FC                     gen_ipcs  \\\n",
       "patent_id                                                                    \n",
       "7542816    {Y10S707, G11B027, G06F016}     18                    {G06F016}   \n",
       "8108343                      {G06F016}     11                    {G06F016}   \n",
       "8032383                      {G10L015}     51                    {G10L015}   \n",
       "8032383                      {G10L015}     51                    {G10L015}   \n",
       "8032383                      {G10L015}     51                    {G10L015}   \n",
       "...                                ...    ...                          ...   \n",
       "7080090    {G06F021, Y10S707, G06F016}      3           {G06F021, G06F016}   \n",
       "8904496    {H04L009, H04W012, G06F021}      6  {H04L063, G06F021, H04W012}   \n",
       "9043922                      {G06F021}     16  {H04L063, G06F021, G06F016}   \n",
       "7475425                      {H04L063}     17                    {H04L063}   \n",
       "7818341                      {G06F016}      4                    {G06F016}   \n",
       "\n",
       "          is_same forward_ref                     ref_ipcs ref_FC  \\\n",
       "patent_id                                                           \n",
       "7542816         1     9576050                    {G06F016}      6   \n",
       "8108343         1    10331657                    {G06F016}      2   \n",
       "8032383         1     9858925                    {G10L015}     35   \n",
       "8032383         1    10395654                    {G10L015}      3   \n",
       "8032383         1    10079014                    {G10L015}      0   \n",
       "...           ...         ...                          ...    ...   \n",
       "7080090         1    10346429           {G06F021, G06F016}     12   \n",
       "8904496         0    10284538  {H04L063, G06F021, H04W012}      0   \n",
       "9043922         0     9977920  {H04L063, G06F021, G06F016}      1   \n",
       "7475425         1     9356941                    {H04L063}     15   \n",
       "7818341         1     9135357                    {G06F016}      0   \n",
       "\n",
       "           ref_FC_rank ref_FC_new  \n",
       "patent_id                          \n",
       "7542816       0.821429   6 (0.82)  \n",
       "8108343       0.500000    2 (0.5)  \n",
       "8032383       0.822222  35 (0.82)  \n",
       "8032383       0.400000    3 (0.4)  \n",
       "8032383       0.107407   0 (0.11)  \n",
       "...                ...        ...  \n",
       "7080090       1.000000   12 (1.0)  \n",
       "8904496       0.750000   0 (0.75)  \n",
       "9043922       0.583333   1 (0.58)  \n",
       "7475425       1.000000   15 (1.0)  \n",
       "7818341       0.750000   0 (0.75)  \n",
       "\n",
       "[682 rows x 9 columns]"
      ]
     },
     "execution_count": 97,
     "metadata": {},
     "output_type": "execute_result"
    }
   ],
   "source": [
    "df_val"
   ]
  },
  {
   "cell_type": "code",
   "execution_count": 98,
   "metadata": {
    "ExecuteTime": {
     "end_time": "2025-06-09T10:07:46.352093Z",
     "start_time": "2025-06-09T10:07:46.323053Z"
    },
    "scrolled": false
   },
   "outputs": [
    {
     "name": "stdout",
     "output_type": "stream",
     "text": [
      "total hit: 682\n",
      "same: 634\n",
      "diff: 48\n",
      "over L1 criterion: 8\n",
      "ratio: 0.16666666666666666\n"
     ]
    }
   ],
   "source": [
    "L1_criterion = tech_dataset.data[\"TC5\"].quantile(0.9)\n",
    "print(\"total hit:\", len(df_val))\n",
    "print(\"same:\",len(df_val[df_val[\"is_same\"]==1]))\n",
    "print(\"diff:\",len(df_val[df_val[\"is_same\"]==0]))\n",
    "print(\"over L1 criterion:\", len(df_val[df_val[\"is_same\"]==0][df_val[df_val[\"is_same\"]==0][\"ref_FC\"]>=L1_criterion]))\n",
    "print(\"ratio:\",len(df_val[df_val[\"is_same\"]==0][df_val[df_val[\"is_same\"]==0][\"ref_FC\"]>=L1_criterion]) / len(df_val[df_val[\"is_same\"]==0]))"
   ]
  },
  {
   "cell_type": "code",
   "execution_count": 99,
   "metadata": {
    "ExecuteTime": {
     "end_time": "2025-06-09T10:07:47.436772Z",
     "start_time": "2025-06-09T10:07:47.404033Z"
    },
    "scrolled": false
   },
   "outputs": [
    {
     "data": {
      "text/html": [
       "<div>\n",
       "<style scoped>\n",
       "    .dataframe tbody tr th:only-of-type {\n",
       "        vertical-align: middle;\n",
       "    }\n",
       "\n",
       "    .dataframe tbody tr th {\n",
       "        vertical-align: top;\n",
       "    }\n",
       "\n",
       "    .dataframe thead th {\n",
       "        text-align: right;\n",
       "    }\n",
       "</style>\n",
       "<table border=\"1\" class=\"dataframe\">\n",
       "  <thead>\n",
       "    <tr style=\"text-align: right;\">\n",
       "      <th></th>\n",
       "      <th>org_ipcs</th>\n",
       "      <th>org_FC</th>\n",
       "      <th>gen_ipcs</th>\n",
       "      <th>forward_ref</th>\n",
       "      <th>ref_ipcs</th>\n",
       "      <th>ref_FC_new</th>\n",
       "    </tr>\n",
       "    <tr>\n",
       "      <th>patent_id</th>\n",
       "      <th></th>\n",
       "      <th></th>\n",
       "      <th></th>\n",
       "      <th></th>\n",
       "      <th></th>\n",
       "      <th></th>\n",
       "    </tr>\n",
       "  </thead>\n",
       "  <tbody>\n",
       "    <tr>\n",
       "      <th>7242681</th>\n",
       "      <td>{H04L063}</td>\n",
       "      <td>10</td>\n",
       "      <td>{H04L063, G06F021}</td>\n",
       "      <td>9875344</td>\n",
       "      <td>{H04L063, G06F021}</td>\n",
       "      <td>20 (0.8)</td>\n",
       "    </tr>\n",
       "    <tr>\n",
       "      <th>8307177</th>\n",
       "      <td>{G06F011, G06F009, G06F016}</td>\n",
       "      <td>165</td>\n",
       "      <td>{G06F011, G06F003, G06F016}</td>\n",
       "      <td>9588849</td>\n",
       "      <td>{G06F011, G06F003, G06F016}</td>\n",
       "      <td>24 (0.84)</td>\n",
       "    </tr>\n",
       "    <tr>\n",
       "      <th>7328155</th>\n",
       "      <td>{G10L015}</td>\n",
       "      <td>29</td>\n",
       "      <td>{G10L015, G01C021}</td>\n",
       "      <td>8219399</td>\n",
       "      <td>{G10L015, G01C021}</td>\n",
       "      <td>29 (0.75)</td>\n",
       "    </tr>\n",
       "    <tr>\n",
       "      <th>7363549</th>\n",
       "      <td>{G06F011}</td>\n",
       "      <td>28</td>\n",
       "      <td>{G06F011, G06F016}</td>\n",
       "      <td>7979441</td>\n",
       "      <td>{G06F011, G06F016}</td>\n",
       "      <td>18 (0.77)</td>\n",
       "    </tr>\n",
       "    <tr>\n",
       "      <th>7363549</th>\n",
       "      <td>{G06F011}</td>\n",
       "      <td>28</td>\n",
       "      <td>{G06F011, G06F016}</td>\n",
       "      <td>8108429</td>\n",
       "      <td>{G06F011, G06F016}</td>\n",
       "      <td>40 (1.0)</td>\n",
       "    </tr>\n",
       "    <tr>\n",
       "      <th>7363549</th>\n",
       "      <td>{G06F011}</td>\n",
       "      <td>28</td>\n",
       "      <td>{G06F011, G06F016}</td>\n",
       "      <td>7904913</td>\n",
       "      <td>{G06F011, G06F016}</td>\n",
       "      <td>24 (0.86)</td>\n",
       "    </tr>\n",
       "    <tr>\n",
       "      <th>7363549</th>\n",
       "      <td>{G06F011}</td>\n",
       "      <td>28</td>\n",
       "      <td>{G06F011, G06F016}</td>\n",
       "      <td>7689602</td>\n",
       "      <td>{G06F011, G06F016}</td>\n",
       "      <td>17 (0.73)</td>\n",
       "    </tr>\n",
       "    <tr>\n",
       "      <th>7363549</th>\n",
       "      <td>{G06F011}</td>\n",
       "      <td>28</td>\n",
       "      <td>{G06F011, G06F016}</td>\n",
       "      <td>8131723</td>\n",
       "      <td>{G06F011, G06F016}</td>\n",
       "      <td>29 (0.95)</td>\n",
       "    </tr>\n",
       "  </tbody>\n",
       "</table>\n",
       "</div>"
      ],
      "text/plain": [
       "                              org_ipcs org_FC                     gen_ipcs  \\\n",
       "patent_id                                                                    \n",
       "7242681                      {H04L063}     10           {H04L063, G06F021}   \n",
       "8307177    {G06F011, G06F009, G06F016}    165  {G06F011, G06F003, G06F016}   \n",
       "7328155                      {G10L015}     29           {G10L015, G01C021}   \n",
       "7363549                      {G06F011}     28           {G06F011, G06F016}   \n",
       "7363549                      {G06F011}     28           {G06F011, G06F016}   \n",
       "7363549                      {G06F011}     28           {G06F011, G06F016}   \n",
       "7363549                      {G06F011}     28           {G06F011, G06F016}   \n",
       "7363549                      {G06F011}     28           {G06F011, G06F016}   \n",
       "\n",
       "          forward_ref                     ref_ipcs ref_FC_new  \n",
       "patent_id                                                      \n",
       "7242681       9875344           {H04L063, G06F021}   20 (0.8)  \n",
       "8307177       9588849  {G06F011, G06F003, G06F016}  24 (0.84)  \n",
       "7328155       8219399           {G10L015, G01C021}  29 (0.75)  \n",
       "7363549       7979441           {G06F011, G06F016}  18 (0.77)  \n",
       "7363549       8108429           {G06F011, G06F016}   40 (1.0)  \n",
       "7363549       7904913           {G06F011, G06F016}  24 (0.86)  \n",
       "7363549       7689602           {G06F011, G06F016}  17 (0.73)  \n",
       "7363549       8131723           {G06F011, G06F016}  29 (0.95)  "
      ]
     },
     "execution_count": 99,
     "metadata": {},
     "output_type": "execute_result"
    }
   ],
   "source": [
    "## 인용 IPC 중 생성 IPC와 동일한 게 있으면서, 입력 IPC와 생성 IPC가 다르고, 피인용수가 전체 데이터셋의 L1 기준 이상인 샘플\n",
    "df_val[df_val[\"is_same\"]==0][df_val[df_val[\"is_same\"]==0][\"ref_FC\"]>=L1_criterion].drop(labels=[\"is_same\", \"ref_FC\", \"ref_FC_rank\"], axis=1)"
   ]
  },
  {
   "cell_type": "code",
   "execution_count": 82,
   "metadata": {
    "ExecuteTime": {
     "end_time": "2025-06-09T08:29:57.291577Z",
     "start_time": "2025-06-09T08:29:57.269153Z"
    }
   },
   "outputs": [
    {
     "data": {
      "text/plain": [
       "patent_id\n",
       "7242681    7242681\n",
       "8621259    8621259\n",
       "8189878    8189878\n",
       "7917869    7917869\n",
       "7685179    7685179\n",
       "7409390    7409390\n",
       "7328155    7328155\n",
       "7363549    7363549\n",
       "7363549    7363549\n",
       "7505979    7505979\n",
       "dtype: object"
      ]
     },
     "execution_count": 82,
     "metadata": {},
     "output_type": "execute_result"
    }
   ],
   "source": [
    "## 인용 IPC 중 생성 IPC와 동일하면서, 입력 IPC와는 다르고, 피인용수가 입력 특허보다 많은 샘플\n",
    "df_val[df_val[\"is_same\"]==0].drop(labels=[\"is_same\", \"ref_FC\", \"ref_FC_rank\"], axis=1).apply(lambda x: x.name if int(x[\"org_FC\"]) <= int(x[\"ref_FC_new\"].split(\"(\")[0]) else np.nan, axis=1).dropna()"
   ]
  },
  {
   "cell_type": "code",
   "execution_count": 391,
   "metadata": {
    "ExecuteTime": {
     "end_time": "2025-06-08T19:45:32.362069Z",
     "start_time": "2025-06-08T19:45:32.345801Z"
    }
   },
   "outputs": [
    {
     "data": {
      "text/plain": [
       "org_ipcs                {Y10S707, G06F040}\n",
       "org_FC                                   3\n",
       "gen_ipcs       {Y10S707, G06F040, G06F016}\n",
       "is_same                                  0\n",
       "forward_ref                        8327260\n",
       "ref_ipcs       {G06F040, Y10S707, G06F016}\n",
       "ref_FC                                  12\n",
       "ref_FC_rank                            1.0\n",
       "ref_FC_new                        12 (1.0)\n",
       "Name: 7188306, dtype: object"
      ]
     },
     "execution_count": 391,
     "metadata": {},
     "output_type": "execute_result"
    }
   ],
   "source": [
    "df_val.loc[\"7188306\"]"
   ]
  },
  {
   "cell_type": "markdown",
   "metadata": {},
   "source": [
    "**5.1 in-depth 사례를 4.3으로 옮기기 위해, iteration 과정 추출 (231018)**"
   ]
  },
  {
   "cell_type": "markdown",
   "metadata": {},
   "source": [
    "7600135"
   ]
  },
  {
   "cell_type": "code",
   "execution_count": null,
   "metadata": {
    "ExecuteTime": {
     "end_time": "2023-10-18T22:40:13.087672Z",
     "start_time": "2023-10-18T22:40:13.084562Z"
    }
   },
   "outputs": [],
   "source": [
    "idx = dict_out[\"index\"][np.where(dict_out[\"patent_id\"]==\"7600135\")[0][0]]"
   ]
  },
  {
   "cell_type": "code",
   "execution_count": null,
   "metadata": {
    "ExecuteTime": {
     "end_time": "2023-10-18T22:50:58.749356Z",
     "start_time": "2023-10-18T22:50:58.735930Z"
    }
   },
   "outputs": [],
   "source": [
    "tech_dataset.data.iloc[used_test_index_TC[idx]]"
   ]
  },
  {
   "cell_type": "code",
   "execution_count": null,
   "metadata": {
    "ExecuteTime": {
     "end_time": "2023-10-18T22:51:59.839020Z",
     "start_time": "2023-10-18T22:51:59.836084Z"
    }
   },
   "outputs": [],
   "source": [
    "model = final_model.module if torch.cuda.is_available() else final_model"
   ]
  },
  {
   "cell_type": "code",
   "execution_count": null,
   "metadata": {
    "ExecuteTime": {
     "end_time": "2023-10-18T23:38:53.770068Z",
     "start_time": "2023-10-18T23:38:53.756504Z"
    }
   },
   "outputs": [],
   "source": [
    "input_class = torch.tensor(tech_dataset.tokenizers[\"class_enc\"].encode(tech_dataset.X_class[used_test_index_TC][idx])).unsqueeze(0)\n",
    "input_claim = tech_dataset.tokenize(tech_dataset.tokenizers[\"claim_enc\"], tech_dataset.X_claim[used_test_index_TC][idx])\n",
    "input_claim = {k: v.unsqueeze(0) for k, v in input_claim.items()}\n",
    "batch_input = {\"class\": torch.tensor(input_class), \"claim\": input_claim}\n",
    "input_inf = to_device(batch_input, model.device)\n",
    "\n",
    "output_class = torch.tensor(tech_dataset.tokenizers[\"class_dec\"].encode(tech_dataset.X_class[used_test_index_TC][idx])).unsqueeze(0)\n",
    "batch_output = {\"text_outputs\": torch.tensor(output_class)}\n",
    "output_inf = to_device(batch_output, model.device)"
   ]
  },
  {
   "cell_type": "code",
   "execution_count": null,
   "metadata": {
    "ExecuteTime": {
     "end_time": "2023-10-19T00:07:41.675436Z",
     "start_time": "2023-10-19T00:07:41.656636Z"
    }
   },
   "outputs": [],
   "source": [
    "forward_refs = used_rawdata.loc[used_test_data_TC.iloc[idx][\"number\"]][\"forward_refs\"].split(\";\")\n",
    "ref_info = total_data.loc[[ref for ref in forward_refs if ref in total_data.index]]\n",
    "if len(ref_info) == 0:\n",
    "    pass\n",
    "else:\n",
    "    ref_ipcs = ref_info[\"ipcs\"].apply(lambda x: set(x))\n",
    "    ref_FCs = ref_info[\"TC\"+str(n_TC)]"
   ]
  },
  {
   "cell_type": "code",
   "execution_count": null,
   "metadata": {
    "ExecuteTime": {
     "end_time": "2023-10-19T00:56:54.728714Z",
     "start_time": "2023-10-19T00:56:54.725676Z"
    }
   },
   "outputs": [],
   "source": [
    "idx = dict_out[\"index\"][np.where(dict_out[\"patent_id\"]==\"7636945\")[0][0]]"
   ]
  },
  {
   "cell_type": "code",
   "execution_count": null,
   "metadata": {
    "ExecuteTime": {
     "end_time": "2023-10-19T00:56:55.776493Z",
     "start_time": "2023-10-19T00:56:55.771025Z"
    }
   },
   "outputs": [],
   "source": [
    "tech_dataset.data.iloc[used_test_index_TC[idx]]"
   ]
  },
  {
   "cell_type": "markdown",
   "metadata": {},
   "source": [
    "7636945"
   ]
  },
  {
   "cell_type": "code",
   "execution_count": null,
   "metadata": {
    "ExecuteTime": {
     "end_time": "2023-10-19T00:57:04.341623Z",
     "start_time": "2023-10-19T00:57:04.338653Z"
    }
   },
   "outputs": [],
   "source": [
    "model = final_model.module if torch.cuda.is_available() else final_model"
   ]
  },
  {
   "cell_type": "code",
   "execution_count": null,
   "metadata": {
    "ExecuteTime": {
     "end_time": "2023-10-19T00:57:05.404740Z",
     "start_time": "2023-10-19T00:57:05.370008Z"
    }
   },
   "outputs": [],
   "source": [
    "input_class = torch.tensor(tech_dataset.tokenizers[\"class_enc\"].encode(tech_dataset.X_class[used_test_index_TC][idx])).unsqueeze(0)\n",
    "input_claim = tech_dataset.tokenize(tech_dataset.tokenizers[\"claim_enc\"], tech_dataset.X_claim[used_test_index_TC][idx])\n",
    "input_claim = {k: v.unsqueeze(0) for k, v in input_claim.items()}\n",
    "batch_input = {\"class\": torch.tensor(input_class), \"claim\": input_claim}\n",
    "input_inf = to_device(batch_input, model.device)\n",
    "\n",
    "output_class = torch.tensor(tech_dataset.tokenizers[\"class_dec\"].encode(tech_dataset.X_class[used_test_index_TC][idx])).unsqueeze(0)\n",
    "batch_output = {\"text_outputs\": torch.tensor(output_class)}\n",
    "output_inf = to_device(batch_output, model.device)"
   ]
  },
  {
   "cell_type": "code",
   "execution_count": null,
   "metadata": {
    "ExecuteTime": {
     "end_time": "2023-10-19T00:57:06.298221Z",
     "start_time": "2023-10-19T00:57:06.279315Z"
    }
   },
   "outputs": [],
   "source": [
    "forward_refs = used_rawdata.loc[used_test_data_TC.iloc[idx][\"number\"]][\"forward_refs\"].split(\";\")\n",
    "ref_info = total_data.loc[[ref for ref in forward_refs if ref in total_data.index]]\n",
    "if len(ref_info) == 0:\n",
    "    pass\n",
    "else:\n",
    "    ref_ipcs = ref_info[\"ipcs\"].apply(lambda x: set(x))\n",
    "    ref_FCs = ref_info[\"TC\"+str(n_TC)]"
   ]
  },
  {
   "cell_type": "code",
   "execution_count": null,
   "metadata": {
    "ExecuteTime": {
     "end_time": "2023-10-19T00:57:08.679064Z",
     "start_time": "2023-10-19T00:57:07.385613Z"
    }
   },
   "outputs": [],
   "source": [
    "while 1:\n",
    "    i = 0\n",
    "    enc_outputs, z, mu, logvar = model.encode(input_inf)\n",
    "    pred_outputs = model.predict(z)\n",
    "\n",
    "    dec_outputs = model.decode(z, enc_outputs, dec_inputs=None)\n",
    "    dec_outputs = dec_outputs.argmax(-1)\n",
    "\n",
    "    tokenizer = tech_dataset.tokenizers[\"class_dec\"]\n",
    "    gen_text = tokenizer.decode_batch(dec_outputs.cpu().detach().numpy())[0]\n",
    "\n",
    "    if tokenizer.eos_token in gen_text:\n",
    "        gen_text = gen_text[gen_text.index(tokenizer.sos_token)+1:gen_text.index(tokenizer.eos_token)]\n",
    "    else:\n",
    "        gen_text = gen_text[gen_text.index(tokenizer.sos_token)+1:]\n",
    "    if gen_text != []:\n",
    "        gen_text = [gen_text[0]] + list(np.array(gen_text[1:])[np.unique(gen_text[1:], return_index=True)[1]])                \n",
    "        gen_text = set(gen_text)\n",
    "\n",
    "    FC_estimated = np.round(np.exp(pred_outputs[0,1].item()), 4)\n",
    "    if FC_estimated > 0.5: continue\n",
    "\n",
    "    print(f\"Iteration 0, Generated IPC {gen_text}, L1 prob {FC_estimated}\")\n",
    "\n",
    "    inclusions = [None, None, None, None]\n",
    "    higher_impacts = [None, None, None, None]\n",
    "    similar_refs_out = [None, None, None, None]\n",
    "    unsimilar_refs_out = [None, None, None, None]\n",
    "\n",
    "    optimised = False\n",
    "    for i in range(1,n_iter+1):\n",
    "        pred_outputs = model.predict(z)\n",
    "        z.retain_grad()\n",
    "        L1_error = (1-torch.exp(pred_outputs[0,1]))\n",
    "        L1_error.backward(retain_graph=True)\n",
    "        grad_for_update = (step_size * z.grad)\n",
    "        z_ = z - grad_for_update\n",
    "\n",
    "        z.grad.zero_()\n",
    "        dec_outputs = model.decode(z_, enc_outputs, dec_inputs=None)\n",
    "        dec_outputs = dec_outputs.argmax(-1)\n",
    "\n",
    "        pred_outputs_ = model.predict(z_)\n",
    "        FC_estimated = np.round(np.exp(pred_outputs_[0,1].item()), 4) # estimated forward citations\n",
    "        FC_estimated_inv = np.round(np.exp(pred_outputs_[0,0].item()), 4)\n",
    "\n",
    "        tokenizer = tech_dataset.tokenizers[\"class_dec\"]\n",
    "        gen_text = tokenizer.decode_batch(dec_outputs.cpu().detach().numpy())[0]\n",
    "        if tokenizer.eos_token in gen_text:\n",
    "            gen_text = gen_text[gen_text.index(tokenizer.sos_token)+1:gen_text.index(tokenizer.eos_token)]\n",
    "        else:\n",
    "            gen_text = gen_text[gen_text.index(tokenizer.sos_token)+1:]\n",
    "        if gen_text != []:\n",
    "            gen_text = [gen_text[0]] + list(np.array(gen_text[1:])[np.unique(gen_text[1:], return_index=True)[1]])                \n",
    "            gen_text = set(gen_text)\n",
    "        else: continue\n",
    "\n",
    "        print(f\"Iteration {i}, Generated IPC {gen_text}, L1 prob {FC_estimated}\")\n",
    "\n",
    "        z = z_\n",
    "\n",
    "        if FC_estimated>=L1_threshold:\n",
    "            optimised = True\n",
    "            \n",
    "    break"
   ]
  },
  {
   "cell_type": "markdown",
   "metadata": {},
   "source": []
  },
  {
   "cell_type": "code",
   "execution_count": null,
   "metadata": {
    "ExecuteTime": {
     "end_time": "2023-09-24T07:28:26.354821Z",
     "start_time": "2023-09-24T07:28:26.340945Z"
    }
   },
   "outputs": [],
   "source": [
    "df_val[df_val[\"is_same\"]==0][df_val[df_val[\"is_same\"]==0][\"ref_FC\"]>=L1_criterion][\"ref_FC\"].astype(int).describe()"
   ]
  },
  {
   "cell_type": "code",
   "execution_count": null,
   "metadata": {
    "ExecuteTime": {
     "end_time": "2023-09-24T07:28:27.171911Z",
     "start_time": "2023-09-24T07:28:27.157811Z"
    }
   },
   "outputs": [],
   "source": [
    "df_val[df_val[\"is_same\"]==0][df_val[df_val[\"is_same\"]==0][\"ref_FC\"]>=L1_criterion][\"ref_FC_rank\"].describe()"
   ]
  },
  {
   "cell_type": "code",
   "execution_count": null,
   "metadata": {
    "ExecuteTime": {
     "end_time": "2023-09-24T07:28:27.770630Z",
     "start_time": "2023-09-24T07:28:27.767496Z"
    },
    "scrolled": false
   },
   "outputs": [],
   "source": [
    "# ## 인용 IPC 중 생성 IPC와 동일한 게 있으면서, 입력 IPC와 생성 IPC가 다르고, 피인용수가 전체 데이터셋의 L1 기준인 9 이상인 샘플\n",
    "# df_val[df_val[\"is_same\"]==0][df_val[df_val[\"is_same\"]==0][\"ref_FC\"]>=L1_criterion]"
   ]
  },
  {
   "cell_type": "markdown",
   "metadata": {},
   "source": [
    "- Patent_matched 전체"
   ]
  },
  {
   "cell_type": "code",
   "execution_count": null,
   "metadata": {
    "ExecuteTime": {
     "end_time": "2023-09-24T07:28:29.003791Z",
     "start_time": "2023-09-24T07:28:28.991733Z"
    },
    "scrolled": true
   },
   "outputs": [],
   "source": [
    "df_val[\"ref_FC\"].astype(float).describe()"
   ]
  },
  {
   "cell_type": "code",
   "execution_count": null,
   "metadata": {
    "ExecuteTime": {
     "end_time": "2023-09-24T07:28:29.718088Z",
     "start_time": "2023-09-24T07:28:29.706339Z"
    }
   },
   "outputs": [],
   "source": [
    "df_val[\"ref_FC_rank\"].astype(float).describe()"
   ]
  },
  {
   "cell_type": "code",
   "execution_count": null,
   "metadata": {
    "ExecuteTime": {
     "end_time": "2023-09-24T07:28:30.835573Z",
     "start_time": "2023-09-24T07:28:30.596415Z"
    }
   },
   "outputs": [],
   "source": [
    "df_val[\"ref_FC\"].astype(float).hist(bins=100)"
   ]
  },
  {
   "cell_type": "code",
   "execution_count": null,
   "metadata": {
    "ExecuteTime": {
     "end_time": "2023-09-24T07:28:31.361613Z",
     "start_time": "2023-09-24T07:28:31.228146Z"
    },
    "scrolled": true
   },
   "outputs": [],
   "source": [
    "df_val[\"ref_FC_rank\"].astype(float).hist(bins=30)"
   ]
  },
  {
   "cell_type": "markdown",
   "metadata": {},
   "source": [
    "- IPC_original == IPC_identified"
   ]
  },
  {
   "cell_type": "code",
   "execution_count": null,
   "metadata": {
    "ExecuteTime": {
     "end_time": "2024-01-04T07:38:18.922291Z",
     "start_time": "2024-01-04T07:38:18.901879Z"
    },
    "scrolled": false
   },
   "outputs": [],
   "source": [
    "df_val[df_val[\"is_same\"]==1][\"ref_FC\"].astype(int).describe()"
   ]
  },
  {
   "cell_type": "code",
   "execution_count": null,
   "metadata": {
    "ExecuteTime": {
     "end_time": "2024-01-04T07:38:19.932143Z",
     "start_time": "2024-01-04T07:38:19.911922Z"
    }
   },
   "outputs": [],
   "source": [
    "df_val[df_val[\"is_same\"]==1][\"ref_FC_rank\"].astype(float).describe()"
   ]
  },
  {
   "cell_type": "code",
   "execution_count": null,
   "metadata": {
    "ExecuteTime": {
     "end_time": "2024-01-04T07:38:29.020066Z",
     "start_time": "2024-01-04T07:38:25.776614Z"
    }
   },
   "outputs": [],
   "source": [
    "df_val[df_val[\"is_same\"]==1][\"ref_FC\"].astype(float).hist(bins=100)"
   ]
  },
  {
   "cell_type": "code",
   "execution_count": null,
   "metadata": {
    "ExecuteTime": {
     "end_time": "2024-01-04T07:38:29.285527Z",
     "start_time": "2024-01-04T07:38:29.024108Z"
    }
   },
   "outputs": [],
   "source": [
    "df_val[df_val[\"is_same\"]==1][\"ref_FC_rank\"].astype(float).hist(bins=30)"
   ]
  },
  {
   "cell_type": "markdown",
   "metadata": {},
   "source": [
    "- IPC_original != IPC_identified"
   ]
  },
  {
   "cell_type": "code",
   "execution_count": null,
   "metadata": {
    "ExecuteTime": {
     "end_time": "2024-01-04T07:39:37.520726Z",
     "start_time": "2024-01-04T07:39:37.491080Z"
    }
   },
   "outputs": [],
   "source": [
    "df_val[df_val[\"is_same\"]==0][\"ref_FC\"].astype(int).describe()"
   ]
  },
  {
   "cell_type": "code",
   "execution_count": null,
   "metadata": {
    "ExecuteTime": {
     "end_time": "2024-01-04T07:39:40.211770Z",
     "start_time": "2024-01-04T07:39:40.191755Z"
    },
    "scrolled": true
   },
   "outputs": [],
   "source": [
    "df_val[df_val[\"is_same\"]==0][\"ref_FC_rank\"].astype(float).describe()"
   ]
  },
  {
   "cell_type": "code",
   "execution_count": null,
   "metadata": {
    "ExecuteTime": {
     "end_time": "2023-09-24T07:28:40.237719Z",
     "start_time": "2023-09-24T07:28:40.097827Z"
    }
   },
   "outputs": [],
   "source": [
    "df_val[df_val[\"is_same\"]==0][\"ref_FC\"].astype(float).hist(bins=30)"
   ]
  },
  {
   "cell_type": "code",
   "execution_count": null,
   "metadata": {
    "ExecuteTime": {
     "end_time": "2023-09-24T07:28:40.993443Z",
     "start_time": "2023-09-24T07:28:40.854056Z"
    },
    "scrolled": true
   },
   "outputs": [],
   "source": [
    "df_val[df_val[\"is_same\"]==0][\"ref_FC_rank\"].astype(float).hist(bins=30)"
   ]
  },
  {
   "cell_type": "code",
   "execution_count": null,
   "metadata": {
    "ExecuteTime": {
     "end_time": "2023-09-24T07:28:42.455169Z",
     "start_time": "2023-09-24T07:28:42.423257Z"
    }
   },
   "outputs": [],
   "source": [
    "df_val_adv = df_val[df_val.apply(lambda x: True if x[\"org_FC\"]<=x[\"ref_FC\"] else False, axis=1)]"
   ]
  },
  {
   "cell_type": "code",
   "execution_count": null,
   "metadata": {
    "ExecuteTime": {
     "end_time": "2024-01-19T10:54:07.384394Z",
     "start_time": "2024-01-19T10:54:07.110856Z"
    }
   },
   "outputs": [],
   "source": [
    "L1_criterion = tech_dataset.data[\"TC5\"].quantile(0.9)\n",
    "print(\"total hit:\", len(df_val_adv))\n",
    "print(\"same:\",len(df_val_adv[df_val_adv[\"is_same\"]==1]))\n",
    "print(\"diff:\",len(df_val_adv[df_val_adv[\"is_same\"]==0]))\n",
    "print(\"over L1 criterion:\", len(df_val_adv[df_val_adv[\"is_same\"]==0][df_val_adv[df_val_adv[\"is_same\"]==0][\"ref_FC\"]>=L1_criterion]))\n",
    "print(\"ratio:\",len(df_val_adv[df_val_adv[\"is_same\"]==0][df_val_adv[df_val_adv[\"is_same\"]==0][\"ref_FC\"]>=L1_criterion]) / len(df_val_adv[df_val_adv[\"is_same\"]==0]))"
   ]
  },
  {
   "cell_type": "code",
   "execution_count": null,
   "metadata": {
    "ExecuteTime": {
     "end_time": "2023-09-24T07:28:45.339132Z",
     "start_time": "2023-09-24T07:28:45.309437Z"
    },
    "scrolled": true
   },
   "outputs": [],
   "source": [
    "## 인용 IPC 중 생성 IPC와 동일한 게 있으면서, 입력 IPC와 생성 IPC가 다르고, 피인용수가 전체 데이터셋의 L1 기준인 9 이상이며, 인용 특허의 피인용 수가 입력 특허보다 많은 샘플\n",
    "df_val_adv[df_val_adv[\"is_same\"]==0][df_val_adv[df_val_adv[\"is_same\"]==0][\"ref_FC\"]>=L1_criterion]"
   ]
  },
  {
   "cell_type": "code",
   "execution_count": null,
   "metadata": {
    "ExecuteTime": {
     "end_time": "2023-09-24T07:28:47.074130Z",
     "start_time": "2023-09-24T07:28:47.067915Z"
    },
    "scrolled": false
   },
   "outputs": [],
   "source": [
    "analysis_config"
   ]
  },
  {
   "cell_type": "code",
   "execution_count": null,
   "metadata": {
    "ExecuteTime": {
     "end_time": "2023-05-19T12:24:53.157012Z",
     "start_time": "2023-05-19T12:24:49.285906Z"
    }
   },
   "outputs": [],
   "source": [
    "if not os.path.exists(\"../results/validation/\"+analysis_config):\n",
    "    os.mkdir(\"../results/validation/\"+analysis_config)\n",
    "with open(\"../results/validation/\"+analysis_config+\"/dict_out.pickle\", \"wb\") as f:\n",
    "    pickle.dump(dict_out, f)\n",
    "with open(\"../results/validation/\"+analysis_config+\"/df_val.pickle\", \"wb\") as f:\n",
    "    pickle.dump(df_val, f)"
   ]
  },
  {
   "cell_type": "code",
   "execution_count": null,
   "metadata": {
    "ExecuteTime": {
     "end_time": "2023-09-24T07:29:41.467362Z",
     "start_time": "2023-09-24T07:28:52.429225Z"
    },
    "scrolled": true
   },
   "outputs": [],
   "source": [
    "from scipy.stats import ttest_ind\n",
    "whole_FC_ttest = {\"statistic\": [], \"pvalue\": []}\n",
    "whole_FCs_diff = []\n",
    "for i in tqdm(range(len(dict_out[\"patent_id\"]))):\n",
    "    org_whole_FC = tech_dataset.data.loc[whole_patent_classes[whole_patent_classes==set(dict_out[\"org_text\"][i])].index][\"TC5\"]\n",
    "    gen_whole_FC = tech_dataset.data.loc[whole_patent_classes[whole_patent_classes==set(dict_out[\"gen_text\"][i])].index][\"TC5\"]\n",
    "    \n",
    "    if len(org_whole_FC)>0 and len(gen_whole_FC)>0:\n",
    "        whole_FC_diff = gen_whole_FC.mean() - org_whole_FC.mean()\n",
    "    elif len(org_whole_FC)==0 and len(gen_whole_FC)>0:\n",
    "        whole_FC_diff = gen_whole_FC.mean()\n",
    "    elif len(org_whole_FC)>0 and len(gen_whole_FC)==0:\n",
    "        whole_FC_diff = org_whole_FC.mean()\n",
    "    else:\n",
    "        whole_FC_diff = 0.0\n",
    "    \n",
    "    ttest_res = ttest_ind(gen_whole_FC, org_whole_FC, equal_var=False)\n",
    "    \n",
    "    if set(dict_out[\"org_text\"][i]) != set(dict_out[\"gen_text\"][i]):    \n",
    "        whole_FC_ttest[\"statistic\"].append(ttest_res.statistic)\n",
    "        whole_FC_ttest[\"pvalue\"].append(ttest_res.pvalue)\n",
    "        if set(dict_out[\"org_text\"][i]) != set(dict_out[\"gen_text\"][i]):\n",
    "            whole_FCs_diff.append(whole_FC_diff)"
   ]
  },
  {
   "cell_type": "code",
   "execution_count": null,
   "metadata": {
    "ExecuteTime": {
     "end_time": "2023-09-24T07:32:42.709985Z",
     "start_time": "2023-09-24T07:32:42.700623Z"
    }
   },
   "outputs": [],
   "source": [
    "pd.Series(whole_FCs_diff).describe()"
   ]
  },
  {
   "cell_type": "code",
   "execution_count": null,
   "metadata": {
    "ExecuteTime": {
     "end_time": "2023-09-24T07:32:43.985156Z",
     "start_time": "2023-09-24T07:32:43.971013Z"
    }
   },
   "outputs": [],
   "source": [
    "pd.Series(whole_FC_ttest[\"statistic\"])[~pd.Series(whole_FC_ttest[\"statistic\"]).isna()].describe()"
   ]
  },
  {
   "cell_type": "code",
   "execution_count": null,
   "metadata": {
    "ExecuteTime": {
     "end_time": "2023-09-24T07:32:45.064054Z",
     "start_time": "2023-09-24T07:32:45.049637Z"
    }
   },
   "outputs": [],
   "source": [
    "pd.Series(whole_FC_ttest[\"statistic\"]).loc[pd.Series(whole_FC_ttest[\"pvalue\"]).dropna()[pd.Series(whole_FC_ttest[\"pvalue\"]).dropna()<0.05].index].describe()"
   ]
  }
 ],
 "metadata": {
  "kernelspec": {
   "display_name": "DL",
   "language": "python",
   "name": "dl"
  },
  "language_info": {
   "codemirror_mode": {
    "name": "ipython",
    "version": 3
   },
   "file_extension": ".py",
   "mimetype": "text/x-python",
   "name": "python",
   "nbconvert_exporter": "python",
   "pygments_lexer": "ipython3",
   "version": "3.9.7"
  },
  "toc": {
   "base_numbering": 1,
   "nav_menu": {},
   "number_sections": true,
   "sideBar": true,
   "skip_h1_title": false,
   "title_cell": "Table of Contents",
   "title_sidebar": "Contents",
   "toc_cell": false,
   "toc_position": {},
   "toc_section_display": true,
   "toc_window_display": false
  }
 },
 "nbformat": 4,
 "nbformat_minor": 2
}
