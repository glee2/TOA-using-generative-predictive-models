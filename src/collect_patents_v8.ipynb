{
 "cells": [
  {
   "cell_type": "markdown",
   "metadata": {},
   "source": [
    "# Collect patent data"
   ]
  },
  {
   "cell_type": "code",
   "execution_count": null,
   "metadata": {
    "ExecuteTime": {
     "end_time": "2025-09-18T16:27:01.192531Z",
     "start_time": "2025-09-18T16:26:56.085681Z"
    }
   },
   "outputs": [],
   "source": [
    "# import uspto\n",
    "import pandas as pd\n",
    "import polars as pl\n",
    "import numpy as np\n",
    "import datetime\n",
    "import time\n",
    "import re\n",
    "import copy\n",
    "import math\n",
    "import multiprocess as mp\n",
    "import sys\n",
    "sys.path.append(\"/share/tml_package/\")\n",
    "sys.path.append(\"/share/uspto_pkg\")\n",
    "import json, csv, time, os\n",
    "import uspto.search\n",
    "import uspto.crawl, uspto.parse\n",
    "from uspto.analysis import miscellaneous, citation, claim\n",
    "import re\n",
    "import traceback\n",
    "import pickle\n",
    "from tqdm import tqdm\n",
    "from utils import DotDict\n",
    "from pathlib import Path\n",
    "import pyarrow as pa\n",
    "from collections.abc import Iterable, Mapping"
   ]
  },
  {
   "cell_type": "code",
   "execution_count": null,
   "metadata": {
    "ExecuteTime": {
     "end_time": "2025-09-18T16:27:05.529012Z",
     "start_time": "2025-09-18T16:27:05.511658Z"
    }
   },
   "outputs": [],
   "source": [
    "class DotDict(dict):\n",
    "    def __init__(self, *args, **kwargs):\n",
    "        dict.__init__(self)\n",
    "        self.update(*args, **kwargs)\n",
    "\n",
    "    def __repr__(self):\n",
    "        return f\"{self.__class__.__name__}({super().__repr__()})\"\n",
    "\n",
    "    def __getattr__(self, name):\n",
    "        try:\n",
    "            return self[name]\n",
    "        except KeyError:\n",
    "            # No key by that name? Let's try being helpful.\n",
    "            if f\"@{name}\" in self:\n",
    "                # Does this same name occur starting with ``@``?\n",
    "                return self[f\"@{name}\"]\n",
    "            if f\"#{name}\" in self:\n",
    "                # Does this same name occur starting with ``#``?\n",
    "                return self[f\"#{name}\"]\n",
    "            # Otherwise, raise the original exception\n",
    "            raise AttributeError(name)\n",
    "\n",
    "    def __setattr__(self, name, val):\n",
    "        self.__setitem__(name, val)\n",
    "\n",
    "    def __delattr__(self, name):\n",
    "        self.__delitem__(name)\n",
    "\n",
    "    def __setitem__(self, key, val):\n",
    "        val = self.__class__.build(val)\n",
    "        dict.__setitem__(self, key, val)\n",
    "\n",
    "    def __iter__(self):\n",
    "        return iter([self])\n",
    "\n",
    "    def update(self, *args, **kwargs):\n",
    "        for key, val in dict(*args, **kwargs).items():\n",
    "            self[key] = self.__class__.build(val)\n",
    "\n",
    "    @classmethod\n",
    "    def load(cls, file):\n",
    "        with open(file, 'r') as f:\n",
    "            raw_dict = json.loads(f.read())\n",
    "            return DotDict(raw_dict)\n",
    "\n",
    "    @classmethod\n",
    "    def build(cls, obj):\n",
    "        if isinstance(obj, Mapping):\n",
    "            # Return a new DotDict object wrapping `obj`.\n",
    "            return cls(obj)\n",
    "        if not isinstance(obj, str) and isinstance(obj, Iterable):\n",
    "            # Build each item in the `obj` sequence,\n",
    "            # then construct a new sequence matching `obj`'s type.\n",
    "            # Must be careful not to pass strings here, even though they are iterable!\n",
    "            return obj.__class__(cls.build(x) for x in obj)\n",
    "        # In all other cases, return `obj` unchanged.\n",
    "        return obj\n"
   ]
  },
  {
   "cell_type": "code",
   "execution_count": null,
   "metadata": {
    "ExecuteTime": {
     "end_time": "2025-09-18T16:27:11.567573Z",
     "start_time": "2025-09-18T16:27:11.560097Z"
    }
   },
   "outputs": [],
   "source": [
    "RE_HTML = re.compile('<.*?>')\n",
    "DEP_PATTERN = re.compile(r'(?i)\\bclaim\\s+\\d+\\b')"
   ]
  },
  {
   "cell_type": "markdown",
   "metadata": {},
   "source": [
    "## USPTO AI patent dataset"
   ]
  },
  {
   "cell_type": "code",
   "execution_count": null,
   "metadata": {
    "ExecuteTime": {
     "end_time": "2025-09-18T16:27:55.246839Z",
     "start_time": "2025-09-18T16:27:12.887289Z"
    },
    "scrolled": false
   },
   "outputs": [],
   "source": [
    "ai_cols = pd.read_csv(\"data/ai_patents_2023.csv\", nrows=1).columns\n",
    "# ai_patents = pd.read_csv(\"data/ai_patents_2023.csv\", nrows=3000000)\n",
    "ai_patents_ldf = pl.scan_csv(\n",
    "    \"data/ai_patents_2023.csv\", \n",
    "    separator=\",\", \n",
    "    schema={\n",
    "        \"doc_id\": pl.Utf8,\n",
    "        \"flag_patent\": pl.Int32,\n",
    "        \"pub_dt\": pl.Utf8,\n",
    "        \"appl_id\": pl.Utf8,\n",
    "        \"predict50_any_ai\": pl.Int32,\n",
    "        \"predict86_any_ai\": pl.Int32,\n",
    "        \"predict93_any_ai\": pl.Int32\n",
    "        }, \n",
    "    truncate_ragged_lines=True)\n",
    "ai_patents = ai_patents_ldf.filter(pl.col(\"flag_patent\") == 1).collect().to_pandas()"
   ]
  },
  {
   "cell_type": "code",
   "execution_count": null,
   "metadata": {
    "ExecuteTime": {
     "end_time": "2025-09-18T16:27:59.851106Z",
     "start_time": "2025-09-18T16:27:56.501043Z"
    }
   },
   "outputs": [],
   "source": [
    "ai_patents.loc[:, \"pub_yr\"] = ai_patents[\"pub_dt\"][ai_patents[\"pub_dt\"].notna()].apply(lambda x: x.split(\"-\")[0]).astype(int)"
   ]
  },
  {
   "cell_type": "code",
   "execution_count": null,
   "metadata": {
    "ExecuteTime": {
     "end_time": "2025-09-18T16:27:59.858091Z",
     "start_time": "2025-09-18T16:27:59.854067Z"
    }
   },
   "outputs": [],
   "source": [
    "ai_thre = 93"
   ]
  },
  {
   "cell_type": "code",
   "execution_count": null,
   "metadata": {
    "ExecuteTime": {
     "end_time": "2025-09-18T16:28:01.449400Z",
     "start_time": "2025-09-18T16:28:01.199368Z"
    }
   },
   "outputs": [],
   "source": [
    "ai_patents_predicted = ai_patents.loc[ai_patents[f\"predict{ai_thre}_any_ai\"][ai_patents[f\"predict{ai_thre}_any_ai\"]==1].index]"
   ]
  },
  {
   "cell_type": "code",
   "execution_count": null,
   "metadata": {
    "ExecuteTime": {
     "end_time": "2025-09-18T16:28:01.934575Z",
     "start_time": "2025-09-18T16:28:01.858087Z"
    }
   },
   "outputs": [],
   "source": [
    "ai_patents_period = ai_patents_predicted[(ai_patents_predicted[\"pub_yr\"] >= 2000) & (ai_patents_predicted[\"pub_yr\"] <= 2019)]"
   ]
  },
  {
   "cell_type": "code",
   "execution_count": null,
   "metadata": {
    "ExecuteTime": {
     "end_time": "2025-09-18T16:28:02.550630Z",
     "start_time": "2025-09-18T16:28:02.507225Z"
    }
   },
   "outputs": [],
   "source": [
    "ai_patents_period"
   ]
  },
  {
   "cell_type": "code",
   "execution_count": null,
   "metadata": {
    "ExecuteTime": {
     "end_time": "2025-06-10T19:25:55.830076Z",
     "start_time": "2025-06-10T19:25:55.715210Z"
    }
   },
   "outputs": [],
   "source": [
    "# Sampling"
   ]
  },
  {
   "cell_type": "code",
   "execution_count": null,
   "metadata": {
    "ExecuteTime": {
     "end_time": "2025-09-18T16:28:10.969196Z",
     "start_time": "2025-09-18T16:28:04.953522Z"
    }
   },
   "outputs": [],
   "source": [
    "digit_pns = ai_patents_period.apply(lambda x: True if re.sub(r\"\\d+\", \"\", x[\"doc_id\"]) == '' else False, axis=1)\n",
    "ai_patents_digit = ai_patents_period[digit_pns]"
   ]
  },
  {
   "cell_type": "code",
   "execution_count": null,
   "metadata": {
    "ExecuteTime": {
     "end_time": "2025-09-18T16:28:14.703845Z",
     "start_time": "2025-09-18T16:28:14.599091Z"
    }
   },
   "outputs": [],
   "source": [
    "indexes_per_yr = pd.Series([ai_patents_digit[ai_patents_digit[\"pub_yr\"]==yr].index.values for yr in ai_patents_digit[\"pub_yr\"].unique()])"
   ]
  },
  {
   "cell_type": "code",
   "execution_count": null,
   "metadata": {
    "ExecuteTime": {
     "end_time": "2025-09-18T16:28:15.094443Z",
     "start_time": "2025-09-18T16:28:15.081724Z"
    }
   },
   "outputs": [],
   "source": [
    "indexes_per_yr.apply(lambda x: len(x))"
   ]
  },
  {
   "cell_type": "code",
   "execution_count": null,
   "metadata": {
    "ExecuteTime": {
     "end_time": "2025-09-18T16:28:17.754266Z",
     "start_time": "2025-09-18T16:28:17.748184Z"
    }
   },
   "outputs": [],
   "source": [
    "do_sampling = False"
   ]
  },
  {
   "cell_type": "code",
   "execution_count": null,
   "metadata": {
    "ExecuteTime": {
     "end_time": "2025-09-18T16:28:18.864534Z",
     "start_time": "2025-09-18T16:28:18.807036Z"
    }
   },
   "outputs": [],
   "source": [
    "if do_sampling:\n",
    "    np.random.seed(1)\n",
    "    sampling_ratio = 1\n",
    "    sampled_indexes = np.concatenate(indexes_per_yr.apply(lambda x: np.random.choice(x, int(len(x)*sampling_ratio), replace=False)).tolist())\n",
    "    ai_patents_sampled = ai_patents_digit.loc[sampled_indexes].reset_index(drop=True)\n",
    "else:\n",
    "    ai_patents_sampled = ai_patents_digit.reset_index(drop=True)"
   ]
  },
  {
   "cell_type": "code",
   "execution_count": null,
   "metadata": {
    "ExecuteTime": {
     "end_time": "2025-09-18T16:28:19.461774Z",
     "start_time": "2025-09-18T16:28:19.433362Z"
    },
    "scrolled": true
   },
   "outputs": [],
   "source": [
    "ai_patents_sampled"
   ]
  },
  {
   "cell_type": "code",
   "execution_count": null,
   "metadata": {
    "ExecuteTime": {
     "end_time": "2025-09-18T16:29:28.709390Z",
     "start_time": "2025-09-18T16:29:28.368562Z"
    }
   },
   "outputs": [],
   "source": [
    "patent_ids_ai = ai_patents_sampled[\"doc_id\"][ai_patents_sampled[\"doc_id\"].notna()].apply(lambda x: str(int(x)) if not isinstance(x, str) else x)"
   ]
  },
  {
   "cell_type": "code",
   "execution_count": null,
   "metadata": {
    "ExecuteTime": {
     "end_time": "2025-09-18T16:29:29.130876Z",
     "start_time": "2025-09-18T16:29:29.118023Z"
    }
   },
   "outputs": [],
   "source": [
    "patent_ids_ai"
   ]
  },
  {
   "cell_type": "code",
   "execution_count": null,
   "metadata": {
    "ExecuteTime": {
     "end_time": "2025-09-18T16:29:30.405074Z",
     "start_time": "2025-09-18T16:29:30.183414Z"
    }
   },
   "outputs": [],
   "source": [
    "ai_appl = ai_patents_sampled[\"appl_id\"][ai_patents_sampled[\"appl_id\"].notna()].apply(lambda x: str(int(x)) if not isinstance(x, str) else x)"
   ]
  },
  {
   "cell_type": "code",
   "execution_count": null,
   "metadata": {
    "ExecuteTime": {
     "end_time": "2025-09-18T16:29:30.665643Z",
     "start_time": "2025-09-18T16:29:30.654791Z"
    }
   },
   "outputs": [],
   "source": [
    "ai_appl"
   ]
  },
  {
   "cell_type": "markdown",
   "metadata": {},
   "source": [
    "## Extract citation records from patentsview"
   ]
  },
  {
   "cell_type": "markdown",
   "metadata": {},
   "source": [
    "### Load data"
   ]
  },
  {
   "cell_type": "code",
   "execution_count": null,
   "metadata": {
    "ExecuteTime": {
     "end_time": "2025-09-18T16:29:34.020452Z",
     "start_time": "2025-09-18T16:29:34.014193Z"
    }
   },
   "outputs": [],
   "source": [
    "data_dir = \"/share/patentsview/\""
   ]
  },
  {
   "cell_type": "markdown",
   "metadata": {},
   "source": [
    "**g_us_patent_citation**\n",
    "- patent_id: \"citing\" patent's id\n",
    "- citation_patent_id: \"cited\" patent's id\n",
    "- citation_date: granted date of the \"cited\" patent"
   ]
  },
  {
   "cell_type": "code",
   "execution_count": null,
   "metadata": {
    "ExecuteTime": {
     "end_time": "2025-09-18T16:29:35.248583Z",
     "start_time": "2025-09-18T16:29:35.096267Z"
    }
   },
   "outputs": [],
   "source": [
    "patent_ids_ai_pl = pl.Series(\"patent_id\", patent_ids_ai)"
   ]
  },
  {
   "cell_type": "code",
   "execution_count": null,
   "metadata": {
    "ExecuteTime": {
     "end_time": "2025-09-18T16:29:35.881442Z",
     "start_time": "2025-09-18T16:29:35.873951Z"
    }
   },
   "outputs": [],
   "source": [
    "ldf_granted_dates = pl.scan_csv(os.path.join(data_dir, \"g_patent.tsv\"), separator=\"\\t\", infer_schema=False, low_memory=True).select([\"patent_id\", \"patent_date\"])"
   ]
  },
  {
   "cell_type": "code",
   "execution_count": null,
   "metadata": {
    "ExecuteTime": {
     "end_time": "2025-09-18T16:29:36.348171Z",
     "start_time": "2025-09-18T16:29:36.342051Z"
    }
   },
   "outputs": [],
   "source": [
    "ldf_granted_patents = pl.scan_csv(os.path.join(data_dir, \"g_patent.tsv\"), separator=\"\\t\", infer_schema=False, low_memory=True)"
   ]
  },
  {
   "cell_type": "code",
   "execution_count": null,
   "metadata": {
    "ExecuteTime": {
     "end_time": "2025-09-18T16:29:42.108486Z",
     "start_time": "2025-09-18T16:29:37.824365Z"
    }
   },
   "outputs": [],
   "source": [
    "granted_patents = ldf_granted_patents.collect()"
   ]
  },
  {
   "cell_type": "code",
   "execution_count": null,
   "metadata": {
    "ExecuteTime": {
     "end_time": "2025-09-18T16:29:42.121810Z",
     "start_time": "2025-09-18T16:29:42.111855Z"
    },
    "scrolled": true
   },
   "outputs": [],
   "source": [
    "granted_patents"
   ]
  },
  {
   "cell_type": "code",
   "execution_count": null,
   "metadata": {
    "ExecuteTime": {
     "end_time": "2025-09-18T16:29:50.193328Z",
     "start_time": "2025-09-18T16:29:50.184724Z"
    }
   },
   "outputs": [],
   "source": [
    "ldf_cit = pl.scan_csv(os.path.join(data_dir, \"g_us_patent_citation.tsv\"), separator=\"\\t\", infer_schema=False, low_memory=True).drop_nulls([\"patent_id\", \"citation_patent_id\"])\n",
    "filtered_cit = ldf_cit.filter(pl.col(\"citation_patent_id\").is_in(patent_ids_ai_pl)).select([\"patent_id\", \"citation_patent_id\", \"citation_date\"])"
   ]
  },
  {
   "cell_type": "code",
   "execution_count": null,
   "metadata": {
    "ExecuteTime": {
     "end_time": "2025-09-18T16:29:51.078243Z",
     "start_time": "2025-09-18T16:29:51.071890Z"
    }
   },
   "outputs": [],
   "source": [
    "joined_cit = filtered_cit.join(\n",
    "    ldf_granted_dates,\n",
    "    on=\"patent_id\",\n",
    "    how=\"inner\"\n",
    ")"
   ]
  },
  {
   "cell_type": "code",
   "execution_count": null,
   "metadata": {
    "ExecuteTime": {
     "end_time": "2025-09-18T16:29:51.969411Z",
     "start_time": "2025-09-18T16:29:51.960257Z"
    }
   },
   "outputs": [],
   "source": [
    "citing_filtered = joined_cit.select(\n",
    "    [pl.all(), pl.col(\"patent_date\").str.slice(0,4).cast(pl.Int32).alias(\"citing_year\")]\n",
    "    ).filter(\n",
    "        (pl.col(\"citing_year\") >= 1999) &\n",
    "        (pl.col(\"citing_year\") < 2022)\n",
    "    ).select([\n",
    "        \"patent_id\",\n",
    "        \"citation_patent_id\",\n",
    "        \"citing_year\"\n",
    "    ])"
   ]
  },
  {
   "cell_type": "code",
   "execution_count": null,
   "metadata": {
    "ExecuteTime": {
     "end_time": "2025-09-18T16:30:00.204577Z",
     "start_time": "2025-09-18T16:29:53.439443Z"
    }
   },
   "outputs": [],
   "source": [
    "valid_citations = citing_filtered.collect()"
   ]
  },
  {
   "cell_type": "code",
   "execution_count": null,
   "metadata": {
    "ExecuteTime": {
     "end_time": "2025-09-18T16:30:00.215379Z",
     "start_time": "2025-09-18T16:30:00.207582Z"
    },
    "scrolled": true
   },
   "outputs": [],
   "source": [
    "valid_citations"
   ]
  },
  {
   "cell_type": "markdown",
   "metadata": {},
   "source": [
    "**g_application**\n",
    "- filing_date: date of application filing"
   ]
  },
  {
   "cell_type": "code",
   "execution_count": null,
   "metadata": {
    "ExecuteTime": {
     "end_time": "2025-09-18T16:30:17.475751Z",
     "start_time": "2025-09-18T16:30:17.467513Z"
    }
   },
   "outputs": [],
   "source": [
    "ldf_appl = pl.scan_csv(os.path.join(data_dir, \"g_application.tsv\"), separator=\"\\t\", infer_schema=False, low_memory=True).select([\"patent_id\", \"filing_date\"])"
   ]
  },
  {
   "cell_type": "code",
   "execution_count": null,
   "metadata": {
    "ExecuteTime": {
     "end_time": "2025-09-18T16:30:23.180734Z",
     "start_time": "2025-09-18T16:30:17.881155Z"
    }
   },
   "outputs": [],
   "source": [
    "application_dates = ldf_appl.collect()"
   ]
  },
  {
   "cell_type": "code",
   "execution_count": null,
   "metadata": {
    "ExecuteTime": {
     "end_time": "2025-09-18T16:30:27.796558Z",
     "start_time": "2025-09-18T16:30:23.185881Z"
    }
   },
   "outputs": [],
   "source": [
    "application_dates_map = dict(zip(application_dates[\"patent_id\"].to_list(), application_dates[\"filing_date\"].to_list()))"
   ]
  },
  {
   "cell_type": "code",
   "execution_count": null,
   "metadata": {
    "ExecuteTime": {
     "end_time": "2025-09-18T16:30:33.014580Z",
     "start_time": "2025-09-18T16:30:27.798808Z"
    }
   },
   "outputs": [],
   "source": [
    "application_dates = application_dates.to_pandas()"
   ]
  },
  {
   "cell_type": "code",
   "execution_count": null,
   "metadata": {
    "ExecuteTime": {
     "end_time": "2025-09-18T16:30:33.665734Z",
     "start_time": "2025-09-18T16:30:33.019482Z"
    }
   },
   "outputs": [],
   "source": [
    "application_dates = application_dates.set_index(\"patent_id\")"
   ]
  },
  {
   "cell_type": "markdown",
   "metadata": {},
   "source": [
    "### Extracting patent documents by patent ids"
   ]
  },
  {
   "cell_type": "code",
   "execution_count": null,
   "metadata": {
    "ExecuteTime": {
     "end_time": "2025-09-18T16:31:09.671293Z",
     "start_time": "2025-09-18T16:31:09.664398Z"
    }
   },
   "outputs": [],
   "source": [
    "analysis_date = \"2025-06-07_1732\" # AI, CPC, 2025 scientometrics rev.\n",
    "\n",
    "root_dir = '/home2/glee/dissertation/1_tech_gen_impact/class2class/Tech_Gen/'\n",
    "data_dir = os.path.join(\"/home2/glee/patent_data/data/\")"
   ]
  },
  {
   "cell_type": "code",
   "execution_count": null,
   "metadata": {
    "ExecuteTime": {
     "end_time": "2025-09-18T16:31:16.885985Z",
     "start_time": "2025-09-18T16:31:10.166543Z"
    }
   },
   "outputs": [],
   "source": [
    "result_dir = os.path.join(root_dir, \"results\")\n",
    "used_test_data = pd.read_excel(os.path.join(result_dir, \"[DATASET]\"+analysis_date+\".xlsx\"), sheet_name=\"TEST_dataset\")"
   ]
  },
  {
   "cell_type": "code",
   "execution_count": null,
   "metadata": {
    "ExecuteTime": {
     "end_time": "2025-06-10T19:34:50.610131Z",
     "start_time": "2025-06-10T19:34:50.604206Z"
    }
   },
   "outputs": [],
   "source": [
    "# col_years = [\"<1976\"] + np.arange(1976,2023).astype(str).tolist()\n",
    "col_years = np.arange(1976,2023).astype(str).tolist()\n",
    "cols = ['number', 'granted_year', 'granted_date', 'application_year', 'application_date',\n",
    "        'assignee', 'main_cpc', 'sub_cpc', 'main_ipc', 'sub_ipc', \n",
    "        'backward_refs', 'NPL_refs', 'n_NPL_refs', 'forward_refs',\n",
    "        'application_year_backward_refs', 'application_year_forward_refs',\n",
    "        'patent_family', 'claims'] + col_years"
   ]
  },
  {
   "cell_type": "code",
   "execution_count": null,
   "metadata": {
    "ExecuteTime": {
     "end_time": "2025-06-10T19:34:50.929937Z",
     "start_time": "2025-06-10T19:34:50.925527Z"
    }
   },
   "outputs": [],
   "source": [
    "# ─── 설정 ────────────────────────────────────────────────────────────────────\n",
    "data_dir = \"/share/patentsview\"\n",
    "json_dir = \"/data/uspto/USPAT/\"     # 개별 .json 파일들이 있는 디렉터리\n",
    "# ndjson_path = \"USPTO_1976-2022.ndjson\" # 변환된 줄단위 JSON 파일\n",
    "batch_size = 5000                 # 배치를 몇 개씩 처리할지\n",
    "# ──────────────────────────────────────────────────────────────────────────────"
   ]
  },
  {
   "cell_type": "code",
   "execution_count": null,
   "metadata": {
    "ExecuteTime": {
     "end_time": "2025-06-10T19:34:51.079676Z",
     "start_time": "2025-06-10T19:34:50.959222Z"
    }
   },
   "outputs": [],
   "source": [
    "batched_valid_patent_ids = np.array_split(patent_ids_ai, int(len(patent_ids_ai) / batch_size))"
   ]
  },
  {
   "cell_type": "code",
   "execution_count": null,
   "metadata": {
    "ExecuteTime": {
     "end_time": "2025-06-10T19:28:30.725453Z",
     "start_time": "2025-06-10T19:28:27.640169Z"
    },
    "scrolled": true
   },
   "outputs": [],
   "source": [
    "if os.path.exists(\"patent_file_list.pickle\"):\n",
    "    with open(\"patent_file_list.pickle\", \"rb\") as f:\n",
    "        all_json_path = pickle.load(f)\n",
    "else:\n",
    "    all_json_path = [str(p) for p in Path(json_dir).rglob(\"*.json\")]\n",
    "    with open(\"patent_file_list.pickle\", \"wb\") as f:\n",
    "        pickle.dump(all_json_path, f, protocol=pickle.HIGHEST_PROTOCOL)"
   ]
  },
  {
   "cell_type": "code",
   "execution_count": null,
   "metadata": {
    "ExecuteTime": {
     "end_time": "2025-06-10T19:29:08.924916Z",
     "start_time": "2025-06-10T19:28:30.731489Z"
    }
   },
   "outputs": [],
   "source": [
    "json_file_map = {Path(p).stem: p for p in all_json_path}"
   ]
  },
  {
   "cell_type": "code",
   "execution_count": null,
   "metadata": {
    "ExecuteTime": {
     "end_time": "2025-06-10T19:29:08.930748Z",
     "start_time": "2025-06-10T19:29:08.928194Z"
    }
   },
   "outputs": [],
   "source": [
    "app_ldf = pl.scan_csv(\n",
    "    f\"{data_dir}/g_application.tsv\",\n",
    "    separator=\"\\t\",\n",
    "    infer_schema=False,\n",
    "    low_memory=True\n",
    "    ).select([\"patent_id\", \"filing_date\"])"
   ]
  },
  {
   "cell_type": "code",
   "execution_count": null,
   "metadata": {
    "ExecuteTime": {
     "end_time": "2025-06-10T19:35:24.587007Z",
     "start_time": "2025-06-10T19:35:24.582398Z"
    }
   },
   "outputs": [],
   "source": [
    "batches = [\n",
    "    patent_ids_ai[i : i + batch_size]\n",
    "    for i in range(0, len(patent_ids_ai), batch_size)\n",
    "]"
   ]
  },
  {
   "cell_type": "code",
   "execution_count": null,
   "metadata": {
    "ExecuteTime": {
     "end_time": "2025-06-10T19:35:43.816592Z",
     "start_time": "2025-06-10T19:35:42.670121Z"
    },
    "scrolled": false
   },
   "outputs": [],
   "source": [
    "results = []\n",
    "results_lazy = []\n",
    "for batch in tqdm(batches, desc=\"Batches\"):\n",
    "    lookup = pl.Series(\"patent_number\", batch)\n",
    "    batch_paths = [json_file_map[pn] for pn in lookup if pn in json_file_map]\n",
    "    if len(batch_paths) == 0: continue\n",
    "    \n",
    "    filtered = valid_citations.lazy().filter(pl.col(\"citation_patent_id\").is_in(lookup))\n",
    "    \n",
    "    joined = (\n",
    "        filtered\n",
    "        .join(app_ldf, on=\"patent_id\", how=\"left\")\n",
    "        .with_columns(\n",
    "            pl.col(\"filing_date\")\n",
    "              .str.slice(0,4)\n",
    "              .cast(pl.Int32)\n",
    "              .alias(\"filing_year\")\n",
    "        )\n",
    "    )\n",
    "    \n",
    "    grouped = (\n",
    "        joined\n",
    "        .group_by(\"citation_patent_id\")\n",
    "        .agg([\n",
    "            pl.col(\"patent_id\").unique().alias(\"forward_refs\"),\n",
    "            pl.col(\"filing_year\").alias(\"filing_years\"),\n",
    "            pl.col(\"citing_year\").cast(pl.Utf8).alias(\"citing_years\"),\n",
    "        ])\n",
    "        .select([\n",
    "            pl.col(\"citation_patent_id\").alias(\"patent_number\"),\n",
    "            pl.col(\"forward_refs\").list.join(\";\").alias(\"forward_refs\"),\n",
    "            pl.col(\"filing_years\").cast(pl.List(pl.Utf8)).list.join(\";\").alias(\"application_year_forward_refs\"),\n",
    "            pl.col(\"citing_years\")\n",
    "        ])\n",
    "        .sort(\"patent_number\")\n",
    "    )\n",
    "    \n",
    "    meta_ldf = pl.scan_ndjson(\n",
    "        batch_paths,\n",
    "        schema={\n",
    "            \"publicationReferenceDocumentNumber\": pl.Utf8,\n",
    "            \"datePublished\": pl.Utf8,\n",
    "            \"applicationYear\": pl.Utf8,\n",
    "            \"cpcInventiveFlattened\": pl.Utf8,\n",
    "            \"cpcAdditionalFlattened\": pl.Utf8,\n",
    "            \"intlPubClassificationPrimary\": pl.Utf8,\n",
    "            \"intlPubClassificationSecondary\": pl.Utf8,\n",
    "            \"urpn\": pl.Utf8,\n",
    "            \"claimsHtml\": pl.Utf8\n",
    "        }\n",
    "        ).select([\n",
    "            pl.col(\"publicationReferenceDocumentNumber\").alias(\"patent_number\"),\n",
    "            pl.col(\"datePublished\").str.slice(0,10).alias(\"granted_date\"),\n",
    "            pl.col(\"datePublished\").str.slice(0,4).cast(pl.Int32).alias(\"granted_year\"),\n",
    "            pl.col(\"applicationYear\").cast(pl.Int32).alias(\"application_year\"),\n",
    "            pl.col(\"cpcInventiveFlattened\").alias(\"main_cpc\"),\n",
    "            pl.col(\"cpcAdditionalFlattened\").alias(\"sub_cpc\"),\n",
    "            pl.col(\"intlPubClassificationPrimary\").alias(\"main_ipc\"),\n",
    "            pl.col(\"intlPubClassificationSecondary\").alias(\"sub_ipc\"),\n",
    "            pl.col(\"urpn\").alias(\"backward_refs\"),\n",
    "            pl.col(\"claimsHtml\").alias(\"claims_org\"),\n",
    "            pl.col(\"claimsHtml\").str.replace_all(r\"<.*?>\", \"\").alias(\"claims\")]\n",
    "        ).drop_nulls([\"main_cpc\", \"claims\"]\n",
    "        ).with_columns(pl.col(\"claims\").map_elements(lambda s: \";\".join([c for c in re.split(r'(?<=\\.)\\s*(?=\\d+\\.)', s.replace(\";\",\"\")) if not DEP_PATTERN.search(c)]), return_dtype=pl.Utf8).alias(\"claims_independent\")\n",
    "        ).with_columns(pl.col(\"claims\").map_elements(lambda s: \";\".join([c for c in re.split(r'(?<=\\.)\\s*(?=\\d+\\.)', s.replace(\";\",\"\")) if DEP_PATTERN.search(c)]), return_dtype=pl.Utf8).alias(\"claims_dependent\")\n",
    "        ).filter((pl.col(\"granted_year\") >= 2000) & (pl.col(\"granted_year\") <= 2019))\n",
    "                       \n",
    "    batch_res = (\n",
    "        grouped\n",
    "        .join(meta_ldf, on=\"patent_number\", how=\"right\")\n",
    "        .select(pl.col(\"patent_number\"), pl.exclude(\"patent_number\"))\n",
    "    )\n",
    "                       \n",
    "    results_lazy.append(batch_res)"
   ]
  },
  {
   "cell_type": "code",
   "execution_count": null,
   "metadata": {
    "ExecuteTime": {
     "end_time": "2025-06-10T20:03:04.690759Z",
     "start_time": "2025-06-10T19:35:58.250538Z"
    }
   },
   "outputs": [],
   "source": [
    "results = pl.concat(results_lazy, how=\"vertical_relaxed\").collect()\n",
    "FC_counts_batch = results.select([\"citing_years\"]).to_pandas()[\"citing_years\"].apply(lambda x: pd.Series(x).value_counts().to_dict() if x is not None else {})\n",
    "df_FC = pd.DataFrame(columns=col_years, index=FC_counts_batch.index).fillna(0)\n",
    "df_FC.update(pd.DataFrame(FC_counts_batch.tolist()).fillna(0).astype(int))"
   ]
  },
  {
   "cell_type": "code",
   "execution_count": null,
   "metadata": {
    "ExecuteTime": {
     "end_time": "2025-06-10T20:09:53.986416Z",
     "start_time": "2025-06-10T20:09:50.944230Z"
    }
   },
   "outputs": [],
   "source": [
    "results_final = pl.concat([results, pl.from_pandas(df_FC)], how=\"horizontal\").to_pandas()\n",
    "results_final = results_final.sort_values(by=\"granted_date\").set_index(\"patent_number\", drop=False)"
   ]
  },
  {
   "cell_type": "code",
   "execution_count": null,
   "metadata": {
    "ExecuteTime": {
     "end_time": "2025-06-10T20:09:57.295778Z",
     "start_time": "2025-06-10T20:09:57.164367Z"
    }
   },
   "outputs": [],
   "source": [
    "results_final"
   ]
  },
  {
   "cell_type": "code",
   "execution_count": null,
   "metadata": {
    "ExecuteTime": {
     "end_time": "2025-06-10T15:08:40.593917Z",
     "start_time": "2025-06-10T15:08:32.028403Z"
    }
   },
   "outputs": [],
   "source": [
    "results_final.loc[:, \"backward_refs\"] = results_final[\"backward_refs\"].apply(lambda x: json.loads(x) if x is not None else [])"
   ]
  },
  {
   "cell_type": "markdown",
   "metadata": {},
   "source": [
    "### Save the collected patent data"
   ]
  },
  {
   "cell_type": "code",
   "execution_count": null,
   "metadata": {
    "ExecuteTime": {
     "end_time": "2025-06-08T16:57:04.978891Z",
     "start_time": "2025-06-08T16:57:04.948259Z"
    }
   },
   "outputs": [],
   "source": [
    "start_yr = 2001\n",
    "end_yr = 2020"
   ]
  },
  {
   "cell_type": "code",
   "execution_count": null,
   "metadata": {
    "ExecuteTime": {
     "end_time": "2025-06-01T14:51:35.874437Z",
     "start_time": "2025-06-01T14:51:33.894770Z"
    }
   },
   "outputs": [],
   "source": [
    "out = results_final[(results_final[\"granted_year\"] >= start_yr) & (results_final[\"granted_year\"] <= end_yr)]"
   ]
  },
  {
   "cell_type": "code",
   "execution_count": null,
   "metadata": {
    "ExecuteTime": {
     "end_time": "2025-06-01T15:31:12.240888Z",
     "start_time": "2025-06-01T15:28:56.062479Z"
    }
   },
   "outputs": [],
   "source": [
    "if do_sampling:\n",
    "    config_name = f\"[uspto_AI][{start_yr}-{end_yr}][{sampling_ratio}sampling]\"\n",
    "else:\n",
    "    config_name = f\"[uspto_AI][{start_yr}-{end_yr}]\"\n",
    "out.to_csv(f\"data/collection_{config_name}.csv\", index=False)"
   ]
  }
 ],
 "metadata": {
  "kernelspec": {
   "display_name": "DL",
   "language": "python",
   "name": "dl"
  },
  "language_info": {
   "codemirror_mode": {
    "name": "ipython",
    "version": 3
   },
   "file_extension": ".py",
   "mimetype": "text/x-python",
   "name": "python",
   "nbconvert_exporter": "python",
   "pygments_lexer": "ipython3",
   "version": "3.9.7"
  },
  "toc": {
   "base_numbering": 1,
   "nav_menu": {},
   "number_sections": true,
   "sideBar": true,
   "skip_h1_title": false,
   "title_cell": "Table of Contents",
   "title_sidebar": "Contents",
   "toc_cell": false,
   "toc_position": {},
   "toc_section_display": true,
   "toc_window_display": false
  }
 },
 "nbformat": 4,
 "nbformat_minor": 2
}
