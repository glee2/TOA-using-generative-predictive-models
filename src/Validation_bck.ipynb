{
 "cells": [
  {
   "cell_type": "code",
   "execution_count": 1,
   "metadata": {
    "ExecuteTime": {
     "end_time": "2025-09-26T13:43:15.136722Z",
     "start_time": "2025-09-26T13:42:24.197574Z"
    }
   },
   "outputs": [],
   "source": [
    "root_dir = '/home2/glee/dissertation/1_tech_gen_impact/class2class/Tech_Gen/'\n",
    "master_dir = '/home2/glee/dissertation/1_tech_gen_impact/master/Tech_Gen/'\n",
    "import sys\n",
    "sys.path.append(root_dir)\n",
    "\n",
    "import copy\n",
    "import os\n",
    "import argparse\n",
    "import time\n",
    "import pickle\n",
    "import re\n",
    "import warnings\n",
    "warnings.filterwarnings(action='ignore', category=UserWarning)\n",
    "warnings.filterwarnings(action='ignore', category=DeprecationWarning)\n",
    "sys.path.append(\"/share/tml_package\")\n",
    "from tqdm import tqdm\n",
    "\n",
    "import torch\n",
    "from accelerate import Accelerator\n",
    "\n",
    "import numpy as np\n",
    "import pandas as pd\n",
    "from sklearn.metrics import matthews_corrcoef, precision_recall_fscore_support, confusion_matrix\n",
    "from sklearn.utils.class_weight import compute_class_weight\n",
    "\n",
    "from data import TechDataset, CVSampler\n",
    "from train_utils import EarlyStopping, perf_eval, objective_cv, build_model, train_model, validate_model_mp\n",
    "from utils import token2class, DotDict, to_device\n",
    "\n",
    "os.environ[\"TOKENIZERS_PARALLELISM\"] = \"false\"\n",
    "os.environ[\"CUDA_LAUNCH_BLOCKING\"] = \"1\""
   ]
  },
  {
   "cell_type": "markdown",
   "metadata": {},
   "source": [
    "# Configuration"
   ]
  },
  {
   "cell_type": "code",
   "execution_count": 2,
   "metadata": {
    "ExecuteTime": {
     "end_time": "2025-09-26T13:43:30.993436Z",
     "start_time": "2025-09-26T13:43:30.751953Z"
    }
   },
   "outputs": [],
   "source": [
    "# analysis_date = \"2023-05-04_1802\" # Seminconductor\n",
    "# analysis_date = \"2023-05-09_0331\" # AI\n",
    "analysis_date = \"2025-06-07_1732\" # AI, CPC, 2025 scientometrics rev.\n",
    "args = argparse.Namespace(\n",
    "    do_eval = True,\n",
    "    do_save=False,\n",
    "    config_file=os.path.join(root_dir, \"configs\", \"USED_configs\", \"[CONFIGS]\"+analysis_date+\".json\"),\n",
    "    eval_train_set=False)\n",
    "\n",
    "project_data_dir = os.path.join(master_dir, \"data\")\n",
    "data_dir = os.path.join(\"/home2/glee/patent_data/data/\")\n",
    "model_dir = os.path.join(root_dir, \"models\")\n",
    "result_dir = os.path.join(root_dir, \"results\")\n",
    "config_dir = os.path.join(root_dir, \"configs\")\n",
    "\n",
    "## parse configuration file\n",
    "if args.config_file is not None:\n",
    "    config_file = args.config_file\n",
    "else:\n",
    "    config_file = os.path.join(config_dir, \"configs_light.json\") if args.light else os.path.join(config_dir, \"configs.json\")\n",
    "if args.do_eval: args.do_train = False\n",
    "configs = DotDict().load(config_file)\n",
    "org_config_keys = {key: list(configs[key].keys()) for key in configs.keys()}\n",
    "\n",
    "# parse command line argument\n",
    "instant_configs = {key: value for (key, value) in vars(args).items() if value is not None} # if any argument passed when main.py executed\n",
    "instant_configs_for_update = {configkey: {key: value for (key,value) in instant_configs.items() if key in org_config_keys[configkey]} for configkey in org_config_keys.keys()}\n",
    "for key, value in configs.items():\n",
    "    value.update(instant_configs_for_update[key])\n",
    "\n",
    "## assign loss weights\n",
    "if configs.model.model_type == \"enc-pred-dec\":\n",
    "    configs.train.loss_weights[\"recon\"] = configs.train.loss_weights[\"recon\"] / sum(configs.train.loss_weights.values())\n",
    "    configs.train.loss_weights[\"y\"] = 1 - configs.train.loss_weights[\"recon\"]\n",
    "elif configs.model.model_type == \"enc-pred\":\n",
    "    configs.train.loss_weights = {\"recon\": 0, \"y\": 1}\n",
    "elif configs.model.model_type == \"enc-dec\":\n",
    "    configs.train.loss_weights = {\"recon\": 1, \"y\": 0}\n",
    "\n",
    "## assign devices\n",
    "if configs.train.use_accelerator:\n",
    "    accelerator = Accelerator()\n",
    "    device_ids = list(range(torch.cuda.device_count()))\n",
    "    device = accelerator.device\n",
    "    configs.train.update({\"accelerator\": accelerator})\n",
    "else:\n",
    "    if torch.cuda.is_available():\n",
    "        device_ids = list(range(torch.cuda.device_count()))\n",
    "        gpu_usages = [np.sum([float(usage.split(\"uses\")[-1].replace(\" \",\"\").replace(\"MB\",\"\")) for usage in torch.cuda.list_gpu_processes(id).split(\"GPU memory\") if not usage==\"\" and \"no processes are running\" not in usage]) for id in device_ids]\n",
    "        device_ids = np.argsort(gpu_usages)[:configs.train.n_gpus]\n",
    "        device_ids = list(map(lambda x: torch.device('cuda', x),list(device_ids)))\n",
    "        device = device_ids[0] # main device\n",
    "        torch.cuda.set_device(device)\n",
    "    else:\n",
    "        device = torch.device('cpu')\n",
    "        device_ids = []\n",
    "\n",
    "## extract configurations for dataset\n",
    "config_period = \"[\"+\"-\".join([str(year) for year in configs.data.target_period])+\"]\"\n",
    "config_area = str(configs.data.target_area).replace(\"\\'\",\"\").replace(\" \",\"\")\n",
    "config_keywords = str(configs.data.target_keywords).replace(\"\\'\",\"\").replace(\" \",\"\")\n",
    "config_sampling_ratio = \"[\"+str(configs.data.sampling_ratio)+\"sampling\"+\"]\" if configs.data.sampling_ratio < 1 else \"\"\n",
    "\n",
    "## update configurations\n",
    "configs.data.update({\"root_dir\": root_dir,\n",
    "                        \"data_dir\": data_dir,\n",
    "                        \"model_dir\": model_dir,\n",
    "                        \"result_dir\": result_dir,\n",
    "                        \"pretrained_enc\": configs.model.pretrained_enc,\n",
    "                        \"pretrained_dec\": configs.model.pretrained_dec,\n",
    "                        \"data_nrows\": None,\n",
    "                        \"data_file\": \"collection_\" + \"\".join([config_keywords, config_area, config_period, config_sampling_ratio]) + \".csv\"})\n",
    "configs.train.update({\"device\": device,\n",
    "                        \"device_ids\": device_ids,\n",
    "                        \"root_dir\": root_dir,\n",
    "                        \"data_dir\": data_dir,\n",
    "                        \"model_dir\": model_dir,\n",
    "                        \"use_keywords\": configs.data.use_keywords,\n",
    "                        \"class_system\": configs.data.class_system,\n",
    "                        \"curr_ep\": 1,\n",
    "                        \"early_stop_patience\": int(0.3*configs.train.max_epochs)})\n",
    "configs.model.update({\"device\": device,\n",
    "                        \"device_ids\": device_ids,\n",
    "                        \"n_directions\": 2 if configs.model.bidirec else 1,\n",
    "                        \"use_accelerator\": configs.train.use_accelerator,\n",
    "                        \"model_dir\": model_dir})\n",
    "\n",
    "## Set hyperparameters for model training (To be TUNED)\n",
    "if configs.train.do_train and configs.train.do_tune:\n",
    "    n_layers = configs.model.n_layers = None\n",
    "    d_embedding = configs.model.d_embedding = None\n",
    "    d_enc_hidden = configs.model.d_enc_hidden = None\n",
    "    d_pred_hidden = configs.model.d_pred_hidden = None\n",
    "    learning_rate = configs.train.learning_rate = None\n",
    "    batch_size = configs.train.batch_size = None\n",
    "    config_name = \"HPARAM_TUNING\"\n",
    "    final_model_path = None\n",
    "else:\n",
    "    n_layers = configs.model.n_layers\n",
    "    d_embedding = configs.model.d_embedding\n",
    "    d_enc_hidden = configs.model.d_enc_hidden\n",
    "    d_pred_hidden = configs.model.d_pred_hidden\n",
    "    d_latent = configs.model.d_latent\n",
    "\n",
    "    key_components = {\"data\": [\"class_level\", \"class_system\", \"max_seq_len_class\", \"max_seq_len_claim\", \"vocab_size\"], \"model\": [\"n_layers\", \"d_hidden\", \"d_pred_hidden\", \"d_latent\", \"d_embedding\", \"d_ff\", \"n_head\", \"d_head\"], \"train\": [\"learning_rate\", \"batch_size\", \"max_epochs\", \"curr_ep\"]}\n",
    "    model_config_name_prefix = \"\".join([config_keywords, config_area, config_period, config_sampling_ratio]) + \"data\"\n",
    "    model_config_name = \"\" + model_config_name_prefix\n",
    "    model_config_name += f\"[{configs.data.class_system}]system\"\n",
    "    for key in [\"model\", \"train\"]:\n",
    "        for component in key_components[key]:\n",
    "            model_config_name += f\"[{str(configs[key][component])}]{component}\"\n",
    "    final_model_path = os.path.join(model_dir, f\"[MODEL]{model_config_name}.ckpt\")\n",
    "\n",
    "# configs.train.update({\"model_config_name\": model_config_name, \"final_model_path\": final_model_path})"
   ]
  },
  {
   "cell_type": "markdown",
   "metadata": {},
   "source": [
    "# Dataset setting"
   ]
  },
  {
   "cell_type": "code",
   "execution_count": 3,
   "metadata": {
    "ExecuteTime": {
     "end_time": "2025-09-26T13:45:59.135819Z",
     "start_time": "2025-09-26T13:43:30.997384Z"
    },
    "scrolled": true
   },
   "outputs": [
    {
     "name": "stdout",
     "output_type": "stream",
     "text": [
      "Load pickled dataset...\n",
      "Pickled dataset loaded\n"
     ]
    }
   ],
   "source": [
    "''' PART 2: Dataset setting '''\n",
    "tstart = time.time()\n",
    "dataset_config_name = \"\".join([config_keywords, config_area, config_period, config_sampling_ratio]) + \"data\"\n",
    "for component in key_components[\"data\"]:\n",
    "    dataset_config_name += f\"[{str(configs.data[component])}]{component}\"\n",
    "dataset_path = os.path.join(project_data_dir, \"pickled_dataset\", \"[DATASET]\"+dataset_config_name+\".pickle\")\n",
    "\n",
    "if os.path.exists(dataset_path) and args.do_save is False:\n",
    "    print(\"Load pickled dataset...\")\n",
    "    with open(dataset_path, \"rb\") as f:\n",
    "        tech_dataset = pickle.load(f)   # Load pickled dataset if dataset with same configuration already saved\n",
    "        if tech_dataset.pretrained_enc != configs.data.pretrained_enc or tech_dataset.pretrained_dec != configs.data.pretrained_dec:\n",
    "            tech_dataset.pretrained_enc = configs.data.pretrained_enc\n",
    "            tech_dataset.pretrained_dec = configs.data.pretrained_dec\n",
    "            tech_dataset.tokenizers = tech_dataset.get_tokenizers()\n",
    "        for tk in tech_dataset.tokenizers.values():\n",
    "            if \"vocab_size\" not in dir(tk):\n",
    "                tk.vocab_size = tk.get_vocab_size()\n",
    "        tech_dataset.use_keywords = configs.data.use_keywords\n",
    "        ## load saved rawdata\n",
    "        if tech_dataset.rawdata is None:\n",
    "            tech_dataset.rawdata = pd.read_csv(os.path.join(data_dir, configs.data.data_file), low_memory=False)\n",
    "    print(\"Pickled dataset loaded\")\n",
    "else:\n",
    "    print(\"Make dataset...\")\n",
    "    if args.debug:\n",
    "        configs.data.update({\"data_nrows\": 1000})\n",
    "        dataset_path += \".debug\"\n",
    "    tech_dataset = TechDataset(configs.data)\n",
    "    if not args.debug:\n",
    "        rawdata_for_save = copy.deepcopy(tech_dataset.rawdata)\n",
    "        with open(dataset_path, \"wb\") as f:\n",
    "            tech_dataset.rawdata = None\n",
    "            pickle.dump(tech_dataset, f)\n",
    "        tech_dataset.rawdata = rawdata_for_save\n",
    "tend = time.time()\n",
    "\n",
    "configs.model.update({\"tokenizers\": tech_dataset.tokenizers,\n",
    "                    \"n_enc_seq_claim\": tech_dataset.max_seq_len_claim,\n",
    "                    \"n_dec_seq_claim\": tech_dataset.max_seq_len_claim,\n",
    "                    \"n_enc_seq_class\": tech_dataset.max_seq_len_class,\n",
    "                    \"n_dec_seq_class\": tech_dataset.max_seq_len_class,\n",
    "                    \"n_outputs\": 1 if configs.data.pred_type==\"regression\" else tech_dataset.n_outputs,\n",
    "                    \"i_padding\": tech_dataset.tokenizers[\"class_enc\"].pad_id})"
   ]
  },
  {
   "cell_type": "markdown",
   "metadata": {},
   "source": [
    "# Load model"
   ]
  },
  {
   "cell_type": "code",
   "execution_count": 4,
   "metadata": {
    "ExecuteTime": {
     "end_time": "2025-09-26T13:45:59.435282Z",
     "start_time": "2025-09-26T13:45:59.138160Z"
    }
   },
   "outputs": [
    {
     "name": "stdout",
     "output_type": "stream",
     "text": [
      "Model successfully loaded\n"
     ]
    }
   ],
   "source": [
    "final_model = build_model(configs.model, tokenizers=tech_dataset.tokenizers)\n",
    "final_model_finder = final_model_path.split(\"[MODEL]\")[-1].split(\"max_epochs\")[0]+\"max_epochs\"\n",
    "matched_ckpts = [f for f in os.listdir(model_dir) if final_model_finder in f]\n",
    "latest_ckpt_index = np.argmax([int(f.split(\"curr_ep\")[0].split(\"[\")[-1].replace(\"]\",\"\")) for f in matched_ckpts])\n",
    "final_model_path = os.path.join(model_dir, matched_ckpts[latest_ckpt_index])\n",
    "if os.path.exists(final_model_path):\n",
    "    best_states = torch.load(final_model_path, map_location=device)\n",
    "else:\n",
    "    raise Exception(\"Model need to be trained first\")\n",
    "\n",
    "has_module_prefix = any(k.startswith(\"module.\") for k in best_states.keys())\n",
    "if has_module_prefix:\n",
    "    stripped = {}\n",
    "    for k, v in best_states.items():\n",
    "        new_key = k[len(\"module.\"):] if k.startswith(\"module.\") else k\n",
    "        stripped[new_key] = v\n",
    "    best_states = stripped\n",
    "final_model.load_state_dict(best_states)\n",
    "\n",
    "del best_states\n",
    "torch.cuda.empty_cache()\n",
    "print(\"Model successfully loaded\")"
   ]
  },
  {
   "cell_type": "code",
   "execution_count": 5,
   "metadata": {
    "ExecuteTime": {
     "end_time": "2025-09-26T13:45:59.444117Z",
     "start_time": "2025-09-26T13:45:59.438878Z"
    }
   },
   "outputs": [
    {
     "name": "stdout",
     "output_type": "stream",
     "text": [
      "Model size: 1.5M paramaters\n"
     ]
    }
   ],
   "source": [
    " if re.search(\"^1.\", torch.__version__) is not None:\n",
    "        model_size = sum(t.numel() for t in final_model.parameters())\n",
    "        print(f\"Model size: {model_size/1000**2:.1f}M paramaters\")"
   ]
  },
  {
   "cell_type": "code",
   "execution_count": 6,
   "metadata": {
    "ExecuteTime": {
     "end_time": "2025-09-26T13:46:39.211419Z",
     "start_time": "2025-09-26T13:45:59.446373Z"
    }
   },
   "outputs": [],
   "source": [
    "result_path = os.path.join(root_dir, \"results\")\n",
    "used_train_data = pd.read_excel(os.path.join(result_dir, \"[DATASET]\"+analysis_date+\".xlsx\"), sheet_name=\"TRAIN_dataset\")\n",
    "used_test_data = pd.read_excel(os.path.join(result_dir, \"[DATASET]\"+analysis_date+\".xlsx\"), sheet_name=\"TEST_dataset\")"
   ]
  },
  {
   "cell_type": "code",
   "execution_count": 7,
   "metadata": {
    "ExecuteTime": {
     "end_time": "2025-09-26T13:46:39.271830Z",
     "start_time": "2025-09-26T13:46:39.214237Z"
    },
    "scrolled": true
   },
   "outputs": [
    {
     "data": {
      "text/html": [
       "<div>\n",
       "<style scoped>\n",
       "    .dataframe tbody tr th:only-of-type {\n",
       "        vertical-align: middle;\n",
       "    }\n",
       "\n",
       "    .dataframe tbody tr th {\n",
       "        vertical-align: top;\n",
       "    }\n",
       "\n",
       "    .dataframe thead th {\n",
       "        text-align: right;\n",
       "    }\n",
       "</style>\n",
       "<table border=\"1\" class=\"dataframe\">\n",
       "  <thead>\n",
       "    <tr style=\"text-align: right;\">\n",
       "      <th></th>\n",
       "      <th>patent_number</th>\n",
       "      <th>patent_number.1</th>\n",
       "      <th>main_class</th>\n",
       "      <th>sub_class</th>\n",
       "      <th>patent_classes</th>\n",
       "      <th>claims</th>\n",
       "      <th>TC5</th>\n",
       "      <th>TC5_digitized</th>\n",
       "      <th>class</th>\n",
       "    </tr>\n",
       "  </thead>\n",
       "  <tbody>\n",
       "    <tr>\n",
       "      <th>0</th>\n",
       "      <td>8423759</td>\n",
       "      <td>8423759</td>\n",
       "      <td>['H04L009', 'H04L063', 'H04L009', 'H04L009', '...</td>\n",
       "      <td>[]</td>\n",
       "      <td>['H04L009', 'H04L063', 'H04L009', 'H04L009', '...</td>\n",
       "      <td>1. A method of bootstrapping configuration for...</td>\n",
       "      <td>39</td>\n",
       "      <td>1</td>\n",
       "      <td>2335</td>\n",
       "    </tr>\n",
       "    <tr>\n",
       "      <th>1</th>\n",
       "      <td>7268723</td>\n",
       "      <td>7268723</td>\n",
       "      <td>['G01S013']</td>\n",
       "      <td>['G01S013']</td>\n",
       "      <td>['G01S013', 'G01S013']</td>\n",
       "      <td>1. A system for measuring the position of a ta...</td>\n",
       "      <td>3</td>\n",
       "      <td>0</td>\n",
       "      <td>1788</td>\n",
       "    </tr>\n",
       "    <tr>\n",
       "      <th>2</th>\n",
       "      <td>7508332</td>\n",
       "      <td>7508332</td>\n",
       "      <td>['H03M001', 'G01K007', 'G01K007']</td>\n",
       "      <td>['H03M001', 'H03M001', 'H03M001', 'H03M001']</td>\n",
       "      <td>['H03M001', 'G01K007', 'G01K007', 'H03M001', '...</td>\n",
       "      <td>1. An on die thermal sensor (ODTS) of a semico...</td>\n",
       "      <td>3</td>\n",
       "      <td>0</td>\n",
       "      <td>2307</td>\n",
       "    </tr>\n",
       "    <tr>\n",
       "      <th>3</th>\n",
       "      <td>8095229</td>\n",
       "      <td>8095229</td>\n",
       "      <td>['G05B019', 'G06Q050', 'G06Q010', 'G16Z099']</td>\n",
       "      <td>['Y02P090', 'Y02P090']</td>\n",
       "      <td>['G05B019', 'G06Q050', 'G06Q010', 'G16Z099', '...</td>\n",
       "      <td>1. A computer implemented method for defining ...</td>\n",
       "      <td>2</td>\n",
       "      <td>0</td>\n",
       "      <td>1882</td>\n",
       "    </tr>\n",
       "    <tr>\n",
       "      <th>4</th>\n",
       "      <td>8825655</td>\n",
       "      <td>8825655</td>\n",
       "      <td>['G06F016', 'G06F016', 'G06F016', 'G06V030', '...</td>\n",
       "      <td>[]</td>\n",
       "      <td>['G06F016', 'G06F016', 'G06F016', 'G06V030', '...</td>\n",
       "      <td>1. A system comprising: one or more processors...</td>\n",
       "      <td>2</td>\n",
       "      <td>0</td>\n",
       "      <td>1916</td>\n",
       "    </tr>\n",
       "    <tr>\n",
       "      <th>...</th>\n",
       "      <td>...</td>\n",
       "      <td>...</td>\n",
       "      <td>...</td>\n",
       "      <td>...</td>\n",
       "      <td>...</td>\n",
       "      <td>...</td>\n",
       "      <td>...</td>\n",
       "      <td>...</td>\n",
       "      <td>...</td>\n",
       "    </tr>\n",
       "    <tr>\n",
       "      <th>13361</th>\n",
       "      <td>7496557</td>\n",
       "      <td>7496557</td>\n",
       "      <td>['G06F016']</td>\n",
       "      <td>['Y10S707', 'Y10S707']</td>\n",
       "      <td>['G06F016', 'Y10S707', 'Y10S707']</td>\n",
       "      <td>1. A method of crawling at least one website c...</td>\n",
       "      <td>3</td>\n",
       "      <td>0</td>\n",
       "      <td>1916</td>\n",
       "    </tr>\n",
       "    <tr>\n",
       "      <th>13362</th>\n",
       "      <td>8483738</td>\n",
       "      <td>8483738</td>\n",
       "      <td>['G06F021', 'G06F021']</td>\n",
       "      <td>['H04W008', 'H04W004']</td>\n",
       "      <td>['G06F021', 'G06F021', 'H04W008', 'H04W004']</td>\n",
       "      <td>1. A child telecommunications device, comprisi...</td>\n",
       "      <td>0</td>\n",
       "      <td>0</td>\n",
       "      <td>1919</td>\n",
       "    </tr>\n",
       "    <tr>\n",
       "      <th>13363</th>\n",
       "      <td>8838301</td>\n",
       "      <td>8838301</td>\n",
       "      <td>['B61L029', 'B61L025', 'B61L029', 'B61L029']</td>\n",
       "      <td>['B61L025']</td>\n",
       "      <td>['B61L029', 'B61L025', 'B61L029', 'B61L029', '...</td>\n",
       "      <td>1. A method for train traffic advising includi...</td>\n",
       "      <td>10</td>\n",
       "      <td>0</td>\n",
       "      <td>700</td>\n",
       "    </tr>\n",
       "    <tr>\n",
       "      <th>13364</th>\n",
       "      <td>9087301</td>\n",
       "      <td>9087301</td>\n",
       "      <td>['G06N003', 'G06N003', 'G06N003', 'G06N003']</td>\n",
       "      <td>['G06N003', 'G06N003']</td>\n",
       "      <td>['G06N003', 'G06N003', 'G06N003', 'G06N003', '...</td>\n",
       "      <td>1. A neural network system, comprising: a memo...</td>\n",
       "      <td>11</td>\n",
       "      <td>0</td>\n",
       "      <td>1933</td>\n",
       "    </tr>\n",
       "    <tr>\n",
       "      <th>13365</th>\n",
       "      <td>9158975</td>\n",
       "      <td>9158975</td>\n",
       "      <td>['G08B013', 'G08B013', 'G08B013', 'G06V020', '...</td>\n",
       "      <td>['G06V040', 'G06V020', 'G06V010', 'G06V010', '...</td>\n",
       "      <td>['G08B013', 'G08B013', 'G08B013', 'G06V020', '...</td>\n",
       "      <td>1. A method for video monitoring a retail busi...</td>\n",
       "      <td>22</td>\n",
       "      <td>1</td>\n",
       "      <td>1988</td>\n",
       "    </tr>\n",
       "  </tbody>\n",
       "</table>\n",
       "<p>13366 rows × 9 columns</p>\n",
       "</div>"
      ],
      "text/plain": [
       "       patent_number  patent_number.1  \\\n",
       "0            8423759          8423759   \n",
       "1            7268723          7268723   \n",
       "2            7508332          7508332   \n",
       "3            8095229          8095229   \n",
       "4            8825655          8825655   \n",
       "...              ...              ...   \n",
       "13361        7496557          7496557   \n",
       "13362        8483738          8483738   \n",
       "13363        8838301          8838301   \n",
       "13364        9087301          9087301   \n",
       "13365        9158975          9158975   \n",
       "\n",
       "                                              main_class  \\\n",
       "0      ['H04L009', 'H04L063', 'H04L009', 'H04L009', '...   \n",
       "1                                            ['G01S013']   \n",
       "2                      ['H03M001', 'G01K007', 'G01K007']   \n",
       "3           ['G05B019', 'G06Q050', 'G06Q010', 'G16Z099']   \n",
       "4      ['G06F016', 'G06F016', 'G06F016', 'G06V030', '...   \n",
       "...                                                  ...   \n",
       "13361                                        ['G06F016']   \n",
       "13362                             ['G06F021', 'G06F021']   \n",
       "13363       ['B61L029', 'B61L025', 'B61L029', 'B61L029']   \n",
       "13364       ['G06N003', 'G06N003', 'G06N003', 'G06N003']   \n",
       "13365  ['G08B013', 'G08B013', 'G08B013', 'G06V020', '...   \n",
       "\n",
       "                                               sub_class  \\\n",
       "0                                                     []   \n",
       "1                                            ['G01S013']   \n",
       "2           ['H03M001', 'H03M001', 'H03M001', 'H03M001']   \n",
       "3                                 ['Y02P090', 'Y02P090']   \n",
       "4                                                     []   \n",
       "...                                                  ...   \n",
       "13361                             ['Y10S707', 'Y10S707']   \n",
       "13362                             ['H04W008', 'H04W004']   \n",
       "13363                                        ['B61L025']   \n",
       "13364                             ['G06N003', 'G06N003']   \n",
       "13365  ['G06V040', 'G06V020', 'G06V010', 'G06V010', '...   \n",
       "\n",
       "                                          patent_classes  \\\n",
       "0      ['H04L009', 'H04L063', 'H04L009', 'H04L009', '...   \n",
       "1                                 ['G01S013', 'G01S013']   \n",
       "2      ['H03M001', 'G01K007', 'G01K007', 'H03M001', '...   \n",
       "3      ['G05B019', 'G06Q050', 'G06Q010', 'G16Z099', '...   \n",
       "4      ['G06F016', 'G06F016', 'G06F016', 'G06V030', '...   \n",
       "...                                                  ...   \n",
       "13361                  ['G06F016', 'Y10S707', 'Y10S707']   \n",
       "13362       ['G06F021', 'G06F021', 'H04W008', 'H04W004']   \n",
       "13363  ['B61L029', 'B61L025', 'B61L029', 'B61L029', '...   \n",
       "13364  ['G06N003', 'G06N003', 'G06N003', 'G06N003', '...   \n",
       "13365  ['G08B013', 'G08B013', 'G08B013', 'G06V020', '...   \n",
       "\n",
       "                                                  claims  TC5  TC5_digitized  \\\n",
       "0      1. A method of bootstrapping configuration for...   39              1   \n",
       "1      1. A system for measuring the position of a ta...    3              0   \n",
       "2      1. An on die thermal sensor (ODTS) of a semico...    3              0   \n",
       "3      1. A computer implemented method for defining ...    2              0   \n",
       "4      1. A system comprising: one or more processors...    2              0   \n",
       "...                                                  ...  ...            ...   \n",
       "13361  1. A method of crawling at least one website c...    3              0   \n",
       "13362  1. A child telecommunications device, comprisi...    0              0   \n",
       "13363  1. A method for train traffic advising includi...   10              0   \n",
       "13364  1. A neural network system, comprising: a memo...   11              0   \n",
       "13365  1. A method for video monitoring a retail busi...   22              1   \n",
       "\n",
       "       class  \n",
       "0       2335  \n",
       "1       1788  \n",
       "2       2307  \n",
       "3       1882  \n",
       "4       1916  \n",
       "...      ...  \n",
       "13361   1916  \n",
       "13362   1919  \n",
       "13363    700  \n",
       "13364   1933  \n",
       "13365   1988  \n",
       "\n",
       "[13366 rows x 9 columns]"
      ]
     },
     "execution_count": 7,
     "metadata": {},
     "output_type": "execute_result"
    }
   ],
   "source": [
    "used_test_data"
   ]
  },
  {
   "cell_type": "code",
   "execution_count": 8,
   "metadata": {
    "ExecuteTime": {
     "end_time": "2025-09-26T13:47:36.345588Z",
     "start_time": "2025-09-26T13:46:39.274382Z"
    }
   },
   "outputs": [],
   "source": [
    "org_data = pd.read_csv(os.path.join(data_dir, \"collection_[uspto_AI][2006-2015].csv\"))\n",
    "org_data = org_data.set_index(\"patent_number\")"
   ]
  },
  {
   "cell_type": "code",
   "execution_count": 9,
   "metadata": {
    "ExecuteTime": {
     "end_time": "2025-09-26T13:47:36.649378Z",
     "start_time": "2025-09-26T13:47:36.348348Z"
    },
    "scrolled": true
   },
   "outputs": [
    {
     "data": {
      "text/html": [
       "<div>\n",
       "<style scoped>\n",
       "    .dataframe tbody tr th:only-of-type {\n",
       "        vertical-align: middle;\n",
       "    }\n",
       "\n",
       "    .dataframe tbody tr th {\n",
       "        vertical-align: top;\n",
       "    }\n",
       "\n",
       "    .dataframe thead th {\n",
       "        text-align: right;\n",
       "    }\n",
       "</style>\n",
       "<table border=\"1\" class=\"dataframe\">\n",
       "  <thead>\n",
       "    <tr style=\"text-align: right;\">\n",
       "      <th></th>\n",
       "      <th>patent_number.1</th>\n",
       "      <th>forward_refs</th>\n",
       "      <th>application_year_forward_refs</th>\n",
       "      <th>citing_years</th>\n",
       "      <th>granted_date</th>\n",
       "      <th>granted_year</th>\n",
       "      <th>main_cpc</th>\n",
       "      <th>sub_cpc</th>\n",
       "      <th>main_ipc</th>\n",
       "      <th>sub_ipc</th>\n",
       "      <th>...</th>\n",
       "      <th>2013</th>\n",
       "      <th>2014</th>\n",
       "      <th>2015</th>\n",
       "      <th>2016</th>\n",
       "      <th>2017</th>\n",
       "      <th>2018</th>\n",
       "      <th>2019</th>\n",
       "      <th>2020</th>\n",
       "      <th>2021</th>\n",
       "      <th>2022</th>\n",
       "    </tr>\n",
       "    <tr>\n",
       "      <th>patent_number</th>\n",
       "      <th></th>\n",
       "      <th></th>\n",
       "      <th></th>\n",
       "      <th></th>\n",
       "      <th></th>\n",
       "      <th></th>\n",
       "      <th></th>\n",
       "      <th></th>\n",
       "      <th></th>\n",
       "      <th></th>\n",
       "      <th></th>\n",
       "      <th></th>\n",
       "      <th></th>\n",
       "      <th></th>\n",
       "      <th></th>\n",
       "      <th></th>\n",
       "      <th></th>\n",
       "      <th></th>\n",
       "      <th></th>\n",
       "      <th></th>\n",
       "      <th></th>\n",
       "    </tr>\n",
       "  </thead>\n",
       "  <tbody>\n",
       "    <tr>\n",
       "      <th>6983309</th>\n",
       "      <td>6983309</td>\n",
       "      <td>10235008;8243902;8050917;9582461;8015607;76068...</td>\n",
       "      <td>2014;2014;2008;2008;2004;2004;2004;2008;2008;2...</td>\n",
       "      <td>['2019' '2019' '2021' '2021' '2009' '2009' '20...</td>\n",
       "      <td>2006-01-03</td>\n",
       "      <td>2006</td>\n",
       "      <td>G06Q10/107;H04L63/123;H04L63/12;G06Q20/3674;G0...</td>\n",
       "      <td>Y10S707/99945;Y10S707/99948;H04L2209/60;H04L51...</td>\n",
       "      <td>[\"G06F15/16 20060101 G06F015/16\"]</td>\n",
       "      <td>[\"G06F15/173 20060101 G06F015/173\", \"G06F17/00...</td>\n",
       "      <td>...</td>\n",
       "      <td>2</td>\n",
       "      <td>3</td>\n",
       "      <td>1</td>\n",
       "      <td>0</td>\n",
       "      <td>2</td>\n",
       "      <td>0</td>\n",
       "      <td>2</td>\n",
       "      <td>0</td>\n",
       "      <td>2</td>\n",
       "      <td>0</td>\n",
       "    </tr>\n",
       "    <tr>\n",
       "      <th>6981642</th>\n",
       "      <td>6981642</td>\n",
       "      <td>8985462;9418269;7303131;7976167;8646694;108957...</td>\n",
       "      <td>2019;2004;2006;2003;2007;2007;2011;2007;2008;2...</td>\n",
       "      <td>['2021' '2007' '2008' '2009' '2010' '2011' '20...</td>\n",
       "      <td>2006-01-03</td>\n",
       "      <td>2006</td>\n",
       "      <td>G06K7/10722;G06K7/10811;G02B7/285</td>\n",
       "      <td>NaN</td>\n",
       "      <td>[\"G06K7/10 20060101 G06K007/10\"]</td>\n",
       "      <td>NaN</td>\n",
       "      <td>...</td>\n",
       "      <td>1</td>\n",
       "      <td>3</td>\n",
       "      <td>3</td>\n",
       "      <td>1</td>\n",
       "      <td>0</td>\n",
       "      <td>0</td>\n",
       "      <td>0</td>\n",
       "      <td>0</td>\n",
       "      <td>1</td>\n",
       "      <td>0</td>\n",
       "    </tr>\n",
       "    <tr>\n",
       "      <th>6982420</th>\n",
       "      <td>6982420</td>\n",
       "      <td>7838834</td>\n",
       "      <td>2008</td>\n",
       "      <td>['2010']</td>\n",
       "      <td>2006-01-03</td>\n",
       "      <td>2006</td>\n",
       "      <td>H01J37/26;G06V20/698</td>\n",
       "      <td>H01J2237/221</td>\n",
       "      <td>[\"G21K7/00 20060101 G21K007/00\"]</td>\n",
       "      <td>NaN</td>\n",
       "      <td>...</td>\n",
       "      <td>0</td>\n",
       "      <td>0</td>\n",
       "      <td>0</td>\n",
       "      <td>0</td>\n",
       "      <td>0</td>\n",
       "      <td>0</td>\n",
       "      <td>0</td>\n",
       "      <td>0</td>\n",
       "      <td>0</td>\n",
       "      <td>0</td>\n",
       "    </tr>\n",
       "    <tr>\n",
       "      <th>6983071</th>\n",
       "      <td>6983071</td>\n",
       "      <td>8675968</td>\n",
       "      <td>2009</td>\n",
       "      <td>['2014']</td>\n",
       "      <td>2006-01-03</td>\n",
       "      <td>2006</td>\n",
       "      <td>G06V30/155;G06V30/1444;G06V10/22;G06V10/273</td>\n",
       "      <td>G06V30/10</td>\n",
       "      <td>[\"G06K9/34 20060101 G06K009/34\"]</td>\n",
       "      <td>NaN</td>\n",
       "      <td>...</td>\n",
       "      <td>0</td>\n",
       "      <td>1</td>\n",
       "      <td>0</td>\n",
       "      <td>0</td>\n",
       "      <td>0</td>\n",
       "      <td>0</td>\n",
       "      <td>0</td>\n",
       "      <td>0</td>\n",
       "      <td>0</td>\n",
       "      <td>0</td>\n",
       "    </tr>\n",
       "    <tr>\n",
       "      <th>6982717</th>\n",
       "      <td>6982717</td>\n",
       "      <td>8111264;8421795</td>\n",
       "      <td>2006;2007;2007</td>\n",
       "      <td>['2012' '2013' '2013']</td>\n",
       "      <td>2006-01-03</td>\n",
       "      <td>2006</td>\n",
       "      <td>G06T5/002</td>\n",
       "      <td>A63F2300/8017;A63F2300/66</td>\n",
       "      <td>[\"G06T15/00 20060101 G06T015/00\"]</td>\n",
       "      <td>NaN</td>\n",
       "      <td>...</td>\n",
       "      <td>2</td>\n",
       "      <td>0</td>\n",
       "      <td>0</td>\n",
       "      <td>0</td>\n",
       "      <td>0</td>\n",
       "      <td>0</td>\n",
       "      <td>0</td>\n",
       "      <td>0</td>\n",
       "      <td>0</td>\n",
       "      <td>0</td>\n",
       "    </tr>\n",
       "    <tr>\n",
       "      <th>...</th>\n",
       "      <td>...</td>\n",
       "      <td>...</td>\n",
       "      <td>...</td>\n",
       "      <td>...</td>\n",
       "      <td>...</td>\n",
       "      <td>...</td>\n",
       "      <td>...</td>\n",
       "      <td>...</td>\n",
       "      <td>...</td>\n",
       "      <td>...</td>\n",
       "      <td>...</td>\n",
       "      <td>...</td>\n",
       "      <td>...</td>\n",
       "      <td>...</td>\n",
       "      <td>...</td>\n",
       "      <td>...</td>\n",
       "      <td>...</td>\n",
       "      <td>...</td>\n",
       "      <td>...</td>\n",
       "      <td>...</td>\n",
       "      <td>...</td>\n",
       "    </tr>\n",
       "    <tr>\n",
       "      <th>9224259</th>\n",
       "      <td>9224259</td>\n",
       "      <td>10940388;9876894;9882981;10709989;10803041;959...</td>\n",
       "      <td>2015;2017;2016;2018;2019;2018;2017;2019;2015;2...</td>\n",
       "      <td>['2018' '2018' '2019' '2020' '2020' '2020' '20...</td>\n",
       "      <td>2015-12-29</td>\n",
       "      <td>2015</td>\n",
       "      <td>A63F13/358;H04L67/10;G07F17/3241;G07F17/3234;G...</td>\n",
       "      <td>NaN</td>\n",
       "      <td>[\"G07F17/32 20060101 G07F017/32\"]</td>\n",
       "      <td>NaN</td>\n",
       "      <td>...</td>\n",
       "      <td>0</td>\n",
       "      <td>0</td>\n",
       "      <td>0</td>\n",
       "      <td>1</td>\n",
       "      <td>2</td>\n",
       "      <td>4</td>\n",
       "      <td>1</td>\n",
       "      <td>3</td>\n",
       "      <td>2</td>\n",
       "      <td>0</td>\n",
       "    </tr>\n",
       "    <tr>\n",
       "      <th>9223616</th>\n",
       "      <td>9223616</td>\n",
       "      <td>10768959</td>\n",
       "      <td>2015</td>\n",
       "      <td>['2020']</td>\n",
       "      <td>2015-12-29</td>\n",
       "      <td>2015</td>\n",
       "      <td>G06F9/4856;G06F9/5077</td>\n",
       "      <td>NaN</td>\n",
       "      <td>[\"G06F15/173 20060101 G06F015/173\"]</td>\n",
       "      <td>[\"G06F9/48 20060101 G06F009/48\", \"G06F9/50 200...</td>\n",
       "      <td>...</td>\n",
       "      <td>0</td>\n",
       "      <td>0</td>\n",
       "      <td>0</td>\n",
       "      <td>0</td>\n",
       "      <td>0</td>\n",
       "      <td>0</td>\n",
       "      <td>0</td>\n",
       "      <td>1</td>\n",
       "      <td>0</td>\n",
       "      <td>0</td>\n",
       "    </tr>\n",
       "    <tr>\n",
       "      <th>9223929</th>\n",
       "      <td>9223929</td>\n",
       "      <td>9708647;10106839;9499861;10501778;10174367;945...</td>\n",
       "      <td>2013;2016;2017;2011;2011;2015;2015</td>\n",
       "      <td>['2018' '2019' '2019' '2016' '2016' '2016' '20...</td>\n",
       "      <td>2015-12-29</td>\n",
       "      <td>2015</td>\n",
       "      <td>G16B5/20;G16B25/10;G16B25/00;G16B40/30;G16B40/...</td>\n",
       "      <td>G16B30/10</td>\n",
       "      <td>[\"G06F7/60 20060101 G06F007/60\"]</td>\n",
       "      <td>[\"G01N33/48 20060101 G01N033/48\", \"G01N31/00 2...</td>\n",
       "      <td>...</td>\n",
       "      <td>0</td>\n",
       "      <td>0</td>\n",
       "      <td>0</td>\n",
       "      <td>3</td>\n",
       "      <td>1</td>\n",
       "      <td>1</td>\n",
       "      <td>2</td>\n",
       "      <td>0</td>\n",
       "      <td>0</td>\n",
       "      <td>0</td>\n",
       "    </tr>\n",
       "    <tr>\n",
       "      <th>9223600</th>\n",
       "      <td>9223600</td>\n",
       "      <td>10341257;9973445;10057191;10110514;10084726;10...</td>\n",
       "      <td>2015;2015;2015;2015;2019;2015</td>\n",
       "      <td>['2018' '2018' '2018' '2019' '2020' '2018']</td>\n",
       "      <td>2015-12-29</td>\n",
       "      <td>2015</td>\n",
       "      <td>G06F9/45525;G06F9/45533</td>\n",
       "      <td>NaN</td>\n",
       "      <td>[\"G06F9/455 20060101 G06F009/455\"]</td>\n",
       "      <td>NaN</td>\n",
       "      <td>...</td>\n",
       "      <td>0</td>\n",
       "      <td>0</td>\n",
       "      <td>0</td>\n",
       "      <td>0</td>\n",
       "      <td>0</td>\n",
       "      <td>4</td>\n",
       "      <td>1</td>\n",
       "      <td>1</td>\n",
       "      <td>0</td>\n",
       "      <td>0</td>\n",
       "    </tr>\n",
       "    <tr>\n",
       "      <th>9225724</th>\n",
       "      <td>9225724</td>\n",
       "      <td>9497199;9516029;10887320;10362041;11074272;106...</td>\n",
       "      <td>2018;2018;2018;2019;2018;2016;2016;2015;2015;2...</td>\n",
       "      <td>['2019' '2019' '2020' '2021' '2021' '2016' '20...</td>\n",
       "      <td>2015-12-29</td>\n",
       "      <td>2015</td>\n",
       "      <td>G06F9/4887;H04L63/10;G06F16/21;G06F16/951;G06F...</td>\n",
       "      <td>NaN</td>\n",
       "      <td>[\"G06F9/46 20060101 G06F009/46\"]</td>\n",
       "      <td>[\"H04L29/06 20060101 H04L029/06\", \"G06F17/30 2...</td>\n",
       "      <td>...</td>\n",
       "      <td>0</td>\n",
       "      <td>0</td>\n",
       "      <td>0</td>\n",
       "      <td>4</td>\n",
       "      <td>0</td>\n",
       "      <td>2</td>\n",
       "      <td>2</td>\n",
       "      <td>1</td>\n",
       "      <td>2</td>\n",
       "      <td>0</td>\n",
       "    </tr>\n",
       "  </tbody>\n",
       "</table>\n",
       "<p>296437 rows × 61 columns</p>\n",
       "</div>"
      ],
      "text/plain": [
       "               patent_number.1  \\\n",
       "patent_number                    \n",
       "6983309                6983309   \n",
       "6981642                6981642   \n",
       "6982420                6982420   \n",
       "6983071                6983071   \n",
       "6982717                6982717   \n",
       "...                        ...   \n",
       "9224259                9224259   \n",
       "9223616                9223616   \n",
       "9223929                9223929   \n",
       "9223600                9223600   \n",
       "9225724                9225724   \n",
       "\n",
       "                                                    forward_refs  \\\n",
       "patent_number                                                      \n",
       "6983309        10235008;8243902;8050917;9582461;8015607;76068...   \n",
       "6981642        8985462;9418269;7303131;7976167;8646694;108957...   \n",
       "6982420                                                  7838834   \n",
       "6983071                                                  8675968   \n",
       "6982717                                          8111264;8421795   \n",
       "...                                                          ...   \n",
       "9224259        10940388;9876894;9882981;10709989;10803041;959...   \n",
       "9223616                                                 10768959   \n",
       "9223929        9708647;10106839;9499861;10501778;10174367;945...   \n",
       "9223600        10341257;9973445;10057191;10110514;10084726;10...   \n",
       "9225724        9497199;9516029;10887320;10362041;11074272;106...   \n",
       "\n",
       "                                   application_year_forward_refs  \\\n",
       "patent_number                                                      \n",
       "6983309        2014;2014;2008;2008;2004;2004;2004;2008;2008;2...   \n",
       "6981642        2019;2004;2006;2003;2007;2007;2011;2007;2008;2...   \n",
       "6982420                                                     2008   \n",
       "6983071                                                     2009   \n",
       "6982717                                           2006;2007;2007   \n",
       "...                                                          ...   \n",
       "9224259        2015;2017;2016;2018;2019;2018;2017;2019;2015;2...   \n",
       "9223616                                                     2015   \n",
       "9223929                       2013;2016;2017;2011;2011;2015;2015   \n",
       "9223600                            2015;2015;2015;2015;2019;2015   \n",
       "9225724        2018;2018;2018;2019;2018;2016;2016;2015;2015;2...   \n",
       "\n",
       "                                                    citing_years granted_date  \\\n",
       "patent_number                                                                   \n",
       "6983309        ['2019' '2019' '2021' '2021' '2009' '2009' '20...   2006-01-03   \n",
       "6981642        ['2021' '2007' '2008' '2009' '2010' '2011' '20...   2006-01-03   \n",
       "6982420                                                 ['2010']   2006-01-03   \n",
       "6983071                                                 ['2014']   2006-01-03   \n",
       "6982717                                   ['2012' '2013' '2013']   2006-01-03   \n",
       "...                                                          ...          ...   \n",
       "9224259        ['2018' '2018' '2019' '2020' '2020' '2020' '20...   2015-12-29   \n",
       "9223616                                                 ['2020']   2015-12-29   \n",
       "9223929        ['2018' '2019' '2019' '2016' '2016' '2016' '20...   2015-12-29   \n",
       "9223600              ['2018' '2018' '2018' '2019' '2020' '2018']   2015-12-29   \n",
       "9225724        ['2019' '2019' '2020' '2021' '2021' '2016' '20...   2015-12-29   \n",
       "\n",
       "               granted_year  \\\n",
       "patent_number                 \n",
       "6983309                2006   \n",
       "6981642                2006   \n",
       "6982420                2006   \n",
       "6983071                2006   \n",
       "6982717                2006   \n",
       "...                     ...   \n",
       "9224259                2015   \n",
       "9223616                2015   \n",
       "9223929                2015   \n",
       "9223600                2015   \n",
       "9225724                2015   \n",
       "\n",
       "                                                        main_cpc  \\\n",
       "patent_number                                                      \n",
       "6983309        G06Q10/107;H04L63/123;H04L63/12;G06Q20/3674;G0...   \n",
       "6981642                        G06K7/10722;G06K7/10811;G02B7/285   \n",
       "6982420                                     H01J37/26;G06V20/698   \n",
       "6983071              G06V30/155;G06V30/1444;G06V10/22;G06V10/273   \n",
       "6982717                                                G06T5/002   \n",
       "...                                                          ...   \n",
       "9224259        A63F13/358;H04L67/10;G07F17/3241;G07F17/3234;G...   \n",
       "9223616                                    G06F9/4856;G06F9/5077   \n",
       "9223929        G16B5/20;G16B25/10;G16B25/00;G16B40/30;G16B40/...   \n",
       "9223600                                  G06F9/45525;G06F9/45533   \n",
       "9225724        G06F9/4887;H04L63/10;G06F16/21;G06F16/951;G06F...   \n",
       "\n",
       "                                                         sub_cpc  \\\n",
       "patent_number                                                      \n",
       "6983309        Y10S707/99945;Y10S707/99948;H04L2209/60;H04L51...   \n",
       "6981642                                                      NaN   \n",
       "6982420                                             H01J2237/221   \n",
       "6983071                                                G06V30/10   \n",
       "6982717                                A63F2300/8017;A63F2300/66   \n",
       "...                                                          ...   \n",
       "9224259                                                      NaN   \n",
       "9223616                                                      NaN   \n",
       "9223929                                                G16B30/10   \n",
       "9223600                                                      NaN   \n",
       "9225724                                                      NaN   \n",
       "\n",
       "                                          main_ipc  \\\n",
       "patent_number                                        \n",
       "6983309          [\"G06F15/16 20060101 G06F015/16\"]   \n",
       "6981642           [\"G06K7/10 20060101 G06K007/10\"]   \n",
       "6982420           [\"G21K7/00 20060101 G21K007/00\"]   \n",
       "6983071           [\"G06K9/34 20060101 G06K009/34\"]   \n",
       "6982717          [\"G06T15/00 20060101 G06T015/00\"]   \n",
       "...                                            ...   \n",
       "9224259          [\"G07F17/32 20060101 G07F017/32\"]   \n",
       "9223616        [\"G06F15/173 20060101 G06F015/173\"]   \n",
       "9223929           [\"G06F7/60 20060101 G06F007/60\"]   \n",
       "9223600         [\"G06F9/455 20060101 G06F009/455\"]   \n",
       "9225724           [\"G06F9/46 20060101 G06F009/46\"]   \n",
       "\n",
       "                                                         sub_ipc  ... 2013  \\\n",
       "patent_number                                                     ...        \n",
       "6983309        [\"G06F15/173 20060101 G06F015/173\", \"G06F17/00...  ...    2   \n",
       "6981642                                                      NaN  ...    1   \n",
       "6982420                                                      NaN  ...    0   \n",
       "6983071                                                      NaN  ...    0   \n",
       "6982717                                                      NaN  ...    2   \n",
       "...                                                          ...  ...  ...   \n",
       "9224259                                                      NaN  ...    0   \n",
       "9223616        [\"G06F9/48 20060101 G06F009/48\", \"G06F9/50 200...  ...    0   \n",
       "9223929        [\"G01N33/48 20060101 G01N033/48\", \"G01N31/00 2...  ...    0   \n",
       "9223600                                                      NaN  ...    0   \n",
       "9225724        [\"H04L29/06 20060101 H04L029/06\", \"G06F17/30 2...  ...    0   \n",
       "\n",
       "              2014 2015 2016  2017  2018  2019  2020  2021  2022  \n",
       "patent_number                                                     \n",
       "6983309          3    1    0     2     0     2     0     2     0  \n",
       "6981642          3    3    1     0     0     0     0     1     0  \n",
       "6982420          0    0    0     0     0     0     0     0     0  \n",
       "6983071          1    0    0     0     0     0     0     0     0  \n",
       "6982717          0    0    0     0     0     0     0     0     0  \n",
       "...            ...  ...  ...   ...   ...   ...   ...   ...   ...  \n",
       "9224259          0    0    1     2     4     1     3     2     0  \n",
       "9223616          0    0    0     0     0     0     1     0     0  \n",
       "9223929          0    0    3     1     1     2     0     0     0  \n",
       "9223600          0    0    0     0     4     1     1     0     0  \n",
       "9225724          0    0    4     0     2     2     1     2     0  \n",
       "\n",
       "[296437 rows x 61 columns]"
      ]
     },
     "execution_count": 9,
     "metadata": {},
     "output_type": "execute_result"
    }
   ],
   "source": [
    "org_data"
   ]
  },
  {
   "cell_type": "markdown",
   "metadata": {},
   "source": [
    "# Inference"
   ]
  },
  {
   "cell_type": "markdown",
   "metadata": {},
   "source": [
    "## Technology domain shifts during the landscape exploration"
   ]
  },
  {
   "cell_type": "code",
   "execution_count": 10,
   "metadata": {
    "ExecuteTime": {
     "end_time": "2025-09-26T13:47:36.658654Z",
     "start_time": "2025-09-26T13:47:36.653428Z"
    }
   },
   "outputs": [],
   "source": [
    "target_pns = np.array([\"6983071\", \"6983272\", \"9223967\", \"9224096\"])"
   ]
  },
  {
   "cell_type": "code",
   "execution_count": 11,
   "metadata": {
    "ExecuteTime": {
     "end_time": "2025-09-26T13:47:36.788678Z",
     "start_time": "2025-09-26T13:47:36.662390Z"
    },
    "scrolled": true
   },
   "outputs": [
    {
     "data": {
      "text/html": [
       "<div>\n",
       "<style scoped>\n",
       "    .dataframe tbody tr th:only-of-type {\n",
       "        vertical-align: middle;\n",
       "    }\n",
       "\n",
       "    .dataframe tbody tr th {\n",
       "        vertical-align: top;\n",
       "    }\n",
       "\n",
       "    .dataframe thead th {\n",
       "        text-align: right;\n",
       "    }\n",
       "</style>\n",
       "<table border=\"1\" class=\"dataframe\">\n",
       "  <thead>\n",
       "    <tr style=\"text-align: right;\">\n",
       "      <th></th>\n",
       "      <th>patent_number</th>\n",
       "      <th>main_class</th>\n",
       "      <th>sub_class</th>\n",
       "      <th>patent_classes</th>\n",
       "      <th>claims</th>\n",
       "      <th>TC5</th>\n",
       "      <th>TC5_digitized</th>\n",
       "      <th>class</th>\n",
       "    </tr>\n",
       "    <tr>\n",
       "      <th>patent_number</th>\n",
       "      <th></th>\n",
       "      <th></th>\n",
       "      <th></th>\n",
       "      <th></th>\n",
       "      <th></th>\n",
       "      <th></th>\n",
       "      <th></th>\n",
       "      <th></th>\n",
       "    </tr>\n",
       "  </thead>\n",
       "  <tbody>\n",
       "    <tr>\n",
       "      <th>6983071</th>\n",
       "      <td>6983071</td>\n",
       "      <td>[G06V030, G06V030, G06V010, G06V010]</td>\n",
       "      <td>[G06V030]</td>\n",
       "      <td>[G06V030, G06V030, G06V010, G06V010, G06V030]</td>\n",
       "      <td>1. A character segmentation device for removin...</td>\n",
       "      <td>0</td>\n",
       "      <td>0</td>\n",
       "      <td>1958</td>\n",
       "    </tr>\n",
       "    <tr>\n",
       "      <th>6983272</th>\n",
       "      <td>6983272</td>\n",
       "      <td>[G06Q030, G06Q030, G06Q030, G06Q030, G06Q050, ...</td>\n",
       "      <td>[Y10S707, Y10S707, Y10S707, Y10S707, Y10S707]</td>\n",
       "      <td>[G06Q030, G06Q030, G06Q030, G06Q030, G06Q050, ...</td>\n",
       "      <td>1. A method of generating a result list in res...</td>\n",
       "      <td>38</td>\n",
       "      <td>1</td>\n",
       "      <td>1941</td>\n",
       "    </tr>\n",
       "    <tr>\n",
       "      <th>9223967</th>\n",
       "      <td>9223967</td>\n",
       "      <td>[G06F021, G06F009, G06F009, G06F009, G06F021, ...</td>\n",
       "      <td>[G06F011, G06F011]</td>\n",
       "      <td>[G06F021, G06F009, G06F009, G06F009, G06F021, ...</td>\n",
       "      <td>1. A microprocessor comprising: at least one i...</td>\n",
       "      <td>7</td>\n",
       "      <td>0</td>\n",
       "      <td>1919</td>\n",
       "    </tr>\n",
       "    <tr>\n",
       "      <th>9224096</th>\n",
       "      <td>9224096</td>\n",
       "      <td>[G06N003, H04W004, H04W004, G06F021, G06Q010, ...</td>\n",
       "      <td>[G08B013, H04W004]</td>\n",
       "      <td>[G06N003, H04W004, H04W004, G06F021, G06Q010, ...</td>\n",
       "      <td>1. A method for a device to self-assess a stat...</td>\n",
       "      <td>22</td>\n",
       "      <td>1</td>\n",
       "      <td>1933</td>\n",
       "    </tr>\n",
       "  </tbody>\n",
       "</table>\n",
       "</div>"
      ],
      "text/plain": [
       "               patent_number  \\\n",
       "patent_number                  \n",
       "6983071              6983071   \n",
       "6983272              6983272   \n",
       "9223967              9223967   \n",
       "9224096              9224096   \n",
       "\n",
       "                                                      main_class  \\\n",
       "patent_number                                                      \n",
       "6983071                     [G06V030, G06V030, G06V010, G06V010]   \n",
       "6983272        [G06Q030, G06Q030, G06Q030, G06Q030, G06Q050, ...   \n",
       "9223967        [G06F021, G06F009, G06F009, G06F009, G06F021, ...   \n",
       "9224096        [G06N003, H04W004, H04W004, G06F021, G06Q010, ...   \n",
       "\n",
       "                                                   sub_class  \\\n",
       "patent_number                                                  \n",
       "6983071                                            [G06V030]   \n",
       "6983272        [Y10S707, Y10S707, Y10S707, Y10S707, Y10S707]   \n",
       "9223967                                   [G06F011, G06F011]   \n",
       "9224096                                   [G08B013, H04W004]   \n",
       "\n",
       "                                                  patent_classes  \\\n",
       "patent_number                                                      \n",
       "6983071            [G06V030, G06V030, G06V010, G06V010, G06V030]   \n",
       "6983272        [G06Q030, G06Q030, G06Q030, G06Q030, G06Q050, ...   \n",
       "9223967        [G06F021, G06F009, G06F009, G06F009, G06F021, ...   \n",
       "9224096        [G06N003, H04W004, H04W004, G06F021, G06Q010, ...   \n",
       "\n",
       "                                                          claims  TC5  \\\n",
       "patent_number                                                           \n",
       "6983071        1. A character segmentation device for removin...    0   \n",
       "6983272        1. A method of generating a result list in res...   38   \n",
       "9223967        1. A microprocessor comprising: at least one i...    7   \n",
       "9224096        1. A method for a device to self-assess a stat...   22   \n",
       "\n",
       "               TC5_digitized  class  \n",
       "patent_number                        \n",
       "6983071                    0   1958  \n",
       "6983272                    1   1941  \n",
       "9223967                    0   1919  \n",
       "9224096                    1   1933  "
      ]
     },
     "execution_count": 11,
     "metadata": {},
     "output_type": "execute_result"
    }
   ],
   "source": [
    "tech_dataset.data.loc[target_pns]"
   ]
  },
  {
   "cell_type": "code",
   "execution_count": 12,
   "metadata": {
    "ExecuteTime": {
     "end_time": "2025-09-26T13:47:36.798433Z",
     "start_time": "2025-09-26T13:47:36.791452Z"
    }
   },
   "outputs": [
    {
     "data": {
      "text/plain": [
       "{'G06V010', 'G06V030'}"
      ]
     },
     "execution_count": 12,
     "metadata": {},
     "output_type": "execute_result"
    }
   ],
   "source": [
    "set(tech_dataset.data.loc[\"6983071\"][\"patent_classes\"])"
   ]
  },
  {
   "cell_type": "code",
   "execution_count": 13,
   "metadata": {
    "ExecuteTime": {
     "end_time": "2025-09-26T13:47:36.834217Z",
     "start_time": "2025-09-26T13:47:36.800621Z"
    },
    "scrolled": false
   },
   "outputs": [
    {
     "data": {
      "text/html": [
       "<div>\n",
       "<style scoped>\n",
       "    .dataframe tbody tr th:only-of-type {\n",
       "        vertical-align: middle;\n",
       "    }\n",
       "\n",
       "    .dataframe tbody tr th {\n",
       "        vertical-align: top;\n",
       "    }\n",
       "\n",
       "    .dataframe thead th {\n",
       "        text-align: right;\n",
       "    }\n",
       "</style>\n",
       "<table border=\"1\" class=\"dataframe\">\n",
       "  <thead>\n",
       "    <tr style=\"text-align: right;\">\n",
       "      <th></th>\n",
       "      <th>patent_number</th>\n",
       "      <th>patent_number.1</th>\n",
       "      <th>forward_refs</th>\n",
       "      <th>application_year_forward_refs</th>\n",
       "      <th>citing_years</th>\n",
       "      <th>granted_date</th>\n",
       "      <th>granted_year</th>\n",
       "      <th>main_cpc</th>\n",
       "      <th>sub_cpc</th>\n",
       "      <th>main_ipc</th>\n",
       "      <th>...</th>\n",
       "      <th>2013</th>\n",
       "      <th>2014</th>\n",
       "      <th>2015</th>\n",
       "      <th>2016</th>\n",
       "      <th>2017</th>\n",
       "      <th>2018</th>\n",
       "      <th>2019</th>\n",
       "      <th>2020</th>\n",
       "      <th>2021</th>\n",
       "      <th>2022</th>\n",
       "    </tr>\n",
       "  </thead>\n",
       "  <tbody>\n",
       "    <tr>\n",
       "      <th>3</th>\n",
       "      <td>6983071</td>\n",
       "      <td>6983071</td>\n",
       "      <td>8675968</td>\n",
       "      <td>2009</td>\n",
       "      <td>['2014']</td>\n",
       "      <td>2006-01-03</td>\n",
       "      <td>2006</td>\n",
       "      <td>G06V30/155;G06V30/1444;G06V10/22;G06V10/273</td>\n",
       "      <td>G06V30/10</td>\n",
       "      <td>[\"G06K9/34 20060101 G06K009/34\"]</td>\n",
       "      <td>...</td>\n",
       "      <td>0</td>\n",
       "      <td>1</td>\n",
       "      <td>0</td>\n",
       "      <td>0</td>\n",
       "      <td>0</td>\n",
       "      <td>0</td>\n",
       "      <td>0</td>\n",
       "      <td>0</td>\n",
       "      <td>0</td>\n",
       "      <td>0</td>\n",
       "    </tr>\n",
       "  </tbody>\n",
       "</table>\n",
       "<p>1 rows × 62 columns</p>\n",
       "</div>"
      ],
      "text/plain": [
       "   patent_number  patent_number.1 forward_refs application_year_forward_refs  \\\n",
       "3        6983071          6983071      8675968                          2009   \n",
       "\n",
       "  citing_years granted_date  granted_year  \\\n",
       "3     ['2014']   2006-01-03          2006   \n",
       "\n",
       "                                      main_cpc    sub_cpc  \\\n",
       "3  G06V30/155;G06V30/1444;G06V10/22;G06V10/273  G06V30/10   \n",
       "\n",
       "                           main_ipc  ... 2013 2014 2015 2016 2017  2018  2019  \\\n",
       "3  [\"G06K9/34 20060101 G06K009/34\"]  ...    0    1    0    0    0     0     0   \n",
       "\n",
       "   2020  2021  2022  \n",
       "3     0     0     0  \n",
       "\n",
       "[1 rows x 62 columns]"
      ]
     },
     "execution_count": 13,
     "metadata": {},
     "output_type": "execute_result"
    }
   ],
   "source": [
    "tech_dataset.rawdata[tech_dataset.rawdata[\"patent_number\"]==6983071]"
   ]
  },
  {
   "cell_type": "code",
   "execution_count": 14,
   "metadata": {
    "ExecuteTime": {
     "end_time": "2025-09-26T13:47:36.843462Z",
     "start_time": "2025-09-26T13:47:36.836562Z"
    }
   },
   "outputs": [
    {
     "data": {
      "text/plain": [
       "array([     2,     91, 133314, 133218])"
      ]
     },
     "execution_count": 14,
     "metadata": {},
     "output_type": "execute_result"
    }
   ],
   "source": [
    "tech_dataset.data.index.get_indexer(pd.Index(target_pns))"
   ]
  },
  {
   "cell_type": "markdown",
   "metadata": {},
   "source": [
    "## Preparing validation analysis"
   ]
  },
  {
   "cell_type": "code",
   "execution_count": 15,
   "metadata": {
    "ExecuteTime": {
     "end_time": "2025-09-26T13:47:36.858270Z",
     "start_time": "2025-09-26T13:47:36.845865Z"
    }
   },
   "outputs": [],
   "source": [
    "col_years = [\"<1976\"] + np.arange(1976,2022).astype(str).tolist()\n",
    "latest_year = 2022\n",
    "n_TC = configs.data.n_TC"
   ]
  },
  {
   "cell_type": "code",
   "execution_count": 16,
   "metadata": {
    "ExecuteTime": {
     "end_time": "2025-09-26T13:47:37.915592Z",
     "start_time": "2025-09-26T13:47:36.861345Z"
    }
   },
   "outputs": [],
   "source": [
    "ref_config_period = \"[2006-2020]\"\n",
    "ref_data_file = \"collection_\" + \"\".join([config_keywords, config_area, ref_config_period, config_sampling_ratio]) + \".csv\"\n",
    "ref_configs = copy.deepcopy(configs)\n",
    "ref_configs.data.update({\"target_period\": ref_config_period, \"data_file\": ref_data_file})"
   ]
  },
  {
   "cell_type": "code",
   "execution_count": 17,
   "metadata": {
    "ExecuteTime": {
     "end_time": "2025-09-26T13:47:37.923743Z",
     "start_time": "2025-09-26T13:47:37.918748Z"
    }
   },
   "outputs": [],
   "source": [
    "load_ref = False"
   ]
  },
  {
   "cell_type": "code",
   "execution_count": 18,
   "metadata": {
    "ExecuteTime": {
     "end_time": "2025-09-26T13:47:37.939040Z",
     "start_time": "2025-09-26T13:47:37.926119Z"
    }
   },
   "outputs": [],
   "source": [
    "ref_dataset_path = os.path.join(root_dir, \"data\", \"[DATASET]reference_[uspto_AI][2006-2020].pickle\")"
   ]
  },
  {
   "cell_type": "code",
   "execution_count": 19,
   "metadata": {
    "ExecuteTime": {
     "end_time": "2025-09-26T14:12:28.980007Z",
     "start_time": "2025-09-26T13:47:37.942126Z"
    }
   },
   "outputs": [
    {
     "name": "stdout",
     "output_type": "stream",
     "text": [
      "\n",
      "\n",
      "\n",
      "Tokenizer is trained and saved\n"
     ]
    }
   ],
   "source": [
    "if load_ref:\n",
    "    with open(dataset_path, \"rb\") as f:\n",
    "        ref_dataset = pickle.load(f)\n",
    "        if ref_dataset.rawdata is None:\n",
    "            ref_dataset.rawdata = pd.read_csv(os.path.join(ref_configs.data.data_dir, ref_configs.data.data_file), low_memory=False)\n",
    "else: \n",
    "    ref_dataset = TechDataset(ref_configs.data)\n",
    "    with open(ref_dataset_path, \"wb\") as f:\n",
    "        ref_dataset.rawdata = None\n",
    "        pickle.dump(ref_dataset, f)\n",
    "    ref_dataset.rawdata = pd.read_csv(os.path.join(ref_configs.data.data_dir, ref_configs.data.data_file), low_memory=False)"
   ]
  },
  {
   "cell_type": "code",
   "execution_count": 20,
   "metadata": {
    "ExecuteTime": {
     "end_time": "2025-09-26T14:14:28.257857Z",
     "start_time": "2025-09-26T14:12:28.983022Z"
    }
   },
   "outputs": [],
   "source": [
    "ref_dataset.rawdata = pd.read_csv(os.path.join(ref_configs.data.data_dir, ref_configs.data.data_file), low_memory=False)"
   ]
  },
  {
   "cell_type": "code",
   "execution_count": 21,
   "metadata": {
    "ExecuteTime": {
     "end_time": "2025-09-26T14:14:29.053587Z",
     "start_time": "2025-09-26T14:14:28.375172Z"
    },
    "scrolled": true
   },
   "outputs": [
    {
     "data": {
      "text/plain": [
       "<data.TechDataset at 0x7fcec1f03370>"
      ]
     },
     "execution_count": 21,
     "metadata": {},
     "output_type": "execute_result"
    }
   ],
   "source": [
    "ref_dataset"
   ]
  },
  {
   "cell_type": "code",
   "execution_count": 22,
   "metadata": {
    "ExecuteTime": {
     "end_time": "2025-09-26T14:14:33.846363Z",
     "start_time": "2025-09-26T14:14:29.305212Z"
    }
   },
   "outputs": [],
   "source": [
    "used_rawdata = tech_dataset.rawdata.set_index(\"patent_number\")\n",
    "total_data = pd.concat([tech_dataset.data, ref_dataset.data], axis=0)\n",
    "total_data = total_data.drop_duplicates(subset=[\"patent_number\"])\n",
    "total_rawdata = pd.concat([tech_dataset.rawdata.set_index(\"patent_number\"), ref_dataset.rawdata.set_index(\"patent_number\")], axis=0)\n",
    "total_rawdata = total_rawdata.drop_duplicates(subset=[\"patent_number.1\"])"
   ]
  },
  {
   "cell_type": "code",
   "execution_count": 23,
   "metadata": {
    "ExecuteTime": {
     "end_time": "2025-09-26T14:14:33.906237Z",
     "start_time": "2025-09-26T14:14:33.854184Z"
    }
   },
   "outputs": [],
   "source": [
    "used_test_data_TC = used_test_data[used_test_data[\"TC5\"]!=0].reset_index()\n",
    "used_test_index_TC = tech_dataset.data.index.get_indexer(pd.Index(used_test_data_TC[\"patent_number\"].astype(str)))"
   ]
  },
  {
   "cell_type": "markdown",
   "metadata": {},
   "source": [
    "## Micro-validation analyis"
   ]
  },
  {
   "cell_type": "markdown",
   "metadata": {},
   "source": [
    "### Functions that identify patent sets for micro-validation analysis"
   ]
  },
  {
   "cell_type": "code",
   "execution_count": null,
   "metadata": {
    "ExecuteTime": {
     "end_time": "2025-09-26T14:19:35.562020Z",
     "start_time": "2025-09-26T14:19:35.516937Z"
    }
   },
   "outputs": [],
   "source": [
    "def prepare_input_data(tech_dataset, used_test_index_TC, idx, model):\n",
    "    # Prepares input data and loads it to the model device\n",
    "    # Encode class and claim data\n",
    "    input_class = torch.tensor(tech_dataset.tokenizers[\"class_enc\"].encode(tech_dataset.X_class[used_test_index_TC][idx])).unsqueeze(0)\n",
    "    input_claim = tech_dataset.tokenize(tech_dataset.tokenizers[\"claim_enc\"], tech_dataset.X_claim[used_test_index_TC][idx])\n",
    "    input_claim = {k: v.unsqueeze(0) for k, v in input_claim.items()}\n",
    "    \n",
    "    # Create batch input and send to model device\n",
    "    batch_input = {\"class\": torch.tensor(input_class), \"claim\": input_claim}\n",
    "    input_inf = to_device(batch_input, model.device)\n",
    "    \n",
    "    return input_inf, input_class\n",
    "\n",
    "def encode_and_predict(model, input_inf):\n",
    "    # Encodes input data and performs initial prediction\n",
    "    enc_outputs, z, mu, logvar = model.encode(input_inf)\n",
    "    pred_outputs = model.predict(z)\n",
    "    \n",
    "    return enc_outputs, z, mu, logvar, pred_outputs\n",
    "\n",
    "def analyze_forward_references(used_test_data_TC, used_rawdata, total_data, idx, n_TC):\n",
    "    # Analyzes forward references to retrieve CPC codes and citation counts of referenced patents\n",
    "    # Check if forward citations exist\n",
    "    if used_test_data_TC.iloc[idx][\"TC5\"] <= 0:\n",
    "        return False, None, None\n",
    "    \n",
    "    # Get forward reference information\n",
    "    forward_refs = used_rawdata.loc[used_test_data_TC.iloc[idx][\"patent_number\"]][\"forward_refs\"].split(\";\")\n",
    "    ref_info = total_data.loc[[ref for ref in forward_refs if ref in total_data.index]]\n",
    "    \n",
    "    if len(ref_info) == 0:\n",
    "        return False, None, None\n",
    "        \n",
    "    # Get IPC codes and citation counts of referenced patents\n",
    "    ref_ipcs = ref_info[\"patent_classes\"].apply(lambda x: set(x))\n",
    "    ref_FCs = ref_info[\"TC\" + str(n_TC)]\n",
    "    \n",
    "    return True, ref_ipcs, ref_FCs\n",
    "\n",
    "def decode_original_text(tech_dataset, input_class):\n",
    "    # Decodes the original IPC code from input class tensor\n",
    "    tokenizer = tech_dataset.tokenizers[\"class_dec\"]\n",
    "    org_text = tokenizer.decode_batch(input_class.cpu().detach().numpy())[0]\n",
    "    org_text = org_text[org_text.index(tokenizer.sos_token)+1:org_text.index(tokenizer.eos_token)]\n",
    "    \n",
    "    return org_text\n",
    "\n",
    "def check_same_ipcs(org_text, ref_ipcs):\n",
    "    # Checks if the original IPC codes are the same as those in referenced patents\n",
    "    return set(org_text) == set(np.concatenate(ref_ipcs.apply(lambda x: list(x)).values))\n",
    "\n",
    "def optimize_latent_space(model, z, enc_outputs, tech_dataset, L1_threshold, n_iter, step_size):\n",
    "    # Optimizes latent space through gradient descent to generate IPC codes with citation count above L1_threshold\n",
    "    tokenizer = tech_dataset.tokenizers[\"class_dec\"]\n",
    "    optimized = False\n",
    "    gen_text = None\n",
    "    FC_estimated = 0\n",
    "    \n",
    "    # Iterative optimization using gradient descent\n",
    "    for i in range(n_iter):\n",
    "        pred_outputs = model.predict(z)\n",
    "        z.retain_grad()\n",
    "        FC_estimated = np.round(np.exp(pred_outputs[0,1].item()), 4)  # estimated forward citations\n",
    "        \n",
    "        # Calculate L1 error and backpropagate\n",
    "        L1_error = (1 - torch.exp(pred_outputs[0,1]))\n",
    "        L1_error.backward(retain_graph=True)\n",
    "        \n",
    "        # Update latent vector in gradient direction\n",
    "        grad_for_update = step_size * z.grad\n",
    "        z_ = z - grad_for_update\n",
    "        \n",
    "        z.grad.zero_()\n",
    "        \n",
    "        # Generate IPC code with new latent vector\n",
    "        dec_outputs = model.decode(z_, enc_outputs, dec_inputs=None)\n",
    "        dec_outputs = dec_outputs.argmax(-1)\n",
    "        \n",
    "        # Decode generated IPC code\n",
    "        gen_text = tokenizer.decode_batch(dec_outputs.cpu().detach().numpy())[0]\n",
    "        if tokenizer.eos_token in gen_text:\n",
    "            gen_text = gen_text[gen_text.index(tokenizer.sos_token)+1:gen_text.index(tokenizer.eos_token)]\n",
    "        else:\n",
    "            gen_text = gen_text[gen_text.index(tokenizer.sos_token)+1:]\n",
    "            \n",
    "        # Refine generated IPC code\n",
    "        if gen_text != []:\n",
    "            gen_text = [gen_text[0]] + list(np.array(gen_text[1:])[np.unique(gen_text[1:], return_index=True)[1]])\n",
    "            gen_text = set(gen_text)\n",
    "        else:\n",
    "            continue\n",
    "        \n",
    "        # End optimization if estimated citation count is sufficient\n",
    "        if FC_estimated >= L1_threshold:\n",
    "            optimized = True\n",
    "            break\n",
    "            \n",
    "        z = z_\n",
    "        \n",
    "    return optimized, gen_text, FC_estimated, z\n",
    "\n",
    "def breakdown(ipcs):\n",
    "    # Breaks down IPC codes into different levels (section, class, subclass, full)\n",
    "    return ([ipc[0] for ipc in ipcs], [ipc[:3] for ipc in ipcs], [ipc[:4] for ipc in ipcs], ipcs)\n",
    "\n",
    "def validate_generated_ipc(gen_text, ref_ipcs, ref_FCs):\n",
    "    # Validates generated IPC codes by comparing with IPC codes of referenced patents\n",
    "    inclusions = [None, None, None, None]\n",
    "    higher_impacts = [None, None, None, None]\n",
    "    similar_refs = [None, None, None, None]\n",
    "    unsimilar_refs = [None, None, None, None]\n",
    "    \n",
    "    # Break down IPC codes\n",
    "    gen_text_breakdown = breakdown(gen_text)\n",
    "    ref_ipcs_breakdown = (\n",
    "        ref_ipcs.apply(lambda x: breakdown(x)[0]),\n",
    "        ref_ipcs.apply(lambda x: breakdown(x)[1]),\n",
    "        ref_ipcs.apply(lambda x: breakdown(x)[2]),\n",
    "        ref_ipcs\n",
    "    )\n",
    "    \n",
    "    # Validate at each level\n",
    "    for i in range(4):\n",
    "        if inclusions[i] is not None:\n",
    "            continue\n",
    "            \n",
    "        temp_gen_text = gen_text_breakdown[i]\n",
    "        temp_ref_ipcs = ref_ipcs_breakdown[i]\n",
    "        \n",
    "        # Find references matching generated IPC\n",
    "        hit_index = temp_ref_ipcs.apply(lambda x: 1 if set(x) == set(temp_gen_text) else 0) == 1\n",
    "        similar_refs[i] = temp_ref_ipcs[hit_index].index\n",
    "        unsimilar_refs[i] = temp_ref_ipcs[~hit_index].index\n",
    "        \n",
    "        # No matching references\n",
    "        if len(similar_refs[i]) == 0:\n",
    "            inclusions[i] = 0\n",
    "            higher_impacts[i] = None\n",
    "        # All references match\n",
    "        elif len(unsimilar_refs[i]) == 0:\n",
    "            inclusions[i] = 1\n",
    "            similar_mean_FC = np.mean(ref_FCs.loc[similar_refs[i]])\n",
    "            higher_impacts[i] = 1 if similar_mean_FC > 0 else 0\n",
    "        # Some references match\n",
    "        else:\n",
    "            inclusions[i] = 1\n",
    "            similar_mean_FC = np.mean(ref_FCs.loc[similar_refs[i]])\n",
    "            unsimilar_mean_FC = np.mean(ref_FCs.loc[unsimilar_refs[i]])\n",
    "            \n",
    "            if similar_mean_FC >= unsimilar_mean_FC:\n",
    "                higher_impacts[i] = 1 if similar_mean_FC > 0 else None\n",
    "            else:\n",
    "                higher_impacts[i] = 0\n",
    "    \n",
    "    return inclusions, higher_impacts, similar_refs, unsimilar_refs\n",
    "\n",
    "def validate_reliability(model=None, idx=None, L1_threshold=0.5, n_iter=30, step_size=40):\n",
    "    # Validates the reliability of generated IPC codes\n",
    "    # Initialize counters\n",
    "    cnt_nonexist = 0\n",
    "    cnt_noFC = 0\n",
    "    cnt_diverge = 0\n",
    "    cnt_same_ipcs = 0\n",
    "    cnt_diff_ipcs = 0\n",
    "    \n",
    "    # 1. Prepare input data\n",
    "    input_inf, input_class = prepare_input_data(tech_dataset, used_test_index_TC, idx, model)\n",
    "    \n",
    "    # 2. Encode and perform initial prediction\n",
    "    enc_outputs, z, mu, logvar, pred_outputs = encode_and_predict(model, input_inf)\n",
    "    \n",
    "    # 3. Analyze forward references\n",
    "    ref_exists, ref_ipcs, ref_FCs = analyze_forward_references(used_test_data_TC, used_rawdata, total_data, idx, n_TC)\n",
    "    \n",
    "    if not ref_exists:\n",
    "        if used_test_data_TC.iloc[idx][\"TC5\"] <= 0:\n",
    "            cnt_noFC += 1\n",
    "        else:\n",
    "            cnt_nonexist += 1\n",
    "        return (cnt_nonexist, cnt_noFC, cnt_diverge, cnt_same_ipcs, cnt_diff_ipcs), None\n",
    "    \n",
    "    # 4. Decode original IPC code\n",
    "    org_text = decode_original_text(tech_dataset, input_class)\n",
    "    \n",
    "    # 5. Check if original IPC matches referenced IPCs\n",
    "    if check_same_ipcs(org_text, ref_ipcs):\n",
    "        cnt_same_ipcs += 1\n",
    "    \n",
    "    # 6. Generate IPC code through latent space optimization\n",
    "    optimized, gen_text, FC_estimated, z = optimize_latent_space(model, z, enc_outputs, tech_dataset, L1_threshold, n_iter, step_size)\n",
    "    \n",
    "    if not optimized:\n",
    "        cnt_diverge += 1\n",
    "        return (cnt_nonexist, cnt_noFC, cnt_diverge, cnt_same_ipcs, cnt_diff_ipcs), None\n",
    "    \n",
    "    # 7. Validate generated IPC code\n",
    "    inclusions, higher_impacts, similar_refs, unsimilar_refs = validate_generated_ipc(gen_text, ref_ipcs, ref_FCs)\n",
    "    \n",
    "    # 8. Collect final results\n",
    "    cnt_diff_ipcs += 1\n",
    "    results = {\n",
    "        \"index\": idx,\n",
    "        \"patent_id\": used_test_data_TC.iloc[idx][\"patent_number\"],\n",
    "        \"org_text\": org_text,\n",
    "        \"gen_text\": gen_text,\n",
    "        \"ref_ipcs\": ref_ipcs,\n",
    "        \"ref_FCs\": ref_FCs,\n",
    "        \"inclusions\": inclusions,\n",
    "        \"higher_impacts\": higher_impacts, \n",
    "        \"FC_estimated\": FC_estimated,\n",
    "        \"similar_refs\": similar_refs,\n",
    "        \"unsimilar_refs\": unsimilar_refs\n",
    "    }\n",
    "    \n",
    "    return (cnt_nonexist, cnt_noFC, cnt_diverge, cnt_same_ipcs, cnt_diff_ipcs), results\n"
   ]
  },
  {
   "cell_type": "markdown",
   "metadata": {},
   "source": [
    "### Identify sets of patents and patent classes"
   ]
  },
  {
   "cell_type": "markdown",
   "metadata": {},
   "source": [
    "- Set hyperparameters for validation analysis (e.g., L1 threshold)"
   ]
  },
  {
   "cell_type": "code",
   "execution_count": 32,
   "metadata": {
    "ExecuteTime": {
     "end_time": "2025-09-26T19:49:36.932023Z",
     "start_time": "2025-09-26T19:49:36.918171Z"
    }
   },
   "outputs": [
    {
     "name": "stdout",
     "output_type": "stream",
     "text": [
      "2025-06-07_1732_thre0.8\n"
     ]
    }
   ],
   "source": [
    "load_dict_out = True\n",
    "save_dict_out = False\n",
    "L1_threshold = 0.8\n",
    "n_iter = 30\n",
    "step_size = 40\n",
    "analysis_config = analysis_date + \"_thre\" + str(L1_threshold)\n",
    "print(analysis_config)"
   ]
  },
  {
   "cell_type": "markdown",
   "metadata": {},
   "source": [
    "- Compute the results of analysis"
   ]
  },
  {
   "cell_type": "code",
   "execution_count": null,
   "metadata": {
    "ExecuteTime": {
     "end_time": "2025-09-26T19:49:52.396199Z",
     "start_time": "2025-09-26T19:49:42.724625Z"
    },
    "scrolled": true
   },
   "outputs": [
    {
     "name": "stdout",
     "output_type": "stream",
     "text": [
      "dict_out loaded\n"
     ]
    }
   ],
   "source": [
    "if load_dict_out:\n",
    "    with open(\"../results/validation/\"+analysis_config+\"/dict_out.pickle\", \"rb\") as f:\n",
    "        dict_out = pickle.load(f)\n",
    "    print(\"dict_out loaded\")\n",
    "else:\n",
    "    model = final_model.module if torch.cuda.is_available() else final_model\n",
    "    cnt_nonexist, cnt_noFC, cnt_diverge, cnt_same_pcs, cnt_diff_pcs = 0, 0, 0, 0, 0\n",
    "    dict_out = {\"index\": [], \"patent_id\": [], \"org_text\": [], \"gen_text\": [], \"ref_pcs\": [], \"ref_FCs\": [],\n",
    "                \"inclusions\": [], \"higher_impacts\": [], \"FC_estimated\": [], \"similar_refs\": [], \"unsimilar_refs\": []}\n",
    "    for idx in tqdm(range(len(used_test_index_TC))):\n",
    "        cnts, results = validate_reliability(model=model, idx=idx, L1_threshold=L1_threshold, n_iter=n_iter, step_size=step_size)\n",
    "        cnt_nonexist += cnts[0]\n",
    "        cnt_noFC += cnts[1]\n",
    "        cnt_diverge += cnts[2]\n",
    "        cnt_same_pcs += cnts[3]\n",
    "        cnt_diff_pcs += cnts[4]\n",
    "        if results is not None:\n",
    "            for k,v in results.items():\n",
    "                dict_out[k].append(v)\n",
    "    for k, v in dict_out.items():\n",
    "        dict_out[k] = np.array(v)\n",
    "    dict_out[\"cnts\"] = {\"cnt_nonexist\": cnt_nonexist, \"cnt_noFC\": cnt_noFC, \n",
    "                \"cnt_diverge\": cnt_diverge, \"cnt_same_pcs\": cnt_same_pcs, \"cnt_diff_pcs\": cnt_diff_pcs}\n",
    "    \n",
    "    if save_dict_out:\n",
    "        save_dir = \"../results/validation/\"+analysis_config\n",
    "        if not os.path.exists(save_dir):\n",
    "            os.makedirs(save_dir)\n",
    "        with open(save_dir+\"/dict_out.pickle\", \"wb\") as f:\n",
    "            pickle.dump(dict_out, f)"
   ]
  },
  {
   "cell_type": "code",
   "execution_count": null,
   "metadata": {
    "ExecuteTime": {
     "end_time": "2025-09-26T19:49:53.575349Z",
     "start_time": "2025-09-26T19:49:53.563748Z"
    },
    "scrolled": false
   },
   "outputs": [
    {
     "name": "stdout",
     "output_type": "stream",
     "text": [
      "#valid data: 6929\n",
      "#nonexist data: 2983\n",
      "#no forward citations: 0\n",
      "#diverged: 8\n",
      "#same ipcs: 618\n"
     ]
    }
   ],
   "source": [
    "print(\"#valid data:\",len(dict_out[\"index\"]))\n",
    "print(\"#nonexist data:\",dict_out[\"cnts\"][\"cnt_nonexist\"])\n",
    "print(\"#no forward citations:\",dict_out[\"cnts\"][\"cnt_noFC\"])\n",
    "print(\"#diverged:\",dict_out[\"cnts\"][\"cnt_diverge\"])\n",
    "print(\"#same pcs:\",dict_out[\"cnts\"][\"cnt_same_pcs\"])"
   ]
  },
  {
   "cell_type": "markdown",
   "metadata": {},
   "source": [
    "### Compare distribution of forward citations between P_citing/remained and P_citing/shifted"
   ]
  },
  {
   "cell_type": "code",
   "execution_count": 35,
   "metadata": {
    "ExecuteTime": {
     "end_time": "2025-09-26T19:50:26.681332Z",
     "start_time": "2025-09-26T19:50:17.494362Z"
    },
    "scrolled": true
   },
   "outputs": [
    {
     "name": "stderr",
     "output_type": "stream",
     "text": [
      "/home2/glee/.conda/envs/DL/lib/python3.9/site-packages/numpy/core/fromnumeric.py:3702: RuntimeWarning: Degrees of freedom <= 0 for slice\n",
      "  return _methods._var(a, axis=axis, dtype=dtype, out=out, ddof=ddof,\n",
      "/home2/glee/.conda/envs/DL/lib/python3.9/site-packages/numpy/core/_methods.py:253: RuntimeWarning: invalid value encountered in double_scalars\n",
      "  ret = ret.dtype.type(ret / rcount)\n"
     ]
    },
    {
     "name": "stdout",
     "output_type": "stream",
     "text": [
      "Distribution of forward citations (hit)\n",
      " count    730.000000\n",
      "mean      23.068493\n",
      "std       53.970380\n",
      "min        0.000000\n",
      "25%        1.000000\n",
      "50%        3.500000\n",
      "75%       14.000000\n",
      "max      421.000000\n",
      "dtype: float64 \n",
      "\n",
      "Distribution of forward citations (not hit)\n",
      " count    3546.000000\n",
      "mean       22.330231\n",
      "std        45.144595\n",
      "min         0.000000\n",
      "25%         1.000000\n",
      "50%         4.000000\n",
      "75%        18.000000\n",
      "max       481.000000\n",
      "dtype: float64 \n",
      "\n",
      "Distribution of mean forward citations (hit)\n",
      " count    276.000000\n",
      "mean      11.163587\n",
      "std       24.624972\n",
      "min        0.000000\n",
      "25%        0.500000\n",
      "50%        3.000000\n",
      "75%        9.625000\n",
      "max      164.000000\n",
      "dtype: float64 \n",
      "\n",
      "Distribution of mean forward citations (not hit)\n",
      " count    276.000000\n",
      "mean       9.878425\n",
      "std       19.964201\n",
      "min        0.000000\n",
      "25%        0.350000\n",
      "50%        3.101010\n",
      "75%       10.754808\n",
      "max      137.148148\n",
      "dtype: float64 \n",
      "\n",
      "Distribution of difference of forward citations\n",
      " count    276.000000\n",
      "mean       1.285162\n",
      "std       17.579612\n",
      "min      -86.000000\n",
      "25%       -3.000000\n",
      "50%        0.000000\n",
      "75%        3.656250\n",
      "max      128.626866\n",
      "dtype: float64 \n",
      "\n"
     ]
    }
   ],
   "source": [
    "from scipy.stats import ttest_ind\n",
    "whole_patent_classes = tech_dataset.data[\"patent_classes\"].apply(lambda x: set(x))\n",
    "\n",
    "hit_similar_FCs, hit_unsimilar_FCs, hit_diff_FCs = [], [], []\n",
    "hit_similar_FCs_mean, hit_unsimilar_FCs_mean = [], []\n",
    "hit_similar_FCs_rank = []\n",
    "whole_FC_ttest = {\"statistic\": [], \"pvalue\": []}\n",
    "whole_FCs_diff = []\n",
    "hit_samples_index = dict_out[\"inclusions\"][:,-1]==1\n",
    "\n",
    "hit_patent_ids = dict_out[\"patent_id\"][hit_samples_index]\n",
    "hit_similar_refs = dict_out[\"similar_refs\"][hit_samples_index][:,-1]\n",
    "hit_unsimilar_refs = dict_out[\"unsimilar_refs\"][hit_samples_index][:,-1]\n",
    "\n",
    "for i in range(len(hit_patent_ids)):\n",
    "    hit_FCs = dict_out[\"ref_FCs\"][hit_samples_index][i]\n",
    "    hit_FCs = hit_FCs.loc[~hit_FCs.index.duplicated(keep=\"first\")]\n",
    "    hit_similar_FC = hit_FCs.loc[hit_similar_refs[i].drop_duplicates()]\n",
    "    hit_similar_FC_rank = hit_FCs.rank(pct=True).loc[hit_similar_refs[i].drop_duplicates()]\n",
    "    hit_unsimilar_FC = hit_FCs.loc[hit_unsimilar_refs[i].drop_duplicates()]\n",
    "    if len(hit_unsimilar_FC)>0:\n",
    "        hit_diff_FC = hit_similar_FC.mean() - hit_unsimilar_FC.mean()\n",
    "    else:\n",
    "        hit_diff_FC = hit_similar_FC.mean()\n",
    "    \n",
    "    org_whole_FC = tech_dataset.data.loc[whole_patent_classes[whole_patent_classes==set(dict_out[\"org_text\"][hit_samples_index][i])].index][\"TC5\"]\n",
    "    gen_whole_FC = tech_dataset.data.loc[whole_patent_classes[whole_patent_classes==set(dict_out[\"gen_text\"][hit_samples_index][i])].index][\"TC5\"]\n",
    "    if len(org_whole_FC)>0:\n",
    "        whole_FC_diff = gen_whole_FC.mean() - org_whole_FC.mean()\n",
    "    else:\n",
    "        whole_FC_diff = gen_whole_FC.mean()\n",
    "    \n",
    "    hit_similar_FCs.append(hit_similar_FC)\n",
    "    hit_similar_FCs_rank.append(hit_similar_FC_rank)\n",
    "    hit_similar_FCs_mean.append(hit_similar_FC.mean())\n",
    "    hit_unsimilar_FCs.append(hit_unsimilar_FC)\n",
    "    if len(hit_unsimilar_FC)>0:\n",
    "        hit_unsimilar_FCs_mean.append(hit_unsimilar_FC.mean())\n",
    "    else:\n",
    "        hit_unsimilar_FCs_mean.append(0)\n",
    "    hit_diff_FCs.append(hit_diff_FC)\n",
    "    \n",
    "    ttest_res = ttest_ind(gen_whole_FC, org_whole_FC, equal_var=False)\n",
    "    \n",
    "    whole_FC_ttest[\"statistic\"].append(ttest_res.statistic)\n",
    "    whole_FC_ttest[\"pvalue\"].append(ttest_res.pvalue)\n",
    "    if set(dict_out[\"org_text\"][hit_samples_index][i]) != set(dict_out[\"gen_text\"][hit_samples_index][i]):\n",
    "        whole_FCs_diff.append(whole_FC_diff)\n",
    "    \n",
    "hit_similar_FCs = np.concatenate(hit_similar_FCs)\n",
    "hit_similar_FCs_rank = np.concatenate(hit_similar_FCs_rank)\n",
    "hit_similar_FCs_mean = np.array(hit_similar_FCs_mean)\n",
    "hit_unsimilar_FCs = np.concatenate(hit_unsimilar_FCs)\n",
    "hit_unsimilar_FCs_mean = np.array(hit_unsimilar_FCs_mean)\n",
    "hit_diff_FCs = np.array(hit_diff_FCs)\n",
    "\n",
    "print(\"Distribution of forward citations (hit)\\n\",pd.Series(hit_similar_FCs).describe(),\"\\n\")\n",
    "print(\"Distribution of forward citations (not hit)\\n\",pd.Series(hit_unsimilar_FCs).describe(),\"\\n\")\n",
    "print(\"Distribution of mean forward citations (hit)\\n\",pd.Series(hit_similar_FCs_mean).describe(),\"\\n\")\n",
    "print(\"Distribution of mean forward citations (not hit)\\n\",pd.Series(hit_unsimilar_FCs_mean).describe(),\"\\n\")\n",
    "print(\"Distribution of difference of forward citations\\n\",pd.Series(hit_diff_FCs).describe(),\"\\n\")"
   ]
  },
  {
   "cell_type": "markdown",
   "metadata": {},
   "source": [
    "### Identify breakthrough inventions"
   ]
  },
  {
   "cell_type": "code",
   "execution_count": null,
   "metadata": {
    "ExecuteTime": {
     "end_time": "2025-09-26T19:50:35.502031Z",
     "start_time": "2025-09-26T19:50:32.190634Z"
    },
    "scrolled": true
   },
   "outputs": [
    {
     "data": {
      "application/vnd.jupyter.widget-view+json": {
       "model_id": "aa9bf4cb36b44980aac7137ebab6751f",
       "version_major": 2,
       "version_minor": 0
      },
      "text/plain": [
       "  0%|          | 0/276 [00:00<?, ?it/s]"
      ]
     },
     "metadata": {},
     "output_type": "display_data"
    }
   ],
   "source": [
    "cnt_same, cnt_diff = 0, 0\n",
    "ranks_same, ranks_diff = [], []\n",
    "value_same, value_diff = [], []\n",
    "org_patents_same, org_patents_diff = [], []\n",
    "cols_val = [\"patent_id\", \"org_pcs\", \"org_FC\", \"gen_pcs\", \"is_same\", \n",
    "            \"forward_ref\", \"ref_pcs\", \"ref_FC\", \"ref_FC_rank\"]\n",
    "df_val = pd.DataFrame(columns=cols_val)\n",
    "hit_similar_refs = dict_out[\"similar_refs\"][hit_samples_index][:,-1]\n",
    "\n",
    "for i in tqdm(range(len(dict_out[\"ref_pcs\"][hit_samples_index]))):\n",
    "    pid = dict_out[\"patent_id\"][hit_samples_index][i]\n",
    "    pid = str(pid)\n",
    "    org_FC = tech_dataset.data.loc[pid][\"TC5\"]\n",
    "    orgs = set(dict_out[\"org_text\"][dict_out[\"inclusions\"][:,-1]==1][i])\n",
    "    gens = set(dict_out[\"gen_text\"][dict_out[\"inclusions\"][:,-1]==1][i])\n",
    "    is_same = 1 if orgs==gens or orgs.union(gens)==orgs else 0\n",
    "    hit_FCs = dict_out[\"ref_FCs\"][hit_samples_index][i]\n",
    "    hit_FCs = hit_FCs.loc[~hit_FCs.index.duplicated(keep=\"first\")]\n",
    "    hit_similar_FC = hit_FCs.loc[hit_similar_refs[i][hit_similar_refs[i].duplicated()]]\n",
    "    hit_similar_FC_rank = hit_FCs.rank(pct=True).loc[hit_similar_refs[i][hit_similar_refs[i].duplicated()]]\n",
    "    \n",
    "    for ref in hit_similar_refs[i].drop_duplicates():\n",
    "        ref_pcs = dict_out[\"ref_pcs\"][hit_samples_index][i].loc[ref]\n",
    "        if isinstance(ref_pcs, pd.Series): ref_pcs = ref_pcs[0]\n",
    "        hit_similar_FC = hit_FCs.loc[ref]\n",
    "        if isinstance(hit_similar_FC, pd.Series): hit_similar_FC = hit_similar_FC[0]\n",
    "        hit_similar_FC_rank = hit_FCs.rank(pct=True).loc[ref]\n",
    "        if isinstance(hit_similar_FC_rank, pd.Series): hit_similar_FC_rank = hit_similar_FC_rank[0]\n",
    "        \n",
    "        df_container = pd.DataFrame([[pid, orgs, org_FC, gens, is_same, ref, ref_pcs, hit_similar_FC, hit_similar_FC_rank]], columns=cols_val)\n",
    "        df_val = pd.concat([df_val, df_container])\n",
    "\n",
    "df_val = df_val.set_index(\"patent_id\")"
   ]
  },
  {
   "cell_type": "code",
   "execution_count": 37,
   "metadata": {
    "ExecuteTime": {
     "end_time": "2025-09-26T19:50:36.719728Z",
     "start_time": "2025-09-26T19:50:36.667381Z"
    }
   },
   "outputs": [],
   "source": [
    "df_val.loc[:,\"ref_FC_new\"] = df_val.apply(lambda x: str(x[\"ref_FC\"])+\" (\"+str(np.round(x[\"ref_FC_rank\"],2))+\")\", axis=1)"
   ]
  },
  {
   "cell_type": "code",
   "execution_count": 38,
   "metadata": {
    "ExecuteTime": {
     "end_time": "2025-09-26T19:50:37.563349Z",
     "start_time": "2025-09-26T19:50:37.525240Z"
    },
    "scrolled": true
   },
   "outputs": [
    {
     "data": {
      "text/html": [
       "<div>\n",
       "<style scoped>\n",
       "    .dataframe tbody tr th:only-of-type {\n",
       "        vertical-align: middle;\n",
       "    }\n",
       "\n",
       "    .dataframe tbody tr th {\n",
       "        vertical-align: top;\n",
       "    }\n",
       "\n",
       "    .dataframe thead th {\n",
       "        text-align: right;\n",
       "    }\n",
       "</style>\n",
       "<table border=\"1\" class=\"dataframe\">\n",
       "  <thead>\n",
       "    <tr style=\"text-align: right;\">\n",
       "      <th></th>\n",
       "      <th>org_ipcs</th>\n",
       "      <th>org_FC</th>\n",
       "      <th>gen_ipcs</th>\n",
       "      <th>is_same</th>\n",
       "      <th>forward_ref</th>\n",
       "      <th>ref_ipcs</th>\n",
       "      <th>ref_FC</th>\n",
       "      <th>ref_FC_rank</th>\n",
       "      <th>ref_FC_new</th>\n",
       "    </tr>\n",
       "    <tr>\n",
       "      <th>patent_id</th>\n",
       "      <th></th>\n",
       "      <th></th>\n",
       "      <th></th>\n",
       "      <th></th>\n",
       "      <th></th>\n",
       "      <th></th>\n",
       "      <th></th>\n",
       "      <th></th>\n",
       "      <th></th>\n",
       "    </tr>\n",
       "  </thead>\n",
       "  <tbody>\n",
       "    <tr>\n",
       "      <th>7542816</th>\n",
       "      <td>{G11B027, G06F016, Y10S707}</td>\n",
       "      <td>18</td>\n",
       "      <td>{G06F016}</td>\n",
       "      <td>1</td>\n",
       "      <td>9576050</td>\n",
       "      <td>{G06F016}</td>\n",
       "      <td>6</td>\n",
       "      <td>0.821429</td>\n",
       "      <td>6 (0.82)</td>\n",
       "    </tr>\n",
       "    <tr>\n",
       "      <th>8355610</th>\n",
       "      <td>{G02B027, G02B006}</td>\n",
       "      <td>30</td>\n",
       "      <td>{G02B027}</td>\n",
       "      <td>1</td>\n",
       "      <td>9715110</td>\n",
       "      <td>{G02B027}</td>\n",
       "      <td>18</td>\n",
       "      <td>0.857143</td>\n",
       "      <td>18 (0.86)</td>\n",
       "    </tr>\n",
       "    <tr>\n",
       "      <th>7010095</th>\n",
       "      <td>{A61B090, A61B034}</td>\n",
       "      <td>5</td>\n",
       "      <td>{A61B090, A61B034}</td>\n",
       "      <td>1</td>\n",
       "      <td>8165659</td>\n",
       "      <td>{A61B090, A61B034}</td>\n",
       "      <td>6</td>\n",
       "      <td>1.000000</td>\n",
       "      <td>6 (1.0)</td>\n",
       "    </tr>\n",
       "    <tr>\n",
       "      <th>8977643</th>\n",
       "      <td>{G06F016}</td>\n",
       "      <td>35</td>\n",
       "      <td>{G06F016}</td>\n",
       "      <td>1</td>\n",
       "      <td>10169421</td>\n",
       "      <td>{G06F016}</td>\n",
       "      <td>0</td>\n",
       "      <td>1.000000</td>\n",
       "      <td>0 (1.0)</td>\n",
       "    </tr>\n",
       "    <tr>\n",
       "      <th>7242681</th>\n",
       "      <td>{H04L063}</td>\n",
       "      <td>10</td>\n",
       "      <td>{G06F021, H04L063}</td>\n",
       "      <td>0</td>\n",
       "      <td>9875344</td>\n",
       "      <td>{G06F021, H04L063}</td>\n",
       "      <td>20</td>\n",
       "      <td>0.800000</td>\n",
       "      <td>20 (0.8)</td>\n",
       "    </tr>\n",
       "    <tr>\n",
       "      <th>...</th>\n",
       "      <td>...</td>\n",
       "      <td>...</td>\n",
       "      <td>...</td>\n",
       "      <td>...</td>\n",
       "      <td>...</td>\n",
       "      <td>...</td>\n",
       "      <td>...</td>\n",
       "      <td>...</td>\n",
       "      <td>...</td>\n",
       "    </tr>\n",
       "    <tr>\n",
       "      <th>7366735</th>\n",
       "      <td>{G06F016, Y10S707}</td>\n",
       "      <td>16</td>\n",
       "      <td>{G06F016, Y10S707}</td>\n",
       "      <td>1</td>\n",
       "      <td>7493305</td>\n",
       "      <td>{G06F016, Y10S707}</td>\n",
       "      <td>8</td>\n",
       "      <td>1.000000</td>\n",
       "      <td>8 (1.0)</td>\n",
       "    </tr>\n",
       "    <tr>\n",
       "      <th>7080090</th>\n",
       "      <td>{G06F016, G06F021, Y10S707}</td>\n",
       "      <td>3</td>\n",
       "      <td>{G06F016, G06F021}</td>\n",
       "      <td>1</td>\n",
       "      <td>10346429</td>\n",
       "      <td>{G06F016, G06F021}</td>\n",
       "      <td>12</td>\n",
       "      <td>1.000000</td>\n",
       "      <td>12 (1.0)</td>\n",
       "    </tr>\n",
       "    <tr>\n",
       "      <th>9043922</th>\n",
       "      <td>{G06F021}</td>\n",
       "      <td>16</td>\n",
       "      <td>{G06F016, G06F021, H04L063}</td>\n",
       "      <td>0</td>\n",
       "      <td>9977920</td>\n",
       "      <td>{G06F016, G06F021, H04L063}</td>\n",
       "      <td>1</td>\n",
       "      <td>0.583333</td>\n",
       "      <td>1 (0.58)</td>\n",
       "    </tr>\n",
       "    <tr>\n",
       "      <th>7475425</th>\n",
       "      <td>{H04L063}</td>\n",
       "      <td>17</td>\n",
       "      <td>{H04L063}</td>\n",
       "      <td>1</td>\n",
       "      <td>9356941</td>\n",
       "      <td>{H04L063}</td>\n",
       "      <td>15</td>\n",
       "      <td>1.000000</td>\n",
       "      <td>15 (1.0)</td>\n",
       "    </tr>\n",
       "    <tr>\n",
       "      <th>7818341</th>\n",
       "      <td>{G06F016}</td>\n",
       "      <td>4</td>\n",
       "      <td>{G06F016}</td>\n",
       "      <td>1</td>\n",
       "      <td>9135357</td>\n",
       "      <td>{G06F016}</td>\n",
       "      <td>0</td>\n",
       "      <td>0.750000</td>\n",
       "      <td>0 (0.75)</td>\n",
       "    </tr>\n",
       "  </tbody>\n",
       "</table>\n",
       "<p>730 rows × 9 columns</p>\n",
       "</div>"
      ],
      "text/plain": [
       "                              org_ipcs org_FC                     gen_ipcs  \\\n",
       "patent_id                                                                    \n",
       "7542816    {G11B027, G06F016, Y10S707}     18                    {G06F016}   \n",
       "8355610             {G02B027, G02B006}     30                    {G02B027}   \n",
       "7010095             {A61B090, A61B034}      5           {A61B090, A61B034}   \n",
       "8977643                      {G06F016}     35                    {G06F016}   \n",
       "7242681                      {H04L063}     10           {G06F021, H04L063}   \n",
       "...                                ...    ...                          ...   \n",
       "7366735             {G06F016, Y10S707}     16           {G06F016, Y10S707}   \n",
       "7080090    {G06F016, G06F021, Y10S707}      3           {G06F016, G06F021}   \n",
       "9043922                      {G06F021}     16  {G06F016, G06F021, H04L063}   \n",
       "7475425                      {H04L063}     17                    {H04L063}   \n",
       "7818341                      {G06F016}      4                    {G06F016}   \n",
       "\n",
       "          is_same forward_ref                     ref_ipcs ref_FC  \\\n",
       "patent_id                                                           \n",
       "7542816         1     9576050                    {G06F016}      6   \n",
       "8355610         1     9715110                    {G02B027}     18   \n",
       "7010095         1     8165659           {A61B090, A61B034}      6   \n",
       "8977643         1    10169421                    {G06F016}      0   \n",
       "7242681         0     9875344           {G06F021, H04L063}     20   \n",
       "...           ...         ...                          ...    ...   \n",
       "7366735         1     7493305           {G06F016, Y10S707}      8   \n",
       "7080090         1    10346429           {G06F016, G06F021}     12   \n",
       "9043922         0     9977920  {G06F016, G06F021, H04L063}      1   \n",
       "7475425         1     9356941                    {H04L063}     15   \n",
       "7818341         1     9135357                    {G06F016}      0   \n",
       "\n",
       "           ref_FC_rank ref_FC_new  \n",
       "patent_id                          \n",
       "7542816       0.821429   6 (0.82)  \n",
       "8355610       0.857143  18 (0.86)  \n",
       "7010095       1.000000    6 (1.0)  \n",
       "8977643       1.000000    0 (1.0)  \n",
       "7242681       0.800000   20 (0.8)  \n",
       "...                ...        ...  \n",
       "7366735       1.000000    8 (1.0)  \n",
       "7080090       1.000000   12 (1.0)  \n",
       "9043922       0.583333   1 (0.58)  \n",
       "7475425       1.000000   15 (1.0)  \n",
       "7818341       0.750000   0 (0.75)  \n",
       "\n",
       "[730 rows x 9 columns]"
      ]
     },
     "execution_count": 38,
     "metadata": {},
     "output_type": "execute_result"
    }
   ],
   "source": [
    "df_val"
   ]
  },
  {
   "cell_type": "code",
   "execution_count": 39,
   "metadata": {
    "ExecuteTime": {
     "end_time": "2025-09-26T19:50:40.533204Z",
     "start_time": "2025-09-26T19:50:40.500642Z"
    },
    "scrolled": false
   },
   "outputs": [
    {
     "name": "stdout",
     "output_type": "stream",
     "text": [
      "total hit: 730\n",
      "same: 669\n",
      "diff: 61\n",
      "over L1 criterion: 18\n",
      "ratio: 0.29508196721311475\n"
     ]
    }
   ],
   "source": [
    "L1_criterion = tech_dataset.data[\"TC5\"].quantile(0.9)\n",
    "print(\"total hit:\", len(df_val))\n",
    "print(\"same:\",len(df_val[df_val[\"is_same\"]==1]))\n",
    "print(\"diff:\",len(df_val[df_val[\"is_same\"]==0]))\n",
    "print(\"over L1 criterion:\", len(df_val[df_val[\"is_same\"]==0][df_val[df_val[\"is_same\"]==0][\"ref_FC\"]>=L1_criterion]))\n",
    "print(\"ratio:\",len(df_val[df_val[\"is_same\"]==0][df_val[df_val[\"is_same\"]==0][\"ref_FC\"]>=L1_criterion]) / len(df_val[df_val[\"is_same\"]==0]))"
   ]
  },
  {
   "cell_type": "code",
   "execution_count": 40,
   "metadata": {
    "ExecuteTime": {
     "end_time": "2025-09-26T19:50:44.825766Z",
     "start_time": "2025-09-26T19:50:44.786556Z"
    },
    "scrolled": false
   },
   "outputs": [
    {
     "data": {
      "text/html": [
       "<div>\n",
       "<style scoped>\n",
       "    .dataframe tbody tr th:only-of-type {\n",
       "        vertical-align: middle;\n",
       "    }\n",
       "\n",
       "    .dataframe tbody tr th {\n",
       "        vertical-align: top;\n",
       "    }\n",
       "\n",
       "    .dataframe thead th {\n",
       "        text-align: right;\n",
       "    }\n",
       "</style>\n",
       "<table border=\"1\" class=\"dataframe\">\n",
       "  <thead>\n",
       "    <tr style=\"text-align: right;\">\n",
       "      <th></th>\n",
       "      <th>org_ipcs</th>\n",
       "      <th>org_FC</th>\n",
       "      <th>gen_ipcs</th>\n",
       "      <th>forward_ref</th>\n",
       "      <th>ref_ipcs</th>\n",
       "      <th>ref_FC_new</th>\n",
       "    </tr>\n",
       "    <tr>\n",
       "      <th>patent_id</th>\n",
       "      <th></th>\n",
       "      <th></th>\n",
       "      <th></th>\n",
       "      <th></th>\n",
       "      <th></th>\n",
       "      <th></th>\n",
       "    </tr>\n",
       "  </thead>\n",
       "  <tbody>\n",
       "    <tr>\n",
       "      <th>7242681</th>\n",
       "      <td>{H04L063}</td>\n",
       "      <td>10</td>\n",
       "      <td>{G06F021, H04L063}</td>\n",
       "      <td>9875344</td>\n",
       "      <td>{G06F021, H04L063}</td>\n",
       "      <td>20 (0.8)</td>\n",
       "    </tr>\n",
       "    <tr>\n",
       "      <th>8549579</th>\n",
       "      <td>{H04L063, H04L051}</td>\n",
       "      <td>8</td>\n",
       "      <td>{G06F021, H04L063}</td>\n",
       "      <td>9087215</td>\n",
       "      <td>{G06F021, H04L063}</td>\n",
       "      <td>23 (1.0)</td>\n",
       "    </tr>\n",
       "    <tr>\n",
       "      <th>8307177</th>\n",
       "      <td>{G06F016, G06F011, G06F009}</td>\n",
       "      <td>165</td>\n",
       "      <td>{G06F016, G06F011, G06F009, G06F003}</td>\n",
       "      <td>9823977</td>\n",
       "      <td>{G06F016, G06F011, G06F009, G06F003}</td>\n",
       "      <td>40 (0.92)</td>\n",
       "    </tr>\n",
       "    <tr>\n",
       "      <th>8307177</th>\n",
       "      <td>{G06F016, G06F011, G06F009}</td>\n",
       "      <td>165</td>\n",
       "      <td>{G06F016, G06F011, G06F009, G06F003}</td>\n",
       "      <td>10474542</td>\n",
       "      <td>{G06F016, G06F011, G06F009, G06F003}</td>\n",
       "      <td>20 (0.78)</td>\n",
       "    </tr>\n",
       "    <tr>\n",
       "      <th>9089966</th>\n",
       "      <td>{B25J009}</td>\n",
       "      <td>13</td>\n",
       "      <td>{Y10S901, B25J009}</td>\n",
       "      <td>9486921</td>\n",
       "      <td>{Y10S901, B25J009}</td>\n",
       "      <td>114 (1.0)</td>\n",
       "    </tr>\n",
       "    <tr>\n",
       "      <th>8832846</th>\n",
       "      <td>{G06F008, G06F021}</td>\n",
       "      <td>14</td>\n",
       "      <td>{G06F021, H04L063}</td>\n",
       "      <td>9536108</td>\n",
       "      <td>{G06F021, H04L063}</td>\n",
       "      <td>71 (1.0)</td>\n",
       "    </tr>\n",
       "    <tr>\n",
       "      <th>7697758</th>\n",
       "      <td>{G06K009, G06V030}</td>\n",
       "      <td>33</td>\n",
       "      <td>{G06F016, G06V020, G06V010, G06V030}</td>\n",
       "      <td>8953886</td>\n",
       "      <td>{G06F016, G06V020, G06V010, G06V030}</td>\n",
       "      <td>39 (1.0)</td>\n",
       "    </tr>\n",
       "    <tr>\n",
       "      <th>7024364</th>\n",
       "      <td>{G10L015, H04M003}</td>\n",
       "      <td>10</td>\n",
       "      <td>{G10L015, G06F003}</td>\n",
       "      <td>8589161</td>\n",
       "      <td>{G10L015, G06F003}</td>\n",
       "      <td>33 (0.7)</td>\n",
       "    </tr>\n",
       "    <tr>\n",
       "      <th>7024364</th>\n",
       "      <td>{G10L015, H04M003}</td>\n",
       "      <td>10</td>\n",
       "      <td>{G10L015, G06F003}</td>\n",
       "      <td>9721566</td>\n",
       "      <td>{G10L015, G06F003}</td>\n",
       "      <td>102 (0.87)</td>\n",
       "    </tr>\n",
       "    <tr>\n",
       "      <th>7127403</th>\n",
       "      <td>{G10L015, H04M003}</td>\n",
       "      <td>6</td>\n",
       "      <td>{G10L015, G06F003}</td>\n",
       "      <td>9721566</td>\n",
       "      <td>{G10L015, G06F003}</td>\n",
       "      <td>102 (0.88)</td>\n",
       "    </tr>\n",
       "    <tr>\n",
       "      <th>7127403</th>\n",
       "      <td>{G10L015, H04M003}</td>\n",
       "      <td>6</td>\n",
       "      <td>{G10L015, G06F003}</td>\n",
       "      <td>8670985</td>\n",
       "      <td>{G10L015, G06F003}</td>\n",
       "      <td>22 (0.69)</td>\n",
       "    </tr>\n",
       "    <tr>\n",
       "      <th>7769756</th>\n",
       "      <td>{H04N019, H04N021, H04L065, H04H060}</td>\n",
       "      <td>16</td>\n",
       "      <td>{H04N021, H04H060, G06Q030}</td>\n",
       "      <td>8966525</td>\n",
       "      <td>{H04N021, H04H060, G06Q030}</td>\n",
       "      <td>37 (1.0)</td>\n",
       "    </tr>\n",
       "    <tr>\n",
       "      <th>7363549</th>\n",
       "      <td>{G06F011}</td>\n",
       "      <td>28</td>\n",
       "      <td>{G06F016, G06F011}</td>\n",
       "      <td>7979441</td>\n",
       "      <td>{G06F016, G06F011}</td>\n",
       "      <td>18 (0.77)</td>\n",
       "    </tr>\n",
       "    <tr>\n",
       "      <th>7363549</th>\n",
       "      <td>{G06F011}</td>\n",
       "      <td>28</td>\n",
       "      <td>{G06F016, G06F011}</td>\n",
       "      <td>8108429</td>\n",
       "      <td>{G06F016, G06F011}</td>\n",
       "      <td>40 (1.0)</td>\n",
       "    </tr>\n",
       "    <tr>\n",
       "      <th>7363549</th>\n",
       "      <td>{G06F011}</td>\n",
       "      <td>28</td>\n",
       "      <td>{G06F016, G06F011}</td>\n",
       "      <td>7904913</td>\n",
       "      <td>{G06F016, G06F011}</td>\n",
       "      <td>24 (0.86)</td>\n",
       "    </tr>\n",
       "    <tr>\n",
       "      <th>7363549</th>\n",
       "      <td>{G06F011}</td>\n",
       "      <td>28</td>\n",
       "      <td>{G06F016, G06F011}</td>\n",
       "      <td>7689602</td>\n",
       "      <td>{G06F016, G06F011}</td>\n",
       "      <td>17 (0.73)</td>\n",
       "    </tr>\n",
       "    <tr>\n",
       "      <th>7363549</th>\n",
       "      <td>{G06F011}</td>\n",
       "      <td>28</td>\n",
       "      <td>{G06F016, G06F011}</td>\n",
       "      <td>8131723</td>\n",
       "      <td>{G06F016, G06F011}</td>\n",
       "      <td>29 (0.95)</td>\n",
       "    </tr>\n",
       "    <tr>\n",
       "      <th>8832594</th>\n",
       "      <td>{G06F040, G06F003}</td>\n",
       "      <td>161</td>\n",
       "      <td>{G06F040, G06F016, G06F003}</td>\n",
       "      <td>9043696</td>\n",
       "      <td>{G06F040, G06F016, G06F003}</td>\n",
       "      <td>153 (0.93)</td>\n",
       "    </tr>\n",
       "  </tbody>\n",
       "</table>\n",
       "</div>"
      ],
      "text/plain": [
       "                                       org_ipcs org_FC  \\\n",
       "patent_id                                                \n",
       "7242681                               {H04L063}     10   \n",
       "8549579                      {H04L063, H04L051}      8   \n",
       "8307177             {G06F016, G06F011, G06F009}    165   \n",
       "8307177             {G06F016, G06F011, G06F009}    165   \n",
       "9089966                               {B25J009}     13   \n",
       "8832846                      {G06F008, G06F021}     14   \n",
       "7697758                      {G06K009, G06V030}     33   \n",
       "7024364                      {G10L015, H04M003}     10   \n",
       "7024364                      {G10L015, H04M003}     10   \n",
       "7127403                      {G10L015, H04M003}      6   \n",
       "7127403                      {G10L015, H04M003}      6   \n",
       "7769756    {H04N019, H04N021, H04L065, H04H060}     16   \n",
       "7363549                               {G06F011}     28   \n",
       "7363549                               {G06F011}     28   \n",
       "7363549                               {G06F011}     28   \n",
       "7363549                               {G06F011}     28   \n",
       "7363549                               {G06F011}     28   \n",
       "8832594                      {G06F040, G06F003}    161   \n",
       "\n",
       "                                       gen_ipcs forward_ref  \\\n",
       "patent_id                                                     \n",
       "7242681                      {G06F021, H04L063}     9875344   \n",
       "8549579                      {G06F021, H04L063}     9087215   \n",
       "8307177    {G06F016, G06F011, G06F009, G06F003}     9823977   \n",
       "8307177    {G06F016, G06F011, G06F009, G06F003}    10474542   \n",
       "9089966                      {Y10S901, B25J009}     9486921   \n",
       "8832846                      {G06F021, H04L063}     9536108   \n",
       "7697758    {G06F016, G06V020, G06V010, G06V030}     8953886   \n",
       "7024364                      {G10L015, G06F003}     8589161   \n",
       "7024364                      {G10L015, G06F003}     9721566   \n",
       "7127403                      {G10L015, G06F003}     9721566   \n",
       "7127403                      {G10L015, G06F003}     8670985   \n",
       "7769756             {H04N021, H04H060, G06Q030}     8966525   \n",
       "7363549                      {G06F016, G06F011}     7979441   \n",
       "7363549                      {G06F016, G06F011}     8108429   \n",
       "7363549                      {G06F016, G06F011}     7904913   \n",
       "7363549                      {G06F016, G06F011}     7689602   \n",
       "7363549                      {G06F016, G06F011}     8131723   \n",
       "8832594             {G06F040, G06F016, G06F003}     9043696   \n",
       "\n",
       "                                       ref_ipcs  ref_FC_new  \n",
       "patent_id                                                    \n",
       "7242681                      {G06F021, H04L063}    20 (0.8)  \n",
       "8549579                      {G06F021, H04L063}    23 (1.0)  \n",
       "8307177    {G06F016, G06F011, G06F009, G06F003}   40 (0.92)  \n",
       "8307177    {G06F016, G06F011, G06F009, G06F003}   20 (0.78)  \n",
       "9089966                      {Y10S901, B25J009}   114 (1.0)  \n",
       "8832846                      {G06F021, H04L063}    71 (1.0)  \n",
       "7697758    {G06F016, G06V020, G06V010, G06V030}    39 (1.0)  \n",
       "7024364                      {G10L015, G06F003}    33 (0.7)  \n",
       "7024364                      {G10L015, G06F003}  102 (0.87)  \n",
       "7127403                      {G10L015, G06F003}  102 (0.88)  \n",
       "7127403                      {G10L015, G06F003}   22 (0.69)  \n",
       "7769756             {H04N021, H04H060, G06Q030}    37 (1.0)  \n",
       "7363549                      {G06F016, G06F011}   18 (0.77)  \n",
       "7363549                      {G06F016, G06F011}    40 (1.0)  \n",
       "7363549                      {G06F016, G06F011}   24 (0.86)  \n",
       "7363549                      {G06F016, G06F011}   17 (0.73)  \n",
       "7363549                      {G06F016, G06F011}   29 (0.95)  \n",
       "8832594             {G06F040, G06F016, G06F003}  153 (0.93)  "
      ]
     },
     "execution_count": 40,
     "metadata": {},
     "output_type": "execute_result"
    }
   ],
   "source": [
    "## Data samples where the patent classes of citing patent is the same as generated classes, \n",
    "## different from original classes, \n",
    "## and the number of forward citations exceeds the L1 criterion of the entire dataset\n",
    "df_val[df_val[\"is_same\"]==0][df_val[df_val[\"is_same\"]==0][\"ref_FC\"]>=L1_criterion].drop(labels=[\"is_same\", \"ref_FC\", \"ref_FC_rank\"], axis=1)"
   ]
  },
  {
   "cell_type": "code",
   "execution_count": 41,
   "metadata": {
    "ExecuteTime": {
     "end_time": "2025-09-26T19:50:56.015712Z",
     "start_time": "2025-09-26T19:50:55.748627Z"
    }
   },
   "outputs": [],
   "source": [
    "df_val[df_val[\"is_same\"]==0][df_val[df_val[\"is_same\"]==0][\"ref_FC\"]>=L1_criterion].drop(labels=[\"is_same\", \"ref_FC\", \"ref_FC_rank\"], axis=1).to_csv(\"Breakthrough_examples.csv\")"
   ]
  },
  {
   "cell_type": "code",
   "execution_count": 42,
   "metadata": {
    "ExecuteTime": {
     "end_time": "2025-09-26T19:55:49.093232Z",
     "start_time": "2025-09-26T19:55:49.075626Z"
    }
   },
   "outputs": [
    {
     "data": {
      "text/plain": [
       "patent_id\n",
       "7242681    7242681\n",
       "8549579    8549579\n",
       "8549579    8549579\n",
       "9089966    9089966\n",
       "8832846    8832846\n",
       "8621259    8621259\n",
       "7697758    7697758\n",
       "7693889    7693889\n",
       "7024364    7024364\n",
       "7024364    7024364\n",
       "7127403    7127403\n",
       "7127403    7127403\n",
       "7769756    7769756\n",
       "7363549    7363549\n",
       "7363549    7363549\n",
       "7389229    7389229\n",
       "dtype: object"
      ]
     },
     "execution_count": 42,
     "metadata": {},
     "output_type": "execute_result"
    }
   ],
   "source": [
    "## Data samples where the patent classes of citing patent is the same as generated classes, \n",
    "## different from original classes, and the number of forward citations is greater than that of the original patent\n",
    "df_val[df_val[\"is_same\"]==0].drop(labels=[\"is_same\", \"ref_FC\", \"ref_FC_rank\"], axis=1).apply(lambda x: x.name if int(x[\"org_FC\"]) <= int(x[\"ref_FC_new\"].split(\"(\")[0]) else np.nan, axis=1).dropna()"
   ]
  },
  {
   "cell_type": "code",
   "execution_count": null,
   "metadata": {
    "ExecuteTime": {
     "end_time": "2025-06-09T21:30:06.200413Z",
     "start_time": "2025-06-09T21:30:06.014921Z"
    },
    "scrolled": false
   },
   "outputs": [],
   "source": [
    "df_val.loc[\"7697758\"]"
   ]
  },
  {
   "cell_type": "markdown",
   "metadata": {},
   "source": [
    "## Obtain descriptive statistics"
   ]
  },
  {
   "cell_type": "markdown",
   "metadata": {},
   "source": [
    "- P_citing/remained"
   ]
  },
  {
   "cell_type": "code",
   "execution_count": 43,
   "metadata": {
    "ExecuteTime": {
     "end_time": "2025-09-26T19:56:59.937599Z",
     "start_time": "2025-09-26T19:56:59.633964Z"
    }
   },
   "outputs": [],
   "source": [
    "forward_refs = used_rawdata.loc[used_test_data_TC[\"patent_number\"]][\"forward_refs\"].apply(lambda x: np.array(x.split(\";\")))"
   ]
  },
  {
   "cell_type": "code",
   "execution_count": 44,
   "metadata": {
    "ExecuteTime": {
     "end_time": "2025-09-26T19:57:00.221330Z",
     "start_time": "2025-09-26T19:56:59.941152Z"
    },
    "scrolled": true
   },
   "outputs": [],
   "source": [
    "valid_refs = forward_refs.apply(lambda x: [xx for xx in x if xx in total_data.index])"
   ]
  },
  {
   "cell_type": "code",
   "execution_count": 45,
   "metadata": {
    "ExecuteTime": {
     "end_time": "2025-09-26T19:57:00.233070Z",
     "start_time": "2025-09-26T19:57:00.224192Z"
    }
   },
   "outputs": [],
   "source": [
    "exist_refs = valid_refs[valid_refs.apply(lambda x: True if x != [] else False)]"
   ]
  },
  {
   "cell_type": "code",
   "execution_count": null,
   "metadata": {
    "ExecuteTime": {
     "end_time": "2025-09-26T19:57:09.409579Z",
     "start_time": "2025-09-26T19:57:00.235502Z"
    }
   },
   "outputs": [],
   "source": [
    "ref_pcs = exist_refs.apply(lambda x: [set(total_data.loc[xx][\"patent_classes\"]) for xx in x])\n",
    "ref_pcs.name = \"ref_pc\""
   ]
  },
  {
   "cell_type": "code",
   "execution_count": 47,
   "metadata": {
    "ExecuteTime": {
     "end_time": "2025-09-26T19:57:17.223025Z",
     "start_time": "2025-09-26T19:57:09.412991Z"
    }
   },
   "outputs": [],
   "source": [
    "ref_FC = exist_refs.apply(lambda x: [total_data.loc[xx][\"TC5\"] for xx in x])\n",
    "ref_FC.name = \"TC5\""
   ]
  },
  {
   "cell_type": "code",
   "execution_count": null,
   "metadata": {
    "ExecuteTime": {
     "end_time": "2025-09-26T19:57:18.484658Z",
     "start_time": "2025-09-26T19:57:17.225335Z"
    }
   },
   "outputs": [],
   "source": [
    "org_pcs = pd.Series(exist_refs.index, name=\"patent_number\").astype(str).apply(lambda x: set(total_data.loc[x][\"patent_classes\"]))\n",
    "org_pcs.index = exist_refs.index\n",
    "org_pcs.name = \"org_pc\""
   ]
  },
  {
   "cell_type": "code",
   "execution_count": null,
   "metadata": {
    "ExecuteTime": {
     "end_time": "2025-09-26T19:57:18.492500Z",
     "start_time": "2025-09-26T19:57:18.486958Z"
    }
   },
   "outputs": [],
   "source": [
    "compare_total = pd.concat([org_pcs, ref_pcs, ref_FC], axis=1)"
   ]
  },
  {
   "cell_type": "code",
   "execution_count": 50,
   "metadata": {
    "ExecuteTime": {
     "end_time": "2025-09-26T19:57:18.648430Z",
     "start_time": "2025-09-26T19:57:18.494786Z"
    }
   },
   "outputs": [
    {
     "data": {
      "text/html": [
       "<div>\n",
       "<style scoped>\n",
       "    .dataframe tbody tr th:only-of-type {\n",
       "        vertical-align: middle;\n",
       "    }\n",
       "\n",
       "    .dataframe tbody tr th {\n",
       "        vertical-align: top;\n",
       "    }\n",
       "\n",
       "    .dataframe thead th {\n",
       "        text-align: right;\n",
       "    }\n",
       "</style>\n",
       "<table border=\"1\" class=\"dataframe\">\n",
       "  <thead>\n",
       "    <tr style=\"text-align: right;\">\n",
       "      <th></th>\n",
       "      <th>org_ipc</th>\n",
       "      <th>ref_ipc</th>\n",
       "      <th>TC5</th>\n",
       "    </tr>\n",
       "    <tr>\n",
       "      <th>patent_number</th>\n",
       "      <th></th>\n",
       "      <th></th>\n",
       "      <th></th>\n",
       "    </tr>\n",
       "  </thead>\n",
       "  <tbody>\n",
       "    <tr>\n",
       "      <th>8423759</th>\n",
       "      <td>{H04L009, H04L063}</td>\n",
       "      <td>[{H04L009, H04L063, G06F021}, {H04L009, H04L06...</td>\n",
       "      <td>[2, 85, 2, 0, 2, 2, 4, 0, 0, 0, 5, 2, 0, 22, 3]</td>\n",
       "    </tr>\n",
       "    <tr>\n",
       "      <th>8095229</th>\n",
       "      <td>{G06Q010, G06Q050, Y02P090, G05B019, G16Z099}</td>\n",
       "      <td>[{G06Q010, G05B015, Y02P090, B33Y050, G05B019}...</td>\n",
       "      <td>[1, 10]</td>\n",
       "    </tr>\n",
       "    <tr>\n",
       "      <th>8616308</th>\n",
       "      <td>{Y10S901, B62D055}</td>\n",
       "      <td>[{B25J009, G05D003, G05D001}]</td>\n",
       "      <td>[1]</td>\n",
       "    </tr>\n",
       "    <tr>\n",
       "      <th>7313340</th>\n",
       "      <td>{G03G015, H04N001}</td>\n",
       "      <td>[{H04N001}, {G06V010, G06V030}, {G06F016, G06F...</td>\n",
       "      <td>[0, 0, 12]</td>\n",
       "    </tr>\n",
       "    <tr>\n",
       "      <th>7529392</th>\n",
       "      <td>{G06T007}</td>\n",
       "      <td>[{G06T005}]</td>\n",
       "      <td>[0]</td>\n",
       "    </tr>\n",
       "    <tr>\n",
       "      <th>...</th>\n",
       "      <td>...</td>\n",
       "      <td>...</td>\n",
       "      <td>...</td>\n",
       "    </tr>\n",
       "    <tr>\n",
       "      <th>7287033</th>\n",
       "      <td>{G06F016, Y10S707}</td>\n",
       "      <td>[{G06F008, G06F016, Y10S707}, {G06F016, Y10S70...</td>\n",
       "      <td>[2, 7, 2, 0, 2]</td>\n",
       "    </tr>\n",
       "    <tr>\n",
       "      <th>7577671</th>\n",
       "      <td>{G06F016, Y10S707}</td>\n",
       "      <td>[{G06F016, G06Q010, G06Q030}]</td>\n",
       "      <td>[22]</td>\n",
       "    </tr>\n",
       "    <tr>\n",
       "      <th>7496557</th>\n",
       "      <td>{G06F016, Y10S707}</td>\n",
       "      <td>[{G06F016, Y10S707}]</td>\n",
       "      <td>[1]</td>\n",
       "    </tr>\n",
       "    <tr>\n",
       "      <th>8838301</th>\n",
       "      <td>{B61L029, B61L025}</td>\n",
       "      <td>[{H04N007, G06K009, G06V020, B61L023}, {B61L02...</td>\n",
       "      <td>[1, 3, 2]</td>\n",
       "    </tr>\n",
       "    <tr>\n",
       "      <th>9158975</th>\n",
       "      <td>{G06V020, G06F016, G06V010, G08B013, G06V040, ...</td>\n",
       "      <td>[{H04N005, G01C021, H04N007, A61B050}, {G06V02...</td>\n",
       "      <td>[1, 1, 1, 0, 0, 1]</td>\n",
       "    </tr>\n",
       "  </tbody>\n",
       "</table>\n",
       "<p>6937 rows × 3 columns</p>\n",
       "</div>"
      ],
      "text/plain": [
       "                                                         org_ipc  \\\n",
       "patent_number                                                      \n",
       "8423759                                       {H04L009, H04L063}   \n",
       "8095229            {G06Q010, G06Q050, Y02P090, G05B019, G16Z099}   \n",
       "8616308                                       {Y10S901, B62D055}   \n",
       "7313340                                       {G03G015, H04N001}   \n",
       "7529392                                                {G06T007}   \n",
       "...                                                          ...   \n",
       "7287033                                       {G06F016, Y10S707}   \n",
       "7577671                                       {G06F016, Y10S707}   \n",
       "7496557                                       {G06F016, Y10S707}   \n",
       "8838301                                       {B61L029, B61L025}   \n",
       "9158975        {G06V020, G06F016, G06V010, G08B013, G06V040, ...   \n",
       "\n",
       "                                                         ref_ipc  \\\n",
       "patent_number                                                      \n",
       "8423759        [{H04L009, H04L063, G06F021}, {H04L009, H04L06...   \n",
       "8095229        [{G06Q010, G05B015, Y02P090, B33Y050, G05B019}...   \n",
       "8616308                            [{B25J009, G05D003, G05D001}]   \n",
       "7313340        [{H04N001}, {G06V010, G06V030}, {G06F016, G06F...   \n",
       "7529392                                              [{G06T005}]   \n",
       "...                                                          ...   \n",
       "7287033        [{G06F008, G06F016, Y10S707}, {G06F016, Y10S70...   \n",
       "7577671                            [{G06F016, G06Q010, G06Q030}]   \n",
       "7496557                                     [{G06F016, Y10S707}]   \n",
       "8838301        [{H04N007, G06K009, G06V020, B61L023}, {B61L02...   \n",
       "9158975        [{H04N005, G01C021, H04N007, A61B050}, {G06V02...   \n",
       "\n",
       "                                                           TC5  \n",
       "patent_number                                                   \n",
       "8423759        [2, 85, 2, 0, 2, 2, 4, 0, 0, 0, 5, 2, 0, 22, 3]  \n",
       "8095229                                                [1, 10]  \n",
       "8616308                                                    [1]  \n",
       "7313340                                             [0, 0, 12]  \n",
       "7529392                                                    [0]  \n",
       "...                                                        ...  \n",
       "7287033                                        [2, 7, 2, 0, 2]  \n",
       "7577671                                                   [22]  \n",
       "7496557                                                    [1]  \n",
       "8838301                                              [1, 3, 2]  \n",
       "9158975                                     [1, 1, 1, 0, 0, 1]  \n",
       "\n",
       "[6937 rows x 3 columns]"
      ]
     },
     "execution_count": 50,
     "metadata": {},
     "output_type": "execute_result"
    }
   ],
   "source": [
    "compare_total"
   ]
  },
  {
   "cell_type": "code",
   "execution_count": null,
   "metadata": {
    "ExecuteTime": {
     "end_time": "2025-09-26T19:57:19.070057Z",
     "start_time": "2025-09-26T19:57:18.650862Z"
    }
   },
   "outputs": [],
   "source": [
    "ref_FC_identical = compare_total.apply(lambda x: [x[\"TC5\"][i] for i in range(len(x[\"ref_pc\"])) if x[\"ref_pc\"][i]==x[\"org_pc\"]], axis=1)"
   ]
  },
  {
   "cell_type": "code",
   "execution_count": 52,
   "metadata": {
    "ExecuteTime": {
     "end_time": "2025-09-26T19:57:19.079659Z",
     "start_time": "2025-09-26T19:57:19.072858Z"
    }
   },
   "outputs": [],
   "source": [
    "valid_FC_identical = ref_FC_identical[ref_FC_identical.apply(lambda x: True if x != [] else False)]"
   ]
  },
  {
   "cell_type": "code",
   "execution_count": 53,
   "metadata": {
    "ExecuteTime": {
     "end_time": "2025-09-26T19:57:19.233268Z",
     "start_time": "2025-09-26T19:57:19.081481Z"
    }
   },
   "outputs": [],
   "source": [
    "avg_FC_identical = valid_FC_identical.apply(lambda x: np.mean(x))"
   ]
  },
  {
   "cell_type": "code",
   "execution_count": 54,
   "metadata": {
    "ExecuteTime": {
     "end_time": "2025-09-26T19:57:19.342396Z",
     "start_time": "2025-09-26T19:57:19.235820Z"
    }
   },
   "outputs": [
    {
     "data": {
      "text/plain": [
       "count    1930.000000\n",
       "mean        5.666213\n",
       "std        13.403872\n",
       "min         0.000000\n",
       "25%         0.000000\n",
       "50%         2.000000\n",
       "75%         5.500000\n",
       "max       160.700000\n",
       "dtype: float64"
      ]
     },
     "execution_count": 54,
     "metadata": {},
     "output_type": "execute_result"
    }
   ],
   "source": [
    "avg_FC_identical.describe()"
   ]
  },
  {
   "cell_type": "markdown",
   "metadata": {},
   "source": [
    "- P_citing/shifted"
   ]
  },
  {
   "cell_type": "code",
   "execution_count": 55,
   "metadata": {
    "ExecuteTime": {
     "end_time": "2025-09-26T19:57:19.466080Z",
     "start_time": "2025-09-26T19:57:19.345001Z"
    }
   },
   "outputs": [
    {
     "data": {
      "text/plain": [
       "count     61.000000\n",
       "mean      16.901639\n",
       "std       30.767789\n",
       "min        0.000000\n",
       "25%        1.000000\n",
       "50%        4.000000\n",
       "75%       20.000000\n",
       "max      153.000000\n",
       "Name: ref_FC, dtype: float64"
      ]
     },
     "execution_count": 55,
     "metadata": {},
     "output_type": "execute_result"
    }
   ],
   "source": [
    "df_val[df_val[\"is_same\"]==0][\"ref_FC\"].astype(int).describe()"
   ]
  },
  {
   "cell_type": "markdown",
   "metadata": {},
   "source": [
    "## Macro validation analysis\n"
   ]
  },
  {
   "cell_type": "code",
   "execution_count": null,
   "metadata": {
    "ExecuteTime": {
     "end_time": "2025-09-26T19:57:19.647089Z",
     "start_time": "2025-09-26T19:57:19.471278Z"
    }
   },
   "outputs": [],
   "source": [
    "org_patent_ids = dict_out[\"patent_id\"]\n",
    "org_pcs = pd.Series(dict_out[\"org_text\"]).apply(lambda x: set(x))\n",
    "org_pcs.name = \"patent_number\"\n",
    "org_pcs.index = org_patent_ids\n",
    "gen_pcs = pd.Series(dict_out[\"gen_text\"])\n",
    "gen_pcs.name = \"patent_number\"\n",
    "gen_pcs.index = org_patent_ids"
   ]
  },
  {
   "cell_type": "code",
   "execution_count": null,
   "metadata": {
    "ExecuteTime": {
     "end_time": "2025-09-26T19:57:19.909311Z",
     "start_time": "2025-09-26T19:57:19.649784Z"
    }
   },
   "outputs": [
    {
     "data": {
      "text/plain": [
       "8423759                                   {H04L009, H04L063}\n",
       "8095229        {G06Q010, G06Q050, Y02P090, G05B019, G16Z099}\n",
       "8616308                                   {Y10S901, B62D055}\n",
       "7313340                                   {G03G015, H04N001}\n",
       "7529392                                            {G06T007}\n",
       "                                 ...                        \n",
       "7287033                                   {G06F016, Y10S707}\n",
       "7577671                                   {G06F016, Y10S707}\n",
       "7496557                                   {G06F016, Y10S707}\n",
       "8838301                                   {B61L029, B61L025}\n",
       "9158975    {G06V020, G06F016, G06V010, G08B013, G06V040, ...\n",
       "Name: patent_number, Length: 6929, dtype: object"
      ]
     },
     "execution_count": 57,
     "metadata": {},
     "output_type": "execute_result"
    }
   ],
   "source": [
    "org_pcs"
   ]
  },
  {
   "cell_type": "code",
   "execution_count": null,
   "metadata": {
    "ExecuteTime": {
     "end_time": "2025-09-26T19:57:20.070971Z",
     "start_time": "2025-09-26T19:57:19.913661Z"
    }
   },
   "outputs": [
    {
     "data": {
      "text/plain": [
       "8423759                 {G06Q020, H04L063, G05B019, G06Q010}\n",
       "8095229    {G06Q010, G06Q050, G06F016, Y02P090, H04L012, ...\n",
       "8616308                 {G06N003, G05D001, A61N001, A61M005}\n",
       "7313340    {G06Q040, G06F016, G06F021, G06Q020, H04L067, ...\n",
       "7529392                          {G06V040, G06F003, G06Q030}\n",
       "                                 ...                        \n",
       "7287033                                   {H04L065, G06F016}\n",
       "7577671                                   {H04W004, G06F016}\n",
       "7496557                                            {G06F016}\n",
       "8838301        {B61L027, G06Q010, Y02P090, H04W004, G06Q030}\n",
       "9158975                                   {G06V040, G06V020}\n",
       "Name: patent_number, Length: 6929, dtype: object"
      ]
     },
     "execution_count": 58,
     "metadata": {},
     "output_type": "execute_result"
    }
   ],
   "source": [
    "gen_pcs"
   ]
  },
  {
   "cell_type": "code",
   "execution_count": null,
   "metadata": {
    "ExecuteTime": {
     "end_time": "2025-09-26T19:57:20.370148Z",
     "start_time": "2025-09-26T19:57:20.074204Z"
    }
   },
   "outputs": [],
   "source": [
    "pcs_total_frozen = total_data.iloc[:10000].apply(lambda x: frozenset(x[\"patent_classes\"]), axis=1)"
   ]
  },
  {
   "cell_type": "code",
   "execution_count": null,
   "metadata": {
    "ExecuteTime": {
     "end_time": "2025-09-26T19:57:20.508186Z",
     "start_time": "2025-09-26T19:57:20.373919Z"
    }
   },
   "outputs": [],
   "source": [
    "org_pcs_frozen = org_pcs.apply(lambda x: frozenset(np.sort(list(x))))\n",
    "gen_pcs_frozen = gen_pcs.apply(lambda x: frozenset(np.sort(list(x))))"
   ]
  },
  {
   "cell_type": "code",
   "execution_count": null,
   "metadata": {
    "ExecuteTime": {
     "end_time": "2025-09-26T19:57:20.518341Z",
     "start_time": "2025-09-26T19:57:20.510718Z"
    }
   },
   "outputs": [
    {
     "data": {
      "text/plain": [
       "8423759                                   (H04L009, H04L063)\n",
       "8095229        (G06Q010, G06Q050, Y02P090, G05B019, G16Z099)\n",
       "8616308                                   (Y10S901, B62D055)\n",
       "7313340                                   (G03G015, H04N001)\n",
       "7529392                                            (G06T007)\n",
       "                                 ...                        \n",
       "7287033                                   (G06F016, Y10S707)\n",
       "7577671                                   (G06F016, Y10S707)\n",
       "7496557                                   (G06F016, Y10S707)\n",
       "8838301                                   (B61L025, B61L029)\n",
       "9158975    (G06V020, G06F016, G06V010, G08B013, G06V040, ...\n",
       "Name: patent_number, Length: 6929, dtype: object"
      ]
     },
     "execution_count": 61,
     "metadata": {},
     "output_type": "execute_result"
    }
   ],
   "source": [
    "org_pcs_frozen"
   ]
  },
  {
   "cell_type": "code",
   "execution_count": null,
   "metadata": {
    "ExecuteTime": {
     "end_time": "2025-09-26T19:57:40.421796Z",
     "start_time": "2025-09-26T19:57:20.520422Z"
    }
   },
   "outputs": [
    {
     "data": {
      "application/vnd.jupyter.widget-view+json": {
       "model_id": "54084110f5754f3c8236cbaf9d108187",
       "version_major": 2,
       "version_minor": 0
      },
      "text/plain": [
       "  0%|          | 0/6929 [00:00<?, ?it/s]"
      ]
     },
     "metadata": {},
     "output_type": "display_data"
    }
   ],
   "source": [
    "avg_TIs_org, avg_TIs_gen = {}, {}\n",
    "\n",
    "for i in tqdm(range(len(org_pcs_frozen))):\n",
    "    pn = org_pcs_frozen.index[i]\n",
    "    pc_org = org_pcs_frozen.iloc[i]\n",
    "    pc_gen = gen_pcs_frozen.iloc[i]\n",
    "    \n",
    "    avg_TIs_org[pn] = np.mean(total_data.loc[pcs_total_frozen[pcs_total_frozen==pc_org].index][\"TC5\"])\n",
    "    avg_TIs_gen[pn] = np.mean(total_data.loc[pcs_total_frozen[pcs_total_frozen==pc_gen].index][\"TC5\"])"
   ]
  },
  {
   "cell_type": "code",
   "execution_count": null,
   "metadata": {
    "ExecuteTime": {
     "end_time": "2025-09-26T19:57:40.625381Z",
     "start_time": "2025-09-26T19:57:40.423852Z"
    },
    "scrolled": false
   },
   "outputs": [],
   "source": [
    "res_macro = pd.concat([org_pcs, pd.DataFrame(avg_TIs_org, index=[0]).T, gen_pcs, pd.DataFrame(avg_TIs_gen, index=[0]).T], axis=1)\n",
    "res_macro.columns = [\"org_pc\", \"org_TI\", \"gen_pc\", \"gen_TI\"]"
   ]
  },
  {
   "cell_type": "code",
   "execution_count": 64,
   "metadata": {
    "ExecuteTime": {
     "end_time": "2025-09-26T19:57:40.646324Z",
     "start_time": "2025-09-26T19:57:40.627811Z"
    }
   },
   "outputs": [
    {
     "data": {
      "text/html": [
       "<div>\n",
       "<style scoped>\n",
       "    .dataframe tbody tr th:only-of-type {\n",
       "        vertical-align: middle;\n",
       "    }\n",
       "\n",
       "    .dataframe tbody tr th {\n",
       "        vertical-align: top;\n",
       "    }\n",
       "\n",
       "    .dataframe thead th {\n",
       "        text-align: right;\n",
       "    }\n",
       "</style>\n",
       "<table border=\"1\" class=\"dataframe\">\n",
       "  <thead>\n",
       "    <tr style=\"text-align: right;\">\n",
       "      <th></th>\n",
       "      <th>org_ipc</th>\n",
       "      <th>org_TI</th>\n",
       "      <th>gen_ipc</th>\n",
       "      <th>gen_TI</th>\n",
       "    </tr>\n",
       "  </thead>\n",
       "  <tbody>\n",
       "    <tr>\n",
       "      <th>8423759</th>\n",
       "      <td>{H04L009, H04L063}</td>\n",
       "      <td>35.500000</td>\n",
       "      <td>{G06Q020, H04L063, G05B019, G06Q010}</td>\n",
       "      <td>NaN</td>\n",
       "    </tr>\n",
       "    <tr>\n",
       "      <th>8095229</th>\n",
       "      <td>{G06Q010, G06Q050, Y02P090, G05B019, G16Z099}</td>\n",
       "      <td>NaN</td>\n",
       "      <td>{G06Q010, G06Q050, G06F016, Y02P090, H04L012, ...</td>\n",
       "      <td>NaN</td>\n",
       "    </tr>\n",
       "    <tr>\n",
       "      <th>8616308</th>\n",
       "      <td>{Y10S901, B62D055}</td>\n",
       "      <td>NaN</td>\n",
       "      <td>{G06N003, G05D001, A61N001, A61M005}</td>\n",
       "      <td>NaN</td>\n",
       "    </tr>\n",
       "    <tr>\n",
       "      <th>7313340</th>\n",
       "      <td>{G03G015, H04N001}</td>\n",
       "      <td>2.000000</td>\n",
       "      <td>{G06Q040, G06F016, G06F021, G06Q020, H04L067, ...</td>\n",
       "      <td>NaN</td>\n",
       "    </tr>\n",
       "    <tr>\n",
       "      <th>7529392</th>\n",
       "      <td>{G06T007}</td>\n",
       "      <td>4.695652</td>\n",
       "      <td>{G06V040, G06F003, G06Q030}</td>\n",
       "      <td>NaN</td>\n",
       "    </tr>\n",
       "    <tr>\n",
       "      <th>...</th>\n",
       "      <td>...</td>\n",
       "      <td>...</td>\n",
       "      <td>...</td>\n",
       "      <td>...</td>\n",
       "    </tr>\n",
       "    <tr>\n",
       "      <th>7287033</th>\n",
       "      <td>{G06F016, Y10S707}</td>\n",
       "      <td>9.901048</td>\n",
       "      <td>{H04L065, G06F016}</td>\n",
       "      <td>NaN</td>\n",
       "    </tr>\n",
       "    <tr>\n",
       "      <th>7577671</th>\n",
       "      <td>{G06F016, Y10S707}</td>\n",
       "      <td>9.901048</td>\n",
       "      <td>{H04W004, G06F016}</td>\n",
       "      <td>NaN</td>\n",
       "    </tr>\n",
       "    <tr>\n",
       "      <th>7496557</th>\n",
       "      <td>{G06F016, Y10S707}</td>\n",
       "      <td>9.901048</td>\n",
       "      <td>{G06F016}</td>\n",
       "      <td>10.1</td>\n",
       "    </tr>\n",
       "    <tr>\n",
       "      <th>8838301</th>\n",
       "      <td>{B61L029, B61L025}</td>\n",
       "      <td>NaN</td>\n",
       "      <td>{B61L027, G06Q010, Y02P090, H04W004, G06Q030}</td>\n",
       "      <td>NaN</td>\n",
       "    </tr>\n",
       "    <tr>\n",
       "      <th>9158975</th>\n",
       "      <td>{G06V020, G06F016, G06V010, G08B013, G06V040, ...</td>\n",
       "      <td>NaN</td>\n",
       "      <td>{G06V040, G06V020}</td>\n",
       "      <td>24.0</td>\n",
       "    </tr>\n",
       "  </tbody>\n",
       "</table>\n",
       "<p>6929 rows × 4 columns</p>\n",
       "</div>"
      ],
      "text/plain": [
       "                                                   org_ipc     org_TI  \\\n",
       "8423759                                 {H04L009, H04L063}  35.500000   \n",
       "8095229      {G06Q010, G06Q050, Y02P090, G05B019, G16Z099}        NaN   \n",
       "8616308                                 {Y10S901, B62D055}        NaN   \n",
       "7313340                                 {G03G015, H04N001}   2.000000   \n",
       "7529392                                          {G06T007}   4.695652   \n",
       "...                                                    ...        ...   \n",
       "7287033                                 {G06F016, Y10S707}   9.901048   \n",
       "7577671                                 {G06F016, Y10S707}   9.901048   \n",
       "7496557                                 {G06F016, Y10S707}   9.901048   \n",
       "8838301                                 {B61L029, B61L025}        NaN   \n",
       "9158975  {G06V020, G06F016, G06V010, G08B013, G06V040, ...        NaN   \n",
       "\n",
       "                                                   gen_ipc  gen_TI  \n",
       "8423759               {G06Q020, H04L063, G05B019, G06Q010}     NaN  \n",
       "8095229  {G06Q010, G06Q050, G06F016, Y02P090, H04L012, ...     NaN  \n",
       "8616308               {G06N003, G05D001, A61N001, A61M005}     NaN  \n",
       "7313340  {G06Q040, G06F016, G06F021, G06Q020, H04L067, ...     NaN  \n",
       "7529392                        {G06V040, G06F003, G06Q030}     NaN  \n",
       "...                                                    ...     ...  \n",
       "7287033                                 {H04L065, G06F016}     NaN  \n",
       "7577671                                 {H04W004, G06F016}     NaN  \n",
       "7496557                                          {G06F016}    10.1  \n",
       "8838301      {B61L027, G06Q010, Y02P090, H04W004, G06Q030}     NaN  \n",
       "9158975                                 {G06V040, G06V020}    24.0  \n",
       "\n",
       "[6929 rows x 4 columns]"
      ]
     },
     "execution_count": 64,
     "metadata": {},
     "output_type": "execute_result"
    }
   ],
   "source": [
    "res_macro"
   ]
  },
  {
   "cell_type": "code",
   "execution_count": 65,
   "metadata": {
    "ExecuteTime": {
     "end_time": "2025-09-26T19:57:40.804817Z",
     "start_time": "2025-09-26T19:57:40.648596Z"
    }
   },
   "outputs": [],
   "source": [
    "valid_res_macro = res_macro[(res_macro[\"org_TI\"].notna()) & (res_macro[\"gen_TI\"].notna())]"
   ]
  },
  {
   "cell_type": "code",
   "execution_count": 66,
   "metadata": {
    "ExecuteTime": {
     "end_time": "2025-09-26T19:57:40.955738Z",
     "start_time": "2025-09-26T19:57:40.807511Z"
    }
   },
   "outputs": [
    {
     "data": {
      "text/html": [
       "<div>\n",
       "<style scoped>\n",
       "    .dataframe tbody tr th:only-of-type {\n",
       "        vertical-align: middle;\n",
       "    }\n",
       "\n",
       "    .dataframe tbody tr th {\n",
       "        vertical-align: top;\n",
       "    }\n",
       "\n",
       "    .dataframe thead th {\n",
       "        text-align: right;\n",
       "    }\n",
       "</style>\n",
       "<table border=\"1\" class=\"dataframe\">\n",
       "  <thead>\n",
       "    <tr style=\"text-align: right;\">\n",
       "      <th></th>\n",
       "      <th>org_ipc</th>\n",
       "      <th>org_TI</th>\n",
       "      <th>gen_ipc</th>\n",
       "      <th>gen_TI</th>\n",
       "    </tr>\n",
       "  </thead>\n",
       "  <tbody>\n",
       "    <tr>\n",
       "      <th>8386498</th>\n",
       "      <td>{H04L041, H04L063}</td>\n",
       "      <td>18.166667</td>\n",
       "      <td>{G06F016, G06F021, H04L063}</td>\n",
       "      <td>9.00</td>\n",
       "    </tr>\n",
       "    <tr>\n",
       "      <th>7647471</th>\n",
       "      <td>{G06F012}</td>\n",
       "      <td>4.847222</td>\n",
       "      <td>{G06F016, G06F021}</td>\n",
       "      <td>14.00</td>\n",
       "    </tr>\n",
       "    <tr>\n",
       "      <th>7542816</th>\n",
       "      <td>{G11B027, G06F016, Y10S707}</td>\n",
       "      <td>8.571429</td>\n",
       "      <td>{G06F016}</td>\n",
       "      <td>10.10</td>\n",
       "    </tr>\n",
       "    <tr>\n",
       "      <th>7002462</th>\n",
       "      <td>{B66B027}</td>\n",
       "      <td>3.000000</td>\n",
       "      <td>{A61B005, A61N001}</td>\n",
       "      <td>9.25</td>\n",
       "    </tr>\n",
       "    <tr>\n",
       "      <th>8032383</th>\n",
       "      <td>{G10L015}</td>\n",
       "      <td>6.515464</td>\n",
       "      <td>{G10L015, G06F016}</td>\n",
       "      <td>6.00</td>\n",
       "    </tr>\n",
       "    <tr>\n",
       "      <th>...</th>\n",
       "      <td>...</td>\n",
       "      <td>...</td>\n",
       "      <td>...</td>\n",
       "      <td>...</td>\n",
       "    </tr>\n",
       "    <tr>\n",
       "      <th>8373775</th>\n",
       "      <td>{G06T005}</td>\n",
       "      <td>3.640000</td>\n",
       "      <td>{G06F016}</td>\n",
       "      <td>10.10</td>\n",
       "    </tr>\n",
       "    <tr>\n",
       "      <th>7475425</th>\n",
       "      <td>{H04L063}</td>\n",
       "      <td>9.000000</td>\n",
       "      <td>{H04L063}</td>\n",
       "      <td>9.00</td>\n",
       "    </tr>\n",
       "    <tr>\n",
       "      <th>7818341</th>\n",
       "      <td>{G06F016}</td>\n",
       "      <td>10.100000</td>\n",
       "      <td>{G06F016}</td>\n",
       "      <td>10.10</td>\n",
       "    </tr>\n",
       "    <tr>\n",
       "      <th>7627618</th>\n",
       "      <td>{G06F016, Y10S707, G06F009}</td>\n",
       "      <td>3.428571</td>\n",
       "      <td>{G06F016, G06F003}</td>\n",
       "      <td>42.00</td>\n",
       "    </tr>\n",
       "    <tr>\n",
       "      <th>7496557</th>\n",
       "      <td>{G06F016, Y10S707}</td>\n",
       "      <td>9.901048</td>\n",
       "      <td>{G06F016}</td>\n",
       "      <td>10.10</td>\n",
       "    </tr>\n",
       "  </tbody>\n",
       "</table>\n",
       "<p>1084 rows × 4 columns</p>\n",
       "</div>"
      ],
      "text/plain": [
       "                             org_ipc     org_TI                      gen_ipc  \\\n",
       "8386498           {H04L041, H04L063}  18.166667  {G06F016, G06F021, H04L063}   \n",
       "7647471                    {G06F012}   4.847222           {G06F016, G06F021}   \n",
       "7542816  {G11B027, G06F016, Y10S707}   8.571429                    {G06F016}   \n",
       "7002462                    {B66B027}   3.000000           {A61B005, A61N001}   \n",
       "8032383                    {G10L015}   6.515464           {G10L015, G06F016}   \n",
       "...                              ...        ...                          ...   \n",
       "8373775                    {G06T005}   3.640000                    {G06F016}   \n",
       "7475425                    {H04L063}   9.000000                    {H04L063}   \n",
       "7818341                    {G06F016}  10.100000                    {G06F016}   \n",
       "7627618  {G06F016, Y10S707, G06F009}   3.428571           {G06F016, G06F003}   \n",
       "7496557           {G06F016, Y10S707}   9.901048                    {G06F016}   \n",
       "\n",
       "         gen_TI  \n",
       "8386498    9.00  \n",
       "7647471   14.00  \n",
       "7542816   10.10  \n",
       "7002462    9.25  \n",
       "8032383    6.00  \n",
       "...         ...  \n",
       "8373775   10.10  \n",
       "7475425    9.00  \n",
       "7818341   10.10  \n",
       "7627618   42.00  \n",
       "7496557   10.10  \n",
       "\n",
       "[1084 rows x 4 columns]"
      ]
     },
     "execution_count": 66,
     "metadata": {},
     "output_type": "execute_result"
    }
   ],
   "source": [
    "valid_res_macro"
   ]
  },
  {
   "cell_type": "code",
   "execution_count": 67,
   "metadata": {
    "ExecuteTime": {
     "end_time": "2025-09-26T19:57:41.076182Z",
     "start_time": "2025-09-26T19:57:40.958424Z"
    }
   },
   "outputs": [
    {
     "data": {
      "text/plain": [
       "10.33533590921993"
      ]
     },
     "execution_count": 67,
     "metadata": {},
     "output_type": "execute_result"
    }
   ],
   "source": [
    "valid_res_macro[\"org_TI\"].mean()"
   ]
  },
  {
   "cell_type": "code",
   "execution_count": 68,
   "metadata": {
    "ExecuteTime": {
     "end_time": "2025-09-26T19:57:41.194584Z",
     "start_time": "2025-09-26T19:57:41.080493Z"
    }
   },
   "outputs": [
    {
     "data": {
      "text/plain": [
       "13.485535757873558"
      ]
     },
     "execution_count": 68,
     "metadata": {},
     "output_type": "execute_result"
    }
   ],
   "source": [
    "valid_res_macro[\"gen_TI\"].mean()"
   ]
  }
 ],
 "metadata": {
  "kernelspec": {
   "display_name": "DL",
   "language": "python",
   "name": "dl"
  },
  "language_info": {
   "codemirror_mode": {
    "name": "ipython",
    "version": 3
   },
   "file_extension": ".py",
   "mimetype": "text/x-python",
   "name": "python",
   "nbconvert_exporter": "python",
   "pygments_lexer": "ipython3",
   "version": "3.9.7"
  },
  "toc": {
   "base_numbering": 1,
   "nav_menu": {},
   "number_sections": true,
   "sideBar": true,
   "skip_h1_title": false,
   "title_cell": "Table of Contents",
   "title_sidebar": "Contents",
   "toc_cell": false,
   "toc_position": {},
   "toc_section_display": true,
   "toc_window_display": false
  }
 },
 "nbformat": 4,
 "nbformat_minor": 2
}
