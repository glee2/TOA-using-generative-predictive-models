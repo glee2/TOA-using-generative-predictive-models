{
 "cells": [
  {
   "cell_type": "code",
   "execution_count": 1,
   "metadata": {
    "ExecuteTime": {
     "end_time": "2023-02-15T04:52:41.169609Z",
     "start_time": "2023-02-15T04:51:00.326000Z"
    }
   },
   "outputs": [],
   "source": [
    "root_dir = '/home2/glee/dissertation/1_tech_gen_impact/class2class/Tech_Gen/'\n",
    "master_dir = '/home2/glee/dissertation/1_tech_gen_impact/master/Tech_Gen/'\n",
    "import sys\n",
    "sys.path.append(root_dir)\n",
    "\n",
    "import copy\n",
    "import gc\n",
    "import os\n",
    "import argparse\n",
    "import math\n",
    "import time\n",
    "import pickle\n",
    "import re\n",
    "import multiprocess as mp\n",
    "import warnings\n",
    "warnings.filterwarnings(action='ignore', category=UserWarning)\n",
    "warnings.filterwarnings(action='ignore', category=DeprecationWarning)\n",
    "sys.path.append(\"/share/tml_package\")\n",
    "from tml import utils\n",
    "from scipy import io\n",
    "from tqdm import tqdm\n",
    "from collections import OrderedDict\n",
    "\n",
    "import torch\n",
    "from torch.nn import functional as F\n",
    "from torch.nn import DataParallel as DP\n",
    "from torch.utils.data import TensorDataset, DataLoader, Subset, Dataset\n",
    "from accelerate import Accelerator\n",
    "import pytorch_model_summary\n",
    "\n",
    "import optuna\n",
    "from optuna.samplers import RandomSampler, TPESampler\n",
    "from optuna.integration import SkoptSampler\n",
    "\n",
    "import numpy as np\n",
    "import pandas as pd\n",
    "import scipy.stats\n",
    "import sklearn\n",
    "from sklearn.preprocessing import MinMaxScaler\n",
    "from sklearn.metrics import matthews_corrcoef, precision_recall_fscore_support, confusion_matrix\n",
    "from sklearn.utils.class_weight import compute_class_weight\n",
    "\n",
    "from data import TechDataset, CVSampler\n",
    "from models import Transformer, Predictor\n",
    "from train_utils import EarlyStopping, perf_eval, objective_cv, build_model, train_model, validate_model_mp\n",
    "from utils import token2class, DotDict, to_device\n",
    "\n",
    "from cleantext.sklearn import CleanTransformer\n",
    "from nltk.corpus import stopwords\n",
    "from nltk.stem.porter import PorterStemmer\n",
    "\n",
    "os.environ[\"TOKENIZERS_PARALLELISM\"] = \"false\"\n",
    "os.environ[\"CUDA_LAUNCH_BLOCKING\"] = \"1\""
   ]
  },
  {
   "cell_type": "markdown",
   "metadata": {},
   "source": [
    "# PART 1: Configuration"
   ]
  },
  {
   "cell_type": "code",
   "execution_count": 14,
   "metadata": {
    "ExecuteTime": {
     "end_time": "2023-02-15T04:52:41.201542Z",
     "start_time": "2023-02-15T04:52:41.175879Z"
    }
   },
   "outputs": [],
   "source": [
    "analysis_date = \"2023-04-28_1241\"\n",
    "args = argparse.Namespace(\n",
    "#     data_type=\"class+claim\",\n",
    "#     data_file=None,\n",
    "#     target_ipc=None,\n",
    "#     pred_type=\"classification\",\n",
    "#     n_TC = 5,\n",
    "#     use_pretrained_tokenizer=False,\n",
    "#     do_train=None,\n",
    "    do_eval = True,\n",
    "#     do_tune=None,\n",
    "#     n_folds=None,\n",
    "#     batch_size=512,\n",
    "#     max_epochs=20,\n",
    "#     use_accelerator=None,\n",
    "    do_save=False,\n",
    "#     n_gpus=4,\n",
    "#     light=True,\n",
    "    config_file=os.path.join(root_dir, \"configs\", \"USED_configs\", \"[CONFIGS]\"+analysis_date+\".json\"),\n",
    "#     config_file=None,\n",
    "    eval_train_set=False)\n",
    "\n",
    "project_data_dir = os.path.join(master_dir, \"data\")\n",
    "data_dir = os.path.join(\"/home2/glee/patent_data/data/\")\n",
    "model_dir = os.path.join(root_dir, \"models\")\n",
    "result_dir = os.path.join(root_dir, \"results\")\n",
    "config_dir = os.path.join(root_dir, \"configs\")\n",
    "\n",
    "## parse configuration file\n",
    "# args = parser.parse_args()\n",
    "if args.config_file is not None:\n",
    "    config_file = args.config_file\n",
    "else:\n",
    "    config_file = os.path.join(config_dir, \"configs_light.json\") if args.light else os.path.join(config_dir, \"configs.json\")\n",
    "if args.do_eval: args.do_train = False\n",
    "configs = DotDict().load(config_file)\n",
    "org_config_keys = {key: list(configs[key].keys()) for key in configs.keys()}\n",
    "\n",
    "# parse command line arguments\n",
    "instant_configs = {key: value for (key, value) in vars(args).items() if value is not None} # if any argument passed when main.py executed\n",
    "instant_configs_for_update = {configkey: {key: value for (key,value) in instant_configs.items() if key in org_config_keys[configkey]} for configkey in org_config_keys.keys()}\n",
    "for key, value in configs.items():\n",
    "    value.update(instant_configs_for_update[key])\n",
    "\n",
    "## assign loss weights\n",
    "if configs.model.model_type == \"enc-pred-dec\":\n",
    "    configs.train.loss_weights[\"recon\"] = configs.train.loss_weights[\"recon\"] / sum(configs.train.loss_weights.values())\n",
    "    configs.train.loss_weights[\"y\"] = 1 - configs.train.loss_weights[\"recon\"]\n",
    "elif configs.model.model_type == \"enc-pred\":\n",
    "    configs.train.loss_weights = {\"recon\": 0, \"y\": 1}\n",
    "elif configs.model.model_type == \"enc-dec\":\n",
    "    configs.train.loss_weights = {\"recon\": 1, \"y\": 0}\n",
    "\n",
    "## assign devices\n",
    "if configs.train.use_accelerator:\n",
    "    accelerator = Accelerator()\n",
    "    device_ids = list(range(torch.cuda.device_count()))\n",
    "    device = accelerator.device\n",
    "    configs.train.update({\"accelerator\": accelerator})\n",
    "else:\n",
    "    if torch.cuda.is_available():\n",
    "        device_ids = list(range(torch.cuda.device_count()))\n",
    "        gpu_usages = [np.sum([float(usage.split(\"uses\")[-1].replace(\" \",\"\").replace(\"MB\",\"\")) for usage in torch.cuda.list_gpu_processes(id).split(\"GPU memory\") if not usage==\"\" and \"no processes are running\" not in usage]) for id in device_ids]\n",
    "        device_ids = np.argsort(gpu_usages)[:configs.train.n_gpus]\n",
    "        device_ids = list(map(lambda x: torch.device('cuda', x),list(device_ids)))\n",
    "        device = device_ids[0] # main device\n",
    "        torch.cuda.set_device(device)\n",
    "    else:\n",
    "        device = torch.device('cpu')\n",
    "        device_ids = []\n",
    "\n",
    "## extract configurations for dataset\n",
    "config_period = \"[\"+\"-\".join([str(year) for year in configs.data.target_period])+\"]\"\n",
    "config_ipcs = str(configs.data.target_ipc).replace(\"\\'\",\"\").replace(\" \",\"\")\n",
    "config_keywords = str(configs.data.target_keywords).replace(\"\\'\",\"\").replace(\" \",\"\")\n",
    "\n",
    "## update configurations\n",
    "configs.data.update({\"root_dir\": root_dir,\n",
    "                        \"data_dir\": data_dir,\n",
    "                        \"model_dir\": model_dir,\n",
    "                        \"result_dir\": result_dir,\n",
    "                        \"pretrained_enc\": configs.model.pretrained_enc,\n",
    "                        \"pretrained_dec\": configs.model.pretrained_dec,\n",
    "                        \"data_nrows\": None,\n",
    "                        \"data_file\": \"collection_\" + \"\".join([config_keywords, config_ipcs, config_period]) + \".csv\"})\n",
    "configs.train.update({\"device\": device,\n",
    "                        \"device_ids\": device_ids,\n",
    "                        \"root_dir\": root_dir,\n",
    "                        \"data_dir\": data_dir,\n",
    "                        \"model_dir\": model_dir,\n",
    "                        \"use_keywords\": configs.data.use_keywords,\n",
    "                        \"early_stop_patience\": int(0.3*configs.train.max_epochs)})\n",
    "configs.model.update({\"device\": device,\n",
    "                        \"device_ids\": device_ids,\n",
    "                        \"n_directions\": 2 if configs.model.bidirec else 1,\n",
    "                        \"use_accelerator\": configs.train.use_accelerator})\n",
    "\n",
    "## Set hyperparameters for model training (To be TUNED)\n",
    "if configs.train.do_train and configs.train.do_tune:\n",
    "    n_layers = configs.model.n_layers = None\n",
    "    d_embedding = configs.model.d_embedding = None\n",
    "    d_enc_hidden = configs.model.d_enc_hidden = None\n",
    "    d_pred_hidden = configs.model.d_pred_hidden = None\n",
    "    learning_rate = configs.train.learning_rate = None\n",
    "    batch_size = configs.train.batch_size = None\n",
    "    config_name = \"HPARAM_TUNING\"\n",
    "    final_model_path = None\n",
    "else:\n",
    "    n_layers = configs.model.n_layers\n",
    "    d_embedding = configs.model.d_embedding\n",
    "    d_enc_hidden = configs.model.d_enc_hidden\n",
    "    d_pred_hidden = configs.model.d_pred_hidden\n",
    "    d_latent = configs.model.d_latent\n",
    "\n",
    "    ## set filename for model\n",
    "    key_components = {\"data\": [\"ipc_level\", \"max_seq_len_class\", \"max_seq_len_claim\", \"vocab_size\"], \"model\": [\"n_layers\", \"d_hidden\", \"d_pred_hidden\", \"d_latent\", \"d_embedding\", \"d_ff\", \"n_head\", \"d_head\"], \"train\": [\"learning_rate\", \"batch_size\", \"max_epochs\"]}\n",
    "    model_config_name = \"\".join([config_keywords, config_ipcs, config_period]) + \"data\"\n",
    "    for key in [\"model\", \"train\"]:\n",
    "        for component in key_components[key]:\n",
    "            model_config_name += f\"[{str(configs[key][component])}]{component}\"\n",
    "    final_model_path = os.path.join(model_dir, f\"[MODEL]{model_config_name}.ckpt\")\n",
    "\n",
    "configs.train.update({\"model_config_name\": model_config_name, \"final_model_path\": final_model_path})\n"
   ]
  },
  {
   "cell_type": "markdown",
   "metadata": {},
   "source": [
    "# PART 2: Dataset setting"
   ]
  },
  {
   "cell_type": "code",
   "execution_count": 93,
   "metadata": {
    "ExecuteTime": {
     "end_time": "2023-02-15T04:53:55.403544Z",
     "start_time": "2023-02-15T04:52:41.241617Z"
    },
    "scrolled": true
   },
   "outputs": [
    {
     "name": "stdout",
     "output_type": "stream",
     "text": [
      "Load pickled dataset...\n",
      "Pickled dataset loaded\n",
      "10.859 sec elapsed for loading patents for class [['H01L', 'H10']]\n"
     ]
    }
   ],
   "source": [
    "''' PART 2: Dataset setting '''\n",
    "tstart = time.time()\n",
    "dataset_config_name = \"\".join([config_keywords, config_ipcs, config_period]) + \"data\"\n",
    "for component in key_components[\"data\"]:\n",
    "    dataset_config_name += f\"[{str(configs.data[component])}]{component}\"\n",
    "dataset_path = os.path.join(project_data_dir, \"pickled_dataset\", \"[DATASET]\"+dataset_config_name+\".pickle\")\n",
    "\n",
    "if os.path.exists(dataset_path) and args.do_save is False:\n",
    "    print(\"Load pickled dataset...\")\n",
    "    with open(dataset_path, \"rb\") as f:\n",
    "        tech_dataset = pickle.load(f)   # Load pickled dataset if dataset with same configuration already saved\n",
    "        if tech_dataset.pretrained_enc != configs.data.pretrained_enc or tech_dataset.pretrained_dec != configs.data.pretrained_dec:\n",
    "            tech_dataset.pretrained_enc = configs.data.pretrained_enc\n",
    "            tech_dataset.pretrained_dec = configs.data.pretrained_dec\n",
    "            tech_dataset.tokenizers = tech_dataset.get_tokenizers()\n",
    "        for tk in tech_dataset.tokenizers.values():\n",
    "            if \"vocab_size\" not in dir(tk):\n",
    "                tk.vocab_size = tk.get_vocab_size()\n",
    "        tech_dataset.use_keywords = configs.data.use_keywords\n",
    "        ## load saved rawdata\n",
    "        if tech_dataset.rawdata is None:\n",
    "            tech_dataset.rawdata = pd.read_csv(os.path.join(data_dir, configs.data.data_file), low_memory=False)\n",
    "    print(\"Pickled dataset loaded\")\n",
    "else:\n",
    "    print(\"Make dataset...\")\n",
    "    if args.debug:\n",
    "        configs.data.update({\"data_nrows\": 1000})\n",
    "        dataset_path += \".debug\"\n",
    "    tech_dataset = TechDataset(configs.data)\n",
    "    if not args.debug:\n",
    "        rawdata_for_save = copy.deepcopy(tech_dataset.rawdata)\n",
    "        with open(dataset_path, \"wb\") as f:\n",
    "            tech_dataset.rawdata = None\n",
    "            pickle.dump(tech_dataset, f)\n",
    "        tech_dataset.rawdata = rawdata_for_save\n",
    "tend = time.time()\n",
    "print(f\"{np.round(tend-tstart,4)} sec elapsed for loading patents for class [{configs.data.target_ipc}]\")\n",
    "\n",
    "configs.model.update({\"tokenizers\": tech_dataset.tokenizers,\n",
    "                    \"n_enc_seq_claim\": tech_dataset.max_seq_len_claim,\n",
    "                    \"n_dec_seq_claim\": tech_dataset.max_seq_len_claim,\n",
    "                    \"n_enc_seq_class\": tech_dataset.max_seq_len_class,\n",
    "                    \"n_dec_seq_class\": tech_dataset.max_seq_len_class,\n",
    "                    \"n_outputs\": 1 if configs.data.pred_type==\"regression\" else tech_dataset.n_outputs,\n",
    "                    \"i_padding\": tech_dataset.tokenizers[\"class_enc\"].pad_id})"
   ]
  },
  {
   "cell_type": "markdown",
   "metadata": {},
   "source": [
    "## Inference"
   ]
  },
  {
   "cell_type": "code",
   "execution_count": 94,
   "metadata": {
    "scrolled": true
   },
   "outputs": [
    {
     "data": {
      "text/plain": [
       "'/home2/glee/dissertation/1_tech_gen_impact/class2class/Tech_Gen/models/[MODEL][semiconductor,silicon,chip][H01L,H10][2007-2012]data[4]n_layers[64]d_hidden[8]d_pred_hidden[64]d_latent[256]d_embedding[16]d_ff[4]n_head[32]d_head[0.0005]learning_rate[256]batch_size[100]max_epochs.ckpt'"
      ]
     },
     "execution_count": 94,
     "metadata": {},
     "output_type": "execute_result"
    }
   ],
   "source": [
    "final_model_path"
   ]
  },
  {
   "cell_type": "code",
   "execution_count": 26,
   "metadata": {
    "scrolled": true
   },
   "outputs": [
    {
     "name": "stdout",
     "output_type": "stream",
     "text": [
      "Model successfully loaded\n"
     ]
    }
   ],
   "source": [
    "final_model = build_model(configs.model, tokenizers=tech_dataset.tokenizers)\n",
    "if os.path.exists(final_model_path):\n",
    "    best_states = torch.load(final_model_path)\n",
    "else:\n",
    "    raise Exception(\"Model need to be trained first\")\n",
    "converted_states = OrderedDict()\n",
    "for k, v in best_states.items():\n",
    "    if 'module' not in k:\n",
    "        k = 'module.'+k\n",
    "    else:\n",
    "        k = k.replace('features.module.', 'module.features.')\n",
    "    converted_states[k] = v\n",
    "final_model.load_state_dict(converted_states)\n",
    "\n",
    "del best_states\n",
    "del converted_states\n",
    "torch.cuda.empty_cache()\n",
    "print(\"Model successfully loaded\")"
   ]
  },
  {
   "cell_type": "code",
   "execution_count": null,
   "metadata": {},
   "outputs": [],
   "source": [
    "# # Copy predictor\n",
    "# temp_path = os.path.join(model_dir, \"temp\", \"temp.ckpt\")\n",
    "# predictor = Predictor(final_model.module.config).to(final_model.module.device)\n",
    "# torch.save(final_model.module.predictor.state_dict(), temp_path)\n",
    "# predictor.load_state_dict(torch.load(temp_path, map_location=final_model.module.device))"
   ]
  },
  {
   "cell_type": "code",
   "execution_count": 95,
   "metadata": {},
   "outputs": [],
   "source": [
    "result_path = os.path.join(root_dir, \"results\")\n",
    "\n",
    "used_train_data = pd.read_excel(os.path.join(result_path, \"[DATASET]\"+analysis_date+\".xlsx\"), sheet_name=\"TRAIN_dataset\")\n",
    "used_test_data = pd.read_excel(os.path.join(result_path, \"[DATASET]\"+analysis_date+\".xlsx\"), sheet_name=\"TEST_dataset\")\n",
    "used_train_index = tech_dataset.data.index.get_indexer(pd.Index(used_train_data[\"number\"]))\n",
    "used_test_index = tech_dataset.data.index.get_indexer(pd.Index(used_test_data[\"number\"]))"
   ]
  },
  {
   "cell_type": "code",
   "execution_count": 1922,
   "metadata": {},
   "outputs": [
    {
     "data": {
      "text/plain": [
       "array([29482,  4968, 20007, ...,  4173, 19288, 28920])"
      ]
     },
     "execution_count": 1922,
     "metadata": {},
     "output_type": "execute_result"
    }
   ],
   "source": [
    "tech_dataset.data.index.get_indexer(pd.Index(used_train_data[\"number\"]))"
   ]
  },
  {
   "cell_type": "code",
   "execution_count": 29,
   "metadata": {},
   "outputs": [],
   "source": [
    "from sklearn.manifold import TSNE\n",
    "from matplotlib import pyplot as plt"
   ]
  },
  {
   "cell_type": "code",
   "execution_count": 30,
   "metadata": {},
   "outputs": [],
   "source": [
    "batch_size = 16"
   ]
  },
  {
   "cell_type": "code",
   "execution_count": 96,
   "metadata": {},
   "outputs": [],
   "source": [
    "used_train_dataset = Subset(tech_dataset, used_train_index)\n",
    "train_loader = DataLoader(used_train_dataset, batch_size=batch_size, drop_last=True)"
   ]
  },
  {
   "cell_type": "code",
   "execution_count": 34,
   "metadata": {
    "scrolled": true
   },
   "outputs": [
    {
     "name": "stderr",
     "output_type": "stream",
     "text": [
      "100%|██████████| 2073/2073 [01:15<00:00, 27.36it/s]\n"
     ]
    }
   ],
   "source": [
    "zs, ys, preds = [], [], []\n",
    "newzs = []\n",
    "for batch_data in tqdm(train_loader):\n",
    "    batch_data = to_device(batch_data, final_model.module.device)\n",
    "    y = batch_data[\"targets\"].cpu().detach().numpy()\n",
    "    \n",
    "    enc_outputs, z, mu, logvar = final_model.module.encode(batch_data[\"text_inputs\"])\n",
    "    pred_outputs = final_model.module.predictor(z)\n",
    "    torch.cuda.empty_cache()\n",
    "\n",
    "    zs.append(z.cpu().detach().numpy())\n",
    "    ys.append(y)\n",
    "    preds.append(pred_outputs.argmax(1).cpu().detach().numpy())\n",
    "    \n",
    "    torch.cuda.empty_cache()\n",
    "                                                \n",
    "zs = np.concatenate(zs)\n",
    "ys = np.concatenate(ys)\n",
    "preds = np.concatenate(preds)"
   ]
  },
  {
   "cell_type": "code",
   "execution_count": null,
   "metadata": {},
   "outputs": [],
   "source": [
    "import datetime\n",
    "from nltk.translate.bleu_score import sentence_bleu\n",
    "col_years = [\"<1976\"] + np.arange(1976,2023).astype(str).tolist()\n",
    "latest_year = datetime.datetime.now().year - 1\n",
    "n_TC = configs.data.n_TC\n",
    "\n",
    "visualize = False"
   ]
  },
  {
   "cell_type": "code",
   "execution_count": null,
   "metadata": {},
   "outputs": [],
   "source": [
    "ref_config_period = \"[2012-2017]\"\n",
    "ref_data_file = \"collection_\" + \"\".join([config_keywords, config_ipcs, ref_config_period]) + \".csv\"\n",
    "ref_configs = copy.deepcopy(configs)\n",
    "ref_configs.data.update({\"target_period\": ref_config_period, \"data_file\": ref_data_file})\n",
    "ref_dataset = TechDataset(ref_configs.data)"
   ]
  },
  {
   "cell_type": "code",
   "execution_count": 1822,
   "metadata": {},
   "outputs": [
    {
     "data": {
      "text/plain": [
       "'collection_[semiconductor,silicon,chip][H01L,H10][2012-2017].csv'"
      ]
     },
     "execution_count": 1822,
     "metadata": {},
     "output_type": "execute_result"
    }
   ],
   "source": [
    "ref_data_file"
   ]
  },
  {
   "cell_type": "code",
   "execution_count": 1959,
   "metadata": {},
   "outputs": [],
   "source": [
    "pns = pd.read_csv(\"/home2/glee/patent_data/patent_ids/patent_ids_[semiconductor,silicon,chip][H01L,H10][2007-2012].csv\")"
   ]
  },
  {
   "cell_type": "code",
   "execution_count": 1963,
   "metadata": {},
   "outputs": [
    {
     "data": {
      "text/plain": [
       "0         8339038\n",
       "1         8338198\n",
       "2         8338824\n",
       "3         8338264\n",
       "4         8338252\n",
       "           ...   \n",
       "107405    7156088\n",
       "107406    7157372\n",
       "107407    7157314\n",
       "107408    7157767\n",
       "107409    7156602\n",
       "Name: publicationReferenceDocumentNumber, Length: 107410, dtype: object"
      ]
     },
     "execution_count": 1963,
     "metadata": {},
     "output_type": "execute_result"
    }
   ],
   "source": [
    "pns[\"publicationReferenceDocumentNumber\"].drop_duplicates()"
   ]
  },
  {
   "cell_type": "code",
   "execution_count": 1961,
   "metadata": {},
   "outputs": [
    {
     "data": {
      "text/html": [
       "<div>\n",
       "<style scoped>\n",
       "    .dataframe tbody tr th:only-of-type {\n",
       "        vertical-align: middle;\n",
       "    }\n",
       "\n",
       "    .dataframe tbody tr th {\n",
       "        vertical-align: top;\n",
       "    }\n",
       "\n",
       "    .dataframe thead th {\n",
       "        text-align: right;\n",
       "    }\n",
       "</style>\n",
       "<table border=\"1\" class=\"dataframe\">\n",
       "  <thead>\n",
       "    <tr style=\"text-align: right;\">\n",
       "      <th></th>\n",
       "      <th>Unnamed: 0</th>\n",
       "      <th>guid</th>\n",
       "      <th>publicationReferenceDocumentNumber</th>\n",
       "      <th>type</th>\n",
       "    </tr>\n",
       "  </thead>\n",
       "  <tbody>\n",
       "    <tr>\n",
       "      <th>45713</th>\n",
       "      <td>45713</td>\n",
       "      <td>US-7825118-B2</td>\n",
       "      <td>7825118</td>\n",
       "      <td>USPAT</td>\n",
       "    </tr>\n",
       "    <tr>\n",
       "      <th>153123</th>\n",
       "      <td>45713</td>\n",
       "      <td>US-7825118-B2</td>\n",
       "      <td>7825118</td>\n",
       "      <td>USPAT</td>\n",
       "    </tr>\n",
       "  </tbody>\n",
       "</table>\n",
       "</div>"
      ],
      "text/plain": [
       "        Unnamed: 0           guid publicationReferenceDocumentNumber   type\n",
       "45713        45713  US-7825118-B2                            7825118  USPAT\n",
       "153123       45713  US-7825118-B2                            7825118  USPAT"
      ]
     },
     "execution_count": 1961,
     "metadata": {},
     "output_type": "execute_result"
    }
   ],
   "source": [
    "pns[pns[\"publicationReferenceDocumentNumber\"]==\"7825118\"]"
   ]
  },
  {
   "cell_type": "code",
   "execution_count": 1962,
   "metadata": {},
   "outputs": [
    {
     "data": {
      "text/plain": [
       "True"
      ]
     },
     "execution_count": 1962,
     "metadata": {},
     "output_type": "execute_result"
    }
   ],
   "source": [
    "\"7825118\" in pns[\"publicationReferenceDocumentNumber\"].values"
   ]
  },
  {
   "cell_type": "code",
   "execution_count": 1824,
   "metadata": {
    "scrolled": true
   },
   "outputs": [
    {
     "name": "stderr",
     "output_type": "stream",
     "text": [
      "/home2/glee/.conda/envs/DL/lib/python3.9/site-packages/IPython/core/interactiveshell.py:3444: DtypeWarning: Columns (0,1) have mixed types.Specify dtype option on import or set low_memory=False.\n",
      "  exec(code_obj, self.user_global_ns, self.user_ns)\n"
     ]
    }
   ],
   "source": [
    "temp_data = pd.read_csv(\"/home2/glee/patent_data/data/collection_[semiconductor,silicon,chip][H01L,H10][2007-2012].csv\")"
   ]
  },
  {
   "cell_type": "code",
   "execution_count": 1827,
   "metadata": {
    "collapsed": true
   },
   "outputs": [
    {
     "data": {
      "text/plain": [
       "Unnamed: 0                                                    7825118\n",
       "granted_year                                                     2010\n",
       "granted_date                                               2010-11-02\n",
       "application_year                                                 2007\n",
       "application_date                                           2007-12-26\n",
       "                                          ...                        \n",
       "2020                                                                6\n",
       "2021                                                                2\n",
       "2022                                                                0\n",
       "claims_org          1. A compound having the structure of Formula ...\n",
       "n_claims                                                           11\n",
       "Name: 7825118, Length: 68, dtype: object"
      ]
     },
     "execution_count": 1827,
     "metadata": {},
     "output_type": "execute_result"
    }
   ],
   "source": [
    "temp_data.set_index(\"number\").loc[\"7825118\"]"
   ]
  },
  {
   "cell_type": "code",
   "execution_count": 283,
   "metadata": {},
   "outputs": [],
   "source": [
    "used_rawdata = tech_dataset.rawdata.set_index(\"number\")\n",
    "total_data = pd.concat([tech_dataset.data, ref_dataset.data], axis=0)"
   ]
  },
  {
   "cell_type": "code",
   "execution_count": 1819,
   "metadata": {
    "scrolled": true
   },
   "outputs": [
    {
     "data": {
      "text/plain": [
       "Unnamed: 0                                                    7825118\n",
       "granted_year                                                     2010\n",
       "granted_date                                               2010-11-02\n",
       "application_year                                                 2007\n",
       "application_date                                           2007-12-26\n",
       "                                          ...                        \n",
       "2020                                                                6\n",
       "2021                                                                2\n",
       "2022                                                                0\n",
       "claims_org          1. A compound having the structure of Formula ...\n",
       "n_claims                                                           11\n",
       "Name: 7825118, Length: 68, dtype: object"
      ]
     },
     "execution_count": 1819,
     "metadata": {},
     "output_type": "execute_result"
    }
   ],
   "source": [
    "used_rawdata.loc[\"7825118\"]"
   ]
  },
  {
   "cell_type": "code",
   "execution_count": 1285,
   "metadata": {
    "scrolled": true
   },
   "outputs": [
    {
     "data": {
      "text/plain": [
       "count    36865.000000\n",
       "mean         3.994141\n",
       "std         11.181469\n",
       "min          0.000000\n",
       "25%          0.000000\n",
       "50%          1.000000\n",
       "75%          4.000000\n",
       "max        873.000000\n",
       "Name: TC5, dtype: float64"
      ]
     },
     "execution_count": 1285,
     "metadata": {},
     "output_type": "execute_result"
    }
   ],
   "source": [
    "tech_dataset.data[\"TC5\"].describe()"
   ]
  },
  {
   "cell_type": "code",
   "execution_count": null,
   "metadata": {},
   "outputs": [],
   "source": [
    "used_test_data"
   ]
  },
  {
   "cell_type": "code",
   "execution_count": 1287,
   "metadata": {
    "scrolled": true
   },
   "outputs": [
    {
     "data": {
      "text/plain": [
       "count    3687.000000\n",
       "mean        4.040955\n",
       "std        10.007144\n",
       "min         0.000000\n",
       "25%         0.000000\n",
       "50%         1.000000\n",
       "75%         4.000000\n",
       "max       217.000000\n",
       "Name: TC5, dtype: float64"
      ]
     },
     "execution_count": 1287,
     "metadata": {},
     "output_type": "execute_result"
    }
   ],
   "source": [
    "used_test_data[\"TC5\"].describe()"
   ]
  },
  {
   "cell_type": "code",
   "execution_count": 1878,
   "metadata": {},
   "outputs": [
    {
     "data": {
      "text/plain": [
       "number\n",
       "7645556                                     [G03F07, G03F07]\n",
       "7667240                     [H01L23, H01L23, H01L29, H01L33]\n",
       "8052797                                     [B08B03, B08B03]\n",
       "7308247                                     [H04M07, H04Q07]\n",
       "7332701    [H01L27, H01J40, H01L21, H01L23, H01L27, H01L3...\n",
       "                                 ...                        \n",
       "7625688                                     [G03F07, G03F07]\n",
       "7884412                                     [H01L29, H01L29]\n",
       "7982240                                     [H01L29, H01L29]\n",
       "7928540                                     [H01L21, H01L23]\n",
       "7435074                                     [C29C59, C03C17]\n",
       "Name: ipcs, Length: 36865, dtype: object"
      ]
     },
     "execution_count": 1878,
     "metadata": {},
     "output_type": "execute_result"
    }
   ],
   "source": [
    "tech_dataset.data[\"ipcs\"].apply(lambda x: 1 )"
   ]
  },
  {
   "cell_type": "code",
   "execution_count": 1880,
   "metadata": {
    "scrolled": true
   },
   "outputs": [
    {
     "data": {
      "text/html": [
       "<div>\n",
       "<style scoped>\n",
       "    .dataframe tbody tr th:only-of-type {\n",
       "        vertical-align: middle;\n",
       "    }\n",
       "\n",
       "    .dataframe tbody tr th {\n",
       "        vertical-align: top;\n",
       "    }\n",
       "\n",
       "    .dataframe thead th {\n",
       "        text-align: right;\n",
       "    }\n",
       "</style>\n",
       "<table border=\"1\" class=\"dataframe\">\n",
       "  <thead>\n",
       "    <tr style=\"text-align: right;\">\n",
       "      <th></th>\n",
       "      <th>Unnamed: 0</th>\n",
       "      <th>number</th>\n",
       "      <th>granted_year</th>\n",
       "      <th>granted_date</th>\n",
       "      <th>application_year</th>\n",
       "      <th>application_date</th>\n",
       "      <th>assignee</th>\n",
       "      <th>main_cpc</th>\n",
       "      <th>sub_cpc</th>\n",
       "      <th>main_ipc</th>\n",
       "      <th>...</th>\n",
       "      <th>2015</th>\n",
       "      <th>2016</th>\n",
       "      <th>2017</th>\n",
       "      <th>2018</th>\n",
       "      <th>2019</th>\n",
       "      <th>2020</th>\n",
       "      <th>2021</th>\n",
       "      <th>2022</th>\n",
       "      <th>claims_org</th>\n",
       "      <th>n_claims</th>\n",
       "    </tr>\n",
       "  </thead>\n",
       "  <tbody>\n",
       "    <tr>\n",
       "      <th>107037</th>\n",
       "      <td>7435074</td>\n",
       "      <td>7435074</td>\n",
       "      <td>2008</td>\n",
       "      <td>2008-10-14</td>\n",
       "      <td>2004</td>\n",
       "      <td>2004-03-13</td>\n",
       "      <td>International Business Machines Corporation</td>\n",
       "      <td>H01L21/76817;H01L21/76807;G03F7/0002;B82Y40/00...</td>\n",
       "      <td>Y10T428/16;Y10S425/81;Y10T428/24851;Y10T428/31...</td>\n",
       "      <td>C29C59/02</td>\n",
       "      <td>...</td>\n",
       "      <td>0</td>\n",
       "      <td>1</td>\n",
       "      <td>0</td>\n",
       "      <td>0</td>\n",
       "      <td>0</td>\n",
       "      <td>0</td>\n",
       "      <td>0</td>\n",
       "      <td>0</td>\n",
       "      <td>1. An imprint lithography mold comprising a mu...</td>\n",
       "      <td>10</td>\n",
       "    </tr>\n",
       "  </tbody>\n",
       "</table>\n",
       "<p>1 rows × 69 columns</p>\n",
       "</div>"
      ],
      "text/plain": [
       "       Unnamed: 0   number  granted_year granted_date  application_year  \\\n",
       "107037    7435074  7435074          2008   2008-10-14              2004   \n",
       "\n",
       "       application_date                                     assignee  \\\n",
       "107037       2004-03-13  International Business Machines Corporation   \n",
       "\n",
       "                                                 main_cpc  \\\n",
       "107037  H01L21/76817;H01L21/76807;G03F7/0002;B82Y40/00...   \n",
       "\n",
       "                                                  sub_cpc   main_ipc  ...  \\\n",
       "107037  Y10T428/16;Y10S425/81;Y10T428/24851;Y10T428/31...  C29C59/02  ...   \n",
       "\n",
       "       2015 2016 2017  2018 2019 2020 2021  2022  \\\n",
       "107037    0    1    0     0    0    0    0     0   \n",
       "\n",
       "                                               claims_org  n_claims  \n",
       "107037  1. An imprint lithography mold comprising a mu...        10  \n",
       "\n",
       "[1 rows x 69 columns]"
      ]
     },
     "execution_count": 1880,
     "metadata": {},
     "output_type": "execute_result"
    }
   ],
   "source": [
    "tech_dataset.rawdata[tech_dataset.rawdata[\"number\"]==\"7435074\"]"
   ]
  },
  {
   "cell_type": "code",
   "execution_count": 1877,
   "metadata": {},
   "outputs": [
    {
     "data": {
      "text/plain": [
       "array(['A01D90', 'A01H01', 'A01H04', ..., 'L23C16', 'N01N23', 'Z01L29'],\n",
       "      dtype='<U7')"
      ]
     },
     "execution_count": 1877,
     "metadata": {},
     "output_type": "execute_result"
    }
   ],
   "source": [
    "np.unique(np.concatenate(tech_dataset.data[\"ipcs\"].values))"
   ]
  },
  {
   "cell_type": "code",
   "execution_count": 1891,
   "metadata": {},
   "outputs": [],
   "source": [
    "def validate_reliability(idx=None):\n",
    "    cnt_nonexist = 0\n",
    "    cnt_noFC = 0\n",
    "    cnt_diverge = 0\n",
    "    cnt_same_ipcs = 0\n",
    "    \n",
    "    input_class = torch.tensor(tech_dataset.tokenizers[\"class_enc\"].encode(tech_dataset.X_class[used_test_index_TC][idx])).unsqueeze(0)\n",
    "    input_claim = tech_dataset.tokenize(tech_dataset.tokenizers[\"claim_enc\"], tech_dataset.X_claim[used_test_index_TC][idx])\n",
    "    input_claim = {k: v.unsqueeze(0) for k, v in input_claim.items()}\n",
    "    batch_input = {\"class\": torch.tensor(input_class), \"claim\": input_claim}\n",
    "    input_inf = to_device(batch_input, final_model.module.device)\n",
    "\n",
    "    output_class = torch.tensor(tech_dataset.tokenizers[\"class_dec\"].encode(tech_dataset.X_class[used_test_index_TC][idx])).unsqueeze(0)\n",
    "    batch_output = {\"text_outputs\": torch.tensor(output_class)}\n",
    "    output_inf = to_device(batch_output, final_model.module.device)\n",
    "\n",
    "    near_mean_idx = np.argsort(np.sum(abs(zs - np.mean(zs, axis=0)), axis=1))[:2500]\n",
    "    near_mean_idx_ = np.union1d(near_mean_idx, np.random.choice(np.where(ys==1)[0], 50))\n",
    "    enc_outputs, z, mu, logvar = final_model.module.encode(input_inf)\n",
    "    org_z = copy.deepcopy(z.view(1,-1).cpu().detach().numpy())\n",
    "    pred_outputs = final_model.module.predict(z)\n",
    "    org_y = copy.deepcopy(pred_outputs.argmax(1).cpu().detach().numpy())\n",
    "    dec_inputs = None\n",
    "\n",
    "    if used_test_data_TC.iloc[idx][\"TC5\"] > 0:\n",
    "        forward_refs = used_rawdata.loc[used_test_data_TC.iloc[idx][\"number\"]][\"forward_refs\"].split(\";\")\n",
    "        ref_info = total_data.loc[[ref for ref in forward_refs if ref in total_data.index]]\n",
    "        if len(ref_info) == 0:\n",
    "#             print(\"Dataset does not have information about citing patents\")\n",
    "            cnt_nonexist += 1\n",
    "            return (cnt_nonexist, cnt_noFC, cnt_diverge, cnt_same_ipcs), None\n",
    "        else:\n",
    "            ref_ipcs = ref_info[\"ipcs\"].apply(lambda x: set(x))\n",
    "            ref_FCs = ref_info[\"TC\"+str(n_TC)]\n",
    "\n",
    "            tokenizer = tech_dataset.tokenizers[\"class_dec\"]\n",
    "            \n",
    "            org_text = tokenizer.decode_batch(input_class.cpu().detach().numpy())[0]\n",
    "            org_text = org_text[org_text.index(tokenizer.sos_token)+1:org_text.index(tokenizer.eos_token)]\n",
    "            if set(org_text)==set(np.concatenate(ref_ipcs.apply(lambda x: list(x)).values)):\n",
    "                cnt_same_ipcs += 1\n",
    "#                 cnt_same_ipcs -= 1\n",
    "#                 return (cnt_nonexist, cnt_noFC, cnt_diverge, cnt_same_ipcs), None\n",
    "            \n",
    "            n_iter = 50\n",
    "            step_size = 30\n",
    "\n",
    "            inclusions = [None, None, None, None]\n",
    "            higher_impacts = [None, None, None, None]\n",
    "            similar_refs_out = [None, None, None, None]\n",
    "            unsimilar_refs_out = [None, None, None, None]\n",
    "            optimised = False\n",
    "            for i in range(n_iter):\n",
    "                pred_outputs = final_model.module.predict(z)\n",
    "                z.retain_grad()\n",
    "                FC_estimated = np.round(np.exp(pred_outputs[0,1].item()), 4) # estimated forward citations\n",
    "                \n",
    "                FC_estimated_inv = np.round(np.exp(pred_outputs[0,0].item()), 4)\n",
    "                pred_outputs[0,1].backward(retain_graph=True)\n",
    "\n",
    "                grad_for_update = (step_size * z.grad)\n",
    "                z_ = z + grad_for_update\n",
    "\n",
    "                z.grad.zero_()\n",
    "                dec_outputs = final_model.module.decode(z_, enc_outputs, dec_inputs=None)\n",
    "                dec_outputs = dec_outputs.argmax(-1)\n",
    "\n",
    "                tokenizer = tech_dataset.tokenizers[\"class_dec\"]\n",
    "                gen_text = tokenizer.decode_batch(dec_outputs.cpu().detach().numpy())[0]\n",
    "                gen_text = gen_text[gen_text.index(tokenizer.sos_token)+1:gen_text.index(tokenizer.eos_token)]\n",
    "                if gen_text != []:\n",
    "                    gen_text = [gen_text[0]] + list(np.array(gen_text[1:])[np.unique(gen_text[1:], return_index=True)[1]])                \n",
    "                    gen_text = set(gen_text)\n",
    "                else: continue\n",
    "                \n",
    "#                 if not np.array_equal(org_text, gen_text) and FC_estimated>=0.5:\n",
    "                if FC_estimated>=0.5:\n",
    "#                 if not np.array_equal(org_text, gen_text):\n",
    "#                 if set(org_text)!=set(gen_text) and FC_estimated>=0.5:\n",
    "                    optimised = True\n",
    "#                     print(f\"<< Iteration {i+1} >>\")\n",
    "#                     print(f\"Estimated prob. for L1 (L2): {FC_estimated} ({FC_estimated_inv})\")\n",
    "#                     print(\"Original class:\\n\",org_text,\"\\nGenerated class:\\n\", gen_text)\n",
    "    \n",
    "                    gen_text_breakdown = breakdown(gen_text)\n",
    "                    ref_ipcs_breakdown = (ref_ipcs.apply(lambda x: breakdown(x)[0]), ref_ipcs.apply(lambda x: breakdown(x)[1]), ref_ipcs.apply(lambda x: breakdown(x)[2]), ref_ipcs)\n",
    "            \n",
    "                    for i in range(4):\n",
    "                        if inclusions[i] is not None: continue\n",
    "                        temp_gen_text = gen_text_breakdown[i]\n",
    "                        temp_ref_ipcs = ref_ipcs_breakdown[i]\n",
    "                    \n",
    "                        hit_index = temp_ref_ipcs.apply(lambda x: 1 if set(x)==set(temp_gen_text) else 0)==1\n",
    "                        similar_refs = temp_ref_ipcs[hit_index].index\n",
    "                        similar_refs_out[i] = similar_refs\n",
    "                        unsimilar_refs = temp_ref_ipcs[~hit_index].index\n",
    "                        unsimilar_refs_out[i] = unsimilar_refs\n",
    "                        if len(similar_refs) == 0:\n",
    "                            inclusions[i] = 0\n",
    "                            higher_impacts[i] = None\n",
    "#                             print(\"Generated IPCs are not in citing patents' IPCs\")\n",
    "                        elif len(unsimilar_refs) == 0:\n",
    "                            inclusions[i] = 1\n",
    "                            similar_mean_FC = np.mean(ref_FCs.loc[similar_refs])\n",
    "                            if similar_mean_FC <= 0:\n",
    "                                higher_impacts[i] = 0\n",
    "                            else:\n",
    "                                higher_impacts[i] = 1\n",
    "#                             print(f\"similar patents' FCs: {np.round(similar_mean_FC, 4)}, no unsimilar patent\")\n",
    "                        else:\n",
    "                            inclusions[i] = 1\n",
    "                            similar_mean_FC = np.mean(ref_FCs.loc[similar_refs])\n",
    "                            unsimilar_mean_FC = np.mean(ref_FCs.loc[unsimilar_refs])\n",
    "                            if similar_mean_FC >= unsimilar_mean_FC:\n",
    "                                if similar_mean_FC <= 0:\n",
    "                                    higher_impacts[i] = None\n",
    "                                else:\n",
    "                                    higher_impacts[i] = 1\n",
    "                            else:\n",
    "                                higher_impacts[i] = 0\n",
    "#                             print(f\"similar patents' FCs: {np.round(similar_mean_FC, 4)}, unsimilar patents' FCs: {np.round(unsimilar_mean_FC, 4)}\")\n",
    "#                         if higher_impact==1:\n",
    "#                             print(f\"Generated IPCs have higher impact\")\n",
    "                    if None not in inclusions:\n",
    "                        break\n",
    "                z = z_\n",
    "            if optimised:\n",
    "                return (cnt_nonexist, cnt_noFC, cnt_diverge, cnt_same_ipcs), {\"index\": idx, \"patent_id\": used_test_data_TC.iloc[idx][\"number\"], \n",
    "                         \"org_text\": org_text, \"gen_text\": gen_text, \"ref_ipcs\": ref_ipcs, \"ref_FCs\": ref_FCs,\n",
    "                         \"inclusions\": inclusions, \"higher_impacts\": higher_impacts, \n",
    "                         \"FC_estimated\": FC_estimated,\n",
    "                         \"similar_refs\": similar_refs_out, \"unsimilar_refs\": unsimilar_refs_out}\n",
    "            else:\n",
    "                cnt_diverge += 1\n",
    "                return (cnt_nonexist, cnt_noFC, cnt_diverge, cnt_same_ipcs), None\n",
    "    else:\n",
    "        pass\n",
    "#         print(\"Input patent does not have forward citation\")\n",
    "        cnt_noFC += 1\n",
    "        return (cnt_nonexist, cnt_noFC, cnt_diverge, cnt_same_ipcs), None"
   ]
  },
  {
   "cell_type": "code",
   "execution_count": 1893,
   "metadata": {
    "scrolled": false
   },
   "outputs": [
    {
     "name": "stderr",
     "output_type": "stream",
     "text": [
      "100%|██████████| 2495/2495 [19:41<00:00,  2.11it/s]\n"
     ]
    }
   ],
   "source": [
    "cnt_nonexist, cnt_noFC, cnt_diverge, cnt_same_ipcs = 0, 0, 0, 0\n",
    "dict_out = {\"index\": [], \"patent_id\": [], \"org_text\": [], \"gen_text\": [], \"ref_ipcs\": [], \"ref_FCs\": [],\n",
    "            \"inclusions\": [], \"higher_impacts\": [], \"FC_estimated\": [], \"similar_refs\": [], \"unsimilar_refs\": []}\n",
    "for idx in tqdm(range(len(used_test_index_TC))):\n",
    "# for idx in tqdm(range(100)):\n",
    "    cnts, results = validate_reliability(idx)\n",
    "    cnt_nonexist += cnts[0]\n",
    "    cnt_noFC += cnts[1]\n",
    "    cnt_diverge += cnts[2]\n",
    "    cnt_same_ipcs += cnts[3]\n",
    "    \n",
    "    if results is not None:\n",
    "        for k,v in results.items():\n",
    "#             if v is not None:\n",
    "            dict_out[k].append(v)\n",
    "    \n",
    "for k, v in dict_out.items():\n",
    "    dict_out[k] = np.array(v)"
   ]
  },
  {
   "cell_type": "code",
   "execution_count": 1279,
   "metadata": {},
   "outputs": [],
   "source": [
    "def breakdown(ipcs):\n",
    "    return ([ipc[0] for ipc in ipcs], [ipc[:3] for ipc in ipcs], [ipc[:4] for ipc in ipcs], ipcs)"
   ]
  },
  {
   "cell_type": "code",
   "execution_count": 1894,
   "metadata": {
    "scrolled": false
   },
   "outputs": [
    {
     "name": "stdout",
     "output_type": "stream",
     "text": [
      "#total: 2495\n",
      "#valid data: 1388\n",
      "#nonexist data: 589\n",
      "#no forward citations: 0\n",
      "#diverged: 518\n",
      "#same ipcs: 102\n",
      "\n",
      "\n",
      "for level 1, Ratio generated IPCs are included in citing patents: 0.7082\n",
      "for level 1, Ratio generated IPCs have higher impact than other citing patents: 0.6427\n",
      "\n",
      "\n",
      "for level 2, Ratio generated IPCs are included in citing patents: 0.5692\n",
      "for level 2, Ratio generated IPCs have higher impact than other citing patents: 0.6429\n",
      "\n",
      "\n",
      "for level 3, Ratio generated IPCs are included in citing patents: 0.5115\n",
      "for level 3, Ratio generated IPCs have higher impact than other citing patents: 0.6571\n",
      "\n",
      "\n",
      "for level 4, Ratio generated IPCs are included in citing patents: 0.1873\n",
      "for level 4, Ratio generated IPCs have higher impact than other citing patents: 0.5278\n",
      "\n",
      "\n"
     ]
    }
   ],
   "source": [
    "print(\"#total:\",idx+1)\n",
    "print(\"#valid data:\",len(dict_out[\"index\"]))\n",
    "print(\"#nonexist data:\",cnt_nonexist)\n",
    "print(\"#no forward citations:\",cnt_noFC)\n",
    "print(\"#diverged:\",cnt_diverge)\n",
    "print(\"#same ipcs:\",cnt_same_ipcs)\n",
    "print(\"\\n\")\n",
    "for i in range(4):\n",
    "    inclusions = np.array(dict_out[\"inclusions\"])[:,i]\n",
    "    ratio_included = np.round(len(inclusions[inclusions==1])/len(inclusions), 4)\n",
    "    higher_impacts = np.array(dict_out[\"higher_impacts\"])[:,i][np.array(dict_out[\"higher_impacts\"])[:,i] != None]\n",
    "    ratio_higher_impact = np.round(len(higher_impacts[higher_impacts==1])/len(higher_impacts), 4)\n",
    "    print(f\"for level {i+1}, Ratio generated IPCs are included in citing patents: {ratio_included}\")\n",
    "    print(f\"for level {i+1}, Ratio generated IPCs have higher impact than other citing patents: {ratio_higher_impact}\")\n",
    "    print(\"\\n\")"
   ]
  },
  {
   "cell_type": "code",
   "execution_count": 1923,
   "metadata": {},
   "outputs": [],
   "source": [
    "os.mkdir(\"../results/validation\")"
   ]
  },
  {
   "cell_type": "code",
   "execution_count": 1924,
   "metadata": {},
   "outputs": [
    {
     "data": {
      "text/plain": [
       "'2023-04-28_1241'"
      ]
     },
     "execution_count": 1924,
     "metadata": {},
     "output_type": "execute_result"
    }
   ],
   "source": [
    "analysis_date"
   ]
  },
  {
   "cell_type": "code",
   "execution_count": 1925,
   "metadata": {},
   "outputs": [],
   "source": [
    "os.mkdir(\"../results/validation/\"+analysis_date)"
   ]
  },
  {
   "cell_type": "code",
   "execution_count": 1928,
   "metadata": {},
   "outputs": [],
   "source": [
    "with open(\"../results/validation/\"+analysis_date+\"/dict_out.pickle\", \"wb\") as f:\n",
    "    pickle.dump(dict_out, f)\n",
    "with open(\"../results/validation/\"+analysis_date+\"/df_val.pickle\", \"wb\") as f:\n",
    "    pickle.dump(df_val, f)"
   ]
  },
  {
   "cell_type": "code",
   "execution_count": 1895,
   "metadata": {},
   "outputs": [],
   "source": [
    "temp_inclusions = np.array(dict_out[\"inclusions\"])[np.array(dict_out[\"inclusions\"])[:,-1]==0]"
   ]
  },
  {
   "cell_type": "code",
   "execution_count": 1896,
   "metadata": {},
   "outputs": [
    {
     "data": {
      "text/plain": [
       "(1128, 4)"
      ]
     },
     "execution_count": 1896,
     "metadata": {},
     "output_type": "execute_result"
    }
   ],
   "source": [
    "temp_inclusions.shape"
   ]
  },
  {
   "cell_type": "code",
   "execution_count": 1897,
   "metadata": {
    "scrolled": true
   },
   "outputs": [
    {
     "data": {
      "text/plain": [
       "(1128,)"
      ]
     },
     "execution_count": 1897,
     "metadata": {},
     "output_type": "execute_result"
    }
   ],
   "source": [
    "temp_inclusions[:,-1][temp_inclusions[:,-1]==0].shape"
   ]
  },
  {
   "cell_type": "code",
   "execution_count": 1296,
   "metadata": {},
   "outputs": [],
   "source": [
    "# for i in range(3):\n",
    "#     temp_inclusions = np.array(dict_out[\"inclusions\"])[np.array(dict_out[\"inclusions\"])[:,i]==1]\n",
    "#     temp_ratio = len(temp_inclusions[:,-1][temp_inclusions[:,-1]==0]) / len(temp_inclusions[:,-1])\n",
    "#     print(f\"for level {i+1}, Hit ratio when level 4 is not hit: {np.round(temp_ratio,4)}\")"
   ]
  },
  {
   "cell_type": "code",
   "execution_count": 1898,
   "metadata": {
    "scrolled": true
   },
   "outputs": [
    {
     "name": "stdout",
     "output_type": "stream",
     "text": [
      "for level 1, Hit ratio when level 4 is not hit: 0.359\n",
      "for level 2, Hit ratio when level 4 is not hit: 0.5301\n",
      "for level 3, Hit ratio when level 4 is not hit: 0.6011\n"
     ]
    }
   ],
   "source": [
    "temp_inclusions = np.array(dict_out[\"inclusions\"])[np.array(dict_out[\"inclusions\"])[:,-1]==0]\n",
    "for i in range(3):\n",
    "    temp_ratio = len(temp_inclusions[temp_inclusions[:,i]==0]) / len(temp_inclusions)\n",
    "    print(f\"for level {i+1}, Hit ratio when level 4 is not hit: {np.round(temp_ratio,4)}\")"
   ]
  },
  {
   "cell_type": "code",
   "execution_count": 1899,
   "metadata": {
    "scrolled": false
   },
   "outputs": [
    {
     "name": "stderr",
     "output_type": "stream",
     "text": [
      "/home2/glee/.conda/envs/DL/lib/python3.9/site-packages/numpy/core/fromnumeric.py:3702: RuntimeWarning: Degrees of freedom <= 0 for slice\n",
      "  return _methods._var(a, axis=axis, dtype=dtype, out=out, ddof=ddof,\n",
      "/home2/glee/.conda/envs/DL/lib/python3.9/site-packages/numpy/core/_methods.py:253: RuntimeWarning: invalid value encountered in double_scalars\n",
      "  ret = ret.dtype.type(ret / rcount)\n"
     ]
    },
    {
     "name": "stdout",
     "output_type": "stream",
     "text": [
      "Distribution of forward citations (hit)\n",
      " count    544.000000\n",
      "mean       8.823529\n",
      "std       21.014818\n",
      "min        0.000000\n",
      "25%        0.000000\n",
      "50%        2.000000\n",
      "75%        7.000000\n",
      "max      148.000000\n",
      "dtype: float64 \n",
      "\n",
      "Distribution of forward citations (not hit)\n",
      " count    2192.000000\n",
      "mean       11.819799\n",
      "std        25.699345\n",
      "min         0.000000\n",
      "25%         0.000000\n",
      "50%         3.000000\n",
      "75%         9.000000\n",
      "max       274.000000\n",
      "dtype: float64 \n",
      "\n",
      "Distribution of mean forward citations (hit)\n",
      " count    260.000000\n",
      "mean       4.860274\n",
      "std       12.256476\n",
      "min        0.000000\n",
      "25%        0.000000\n",
      "50%        2.000000\n",
      "75%        5.000000\n",
      "max      140.000000\n",
      "dtype: float64 \n",
      "\n",
      "Distribution of mean forward citations (not hit)\n",
      " count    260.000000\n",
      "mean       5.720578\n",
      "std       17.558653\n",
      "min        0.000000\n",
      "25%        0.000000\n",
      "50%        2.000000\n",
      "75%        4.530405\n",
      "max      204.000000\n",
      "dtype: float64 \n",
      "\n",
      "Distribution of difference of forward citations\n",
      " count    260.000000\n",
      "mean      -0.860304\n",
      "std       18.913509\n",
      "min     -203.000000\n",
      "25%       -1.666667\n",
      "50%        0.000000\n",
      "75%        2.000000\n",
      "max      137.333333\n",
      "dtype: float64 \n",
      "\n"
     ]
    }
   ],
   "source": [
    "from scipy.stats import ttest_ind\n",
    "whole_patent_classes = tech_dataset.data[\"ipcs\"].apply(lambda x: set(x))\n",
    "\n",
    "hit_similar_FCs, hit_unsimilar_FCs, hit_diff_FCs = [], [], []\n",
    "hit_similar_FCs_mean, hit_unsimilar_FCs_mean = [], []\n",
    "hit_similar_FCs_rank = []\n",
    "whole_FC_ttest = {\"statistic\": [], \"pvalue\": []}\n",
    "whole_FCs_diff = []\n",
    "hit_samples_index = dict_out[\"inclusions\"][:,-1]==1\n",
    "\n",
    "hit_patent_ids = dict_out[\"patent_id\"][hit_samples_index]\n",
    "hit_similar_refs = dict_out[\"similar_refs\"][hit_samples_index][:,-1]\n",
    "hit_unsimilar_refs = dict_out[\"unsimilar_refs\"][hit_samples_index][:,-1]\n",
    "for i in range(len(hit_patent_ids)):\n",
    "    hit_FCs = dict_out[\"ref_FCs\"][hit_samples_index][i]\n",
    "    hit_FCs = hit_FCs.loc[~hit_FCs.index.duplicated(keep=\"first\")]\n",
    "    hit_similar_FC = hit_FCs.loc[hit_similar_refs[i].drop_duplicates()]\n",
    "#     hit_similar_FC = hit_similar_FC.drop_duplicates()\n",
    "    hit_similar_FC_rank = hit_FCs.rank(pct=True).loc[hit_similar_refs[i].drop_duplicates()]\n",
    "#     hit_similar_FC_rank = hit_similar_FC_rank.drop_duplicates()\n",
    "    hit_unsimilar_FC = hit_FCs.loc[hit_unsimilar_refs[i].drop_duplicates()]\n",
    "#     hit_unsimilar_FC = hit_unsimilar_FC.drop_duplicates()\n",
    "    if len(hit_unsimilar_FC)>0:\n",
    "        hit_diff_FC = hit_similar_FC.mean() - hit_unsimilar_FC.mean()\n",
    "    else:\n",
    "        hit_diff_FC = hit_similar_FC.mean()\n",
    "    \n",
    "    org_whole_FC = tech_dataset.data.loc[whole_patent_classes[whole_patent_classes==set(dict_out[\"org_text\"][hit_samples_index][i])].index][\"TC5\"]\n",
    "    gen_whole_FC = tech_dataset.data.loc[whole_patent_classes[whole_patent_classes==set(dict_out[\"gen_text\"][hit_samples_index][i])].index][\"TC5\"]\n",
    "    if len(org_whole_FC)>0:\n",
    "        whole_FC_diff = gen_whole_FC.mean() - org_whole_FC.mean()\n",
    "    else:\n",
    "        whole_FC_diff = gen_whole_FC.mean()\n",
    "    \n",
    "    hit_similar_FCs.append(hit_similar_FC)\n",
    "    hit_similar_FCs_rank.append(hit_similar_FC_rank)\n",
    "    hit_similar_FCs_mean.append(hit_similar_FC.mean())\n",
    "    hit_unsimilar_FCs.append(hit_unsimilar_FC)\n",
    "    if len(hit_unsimilar_FC)>0:\n",
    "        hit_unsimilar_FCs_mean.append(hit_unsimilar_FC.mean())\n",
    "    else:\n",
    "        hit_unsimilar_FCs_mean.append(0)\n",
    "    hit_diff_FCs.append(hit_diff_FC)\n",
    "    \n",
    "    ttest_res = ttest_ind(gen_whole_FC, org_whole_FC, equal_var=False)\n",
    "#     if set(dict_out[\"org_text\"][hit_samples_index][i]) != set(dict_out[\"gen_text\"][hit_samples_index][i]):\n",
    "#         print(org_whole_FC, gen_whole_FC)\n",
    "#         print(ttest_res)\n",
    "    \n",
    "    whole_FC_ttest[\"statistic\"].append(ttest_res.statistic)\n",
    "    whole_FC_ttest[\"pvalue\"].append(ttest_res.pvalue)\n",
    "    if set(dict_out[\"org_text\"][hit_samples_index][i]) != set(dict_out[\"gen_text\"][hit_samples_index][i]):\n",
    "        whole_FCs_diff.append(whole_FC_diff)\n",
    "    \n",
    "hit_similar_FCs = np.concatenate(hit_similar_FCs)\n",
    "hit_similar_FCs_rank = np.concatenate(hit_similar_FCs_rank)\n",
    "hit_similar_FCs_mean = np.array(hit_similar_FCs_mean)\n",
    "hit_unsimilar_FCs = np.concatenate(hit_unsimilar_FCs)\n",
    "hit_unsimilar_FCs_mean = np.array(hit_unsimilar_FCs_mean)\n",
    "hit_diff_FCs = np.array(hit_diff_FCs)\n",
    "\n",
    "print(\"Distribution of forward citations (hit)\\n\",pd.Series(hit_similar_FCs).describe(),\"\\n\")\n",
    "print(\"Distribution of forward citations (not hit)\\n\",pd.Series(hit_unsimilar_FCs).describe(),\"\\n\")\n",
    "print(\"Distribution of mean forward citations (hit)\\n\",pd.Series(hit_similar_FCs_mean).describe(),\"\\n\")\n",
    "print(\"Distribution of mean forward citations (not hit)\\n\",pd.Series(hit_unsimilar_FCs_mean).describe(),\"\\n\")\n",
    "print(\"Distribution of difference of forward citations\\n\",pd.Series(hit_diff_FCs).describe(),\"\\n\")"
   ]
  },
  {
   "cell_type": "code",
   "execution_count": 1913,
   "metadata": {},
   "outputs": [
    {
     "name": "stderr",
     "output_type": "stream",
     "text": [
      "100%|██████████| 260/260 [00:01<00:00, 193.34it/s]\n"
     ]
    }
   ],
   "source": [
    "cnt_same, cnt_diff = 0, 0\n",
    "ranks_same, ranks_diff = [], []\n",
    "value_same, value_diff = [], []\n",
    "org_patents_same, org_patents_diff = [], []\n",
    "cols_val = [\"patent_id\", \"org_ipcs\", \"org_FC\", \"gen_ipcs\", \"is_same\", \n",
    "            \"forward_ref\", \"ref_ipcs\", \"ref_FC\", \"ref_FC_rank\"]\n",
    "df_val = pd.DataFrame(columns=cols_val)\n",
    "hit_similar_refs = dict_out[\"similar_refs\"][hit_samples_index][:,-1]\n",
    "\n",
    "for i in tqdm(range(len(dict_out[\"ref_ipcs\"][hit_samples_index]))):\n",
    "    pid = dict_out[\"patent_id\"][hit_samples_index][i]\n",
    "    org_FC = tech_dataset.data.loc[pid][\"TC5\"]\n",
    "    orgs = set(dict_out[\"org_text\"][dict_out[\"inclusions\"][:,-1]==1][i])\n",
    "    gens = set(dict_out[\"gen_text\"][dict_out[\"inclusions\"][:,-1]==1][i])\n",
    "    is_same = 1 if orgs==gens or orgs.union(gens)==orgs else 0\n",
    "    hit_FCs = dict_out[\"ref_FCs\"][hit_samples_index][i]\n",
    "    hit_FCs = hit_FCs.loc[~hit_FCs.index.duplicated(keep=\"first\")]\n",
    "    hit_similar_FC = hit_FCs.loc[hit_similar_refs[i][hit_similar_refs[i].duplicated()]]\n",
    "#     hit_similar_FC = hit_similar_FC.drop_duplicates()\n",
    "    hit_similar_FC_rank = hit_FCs.rank(pct=True).loc[hit_similar_refs[i][hit_similar_refs[i].duplicated()]]\n",
    "#     hit_similar_FC_rank = hit_similar_FC_rank.drop_duplicates()\n",
    "    \n",
    "    for ref in hit_similar_refs[i].drop_duplicates():\n",
    "        ref_ipcs = dict_out[\"ref_ipcs\"][hit_samples_index][i].loc[ref]\n",
    "        if isinstance(ref_ipcs, pd.Series): ref_ipcs = ref_ipcs[0]\n",
    "        hit_similar_FC = hit_FCs.loc[ref]\n",
    "        if isinstance(hit_similar_FC, pd.Series): hit_similar_FC = hit_similar_FC[0]\n",
    "        hit_similar_FC_rank = hit_FCs.rank(pct=True).loc[ref]\n",
    "        if isinstance(hit_similar_FC_rank, pd.Series): hit_similar_FC_rank = hit_similar_FC_rank[0]\n",
    "        \n",
    "        df_container = pd.DataFrame([[pid, orgs, org_FC, gens, is_same, ref, ref_ipcs, hit_similar_FC, hit_similar_FC_rank]], columns=cols_val)\n",
    "        df_val = pd.concat([df_val, df_container])\n",
    "\n",
    "df_val = df_val.set_index(\"patent_id\")"
   ]
  },
  {
   "cell_type": "code",
   "execution_count": 1914,
   "metadata": {},
   "outputs": [
    {
     "data": {
      "text/html": [
       "<div>\n",
       "<style scoped>\n",
       "    .dataframe tbody tr th:only-of-type {\n",
       "        vertical-align: middle;\n",
       "    }\n",
       "\n",
       "    .dataframe tbody tr th {\n",
       "        vertical-align: top;\n",
       "    }\n",
       "\n",
       "    .dataframe thead th {\n",
       "        text-align: right;\n",
       "    }\n",
       "</style>\n",
       "<table border=\"1\" class=\"dataframe\">\n",
       "  <thead>\n",
       "    <tr style=\"text-align: right;\">\n",
       "      <th></th>\n",
       "      <th>org_ipcs</th>\n",
       "      <th>org_FC</th>\n",
       "      <th>gen_ipcs</th>\n",
       "      <th>is_same</th>\n",
       "      <th>forward_ref</th>\n",
       "      <th>ref_ipcs</th>\n",
       "      <th>ref_FC</th>\n",
       "      <th>ref_FC_rank</th>\n",
       "    </tr>\n",
       "    <tr>\n",
       "      <th>patent_id</th>\n",
       "      <th></th>\n",
       "      <th></th>\n",
       "      <th></th>\n",
       "      <th></th>\n",
       "      <th></th>\n",
       "      <th></th>\n",
       "      <th></th>\n",
       "      <th></th>\n",
       "    </tr>\n",
       "  </thead>\n",
       "  <tbody>\n",
       "    <tr>\n",
       "      <th>7560668</th>\n",
       "      <td>{C23C16, H05B03}</td>\n",
       "      <td>1</td>\n",
       "      <td>{C23C16, H05B03}</td>\n",
       "      <td>1</td>\n",
       "      <td>8193473</td>\n",
       "      <td>{C23C16, H05B03}</td>\n",
       "      <td>3</td>\n",
       "      <td>1.000000</td>\n",
       "    </tr>\n",
       "    <tr>\n",
       "      <th>7157735</th>\n",
       "      <td>{H01L29, H01L31}</td>\n",
       "      <td>3</td>\n",
       "      <td>{H01L29, H01L31}</td>\n",
       "      <td>1</td>\n",
       "      <td>7838882</td>\n",
       "      <td>{H01L29, H01L31}</td>\n",
       "      <td>2</td>\n",
       "      <td>0.750000</td>\n",
       "    </tr>\n",
       "    <tr>\n",
       "      <th>8133812</th>\n",
       "      <td>{H01L21}</td>\n",
       "      <td>3</td>\n",
       "      <td>{H01L21}</td>\n",
       "      <td>1</td>\n",
       "      <td>9054163</td>\n",
       "      <td>{H01L21}</td>\n",
       "      <td>2</td>\n",
       "      <td>1.000000</td>\n",
       "    </tr>\n",
       "    <tr>\n",
       "      <th>8133812</th>\n",
       "      <td>{H01L21}</td>\n",
       "      <td>3</td>\n",
       "      <td>{H01L21}</td>\n",
       "      <td>1</td>\n",
       "      <td>9324608</td>\n",
       "      <td>{H01L21}</td>\n",
       "      <td>1</td>\n",
       "      <td>0.500000</td>\n",
       "    </tr>\n",
       "    <tr>\n",
       "      <th>8063460</th>\n",
       "      <td>{G11C11, H01L29}</td>\n",
       "      <td>8</td>\n",
       "      <td>{G11C11, H01L29}</td>\n",
       "      <td>1</td>\n",
       "      <td>8198692</td>\n",
       "      <td>{G11C11, H01L29}</td>\n",
       "      <td>5</td>\n",
       "      <td>0.722222</td>\n",
       "    </tr>\n",
       "    <tr>\n",
       "      <th>...</th>\n",
       "      <td>...</td>\n",
       "      <td>...</td>\n",
       "      <td>...</td>\n",
       "      <td>...</td>\n",
       "      <td>...</td>\n",
       "      <td>...</td>\n",
       "      <td>...</td>\n",
       "      <td>...</td>\n",
       "    </tr>\n",
       "    <tr>\n",
       "      <th>8110869</th>\n",
       "      <td>{H01L29, H01L31}</td>\n",
       "      <td>24</td>\n",
       "      <td>{H01L29, H01L31}</td>\n",
       "      <td>1</td>\n",
       "      <td>8610202</td>\n",
       "      <td>{H01L29, H01L31}</td>\n",
       "      <td>0</td>\n",
       "      <td>0.178571</td>\n",
       "    </tr>\n",
       "    <tr>\n",
       "      <th>8110869</th>\n",
       "      <td>{H01L29, H01L31}</td>\n",
       "      <td>24</td>\n",
       "      <td>{H01L29, H01L31}</td>\n",
       "      <td>1</td>\n",
       "      <td>8748938</td>\n",
       "      <td>{H01L29, H01L31}</td>\n",
       "      <td>0</td>\n",
       "      <td>0.178571</td>\n",
       "    </tr>\n",
       "    <tr>\n",
       "      <th>7538391</th>\n",
       "      <td>{H01L21, H01L29}</td>\n",
       "      <td>7</td>\n",
       "      <td>{H01L29, H01L31}</td>\n",
       "      <td>0</td>\n",
       "      <td>7834403</td>\n",
       "      <td>{H01L29, H01L31}</td>\n",
       "      <td>4</td>\n",
       "      <td>0.863636</td>\n",
       "    </tr>\n",
       "    <tr>\n",
       "      <th>7989311</th>\n",
       "      <td>{H01L21}</td>\n",
       "      <td>1</td>\n",
       "      <td>{H01L21}</td>\n",
       "      <td>1</td>\n",
       "      <td>8470687</td>\n",
       "      <td>{H01L21}</td>\n",
       "      <td>0</td>\n",
       "      <td>1.000000</td>\n",
       "    </tr>\n",
       "    <tr>\n",
       "      <th>8124429</th>\n",
       "      <td>{H01L21, G01R31}</td>\n",
       "      <td>20</td>\n",
       "      <td>{G01R31, H01L21}</td>\n",
       "      <td>1</td>\n",
       "      <td>8853847</td>\n",
       "      <td>{G01R31, H01L21}</td>\n",
       "      <td>4</td>\n",
       "      <td>0.625000</td>\n",
       "    </tr>\n",
       "  </tbody>\n",
       "</table>\n",
       "<p>544 rows × 8 columns</p>\n",
       "</div>"
      ],
      "text/plain": [
       "                   org_ipcs org_FC          gen_ipcs is_same forward_ref  \\\n",
       "patent_id                                                                  \n",
       "7560668    {C23C16, H05B03}      1  {C23C16, H05B03}       1     8193473   \n",
       "7157735    {H01L29, H01L31}      3  {H01L29, H01L31}       1     7838882   \n",
       "8133812            {H01L21}      3          {H01L21}       1     9054163   \n",
       "8133812            {H01L21}      3          {H01L21}       1     9324608   \n",
       "8063460    {G11C11, H01L29}      8  {G11C11, H01L29}       1     8198692   \n",
       "...                     ...    ...               ...     ...         ...   \n",
       "8110869    {H01L29, H01L31}     24  {H01L29, H01L31}       1     8610202   \n",
       "8110869    {H01L29, H01L31}     24  {H01L29, H01L31}       1     8748938   \n",
       "7538391    {H01L21, H01L29}      7  {H01L29, H01L31}       0     7834403   \n",
       "7989311            {H01L21}      1          {H01L21}       1     8470687   \n",
       "8124429    {H01L21, G01R31}     20  {G01R31, H01L21}       1     8853847   \n",
       "\n",
       "                   ref_ipcs ref_FC  ref_FC_rank  \n",
       "patent_id                                        \n",
       "7560668    {C23C16, H05B03}      3     1.000000  \n",
       "7157735    {H01L29, H01L31}      2     0.750000  \n",
       "8133812            {H01L21}      2     1.000000  \n",
       "8133812            {H01L21}      1     0.500000  \n",
       "8063460    {G11C11, H01L29}      5     0.722222  \n",
       "...                     ...    ...          ...  \n",
       "8110869    {H01L29, H01L31}      0     0.178571  \n",
       "8110869    {H01L29, H01L31}      0     0.178571  \n",
       "7538391    {H01L29, H01L31}      4     0.863636  \n",
       "7989311            {H01L21}      0     1.000000  \n",
       "8124429    {G01R31, H01L21}      4     0.625000  \n",
       "\n",
       "[544 rows x 8 columns]"
      ]
     },
     "execution_count": 1914,
     "metadata": {},
     "output_type": "execute_result"
    }
   ],
   "source": [
    "df_val"
   ]
  },
  {
   "cell_type": "code",
   "execution_count": 1915,
   "metadata": {
    "scrolled": true
   },
   "outputs": [
    {
     "data": {
      "text/html": [
       "<div>\n",
       "<style scoped>\n",
       "    .dataframe tbody tr th:only-of-type {\n",
       "        vertical-align: middle;\n",
       "    }\n",
       "\n",
       "    .dataframe tbody tr th {\n",
       "        vertical-align: top;\n",
       "    }\n",
       "\n",
       "    .dataframe thead th {\n",
       "        text-align: right;\n",
       "    }\n",
       "</style>\n",
       "<table border=\"1\" class=\"dataframe\">\n",
       "  <thead>\n",
       "    <tr style=\"text-align: right;\">\n",
       "      <th></th>\n",
       "      <th>org_ipcs</th>\n",
       "      <th>org_FC</th>\n",
       "      <th>gen_ipcs</th>\n",
       "      <th>is_same</th>\n",
       "      <th>forward_ref</th>\n",
       "      <th>ref_ipcs</th>\n",
       "      <th>ref_FC</th>\n",
       "      <th>ref_FC_rank</th>\n",
       "    </tr>\n",
       "    <tr>\n",
       "      <th>patent_id</th>\n",
       "      <th></th>\n",
       "      <th></th>\n",
       "      <th></th>\n",
       "      <th></th>\n",
       "      <th></th>\n",
       "      <th></th>\n",
       "      <th></th>\n",
       "      <th></th>\n",
       "    </tr>\n",
       "  </thead>\n",
       "  <tbody>\n",
       "    <tr>\n",
       "      <th>7932515</th>\n",
       "      <td>{H01L39, G11C11, H03K19}</td>\n",
       "      <td>6</td>\n",
       "      <td>{H03K19, H01L25}</td>\n",
       "      <td>0</td>\n",
       "      <td>8063657</td>\n",
       "      <td>{H03K19, H01L25}</td>\n",
       "      <td>2</td>\n",
       "      <td>0.625000</td>\n",
       "    </tr>\n",
       "    <tr>\n",
       "      <th>8084308</th>\n",
       "      <td>{H01L21, H01L27}</td>\n",
       "      <td>14</td>\n",
       "      <td>{H01L21, H01L29, H01L27}</td>\n",
       "      <td>0</td>\n",
       "      <td>9704861</td>\n",
       "      <td>{H01L21, H01L29, H01L27}</td>\n",
       "      <td>0</td>\n",
       "      <td>0.095238</td>\n",
       "    </tr>\n",
       "    <tr>\n",
       "      <th>8084308</th>\n",
       "      <td>{H01L21, H01L27}</td>\n",
       "      <td>14</td>\n",
       "      <td>{H01L21, H01L29, H01L27}</td>\n",
       "      <td>0</td>\n",
       "      <td>9812524</td>\n",
       "      <td>{H01L21, H01L29, H01L27}</td>\n",
       "      <td>5</td>\n",
       "      <td>0.404762</td>\n",
       "    </tr>\n",
       "    <tr>\n",
       "      <th>8084308</th>\n",
       "      <td>{H01L21, H01L27}</td>\n",
       "      <td>14</td>\n",
       "      <td>{H01L21, H01L29, H01L27}</td>\n",
       "      <td>0</td>\n",
       "      <td>9012284</td>\n",
       "      <td>{H01L21, H01L29, H01L27}</td>\n",
       "      <td>23</td>\n",
       "      <td>0.809524</td>\n",
       "    </tr>\n",
       "    <tr>\n",
       "      <th>8084308</th>\n",
       "      <td>{H01L21, H01L27}</td>\n",
       "      <td>14</td>\n",
       "      <td>{H01L21, H01L29, H01L27}</td>\n",
       "      <td>0</td>\n",
       "      <td>9704863</td>\n",
       "      <td>{H01L21, H01L29, H01L27}</td>\n",
       "      <td>14</td>\n",
       "      <td>0.714286</td>\n",
       "    </tr>\n",
       "    <tr>\n",
       "      <th>8084308</th>\n",
       "      <td>{H01L21, H01L27}</td>\n",
       "      <td>14</td>\n",
       "      <td>{H01L21, H01L29, H01L27}</td>\n",
       "      <td>0</td>\n",
       "      <td>9343559</td>\n",
       "      <td>{H01L21, H01L29, H01L27}</td>\n",
       "      <td>18</td>\n",
       "      <td>0.761905</td>\n",
       "    </tr>\n",
       "    <tr>\n",
       "      <th>7176583</th>\n",
       "      <td>{H01L23}</td>\n",
       "      <td>14</td>\n",
       "      <td>{H01L29, H01L23}</td>\n",
       "      <td>0</td>\n",
       "      <td>7667335</td>\n",
       "      <td>{H01L29, H01L23}</td>\n",
       "      <td>8</td>\n",
       "      <td>1.000000</td>\n",
       "    </tr>\n",
       "    <tr>\n",
       "      <th>8253204</th>\n",
       "      <td>{H01L21, H01L29}</td>\n",
       "      <td>16</td>\n",
       "      <td>{H01L29, H01L31}</td>\n",
       "      <td>0</td>\n",
       "      <td>8735988</td>\n",
       "      <td>{H01L29, H01L31}</td>\n",
       "      <td>1</td>\n",
       "      <td>0.428571</td>\n",
       "    </tr>\n",
       "    <tr>\n",
       "      <th>8253204</th>\n",
       "      <td>{H01L21, H01L29}</td>\n",
       "      <td>16</td>\n",
       "      <td>{H01L29, H01L31}</td>\n",
       "      <td>0</td>\n",
       "      <td>8455952</td>\n",
       "      <td>{H01L29, H01L31}</td>\n",
       "      <td>8</td>\n",
       "      <td>0.857143</td>\n",
       "    </tr>\n",
       "    <tr>\n",
       "      <th>7799602</th>\n",
       "      <td>{H01L21}</td>\n",
       "      <td>33</td>\n",
       "      <td>{H01L21, H01L23}</td>\n",
       "      <td>0</td>\n",
       "      <td>8884424</td>\n",
       "      <td>{H01L21, H01L23}</td>\n",
       "      <td>8</td>\n",
       "      <td>0.642857</td>\n",
       "    </tr>\n",
       "    <tr>\n",
       "      <th>7799602</th>\n",
       "      <td>{H01L21}</td>\n",
       "      <td>33</td>\n",
       "      <td>{H01L21, H01L23}</td>\n",
       "      <td>0</td>\n",
       "      <td>8822268</td>\n",
       "      <td>{H01L21, H01L23}</td>\n",
       "      <td>16</td>\n",
       "      <td>0.821429</td>\n",
       "    </tr>\n",
       "    <tr>\n",
       "      <th>7799602</th>\n",
       "      <td>{H01L21}</td>\n",
       "      <td>33</td>\n",
       "      <td>{H01L21, H01L23}</td>\n",
       "      <td>0</td>\n",
       "      <td>9564346</td>\n",
       "      <td>{H01L21, H01L23}</td>\n",
       "      <td>1</td>\n",
       "      <td>0.250000</td>\n",
       "    </tr>\n",
       "    <tr>\n",
       "      <th>7799602</th>\n",
       "      <td>{H01L21}</td>\n",
       "      <td>33</td>\n",
       "      <td>{H01L21, H01L23}</td>\n",
       "      <td>0</td>\n",
       "      <td>8350367</td>\n",
       "      <td>{H01L21, H01L23}</td>\n",
       "      <td>12</td>\n",
       "      <td>0.732143</td>\n",
       "    </tr>\n",
       "    <tr>\n",
       "      <th>7799602</th>\n",
       "      <td>{H01L21}</td>\n",
       "      <td>33</td>\n",
       "      <td>{H01L21, H01L23}</td>\n",
       "      <td>0</td>\n",
       "      <td>8637963</td>\n",
       "      <td>{H01L21, H01L23}</td>\n",
       "      <td>1</td>\n",
       "      <td>0.250000</td>\n",
       "    </tr>\n",
       "    <tr>\n",
       "      <th>7893529</th>\n",
       "      <td>{H01L23}</td>\n",
       "      <td>12</td>\n",
       "      <td>{H01L29, H01L23}</td>\n",
       "      <td>0</td>\n",
       "      <td>8866309</td>\n",
       "      <td>{H01L29, H01L23}</td>\n",
       "      <td>2</td>\n",
       "      <td>0.727273</td>\n",
       "    </tr>\n",
       "    <tr>\n",
       "      <th>7754560</th>\n",
       "      <td>{H01L21, H01L29}</td>\n",
       "      <td>11</td>\n",
       "      <td>{H01L21, H01L27}</td>\n",
       "      <td>0</td>\n",
       "      <td>8981493</td>\n",
       "      <td>{H01L21, H01L27}</td>\n",
       "      <td>14</td>\n",
       "      <td>0.958333</td>\n",
       "    </tr>\n",
       "    <tr>\n",
       "      <th>7572692</th>\n",
       "      <td>{H01L21}</td>\n",
       "      <td>2</td>\n",
       "      <td>{H01L21, H01L27}</td>\n",
       "      <td>0</td>\n",
       "      <td>8481383</td>\n",
       "      <td>{H01L21, H01L27}</td>\n",
       "      <td>1</td>\n",
       "      <td>1.000000</td>\n",
       "    </tr>\n",
       "    <tr>\n",
       "      <th>7741228</th>\n",
       "      <td>{H01L21}</td>\n",
       "      <td>3</td>\n",
       "      <td>{H01L21, H01L23}</td>\n",
       "      <td>0</td>\n",
       "      <td>9406553</td>\n",
       "      <td>{H01L21, H01L23}</td>\n",
       "      <td>0</td>\n",
       "      <td>0.235294</td>\n",
       "    </tr>\n",
       "    <tr>\n",
       "      <th>7741228</th>\n",
       "      <td>{H01L21}</td>\n",
       "      <td>3</td>\n",
       "      <td>{H01L21, H01L23}</td>\n",
       "      <td>0</td>\n",
       "      <td>9711453</td>\n",
       "      <td>{H01L21, H01L23}</td>\n",
       "      <td>5</td>\n",
       "      <td>0.676471</td>\n",
       "    </tr>\n",
       "    <tr>\n",
       "      <th>7741228</th>\n",
       "      <td>{H01L21}</td>\n",
       "      <td>3</td>\n",
       "      <td>{H01L21, H01L23}</td>\n",
       "      <td>0</td>\n",
       "      <td>9305836</td>\n",
       "      <td>{H01L21, H01L23}</td>\n",
       "      <td>147</td>\n",
       "      <td>0.941176</td>\n",
       "    </tr>\n",
       "    <tr>\n",
       "      <th>7741228</th>\n",
       "      <td>{H01L21}</td>\n",
       "      <td>3</td>\n",
       "      <td>{H01L21, H01L23}</td>\n",
       "      <td>0</td>\n",
       "      <td>9520300</td>\n",
       "      <td>{H01L21, H01L23}</td>\n",
       "      <td>2</td>\n",
       "      <td>0.529412</td>\n",
       "    </tr>\n",
       "    <tr>\n",
       "      <th>7741228</th>\n",
       "      <td>{H01L21}</td>\n",
       "      <td>3</td>\n",
       "      <td>{H01L21, H01L23}</td>\n",
       "      <td>0</td>\n",
       "      <td>8994179</td>\n",
       "      <td>{H01L21, H01L23}</td>\n",
       "      <td>0</td>\n",
       "      <td>0.235294</td>\n",
       "    </tr>\n",
       "    <tr>\n",
       "      <th>7741228</th>\n",
       "      <td>{H01L21}</td>\n",
       "      <td>3</td>\n",
       "      <td>{H01L21, H01L23}</td>\n",
       "      <td>0</td>\n",
       "      <td>9337150</td>\n",
       "      <td>{H01L21, H01L23}</td>\n",
       "      <td>2</td>\n",
       "      <td>0.529412</td>\n",
       "    </tr>\n",
       "    <tr>\n",
       "      <th>7741228</th>\n",
       "      <td>{H01L21}</td>\n",
       "      <td>3</td>\n",
       "      <td>{H01L21, H01L23}</td>\n",
       "      <td>0</td>\n",
       "      <td>9558994</td>\n",
       "      <td>{H01L21, H01L23}</td>\n",
       "      <td>0</td>\n",
       "      <td>0.235294</td>\n",
       "    </tr>\n",
       "    <tr>\n",
       "      <th>7741228</th>\n",
       "      <td>{H01L21}</td>\n",
       "      <td>3</td>\n",
       "      <td>{H01L21, H01L23}</td>\n",
       "      <td>0</td>\n",
       "      <td>9312172</td>\n",
       "      <td>{H01L21, H01L23}</td>\n",
       "      <td>0</td>\n",
       "      <td>0.235294</td>\n",
       "    </tr>\n",
       "    <tr>\n",
       "      <th>7741228</th>\n",
       "      <td>{H01L21}</td>\n",
       "      <td>3</td>\n",
       "      <td>{H01L21, H01L23}</td>\n",
       "      <td>0</td>\n",
       "      <td>9449871</td>\n",
       "      <td>{H01L21, H01L23}</td>\n",
       "      <td>5</td>\n",
       "      <td>0.676471</td>\n",
       "    </tr>\n",
       "    <tr>\n",
       "      <th>7741228</th>\n",
       "      <td>{H01L21}</td>\n",
       "      <td>3</td>\n",
       "      <td>{H01L21, H01L23}</td>\n",
       "      <td>0</td>\n",
       "      <td>9741608</td>\n",
       "      <td>{H01L21, H01L23}</td>\n",
       "      <td>0</td>\n",
       "      <td>0.235294</td>\n",
       "    </tr>\n",
       "    <tr>\n",
       "      <th>7741228</th>\n",
       "      <td>{H01L21}</td>\n",
       "      <td>3</td>\n",
       "      <td>{H01L21, H01L23}</td>\n",
       "      <td>0</td>\n",
       "      <td>9281277</td>\n",
       "      <td>{H01L21, H01L23}</td>\n",
       "      <td>148</td>\n",
       "      <td>1.000000</td>\n",
       "    </tr>\n",
       "    <tr>\n",
       "      <th>7741228</th>\n",
       "      <td>{H01L21}</td>\n",
       "      <td>3</td>\n",
       "      <td>{H01L21, H01L23}</td>\n",
       "      <td>0</td>\n",
       "      <td>9263328</td>\n",
       "      <td>{H01L21, H01L23}</td>\n",
       "      <td>0</td>\n",
       "      <td>0.235294</td>\n",
       "    </tr>\n",
       "    <tr>\n",
       "      <th>7741228</th>\n",
       "      <td>{H01L21}</td>\n",
       "      <td>3</td>\n",
       "      <td>{H01L21, H01L23}</td>\n",
       "      <td>0</td>\n",
       "      <td>8779590</td>\n",
       "      <td>{H01L21, H01L23}</td>\n",
       "      <td>7</td>\n",
       "      <td>0.764706</td>\n",
       "    </tr>\n",
       "    <tr>\n",
       "      <th>7429536</th>\n",
       "      <td>{H01L21}</td>\n",
       "      <td>34</td>\n",
       "      <td>{H01L21, H01L27}</td>\n",
       "      <td>0</td>\n",
       "      <td>8980756</td>\n",
       "      <td>{H01L21, H01L27}</td>\n",
       "      <td>8</td>\n",
       "      <td>0.961538</td>\n",
       "    </tr>\n",
       "    <tr>\n",
       "      <th>7429536</th>\n",
       "      <td>{H01L21}</td>\n",
       "      <td>34</td>\n",
       "      <td>{H01L21, H01L27}</td>\n",
       "      <td>0</td>\n",
       "      <td>8865598</td>\n",
       "      <td>{H01L21, H01L27}</td>\n",
       "      <td>3</td>\n",
       "      <td>0.788462</td>\n",
       "    </tr>\n",
       "    <tr>\n",
       "      <th>7429536</th>\n",
       "      <td>{H01L21}</td>\n",
       "      <td>34</td>\n",
       "      <td>{H01L21, H01L27}</td>\n",
       "      <td>0</td>\n",
       "      <td>9117766</td>\n",
       "      <td>{H01L21, H01L27}</td>\n",
       "      <td>2</td>\n",
       "      <td>0.576923</td>\n",
       "    </tr>\n",
       "    <tr>\n",
       "      <th>7833846</th>\n",
       "      <td>{H01L21, H01L29}</td>\n",
       "      <td>7</td>\n",
       "      <td>{H01L21, H01L29, H01L27}</td>\n",
       "      <td>0</td>\n",
       "      <td>8877573</td>\n",
       "      <td>{H01L21, H01L29, H01L27}</td>\n",
       "      <td>0</td>\n",
       "      <td>0.333333</td>\n",
       "    </tr>\n",
       "    <tr>\n",
       "      <th>7952107</th>\n",
       "      <td>{H01L31, H01L27}</td>\n",
       "      <td>43</td>\n",
       "      <td>{H01L33, H01L27}</td>\n",
       "      <td>0</td>\n",
       "      <td>8785960</td>\n",
       "      <td>{H01L33, H01L27}</td>\n",
       "      <td>5</td>\n",
       "      <td>0.618421</td>\n",
       "    </tr>\n",
       "    <tr>\n",
       "      <th>7825520</th>\n",
       "      <td>{H01L23}</td>\n",
       "      <td>28</td>\n",
       "      <td>{H01L29, H01L23}</td>\n",
       "      <td>0</td>\n",
       "      <td>8633598</td>\n",
       "      <td>{H01L29, H01L23}</td>\n",
       "      <td>17</td>\n",
       "      <td>0.885714</td>\n",
       "    </tr>\n",
       "    <tr>\n",
       "      <th>7825520</th>\n",
       "      <td>{H01L23}</td>\n",
       "      <td>28</td>\n",
       "      <td>{H01L29, H01L23}</td>\n",
       "      <td>0</td>\n",
       "      <td>8890337</td>\n",
       "      <td>{H01L29, H01L23}</td>\n",
       "      <td>0</td>\n",
       "      <td>0.128571</td>\n",
       "    </tr>\n",
       "    <tr>\n",
       "      <th>7265952</th>\n",
       "      <td>{H02H03}</td>\n",
       "      <td>2</td>\n",
       "      <td>{H02H09, H02H03}</td>\n",
       "      <td>0</td>\n",
       "      <td>7564666</td>\n",
       "      <td>{H02H09, H02H03}</td>\n",
       "      <td>6</td>\n",
       "      <td>1.000000</td>\n",
       "    </tr>\n",
       "    <tr>\n",
       "      <th>7538391</th>\n",
       "      <td>{H01L21, H01L29}</td>\n",
       "      <td>7</td>\n",
       "      <td>{H01L29, H01L31}</td>\n",
       "      <td>0</td>\n",
       "      <td>7834403</td>\n",
       "      <td>{H01L29, H01L31}</td>\n",
       "      <td>4</td>\n",
       "      <td>0.863636</td>\n",
       "    </tr>\n",
       "  </tbody>\n",
       "</table>\n",
       "</div>"
      ],
      "text/plain": [
       "                           org_ipcs org_FC                  gen_ipcs is_same  \\\n",
       "patent_id                                                                      \n",
       "7932515    {H01L39, G11C11, H03K19}      6          {H03K19, H01L25}       0   \n",
       "8084308            {H01L21, H01L27}     14  {H01L21, H01L29, H01L27}       0   \n",
       "8084308            {H01L21, H01L27}     14  {H01L21, H01L29, H01L27}       0   \n",
       "8084308            {H01L21, H01L27}     14  {H01L21, H01L29, H01L27}       0   \n",
       "8084308            {H01L21, H01L27}     14  {H01L21, H01L29, H01L27}       0   \n",
       "8084308            {H01L21, H01L27}     14  {H01L21, H01L29, H01L27}       0   \n",
       "7176583                    {H01L23}     14          {H01L29, H01L23}       0   \n",
       "8253204            {H01L21, H01L29}     16          {H01L29, H01L31}       0   \n",
       "8253204            {H01L21, H01L29}     16          {H01L29, H01L31}       0   \n",
       "7799602                    {H01L21}     33          {H01L21, H01L23}       0   \n",
       "7799602                    {H01L21}     33          {H01L21, H01L23}       0   \n",
       "7799602                    {H01L21}     33          {H01L21, H01L23}       0   \n",
       "7799602                    {H01L21}     33          {H01L21, H01L23}       0   \n",
       "7799602                    {H01L21}     33          {H01L21, H01L23}       0   \n",
       "7893529                    {H01L23}     12          {H01L29, H01L23}       0   \n",
       "7754560            {H01L21, H01L29}     11          {H01L21, H01L27}       0   \n",
       "7572692                    {H01L21}      2          {H01L21, H01L27}       0   \n",
       "7741228                    {H01L21}      3          {H01L21, H01L23}       0   \n",
       "7741228                    {H01L21}      3          {H01L21, H01L23}       0   \n",
       "7741228                    {H01L21}      3          {H01L21, H01L23}       0   \n",
       "7741228                    {H01L21}      3          {H01L21, H01L23}       0   \n",
       "7741228                    {H01L21}      3          {H01L21, H01L23}       0   \n",
       "7741228                    {H01L21}      3          {H01L21, H01L23}       0   \n",
       "7741228                    {H01L21}      3          {H01L21, H01L23}       0   \n",
       "7741228                    {H01L21}      3          {H01L21, H01L23}       0   \n",
       "7741228                    {H01L21}      3          {H01L21, H01L23}       0   \n",
       "7741228                    {H01L21}      3          {H01L21, H01L23}       0   \n",
       "7741228                    {H01L21}      3          {H01L21, H01L23}       0   \n",
       "7741228                    {H01L21}      3          {H01L21, H01L23}       0   \n",
       "7741228                    {H01L21}      3          {H01L21, H01L23}       0   \n",
       "7429536                    {H01L21}     34          {H01L21, H01L27}       0   \n",
       "7429536                    {H01L21}     34          {H01L21, H01L27}       0   \n",
       "7429536                    {H01L21}     34          {H01L21, H01L27}       0   \n",
       "7833846            {H01L21, H01L29}      7  {H01L21, H01L29, H01L27}       0   \n",
       "7952107            {H01L31, H01L27}     43          {H01L33, H01L27}       0   \n",
       "7825520                    {H01L23}     28          {H01L29, H01L23}       0   \n",
       "7825520                    {H01L23}     28          {H01L29, H01L23}       0   \n",
       "7265952                    {H02H03}      2          {H02H09, H02H03}       0   \n",
       "7538391            {H01L21, H01L29}      7          {H01L29, H01L31}       0   \n",
       "\n",
       "          forward_ref                  ref_ipcs ref_FC  ref_FC_rank  \n",
       "patent_id                                                            \n",
       "7932515       8063657          {H03K19, H01L25}      2     0.625000  \n",
       "8084308       9704861  {H01L21, H01L29, H01L27}      0     0.095238  \n",
       "8084308       9812524  {H01L21, H01L29, H01L27}      5     0.404762  \n",
       "8084308       9012284  {H01L21, H01L29, H01L27}     23     0.809524  \n",
       "8084308       9704863  {H01L21, H01L29, H01L27}     14     0.714286  \n",
       "8084308       9343559  {H01L21, H01L29, H01L27}     18     0.761905  \n",
       "7176583       7667335          {H01L29, H01L23}      8     1.000000  \n",
       "8253204       8735988          {H01L29, H01L31}      1     0.428571  \n",
       "8253204       8455952          {H01L29, H01L31}      8     0.857143  \n",
       "7799602       8884424          {H01L21, H01L23}      8     0.642857  \n",
       "7799602       8822268          {H01L21, H01L23}     16     0.821429  \n",
       "7799602       9564346          {H01L21, H01L23}      1     0.250000  \n",
       "7799602       8350367          {H01L21, H01L23}     12     0.732143  \n",
       "7799602       8637963          {H01L21, H01L23}      1     0.250000  \n",
       "7893529       8866309          {H01L29, H01L23}      2     0.727273  \n",
       "7754560       8981493          {H01L21, H01L27}     14     0.958333  \n",
       "7572692       8481383          {H01L21, H01L27}      1     1.000000  \n",
       "7741228       9406553          {H01L21, H01L23}      0     0.235294  \n",
       "7741228       9711453          {H01L21, H01L23}      5     0.676471  \n",
       "7741228       9305836          {H01L21, H01L23}    147     0.941176  \n",
       "7741228       9520300          {H01L21, H01L23}      2     0.529412  \n",
       "7741228       8994179          {H01L21, H01L23}      0     0.235294  \n",
       "7741228       9337150          {H01L21, H01L23}      2     0.529412  \n",
       "7741228       9558994          {H01L21, H01L23}      0     0.235294  \n",
       "7741228       9312172          {H01L21, H01L23}      0     0.235294  \n",
       "7741228       9449871          {H01L21, H01L23}      5     0.676471  \n",
       "7741228       9741608          {H01L21, H01L23}      0     0.235294  \n",
       "7741228       9281277          {H01L21, H01L23}    148     1.000000  \n",
       "7741228       9263328          {H01L21, H01L23}      0     0.235294  \n",
       "7741228       8779590          {H01L21, H01L23}      7     0.764706  \n",
       "7429536       8980756          {H01L21, H01L27}      8     0.961538  \n",
       "7429536       8865598          {H01L21, H01L27}      3     0.788462  \n",
       "7429536       9117766          {H01L21, H01L27}      2     0.576923  \n",
       "7833846       8877573  {H01L21, H01L29, H01L27}      0     0.333333  \n",
       "7952107       8785960          {H01L33, H01L27}      5     0.618421  \n",
       "7825520       8633598          {H01L29, H01L23}     17     0.885714  \n",
       "7825520       8890337          {H01L29, H01L23}      0     0.128571  \n",
       "7265952       7564666          {H02H09, H02H03}      6     1.000000  \n",
       "7538391       7834403          {H01L29, H01L31}      4     0.863636  "
      ]
     },
     "execution_count": 1915,
     "metadata": {},
     "output_type": "execute_result"
    }
   ],
   "source": [
    "df_val[df_val[\"is_same\"]==0]"
   ]
  },
  {
   "cell_type": "code",
   "execution_count": 1916,
   "metadata": {},
   "outputs": [
    {
     "name": "stdout",
     "output_type": "stream",
     "text": [
      "total hit: 544\n",
      "diff: 39\n",
      "over L1 criterion: 9\n",
      "ratio: 0.23076923076923078\n"
     ]
    }
   ],
   "source": [
    "L1_criterion = tech_dataset.data[\"TC5\"].quantile(0.9)\n",
    "print(\"total hit:\", len(df_val))\n",
    "print(\"diff:\",len(df_val[df_val[\"is_same\"]==0]))\n",
    "print(\"over L1 criterion:\", len(df_val[df_val[\"is_same\"]==0][df_val[df_val[\"is_same\"]==0][\"ref_FC\"]>=L1_criterion]))\n",
    "print(\"ratio:\",len(df_val[df_val[\"is_same\"]==0][df_val[df_val[\"is_same\"]==0][\"ref_FC\"]>=L1_criterion]) / len(df_val[df_val[\"is_same\"]==0]))"
   ]
  },
  {
   "cell_type": "code",
   "execution_count": 1940,
   "metadata": {},
   "outputs": [
    {
     "data": {
      "text/plain": [
       "count     39.000000\n",
       "mean      12.692308\n",
       "std       32.303783\n",
       "min        0.000000\n",
       "25%        1.000000\n",
       "50%        4.000000\n",
       "75%        8.000000\n",
       "max      148.000000\n",
       "Name: ref_FC, dtype: float64"
      ]
     },
     "execution_count": 1940,
     "metadata": {},
     "output_type": "execute_result"
    }
   ],
   "source": [
    "df_val[df_val[\"is_same\"]==0][\"ref_FC\"].astype(int).describe()"
   ]
  },
  {
   "cell_type": "code",
   "execution_count": 1958,
   "metadata": {
    "scrolled": true
   },
   "outputs": [
    {
     "data": {
      "text/plain": [
       "count    39.000000\n",
       "mean      0.609346\n",
       "std       0.287529\n",
       "min       0.095238\n",
       "25%       0.291667\n",
       "50%       0.676471\n",
       "75%       0.839286\n",
       "max       1.000000\n",
       "Name: ref_FC_rank, dtype: float64"
      ]
     },
     "execution_count": 1958,
     "metadata": {},
     "output_type": "execute_result"
    }
   ],
   "source": [
    "df_val[df_val[\"is_same\"]==0][\"ref_FC_rank\"].astype(float).describe()"
   ]
  },
  {
   "cell_type": "code",
   "execution_count": 1917,
   "metadata": {
    "scrolled": true
   },
   "outputs": [
    {
     "data": {
      "text/html": [
       "<div>\n",
       "<style scoped>\n",
       "    .dataframe tbody tr th:only-of-type {\n",
       "        vertical-align: middle;\n",
       "    }\n",
       "\n",
       "    .dataframe tbody tr th {\n",
       "        vertical-align: top;\n",
       "    }\n",
       "\n",
       "    .dataframe thead th {\n",
       "        text-align: right;\n",
       "    }\n",
       "</style>\n",
       "<table border=\"1\" class=\"dataframe\">\n",
       "  <thead>\n",
       "    <tr style=\"text-align: right;\">\n",
       "      <th></th>\n",
       "      <th>org_ipcs</th>\n",
       "      <th>org_FC</th>\n",
       "      <th>gen_ipcs</th>\n",
       "      <th>is_same</th>\n",
       "      <th>forward_ref</th>\n",
       "      <th>ref_ipcs</th>\n",
       "      <th>ref_FC</th>\n",
       "      <th>ref_FC_rank</th>\n",
       "    </tr>\n",
       "    <tr>\n",
       "      <th>patent_id</th>\n",
       "      <th></th>\n",
       "      <th></th>\n",
       "      <th></th>\n",
       "      <th></th>\n",
       "      <th></th>\n",
       "      <th></th>\n",
       "      <th></th>\n",
       "      <th></th>\n",
       "    </tr>\n",
       "  </thead>\n",
       "  <tbody>\n",
       "    <tr>\n",
       "      <th>8084308</th>\n",
       "      <td>{H01L21, H01L27}</td>\n",
       "      <td>14</td>\n",
       "      <td>{H01L21, H01L29, H01L27}</td>\n",
       "      <td>0</td>\n",
       "      <td>9012284</td>\n",
       "      <td>{H01L21, H01L29, H01L27}</td>\n",
       "      <td>23</td>\n",
       "      <td>0.809524</td>\n",
       "    </tr>\n",
       "    <tr>\n",
       "      <th>8084308</th>\n",
       "      <td>{H01L21, H01L27}</td>\n",
       "      <td>14</td>\n",
       "      <td>{H01L21, H01L29, H01L27}</td>\n",
       "      <td>0</td>\n",
       "      <td>9704863</td>\n",
       "      <td>{H01L21, H01L29, H01L27}</td>\n",
       "      <td>14</td>\n",
       "      <td>0.714286</td>\n",
       "    </tr>\n",
       "    <tr>\n",
       "      <th>8084308</th>\n",
       "      <td>{H01L21, H01L27}</td>\n",
       "      <td>14</td>\n",
       "      <td>{H01L21, H01L29, H01L27}</td>\n",
       "      <td>0</td>\n",
       "      <td>9343559</td>\n",
       "      <td>{H01L21, H01L29, H01L27}</td>\n",
       "      <td>18</td>\n",
       "      <td>0.761905</td>\n",
       "    </tr>\n",
       "    <tr>\n",
       "      <th>7799602</th>\n",
       "      <td>{H01L21}</td>\n",
       "      <td>33</td>\n",
       "      <td>{H01L21, H01L23}</td>\n",
       "      <td>0</td>\n",
       "      <td>8822268</td>\n",
       "      <td>{H01L21, H01L23}</td>\n",
       "      <td>16</td>\n",
       "      <td>0.821429</td>\n",
       "    </tr>\n",
       "    <tr>\n",
       "      <th>7799602</th>\n",
       "      <td>{H01L21}</td>\n",
       "      <td>33</td>\n",
       "      <td>{H01L21, H01L23}</td>\n",
       "      <td>0</td>\n",
       "      <td>8350367</td>\n",
       "      <td>{H01L21, H01L23}</td>\n",
       "      <td>12</td>\n",
       "      <td>0.732143</td>\n",
       "    </tr>\n",
       "    <tr>\n",
       "      <th>7754560</th>\n",
       "      <td>{H01L21, H01L29}</td>\n",
       "      <td>11</td>\n",
       "      <td>{H01L21, H01L27}</td>\n",
       "      <td>0</td>\n",
       "      <td>8981493</td>\n",
       "      <td>{H01L21, H01L27}</td>\n",
       "      <td>14</td>\n",
       "      <td>0.958333</td>\n",
       "    </tr>\n",
       "    <tr>\n",
       "      <th>7741228</th>\n",
       "      <td>{H01L21}</td>\n",
       "      <td>3</td>\n",
       "      <td>{H01L21, H01L23}</td>\n",
       "      <td>0</td>\n",
       "      <td>9305836</td>\n",
       "      <td>{H01L21, H01L23}</td>\n",
       "      <td>147</td>\n",
       "      <td>0.941176</td>\n",
       "    </tr>\n",
       "    <tr>\n",
       "      <th>7741228</th>\n",
       "      <td>{H01L21}</td>\n",
       "      <td>3</td>\n",
       "      <td>{H01L21, H01L23}</td>\n",
       "      <td>0</td>\n",
       "      <td>9281277</td>\n",
       "      <td>{H01L21, H01L23}</td>\n",
       "      <td>148</td>\n",
       "      <td>1.000000</td>\n",
       "    </tr>\n",
       "    <tr>\n",
       "      <th>7825520</th>\n",
       "      <td>{H01L23}</td>\n",
       "      <td>28</td>\n",
       "      <td>{H01L29, H01L23}</td>\n",
       "      <td>0</td>\n",
       "      <td>8633598</td>\n",
       "      <td>{H01L29, H01L23}</td>\n",
       "      <td>17</td>\n",
       "      <td>0.885714</td>\n",
       "    </tr>\n",
       "  </tbody>\n",
       "</table>\n",
       "</div>"
      ],
      "text/plain": [
       "                   org_ipcs org_FC                  gen_ipcs is_same  \\\n",
       "patent_id                                                              \n",
       "8084308    {H01L21, H01L27}     14  {H01L21, H01L29, H01L27}       0   \n",
       "8084308    {H01L21, H01L27}     14  {H01L21, H01L29, H01L27}       0   \n",
       "8084308    {H01L21, H01L27}     14  {H01L21, H01L29, H01L27}       0   \n",
       "7799602            {H01L21}     33          {H01L21, H01L23}       0   \n",
       "7799602            {H01L21}     33          {H01L21, H01L23}       0   \n",
       "7754560    {H01L21, H01L29}     11          {H01L21, H01L27}       0   \n",
       "7741228            {H01L21}      3          {H01L21, H01L23}       0   \n",
       "7741228            {H01L21}      3          {H01L21, H01L23}       0   \n",
       "7825520            {H01L23}     28          {H01L29, H01L23}       0   \n",
       "\n",
       "          forward_ref                  ref_ipcs ref_FC  ref_FC_rank  \n",
       "patent_id                                                            \n",
       "8084308       9012284  {H01L21, H01L29, H01L27}     23     0.809524  \n",
       "8084308       9704863  {H01L21, H01L29, H01L27}     14     0.714286  \n",
       "8084308       9343559  {H01L21, H01L29, H01L27}     18     0.761905  \n",
       "7799602       8822268          {H01L21, H01L23}     16     0.821429  \n",
       "7799602       8350367          {H01L21, H01L23}     12     0.732143  \n",
       "7754560       8981493          {H01L21, H01L27}     14     0.958333  \n",
       "7741228       9305836          {H01L21, H01L23}    147     0.941176  \n",
       "7741228       9281277          {H01L21, H01L23}    148     1.000000  \n",
       "7825520       8633598          {H01L29, H01L23}     17     0.885714  "
      ]
     },
     "execution_count": 1917,
     "metadata": {},
     "output_type": "execute_result"
    }
   ],
   "source": [
    "## 인용 IPC 중 생성 IPC와 동일한 게 있으면서, 입력 IPC와 생성 IPC가 다르고, 피인용수가 전체 데이터셋의 L1 기준인 9 이상인 샘플\n",
    "df_val[df_val[\"is_same\"]==0][df_val[df_val[\"is_same\"]==0][\"ref_FC\"]>=L1_criterion]"
   ]
  },
  {
   "cell_type": "code",
   "execution_count": 1919,
   "metadata": {},
   "outputs": [
    {
     "data": {
      "text/html": [
       "<div>\n",
       "<style scoped>\n",
       "    .dataframe tbody tr th:only-of-type {\n",
       "        vertical-align: middle;\n",
       "    }\n",
       "\n",
       "    .dataframe tbody tr th {\n",
       "        vertical-align: top;\n",
       "    }\n",
       "\n",
       "    .dataframe thead th {\n",
       "        text-align: right;\n",
       "    }\n",
       "</style>\n",
       "<table border=\"1\" class=\"dataframe\">\n",
       "  <thead>\n",
       "    <tr style=\"text-align: right;\">\n",
       "      <th></th>\n",
       "      <th>org_ipcs</th>\n",
       "      <th>org_FC</th>\n",
       "      <th>gen_ipcs</th>\n",
       "      <th>is_same</th>\n",
       "      <th>forward_ref</th>\n",
       "      <th>ref_ipcs</th>\n",
       "      <th>ref_FC</th>\n",
       "      <th>ref_FC_rank</th>\n",
       "    </tr>\n",
       "    <tr>\n",
       "      <th>patent_id</th>\n",
       "      <th></th>\n",
       "      <th></th>\n",
       "      <th></th>\n",
       "      <th></th>\n",
       "      <th></th>\n",
       "      <th></th>\n",
       "      <th></th>\n",
       "      <th></th>\n",
       "    </tr>\n",
       "  </thead>\n",
       "  <tbody>\n",
       "    <tr>\n",
       "      <th>7741228</th>\n",
       "      <td>{H01L21}</td>\n",
       "      <td>3</td>\n",
       "      <td>{H01L21, H01L23}</td>\n",
       "      <td>0</td>\n",
       "      <td>9305836</td>\n",
       "      <td>{H01L21, H01L23}</td>\n",
       "      <td>147</td>\n",
       "      <td>0.941176</td>\n",
       "    </tr>\n",
       "    <tr>\n",
       "      <th>7741228</th>\n",
       "      <td>{H01L21}</td>\n",
       "      <td>3</td>\n",
       "      <td>{H01L21, H01L23}</td>\n",
       "      <td>0</td>\n",
       "      <td>9281277</td>\n",
       "      <td>{H01L21, H01L23}</td>\n",
       "      <td>148</td>\n",
       "      <td>1.000000</td>\n",
       "    </tr>\n",
       "  </tbody>\n",
       "</table>\n",
       "</div>"
      ],
      "text/plain": [
       "           org_ipcs org_FC          gen_ipcs is_same forward_ref  \\\n",
       "patent_id                                                          \n",
       "7741228    {H01L21}      3  {H01L21, H01L23}       0     9305836   \n",
       "7741228    {H01L21}      3  {H01L21, H01L23}       0     9281277   \n",
       "\n",
       "                   ref_ipcs ref_FC  ref_FC_rank  \n",
       "patent_id                                        \n",
       "7741228    {H01L21, H01L23}    147     0.941176  \n",
       "7741228    {H01L21, H01L23}    148     1.000000  "
      ]
     },
     "execution_count": 1919,
     "metadata": {},
     "output_type": "execute_result"
    }
   ],
   "source": [
    "df_val[df_val[\"is_same\"]==0][df_val[df_val[\"is_same\"]==0][\"ref_FC\"]>=L1_criterion].loc[\"7741228\"]"
   ]
  },
  {
   "cell_type": "code",
   "execution_count": 1454,
   "metadata": {},
   "outputs": [
    {
     "data": {
      "text/plain": [
       "['H01J01', 'H01J63']"
      ]
     },
     "execution_count": 1454,
     "metadata": {},
     "output_type": "execute_result"
    }
   ],
   "source": [
    "dict_out[\"org_text\"][hit_samples_index][0]"
   ]
  },
  {
   "cell_type": "code",
   "execution_count": 1448,
   "metadata": {},
   "outputs": [
    {
     "data": {
      "text/plain": [
       "array([False, False, False, ...,  True,  True,  True])"
      ]
     },
     "execution_count": 1448,
     "metadata": {},
     "output_type": "execute_result"
    }
   ],
   "source": [
    "hit_samples_index"
   ]
  },
  {
   "cell_type": "code",
   "execution_count": 1422,
   "metadata": {},
   "outputs": [],
   "source": [
    "org_whole_FCs = tech_dataset.data.loc[whole_patent_classes[whole_patent_classes==set(org_text)].index][\"TC5\"]"
   ]
  },
  {
   "cell_type": "code",
   "execution_count": 1423,
   "metadata": {},
   "outputs": [],
   "source": [
    "gen_whole_FCs = tech_dataset.data.loc[whole_patent_classes[whole_patent_classes==set(gen_text)].index][\"TC5\"]"
   ]
  },
  {
   "cell_type": "code",
   "execution_count": 1431,
   "metadata": {},
   "outputs": [
    {
     "data": {
      "text/plain": [
       "0.06053747911492685"
      ]
     },
     "execution_count": 1431,
     "metadata": {},
     "output_type": "execute_result"
    }
   ],
   "source": [
    "ttest_ind(gen_whole_FCs, org_whole_FCs, equal_var=False).pvalue"
   ]
  },
  {
   "cell_type": "code",
   "execution_count": 1943,
   "metadata": {},
   "outputs": [
    {
     "data": {
      "text/plain": [
       "(544,)"
      ]
     },
     "execution_count": 1943,
     "metadata": {},
     "output_type": "execute_result"
    }
   ],
   "source": [
    "hit_similar_FCs_rank"
   ]
  },
  {
   "cell_type": "code",
   "execution_count": null,
   "metadata": {},
   "outputs": [],
   "source": []
  },
  {
   "cell_type": "code",
   "execution_count": 1957,
   "metadata": {},
   "outputs": [
    {
     "data": {
      "text/plain": [
       "<AxesSubplot:>"
      ]
     },
     "execution_count": 1957,
     "metadata": {},
     "output_type": "execute_result"
    },
    {
     "data": {
      "image/png": "[encoded data removed]",
      "text/plain": [
       "<Figure size 432x288 with 1 Axes>"
      ]
     },
     "metadata": {
      "needs_background": "light"
     },
     "output_type": "display_data"
    }
   ],
   "source": [
    "df_val[df_val[\"is_same\"]==0][\"ref_FC_rank\"].astype(float).hist(bins=20)"
   ]
  },
  {
   "cell_type": "code",
   "execution_count": 1950,
   "metadata": {
    "scrolled": false
   },
   "outputs": [
    {
     "data": {
      "text/plain": [
       "array([[<AxesSubplot:title={'center':'0'}>]], dtype=object)"
      ]
     },
     "execution_count": 1950,
     "metadata": {},
     "output_type": "execute_result"
    },
    {
     "data": {
      "image/png": "[encoded data removed]",
      "text/plain": [
       "<Figure size 432x288 with 1 Axes>"
      ]
     },
     "metadata": {
      "needs_background": "light"
     },
     "output_type": "display_data"
    }
   ],
   "source": [
    "pd.DataFrame(hit_similar_FCs_rank).hist(bins=20)"
   ]
  },
  {
   "cell_type": "code",
   "execution_count": 1929,
   "metadata": {
    "scrolled": true
   },
   "outputs": [
    {
     "name": "stderr",
     "output_type": "stream",
     "text": [
      "  0%|          | 1/1388 [00:00<03:29,  6.63it/s]/home2/glee/.conda/envs/DL/lib/python3.9/site-packages/numpy/core/fromnumeric.py:3702: RuntimeWarning: Degrees of freedom <= 0 for slice\n",
      "  return _methods._var(a, axis=axis, dtype=dtype, out=out, ddof=ddof,\n",
      "/home2/glee/.conda/envs/DL/lib/python3.9/site-packages/numpy/core/_methods.py:253: RuntimeWarning: invalid value encountered in double_scalars\n",
      "  ret = ret.dtype.type(ret / rcount)\n",
      "100%|██████████| 1388/1388 [00:10<00:00, 136.00it/s]\n"
     ]
    }
   ],
   "source": [
    "from scipy.stats import ttest_ind\n",
    "whole_FC_ttest = {\"statistic\": [], \"pvalue\": []}\n",
    "whole_FCs_diff = []\n",
    "for i in tqdm(range(len(dict_out[\"patent_id\"]))):\n",
    "    org_whole_FC = tech_dataset.data.loc[whole_patent_classes[whole_patent_classes==set(dict_out[\"org_text\"][i])].index][\"TC5\"]\n",
    "    gen_whole_FC = tech_dataset.data.loc[whole_patent_classes[whole_patent_classes==set(dict_out[\"gen_text\"][i])].index][\"TC5\"]\n",
    "    \n",
    "#     print(org_whole_FC, gen_whole_FC)\n",
    "    \n",
    "    if len(org_whole_FC)>0 and len(gen_whole_FC)>0:\n",
    "        whole_FC_diff = gen_whole_FC.mean() - org_whole_FC.mean()\n",
    "    elif len(org_whole_FC)==0 and len(gen_whole_FC)>0:\n",
    "        whole_FC_diff = gen_whole_FC.mean()\n",
    "    elif len(org_whole_FC)>0 and len(gen_whole_FC)==0:\n",
    "        whole_FC_diff = org_whole_FC.mean()\n",
    "    else:\n",
    "        whole_FC_diff = 0.0\n",
    "    \n",
    "    ttest_res = ttest_ind(gen_whole_FC, org_whole_FC, equal_var=False)\n",
    "#     if set(dict_out[\"org_text\"][hit_samples_index][i]) != set(dict_out[\"gen_text\"][hit_samples_index][i]):\n",
    "#         print(org_whole_FC, gen_whole_FC)\n",
    "#         print(ttest_res)\n",
    "    if set(dict_out[\"org_text\"][i]) != set(dict_out[\"gen_text\"][i]):    \n",
    "        whole_FC_ttest[\"statistic\"].append(ttest_res.statistic)\n",
    "        whole_FC_ttest[\"pvalue\"].append(ttest_res.pvalue)\n",
    "        if set(dict_out[\"org_text\"][i]) != set(dict_out[\"gen_text\"][i]):\n",
    "            whole_FCs_diff.append(whole_FC_diff)"
   ]
  },
  {
   "cell_type": "code",
   "execution_count": 1930,
   "metadata": {},
   "outputs": [
    {
     "data": {
      "text/plain": [
       "count    648.000000\n",
       "mean       0.577142\n",
       "std       10.424391\n",
       "min     -122.181818\n",
       "25%       -1.167428\n",
       "50%        0.647623\n",
       "75%        3.000000\n",
       "max       68.000000\n",
       "dtype: float64"
      ]
     },
     "execution_count": 1930,
     "metadata": {},
     "output_type": "execute_result"
    }
   ],
   "source": [
    "pd.Series(whole_FCs_diff).describe()"
   ]
  },
  {
   "cell_type": "code",
   "execution_count": 1931,
   "metadata": {},
   "outputs": [
    {
     "data": {
      "text/plain": [
       "count    297.000000\n",
       "mean      -0.120131\n",
       "std        1.502801\n",
       "min       -4.850039\n",
       "25%       -0.988074\n",
       "50%       -0.051652\n",
       "75%        0.567902\n",
       "max        6.477019\n",
       "dtype: float64"
      ]
     },
     "execution_count": 1931,
     "metadata": {},
     "output_type": "execute_result"
    }
   ],
   "source": [
    "pd.Series(whole_FC_ttest[\"statistic\"])[~pd.Series(whole_FC_ttest[\"statistic\"]).isna()].describe()"
   ]
  },
  {
   "cell_type": "code",
   "execution_count": 1489,
   "metadata": {},
   "outputs": [
    {
     "data": {
      "text/plain": [
       "'2023-04-28_1241'"
      ]
     },
     "execution_count": 1489,
     "metadata": {},
     "output_type": "execute_result"
    }
   ],
   "source": [
    "analysis_date"
   ]
  },
  {
   "cell_type": "code",
   "execution_count": 1490,
   "metadata": {},
   "outputs": [],
   "source": [
    "with open(f\"../data/validation_out_{analysis_date}\", \"wb\") as f:\n",
    "    pickle.dump(dict_out, f)"
   ]
  },
  {
   "cell_type": "code",
   "execution_count": 1443,
   "metadata": {},
   "outputs": [],
   "source": [
    "cnt_same = 0\n",
    "for i in range(len(dict_out[\"patent_id\"])):\n",
    "    if set(dict_out[\"org_text\"][i]) == set(dict_out[\"gen_text\"][i]): cnt_same += 1"
   ]
  },
  {
   "cell_type": "code",
   "execution_count": 1445,
   "metadata": {
    "scrolled": true
   },
   "outputs": [
    {
     "data": {
      "text/plain": [
       "0.6428015564202335"
      ]
     },
     "execution_count": 1445,
     "metadata": {},
     "output_type": "execute_result"
    }
   ],
   "source": [
    "cnt_same / len(dict_out[\"patent_id\"])"
   ]
  },
  {
   "cell_type": "code",
   "execution_count": 1354,
   "metadata": {
    "scrolled": true
   },
   "outputs": [
    {
     "data": {
      "text/plain": [
       "0.16303219106957426"
      ]
     },
     "execution_count": 1354,
     "metadata": {},
     "output_type": "execute_result"
    }
   ],
   "source": [
    "len(hit_similar_FCs[hit_similar_FCs>=9]) / len(hit_similar_FCs)"
   ]
  },
  {
   "cell_type": "code",
   "execution_count": 1350,
   "metadata": {
    "scrolled": true
   },
   "outputs": [
    {
     "data": {
      "text/plain": [
       "Ttest_indResult(statistic=-0.698559918387968, pvalue=0.485161604089161)"
      ]
     },
     "execution_count": 1350,
     "metadata": {},
     "output_type": "execute_result"
    }
   ],
   "source": [
    "ttest_ind(hit_similar_FCs_mean, hit_unsimilar_FCs_mean, equal_var=False)"
   ]
  },
  {
   "cell_type": "code",
   "execution_count": 1244,
   "metadata": {},
   "outputs": [],
   "source": [
    "dict_out_bck = copy.deepcopy(dict_out) # threshold==0.4"
   ]
  },
  {
   "cell_type": "code",
   "execution_count": 1245,
   "metadata": {},
   "outputs": [
    {
     "data": {
      "text/plain": [
       "{'index': array([   0,    2,    4, ..., 2490, 2493, 2494]),\n",
       " 'patent_id': array(['7462942', '7546671', '7253065', ..., '8154133', '8164113',\n",
       "        '7705691'], dtype='<U7'),\n",
       " 'gen_text': array([{'H01L21', 'H01L29'}, {'G01C21', 'G01N15'}, {'H01L21'}, ...,\n",
       "        {'H01L29', 'H01L23'}, {'H01L29', 'H01L23', 'H01L31'},\n",
       "        {'H01L25', 'H01L23'}], dtype=object),\n",
       " 'ref_ipcs': array([number\n",
       "        9373573            {H01L21, H01L23}\n",
       "        9847309            {H01L21, H01L23}\n",
       "        9159665    {H01L21, H05K01, H01L23}\n",
       "        8138079                    {H01L21}\n",
       "        8138079                    {H01L21}\n",
       "                             ...\n",
       "        8884443            {H01L21, H01L23}\n",
       "        8823167                    {H01L23}\n",
       "        8598691            {H01L29, H01L23}\n",
       "        8841766                    {H01L23}\n",
       "        9142527            {H01L21, H01L23}\n",
       "        Name: ipcs, Length: 68, dtype: object,\n",
       "        number\n",
       "        9231290    {G06K19, B23K26, B32B38, H01P11}\n",
       "        8091208                    {H01Q13, H01P11}\n",
       "        8091208                    {H01Q13, H01P11}\n",
       "        8087155                    {H01Q01, H01P11}\n",
       "        8087155                    {H01Q01, H01P11}\n",
       "        8413316                    {H01Q13, H01P11}\n",
       "        Name: ipcs, dtype: object                  ,\n",
       "        number\n",
       "        9640765    {B82Y10, B82Y40, H01L51, H01L29}\n",
       "        9406888    {B82Y10, H01L21, H01L51, B82Y40}\n",
       "        9559211                    {H01L21, H01L29}\n",
       "        Name: ipcs, dtype: object                  , ...,\n",
       "        number\n",
       "        9559005    {H01L21, H01L23}\n",
       "        Name: ipcs, dtype: object  ,\n",
       "        number\n",
       "        9379201    {H01L27, H01L21, H01L29, H01L23}\n",
       "        9105701                    {H01L21, H01L23}\n",
       "        8810010            {H01L21, H01L29, H01L23}\n",
       "        8928127                            {H01L23}\n",
       "        9224702                    {H01L21, H01L23}\n",
       "        9093462    {H01L27, H01L25, H01L29, H01L23}\n",
       "        Name: ipcs, dtype: object                  ,\n",
       "        number\n",
       "        8558345    {H01L21, H01L23, H01L29, H01L27}\n",
       "        8785289                            {H01L21}\n",
       "        Name: ipcs, dtype: object                  ], dtype=object),\n",
       " 'ref_FCs': array([number\n",
       "        9373573    0\n",
       "        9847309    0\n",
       "        9159665    1\n",
       "        8138079    5\n",
       "        8138079    5\n",
       "                  ..\n",
       "        8884443    6\n",
       "        8823167    1\n",
       "        8598691    2\n",
       "        8841766    2\n",
       "        9142527    9\n",
       "        Name: TC5, Length: 68, dtype: int64, number\n",
       "                                             9231290    8\n",
       "                                             8091208    3\n",
       "                                             8091208    3\n",
       "                                             8087155    0\n",
       "                                             8087155    0\n",
       "                                             8413316    0\n",
       "                                             Name: TC5, dtype: int64,\n",
       "        number\n",
       "        9640765    0\n",
       "        9406888    0\n",
       "        9559211    4\n",
       "        Name: TC5, dtype: int64, ..., number\n",
       "                                      9559005    1\n",
       "                                      Name: TC5, dtype: int64,\n",
       "        number\n",
       "        9379201    0\n",
       "        9105701    0\n",
       "        8810010    3\n",
       "        8928127    2\n",
       "        9224702    0\n",
       "        9093462    1\n",
       "        Name: TC5, dtype: int64, number\n",
       "                                 8558345    11\n",
       "                                 8785289     8\n",
       "                                 Name: TC5, dtype: int64], dtype=object),\n",
       " 'inclusions': array([[1, 1, 1, 0],\n",
       "        [0, 0, 0, 0],\n",
       "        [1, 1, 1, 0],\n",
       "        ...,\n",
       "        [1, 1, 1, 0],\n",
       "        [1, 1, 1, 0],\n",
       "        [1, 1, 1, 0]]),\n",
       " 'higher_impacts': array([[1, 0, 0, None],\n",
       "        [None, None, None, None],\n",
       "        [1, 1, 1, None],\n",
       "        ...,\n",
       "        [1, 1, 1, None],\n",
       "        [1, 1, 1, None],\n",
       "        [1, 1, 1, None]], dtype=object),\n",
       " 'FC_estimated': array([0.5025, 0.5242, 0.5256, ..., 0.5226, 0.5319, 0.5163]),\n",
       " 'similar_refs': array([[Index(['9373573', '9847309', '9159665', '8138079', '8138079', '7902679',\n",
       "                '8072070', '9287171', '9287171', '9159682', '9773685', '9153555',\n",
       "                '9153555', '8350384', '9219045', '9018758', '9768139', '9224707',\n",
       "                '8841779', '9245817', '8686568', '9064858', '9064858', '9385101',\n",
       "                '7863739', '7863739', '8421222', '8421222', '9379084', '8324738',\n",
       "                '8324738', '9462690', '9177899', '9177899', '9508671', '8294279',\n",
       "                '8294279', '9437532', '8581390', '9029196', '9029196', '8536458',\n",
       "                '8441124', '9214428', '8890336', '8890336', '8901733', '8492893',\n",
       "                '8610270', '9343360', '9524946', '9524946', '8810029', '8569885',\n",
       "                '8952534', '8021921', '8021921', '9524945', '8178967', '8178967',\n",
       "                '8178967', '8178967', '9369175', '8884443', '8823167', '8598691',\n",
       "                '8841766', '9142527'],\n",
       "               dtype='object', name='number')                                    ,\n",
       "         Index(['9373573', '9847309', '8138079', '8138079', '7902679', '8072070',\n",
       "                '9287171', '9287171', '9159682', '9773685', '9153555', '9153555',\n",
       "                '8350384', '9219045', '9018758', '9768139', '9245817', '8686568',\n",
       "                '9064858', '9064858', '9385101', '7863739', '7863739', '8421222',\n",
       "                '8421222', '9379084', '8324738', '8324738', '9177899', '9177899',\n",
       "                '9508671', '8294279', '8294279', '8581390', '9029196', '9029196',\n",
       "                '8441124', '9214428', '8890336', '8890336', '8901733', '8492893',\n",
       "                '8610270', '9524946', '9524946', '8810029', '8569885', '8952534',\n",
       "                '9524945', '8178967', '8178967', '8178967', '8178967', '8884443',\n",
       "                '8823167', '8598691', '8841766', '9142527'],\n",
       "               dtype='object', name='number')                                    ,\n",
       "         Index(['9373573', '9847309', '8138079', '8138079', '7902679', '8072070',\n",
       "                '9287171', '9287171', '9159682', '9773685', '9153555', '9153555',\n",
       "                '8350384', '9219045', '9018758', '9768139', '9245817', '8686568',\n",
       "                '9064858', '9064858', '9385101', '7863739', '7863739', '8421222',\n",
       "                '8421222', '9379084', '8324738', '8324738', '9177899', '9177899',\n",
       "                '9508671', '8294279', '8294279', '8581390', '9029196', '9029196',\n",
       "                '8441124', '9214428', '8890336', '8890336', '8901733', '8492893',\n",
       "                '8610270', '9524946', '9524946', '8810029', '8569885', '8952534',\n",
       "                '9524945', '8178967', '8178967', '8178967', '8178967', '8884443',\n",
       "                '8823167', '8598691', '8841766', '9142527'],\n",
       "               dtype='object', name='number')                                    ,\n",
       "         Index([], dtype='object', name='number')],\n",
       "        [Index([], dtype='object', name='number'),\n",
       "         Index([], dtype='object', name='number'),\n",
       "         Index([], dtype='object', name='number'),\n",
       "         Index([], dtype='object', name='number')],\n",
       "        [Index(['9559211'], dtype='object', name='number'),\n",
       "         Index(['9559211'], dtype='object', name='number'),\n",
       "         Index(['9559211'], dtype='object', name='number'),\n",
       "         Index([], dtype='object', name='number')],\n",
       "        ...,\n",
       "        [Index(['9559005'], dtype='object', name='number'),\n",
       "         Index(['9559005'], dtype='object', name='number'),\n",
       "         Index(['9559005'], dtype='object', name='number'),\n",
       "         Index([], dtype='object', name='number')],\n",
       "        [Index(['9379201', '9105701', '8810010', '8928127', '9224702', '9093462'], dtype='object', name='number'),\n",
       "         Index(['9379201', '9105701', '8810010', '8928127', '9224702', '9093462'], dtype='object', name='number'),\n",
       "         Index(['9379201', '9105701', '8810010', '8928127', '9224702', '9093462'], dtype='object', name='number'),\n",
       "         Index([], dtype='object', name='number')],\n",
       "        [Index(['8558345', '8785289'], dtype='object', name='number'),\n",
       "         Index(['8558345', '8785289'], dtype='object', name='number'),\n",
       "         Index(['8558345', '8785289'], dtype='object', name='number'),\n",
       "         Index([], dtype='object', name='number')]], dtype=object),\n",
       " 'unsimilar_refs': array([[Index([], dtype='object', name='number'),\n",
       "         Index(['9159665', '9224707', '8841779', '9462690', '9437532', '8536458',\n",
       "                '9343360', '8021921', '8021921', '9369175'],\n",
       "               dtype='object', name='number')                                    ,\n",
       "         Index(['9159665', '9224707', '8841779', '9462690', '9437532', '8536458',\n",
       "                '9343360', '8021921', '8021921', '9369175'],\n",
       "               dtype='object', name='number')                                    ,\n",
       "         Index(['9373573', '9847309', '9159665', '8138079', '8138079', '7902679',\n",
       "                '8072070', '9287171', '9287171', '9159682', '9773685', '9153555',\n",
       "                '9153555', '8350384', '9219045', '9018758', '9768139', '9224707',\n",
       "                '8841779', '9245817', '8686568', '9064858', '9064858', '9385101',\n",
       "                '7863739', '7863739', '8421222', '8421222', '9379084', '8324738',\n",
       "                '8324738', '9462690', '9177899', '9177899', '9508671', '8294279',\n",
       "                '8294279', '9437532', '8581390', '9029196', '9029196', '8536458',\n",
       "                '8441124', '9214428', '8890336', '8890336', '8901733', '8492893',\n",
       "                '8610270', '9343360', '9524946', '9524946', '8810029', '8569885',\n",
       "                '8952534', '8021921', '8021921', '9524945', '8178967', '8178967',\n",
       "                '8178967', '8178967', '9369175', '8884443', '8823167', '8598691',\n",
       "                '8841766', '9142527'],\n",
       "               dtype='object', name='number')                                    ],\n",
       "        [Index(['9231290', '8091208', '8091208', '8087155', '8087155', '8413316'], dtype='object', name='number'),\n",
       "         Index(['9231290', '8091208', '8091208', '8087155', '8087155', '8413316'], dtype='object', name='number'),\n",
       "         Index(['9231290', '8091208', '8091208', '8087155', '8087155', '8413316'], dtype='object', name='number'),\n",
       "         Index(['9231290', '8091208', '8091208', '8087155', '8087155', '8413316'], dtype='object', name='number')],\n",
       "        [Index(['9640765', '9406888'], dtype='object', name='number'),\n",
       "         Index(['9640765', '9406888'], dtype='object', name='number'),\n",
       "         Index(['9640765', '9406888'], dtype='object', name='number'),\n",
       "         Index(['9640765', '9406888', '9559211'], dtype='object', name='number')],\n",
       "        ...,\n",
       "        [Index([], dtype='object', name='number'),\n",
       "         Index([], dtype='object', name='number'),\n",
       "         Index([], dtype='object', name='number'),\n",
       "         Index(['9559005'], dtype='object', name='number')],\n",
       "        [Index([], dtype='object', name='number'),\n",
       "         Index([], dtype='object', name='number'),\n",
       "         Index([], dtype='object', name='number'),\n",
       "         Index(['9379201', '9105701', '8810010', '8928127', '9224702', '9093462'], dtype='object', name='number')],\n",
       "        [Index([], dtype='object', name='number'),\n",
       "         Index([], dtype='object', name='number'),\n",
       "         Index([], dtype='object', name='number'),\n",
       "         Index(['8558345', '8785289'], dtype='object', name='number')]],\n",
       "       dtype=object)}"
      ]
     },
     "execution_count": 1245,
     "metadata": {},
     "output_type": "execute_result"
    }
   ],
   "source": [
    "dict_out_bck"
   ]
  },
  {
   "cell_type": "code",
   "execution_count": 1306,
   "metadata": {},
   "outputs": [],
   "source": [
    "dict_out_bck3 = copy.deepcopy(dict_out) # 입력 IPC와 인용 IPC가 같은 경우만"
   ]
  }
 ],
 "metadata": {
  "kernelspec": {
   "display_name": "DL",
   "language": "python",
   "name": "dl"
  },
  "language_info": {
   "codemirror_mode": {
    "name": "ipython",
    "version": 3
   },
   "file_extension": ".py",
   "mimetype": "text/x-python",
   "name": "python",
   "nbconvert_exporter": "python",
   "pygments_lexer": "ipython3",
   "version": "3.9.7"
  },
  "toc": {
   "base_numbering": 1,
   "nav_menu": {},
   "number_sections": true,
   "sideBar": true,
   "skip_h1_title": false,
   "title_cell": "Table of Contents",
   "title_sidebar": "Contents",
   "toc_cell": false,
   "toc_position": {},
   "toc_section_display": true,
   "toc_window_display": false
  }
 },
 "nbformat": 4,
 "nbformat_minor": 2
}
