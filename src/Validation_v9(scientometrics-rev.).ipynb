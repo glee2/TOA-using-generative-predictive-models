{
 "cells": [
  {
   "cell_type": "code",
   "execution_count": 51,
   "metadata": {
    "ExecuteTime": {
     "end_time": "2025-04-21T13:35:55.084155Z",
     "start_time": "2025-04-21T13:35:55.070382Z"
    }
   },
   "outputs": [],
   "source": [
    "root_dir = '/home2/glee/dissertation/1_tech_gen_impact/class2class/Tech_Gen/'\n",
    "master_dir = '/home2/glee/dissertation/1_tech_gen_impact/master/Tech_Gen/'\n",
    "import sys\n",
    "sys.path.append(root_dir)\n",
    "\n",
    "import uspto\n",
    "import json\n",
    "import copy\n",
    "import gc\n",
    "import os\n",
    "import argparse\n",
    "import math\n",
    "import time\n",
    "import pickle\n",
    "import re\n",
    "import multiprocess as mp\n",
    "import warnings\n",
    "warnings.filterwarnings(action='ignore', category=UserWarning)\n",
    "warnings.filterwarnings(action='ignore', category=DeprecationWarning)\n",
    "sys.path.append(\"/share/tml_package\")\n",
    "from tml import utils\n",
    "from scipy import io\n",
    "from tqdm import tqdm\n",
    "from collections import OrderedDict\n",
    "\n",
    "import torch\n",
    "from torch.nn import functional as F\n",
    "from torch.nn import DataParallel as DP\n",
    "from torch.utils.data import TensorDataset, DataLoader, Subset, Dataset\n",
    "from accelerate import Accelerator\n",
    "import pytorch_model_summary\n",
    "\n",
    "import optuna\n",
    "from optuna.samplers import RandomSampler, TPESampler\n",
    "from optuna.integration import SkoptSampler\n",
    "\n",
    "import numpy as np\n",
    "import pandas as pd\n",
    "import scipy.stats\n",
    "import sklearn\n",
    "from sklearn.preprocessing import MinMaxScaler\n",
    "from sklearn.metrics import matthews_corrcoef, precision_recall_fscore_support, confusion_matrix\n",
    "from sklearn.utils.class_weight import compute_class_weight\n",
    "\n",
    "from data import TechDataset, CVSampler\n",
    "from models import Transformer, Predictor\n",
    "from train_utils import EarlyStopping, perf_eval, objective_cv, build_model, train_model, validate_model_mp\n",
    "from utils import token2class, DotDict, to_device\n",
    "\n",
    "from cleantext.sklearn import CleanTransformer\n",
    "from nltk.corpus import stopwords\n",
    "from nltk.stem.porter import PorterStemmer\n",
    "\n",
    "os.environ[\"TOKENIZERS_PARALLELISM\"] = \"false\"\n",
    "os.environ[\"CUDA_LAUNCH_BLOCKING\"] = \"1\""
   ]
  },
  {
   "cell_type": "markdown",
   "metadata": {},
   "source": [
    "# PART 1: Configuration"
   ]
  },
  {
   "cell_type": "code",
   "execution_count": 2,
   "metadata": {
    "ExecuteTime": {
     "end_time": "2025-04-20T22:19:17.231770Z",
     "start_time": "2025-04-20T22:19:17.204692Z"
    }
   },
   "outputs": [],
   "source": [
    "# analysis_date = \"2023-05-04_1802\" # Seminconductor\n",
    "analysis_date = \"2023-05-09_0331\" # AI\n",
    "args = argparse.Namespace(\n",
    "    do_eval = True,\n",
    "    do_save=False,\n",
    "    config_file=os.path.join(root_dir, \"configs\", \"USED_configs\", \"[CONFIGS]\"+analysis_date+\".json\"),\n",
    "    eval_train_set=False)\n",
    "\n",
    "project_data_dir = os.path.join(master_dir, \"data\")\n",
    "data_dir = os.path.join(\"/home2/glee/patent_data/data/\")\n",
    "model_dir = os.path.join(root_dir, \"models\")\n",
    "result_dir = os.path.join(root_dir, \"results\")\n",
    "config_dir = os.path.join(root_dir, \"configs\")\n",
    "\n",
    "## parse configuration file\n",
    "# args = parser.parse_args()\n",
    "if args.config_file is not None:\n",
    "    config_file = args.config_file\n",
    "else:\n",
    "    config_file = os.path.join(config_dir, \"configs_light.json\") if args.light else os.path.join(config_dir, \"configs.json\")\n",
    "if args.do_eval: args.do_train = False\n",
    "configs = DotDict().load(config_file)\n",
    "org_config_keys = {key: list(configs[key].keys()) for key in configs.keys()}\n",
    "\n",
    "# parse command line arguments\n",
    "instant_configs = {key: value for (key, value) in vars(args).items() if value is not None} # if any argument passed when main.py executed\n",
    "instant_configs_for_update = {configkey: {key: value for (key,value) in instant_configs.items() if key in org_config_keys[configkey]} for configkey in org_config_keys.keys()}\n",
    "for key, value in configs.items():\n",
    "    value.update(instant_configs_for_update[key])\n",
    "\n",
    "## assign loss weights\n",
    "if configs.model.model_type == \"enc-pred-dec\":\n",
    "    configs.train.loss_weights[\"recon\"] = configs.train.loss_weights[\"recon\"] / sum(configs.train.loss_weights.values())\n",
    "    configs.train.loss_weights[\"y\"] = 1 - configs.train.loss_weights[\"recon\"]\n",
    "elif configs.model.model_type == \"enc-pred\":\n",
    "    configs.train.loss_weights = {\"recon\": 0, \"y\": 1}\n",
    "elif configs.model.model_type == \"enc-dec\":\n",
    "    configs.train.loss_weights = {\"recon\": 1, \"y\": 0}\n",
    "\n",
    "## assign devices\n",
    "if configs.train.use_accelerator:\n",
    "    accelerator = Accelerator()\n",
    "    device_ids = list(range(torch.cuda.device_count()))\n",
    "    device = accelerator.device\n",
    "    configs.train.update({\"accelerator\": accelerator})\n",
    "else:\n",
    "    if torch.cuda.is_available():\n",
    "        device_ids = list(range(torch.cuda.device_count()))\n",
    "        gpu_usages = [np.sum([float(usage.split(\"uses\")[-1].replace(\" \",\"\").replace(\"MB\",\"\")) for usage in torch.cuda.list_gpu_processes(id).split(\"GPU memory\") if not usage==\"\" and \"no processes are running\" not in usage]) for id in device_ids]\n",
    "        device_ids = np.argsort(gpu_usages)[:configs.train.n_gpus]\n",
    "        device_ids = list(map(lambda x: torch.device('cuda', x),list(device_ids)))\n",
    "        device = device_ids[0] # main device\n",
    "        torch.cuda.set_device(device)\n",
    "    else:\n",
    "        device = torch.device('cpu')\n",
    "        device_ids = []\n",
    "\n",
    "## extract configurations for dataset\n",
    "config_period = \"[\"+\"-\".join([str(year) for year in configs.data.target_period])+\"]\"\n",
    "config_ipcs = str(configs.data.target_ipc).replace(\"\\'\",\"\").replace(\" \",\"\")\n",
    "config_keywords = str(configs.data.target_keywords).replace(\"\\'\",\"\").replace(\" \",\"\")\n",
    "\n",
    "## update configurations\n",
    "configs.data.update({\"root_dir\": root_dir,\n",
    "                        \"data_dir\": data_dir,\n",
    "                        \"model_dir\": model_dir,\n",
    "                        \"result_dir\": result_dir,\n",
    "                        \"pretrained_enc\": configs.model.pretrained_enc,\n",
    "                        \"pretrained_dec\": configs.model.pretrained_dec,\n",
    "                        \"data_nrows\": None,\n",
    "                        \"data_file\": \"collection_\" + \"\".join([config_keywords, config_ipcs, config_period]) + \".csv\"})\n",
    "configs.train.update({\"device\": device,\n",
    "                        \"device_ids\": device_ids,\n",
    "                        \"root_dir\": root_dir,\n",
    "                        \"data_dir\": data_dir,\n",
    "                        \"model_dir\": model_dir,\n",
    "                        \"use_keywords\": configs.data.use_keywords,\n",
    "                        \"early_stop_patience\": int(0.3*configs.train.max_epochs)})\n",
    "configs.model.update({\"device\": device,\n",
    "                        \"device_ids\": device_ids,\n",
    "                        \"n_directions\": 2 if configs.model.bidirec else 1,\n",
    "                        \"use_accelerator\": configs.train.use_accelerator})\n",
    "\n",
    "## Set hyperparameters for model training (To be TUNED)\n",
    "if configs.train.do_train and configs.train.do_tune:\n",
    "    n_layers = configs.model.n_layers = None\n",
    "    d_embedding = configs.model.d_embedding = None\n",
    "    d_enc_hidden = configs.model.d_enc_hidden = None\n",
    "    d_pred_hidden = configs.model.d_pred_hidden = None\n",
    "    learning_rate = configs.train.learning_rate = None\n",
    "    batch_size = configs.train.batch_size = None\n",
    "    config_name = \"HPARAM_TUNING\"\n",
    "    final_model_path = None\n",
    "else:\n",
    "    n_layers = configs.model.n_layers\n",
    "    d_embedding = configs.model.d_embedding\n",
    "    d_enc_hidden = configs.model.d_enc_hidden\n",
    "    d_pred_hidden = configs.model.d_pred_hidden\n",
    "    d_latent = configs.model.d_latent\n",
    "\n",
    "    ## set filename for model\n",
    "    key_components = {\"data\": [\"ipc_level\", \"max_seq_len_class\", \"max_seq_len_claim\", \"vocab_size\"], \"model\": [\"n_layers\", \"d_hidden\", \"d_pred_hidden\", \"d_latent\", \"d_embedding\", \"d_ff\", \"n_head\", \"d_head\"], \"train\": [\"learning_rate\", \"batch_size\", \"max_epochs\"]}\n",
    "    model_config_name = \"\".join([config_keywords, config_ipcs, config_period]) + \"data\"\n",
    "    for key in [\"model\", \"train\"]:\n",
    "        for component in key_components[key]:\n",
    "            model_config_name += f\"[{str(configs[key][component])}]{component}\"\n",
    "    final_model_path = os.path.join(model_dir, f\"[MODEL]{model_config_name}.ckpt\")\n",
    "\n",
    "configs.train.update({\"model_config_name\": model_config_name, \"final_model_path\": final_model_path})\n"
   ]
  },
  {
   "cell_type": "markdown",
   "metadata": {},
   "source": [
    "# PART 2: Dataset setting"
   ]
  },
  {
   "cell_type": "code",
   "execution_count": 3,
   "metadata": {
    "ExecuteTime": {
     "end_time": "2025-04-20T22:20:31.180205Z",
     "start_time": "2025-04-20T22:19:39.535887Z"
    },
    "scrolled": true
   },
   "outputs": [
    {
     "name": "stdout",
     "output_type": "stream",
     "text": [
      "Load pickled dataset...\n",
      "Pickled dataset loaded\n",
      "51.6277 sec elapsed for loading patents for class [['G06F']]\n"
     ]
    }
   ],
   "source": [
    "''' PART 2: Dataset setting '''\n",
    "tstart = time.time()\n",
    "dataset_config_name = \"\".join([config_keywords, config_ipcs, config_period]) + \"data\"\n",
    "for component in key_components[\"data\"]:\n",
    "    dataset_config_name += f\"[{str(configs.data[component])}]{component}\"\n",
    "dataset_path = os.path.join(project_data_dir, \"pickled_dataset\", \"[DATASET]\"+dataset_config_name+\".pickle\")\n",
    "\n",
    "if os.path.exists(dataset_path) and args.do_save is False:\n",
    "    print(\"Load pickled dataset...\")\n",
    "    with open(dataset_path, \"rb\") as f:\n",
    "        tech_dataset = pickle.load(f)   # Load pickled dataset if dataset with same configuration already saved\n",
    "        if tech_dataset.pretrained_enc != configs.data.pretrained_enc or tech_dataset.pretrained_dec != configs.data.pretrained_dec:\n",
    "            tech_dataset.pretrained_enc = configs.data.pretrained_enc\n",
    "            tech_dataset.pretrained_dec = configs.data.pretrained_dec\n",
    "            tech_dataset.tokenizers = tech_dataset.get_tokenizers()\n",
    "        for tk in tech_dataset.tokenizers.values():\n",
    "            if \"vocab_size\" not in dir(tk):\n",
    "                tk.vocab_size = tk.get_vocab_size()\n",
    "        tech_dataset.use_keywords = configs.data.use_keywords\n",
    "        ## load saved rawdata\n",
    "        if tech_dataset.rawdata is None:\n",
    "            tech_dataset.rawdata = pd.read_csv(os.path.join(data_dir, configs.data.data_file), low_memory=False)\n",
    "    print(\"Pickled dataset loaded\")\n",
    "else:\n",
    "    print(\"Make dataset...\")\n",
    "    if args.debug:\n",
    "        configs.data.update({\"data_nrows\": 1000})\n",
    "        dataset_path += \".debug\"\n",
    "    tech_dataset = TechDataset(configs.data)\n",
    "    if not args.debug:\n",
    "        rawdata_for_save = copy.deepcopy(tech_dataset.rawdata)\n",
    "        with open(dataset_path, \"wb\") as f:\n",
    "            tech_dataset.rawdata = None\n",
    "            pickle.dump(tech_dataset, f)\n",
    "        tech_dataset.rawdata = rawdata_for_save\n",
    "tend = time.time()\n",
    "print(f\"{np.round(tend-tstart,4)} sec elapsed for loading patents for class [{configs.data.target_ipc}]\")\n",
    "\n",
    "configs.model.update({\"tokenizers\": tech_dataset.tokenizers,\n",
    "                    \"n_enc_seq_claim\": tech_dataset.max_seq_len_claim,\n",
    "                    \"n_dec_seq_claim\": tech_dataset.max_seq_len_claim,\n",
    "                    \"n_enc_seq_class\": tech_dataset.max_seq_len_class,\n",
    "                    \"n_dec_seq_class\": tech_dataset.max_seq_len_class,\n",
    "                    \"n_outputs\": 1 if configs.data.pred_type==\"regression\" else tech_dataset.n_outputs,\n",
    "                    \"i_padding\": tech_dataset.tokenizers[\"class_enc\"].pad_id})"
   ]
  },
  {
   "cell_type": "code",
   "execution_count": 42,
   "metadata": {
    "ExecuteTime": {
     "end_time": "2025-04-20T22:37:16.522068Z",
     "start_time": "2025-04-20T22:37:16.517591Z"
    }
   },
   "outputs": [
    {
     "data": {
      "text/plain": [
       "69050"
      ]
     },
     "execution_count": 42,
     "metadata": {},
     "output_type": "execute_result"
    }
   ],
   "source": [
    "tech_dataset.__len__()"
   ]
  },
  {
   "cell_type": "markdown",
   "metadata": {},
   "source": [
    "## Inference"
   ]
  },
  {
   "cell_type": "code",
   "execution_count": 4,
   "metadata": {
    "ExecuteTime": {
     "end_time": "2025-04-20T22:20:40.638691Z",
     "start_time": "2025-04-20T22:20:40.622553Z"
    },
    "scrolled": false
   },
   "outputs": [
    {
     "data": {
      "text/plain": [
       "'/home2/glee/dissertation/1_tech_gen_impact/class2class/Tech_Gen/models/[MODEL][G06F][2007-2012]data[4]n_layers[32]d_hidden[8]d_pred_hidden[32]d_latent[128]d_embedding[16]d_ff[4]n_head[16]d_head[0.0005]learning_rate[256]batch_size[50]max_epochs.ckpt'"
      ]
     },
     "execution_count": 4,
     "metadata": {},
     "output_type": "execute_result"
    }
   ],
   "source": [
    "final_model_path"
   ]
  },
  {
   "cell_type": "code",
   "execution_count": 5,
   "metadata": {
    "ExecuteTime": {
     "end_time": "2025-04-20T22:20:47.113840Z",
     "start_time": "2025-04-20T22:20:46.772330Z"
    },
    "scrolled": true
   },
   "outputs": [
    {
     "name": "stdout",
     "output_type": "stream",
     "text": [
      "Model successfully loaded\n"
     ]
    }
   ],
   "source": [
    "final_model = build_model(configs.model, tokenizers=tech_dataset.tokenizers)\n",
    "if os.path.exists(final_model_path):\n",
    "    best_states = torch.load(final_model_path, map_location=device)\n",
    "else:\n",
    "    raise Exception(\"Model need to be trained first\")\n",
    "converted_states = OrderedDict()\n",
    "if torch.cuda.is_available():\n",
    "    for k, v in best_states.items():\n",
    "        if 'module' not in k:\n",
    "            k = 'module.'+k\n",
    "        else:\n",
    "            k = k.replace('features.module.', 'module.features.')\n",
    "        converted_states[k] = v\n",
    "else:\n",
    "    for k, v in best_states.items():\n",
    "        if 'module.' in k:\n",
    "            k = k.replace('module.', '')\n",
    "#         else:\n",
    "#             k = k.replace('features.module.', 'module.features.')\n",
    "        converted_states[k] = v\n",
    "        \n",
    "final_model.load_state_dict(converted_states)\n",
    "\n",
    "del best_states\n",
    "del converted_states\n",
    "torch.cuda.empty_cache()\n",
    "print(\"Model successfully loaded\")"
   ]
  },
  {
   "cell_type": "code",
   "execution_count": 17,
   "metadata": {
    "ExecuteTime": {
     "end_time": "2025-04-20T22:25:00.526754Z",
     "start_time": "2025-04-20T22:25:00.519529Z"
    }
   },
   "outputs": [
    {
     "name": "stdout",
     "output_type": "stream",
     "text": [
      "Model size: 1.0M paramaters\n"
     ]
    }
   ],
   "source": [
    " if re.search(\"^1.\", torch.__version__) is not None:\n",
    "        model_size = sum(t.numel() for t in final_model.parameters())\n",
    "        print(f\"Model size: {model_size/1000**2:.1f}M paramaters\")"
   ]
  },
  {
   "cell_type": "code",
   "execution_count": 30,
   "metadata": {
    "ExecuteTime": {
     "end_time": "2025-04-20T22:27:07.344217Z",
     "start_time": "2025-04-20T22:26:51.010318Z"
    }
   },
   "outputs": [],
   "source": [
    "result_path = os.path.join(root_dir, \"results\")\n",
    "\n",
    "used_train_data = pd.read_excel(os.path.join(result_path, \"[DATASET]\"+analysis_date+\".xlsx\"), sheet_name=\"TRAIN_dataset\")\n",
    "used_test_data = pd.read_excel(os.path.join(result_path, \"[DATASET]\"+analysis_date+\".xlsx\"), sheet_name=\"TEST_dataset\")\n",
    "used_train_index = tech_dataset.data.index.get_indexer(pd.Index(used_train_data[\"number\"]))\n",
    "used_test_index = tech_dataset.data.index.get_indexer(pd.Index(used_test_data[\"number\"]))"
   ]
  },
  {
   "cell_type": "code",
   "execution_count": 31,
   "metadata": {
    "ExecuteTime": {
     "end_time": "2025-04-20T22:27:28.479042Z",
     "start_time": "2025-04-20T22:27:26.550608Z"
    }
   },
   "outputs": [],
   "source": [
    "from sklearn.manifold import TSNE\n",
    "from matplotlib import pyplot as plt"
   ]
  },
  {
   "cell_type": "code",
   "execution_count": 32,
   "metadata": {
    "ExecuteTime": {
     "end_time": "2025-04-20T22:27:28.486826Z",
     "start_time": "2025-04-20T22:27:28.482241Z"
    }
   },
   "outputs": [],
   "source": [
    "batch_size = 16"
   ]
  },
  {
   "cell_type": "code",
   "execution_count": 33,
   "metadata": {
    "ExecuteTime": {
     "end_time": "2025-04-20T22:27:28.494781Z",
     "start_time": "2025-04-20T22:27:28.488140Z"
    }
   },
   "outputs": [],
   "source": [
    "used_train_dataset = Subset(tech_dataset, used_train_index)\n",
    "train_loader = DataLoader(used_train_dataset, batch_size=batch_size, drop_last=True)"
   ]
  },
  {
   "cell_type": "code",
   "execution_count": 38,
   "metadata": {
    "ExecuteTime": {
     "end_time": "2025-04-20T22:35:43.181228Z",
     "start_time": "2025-04-20T22:29:31.067125Z"
    },
    "scrolled": true
   },
   "outputs": [
    {
     "name": "stderr",
     "output_type": "stream",
     "text": [
      "100%|██████████| 3884/3884 [06:12<00:00, 10.44it/s]\n"
     ]
    }
   ],
   "source": [
    "zs, ys, preds = [], [], []\n",
    "newzs = []\n",
    "for batch_data in tqdm(train_loader):\n",
    "    batch_data = to_device(batch_data, final_model.device)\n",
    "    y = batch_data[\"targets\"].cpu().detach().numpy()\n",
    "    \n",
    "    enc_outputs, z, mu, logvar = final_model.encode(batch_data[\"text_inputs\"])\n",
    "    pred_outputs = final_model.predictor(z)\n",
    "    torch.cuda.empty_cache()\n",
    "\n",
    "    zs.append(z.cpu().detach().numpy())\n",
    "    ys.append(y)\n",
    "    preds.append(pred_outputs.argmax(1).cpu().detach().numpy())\n",
    "    \n",
    "    torch.cuda.empty_cache()\n",
    "                                                \n",
    "zs = np.concatenate(zs)\n",
    "ys = np.concatenate(ys)\n",
    "preds = np.concatenate(preds)"
   ]
  },
  {
   "cell_type": "code",
   "execution_count": 43,
   "metadata": {
    "ExecuteTime": {
     "end_time": "2025-04-20T22:37:27.498276Z",
     "start_time": "2025-04-20T22:37:27.492232Z"
    }
   },
   "outputs": [],
   "source": [
    "import datetime\n",
    "from nltk.translate.bleu_score import sentence_bleu\n",
    "col_years = [\"<1976\"] + np.arange(1976,2023).astype(str).tolist()\n",
    "latest_year = datetime.datetime.now().year - 1\n",
    "n_TC = configs.data.n_TC\n",
    "\n",
    "visualize = True"
   ]
  },
  {
   "cell_type": "code",
   "execution_count": 44,
   "metadata": {
    "ExecuteTime": {
     "end_time": "2025-04-20T22:47:33.269490Z",
     "start_time": "2025-04-20T22:37:28.688521Z"
    }
   },
   "outputs": [
    {
     "name": "stdout",
     "output_type": "stream",
     "text": [
      "\n",
      "\n",
      "\n",
      "Tokenizer is trained and saved\n"
     ]
    }
   ],
   "source": [
    "ref_config_period = \"[2012-2017]\"\n",
    "ref_data_file = \"collection_\" + \"\".join([config_keywords, config_ipcs, ref_config_period]) + \".csv\"\n",
    "ref_configs = copy.deepcopy(configs)\n",
    "ref_configs.data.update({\"target_period\": ref_config_period, \"data_file\": ref_data_file})\n",
    "ref_dataset = TechDataset(ref_configs.data)"
   ]
  },
  {
   "cell_type": "code",
   "execution_count": 45,
   "metadata": {
    "ExecuteTime": {
     "end_time": "2025-04-20T22:47:33.751070Z",
     "start_time": "2025-04-20T22:47:33.271580Z"
    }
   },
   "outputs": [],
   "source": [
    "used_rawdata = tech_dataset.rawdata.set_index(\"number\")\n",
    "total_data = pd.concat([tech_dataset.data, ref_dataset.data], axis=0)\n",
    "total_rawdata = pd.concat([tech_dataset.rawdata.set_index(\"number\"), ref_dataset.rawdata.set_index(\"number\")], axis=0)"
   ]
  },
  {
   "cell_type": "code",
   "execution_count": 46,
   "metadata": {
    "ExecuteTime": {
     "end_time": "2025-04-20T22:47:33.755864Z",
     "start_time": "2025-04-20T22:47:33.752580Z"
    }
   },
   "outputs": [
    {
     "data": {
      "text/plain": [
       "(69050, 8)"
      ]
     },
     "execution_count": 46,
     "metadata": {},
     "output_type": "execute_result"
    }
   ],
   "source": [
    "tech_dataset.data.shape"
   ]
  },
  {
   "cell_type": "markdown",
   "metadata": {},
   "source": [
    "- Parts of the collected patent database"
   ]
  },
  {
   "cell_type": "code",
   "execution_count": 47,
   "metadata": {
    "ExecuteTime": {
     "end_time": "2025-04-21T01:14:40.821360Z",
     "start_time": "2025-04-21T01:14:40.816837Z"
    }
   },
   "outputs": [],
   "source": [
    "# sample_index = pd.Index([\"7987362\", \"7613164\", \"7266663\", \"7266666\", \"8327354\", \"7769767\"])\n",
    "# sample_index = pd.Index([\"7523443\", \"7965656\", \"8335889\", \"7324446\", \"8020096\", \"7860895\"])\n",
    "sample_index = pd.Index([\"8068433\",\"7600135\",\"7739999\",\"7164981\",\"7392483\",\"8001433\"])"
   ]
  },
  {
   "cell_type": "code",
   "execution_count": 48,
   "metadata": {
    "ExecuteTime": {
     "end_time": "2025-04-21T01:14:41.919035Z",
     "start_time": "2025-04-21T01:14:41.912959Z"
    }
   },
   "outputs": [
    {
     "data": {
      "text/plain": [
       "Index(['8068433', '7600135', '7739999', '7164981', '7392483', '8001433'], dtype='object')"
      ]
     },
     "execution_count": 48,
     "metadata": {},
     "output_type": "execute_result"
    }
   ],
   "source": [
    "sample_index"
   ]
  },
  {
   "cell_type": "code",
   "execution_count": 49,
   "metadata": {
    "ExecuteTime": {
     "end_time": "2025-04-21T01:14:42.944191Z",
     "start_time": "2025-04-21T01:14:42.443873Z"
    },
    "scrolled": true
   },
   "outputs": [
    {
     "data": {
      "text/html": [
       "<div>\n",
       "<style scoped>\n",
       "    .dataframe tbody tr th:only-of-type {\n",
       "        vertical-align: middle;\n",
       "    }\n",
       "\n",
       "    .dataframe tbody tr th {\n",
       "        vertical-align: top;\n",
       "    }\n",
       "\n",
       "    .dataframe thead th {\n",
       "        text-align: right;\n",
       "    }\n",
       "</style>\n",
       "<table border=\"1\" class=\"dataframe\">\n",
       "  <thead>\n",
       "    <tr style=\"text-align: right;\">\n",
       "      <th></th>\n",
       "      <th>Unnamed: 0</th>\n",
       "      <th>granted_year</th>\n",
       "      <th>granted_date</th>\n",
       "      <th>application_year</th>\n",
       "      <th>application_date</th>\n",
       "      <th>assignee</th>\n",
       "      <th>main_cpc</th>\n",
       "      <th>sub_cpc</th>\n",
       "      <th>main_ipc</th>\n",
       "      <th>sub_ipc</th>\n",
       "      <th>...</th>\n",
       "      <th>2015</th>\n",
       "      <th>2016</th>\n",
       "      <th>2017</th>\n",
       "      <th>2018</th>\n",
       "      <th>2019</th>\n",
       "      <th>2020</th>\n",
       "      <th>2021</th>\n",
       "      <th>2022</th>\n",
       "      <th>claims_org</th>\n",
       "      <th>n_claims</th>\n",
       "    </tr>\n",
       "    <tr>\n",
       "      <th>number</th>\n",
       "      <th></th>\n",
       "      <th></th>\n",
       "      <th></th>\n",
       "      <th></th>\n",
       "      <th></th>\n",
       "      <th></th>\n",
       "      <th></th>\n",
       "      <th></th>\n",
       "      <th></th>\n",
       "      <th></th>\n",
       "      <th></th>\n",
       "      <th></th>\n",
       "      <th></th>\n",
       "      <th></th>\n",
       "      <th></th>\n",
       "      <th></th>\n",
       "      <th></th>\n",
       "      <th></th>\n",
       "      <th></th>\n",
       "      <th></th>\n",
       "      <th></th>\n",
       "    </tr>\n",
       "  </thead>\n",
       "  <tbody>\n",
       "    <tr>\n",
       "      <th>7876934</th>\n",
       "      <td>7876934</td>\n",
       "      <td>2011</td>\n",
       "      <td>2011-01-25</td>\n",
       "      <td>2005</td>\n",
       "      <td>2005-11-02</td>\n",
       "      <td>Siemens Medical Solutions USA, Inc.</td>\n",
       "      <td>G06K9/6255;G06V10/772;G06T7/11</td>\n",
       "      <td>G06T2207/30048;Y10S128/922;G06T2207/10132;Y10S...</td>\n",
       "      <td>G06K9/00</td>\n",
       "      <td>NaN</td>\n",
       "      <td>...</td>\n",
       "      <td>1</td>\n",
       "      <td>3</td>\n",
       "      <td>1</td>\n",
       "      <td>1</td>\n",
       "      <td>3</td>\n",
       "      <td>3</td>\n",
       "      <td>2</td>\n",
       "      <td>0</td>\n",
       "      <td>1. A method for segmenting an organ comprising...</td>\n",
       "      <td>18</td>\n",
       "    </tr>\n",
       "    <tr>\n",
       "      <th>7987362</th>\n",
       "      <td>7987362</td>\n",
       "      <td>2011</td>\n",
       "      <td>2011-07-26</td>\n",
       "      <td>2006</td>\n",
       "      <td>2006-09-12</td>\n",
       "      <td>Uniloc USA, Inc.</td>\n",
       "      <td>G06F21/445;G06F21/73</td>\n",
       "      <td>G06F2221/2129</td>\n",
       "      <td>H04L9/32</td>\n",
       "      <td>G06F11/00;G06F12/14;G11C29/00</td>\n",
       "      <td>...</td>\n",
       "      <td>0</td>\n",
       "      <td>0</td>\n",
       "      <td>0</td>\n",
       "      <td>0</td>\n",
       "      <td>0</td>\n",
       "      <td>0</td>\n",
       "      <td>0</td>\n",
       "      <td>0</td>\n",
       "      <td>1. A method encoded on a data storage medium a...</td>\n",
       "      <td>13</td>\n",
       "    </tr>\n",
       "    <tr>\n",
       "      <th>7518946</th>\n",
       "      <td>7518946</td>\n",
       "      <td>2009</td>\n",
       "      <td>2009-04-14</td>\n",
       "      <td>2007</td>\n",
       "      <td>2007-09-12</td>\n",
       "      <td>Ricoh Company, Ltd.</td>\n",
       "      <td>G06F13/4243</td>\n",
       "      <td>NaN</td>\n",
       "      <td>G11C8/00</td>\n",
       "      <td>NaN</td>\n",
       "      <td>...</td>\n",
       "      <td>0</td>\n",
       "      <td>0</td>\n",
       "      <td>0</td>\n",
       "      <td>0</td>\n",
       "      <td>0</td>\n",
       "      <td>0</td>\n",
       "      <td>0</td>\n",
       "      <td>0</td>\n",
       "      <td>1. A memory control device, comprising: a cloc...</td>\n",
       "      <td>15</td>\n",
       "    </tr>\n",
       "    <tr>\n",
       "      <th>7382164</th>\n",
       "      <td>7382164</td>\n",
       "      <td>2008</td>\n",
       "      <td>2008-06-03</td>\n",
       "      <td>2006</td>\n",
       "      <td>2006-12-20</td>\n",
       "      <td>Wisepal Technologies, Inc.</td>\n",
       "      <td>H03K5/1252</td>\n",
       "      <td>NaN</td>\n",
       "      <td>G06F1/08</td>\n",
       "      <td>NaN</td>\n",
       "      <td>...</td>\n",
       "      <td>0</td>\n",
       "      <td>0</td>\n",
       "      <td>0</td>\n",
       "      <td>0</td>\n",
       "      <td>0</td>\n",
       "      <td>0</td>\n",
       "      <td>0</td>\n",
       "      <td>0</td>\n",
       "      <td>1. A glitch suppressing apparatus, comprising:...</td>\n",
       "      <td>22</td>\n",
       "    </tr>\n",
       "    <tr>\n",
       "      <th>7613164</th>\n",
       "      <td>7613164</td>\n",
       "      <td>2009</td>\n",
       "      <td>2009-11-03</td>\n",
       "      <td>2004</td>\n",
       "      <td>2004-11-03</td>\n",
       "      <td>Alcatel</td>\n",
       "      <td>H04J3/0688</td>\n",
       "      <td>H04J3/0691</td>\n",
       "      <td>H04J3/06</td>\n",
       "      <td>H04L12/66;H04W68/00;H04L5/00;H04L7/00;G06F1/00</td>\n",
       "      <td>...</td>\n",
       "      <td>0</td>\n",
       "      <td>0</td>\n",
       "      <td>0</td>\n",
       "      <td>2</td>\n",
       "      <td>0</td>\n",
       "      <td>0</td>\n",
       "      <td>0</td>\n",
       "      <td>0</td>\n",
       "      <td>1. A method for generating an internal clock i...</td>\n",
       "      <td>13</td>\n",
       "    </tr>\n",
       "    <tr>\n",
       "      <th>...</th>\n",
       "      <td>...</td>\n",
       "      <td>...</td>\n",
       "      <td>...</td>\n",
       "      <td>...</td>\n",
       "      <td>...</td>\n",
       "      <td>...</td>\n",
       "      <td>...</td>\n",
       "      <td>...</td>\n",
       "      <td>...</td>\n",
       "      <td>...</td>\n",
       "      <td>...</td>\n",
       "      <td>...</td>\n",
       "      <td>...</td>\n",
       "      <td>...</td>\n",
       "      <td>...</td>\n",
       "      <td>...</td>\n",
       "      <td>...</td>\n",
       "      <td>...</td>\n",
       "      <td>...</td>\n",
       "      <td>...</td>\n",
       "      <td>...</td>\n",
       "    </tr>\n",
       "    <tr>\n",
       "      <th>8868727</th>\n",
       "      <td>8868727</td>\n",
       "      <td>2014</td>\n",
       "      <td>2014-10-21</td>\n",
       "      <td>2010</td>\n",
       "      <td>2010-09-22</td>\n",
       "      <td>Blue Stripe Software, Inc.</td>\n",
       "      <td>H04L41/069;G06F11/3495;G06F11/3476;H04L41/0686</td>\n",
       "      <td>G06F2201/875</td>\n",
       "      <td>G06F15/173</td>\n",
       "      <td>NaN</td>\n",
       "      <td>...</td>\n",
       "      <td>0</td>\n",
       "      <td>0</td>\n",
       "      <td>0</td>\n",
       "      <td>3</td>\n",
       "      <td>13</td>\n",
       "      <td>19</td>\n",
       "      <td>0</td>\n",
       "      <td>0</td>\n",
       "      <td>1. A method for monitoring application perform...</td>\n",
       "      <td>12</td>\n",
       "    </tr>\n",
       "    <tr>\n",
       "      <th>8274474</th>\n",
       "      <td>8274474</td>\n",
       "      <td>2012</td>\n",
       "      <td>2012-09-25</td>\n",
       "      <td>2006</td>\n",
       "      <td>2006-07-03</td>\n",
       "      <td>Sony Computer Entertainment Inc.</td>\n",
       "      <td>G06F3/0236</td>\n",
       "      <td>NaN</td>\n",
       "      <td>G09G5/00</td>\n",
       "      <td>NaN</td>\n",
       "      <td>...</td>\n",
       "      <td>0</td>\n",
       "      <td>0</td>\n",
       "      <td>0</td>\n",
       "      <td>0</td>\n",
       "      <td>0</td>\n",
       "      <td>0</td>\n",
       "      <td>0</td>\n",
       "      <td>0</td>\n",
       "      <td>1. A character input device for determining an...</td>\n",
       "      <td>9</td>\n",
       "    </tr>\n",
       "    <tr>\n",
       "      <th>8214890</th>\n",
       "      <td>8214890</td>\n",
       "      <td>2012</td>\n",
       "      <td>2012-07-03</td>\n",
       "      <td>2008</td>\n",
       "      <td>2008-08-27</td>\n",
       "      <td>Microsoft Corporation</td>\n",
       "      <td>H04L63/0823;H04L63/0853;H04L63/18;H04L9/3263;H...</td>\n",
       "      <td>H04L2209/805;H04L2209/56;H04L63/061;H04L2463/062</td>\n",
       "      <td>G06F15/16</td>\n",
       "      <td>NaN</td>\n",
       "      <td>...</td>\n",
       "      <td>2</td>\n",
       "      <td>1</td>\n",
       "      <td>1</td>\n",
       "      <td>17</td>\n",
       "      <td>20</td>\n",
       "      <td>24</td>\n",
       "      <td>0</td>\n",
       "      <td>1</td>\n",
       "      <td>1. A computer-implemented process for allowing...</td>\n",
       "      <td>20</td>\n",
       "    </tr>\n",
       "    <tr>\n",
       "      <th>8816720</th>\n",
       "      <td>8816720</td>\n",
       "      <td>2014</td>\n",
       "      <td>2014-08-26</td>\n",
       "      <td>2012</td>\n",
       "      <td>2012-04-17</td>\n",
       "      <td>Oracle International Corporation</td>\n",
       "      <td>G06F1/26;H03K19/017509</td>\n",
       "      <td>NaN</td>\n",
       "      <td>H03K19/0175</td>\n",
       "      <td>NaN</td>\n",
       "      <td>...</td>\n",
       "      <td>0</td>\n",
       "      <td>1</td>\n",
       "      <td>0</td>\n",
       "      <td>0</td>\n",
       "      <td>1</td>\n",
       "      <td>2</td>\n",
       "      <td>0</td>\n",
       "      <td>0</td>\n",
       "      <td>1. An integrated circuit comprising: a first v...</td>\n",
       "      <td>13</td>\n",
       "    </tr>\n",
       "    <tr>\n",
       "      <th>8635229</th>\n",
       "      <td>8635229</td>\n",
       "      <td>2014</td>\n",
       "      <td>2014-01-21</td>\n",
       "      <td>2011</td>\n",
       "      <td>2011-10-18</td>\n",
       "      <td>International Business Machines Corporation</td>\n",
       "      <td>G06F16/283;G06F16/248;G06F16/284</td>\n",
       "      <td>NaN</td>\n",
       "      <td>G06F17/30</td>\n",
       "      <td>NaN</td>\n",
       "      <td>...</td>\n",
       "      <td>0</td>\n",
       "      <td>0</td>\n",
       "      <td>0</td>\n",
       "      <td>0</td>\n",
       "      <td>0</td>\n",
       "      <td>1</td>\n",
       "      <td>0</td>\n",
       "      <td>0</td>\n",
       "      <td>1. A computer-readable storage memory encoded ...</td>\n",
       "      <td>12</td>\n",
       "    </tr>\n",
       "  </tbody>\n",
       "</table>\n",
       "<p>547479 rows × 68 columns</p>\n",
       "</div>"
      ],
      "text/plain": [
       "        Unnamed: 0  granted_year granted_date  application_year  \\\n",
       "number                                                            \n",
       "7876934    7876934          2011   2011-01-25              2005   \n",
       "7987362    7987362          2011   2011-07-26              2006   \n",
       "7518946    7518946          2009   2009-04-14              2007   \n",
       "7382164    7382164          2008   2008-06-03              2006   \n",
       "7613164    7613164          2009   2009-11-03              2004   \n",
       "...            ...           ...          ...               ...   \n",
       "8868727    8868727          2014   2014-10-21              2010   \n",
       "8274474    8274474          2012   2012-09-25              2006   \n",
       "8214890    8214890          2012   2012-07-03              2008   \n",
       "8816720    8816720          2014   2014-08-26              2012   \n",
       "8635229    8635229          2014   2014-01-21              2011   \n",
       "\n",
       "        application_date                                     assignee  \\\n",
       "number                                                                  \n",
       "7876934       2005-11-02          Siemens Medical Solutions USA, Inc.   \n",
       "7987362       2006-09-12                             Uniloc USA, Inc.   \n",
       "7518946       2007-09-12                          Ricoh Company, Ltd.   \n",
       "7382164       2006-12-20                   Wisepal Technologies, Inc.   \n",
       "7613164       2004-11-03                                      Alcatel   \n",
       "...                  ...                                          ...   \n",
       "8868727       2010-09-22                   Blue Stripe Software, Inc.   \n",
       "8274474       2006-07-03             Sony Computer Entertainment Inc.   \n",
       "8214890       2008-08-27                        Microsoft Corporation   \n",
       "8816720       2012-04-17             Oracle International Corporation   \n",
       "8635229       2011-10-18  International Business Machines Corporation   \n",
       "\n",
       "                                                  main_cpc  \\\n",
       "number                                                       \n",
       "7876934                     G06K9/6255;G06V10/772;G06T7/11   \n",
       "7987362                               G06F21/445;G06F21/73   \n",
       "7518946                                        G06F13/4243   \n",
       "7382164                                         H03K5/1252   \n",
       "7613164                                         H04J3/0688   \n",
       "...                                                    ...   \n",
       "8868727     H04L41/069;G06F11/3495;G06F11/3476;H04L41/0686   \n",
       "8274474                                         G06F3/0236   \n",
       "8214890  H04L63/0823;H04L63/0853;H04L63/18;H04L9/3263;H...   \n",
       "8816720                             G06F1/26;H03K19/017509   \n",
       "8635229                   G06F16/283;G06F16/248;G06F16/284   \n",
       "\n",
       "                                                   sub_cpc     main_ipc  \\\n",
       "number                                                                    \n",
       "7876934  G06T2207/30048;Y10S128/922;G06T2207/10132;Y10S...     G06K9/00   \n",
       "7987362                                      G06F2221/2129     H04L9/32   \n",
       "7518946                                                NaN     G11C8/00   \n",
       "7382164                                                NaN     G06F1/08   \n",
       "7613164                                         H04J3/0691     H04J3/06   \n",
       "...                                                    ...          ...   \n",
       "8868727                                       G06F2201/875   G06F15/173   \n",
       "8274474                                                NaN     G09G5/00   \n",
       "8214890   H04L2209/805;H04L2209/56;H04L63/061;H04L2463/062    G06F15/16   \n",
       "8816720                                                NaN  H03K19/0175   \n",
       "8635229                                                NaN    G06F17/30   \n",
       "\n",
       "                                                sub_ipc  ... 2015 2016  2017  \\\n",
       "number                                                   ...                   \n",
       "7876934                                             NaN  ...    1    3     1   \n",
       "7987362                   G06F11/00;G06F12/14;G11C29/00  ...    0    0     0   \n",
       "7518946                                             NaN  ...    0    0     0   \n",
       "7382164                                             NaN  ...    0    0     0   \n",
       "7613164  H04L12/66;H04W68/00;H04L5/00;H04L7/00;G06F1/00  ...    0    0     0   \n",
       "...                                                 ...  ...  ...  ...   ...   \n",
       "8868727                                             NaN  ...    0    0     0   \n",
       "8274474                                             NaN  ...    0    0     0   \n",
       "8214890                                             NaN  ...    2    1     1   \n",
       "8816720                                             NaN  ...    0    1     0   \n",
       "8635229                                             NaN  ...    0    0     0   \n",
       "\n",
       "        2018 2019 2020  2021 2022  \\\n",
       "number                              \n",
       "7876934    1    3    3     2    0   \n",
       "7987362    0    0    0     0    0   \n",
       "7518946    0    0    0     0    0   \n",
       "7382164    0    0    0     0    0   \n",
       "7613164    2    0    0     0    0   \n",
       "...      ...  ...  ...   ...  ...   \n",
       "8868727    3   13   19     0    0   \n",
       "8274474    0    0    0     0    0   \n",
       "8214890   17   20   24     0    1   \n",
       "8816720    0    1    2     0    0   \n",
       "8635229    0    0    1     0    0   \n",
       "\n",
       "                                                claims_org  n_claims  \n",
       "number                                                                \n",
       "7876934  1. A method for segmenting an organ comprising...        18  \n",
       "7987362  1. A method encoded on a data storage medium a...        13  \n",
       "7518946  1. A memory control device, comprising: a cloc...        15  \n",
       "7382164  1. A glitch suppressing apparatus, comprising:...        22  \n",
       "7613164  1. A method for generating an internal clock i...        13  \n",
       "...                                                    ...       ...  \n",
       "8868727  1. A method for monitoring application perform...        12  \n",
       "8274474  1. A character input device for determining an...         9  \n",
       "8214890  1. A computer-implemented process for allowing...        20  \n",
       "8816720  1. An integrated circuit comprising: a first v...        13  \n",
       "8635229  1. A computer-readable storage memory encoded ...        12  \n",
       "\n",
       "[547479 rows x 68 columns]"
      ]
     },
     "execution_count": 49,
     "metadata": {},
     "output_type": "execute_result"
    }
   ],
   "source": [
    "total_rawdata"
   ]
  },
  {
   "cell_type": "code",
   "execution_count": 50,
   "metadata": {
    "ExecuteTime": {
     "end_time": "2025-04-21T01:14:43.282530Z",
     "start_time": "2025-04-21T01:14:43.252707Z"
    }
   },
   "outputs": [
    {
     "data": {
      "text/plain": [
       "count    69050.000000\n",
       "mean         2.747096\n",
       "std          1.252462\n",
       "min          2.000000\n",
       "25%          2.000000\n",
       "50%          2.000000\n",
       "75%          3.000000\n",
       "max         23.000000\n",
       "Name: ipcs, dtype: float64"
      ]
     },
     "execution_count": 50,
     "metadata": {},
     "output_type": "execute_result"
    }
   ],
   "source": [
    "tech_dataset.data[\"ipcs\"].apply(lambda x: len(x)).describe()"
   ]
  },
  {
   "cell_type": "code",
   "execution_count": 52,
   "metadata": {
    "ExecuteTime": {
     "end_time": "2025-04-21T13:36:35.724261Z",
     "start_time": "2025-04-21T13:36:35.714051Z"
    }
   },
   "outputs": [
    {
     "data": {
      "text/plain": [
       "14.0"
      ]
     },
     "execution_count": 52,
     "metadata": {},
     "output_type": "execute_result"
    }
   ],
   "source": [
    "tech_dataset.data[\"TC5\"].quantile(0.9)"
   ]
  },
  {
   "cell_type": "code",
   "execution_count": 53,
   "metadata": {
    "ExecuteTime": {
     "end_time": "2025-04-21T13:36:36.808069Z",
     "start_time": "2025-04-21T13:36:36.786866Z"
    }
   },
   "outputs": [
    {
     "data": {
      "text/plain": [
       "count    69050.000000\n",
       "mean         5.928834\n",
       "std         12.282008\n",
       "min          0.000000\n",
       "25%          1.000000\n",
       "50%          2.000000\n",
       "75%          6.000000\n",
       "max        310.000000\n",
       "Name: TC5, dtype: float64"
      ]
     },
     "execution_count": 53,
     "metadata": {},
     "output_type": "execute_result"
    }
   ],
   "source": [
    "tech_dataset.data[\"TC5\"].describe()"
   ]
  },
  {
   "cell_type": "code",
   "execution_count": 54,
   "metadata": {
    "ExecuteTime": {
     "end_time": "2025-04-21T13:36:39.454022Z",
     "start_time": "2025-04-21T13:36:38.214185Z"
    },
    "scrolled": true
   },
   "outputs": [
    {
     "data": {
      "text/plain": [
       "Unnamed: 0                                                    8068433\n",
       "granted_year                                                     2011\n",
       "granted_date                                               2011-11-29\n",
       "application_year                                                 2007\n",
       "application_date                                           2007-11-26\n",
       "                                          ...                        \n",
       "2020                                                                2\n",
       "2021                                                                0\n",
       "2022                                                                0\n",
       "claims_org          1. A computing device comprising: a network in...\n",
       "n_claims                                                           19\n",
       "Name: 8068433, Length: 68, dtype: object"
      ]
     },
     "execution_count": 54,
     "metadata": {},
     "output_type": "execute_result"
    }
   ],
   "source": [
    "total_rawdata.loc[\"8068433\"]"
   ]
  },
  {
   "cell_type": "code",
   "execution_count": 55,
   "metadata": {
    "ExecuteTime": {
     "end_time": "2025-04-21T13:36:42.214348Z",
     "start_time": "2025-04-21T13:36:41.951747Z"
    },
    "scrolled": true
   },
   "outputs": [],
   "source": [
    "sample_data = pd.concat([tech_dataset.data.loc[sample_index], tech_dataset.rawdata.set_index(\"number\").loc[sample_index][[\"forward_refs\", \"granted_year\", \"application_year_forward_refs\"]]], axis=1)[[\"claims\", \"ipcs\", \"forward_refs\", \"TC5\", \"granted_year\", \"application_year_forward_refs\"]]"
   ]
  },
  {
   "cell_type": "code",
   "execution_count": 56,
   "metadata": {
    "ExecuteTime": {
     "end_time": "2025-04-21T13:36:45.812068Z",
     "start_time": "2025-04-21T13:36:45.795481Z"
    }
   },
   "outputs": [
    {
     "data": {
      "text/html": [
       "<div>\n",
       "<style scoped>\n",
       "    .dataframe tbody tr th:only-of-type {\n",
       "        vertical-align: middle;\n",
       "    }\n",
       "\n",
       "    .dataframe tbody tr th {\n",
       "        vertical-align: top;\n",
       "    }\n",
       "\n",
       "    .dataframe thead th {\n",
       "        text-align: right;\n",
       "    }\n",
       "</style>\n",
       "<table border=\"1\" class=\"dataframe\">\n",
       "  <thead>\n",
       "    <tr style=\"text-align: right;\">\n",
       "      <th></th>\n",
       "      <th>claims</th>\n",
       "      <th>ipcs</th>\n",
       "      <th>forward_refs</th>\n",
       "      <th>TC5</th>\n",
       "      <th>granted_year</th>\n",
       "      <th>application_year_forward_refs</th>\n",
       "    </tr>\n",
       "  </thead>\n",
       "  <tbody>\n",
       "    <tr>\n",
       "      <th>8068433</th>\n",
       "      <td>1. A computing device comprising: a network in...</td>\n",
       "      <td>[G08C17, H04L12, H04L29]</td>\n",
       "      <td>9386519;10853329;8885531;9288269;9268384;87314...</td>\n",
       "      <td>10</td>\n",
       "      <td>2011</td>\n",
       "      <td>2014;2017;2010;2013;2013;2012;2012;2011;2011;2...</td>\n",
       "    </tr>\n",
       "    <tr>\n",
       "      <th>7600135</th>\n",
       "      <td>1. A processor, comprising: a software control...</td>\n",
       "      <td>[G06F01, G06F01, G06F09]</td>\n",
       "      <td>9032404;7844839;8261116;7849297;8145884;941164...</td>\n",
       "      <td>11</td>\n",
       "      <td>2009</td>\n",
       "      <td>2005;2007;2010;2005;2009;2014;2011;2012;2010;2...</td>\n",
       "    </tr>\n",
       "    <tr>\n",
       "      <th>7739999</th>\n",
       "      <td>1. A method to control combustion in a multi-c...</td>\n",
       "      <td>[F02B03, F02M07, G06F07]</td>\n",
       "      <td>10202927;9708991;9708991;10113747;9845732;9903...</td>\n",
       "      <td>5</td>\n",
       "      <td>2010</td>\n",
       "      <td>2012;2014;2014;2015;2014;2016;2016;2015;2014;2...</td>\n",
       "    </tr>\n",
       "    <tr>\n",
       "      <th>7164981</th>\n",
       "      <td>1. A line pressure variable control method for...</td>\n",
       "      <td>[G06F07, F16H61]</td>\n",
       "      <td>8150585;9488267;8958963;8170762;8170762;769974...</td>\n",
       "      <td>4</td>\n",
       "      <td>2007</td>\n",
       "      <td>2009;2012;2013;2008;2008;2006;2010</td>\n",
       "    </tr>\n",
       "    <tr>\n",
       "      <th>7392483</th>\n",
       "      <td>1. A method of dynamically transforming graphi...</td>\n",
       "      <td>[G06F03, G06F03, G06F17]</td>\n",
       "      <td>9049179;9513882;8903954;8793305;8412675;941788...</td>\n",
       "      <td>54</td>\n",
       "      <td>2008</td>\n",
       "      <td>2012;2010;2011;2007;2006;2010;2011;2010;2019;2...</td>\n",
       "    </tr>\n",
       "    <tr>\n",
       "      <th>8001433</th>\n",
       "      <td>1. A method of making a circuit for scan testi...</td>\n",
       "      <td>[G01R31, G06F17]</td>\n",
       "      <td>9507406;9183105;9684367;10296077</td>\n",
       "      <td>2</td>\n",
       "      <td>2011</td>\n",
       "      <td>2013;2013;2014;2016</td>\n",
       "    </tr>\n",
       "  </tbody>\n",
       "</table>\n",
       "</div>"
      ],
      "text/plain": [
       "                                                    claims  \\\n",
       "8068433  1. A computing device comprising: a network in...   \n",
       "7600135  1. A processor, comprising: a software control...   \n",
       "7739999  1. A method to control combustion in a multi-c...   \n",
       "7164981  1. A line pressure variable control method for...   \n",
       "7392483  1. A method of dynamically transforming graphi...   \n",
       "8001433  1. A method of making a circuit for scan testi...   \n",
       "\n",
       "                             ipcs  \\\n",
       "8068433  [G08C17, H04L12, H04L29]   \n",
       "7600135  [G06F01, G06F01, G06F09]   \n",
       "7739999  [F02B03, F02M07, G06F07]   \n",
       "7164981          [G06F07, F16H61]   \n",
       "7392483  [G06F03, G06F03, G06F17]   \n",
       "8001433          [G01R31, G06F17]   \n",
       "\n",
       "                                              forward_refs  TC5  granted_year  \\\n",
       "8068433  9386519;10853329;8885531;9288269;9268384;87314...   10          2011   \n",
       "7600135  9032404;7844839;8261116;7849297;8145884;941164...   11          2009   \n",
       "7739999  10202927;9708991;9708991;10113747;9845732;9903...    5          2010   \n",
       "7164981  8150585;9488267;8958963;8170762;8170762;769974...    4          2007   \n",
       "7392483  9049179;9513882;8903954;8793305;8412675;941788...   54          2008   \n",
       "8001433                   9507406;9183105;9684367;10296077    2          2011   \n",
       "\n",
       "                             application_year_forward_refs  \n",
       "8068433  2014;2017;2010;2013;2013;2012;2012;2011;2011;2...  \n",
       "7600135  2005;2007;2010;2005;2009;2014;2011;2012;2010;2...  \n",
       "7739999  2012;2014;2014;2015;2014;2016;2016;2015;2014;2...  \n",
       "7164981                 2009;2012;2013;2008;2008;2006;2010  \n",
       "7392483  2012;2010;2011;2007;2006;2010;2011;2010;2019;2...  \n",
       "8001433                                2013;2013;2014;2016  "
      ]
     },
     "execution_count": 56,
     "metadata": {},
     "output_type": "execute_result"
    }
   ],
   "source": [
    "sample_data"
   ]
  },
  {
   "cell_type": "markdown",
   "metadata": {},
   "source": [
    "*TC5는 application이 아니라 granted year 기준!"
   ]
  },
  {
   "cell_type": "code",
   "execution_count": null,
   "metadata": {
    "ExecuteTime": {
     "end_time": "2024-01-19T10:56:11.988649Z",
     "start_time": "2024-01-19T10:56:11.988615Z"
    },
    "scrolled": false
   },
   "outputs": [],
   "source": [
    "sample_data"
   ]
  },
  {
   "cell_type": "markdown",
   "metadata": {},
   "source": [
    "- Used dataset"
   ]
  },
  {
   "cell_type": "code",
   "execution_count": 57,
   "metadata": {
    "ExecuteTime": {
     "end_time": "2025-04-21T13:36:55.127144Z",
     "start_time": "2025-04-21T13:36:55.116551Z"
    },
    "scrolled": true
   },
   "outputs": [
    {
     "data": {
      "text/plain": [
       "count    69050.000000\n",
       "mean         5.928834\n",
       "std         12.282008\n",
       "min          0.000000\n",
       "25%          1.000000\n",
       "50%          2.000000\n",
       "75%          6.000000\n",
       "max        310.000000\n",
       "Name: TC5, dtype: float64"
      ]
     },
     "execution_count": 57,
     "metadata": {},
     "output_type": "execute_result"
    }
   ],
   "source": [
    "tech_dataset.data[\"TC5\"].describe()"
   ]
  },
  {
   "cell_type": "code",
   "execution_count": 58,
   "metadata": {
    "ExecuteTime": {
     "end_time": "2025-04-21T13:36:56.587327Z",
     "start_time": "2025-04-21T13:36:56.083875Z"
    },
    "scrolled": true
   },
   "outputs": [
    {
     "data": {
      "text/plain": [
       "count    6905.000000\n",
       "mean        5.839392\n",
       "std        11.656828\n",
       "min         0.000000\n",
       "25%         1.000000\n",
       "50%         2.000000\n",
       "75%         6.000000\n",
       "max       183.000000\n",
       "Name: TC5, dtype: float64"
      ]
     },
     "execution_count": 58,
     "metadata": {},
     "output_type": "execute_result"
    }
   ],
   "source": [
    "used_test_data[\"TC5\"].describe()"
   ]
  },
  {
   "cell_type": "code",
   "execution_count": 59,
   "metadata": {
    "ExecuteTime": {
     "end_time": "2025-04-21T13:37:04.013723Z",
     "start_time": "2025-04-21T13:37:04.007407Z"
    }
   },
   "outputs": [],
   "source": [
    "L1_criterion = tech_dataset.data[\"TC5\"].quantile(0.9)"
   ]
  },
  {
   "cell_type": "code",
   "execution_count": 60,
   "metadata": {
    "ExecuteTime": {
     "end_time": "2025-04-21T13:37:05.814279Z",
     "start_time": "2025-04-21T13:37:05.801543Z"
    }
   },
   "outputs": [],
   "source": [
    "# used_test_data_TC = used_test_data[(used_test_data[\"TC5\"]>0) & (used_test_data[\"TC5\"]<L1_criterion)].reset_index()\n",
    "used_test_data_TC = used_test_data[used_test_data[\"TC5\"]!=0].reset_index()\n",
    "used_test_index_TC = tech_dataset.data.index.get_indexer(pd.Index(used_test_data_TC[\"number\"]))"
   ]
  },
  {
   "cell_type": "code",
   "execution_count": 61,
   "metadata": {
    "ExecuteTime": {
     "end_time": "2025-04-21T13:37:07.326484Z",
     "start_time": "2025-04-21T13:37:07.318518Z"
    }
   },
   "outputs": [
    {
     "data": {
      "text/plain": [
       "number                                                     7600135\n",
       "main_ipc                                                    G06F01\n",
       "sub_ipc                                           [G06F01, G06F09]\n",
       "ipcs                                      [G06F01, G06F01, G06F09]\n",
       "claims           1. A processor, comprising: a software control...\n",
       "TC5                                                             11\n",
       "TC5_digitized                                                    0\n",
       "class                                                           82\n",
       "Name: 7600135, dtype: object"
      ]
     },
     "execution_count": 61,
     "metadata": {},
     "output_type": "execute_result"
    }
   ],
   "source": [
    "tech_dataset.data.loc[sample_index[1]]"
   ]
  },
  {
   "cell_type": "code",
   "execution_count": 62,
   "metadata": {
    "ExecuteTime": {
     "end_time": "2025-04-21T13:37:09.107831Z",
     "start_time": "2025-04-21T13:37:08.450065Z"
    }
   },
   "outputs": [
    {
     "data": {
      "text/plain": [
       "['G06F01', 'G06F01', 'G06F09']"
      ]
     },
     "execution_count": 62,
     "metadata": {},
     "output_type": "execute_result"
    }
   ],
   "source": [
    "tech_dataset.X_class[sample_index[1]]"
   ]
  },
  {
   "cell_type": "code",
   "execution_count": 63,
   "metadata": {
    "ExecuteTime": {
     "end_time": "2025-04-21T13:37:14.942763Z",
     "start_time": "2025-04-21T13:37:14.925922Z"
    }
   },
   "outputs": [],
   "source": [
    "def tech_identify(idx=None):\n",
    "    input_class = torch.tensor(tech_dataset.tokenizers[\"class_enc\"].encode(tech_dataset.X_class[idx])).unsqueeze(0)\n",
    "    input_claim = tech_dataset.tokenize(tech_dataset.tokenizers[\"claim_enc\"], tech_dataset.X_claim[idx])\n",
    "    input_claim = {k: v.unsqueeze(0) for k, v in input_claim.items()}\n",
    "    batch_input = {\"class\": torch.tensor(input_class), \"claim\": input_claim}\n",
    "    input_inf = to_device(batch_input, final_model.module.device)\n",
    "\n",
    "    output_class = torch.tensor(tech_dataset.tokenizers[\"class_dec\"].encode(tech_dataset.X_class[idx])).unsqueeze(0)\n",
    "    batch_output = {\"text_outputs\": torch.tensor(output_class)}\n",
    "    output_inf = to_device(batch_output, final_model.module.device)\n",
    "\n",
    "    near_mean_idx = np.argsort(np.sum(abs(zs - np.mean(zs, axis=0)), axis=1))[:2500]\n",
    "    near_mean_idx_ = np.union1d(near_mean_idx, np.random.choice(np.where(ys==1)[0], 50))\n",
    "    enc_outputs, z, mu, logvar = final_model.module.encode(input_inf)\n",
    "    org_z = copy.deepcopy(z.view(1,-1).cpu().detach().numpy())\n",
    "    pred_outputs = final_model.module.predict(z)\n",
    "    org_y = copy.deepcopy(pred_outputs.argmax(1).cpu().detach().numpy())\n",
    "    dec_inputs = None\n",
    "\n",
    "    tokenizer = tech_dataset.tokenizers[\"class_dec\"]\n",
    "\n",
    "    org_text = tokenizer.decode_batch(input_class.cpu().detach().numpy())[0]\n",
    "    org_text = org_text[org_text.index(tokenizer.sos_token)+1:org_text.index(tokenizer.eos_token)]\n",
    "\n",
    "    n_iter = 30\n",
    "    step_size = 40\n",
    "\n",
    "    optimised = False\n",
    "    for i in range(n_iter):\n",
    "        pred_outputs = final_model.module.predict(z)\n",
    "        z.retain_grad()\n",
    "        FC_estimated = np.round(np.exp(pred_outputs[0,1].item()), 4) # estimated forward citations\n",
    "        FC_estimated_inv = np.round(np.exp(pred_outputs[0,0].item()), 4)\n",
    "\n",
    "        L1_error = (1-torch.exp(pred_outputs[0,1]))\n",
    "        L1_error.backward(retain_graph=True)\n",
    "\n",
    "        grad_for_update = (step_size * z.grad)\n",
    "        z_ = z - grad_for_update\n",
    "\n",
    "        z.grad.zero_()\n",
    "        dec_outputs = final_model.module.decode(z_, enc_outputs, dec_inputs=None)\n",
    "        dec_outputs = dec_outputs.argmax(-1)\n",
    "\n",
    "        tokenizer = tech_dataset.tokenizers[\"class_dec\"]\n",
    "        gen_text = tokenizer.decode_batch(dec_outputs.cpu().detach().numpy())[0]\n",
    "        if tokenizer.eos_token in gen_text:\n",
    "            gen_text = gen_text[gen_text.index(tokenizer.sos_token)+1:gen_text.index(tokenizer.eos_token)]\n",
    "        else:\n",
    "            gen_text = gen_text[gen_text.index(tokenizer.sos_token)+1:]\n",
    "        if gen_text != []:\n",
    "            gen_text = [gen_text[0]] + list(np.array(gen_text[1:])[np.unique(gen_text[1:], return_index=True)[1]])                \n",
    "            gen_text = set(gen_text)\n",
    "        else: continue\n",
    "\n",
    "        print(f\"<< Iteration {i+1} >>\")\n",
    "        print(f\"Estimated prob. for L1 (L2): {FC_estimated} ({FC_estimated_inv})\")\n",
    "        print(\"Original class:\\n\",set(org_text),\"\\nGenerated class:\\n\", gen_text)                    \n",
    "\n",
    "        if FC_estimated>=0.6:\n",
    "            return\n",
    "        else:\n",
    "            z = z_"
   ]
  },
  {
   "cell_type": "code",
   "execution_count": null,
   "metadata": {
    "scrolled": false
   },
   "outputs": [],
   "source": [
    "# for idx in sample_index_techdataset:\n",
    "#     print()\n",
    "#     tech_identify(idx)"
   ]
  },
  {
   "cell_type": "code",
   "execution_count": 75,
   "metadata": {
    "ExecuteTime": {
     "end_time": "2025-04-21T13:44:51.181137Z",
     "start_time": "2025-04-21T13:44:51.175821Z"
    }
   },
   "outputs": [],
   "source": [
    "def breakdown(ipcs):\n",
    "    return ([ipc[0] for ipc in ipcs], [ipc[:3] for ipc in ipcs], [ipc[:4] for ipc in ipcs], ipcs)"
   ]
  },
  {
   "cell_type": "code",
   "execution_count": 76,
   "metadata": {
    "ExecuteTime": {
     "end_time": "2025-04-21T13:45:01.232197Z",
     "start_time": "2025-04-21T13:45:01.206153Z"
    }
   },
   "outputs": [],
   "source": [
    "def validate_reliability(model=None, idx=None, L1_threshold=0.5, n_iter=30, step_size=40):\n",
    "    cnt_nonexist = 0\n",
    "    cnt_noFC = 0\n",
    "    cnt_diverge = 0\n",
    "    cnt_same_ipcs = 0\n",
    "    \n",
    "    input_class = torch.tensor(tech_dataset.tokenizers[\"class_enc\"].encode(tech_dataset.X_class[used_test_index_TC][idx])).unsqueeze(0)\n",
    "    input_claim = tech_dataset.tokenize(tech_dataset.tokenizers[\"claim_enc\"], tech_dataset.X_claim[used_test_index_TC][idx])\n",
    "    input_claim = {k: v.unsqueeze(0) for k, v in input_claim.items()}\n",
    "    batch_input = {\"class\": torch.tensor(input_class), \"claim\": input_claim}\n",
    "    input_inf = to_device(batch_input, model.device)\n",
    "\n",
    "    output_class = torch.tensor(tech_dataset.tokenizers[\"class_dec\"].encode(tech_dataset.X_class[used_test_index_TC][idx])).unsqueeze(0)\n",
    "    batch_output = {\"text_outputs\": torch.tensor(output_class)}\n",
    "    output_inf = to_device(batch_output, model.device)\n",
    "\n",
    "    enc_outputs, z, mu, logvar = model.encode(input_inf)\n",
    "    org_z = copy.deepcopy(z.view(1,-1).cpu().detach().numpy())\n",
    "    pred_outputs = model.predict(z)\n",
    "    org_y = copy.deepcopy(pred_outputs.argmax(1).cpu().detach().numpy())\n",
    "    dec_inputs = None\n",
    "\n",
    "    if used_test_data_TC.iloc[idx][\"TC5\"] > 0:\n",
    "        forward_refs = used_rawdata.loc[used_test_data_TC.iloc[idx][\"number\"]][\"forward_refs\"].split(\";\")\n",
    "        ref_info = total_data.loc[[ref for ref in forward_refs if ref in total_data.index]]\n",
    "        if len(ref_info) == 0:\n",
    "            cnt_nonexist += 1\n",
    "            return (cnt_nonexist, cnt_noFC, cnt_diverge, cnt_same_ipcs), None\n",
    "        else:\n",
    "            ref_ipcs = ref_info[\"ipcs\"].apply(lambda x: set(x))\n",
    "            ref_FCs = ref_info[\"TC\"+str(n_TC)]\n",
    "\n",
    "            tokenizer = tech_dataset.tokenizers[\"class_dec\"]\n",
    "            \n",
    "            org_text = tokenizer.decode_batch(input_class.cpu().detach().numpy())[0]\n",
    "            org_text = org_text[org_text.index(tokenizer.sos_token)+1:org_text.index(tokenizer.eos_token)]\n",
    "            if set(org_text)==set(np.concatenate(ref_ipcs.apply(lambda x: list(x)).values)):\n",
    "                cnt_same_ipcs += 1\n",
    "\n",
    "            inclusions = [None, None, None, None]\n",
    "            higher_impacts = [None, None, None, None]\n",
    "            similar_refs_out = [None, None, None, None]\n",
    "            unsimilar_refs_out = [None, None, None, None]\n",
    "            optimised = False\n",
    "            for i in range(n_iter):\n",
    "                pred_outputs = model.predict(z)\n",
    "                z.retain_grad()\n",
    "                FC_estimated = np.round(np.exp(pred_outputs[0,1].item()), 4) # estimated forward citations\n",
    "                FC_estimated_inv = np.round(np.exp(pred_outputs[0,0].item()), 4)\n",
    "                \n",
    "                L1_error = (1-torch.exp(pred_outputs[0,1]))\n",
    "                L1_error.backward(retain_graph=True)\n",
    "\n",
    "                grad_for_update = (step_size * z.grad)\n",
    "                z_ = z - grad_for_update\n",
    "\n",
    "                z.grad.zero_()\n",
    "                dec_outputs = model.decode(z_, enc_outputs, dec_inputs=None)\n",
    "                dec_outputs = dec_outputs.argmax(-1)\n",
    "\n",
    "                tokenizer = tech_dataset.tokenizers[\"class_dec\"]\n",
    "                gen_text = tokenizer.decode_batch(dec_outputs.cpu().detach().numpy())[0]\n",
    "                if tokenizer.eos_token in gen_text:\n",
    "                    gen_text = gen_text[gen_text.index(tokenizer.sos_token)+1:gen_text.index(tokenizer.eos_token)]\n",
    "                else:\n",
    "                    gen_text = gen_text[gen_text.index(tokenizer.sos_token)+1:]\n",
    "                if gen_text != []:\n",
    "                    gen_text = [gen_text[0]] + list(np.array(gen_text[1:])[np.unique(gen_text[1:], return_index=True)[1]])                \n",
    "                    gen_text = set(gen_text)\n",
    "                else: continue\n",
    "                \n",
    "                if FC_estimated>=L1_threshold:\n",
    "                    optimised = True\n",
    "    \n",
    "                    gen_text_breakdown = breakdown(gen_text)\n",
    "                    ref_ipcs_breakdown = (ref_ipcs.apply(lambda x: breakdown(x)[0]), ref_ipcs.apply(lambda x: breakdown(x)[1]), ref_ipcs.apply(lambda x: breakdown(x)[2]), ref_ipcs)\n",
    "            \n",
    "                    for i in range(4):\n",
    "                        if inclusions[i] is not None: continue\n",
    "                        temp_gen_text = gen_text_breakdown[i]\n",
    "                        temp_ref_ipcs = ref_ipcs_breakdown[i]\n",
    "                    \n",
    "                        hit_index = temp_ref_ipcs.apply(lambda x: 1 if set(x)==set(temp_gen_text) else 0)==1\n",
    "                        similar_refs = temp_ref_ipcs[hit_index].index\n",
    "                        similar_refs_out[i] = similar_refs\n",
    "                        unsimilar_refs = temp_ref_ipcs[~hit_index].index\n",
    "                        unsimilar_refs_out[i] = unsimilar_refs\n",
    "                        if len(similar_refs) == 0:\n",
    "                            inclusions[i] = 0\n",
    "                            higher_impacts[i] = None\n",
    "                        elif len(unsimilar_refs) == 0:\n",
    "                            inclusions[i] = 1\n",
    "                            similar_mean_FC = np.mean(ref_FCs.loc[similar_refs])\n",
    "                            if similar_mean_FC <= 0:\n",
    "                                higher_impacts[i] = 0\n",
    "                            else:\n",
    "                                higher_impacts[i] = 1\n",
    "                        else:\n",
    "                            inclusions[i] = 1\n",
    "                            similar_mean_FC = np.mean(ref_FCs.loc[similar_refs])\n",
    "                            unsimilar_mean_FC = np.mean(ref_FCs.loc[unsimilar_refs])\n",
    "                            if similar_mean_FC >= unsimilar_mean_FC:\n",
    "                                if similar_mean_FC <= 0:\n",
    "                                    higher_impacts[i] = None\n",
    "                                else:\n",
    "                                    higher_impacts[i] = 1\n",
    "                            else:\n",
    "                                higher_impacts[i] = 0\n",
    "                    if None not in inclusions:\n",
    "                        break\n",
    "                z = z_\n",
    "            if optimised:\n",
    "                return (cnt_nonexist, cnt_noFC, cnt_diverge, cnt_same_ipcs), {\"index\": idx, \"patent_id\": used_test_data_TC.iloc[idx][\"number\"], \n",
    "                         \"org_text\": org_text, \"gen_text\": gen_text, \"ref_ipcs\": ref_ipcs, \"ref_FCs\": ref_FCs,\n",
    "                         \"inclusions\": inclusions, \"higher_impacts\": higher_impacts, \n",
    "                         \"FC_estimated\": FC_estimated,\n",
    "                         \"similar_refs\": similar_refs_out, \"unsimilar_refs\": unsimilar_refs_out}\n",
    "            else:\n",
    "                cnt_diverge += 1\n",
    "                return (cnt_nonexist, cnt_noFC, cnt_diverge, cnt_same_ipcs), None\n",
    "    else:\n",
    "        pass\n",
    "        cnt_noFC += 1\n",
    "        return (cnt_nonexist, cnt_noFC, cnt_diverge, cnt_same_ipcs), None"
   ]
  },
  {
   "cell_type": "code",
   "execution_count": 65,
   "metadata": {
    "ExecuteTime": {
     "end_time": "2025-04-21T13:37:30.468287Z",
     "start_time": "2025-04-21T13:37:28.793946Z"
    }
   },
   "outputs": [
    {
     "ename": "NameError",
     "evalue": "name 'ref_ipcs' is not defined",
     "output_type": "error",
     "traceback": [
      "\u001b[0;31m---------------------------------------------------------------------------\u001b[0m",
      "\u001b[0;31mNameError\u001b[0m                                 Traceback (most recent call last)",
      "\u001b[0;32m/tmp/ipykernel_8668/1454570545.py\u001b[0m in \u001b[0;36m<module>\u001b[0;34m\u001b[0m\n\u001b[0;32m----> 1\u001b[0;31m \u001b[0mref_ipcs_breakdown\u001b[0m \u001b[0;34m=\u001b[0m \u001b[0;34m(\u001b[0m\u001b[0mref_ipcs\u001b[0m\u001b[0;34m.\u001b[0m\u001b[0mapply\u001b[0m\u001b[0;34m(\u001b[0m\u001b[0;32mlambda\u001b[0m \u001b[0mx\u001b[0m\u001b[0;34m:\u001b[0m \u001b[0mbreakdown\u001b[0m\u001b[0;34m(\u001b[0m\u001b[0mx\u001b[0m\u001b[0;34m)\u001b[0m\u001b[0;34m[\u001b[0m\u001b[0;36m0\u001b[0m\u001b[0;34m]\u001b[0m\u001b[0;34m)\u001b[0m\u001b[0;34m,\u001b[0m \u001b[0mref_ipcs\u001b[0m\u001b[0;34m.\u001b[0m\u001b[0mapply\u001b[0m\u001b[0;34m(\u001b[0m\u001b[0;32mlambda\u001b[0m \u001b[0mx\u001b[0m\u001b[0;34m:\u001b[0m \u001b[0mbreakdown\u001b[0m\u001b[0;34m(\u001b[0m\u001b[0mx\u001b[0m\u001b[0;34m)\u001b[0m\u001b[0;34m[\u001b[0m\u001b[0;36m1\u001b[0m\u001b[0;34m]\u001b[0m\u001b[0;34m)\u001b[0m\u001b[0;34m,\u001b[0m \u001b[0mref_ipcs\u001b[0m\u001b[0;34m.\u001b[0m\u001b[0mapply\u001b[0m\u001b[0;34m(\u001b[0m\u001b[0;32mlambda\u001b[0m \u001b[0mx\u001b[0m\u001b[0;34m:\u001b[0m \u001b[0mbreakdown\u001b[0m\u001b[0;34m(\u001b[0m\u001b[0mx\u001b[0m\u001b[0;34m)\u001b[0m\u001b[0;34m[\u001b[0m\u001b[0;36m2\u001b[0m\u001b[0;34m]\u001b[0m\u001b[0;34m)\u001b[0m\u001b[0;34m,\u001b[0m \u001b[0mref_ipcs\u001b[0m\u001b[0;34m)\u001b[0m\u001b[0;34m\u001b[0m\u001b[0;34m\u001b[0m\u001b[0m\n\u001b[0m",
      "\u001b[0;31mNameError\u001b[0m: name 'ref_ipcs' is not defined"
     ]
    }
   ],
   "source": [
    "ref_ipcs_breakdown = (ref_ipcs.apply(lambda x: breakdown(x)[0]), ref_ipcs.apply(lambda x: breakdown(x)[1]), ref_ipcs.apply(lambda x: breakdown(x)[2]), ref_ipcs)"
   ]
  },
  {
   "cell_type": "code",
   "execution_count": null,
   "metadata": {
    "ExecuteTime": {
     "end_time": "2025-04-21T13:37:30.470086Z",
     "start_time": "2025-04-21T13:37:30.470071Z"
    }
   },
   "outputs": [],
   "source": [
    "ref_ipcs_breakdown[2]"
   ]
  },
  {
   "cell_type": "markdown",
   "metadata": {},
   "source": [
    "- Load computed dict_out (validation)"
   ]
  },
  {
   "cell_type": "code",
   "execution_count": 77,
   "metadata": {
    "ExecuteTime": {
     "end_time": "2025-04-21T13:45:04.876137Z",
     "start_time": "2025-04-21T13:45:04.870226Z"
    }
   },
   "outputs": [
    {
     "name": "stdout",
     "output_type": "stream",
     "text": [
      "2023-05-09_0331_thre0.3\n"
     ]
    }
   ],
   "source": [
    "load_dict_out = False\n",
    "save_dict_out = True\n",
    "L1_threshold = 0.3 # or None\n",
    "n_iter = 30\n",
    "step_size = 40\n",
    "analysis_config = analysis_date + \"_thre\" + str(L1_threshold)\n",
    "print(analysis_config)"
   ]
  },
  {
   "cell_type": "code",
   "execution_count": 78,
   "metadata": {
    "ExecuteTime": {
     "end_time": "2025-04-21T13:51:23.119944Z",
     "start_time": "2025-04-21T13:45:06.009190Z"
    },
    "scrolled": true
   },
   "outputs": [
    {
     "name": "stderr",
     "output_type": "stream",
     "text": [
      "100%|██████████| 5205/5205 [06:16<00:00, 13.81it/s]\n"
     ]
    },
    {
     "ename": "FileNotFoundError",
     "evalue": "[Errno 2] No such file or directory: '../results/validation/2023-05-09_0331_thre0.3/dict_out.pickle'",
     "output_type": "error",
     "traceback": [
      "\u001b[0;31m---------------------------------------------------------------------------\u001b[0m",
      "\u001b[0;31mFileNotFoundError\u001b[0m                         Traceback (most recent call last)",
      "\u001b[0;32m/tmp/ipykernel_8668/1029415904.py\u001b[0m in \u001b[0;36m<module>\u001b[0;34m\u001b[0m\n\u001b[1;32m     24\u001b[0m \u001b[0;34m\u001b[0m\u001b[0m\n\u001b[1;32m     25\u001b[0m     \u001b[0;32mif\u001b[0m \u001b[0msave_dict_out\u001b[0m\u001b[0;34m:\u001b[0m\u001b[0;34m\u001b[0m\u001b[0;34m\u001b[0m\u001b[0m\n\u001b[0;32m---> 26\u001b[0;31m         \u001b[0;32mwith\u001b[0m \u001b[0mopen\u001b[0m\u001b[0;34m(\u001b[0m\u001b[0;34m\"../results/validation/\"\u001b[0m\u001b[0;34m+\u001b[0m\u001b[0manalysis_config\u001b[0m\u001b[0;34m+\u001b[0m\u001b[0;34m\"/dict_out.pickle\"\u001b[0m\u001b[0;34m,\u001b[0m \u001b[0;34m\"rb\"\u001b[0m\u001b[0;34m)\u001b[0m \u001b[0;32mas\u001b[0m \u001b[0mf\u001b[0m\u001b[0;34m:\u001b[0m\u001b[0;34m\u001b[0m\u001b[0;34m\u001b[0m\u001b[0m\n\u001b[0m\u001b[1;32m     27\u001b[0m             \u001b[0mpickle\u001b[0m\u001b[0;34m.\u001b[0m\u001b[0mdump\u001b[0m\u001b[0;34m(\u001b[0m\u001b[0mdict_out\u001b[0m\u001b[0;34m,\u001b[0m \u001b[0mf\u001b[0m\u001b[0;34m)\u001b[0m\u001b[0;34m\u001b[0m\u001b[0;34m\u001b[0m\u001b[0m\n",
      "\u001b[0;31mFileNotFoundError\u001b[0m: [Errno 2] No such file or directory: '../results/validation/2023-05-09_0331_thre0.3/dict_out.pickle'"
     ]
    }
   ],
   "source": [
    "if load_dict_out:\n",
    "    with open(\"../results/validation/\"+analysis_config+\"/dict_out.pickle\", \"rb\") as f:\n",
    "        dict_out = pickle.load(f)\n",
    "    print(\"dict_out loaded\")\n",
    "else:\n",
    "    model = final_model.module if torch.cuda.is_available() else final_model\n",
    "    cnt_nonexist, cnt_noFC, cnt_diverge, cnt_same_ipcs = 0, 0, 0, 0\n",
    "    dict_out = {\"index\": [], \"patent_id\": [], \"org_text\": [], \"gen_text\": [], \"ref_ipcs\": [], \"ref_FCs\": [],\n",
    "                \"inclusions\": [], \"higher_impacts\": [], \"FC_estimated\": [], \"similar_refs\": [], \"unsimilar_refs\": []}\n",
    "    for idx in tqdm(range(len(used_test_index_TC))):\n",
    "#     for idx in tqdm(range(500)):\n",
    "        cnts, results = validate_reliability(model=model, idx=idx, L1_threshold=L1_threshold, n_iter=n_iter, step_size=step_size)\n",
    "        cnt_nonexist += cnts[0]\n",
    "        cnt_noFC += cnts[1]\n",
    "        cnt_diverge += cnts[2]\n",
    "        cnt_same_ipcs += cnts[3]\n",
    "        if results is not None:\n",
    "            for k,v in results.items():\n",
    "                dict_out[k].append(v)\n",
    "    for k, v in dict_out.items():\n",
    "        dict_out[k] = np.array(v)\n",
    "    dict_out[\"cnts\"] = {\"cnt_nonexist\": cnt_nonexist, \"cnt_noFC\": cnt_noFC, \n",
    "                \"cnt_diverge\": cnt_diverge, \"cnt_same_ipcs\": cnt_same_ipcs}\n",
    "    \n",
    "    if save_dict_out:\n",
    "        with open(\"../results/validation/\"+analysis_config+\"/dict_out.pickle\", \"wb\") as f:\n",
    "            pickle.dump(dict_out, f)"
   ]
  },
  {
   "cell_type": "code",
   "execution_count": 87,
   "metadata": {
    "ExecuteTime": {
     "end_time": "2025-04-21T13:53:21.011628Z",
     "start_time": "2025-04-21T13:53:21.005224Z"
    }
   },
   "outputs": [
    {
     "data": {
      "text/plain": [
       "False"
      ]
     },
     "execution_count": 87,
     "metadata": {},
     "output_type": "execute_result"
    }
   ],
   "source": [
    "os.path.exists(fname_to_save)"
   ]
  },
  {
   "cell_type": "code",
   "execution_count": 86,
   "metadata": {
    "ExecuteTime": {
     "end_time": "2025-04-21T13:53:20.393570Z",
     "start_time": "2025-04-21T13:53:20.389622Z"
    }
   },
   "outputs": [],
   "source": [
    "fname_to_save = \"../results/validation/\"+analysis_config+\"/dict_out.pickle\""
   ]
  },
  {
   "cell_type": "code",
   "execution_count": 88,
   "metadata": {
    "ExecuteTime": {
     "end_time": "2025-04-21T13:54:14.166705Z",
     "start_time": "2025-04-21T13:54:12.104432Z"
    }
   },
   "outputs": [],
   "source": [
    "if save_dict_out:\n",
    "    dir_to_save = \"../results/validation/\"+analysis_config\n",
    "    if not os.path.exists(dir_to_save):\n",
    "        os.mkdir(dir_to_save)\n",
    "    with open(dir_to_save+\"/dict_out.pickle\", \"wb\") as f:\n",
    "        pickle.dump(dict_out, f)"
   ]
  },
  {
   "cell_type": "code",
   "execution_count": 94,
   "metadata": {
    "ExecuteTime": {
     "end_time": "2025-04-21T13:54:37.504537Z",
     "start_time": "2025-04-21T13:54:37.498426Z"
    }
   },
   "outputs": [
    {
     "data": {
      "text/plain": [
       "array([list(['G10L15', 'G06F07', 'G10L15']), list(['G06F09', 'G06F09']),\n",
       "       list(['G06K09', 'H04N05', 'H04N09']), ...,\n",
       "       list(['G06F07', 'G06K15']), list(['G06F03', 'G06F03', 'G06F09']),\n",
       "       list(['G06F07', 'G06F17'])], dtype=object)"
      ]
     },
     "execution_count": 94,
     "metadata": {},
     "output_type": "execute_result"
    }
   ],
   "source": [
    "dict_out[\"org_text\"]"
   ]
  },
  {
   "cell_type": "code",
   "execution_count": 92,
   "metadata": {
    "ExecuteTime": {
     "end_time": "2025-04-21T13:54:32.916307Z",
     "start_time": "2025-04-21T13:54:32.910165Z"
    }
   },
   "outputs": [
    {
     "data": {
      "text/plain": [
       "array([{'G10L15'}, {'G06F09'}, {'H04N05', 'H04N09', 'G06K09'}, ...,\n",
       "       {'G06F19', 'G06F07'}, {'G06F03'}, {'G06F17', 'G06F07'}],\n",
       "      dtype=object)"
      ]
     },
     "execution_count": 92,
     "metadata": {},
     "output_type": "execute_result"
    }
   ],
   "source": [
    "dict_out[\"gen_text\"]"
   ]
  },
  {
   "cell_type": "code",
   "execution_count": 95,
   "metadata": {
    "ExecuteTime": {
     "end_time": "2025-04-21T13:54:38.675574Z",
     "start_time": "2025-04-21T13:54:38.657970Z"
    }
   },
   "outputs": [],
   "source": [
    "ipcs_comparison = pd.concat([pd.Series(dict_out[\"org_text\"]).apply(lambda x: set(x)), pd.Series(dict_out[\"gen_text\"]).apply(lambda x: set(x))], axis=1)"
   ]
  },
  {
   "cell_type": "code",
   "execution_count": 96,
   "metadata": {
    "ExecuteTime": {
     "end_time": "2025-04-21T13:54:39.099990Z",
     "start_time": "2025-04-21T13:54:39.083074Z"
    }
   },
   "outputs": [
    {
     "data": {
      "text/html": [
       "<div>\n",
       "<style scoped>\n",
       "    .dataframe tbody tr th:only-of-type {\n",
       "        vertical-align: middle;\n",
       "    }\n",
       "\n",
       "    .dataframe tbody tr th {\n",
       "        vertical-align: top;\n",
       "    }\n",
       "\n",
       "    .dataframe thead th {\n",
       "        text-align: right;\n",
       "    }\n",
       "</style>\n",
       "<table border=\"1\" class=\"dataframe\">\n",
       "  <thead>\n",
       "    <tr style=\"text-align: right;\">\n",
       "      <th></th>\n",
       "      <th>0</th>\n",
       "      <th>1</th>\n",
       "    </tr>\n",
       "  </thead>\n",
       "  <tbody>\n",
       "    <tr>\n",
       "      <th>0</th>\n",
       "      <td>{G10L15, G06F07}</td>\n",
       "      <td>{G10L15}</td>\n",
       "    </tr>\n",
       "    <tr>\n",
       "      <th>1</th>\n",
       "      <td>{G06F09}</td>\n",
       "      <td>{G06F09}</td>\n",
       "    </tr>\n",
       "    <tr>\n",
       "      <th>2</th>\n",
       "      <td>{H04N05, H04N09, G06K09}</td>\n",
       "      <td>{H04N05, H04N09, G06K09}</td>\n",
       "    </tr>\n",
       "    <tr>\n",
       "      <th>3</th>\n",
       "      <td>{G06F17, G06F07}</td>\n",
       "      <td>{G06F17, G06F07}</td>\n",
       "    </tr>\n",
       "    <tr>\n",
       "      <th>4</th>\n",
       "      <td>{G06F03, H04N07}</td>\n",
       "      <td>{G06F03, H04N07}</td>\n",
       "    </tr>\n",
       "    <tr>\n",
       "      <th>...</th>\n",
       "      <td>...</td>\n",
       "      <td>...</td>\n",
       "    </tr>\n",
       "    <tr>\n",
       "      <th>4145</th>\n",
       "      <td>{G06F09, G06F03, G06F13}</td>\n",
       "      <td>{G06F09, G06F03, G06F13}</td>\n",
       "    </tr>\n",
       "    <tr>\n",
       "      <th>4146</th>\n",
       "      <td>{G06F09, G06F15, G06F07}</td>\n",
       "      <td>{G06F09, G06F15, G06F07}</td>\n",
       "    </tr>\n",
       "    <tr>\n",
       "      <th>4147</th>\n",
       "      <td>{G06F07, G06K15}</td>\n",
       "      <td>{G06F19, G06F07}</td>\n",
       "    </tr>\n",
       "    <tr>\n",
       "      <th>4148</th>\n",
       "      <td>{G06F09, G06F03}</td>\n",
       "      <td>{G06F03}</td>\n",
       "    </tr>\n",
       "    <tr>\n",
       "      <th>4149</th>\n",
       "      <td>{G06F17, G06F07}</td>\n",
       "      <td>{G06F17, G06F07}</td>\n",
       "    </tr>\n",
       "  </tbody>\n",
       "</table>\n",
       "<p>4150 rows × 2 columns</p>\n",
       "</div>"
      ],
      "text/plain": [
       "                             0                         1\n",
       "0             {G10L15, G06F07}                  {G10L15}\n",
       "1                     {G06F09}                  {G06F09}\n",
       "2     {H04N05, H04N09, G06K09}  {H04N05, H04N09, G06K09}\n",
       "3             {G06F17, G06F07}          {G06F17, G06F07}\n",
       "4             {G06F03, H04N07}          {G06F03, H04N07}\n",
       "...                        ...                       ...\n",
       "4145  {G06F09, G06F03, G06F13}  {G06F09, G06F03, G06F13}\n",
       "4146  {G06F09, G06F15, G06F07}  {G06F09, G06F15, G06F07}\n",
       "4147          {G06F07, G06K15}          {G06F19, G06F07}\n",
       "4148          {G06F09, G06F03}                  {G06F03}\n",
       "4149          {G06F17, G06F07}          {G06F17, G06F07}\n",
       "\n",
       "[4150 rows x 2 columns]"
      ]
     },
     "execution_count": 96,
     "metadata": {},
     "output_type": "execute_result"
    }
   ],
   "source": [
    "ipcs_comparison"
   ]
  },
  {
   "cell_type": "code",
   "execution_count": 97,
   "metadata": {
    "ExecuteTime": {
     "end_time": "2025-04-21T13:54:46.070445Z",
     "start_time": "2025-04-21T13:54:46.063495Z"
    }
   },
   "outputs": [
    {
     "data": {
      "text/plain": [
       "True"
      ]
     },
     "execution_count": 97,
     "metadata": {},
     "output_type": "execute_result"
    }
   ],
   "source": [
    "ipcs_comparison.iloc[2][0] == ipcs_comparison.iloc[2][1]"
   ]
  },
  {
   "cell_type": "code",
   "execution_count": 98,
   "metadata": {
    "ExecuteTime": {
     "end_time": "2025-04-21T13:54:47.598965Z",
     "start_time": "2025-04-21T13:54:47.554802Z"
    }
   },
   "outputs": [],
   "source": [
    "n_differentiated = ipcs_comparison.apply(lambda x: 1 if x[0]!=x[1] else 0, axis=1).sum()"
   ]
  },
  {
   "cell_type": "code",
   "execution_count": 99,
   "metadata": {
    "ExecuteTime": {
     "end_time": "2025-04-21T13:54:48.000967Z",
     "start_time": "2025-04-21T13:54:47.995855Z"
    }
   },
   "outputs": [
    {
     "data": {
      "text/plain": [
       "0.4831325301204819"
      ]
     },
     "execution_count": 99,
     "metadata": {},
     "output_type": "execute_result"
    }
   ],
   "source": [
    "n_differentiated / len(ipcs_comparison)"
   ]
  },
  {
   "cell_type": "code",
   "execution_count": 100,
   "metadata": {
    "ExecuteTime": {
     "end_time": "2025-04-21T13:54:50.189215Z",
     "start_time": "2025-04-21T13:54:50.175062Z"
    },
    "scrolled": false
   },
   "outputs": [
    {
     "name": "stdout",
     "output_type": "stream",
     "text": [
      "#total: 5205\n",
      "#valid data: 4150\n",
      "#nonexist data: 1048\n",
      "#no forward citations: 0\n",
      "#diverged: 7\n",
      "#same ipcs: 185\n",
      "\n",
      "\n",
      "for level 4, Ratio generated IPCs are included in citing patents: 0.1583\n",
      "for level 4, Ratio generated IPCs have higher impact than other citing patents: 0.4984\n",
      "\n",
      "\n"
     ]
    }
   ],
   "source": [
    "print(\"#total:\",len(used_test_index_TC))\n",
    "print(\"#valid data:\",len(dict_out[\"index\"]))\n",
    "print(\"#nonexist data:\",dict_out[\"cnts\"][\"cnt_nonexist\"])\n",
    "print(\"#no forward citations:\",dict_out[\"cnts\"][\"cnt_noFC\"])\n",
    "print(\"#diverged:\",dict_out[\"cnts\"][\"cnt_diverge\"])\n",
    "print(\"#same ipcs:\",dict_out[\"cnts\"][\"cnt_same_ipcs\"])\n",
    "print(\"\\n\")\n",
    "for i in range(3,4):\n",
    "    inclusions = np.array(dict_out[\"inclusions\"])[:,i]\n",
    "    ratio_included = np.round(len(inclusions[inclusions==1])/len(inclusions), 4)\n",
    "    higher_impacts = np.array(dict_out[\"higher_impacts\"])[:,i][np.array(dict_out[\"higher_impacts\"])[:,i] != None]\n",
    "    ratio_higher_impact = np.round(len(higher_impacts[higher_impacts==1])/len(higher_impacts), 4)\n",
    "    print(f\"for level {i+1}, Ratio generated IPCs are included in citing patents: {ratio_included}\")\n",
    "    print(f\"for level {i+1}, Ratio generated IPCs have higher impact than other citing patents: {ratio_higher_impact}\")\n",
    "    print(\"\\n\")"
   ]
  },
  {
   "cell_type": "code",
   "execution_count": 101,
   "metadata": {
    "ExecuteTime": {
     "end_time": "2025-04-21T13:55:05.175562Z",
     "start_time": "2025-04-21T13:55:05.170282Z"
    }
   },
   "outputs": [],
   "source": [
    "temp_inclusions = np.array(dict_out[\"inclusions\"])[np.array(dict_out[\"inclusions\"])[:,-1]==0]"
   ]
  },
  {
   "cell_type": "code",
   "execution_count": 102,
   "metadata": {
    "ExecuteTime": {
     "end_time": "2025-04-21T13:55:05.720723Z",
     "start_time": "2025-04-21T13:55:05.712324Z"
    },
    "scrolled": true
   },
   "outputs": [
    {
     "name": "stdout",
     "output_type": "stream",
     "text": [
      "for level 1, Hit ratio when level 4 is not hit: 0.2648\n",
      "for level 2, Hit ratio when level 4 is not hit: 0.4286\n",
      "for level 3, Hit ratio when level 4 is not hit: 0.6018\n"
     ]
    }
   ],
   "source": [
    "temp_inclusions = np.array(dict_out[\"inclusions\"])[np.array(dict_out[\"inclusions\"])[:,-1]==0]\n",
    "for i in range(3):\n",
    "    temp_ratio = len(temp_inclusions[temp_inclusions[:,i]==0]) / len(temp_inclusions)\n",
    "    print(f\"for level {i+1}, Hit ratio when level 4 is not hit: {np.round(temp_ratio,4)}\")"
   ]
  },
  {
   "cell_type": "code",
   "execution_count": 103,
   "metadata": {
    "ExecuteTime": {
     "end_time": "2025-04-21T13:55:15.935693Z",
     "start_time": "2025-04-21T13:55:06.353245Z"
    },
    "scrolled": true
   },
   "outputs": [
    {
     "name": "stderr",
     "output_type": "stream",
     "text": [
      "/home2/glee/.conda/envs/DL/lib/python3.9/site-packages/numpy/core/fromnumeric.py:3702: RuntimeWarning: Degrees of freedom <= 0 for slice\n",
      "  return _methods._var(a, axis=axis, dtype=dtype, out=out, ddof=ddof,\n",
      "/home2/glee/.conda/envs/DL/lib/python3.9/site-packages/numpy/core/_methods.py:253: RuntimeWarning: invalid value encountered in double_scalars\n",
      "  ret = ret.dtype.type(ret / rcount)\n"
     ]
    },
    {
     "name": "stdout",
     "output_type": "stream",
     "text": [
      "Distribution of forward citations (hit)\n",
      " count    1455.000000\n",
      "mean        7.712715\n",
      "std        15.151139\n",
      "min         0.000000\n",
      "25%         0.000000\n",
      "50%         3.000000\n",
      "75%         8.000000\n",
      "max       202.000000\n",
      "dtype: float64 \n",
      "\n",
      "Distribution of forward citations (not hit)\n",
      " count    5694.000000\n",
      "mean       15.168950\n",
      "std        34.533883\n",
      "min         0.000000\n",
      "25%         1.000000\n",
      "50%         3.000000\n",
      "75%        12.000000\n",
      "max       425.000000\n",
      "dtype: float64 \n",
      "\n",
      "Distribution of mean forward citations (hit)\n",
      " count    657.000000\n",
      "mean       6.008552\n",
      "std        9.468174\n",
      "min        0.000000\n",
      "25%        1.000000\n",
      "50%        2.500000\n",
      "75%        6.500000\n",
      "max       55.666667\n",
      "dtype: float64 \n",
      "\n",
      "Distribution of mean forward citations (not hit)\n",
      " count    657.000000\n",
      "mean       6.217299\n",
      "std       12.152259\n",
      "min        0.000000\n",
      "25%        0.333333\n",
      "50%        2.571429\n",
      "75%        6.750000\n",
      "max      143.300000\n",
      "dtype: float64 \n",
      "\n",
      "Distribution of difference of forward citations\n",
      " count    657.000000\n",
      "mean      -0.208747\n",
      "std       13.731142\n",
      "min     -140.300000\n",
      "25%       -2.750000\n",
      "50%        0.000000\n",
      "75%        2.600000\n",
      "max       55.000000\n",
      "dtype: float64 \n",
      "\n"
     ]
    }
   ],
   "source": [
    "from scipy.stats import ttest_ind\n",
    "whole_patent_classes = tech_dataset.data[\"ipcs\"].apply(lambda x: set(x))\n",
    "\n",
    "hit_similar_FCs, hit_unsimilar_FCs, hit_diff_FCs = [], [], []\n",
    "hit_similar_FCs_mean, hit_unsimilar_FCs_mean = [], []\n",
    "hit_similar_FCs_rank = []\n",
    "whole_FC_ttest = {\"statistic\": [], \"pvalue\": []}\n",
    "whole_FCs_diff = []\n",
    "hit_samples_index = dict_out[\"inclusions\"][:,-1]==1\n",
    "\n",
    "hit_patent_ids = dict_out[\"patent_id\"][hit_samples_index]\n",
    "hit_similar_refs = dict_out[\"similar_refs\"][hit_samples_index][:,-1]\n",
    "hit_unsimilar_refs = dict_out[\"unsimilar_refs\"][hit_samples_index][:,-1]\n",
    "for i in range(len(hit_patent_ids)):\n",
    "    hit_FCs = dict_out[\"ref_FCs\"][hit_samples_index][i]\n",
    "    hit_FCs = hit_FCs.loc[~hit_FCs.index.duplicated(keep=\"first\")]\n",
    "    hit_similar_FC = hit_FCs.loc[hit_similar_refs[i].drop_duplicates()]\n",
    "    hit_similar_FC_rank = hit_FCs.rank(pct=True).loc[hit_similar_refs[i].drop_duplicates()]\n",
    "    hit_unsimilar_FC = hit_FCs.loc[hit_unsimilar_refs[i].drop_duplicates()]\n",
    "    if len(hit_unsimilar_FC)>0:\n",
    "        hit_diff_FC = hit_similar_FC.mean() - hit_unsimilar_FC.mean()\n",
    "    else:\n",
    "        hit_diff_FC = hit_similar_FC.mean()\n",
    "    \n",
    "    org_whole_FC = tech_dataset.data.loc[whole_patent_classes[whole_patent_classes==set(dict_out[\"org_text\"][hit_samples_index][i])].index][\"TC5\"]\n",
    "    gen_whole_FC = tech_dataset.data.loc[whole_patent_classes[whole_patent_classes==set(dict_out[\"gen_text\"][hit_samples_index][i])].index][\"TC5\"]\n",
    "    if len(org_whole_FC)>0:\n",
    "        whole_FC_diff = gen_whole_FC.mean() - org_whole_FC.mean()\n",
    "    else:\n",
    "        whole_FC_diff = gen_whole_FC.mean()\n",
    "    \n",
    "    hit_similar_FCs.append(hit_similar_FC)\n",
    "    hit_similar_FCs_rank.append(hit_similar_FC_rank)\n",
    "    hit_similar_FCs_mean.append(hit_similar_FC.mean())\n",
    "    hit_unsimilar_FCs.append(hit_unsimilar_FC)\n",
    "    if len(hit_unsimilar_FC)>0:\n",
    "        hit_unsimilar_FCs_mean.append(hit_unsimilar_FC.mean())\n",
    "    else:\n",
    "        hit_unsimilar_FCs_mean.append(0)\n",
    "    hit_diff_FCs.append(hit_diff_FC)\n",
    "    \n",
    "    ttest_res = ttest_ind(gen_whole_FC, org_whole_FC, equal_var=False)\n",
    "    \n",
    "    whole_FC_ttest[\"statistic\"].append(ttest_res.statistic)\n",
    "    whole_FC_ttest[\"pvalue\"].append(ttest_res.pvalue)\n",
    "    if set(dict_out[\"org_text\"][hit_samples_index][i]) != set(dict_out[\"gen_text\"][hit_samples_index][i]):\n",
    "        whole_FCs_diff.append(whole_FC_diff)\n",
    "    \n",
    "hit_similar_FCs = np.concatenate(hit_similar_FCs)\n",
    "hit_similar_FCs_rank = np.concatenate(hit_similar_FCs_rank)\n",
    "hit_similar_FCs_mean = np.array(hit_similar_FCs_mean)\n",
    "hit_unsimilar_FCs = np.concatenate(hit_unsimilar_FCs)\n",
    "hit_unsimilar_FCs_mean = np.array(hit_unsimilar_FCs_mean)\n",
    "hit_diff_FCs = np.array(hit_diff_FCs)\n",
    "\n",
    "print(\"Distribution of forward citations (hit)\\n\",pd.Series(hit_similar_FCs).describe(),\"\\n\")\n",
    "print(\"Distribution of forward citations (not hit)\\n\",pd.Series(hit_unsimilar_FCs).describe(),\"\\n\")\n",
    "print(\"Distribution of mean forward citations (hit)\\n\",pd.Series(hit_similar_FCs_mean).describe(),\"\\n\")\n",
    "print(\"Distribution of mean forward citations (not hit)\\n\",pd.Series(hit_unsimilar_FCs_mean).describe(),\"\\n\")\n",
    "print(\"Distribution of difference of forward citations\\n\",pd.Series(hit_diff_FCs).describe(),\"\\n\")"
   ]
  },
  {
   "cell_type": "code",
   "execution_count": 104,
   "metadata": {
    "ExecuteTime": {
     "end_time": "2025-04-21T13:55:19.497654Z",
     "start_time": "2025-04-21T13:55:15.937294Z"
    }
   },
   "outputs": [
    {
     "name": "stderr",
     "output_type": "stream",
     "text": [
      "100%|██████████| 657/657 [00:03<00:00, 185.14it/s]\n"
     ]
    }
   ],
   "source": [
    "cnt_same, cnt_diff = 0, 0\n",
    "ranks_same, ranks_diff = [], []\n",
    "value_same, value_diff = [], []\n",
    "org_patents_same, org_patents_diff = [], []\n",
    "cols_val = [\"patent_id\", \"org_ipcs\", \"org_FC\", \"gen_ipcs\", \"is_same\", \n",
    "            \"forward_ref\", \"ref_ipcs\", \"ref_FC\", \"ref_FC_rank\"]\n",
    "df_val = pd.DataFrame(columns=cols_val)\n",
    "hit_similar_refs = dict_out[\"similar_refs\"][hit_samples_index][:,-1]\n",
    "\n",
    "for i in tqdm(range(len(dict_out[\"ref_ipcs\"][hit_samples_index]))):\n",
    "    pid = dict_out[\"patent_id\"][hit_samples_index][i]\n",
    "    org_FC = tech_dataset.data.loc[pid][\"TC5\"]\n",
    "    orgs = set(dict_out[\"org_text\"][dict_out[\"inclusions\"][:,-1]==1][i])\n",
    "    gens = set(dict_out[\"gen_text\"][dict_out[\"inclusions\"][:,-1]==1][i])\n",
    "    is_same = 1 if orgs==gens or orgs.union(gens)==orgs else 0\n",
    "    hit_FCs = dict_out[\"ref_FCs\"][hit_samples_index][i]\n",
    "    hit_FCs = hit_FCs.loc[~hit_FCs.index.duplicated(keep=\"first\")]\n",
    "    hit_similar_FC = hit_FCs.loc[hit_similar_refs[i][hit_similar_refs[i].duplicated()]]\n",
    "#     hit_similar_FC = hit_similar_FC.drop_duplicates()\n",
    "    hit_similar_FC_rank = hit_FCs.rank(pct=True).loc[hit_similar_refs[i][hit_similar_refs[i].duplicated()]]\n",
    "#     hit_similar_FC_rank = hit_similar_FC_rank.drop_duplicates()\n",
    "    \n",
    "    for ref in hit_similar_refs[i].drop_duplicates():\n",
    "        ref_ipcs = dict_out[\"ref_ipcs\"][hit_samples_index][i].loc[ref]\n",
    "        if isinstance(ref_ipcs, pd.Series): ref_ipcs = ref_ipcs[0]\n",
    "        hit_similar_FC = hit_FCs.loc[ref]\n",
    "        if isinstance(hit_similar_FC, pd.Series): hit_similar_FC = hit_similar_FC[0]\n",
    "        hit_similar_FC_rank = hit_FCs.rank(pct=True).loc[ref]\n",
    "        if isinstance(hit_similar_FC_rank, pd.Series): hit_similar_FC_rank = hit_similar_FC_rank[0]\n",
    "        \n",
    "        df_container = pd.DataFrame([[pid, orgs, org_FC, gens, is_same, ref, ref_ipcs, hit_similar_FC, hit_similar_FC_rank]], columns=cols_val)\n",
    "        df_val = pd.concat([df_val, df_container])\n",
    "\n",
    "df_val = df_val.set_index(\"patent_id\")"
   ]
  },
  {
   "cell_type": "code",
   "execution_count": 105,
   "metadata": {
    "ExecuteTime": {
     "end_time": "2025-04-21T13:55:26.967802Z",
     "start_time": "2025-04-21T13:55:26.916052Z"
    }
   },
   "outputs": [],
   "source": [
    "df_val.loc[:,\"ref_FC_new\"] = df_val.apply(lambda x: str(x[\"ref_FC\"])+\" (\"+str(np.round(x[\"ref_FC_rank\"],2))+\")\", axis=1)"
   ]
  },
  {
   "cell_type": "code",
   "execution_count": 106,
   "metadata": {
    "ExecuteTime": {
     "end_time": "2025-04-21T13:55:27.466665Z",
     "start_time": "2025-04-21T13:55:27.446036Z"
    },
    "scrolled": false
   },
   "outputs": [
    {
     "data": {
      "text/html": [
       "<div>\n",
       "<style scoped>\n",
       "    .dataframe tbody tr th:only-of-type {\n",
       "        vertical-align: middle;\n",
       "    }\n",
       "\n",
       "    .dataframe tbody tr th {\n",
       "        vertical-align: top;\n",
       "    }\n",
       "\n",
       "    .dataframe thead th {\n",
       "        text-align: right;\n",
       "    }\n",
       "</style>\n",
       "<table border=\"1\" class=\"dataframe\">\n",
       "  <thead>\n",
       "    <tr style=\"text-align: right;\">\n",
       "      <th></th>\n",
       "      <th>org_ipcs</th>\n",
       "      <th>org_FC</th>\n",
       "      <th>gen_ipcs</th>\n",
       "      <th>is_same</th>\n",
       "      <th>forward_ref</th>\n",
       "      <th>ref_ipcs</th>\n",
       "      <th>ref_FC</th>\n",
       "      <th>ref_FC_rank</th>\n",
       "      <th>ref_FC_new</th>\n",
       "    </tr>\n",
       "    <tr>\n",
       "      <th>patent_id</th>\n",
       "      <th></th>\n",
       "      <th></th>\n",
       "      <th></th>\n",
       "      <th></th>\n",
       "      <th></th>\n",
       "      <th></th>\n",
       "      <th></th>\n",
       "      <th></th>\n",
       "      <th></th>\n",
       "    </tr>\n",
       "  </thead>\n",
       "  <tbody>\n",
       "    <tr>\n",
       "      <th>7523443</th>\n",
       "      <td>{G06F09}</td>\n",
       "      <td>1</td>\n",
       "      <td>{G06F09}</td>\n",
       "      <td>1</td>\n",
       "      <td>9652207</td>\n",
       "      <td>{G06F09}</td>\n",
       "      <td>4</td>\n",
       "      <td>0.750000</td>\n",
       "      <td>4 (0.75)</td>\n",
       "    </tr>\n",
       "    <tr>\n",
       "      <th>7523443</th>\n",
       "      <td>{G06F09}</td>\n",
       "      <td>1</td>\n",
       "      <td>{G06F09}</td>\n",
       "      <td>1</td>\n",
       "      <td>9639335</td>\n",
       "      <td>{G06F09}</td>\n",
       "      <td>1</td>\n",
       "      <td>0.500000</td>\n",
       "      <td>1 (0.5)</td>\n",
       "    </tr>\n",
       "    <tr>\n",
       "      <th>7523443</th>\n",
       "      <td>{G06F09}</td>\n",
       "      <td>1</td>\n",
       "      <td>{G06F09}</td>\n",
       "      <td>1</td>\n",
       "      <td>9696974</td>\n",
       "      <td>{G06F09}</td>\n",
       "      <td>12</td>\n",
       "      <td>1.000000</td>\n",
       "      <td>12 (1.0)</td>\n",
       "    </tr>\n",
       "    <tr>\n",
       "      <th>7523443</th>\n",
       "      <td>{G06F09}</td>\n",
       "      <td>1</td>\n",
       "      <td>{G06F09}</td>\n",
       "      <td>1</td>\n",
       "      <td>9563412</td>\n",
       "      <td>{G06F09}</td>\n",
       "      <td>0</td>\n",
       "      <td>0.250000</td>\n",
       "      <td>0 (0.25)</td>\n",
       "    </tr>\n",
       "    <tr>\n",
       "      <th>7418663</th>\n",
       "      <td>{G06F03, G06F17, G06F07}</td>\n",
       "      <td>20</td>\n",
       "      <td>{G06F03, G06F17}</td>\n",
       "      <td>1</td>\n",
       "      <td>9678933</td>\n",
       "      <td>{G06F03, G06F17}</td>\n",
       "      <td>2</td>\n",
       "      <td>0.229730</td>\n",
       "      <td>2 (0.23)</td>\n",
       "    </tr>\n",
       "    <tr>\n",
       "      <th>...</th>\n",
       "      <td>...</td>\n",
       "      <td>...</td>\n",
       "      <td>...</td>\n",
       "      <td>...</td>\n",
       "      <td>...</td>\n",
       "      <td>...</td>\n",
       "      <td>...</td>\n",
       "      <td>...</td>\n",
       "      <td>...</td>\n",
       "    </tr>\n",
       "    <tr>\n",
       "      <th>7325002</th>\n",
       "      <td>{G06F17, G06F07}</td>\n",
       "      <td>7</td>\n",
       "      <td>{G06F17, G06F07}</td>\n",
       "      <td>1</td>\n",
       "      <td>7904479</td>\n",
       "      <td>{G06F17, G06F07}</td>\n",
       "      <td>15</td>\n",
       "      <td>1.000000</td>\n",
       "      <td>15 (1.0)</td>\n",
       "    </tr>\n",
       "    <tr>\n",
       "      <th>8159971</th>\n",
       "      <td>{H04L12, G06F15}</td>\n",
       "      <td>1</td>\n",
       "      <td>{H04L12, G06F15}</td>\n",
       "      <td>1</td>\n",
       "      <td>9237073</td>\n",
       "      <td>{H04L12, G06F15}</td>\n",
       "      <td>0</td>\n",
       "      <td>1.000000</td>\n",
       "      <td>0 (1.0)</td>\n",
       "    </tr>\n",
       "    <tr>\n",
       "      <th>7860895</th>\n",
       "      <td>{G06F17, G06F07}</td>\n",
       "      <td>26</td>\n",
       "      <td>{G06F17, G06F07}</td>\n",
       "      <td>1</td>\n",
       "      <td>8793265</td>\n",
       "      <td>{G06F17, G06F07}</td>\n",
       "      <td>13</td>\n",
       "      <td>0.714286</td>\n",
       "      <td>13 (0.71)</td>\n",
       "    </tr>\n",
       "    <tr>\n",
       "      <th>7860895</th>\n",
       "      <td>{G06F17, G06F07}</td>\n",
       "      <td>26</td>\n",
       "      <td>{G06F17, G06F07}</td>\n",
       "      <td>1</td>\n",
       "      <td>9063977</td>\n",
       "      <td>{G06F17, G06F07}</td>\n",
       "      <td>0</td>\n",
       "      <td>0.089286</td>\n",
       "      <td>0 (0.09)</td>\n",
       "    </tr>\n",
       "    <tr>\n",
       "      <th>7860895</th>\n",
       "      <td>{G06F17, G06F07}</td>\n",
       "      <td>26</td>\n",
       "      <td>{G06F17, G06F07}</td>\n",
       "      <td>1</td>\n",
       "      <td>9449001</td>\n",
       "      <td>{G06F17, G06F07}</td>\n",
       "      <td>1</td>\n",
       "      <td>0.303571</td>\n",
       "      <td>1 (0.3)</td>\n",
       "    </tr>\n",
       "  </tbody>\n",
       "</table>\n",
       "<p>1455 rows × 9 columns</p>\n",
       "</div>"
      ],
      "text/plain": [
       "                           org_ipcs org_FC          gen_ipcs is_same  \\\n",
       "patent_id                                                              \n",
       "7523443                    {G06F09}      1          {G06F09}       1   \n",
       "7523443                    {G06F09}      1          {G06F09}       1   \n",
       "7523443                    {G06F09}      1          {G06F09}       1   \n",
       "7523443                    {G06F09}      1          {G06F09}       1   \n",
       "7418663    {G06F03, G06F17, G06F07}     20  {G06F03, G06F17}       1   \n",
       "...                             ...    ...               ...     ...   \n",
       "7325002            {G06F17, G06F07}      7  {G06F17, G06F07}       1   \n",
       "8159971            {H04L12, G06F15}      1  {H04L12, G06F15}       1   \n",
       "7860895            {G06F17, G06F07}     26  {G06F17, G06F07}       1   \n",
       "7860895            {G06F17, G06F07}     26  {G06F17, G06F07}       1   \n",
       "7860895            {G06F17, G06F07}     26  {G06F17, G06F07}       1   \n",
       "\n",
       "          forward_ref          ref_ipcs ref_FC  ref_FC_rank ref_FC_new  \n",
       "patent_id                                                               \n",
       "7523443       9652207          {G06F09}      4     0.750000   4 (0.75)  \n",
       "7523443       9639335          {G06F09}      1     0.500000    1 (0.5)  \n",
       "7523443       9696974          {G06F09}     12     1.000000   12 (1.0)  \n",
       "7523443       9563412          {G06F09}      0     0.250000   0 (0.25)  \n",
       "7418663       9678933  {G06F03, G06F17}      2     0.229730   2 (0.23)  \n",
       "...               ...               ...    ...          ...        ...  \n",
       "7325002       7904479  {G06F17, G06F07}     15     1.000000   15 (1.0)  \n",
       "8159971       9237073  {H04L12, G06F15}      0     1.000000    0 (1.0)  \n",
       "7860895       8793265  {G06F17, G06F07}     13     0.714286  13 (0.71)  \n",
       "7860895       9063977  {G06F17, G06F07}      0     0.089286   0 (0.09)  \n",
       "7860895       9449001  {G06F17, G06F07}      1     0.303571    1 (0.3)  \n",
       "\n",
       "[1455 rows x 9 columns]"
      ]
     },
     "execution_count": 106,
     "metadata": {},
     "output_type": "execute_result"
    }
   ],
   "source": [
    "df_val"
   ]
  },
  {
   "cell_type": "code",
   "execution_count": 107,
   "metadata": {
    "ExecuteTime": {
     "end_time": "2025-04-21T13:55:38.541051Z",
     "start_time": "2025-04-21T13:55:38.523249Z"
    },
    "scrolled": false
   },
   "outputs": [
    {
     "name": "stdout",
     "output_type": "stream",
     "text": [
      "total hit: 1455\n",
      "same: 1404\n",
      "diff: 51\n",
      "over L1 criterion: 11\n",
      "ratio: 0.21568627450980393\n"
     ]
    }
   ],
   "source": [
    "L1_criterion = tech_dataset.data[\"TC5\"].quantile(0.9)\n",
    "print(\"total hit:\", len(df_val))\n",
    "print(\"same:\",len(df_val[df_val[\"is_same\"]==1]))\n",
    "print(\"diff:\",len(df_val[df_val[\"is_same\"]==0]))\n",
    "print(\"over L1 criterion:\", len(df_val[df_val[\"is_same\"]==0][df_val[df_val[\"is_same\"]==0][\"ref_FC\"]>=L1_criterion]))\n",
    "print(\"ratio:\",len(df_val[df_val[\"is_same\"]==0][df_val[df_val[\"is_same\"]==0][\"ref_FC\"]>=L1_criterion]) / len(df_val[df_val[\"is_same\"]==0]))"
   ]
  },
  {
   "cell_type": "code",
   "execution_count": 108,
   "metadata": {
    "ExecuteTime": {
     "end_time": "2025-04-21T13:55:43.227102Z",
     "start_time": "2025-04-21T13:55:43.204241Z"
    },
    "scrolled": false
   },
   "outputs": [
    {
     "data": {
      "text/html": [
       "<div>\n",
       "<style scoped>\n",
       "    .dataframe tbody tr th:only-of-type {\n",
       "        vertical-align: middle;\n",
       "    }\n",
       "\n",
       "    .dataframe tbody tr th {\n",
       "        vertical-align: top;\n",
       "    }\n",
       "\n",
       "    .dataframe thead th {\n",
       "        text-align: right;\n",
       "    }\n",
       "</style>\n",
       "<table border=\"1\" class=\"dataframe\">\n",
       "  <thead>\n",
       "    <tr style=\"text-align: right;\">\n",
       "      <th></th>\n",
       "      <th>org_ipcs</th>\n",
       "      <th>org_FC</th>\n",
       "      <th>gen_ipcs</th>\n",
       "      <th>forward_ref</th>\n",
       "      <th>ref_ipcs</th>\n",
       "      <th>ref_FC_new</th>\n",
       "    </tr>\n",
       "    <tr>\n",
       "      <th>patent_id</th>\n",
       "      <th></th>\n",
       "      <th></th>\n",
       "      <th></th>\n",
       "      <th></th>\n",
       "      <th></th>\n",
       "      <th></th>\n",
       "    </tr>\n",
       "  </thead>\n",
       "  <tbody>\n",
       "    <tr>\n",
       "      <th>7992129</th>\n",
       "      <td>{G06F09, G06F19, G06F03}</td>\n",
       "      <td>3</td>\n",
       "      <td>{G06F09, G06F17}</td>\n",
       "      <td>9235395</td>\n",
       "      <td>{G06F09, G06F17}</td>\n",
       "      <td>29 (1.0)</td>\n",
       "    </tr>\n",
       "    <tr>\n",
       "      <th>7249951</th>\n",
       "      <td>{G09G05, G09B23}</td>\n",
       "      <td>13</td>\n",
       "      <td>{G06F03, G09G05}</td>\n",
       "      <td>8922503</td>\n",
       "      <td>{G06F03, G09G05}</td>\n",
       "      <td>20 (0.77)</td>\n",
       "    </tr>\n",
       "    <tr>\n",
       "      <th>7249951</th>\n",
       "      <td>{G09G05, G09B23}</td>\n",
       "      <td>13</td>\n",
       "      <td>{G06F03, G09G05}</td>\n",
       "      <td>8547339</td>\n",
       "      <td>{G06F03, G09G05}</td>\n",
       "      <td>49 (0.86)</td>\n",
       "    </tr>\n",
       "    <tr>\n",
       "      <th>7249951</th>\n",
       "      <td>{G09G05, G09B23}</td>\n",
       "      <td>13</td>\n",
       "      <td>{G06F03, G09G05}</td>\n",
       "      <td>8947383</td>\n",
       "      <td>{G06F03, G09G05}</td>\n",
       "      <td>21 (0.79)</td>\n",
       "    </tr>\n",
       "    <tr>\n",
       "      <th>7249951</th>\n",
       "      <td>{G09G05, G09B23}</td>\n",
       "      <td>13</td>\n",
       "      <td>{G06F03, G09G05}</td>\n",
       "      <td>9035898</td>\n",
       "      <td>{G06F03, G09G05}</td>\n",
       "      <td>17 (0.73)</td>\n",
       "    </tr>\n",
       "    <tr>\n",
       "      <th>7249951</th>\n",
       "      <td>{G09G05, G09B23}</td>\n",
       "      <td>13</td>\n",
       "      <td>{G06F03, G09G05}</td>\n",
       "      <td>8587548</td>\n",
       "      <td>{G06F03, G09G05}</td>\n",
       "      <td>31 (0.84)</td>\n",
       "    </tr>\n",
       "    <tr>\n",
       "      <th>7665088</th>\n",
       "      <td>{G06F09, G06F13}</td>\n",
       "      <td>23</td>\n",
       "      <td>{G06F09, G06F15}</td>\n",
       "      <td>8631066</td>\n",
       "      <td>{G06F09, G06F15}</td>\n",
       "      <td>19 (0.89)</td>\n",
       "    </tr>\n",
       "    <tr>\n",
       "      <th>7613375</th>\n",
       "      <td>{G02B06, G09G05}</td>\n",
       "      <td>2</td>\n",
       "      <td>{G06F03, G09G05}</td>\n",
       "      <td>8963886</td>\n",
       "      <td>{G06F03, G09G05}</td>\n",
       "      <td>26 (1.0)</td>\n",
       "    </tr>\n",
       "    <tr>\n",
       "      <th>7325199</th>\n",
       "      <td>{G06F03}</td>\n",
       "      <td>38</td>\n",
       "      <td>{G06F03, H04N07}</td>\n",
       "      <td>7877690</td>\n",
       "      <td>{G06F03, H04N07}</td>\n",
       "      <td>37 (0.92)</td>\n",
       "    </tr>\n",
       "    <tr>\n",
       "      <th>8171553</th>\n",
       "      <td>{G06F12, G06F11}</td>\n",
       "      <td>127</td>\n",
       "      <td>{G08B23, G06F12, G06F11}</td>\n",
       "      <td>8359650</td>\n",
       "      <td>{G08B23, G06F12, G06F11}</td>\n",
       "      <td>17 (0.13)</td>\n",
       "    </tr>\n",
       "    <tr>\n",
       "      <th>7887420</th>\n",
       "      <td>{A63F09, A63F13}</td>\n",
       "      <td>20</td>\n",
       "      <td>{G06F19, A63F09, G06F17, A63F13}</td>\n",
       "      <td>8057298</td>\n",
       "      <td>{G06F19, A63F13, G06F17, A63F09}</td>\n",
       "      <td>39 (1.0)</td>\n",
       "    </tr>\n",
       "  </tbody>\n",
       "</table>\n",
       "</div>"
      ],
      "text/plain": [
       "                           org_ipcs org_FC                          gen_ipcs  \\\n",
       "patent_id                                                                      \n",
       "7992129    {G06F09, G06F19, G06F03}      3                  {G06F09, G06F17}   \n",
       "7249951            {G09G05, G09B23}     13                  {G06F03, G09G05}   \n",
       "7249951            {G09G05, G09B23}     13                  {G06F03, G09G05}   \n",
       "7249951            {G09G05, G09B23}     13                  {G06F03, G09G05}   \n",
       "7249951            {G09G05, G09B23}     13                  {G06F03, G09G05}   \n",
       "7249951            {G09G05, G09B23}     13                  {G06F03, G09G05}   \n",
       "7665088            {G06F09, G06F13}     23                  {G06F09, G06F15}   \n",
       "7613375            {G02B06, G09G05}      2                  {G06F03, G09G05}   \n",
       "7325199                    {G06F03}     38                  {G06F03, H04N07}   \n",
       "8171553            {G06F12, G06F11}    127          {G08B23, G06F12, G06F11}   \n",
       "7887420            {A63F09, A63F13}     20  {G06F19, A63F09, G06F17, A63F13}   \n",
       "\n",
       "          forward_ref                          ref_ipcs ref_FC_new  \n",
       "patent_id                                                           \n",
       "7992129       9235395                  {G06F09, G06F17}   29 (1.0)  \n",
       "7249951       8922503                  {G06F03, G09G05}  20 (0.77)  \n",
       "7249951       8547339                  {G06F03, G09G05}  49 (0.86)  \n",
       "7249951       8947383                  {G06F03, G09G05}  21 (0.79)  \n",
       "7249951       9035898                  {G06F03, G09G05}  17 (0.73)  \n",
       "7249951       8587548                  {G06F03, G09G05}  31 (0.84)  \n",
       "7665088       8631066                  {G06F09, G06F15}  19 (0.89)  \n",
       "7613375       8963886                  {G06F03, G09G05}   26 (1.0)  \n",
       "7325199       7877690                  {G06F03, H04N07}  37 (0.92)  \n",
       "8171553       8359650          {G08B23, G06F12, G06F11}  17 (0.13)  \n",
       "7887420       8057298  {G06F19, A63F13, G06F17, A63F09}   39 (1.0)  "
      ]
     },
     "execution_count": 108,
     "metadata": {},
     "output_type": "execute_result"
    }
   ],
   "source": [
    "## 인용 IPC 중 생성 IPC와 동일한 게 있으면서, 입력 IPC와 생성 IPC가 다르고, 피인용수가 전체 데이터셋의 L1 기준인 9 이상인 샘플\n",
    "df_val[df_val[\"is_same\"]==0][df_val[df_val[\"is_same\"]==0][\"ref_FC\"]>=L1_criterion].drop(labels=[\"is_same\", \"ref_FC\", \"ref_FC_rank\"], axis=1)"
   ]
  },
  {
   "cell_type": "code",
   "execution_count": 109,
   "metadata": {
    "ExecuteTime": {
     "end_time": "2025-04-21T13:55:45.388130Z",
     "start_time": "2025-04-21T13:55:45.380805Z"
    }
   },
   "outputs": [
    {
     "data": {
      "text/plain": [
       "(13,)"
      ]
     },
     "execution_count": 109,
     "metadata": {},
     "output_type": "execute_result"
    }
   ],
   "source": [
    "## 인용 IPC 중 생성 IPC와 동일하면서, 입력 IPC와는 다르고, 피인용수가 입력 특허보다 많은 샘플\n",
    "df_val[df_val[\"is_same\"]==0].drop(labels=[\"is_same\", \"ref_FC\", \"ref_FC_rank\"], axis=1).apply(lambda x: x.name if int(x[\"org_FC\"]) <= int(x[\"ref_FC_new\"].split(\"(\")[0]) else np.nan, axis=1).dropna().shape"
   ]
  },
  {
   "cell_type": "markdown",
   "metadata": {},
   "source": [
    "**5.1 in-depth 사례를 4.3으로 옮기기 위해, iteration 과정 추출 (231018)**"
   ]
  },
  {
   "cell_type": "markdown",
   "metadata": {},
   "source": [
    "7600135"
   ]
  },
  {
   "cell_type": "code",
   "execution_count": 59,
   "metadata": {
    "ExecuteTime": {
     "end_time": "2023-10-18T22:40:13.087672Z",
     "start_time": "2023-10-18T22:40:13.084562Z"
    }
   },
   "outputs": [],
   "source": [
    "idx = dict_out[\"index\"][np.where(dict_out[\"patent_id\"]==\"7600135\")[0][0]]"
   ]
  },
  {
   "cell_type": "code",
   "execution_count": 64,
   "metadata": {
    "ExecuteTime": {
     "end_time": "2023-10-18T22:50:58.749356Z",
     "start_time": "2023-10-18T22:50:58.735930Z"
    }
   },
   "outputs": [
    {
     "data": {
      "text/plain": [
       "number                                                     7600135\n",
       "main_ipc                                                    G06F01\n",
       "sub_ipc                                           [G06F01, G06F09]\n",
       "ipcs                                      [G06F01, G06F01, G06F09]\n",
       "claims           1. A processor, comprising: a software control...\n",
       "TC5                                                             11\n",
       "TC5_digitized                                                    0\n",
       "class                                                           82\n",
       "Name: 7600135, dtype: object"
      ]
     },
     "execution_count": 64,
     "metadata": {},
     "output_type": "execute_result"
    }
   ],
   "source": [
    "tech_dataset.data.iloc[used_test_index_TC[idx]]"
   ]
  },
  {
   "cell_type": "code",
   "execution_count": 66,
   "metadata": {
    "ExecuteTime": {
     "end_time": "2023-10-18T22:51:59.839020Z",
     "start_time": "2023-10-18T22:51:59.836084Z"
    }
   },
   "outputs": [],
   "source": [
    "model = final_model.module if torch.cuda.is_available() else final_model"
   ]
  },
  {
   "cell_type": "code",
   "execution_count": 132,
   "metadata": {
    "ExecuteTime": {
     "end_time": "2023-10-18T23:38:53.770068Z",
     "start_time": "2023-10-18T23:38:53.756504Z"
    }
   },
   "outputs": [],
   "source": [
    "input_class = torch.tensor(tech_dataset.tokenizers[\"class_enc\"].encode(tech_dataset.X_class[used_test_index_TC][idx])).unsqueeze(0)\n",
    "input_claim = tech_dataset.tokenize(tech_dataset.tokenizers[\"claim_enc\"], tech_dataset.X_claim[used_test_index_TC][idx])\n",
    "input_claim = {k: v.unsqueeze(0) for k, v in input_claim.items()}\n",
    "batch_input = {\"class\": torch.tensor(input_class), \"claim\": input_claim}\n",
    "input_inf = to_device(batch_input, model.device)\n",
    "\n",
    "output_class = torch.tensor(tech_dataset.tokenizers[\"class_dec\"].encode(tech_dataset.X_class[used_test_index_TC][idx])).unsqueeze(0)\n",
    "batch_output = {\"text_outputs\": torch.tensor(output_class)}\n",
    "output_inf = to_device(batch_output, model.device)"
   ]
  },
  {
   "cell_type": "code",
   "execution_count": 422,
   "metadata": {
    "ExecuteTime": {
     "end_time": "2023-10-19T00:07:41.675436Z",
     "start_time": "2023-10-19T00:07:41.656636Z"
    }
   },
   "outputs": [],
   "source": [
    "forward_refs = used_rawdata.loc[used_test_data_TC.iloc[idx][\"number\"]][\"forward_refs\"].split(\";\")\n",
    "ref_info = total_data.loc[[ref for ref in forward_refs if ref in total_data.index]]\n",
    "if len(ref_info) == 0:\n",
    "    pass\n",
    "else:\n",
    "    ref_ipcs = ref_info[\"ipcs\"].apply(lambda x: set(x))\n",
    "    ref_FCs = ref_info[\"TC\"+str(n_TC)]"
   ]
  },
  {
   "cell_type": "code",
   "execution_count": 454,
   "metadata": {
    "ExecuteTime": {
     "end_time": "2023-10-19T00:56:54.728714Z",
     "start_time": "2023-10-19T00:56:54.725676Z"
    }
   },
   "outputs": [],
   "source": [
    "idx = dict_out[\"index\"][np.where(dict_out[\"patent_id\"]==\"7636945\")[0][0]]"
   ]
  },
  {
   "cell_type": "code",
   "execution_count": 455,
   "metadata": {
    "ExecuteTime": {
     "end_time": "2023-10-19T00:56:55.776493Z",
     "start_time": "2023-10-19T00:56:55.771025Z"
    }
   },
   "outputs": [
    {
     "data": {
      "text/plain": [
       "number                                                     7636945\n",
       "main_ipc                                                    G06F11\n",
       "sub_ipc                                           [G06F09, G06F12]\n",
       "ipcs                                      [G06F11, G06F09, G06F12]\n",
       "claims           1. A method of detecting script language virus...\n",
       "TC5                                                              7\n",
       "TC5_digitized                                                    0\n",
       "class                                                           82\n",
       "Name: 7636945, dtype: object"
      ]
     },
     "execution_count": 455,
     "metadata": {},
     "output_type": "execute_result"
    }
   ],
   "source": [
    "tech_dataset.data.iloc[used_test_index_TC[idx]]"
   ]
  },
  {
   "cell_type": "markdown",
   "metadata": {},
   "source": [
    "7636945"
   ]
  },
  {
   "cell_type": "code",
   "execution_count": 456,
   "metadata": {
    "ExecuteTime": {
     "end_time": "2023-10-19T00:57:04.341623Z",
     "start_time": "2023-10-19T00:57:04.338653Z"
    }
   },
   "outputs": [],
   "source": [
    "model = final_model.module if torch.cuda.is_available() else final_model"
   ]
  },
  {
   "cell_type": "code",
   "execution_count": 457,
   "metadata": {
    "ExecuteTime": {
     "end_time": "2023-10-19T00:57:05.404740Z",
     "start_time": "2023-10-19T00:57:05.370008Z"
    }
   },
   "outputs": [],
   "source": [
    "input_class = torch.tensor(tech_dataset.tokenizers[\"class_enc\"].encode(tech_dataset.X_class[used_test_index_TC][idx])).unsqueeze(0)\n",
    "input_claim = tech_dataset.tokenize(tech_dataset.tokenizers[\"claim_enc\"], tech_dataset.X_claim[used_test_index_TC][idx])\n",
    "input_claim = {k: v.unsqueeze(0) for k, v in input_claim.items()}\n",
    "batch_input = {\"class\": torch.tensor(input_class), \"claim\": input_claim}\n",
    "input_inf = to_device(batch_input, model.device)\n",
    "\n",
    "output_class = torch.tensor(tech_dataset.tokenizers[\"class_dec\"].encode(tech_dataset.X_class[used_test_index_TC][idx])).unsqueeze(0)\n",
    "batch_output = {\"text_outputs\": torch.tensor(output_class)}\n",
    "output_inf = to_device(batch_output, model.device)"
   ]
  },
  {
   "cell_type": "code",
   "execution_count": 458,
   "metadata": {
    "ExecuteTime": {
     "end_time": "2023-10-19T00:57:06.298221Z",
     "start_time": "2023-10-19T00:57:06.279315Z"
    }
   },
   "outputs": [],
   "source": [
    "forward_refs = used_rawdata.loc[used_test_data_TC.iloc[idx][\"number\"]][\"forward_refs\"].split(\";\")\n",
    "ref_info = total_data.loc[[ref for ref in forward_refs if ref in total_data.index]]\n",
    "if len(ref_info) == 0:\n",
    "    pass\n",
    "else:\n",
    "    ref_ipcs = ref_info[\"ipcs\"].apply(lambda x: set(x))\n",
    "    ref_FCs = ref_info[\"TC\"+str(n_TC)]"
   ]
  },
  {
   "cell_type": "code",
   "execution_count": 459,
   "metadata": {
    "ExecuteTime": {
     "end_time": "2023-10-19T00:57:08.679064Z",
     "start_time": "2023-10-19T00:57:07.385613Z"
    }
   },
   "outputs": [
    {
     "name": "stdout",
     "output_type": "stream",
     "text": [
      "Iteration 0, Generated IPC {'G06F12', 'G06F11'}, L1 prob 0.4822\n",
      "Iteration 1, Generated IPC {'G08B23', 'G06F12', 'G06F11'}, L1 prob 0.8113\n",
      "Iteration 2, Generated IPC {'G08B23', 'G06F12', 'G06F11'}, L1 prob 0.8822\n",
      "Iteration 3, Generated IPC {'G08B23', 'G06F12', 'G06F11'}, L1 prob 0.9161\n",
      "Iteration 4, Generated IPC {'G08B23', 'G06F12', 'G06F11'}, L1 prob 0.9351\n",
      "Iteration 5, Generated IPC {'G08B23', 'G06F12', 'G06F11'}, L1 prob 0.9473\n",
      "Iteration 6, Generated IPC {'H04J01', 'G06F12', 'G06F15', 'G06F11'}, L1 prob 0.9556\n",
      "Iteration 7, Generated IPC {'G06F17', 'G08B23', 'H04J01', 'G06F15', 'G06F11', 'G06F12'}, L1 prob 0.9617\n",
      "Iteration 8, Generated IPC {'G08B23', 'G06F12', 'H04J01', 'G06F11'}, L1 prob 0.9663\n",
      "Iteration 9, Generated IPC {'G06F17', 'H04J01', 'G06F15', 'G06F11', 'G06F13', 'G06F12'}, L1 prob 0.97\n",
      "Iteration 10, Generated IPC {'G08B23', 'H04J01', 'G06F15', 'G06F11', 'G06F13', 'G06F12'}, L1 prob 0.9729\n",
      "Iteration 11, Generated IPC {'G08B23', 'H04J01', 'G06F15', 'G06F11', 'G06F13', 'G06F12'}, L1 prob 0.9753\n",
      "Iteration 12, Generated IPC {'G08B23', 'H04J01', 'G06F15', 'G06F11', 'G06F13', 'G06F12'}, L1 prob 0.9773\n",
      "Iteration 13, Generated IPC {'G08B23', 'H04J01', 'G06F11', 'G06F13', 'G06F15'}, L1 prob 0.979\n",
      "Iteration 14, Generated IPC {'G08B23', 'H04J01', 'G06F15', 'G06F13', 'G06F12'}, L1 prob 0.9805\n",
      "Iteration 15, Generated IPC {'H04M11', 'G06F15', 'H04J01', 'G06F13'}, L1 prob 0.9818\n",
      "Iteration 16, Generated IPC {'H04M11', 'H04J01', 'G06F13', 'H04L12', 'G06F15', 'H04L01', 'H04J03'}, L1 prob 0.9829\n",
      "Iteration 17, Generated IPC {'H04L01', 'H04J01', 'G06F13', 'H04M11', 'H04J03'}, L1 prob 0.9839\n",
      "Iteration 18, Generated IPC {'G06F15', 'H04J01', 'G06F13'}, L1 prob 0.9848\n",
      "Iteration 19, Generated IPC {'G08B23', 'G06F15', 'H04J01', 'G06F13'}, L1 prob 0.9856\n",
      "Iteration 20, Generated IPC {'H04L01', 'H04J01', 'G06F13', 'H04M11', 'H04J03'}, L1 prob 0.9863\n",
      "Iteration 21, Generated IPC {'G06F15', 'H04J01', 'G06F13'}, L1 prob 0.9869\n",
      "Iteration 22, Generated IPC {'G06F15', 'H04J01', 'G06F13'}, L1 prob 0.9875\n",
      "Iteration 23, Generated IPC {'H04L01', 'H04J01', 'G06F13', 'H04J03'}, L1 prob 0.9881\n",
      "Iteration 24, Generated IPC {'G06F15', 'H04J01', 'G06F13'}, L1 prob 0.9886\n",
      "Iteration 25, Generated IPC {'G06F15', 'H04J01', 'G06F13'}, L1 prob 0.989\n",
      "Iteration 26, Generated IPC {'H04L01', 'H04J01', 'G06F13', 'H04J03'}, L1 prob 0.9894\n",
      "Iteration 27, Generated IPC {'G06F15', 'H04J01', 'G06F13'}, L1 prob 0.9898\n",
      "Iteration 28, Generated IPC {'H04J01', 'G06F13', 'H04J03'}, L1 prob 0.9902\n",
      "Iteration 29, Generated IPC {'H04J01', 'G06F13', 'H04J03'}, L1 prob 0.9905\n",
      "Iteration 30, Generated IPC {'H04J01', 'G06F13', 'H04J03'}, L1 prob 0.9908\n"
     ]
    }
   ],
   "source": [
    "while 1:\n",
    "    i = 0\n",
    "    enc_outputs, z, mu, logvar = model.encode(input_inf)\n",
    "    pred_outputs = model.predict(z)\n",
    "\n",
    "    dec_outputs = model.decode(z, enc_outputs, dec_inputs=None)\n",
    "    dec_outputs = dec_outputs.argmax(-1)\n",
    "\n",
    "    tokenizer = tech_dataset.tokenizers[\"class_dec\"]\n",
    "    gen_text = tokenizer.decode_batch(dec_outputs.cpu().detach().numpy())[0]\n",
    "\n",
    "    if tokenizer.eos_token in gen_text:\n",
    "        gen_text = gen_text[gen_text.index(tokenizer.sos_token)+1:gen_text.index(tokenizer.eos_token)]\n",
    "    else:\n",
    "        gen_text = gen_text[gen_text.index(tokenizer.sos_token)+1:]\n",
    "    if gen_text != []:\n",
    "        gen_text = [gen_text[0]] + list(np.array(gen_text[1:])[np.unique(gen_text[1:], return_index=True)[1]])                \n",
    "        gen_text = set(gen_text)\n",
    "\n",
    "    FC_estimated = np.round(np.exp(pred_outputs[0,1].item()), 4)\n",
    "    if FC_estimated > 0.5: continue\n",
    "\n",
    "    print(f\"Iteration 0, Generated IPC {gen_text}, L1 prob {FC_estimated}\")\n",
    "\n",
    "    inclusions = [None, None, None, None]\n",
    "    higher_impacts = [None, None, None, None]\n",
    "    similar_refs_out = [None, None, None, None]\n",
    "    unsimilar_refs_out = [None, None, None, None]\n",
    "\n",
    "    optimised = False\n",
    "    for i in range(1,n_iter+1):\n",
    "        pred_outputs = model.predict(z)\n",
    "        z.retain_grad()\n",
    "        L1_error = (1-torch.exp(pred_outputs[0,1]))\n",
    "        L1_error.backward(retain_graph=True)\n",
    "        grad_for_update = (step_size * z.grad)\n",
    "        z_ = z - grad_for_update\n",
    "\n",
    "        z.grad.zero_()\n",
    "        dec_outputs = model.decode(z_, enc_outputs, dec_inputs=None)\n",
    "        dec_outputs = dec_outputs.argmax(-1)\n",
    "\n",
    "        pred_outputs_ = model.predict(z_)\n",
    "        FC_estimated = np.round(np.exp(pred_outputs_[0,1].item()), 4) # estimated forward citations\n",
    "        FC_estimated_inv = np.round(np.exp(pred_outputs_[0,0].item()), 4)\n",
    "\n",
    "        tokenizer = tech_dataset.tokenizers[\"class_dec\"]\n",
    "        gen_text = tokenizer.decode_batch(dec_outputs.cpu().detach().numpy())[0]\n",
    "        if tokenizer.eos_token in gen_text:\n",
    "            gen_text = gen_text[gen_text.index(tokenizer.sos_token)+1:gen_text.index(tokenizer.eos_token)]\n",
    "        else:\n",
    "            gen_text = gen_text[gen_text.index(tokenizer.sos_token)+1:]\n",
    "        if gen_text != []:\n",
    "            gen_text = [gen_text[0]] + list(np.array(gen_text[1:])[np.unique(gen_text[1:], return_index=True)[1]])                \n",
    "            gen_text = set(gen_text)\n",
    "        else: continue\n",
    "\n",
    "        print(f\"Iteration {i}, Generated IPC {gen_text}, L1 prob {FC_estimated}\")\n",
    "\n",
    "        z = z_\n",
    "\n",
    "        if FC_estimated>=L1_threshold:\n",
    "            optimised = True\n",
    "            \n",
    "    break"
   ]
  },
  {
   "cell_type": "markdown",
   "metadata": {},
   "source": []
  },
  {
   "cell_type": "code",
   "execution_count": 451,
   "metadata": {
    "ExecuteTime": {
     "end_time": "2023-09-24T07:28:26.354821Z",
     "start_time": "2023-09-24T07:28:26.340945Z"
    }
   },
   "outputs": [
    {
     "data": {
      "text/plain": [
       "count     12.000000\n",
       "mean      53.916667\n",
       "std       41.238681\n",
       "min       17.000000\n",
       "25%       22.750000\n",
       "50%       37.000000\n",
       "75%       68.500000\n",
       "max      139.000000\n",
       "Name: ref_FC, dtype: float64"
      ]
     },
     "execution_count": 451,
     "metadata": {},
     "output_type": "execute_result"
    }
   ],
   "source": [
    "df_val[df_val[\"is_same\"]==0][df_val[df_val[\"is_same\"]==0][\"ref_FC\"]>=L1_criterion][\"ref_FC\"].astype(int).describe()"
   ]
  },
  {
   "cell_type": "code",
   "execution_count": 452,
   "metadata": {
    "ExecuteTime": {
     "end_time": "2023-09-24T07:28:27.171911Z",
     "start_time": "2023-09-24T07:28:27.157811Z"
    }
   },
   "outputs": [
    {
     "data": {
      "text/plain": [
       "count    12.000000\n",
       "mean      0.874570\n",
       "std       0.255294\n",
       "min       0.130952\n",
       "25%       0.854167\n",
       "50%       1.000000\n",
       "75%       1.000000\n",
       "max       1.000000\n",
       "Name: ref_FC_rank, dtype: float64"
      ]
     },
     "execution_count": 452,
     "metadata": {},
     "output_type": "execute_result"
    }
   ],
   "source": [
    "df_val[df_val[\"is_same\"]==0][df_val[df_val[\"is_same\"]==0][\"ref_FC\"]>=L1_criterion][\"ref_FC_rank\"].describe()"
   ]
  },
  {
   "cell_type": "code",
   "execution_count": 453,
   "metadata": {
    "ExecuteTime": {
     "end_time": "2023-09-24T07:28:27.770630Z",
     "start_time": "2023-09-24T07:28:27.767496Z"
    },
    "scrolled": false
   },
   "outputs": [],
   "source": [
    "# ## 인용 IPC 중 생성 IPC와 동일한 게 있으면서, 입력 IPC와 생성 IPC가 다르고, 피인용수가 전체 데이터셋의 L1 기준인 9 이상인 샘플\n",
    "# df_val[df_val[\"is_same\"]==0][df_val[df_val[\"is_same\"]==0][\"ref_FC\"]>=L1_criterion]"
   ]
  },
  {
   "cell_type": "markdown",
   "metadata": {},
   "source": [
    "- Patent_matched 전체"
   ]
  },
  {
   "cell_type": "code",
   "execution_count": 454,
   "metadata": {
    "ExecuteTime": {
     "end_time": "2023-09-24T07:28:29.003791Z",
     "start_time": "2023-09-24T07:28:28.991733Z"
    },
    "scrolled": true
   },
   "outputs": [
    {
     "data": {
      "text/plain": [
       "count    1353.000000\n",
       "mean        7.876571\n",
       "std        16.232510\n",
       "min         0.000000\n",
       "25%         0.000000\n",
       "50%         3.000000\n",
       "75%         7.000000\n",
       "max       202.000000\n",
       "Name: ref_FC, dtype: float64"
      ]
     },
     "execution_count": 454,
     "metadata": {},
     "output_type": "execute_result"
    }
   ],
   "source": [
    "df_val[\"ref_FC\"].astype(float).describe()"
   ]
  },
  {
   "cell_type": "code",
   "execution_count": 455,
   "metadata": {
    "ExecuteTime": {
     "end_time": "2023-09-24T07:28:29.718088Z",
     "start_time": "2023-09-24T07:28:29.706339Z"
    }
   },
   "outputs": [
    {
     "data": {
      "text/plain": [
       "count    1353.000000\n",
       "mean        0.605580\n",
       "std         0.284482\n",
       "min         0.032143\n",
       "25%         0.375000\n",
       "50%         0.602564\n",
       "75%         0.857143\n",
       "max         1.000000\n",
       "Name: ref_FC_rank, dtype: float64"
      ]
     },
     "execution_count": 455,
     "metadata": {},
     "output_type": "execute_result"
    }
   ],
   "source": [
    "df_val[\"ref_FC_rank\"].astype(float).describe()"
   ]
  },
  {
   "cell_type": "code",
   "execution_count": 456,
   "metadata": {
    "ExecuteTime": {
     "end_time": "2023-09-24T07:28:30.835573Z",
     "start_time": "2023-09-24T07:28:30.596415Z"
    }
   },
   "outputs": [
    {
     "data": {
      "text/plain": [
       "<AxesSubplot:>"
      ]
     },
     "execution_count": 456,
     "metadata": {},
     "output_type": "execute_result"
    },
    {
     "data": {
      "image/png": "[encoded data removed]",
      "text/plain": [
       "<Figure size 432x288 with 1 Axes>"
      ]
     },
     "metadata": {
      "needs_background": "light"
     },
     "output_type": "display_data"
    }
   ],
   "source": [
    "df_val[\"ref_FC\"].astype(float).hist(bins=100)"
   ]
  },
  {
   "cell_type": "code",
   "execution_count": 457,
   "metadata": {
    "ExecuteTime": {
     "end_time": "2023-09-24T07:28:31.361613Z",
     "start_time": "2023-09-24T07:28:31.228146Z"
    },
    "scrolled": true
   },
   "outputs": [
    {
     "data": {
      "text/plain": [
       "<AxesSubplot:>"
      ]
     },
     "execution_count": 457,
     "metadata": {},
     "output_type": "execute_result"
    },
    {
     "data": {
      "image/png": "[encoded data removed]",
      "text/plain": [
       "<Figure size 432x288 with 1 Axes>"
      ]
     },
     "metadata": {
      "needs_background": "light"
     },
     "output_type": "display_data"
    }
   ],
   "source": [
    "df_val[\"ref_FC_rank\"].astype(float).hist(bins=30)"
   ]
  },
  {
   "cell_type": "markdown",
   "metadata": {},
   "source": [
    "- IPC_original == IPC_identified"
   ]
  },
  {
   "cell_type": "code",
   "execution_count": 52,
   "metadata": {
    "ExecuteTime": {
     "end_time": "2024-01-04T07:38:18.922291Z",
     "start_time": "2024-01-04T07:38:18.901879Z"
    },
    "scrolled": false
   },
   "outputs": [
    {
     "data": {
      "text/plain": [
       "count    662.000000\n",
       "mean       6.110272\n",
       "std       16.366036\n",
       "min        0.000000\n",
       "25%        0.000000\n",
       "50%        2.000000\n",
       "75%        5.000000\n",
       "max      152.000000\n",
       "Name: ref_FC, dtype: float64"
      ]
     },
     "execution_count": 52,
     "metadata": {},
     "output_type": "execute_result"
    }
   ],
   "source": [
    "df_val[df_val[\"is_same\"]==1][\"ref_FC\"].astype(int).describe()"
   ]
  },
  {
   "cell_type": "code",
   "execution_count": 53,
   "metadata": {
    "ExecuteTime": {
     "end_time": "2024-01-04T07:38:19.932143Z",
     "start_time": "2024-01-04T07:38:19.911922Z"
    }
   },
   "outputs": [
    {
     "data": {
      "text/plain": [
       "count    662.000000\n",
       "mean       0.634517\n",
       "std        0.286946\n",
       "min        0.032258\n",
       "25%        0.384615\n",
       "50%        0.666667\n",
       "75%        0.909284\n",
       "max        1.000000\n",
       "Name: ref_FC_rank, dtype: float64"
      ]
     },
     "execution_count": 53,
     "metadata": {},
     "output_type": "execute_result"
    }
   ],
   "source": [
    "df_val[df_val[\"is_same\"]==1][\"ref_FC_rank\"].astype(float).describe()"
   ]
  },
  {
   "cell_type": "code",
   "execution_count": 54,
   "metadata": {
    "ExecuteTime": {
     "end_time": "2024-01-04T07:38:29.020066Z",
     "start_time": "2024-01-04T07:38:25.776614Z"
    }
   },
   "outputs": [
    {
     "data": {
      "text/plain": [
       "<AxesSubplot:>"
      ]
     },
     "execution_count": 54,
     "metadata": {},
     "output_type": "execute_result"
    },
    {
     "data": {
      "image/png": "[encoded data removed]",
      "text/plain": [
       "<Figure size 432x288 with 1 Axes>"
      ]
     },
     "metadata": {
      "needs_background": "light"
     },
     "output_type": "display_data"
    }
   ],
   "source": [
    "df_val[df_val[\"is_same\"]==1][\"ref_FC\"].astype(float).hist(bins=100)"
   ]
  },
  {
   "cell_type": "code",
   "execution_count": 55,
   "metadata": {
    "ExecuteTime": {
     "end_time": "2024-01-04T07:38:29.285527Z",
     "start_time": "2024-01-04T07:38:29.024108Z"
    }
   },
   "outputs": [
    {
     "data": {
      "text/plain": [
       "<AxesSubplot:>"
      ]
     },
     "execution_count": 55,
     "metadata": {},
     "output_type": "execute_result"
    },
    {
     "data": {
      "image/png": "[encoded data removed]",
      "text/plain": [
       "<Figure size 432x288 with 1 Axes>"
      ]
     },
     "metadata": {
      "needs_background": "light"
     },
     "output_type": "display_data"
    }
   ],
   "source": [
    "df_val[df_val[\"is_same\"]==1][\"ref_FC_rank\"].astype(float).hist(bins=30)"
   ]
  },
  {
   "cell_type": "markdown",
   "metadata": {},
   "source": [
    "- IPC_original != IPC_identified"
   ]
  },
  {
   "cell_type": "code",
   "execution_count": 56,
   "metadata": {
    "ExecuteTime": {
     "end_time": "2024-01-04T07:39:37.520726Z",
     "start_time": "2024-01-04T07:39:37.491080Z"
    }
   },
   "outputs": [
    {
     "data": {
      "text/plain": [
       "count     37.00000\n",
       "mean      10.27027\n",
       "std       24.80104\n",
       "min        0.00000\n",
       "25%        0.00000\n",
       "50%        0.00000\n",
       "75%       12.00000\n",
       "max      133.00000\n",
       "Name: ref_FC, dtype: float64"
      ]
     },
     "execution_count": 56,
     "metadata": {},
     "output_type": "execute_result"
    }
   ],
   "source": [
    "df_val[df_val[\"is_same\"]==0][\"ref_FC\"].astype(int).describe()"
   ]
  },
  {
   "cell_type": "code",
   "execution_count": 57,
   "metadata": {
    "ExecuteTime": {
     "end_time": "2024-01-04T07:39:40.211770Z",
     "start_time": "2024-01-04T07:39:40.191755Z"
    },
    "scrolled": true
   },
   "outputs": [
    {
     "data": {
      "text/plain": [
       "count    37.000000\n",
       "mean      0.551982\n",
       "std       0.319979\n",
       "min       0.020000\n",
       "25%       0.363636\n",
       "50%       0.363636\n",
       "75%       0.920000\n",
       "max       1.000000\n",
       "Name: ref_FC_rank, dtype: float64"
      ]
     },
     "execution_count": 57,
     "metadata": {},
     "output_type": "execute_result"
    }
   ],
   "source": [
    "df_val[df_val[\"is_same\"]==0][\"ref_FC_rank\"].astype(float).describe()"
   ]
  },
  {
   "cell_type": "code",
   "execution_count": 464,
   "metadata": {
    "ExecuteTime": {
     "end_time": "2023-09-24T07:28:40.237719Z",
     "start_time": "2023-09-24T07:28:40.097827Z"
    }
   },
   "outputs": [
    {
     "data": {
      "text/plain": [
       "<AxesSubplot:>"
      ]
     },
     "execution_count": 464,
     "metadata": {},
     "output_type": "execute_result"
    },
    {
     "data": {
      "image/png": "[encoded data removed]",
      "text/plain": [
       "<Figure size 432x288 with 1 Axes>"
      ]
     },
     "metadata": {
      "needs_background": "light"
     },
     "output_type": "display_data"
    }
   ],
   "source": [
    "df_val[df_val[\"is_same\"]==0][\"ref_FC\"].astype(float).hist(bins=30)"
   ]
  },
  {
   "cell_type": "code",
   "execution_count": 465,
   "metadata": {
    "ExecuteTime": {
     "end_time": "2023-09-24T07:28:40.993443Z",
     "start_time": "2023-09-24T07:28:40.854056Z"
    },
    "scrolled": true
   },
   "outputs": [
    {
     "data": {
      "text/plain": [
       "<AxesSubplot:>"
      ]
     },
     "execution_count": 465,
     "metadata": {},
     "output_type": "execute_result"
    },
    {
     "data": {
      "image/png": "[encoded data removed]",
      "text/plain": [
       "<Figure size 432x288 with 1 Axes>"
      ]
     },
     "metadata": {
      "needs_background": "light"
     },
     "output_type": "display_data"
    }
   ],
   "source": [
    "df_val[df_val[\"is_same\"]==0][\"ref_FC_rank\"].astype(float).hist(bins=30)"
   ]
  },
  {
   "cell_type": "code",
   "execution_count": 466,
   "metadata": {
    "ExecuteTime": {
     "end_time": "2023-09-24T07:28:42.455169Z",
     "start_time": "2023-09-24T07:28:42.423257Z"
    }
   },
   "outputs": [],
   "source": [
    "df_val_adv = df_val[df_val.apply(lambda x: True if x[\"org_FC\"]<=x[\"ref_FC\"] else False, axis=1)]"
   ]
  },
  {
   "cell_type": "code",
   "execution_count": 58,
   "metadata": {
    "ExecuteTime": {
     "end_time": "2024-01-19T10:54:07.384394Z",
     "start_time": "2024-01-19T10:54:07.110856Z"
    }
   },
   "outputs": [
    {
     "ename": "NameError",
     "evalue": "name 'df_val_adv' is not defined",
     "output_type": "error",
     "traceback": [
      "\u001b[0;31m---------------------------------------------------------------------------\u001b[0m",
      "\u001b[0;31mNameError\u001b[0m                                 Traceback (most recent call last)",
      "\u001b[0;32m/tmp/ipykernel_26030/2539141894.py\u001b[0m in \u001b[0;36m<module>\u001b[0;34m\u001b[0m\n\u001b[1;32m      1\u001b[0m \u001b[0mL1_criterion\u001b[0m \u001b[0;34m=\u001b[0m \u001b[0mtech_dataset\u001b[0m\u001b[0;34m.\u001b[0m\u001b[0mdata\u001b[0m\u001b[0;34m[\u001b[0m\u001b[0;34m\"TC5\"\u001b[0m\u001b[0;34m]\u001b[0m\u001b[0;34m.\u001b[0m\u001b[0mquantile\u001b[0m\u001b[0;34m(\u001b[0m\u001b[0;36m0.9\u001b[0m\u001b[0;34m)\u001b[0m\u001b[0;34m\u001b[0m\u001b[0;34m\u001b[0m\u001b[0m\n\u001b[0;32m----> 2\u001b[0;31m \u001b[0mprint\u001b[0m\u001b[0;34m(\u001b[0m\u001b[0;34m\"total hit:\"\u001b[0m\u001b[0;34m,\u001b[0m \u001b[0mlen\u001b[0m\u001b[0;34m(\u001b[0m\u001b[0mdf_val_adv\u001b[0m\u001b[0;34m)\u001b[0m\u001b[0;34m)\u001b[0m\u001b[0;34m\u001b[0m\u001b[0;34m\u001b[0m\u001b[0m\n\u001b[0m\u001b[1;32m      3\u001b[0m \u001b[0mprint\u001b[0m\u001b[0;34m(\u001b[0m\u001b[0;34m\"same:\"\u001b[0m\u001b[0;34m,\u001b[0m\u001b[0mlen\u001b[0m\u001b[0;34m(\u001b[0m\u001b[0mdf_val_adv\u001b[0m\u001b[0;34m[\u001b[0m\u001b[0mdf_val_adv\u001b[0m\u001b[0;34m[\u001b[0m\u001b[0;34m\"is_same\"\u001b[0m\u001b[0;34m]\u001b[0m\u001b[0;34m==\u001b[0m\u001b[0;36m1\u001b[0m\u001b[0;34m]\u001b[0m\u001b[0;34m)\u001b[0m\u001b[0;34m)\u001b[0m\u001b[0;34m\u001b[0m\u001b[0;34m\u001b[0m\u001b[0m\n\u001b[1;32m      4\u001b[0m \u001b[0mprint\u001b[0m\u001b[0;34m(\u001b[0m\u001b[0;34m\"diff:\"\u001b[0m\u001b[0;34m,\u001b[0m\u001b[0mlen\u001b[0m\u001b[0;34m(\u001b[0m\u001b[0mdf_val_adv\u001b[0m\u001b[0;34m[\u001b[0m\u001b[0mdf_val_adv\u001b[0m\u001b[0;34m[\u001b[0m\u001b[0;34m\"is_same\"\u001b[0m\u001b[0;34m]\u001b[0m\u001b[0;34m==\u001b[0m\u001b[0;36m0\u001b[0m\u001b[0;34m]\u001b[0m\u001b[0;34m)\u001b[0m\u001b[0;34m)\u001b[0m\u001b[0;34m\u001b[0m\u001b[0;34m\u001b[0m\u001b[0m\n\u001b[1;32m      5\u001b[0m \u001b[0mprint\u001b[0m\u001b[0;34m(\u001b[0m\u001b[0;34m\"over L1 criterion:\"\u001b[0m\u001b[0;34m,\u001b[0m \u001b[0mlen\u001b[0m\u001b[0;34m(\u001b[0m\u001b[0mdf_val_adv\u001b[0m\u001b[0;34m[\u001b[0m\u001b[0mdf_val_adv\u001b[0m\u001b[0;34m[\u001b[0m\u001b[0;34m\"is_same\"\u001b[0m\u001b[0;34m]\u001b[0m\u001b[0;34m==\u001b[0m\u001b[0;36m0\u001b[0m\u001b[0;34m]\u001b[0m\u001b[0;34m[\u001b[0m\u001b[0mdf_val_adv\u001b[0m\u001b[0;34m[\u001b[0m\u001b[0mdf_val_adv\u001b[0m\u001b[0;34m[\u001b[0m\u001b[0;34m\"is_same\"\u001b[0m\u001b[0;34m]\u001b[0m\u001b[0;34m==\u001b[0m\u001b[0;36m0\u001b[0m\u001b[0;34m]\u001b[0m\u001b[0;34m[\u001b[0m\u001b[0;34m\"ref_FC\"\u001b[0m\u001b[0;34m]\u001b[0m\u001b[0;34m>=\u001b[0m\u001b[0mL1_criterion\u001b[0m\u001b[0;34m]\u001b[0m\u001b[0;34m)\u001b[0m\u001b[0;34m)\u001b[0m\u001b[0;34m\u001b[0m\u001b[0;34m\u001b[0m\u001b[0m\n",
      "\u001b[0;31mNameError\u001b[0m: name 'df_val_adv' is not defined"
     ]
    }
   ],
   "source": [
    "L1_criterion = tech_dataset.data[\"TC5\"].quantile(0.9)\n",
    "print(\"total hit:\", len(df_val_adv))\n",
    "print(\"same:\",len(df_val_adv[df_val_adv[\"is_same\"]==1]))\n",
    "print(\"diff:\",len(df_val_adv[df_val_adv[\"is_same\"]==0]))\n",
    "print(\"over L1 criterion:\", len(df_val_adv[df_val_adv[\"is_same\"]==0][df_val_adv[df_val_adv[\"is_same\"]==0][\"ref_FC\"]>=L1_criterion]))\n",
    "print(\"ratio:\",len(df_val_adv[df_val_adv[\"is_same\"]==0][df_val_adv[df_val_adv[\"is_same\"]==0][\"ref_FC\"]>=L1_criterion]) / len(df_val_adv[df_val_adv[\"is_same\"]==0]))"
   ]
  },
  {
   "cell_type": "code",
   "execution_count": 468,
   "metadata": {
    "ExecuteTime": {
     "end_time": "2023-09-24T07:28:45.339132Z",
     "start_time": "2023-09-24T07:28:45.309437Z"
    },
    "scrolled": true
   },
   "outputs": [
    {
     "data": {
      "text/html": [
       "<div>\n",
       "<style scoped>\n",
       "    .dataframe tbody tr th:only-of-type {\n",
       "        vertical-align: middle;\n",
       "    }\n",
       "\n",
       "    .dataframe tbody tr th {\n",
       "        vertical-align: top;\n",
       "    }\n",
       "\n",
       "    .dataframe thead th {\n",
       "        text-align: right;\n",
       "    }\n",
       "</style>\n",
       "<table border=\"1\" class=\"dataframe\">\n",
       "  <thead>\n",
       "    <tr style=\"text-align: right;\">\n",
       "      <th></th>\n",
       "      <th>org_ipcs</th>\n",
       "      <th>org_FC</th>\n",
       "      <th>gen_ipcs</th>\n",
       "      <th>is_same</th>\n",
       "      <th>forward_ref</th>\n",
       "      <th>ref_ipcs</th>\n",
       "      <th>ref_FC</th>\n",
       "      <th>ref_FC_rank</th>\n",
       "      <th>ref_FC_new</th>\n",
       "    </tr>\n",
       "    <tr>\n",
       "      <th>patent_id</th>\n",
       "      <th></th>\n",
       "      <th></th>\n",
       "      <th></th>\n",
       "      <th></th>\n",
       "      <th></th>\n",
       "      <th></th>\n",
       "      <th></th>\n",
       "      <th></th>\n",
       "      <th></th>\n",
       "    </tr>\n",
       "  </thead>\n",
       "  <tbody>\n",
       "    <tr>\n",
       "      <th>7240223</th>\n",
       "      <td>{G06F01}</td>\n",
       "      <td>12</td>\n",
       "      <td>{G06F01, G06F15}</td>\n",
       "      <td>0</td>\n",
       "      <td>7647516</td>\n",
       "      <td>{G06F01, G06F15}</td>\n",
       "      <td>24</td>\n",
       "      <td>1.000</td>\n",
       "      <td>24 (1.0)</td>\n",
       "    </tr>\n",
       "    <tr>\n",
       "      <th>7600135</th>\n",
       "      <td>{G06F01, G06F09}</td>\n",
       "      <td>11</td>\n",
       "      <td>{G06F01, G06F15, G06F09}</td>\n",
       "      <td>0</td>\n",
       "      <td>7844839</td>\n",
       "      <td>{G06F01, G06F15, G06F09}</td>\n",
       "      <td>35</td>\n",
       "      <td>1.000</td>\n",
       "      <td>35 (1.0)</td>\n",
       "    </tr>\n",
       "    <tr>\n",
       "      <th>7613375</th>\n",
       "      <td>{G09G05, G02B06}</td>\n",
       "      <td>2</td>\n",
       "      <td>{G09G05, G06F03}</td>\n",
       "      <td>0</td>\n",
       "      <td>8963886</td>\n",
       "      <td>{G09G05, G06F03}</td>\n",
       "      <td>26</td>\n",
       "      <td>1.000</td>\n",
       "      <td>26 (1.0)</td>\n",
       "    </tr>\n",
       "    <tr>\n",
       "      <th>7676463</th>\n",
       "      <td>{G06F17}</td>\n",
       "      <td>15</td>\n",
       "      <td>{G06F03, G06F17}</td>\n",
       "      <td>0</td>\n",
       "      <td>9495129</td>\n",
       "      <td>{G06F03, G06F17}</td>\n",
       "      <td>94</td>\n",
       "      <td>0.725</td>\n",
       "      <td>94 (0.72)</td>\n",
       "    </tr>\n",
       "    <tr>\n",
       "      <th>7636945</th>\n",
       "      <td>{G06F11, G06F12, G06F09}</td>\n",
       "      <td>7</td>\n",
       "      <td>{G06F11, G08B23, G06F12}</td>\n",
       "      <td>0</td>\n",
       "      <td>8365286</td>\n",
       "      <td>{G06F11, G08B23, G06F12}</td>\n",
       "      <td>139</td>\n",
       "      <td>1.000</td>\n",
       "      <td>139 (1.0)</td>\n",
       "    </tr>\n",
       "    <tr>\n",
       "      <th>7887420</th>\n",
       "      <td>{A63F13, A63F09}</td>\n",
       "      <td>20</td>\n",
       "      <td>{A63F13, G06F19, A63F09, G06F17}</td>\n",
       "      <td>0</td>\n",
       "      <td>8057298</td>\n",
       "      <td>{A63F13, G06F19, A63F09, G06F17}</td>\n",
       "      <td>39</td>\n",
       "      <td>1.000</td>\n",
       "      <td>39 (1.0)</td>\n",
       "    </tr>\n",
       "    <tr>\n",
       "      <th>7603628</th>\n",
       "      <td>{G06F03}</td>\n",
       "      <td>21</td>\n",
       "      <td>{G09G05, G06F03}</td>\n",
       "      <td>0</td>\n",
       "      <td>9304668</td>\n",
       "      <td>{G09G05, G06F03}</td>\n",
       "      <td>115</td>\n",
       "      <td>1.000</td>\n",
       "      <td>115 (1.0)</td>\n",
       "    </tr>\n",
       "    <tr>\n",
       "      <th>8117187</th>\n",
       "      <td>{G06F07, G06F17}</td>\n",
       "      <td>11</td>\n",
       "      <td>{G06F03, G06F17}</td>\n",
       "      <td>0</td>\n",
       "      <td>9424333</td>\n",
       "      <td>{G06F03, G06F17}</td>\n",
       "      <td>60</td>\n",
       "      <td>1.000</td>\n",
       "      <td>60 (1.0)</td>\n",
       "    </tr>\n",
       "    <tr>\n",
       "      <th>7243842</th>\n",
       "      <td>{G06F07, G06K15}</td>\n",
       "      <td>30</td>\n",
       "      <td>{G06F07, G06F17}</td>\n",
       "      <td>0</td>\n",
       "      <td>8046823</td>\n",
       "      <td>{G06F07, G06F17}</td>\n",
       "      <td>60</td>\n",
       "      <td>1.000</td>\n",
       "      <td>60 (1.0)</td>\n",
       "    </tr>\n",
       "  </tbody>\n",
       "</table>\n",
       "</div>"
      ],
      "text/plain": [
       "                           org_ipcs org_FC                          gen_ipcs  \\\n",
       "patent_id                                                                      \n",
       "7240223                    {G06F01}     12                  {G06F01, G06F15}   \n",
       "7600135            {G06F01, G06F09}     11          {G06F01, G06F15, G06F09}   \n",
       "7613375            {G09G05, G02B06}      2                  {G09G05, G06F03}   \n",
       "7676463                    {G06F17}     15                  {G06F03, G06F17}   \n",
       "7636945    {G06F11, G06F12, G06F09}      7          {G06F11, G08B23, G06F12}   \n",
       "7887420            {A63F13, A63F09}     20  {A63F13, G06F19, A63F09, G06F17}   \n",
       "7603628                    {G06F03}     21                  {G09G05, G06F03}   \n",
       "8117187            {G06F07, G06F17}     11                  {G06F03, G06F17}   \n",
       "7243842            {G06F07, G06K15}     30                  {G06F07, G06F17}   \n",
       "\n",
       "          is_same forward_ref                          ref_ipcs ref_FC  \\\n",
       "patent_id                                                                \n",
       "7240223         0     7647516                  {G06F01, G06F15}     24   \n",
       "7600135         0     7844839          {G06F01, G06F15, G06F09}     35   \n",
       "7613375         0     8963886                  {G09G05, G06F03}     26   \n",
       "7676463         0     9495129                  {G06F03, G06F17}     94   \n",
       "7636945         0     8365286          {G06F11, G08B23, G06F12}    139   \n",
       "7887420         0     8057298  {A63F13, G06F19, A63F09, G06F17}     39   \n",
       "7603628         0     9304668                  {G09G05, G06F03}    115   \n",
       "8117187         0     9424333                  {G06F03, G06F17}     60   \n",
       "7243842         0     8046823                  {G06F07, G06F17}     60   \n",
       "\n",
       "           ref_FC_rank ref_FC_new  \n",
       "patent_id                          \n",
       "7240223          1.000   24 (1.0)  \n",
       "7600135          1.000   35 (1.0)  \n",
       "7613375          1.000   26 (1.0)  \n",
       "7676463          0.725  94 (0.72)  \n",
       "7636945          1.000  139 (1.0)  \n",
       "7887420          1.000   39 (1.0)  \n",
       "7603628          1.000  115 (1.0)  \n",
       "8117187          1.000   60 (1.0)  \n",
       "7243842          1.000   60 (1.0)  "
      ]
     },
     "execution_count": 468,
     "metadata": {},
     "output_type": "execute_result"
    }
   ],
   "source": [
    "## 인용 IPC 중 생성 IPC와 동일한 게 있으면서, 입력 IPC와 생성 IPC가 다르고, 피인용수가 전체 데이터셋의 L1 기준인 9 이상이며, 인용 특허의 피인용 수가 입력 특허보다 많은 샘플\n",
    "df_val_adv[df_val_adv[\"is_same\"]==0][df_val_adv[df_val_adv[\"is_same\"]==0][\"ref_FC\"]>=L1_criterion]"
   ]
  },
  {
   "cell_type": "code",
   "execution_count": 469,
   "metadata": {
    "ExecuteTime": {
     "end_time": "2023-09-24T07:28:47.074130Z",
     "start_time": "2023-09-24T07:28:47.067915Z"
    },
    "scrolled": false
   },
   "outputs": [
    {
     "data": {
      "text/plain": [
       "'2023-05-09_0331_thre0.5'"
      ]
     },
     "execution_count": 469,
     "metadata": {},
     "output_type": "execute_result"
    }
   ],
   "source": [
    "analysis_config"
   ]
  },
  {
   "cell_type": "code",
   "execution_count": 55,
   "metadata": {
    "ExecuteTime": {
     "end_time": "2023-05-19T12:24:53.157012Z",
     "start_time": "2023-05-19T12:24:49.285906Z"
    }
   },
   "outputs": [],
   "source": [
    "if not os.path.exists(\"../results/validation/\"+analysis_config):\n",
    "    os.mkdir(\"../results/validation/\"+analysis_config)\n",
    "with open(\"../results/validation/\"+analysis_config+\"/dict_out.pickle\", \"wb\") as f:\n",
    "    pickle.dump(dict_out, f)\n",
    "with open(\"../results/validation/\"+analysis_config+\"/df_val.pickle\", \"wb\") as f:\n",
    "    pickle.dump(df_val, f)"
   ]
  },
  {
   "cell_type": "code",
   "execution_count": 470,
   "metadata": {
    "ExecuteTime": {
     "end_time": "2023-09-24T07:29:41.467362Z",
     "start_time": "2023-09-24T07:28:52.429225Z"
    },
    "scrolled": true
   },
   "outputs": [
    {
     "name": "stderr",
     "output_type": "stream",
     "text": [
      "  0%|          | 7/4151 [00:00<00:59, 69.48it/s]/home2/glee/.conda/envs/DL/lib/python3.9/site-packages/numpy/core/fromnumeric.py:3702: RuntimeWarning: Degrees of freedom <= 0 for slice\n",
      "  return _methods._var(a, axis=axis, dtype=dtype, out=out, ddof=ddof,\n",
      "/home2/glee/.conda/envs/DL/lib/python3.9/site-packages/numpy/core/_methods.py:253: RuntimeWarning: invalid value encountered in double_scalars\n",
      "  ret = ret.dtype.type(ret / rcount)\n",
      "100%|██████████| 4151/4151 [00:49<00:00, 84.66it/s]\n"
     ]
    }
   ],
   "source": [
    "from scipy.stats import ttest_ind\n",
    "whole_FC_ttest = {\"statistic\": [], \"pvalue\": []}\n",
    "whole_FCs_diff = []\n",
    "for i in tqdm(range(len(dict_out[\"patent_id\"]))):\n",
    "    org_whole_FC = tech_dataset.data.loc[whole_patent_classes[whole_patent_classes==set(dict_out[\"org_text\"][i])].index][\"TC5\"]\n",
    "    gen_whole_FC = tech_dataset.data.loc[whole_patent_classes[whole_patent_classes==set(dict_out[\"gen_text\"][i])].index][\"TC5\"]\n",
    "    \n",
    "    if len(org_whole_FC)>0 and len(gen_whole_FC)>0:\n",
    "        whole_FC_diff = gen_whole_FC.mean() - org_whole_FC.mean()\n",
    "    elif len(org_whole_FC)==0 and len(gen_whole_FC)>0:\n",
    "        whole_FC_diff = gen_whole_FC.mean()\n",
    "    elif len(org_whole_FC)>0 and len(gen_whole_FC)==0:\n",
    "        whole_FC_diff = org_whole_FC.mean()\n",
    "    else:\n",
    "        whole_FC_diff = 0.0\n",
    "    \n",
    "    ttest_res = ttest_ind(gen_whole_FC, org_whole_FC, equal_var=False)\n",
    "    \n",
    "    if set(dict_out[\"org_text\"][i]) != set(dict_out[\"gen_text\"][i]):    \n",
    "        whole_FC_ttest[\"statistic\"].append(ttest_res.statistic)\n",
    "        whole_FC_ttest[\"pvalue\"].append(ttest_res.pvalue)\n",
    "        if set(dict_out[\"org_text\"][i]) != set(dict_out[\"gen_text\"][i]):\n",
    "            whole_FCs_diff.append(whole_FC_diff)"
   ]
  },
  {
   "cell_type": "code",
   "execution_count": 471,
   "metadata": {
    "ExecuteTime": {
     "end_time": "2023-09-24T07:32:42.709985Z",
     "start_time": "2023-09-24T07:32:42.700623Z"
    }
   },
   "outputs": [
    {
     "data": {
      "text/plain": [
       "count    2170.000000\n",
       "mean        2.710693\n",
       "std        10.241110\n",
       "min      -111.387097\n",
       "25%        -0.935761\n",
       "50%         1.661317\n",
       "75%         5.000000\n",
       "max       135.000000\n",
       "dtype: float64"
      ]
     },
     "execution_count": 471,
     "metadata": {},
     "output_type": "execute_result"
    }
   ],
   "source": [
    "pd.Series(whole_FCs_diff).describe()"
   ]
  },
  {
   "cell_type": "code",
   "execution_count": 472,
   "metadata": {
    "ExecuteTime": {
     "end_time": "2023-09-24T07:32:43.985156Z",
     "start_time": "2023-09-24T07:32:43.971013Z"
    }
   },
   "outputs": [
    {
     "data": {
      "text/plain": [
       "count    1183.000000\n",
       "mean        0.286912\n",
       "std         2.251862\n",
       "min       -19.428332\n",
       "25%        -0.997885\n",
       "50%         0.150786\n",
       "75%         1.508253\n",
       "max        12.020815\n",
       "dtype: float64"
      ]
     },
     "execution_count": 472,
     "metadata": {},
     "output_type": "execute_result"
    }
   ],
   "source": [
    "pd.Series(whole_FC_ttest[\"statistic\"])[~pd.Series(whole_FC_ttest[\"statistic\"]).isna()].describe()"
   ]
  },
  {
   "cell_type": "code",
   "execution_count": 473,
   "metadata": {
    "ExecuteTime": {
     "end_time": "2023-09-24T07:32:45.064054Z",
     "start_time": "2023-09-24T07:32:45.049637Z"
    }
   },
   "outputs": [
    {
     "data": {
      "text/plain": [
       "count    318.000000\n",
       "mean       1.057567\n",
       "std        3.829408\n",
       "min      -19.428332\n",
       "25%       -2.524225\n",
       "50%        2.316801\n",
       "75%        3.199295\n",
       "max       12.020815\n",
       "dtype: float64"
      ]
     },
     "execution_count": 473,
     "metadata": {},
     "output_type": "execute_result"
    }
   ],
   "source": [
    "pd.Series(whole_FC_ttest[\"statistic\"]).loc[pd.Series(whole_FC_ttest[\"pvalue\"]).dropna()[pd.Series(whole_FC_ttest[\"pvalue\"]).dropna()<0.05].index].describe()"
   ]
  }
 ],
 "metadata": {
  "kernelspec": {
   "display_name": "DL",
   "language": "python",
   "name": "dl"
  },
  "language_info": {
   "codemirror_mode": {
    "name": "ipython",
    "version": 3
   },
   "file_extension": ".py",
   "mimetype": "text/x-python",
   "name": "python",
   "nbconvert_exporter": "python",
   "pygments_lexer": "ipython3",
   "version": "3.9.7"
  },
  "toc": {
   "base_numbering": 1,
   "nav_menu": {},
   "number_sections": true,
   "sideBar": true,
   "skip_h1_title": false,
   "title_cell": "Table of Contents",
   "title_sidebar": "Contents",
   "toc_cell": false,
   "toc_position": {},
   "toc_section_display": true,
   "toc_window_display": false
  }
 },
 "nbformat": 4,
 "nbformat_minor": 2
}
