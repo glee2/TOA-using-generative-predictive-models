{
 "cells": [
  {
   "cell_type": "code",
   "execution_count": null,
   "metadata": {
    "ExecuteTime": {
     "end_time": "2025-06-10T18:51:44.107296Z",
     "start_time": "2025-06-10T18:51:40.785156Z"
    }
   },
   "outputs": [],
   "source": [
    "root_dir = '/home2/glee/dissertation/1_tech_gen_impact/class2class/Tech_Gen/'\n",
    "master_dir = '/home2/glee/dissertation/1_tech_gen_impact/master/Tech_Gen/'\n",
    "import sys\n",
    "sys.path.append(root_dir)\n",
    "\n",
    "import copy\n",
    "import os\n",
    "import argparse\n",
    "import time\n",
    "import pickle\n",
    "import re\n",
    "import warnings\n",
    "warnings.filterwarnings(action='ignore', category=UserWarning)\n",
    "warnings.filterwarnings(action='ignore', category=DeprecationWarning)\n",
    "sys.path.append(\"/share/tml_package\")\n",
    "from tqdm import tqdm\n",
    "\n",
    "import torch\n",
    "from accelerate import Accelerator\n",
    "\n",
    "import numpy as np\n",
    "import pandas as pd\n",
    "from sklearn.metrics import matthews_corrcoef, precision_recall_fscore_support, confusion_matrix\n",
    "from sklearn.utils.class_weight import compute_class_weight\n",
    "\n",
    "from data import TechDataset, CVSampler\n",
    "from train_utils import EarlyStopping, perf_eval, objective_cv, build_model, train_model, validate_model_mp\n",
    "from utils import token2class, DotDict, to_device\n",
    "\n",
    "os.environ[\"TOKENIZERS_PARALLELISM\"] = \"false\"\n",
    "os.environ[\"CUDA_LAUNCH_BLOCKING\"] = \"1\""
   ]
  },
  {
   "cell_type": "markdown",
   "metadata": {},
   "source": [
    "# Configuration"
   ]
  },
  {
   "cell_type": "code",
   "execution_count": null,
   "metadata": {
    "ExecuteTime": {
     "end_time": "2025-06-10T18:51:44.184193Z",
     "start_time": "2025-06-10T18:51:44.108794Z"
    }
   },
   "outputs": [],
   "source": [
    "def make_path(*args):\n",
    "    return os.path.join(*args)\n",
    "\n",
    "def get_config_file(args, config_dir):\n",
    "    if args.config_file is not None:\n",
    "        return args.config_file\n",
    "    # Select config file based on 'light' mode\n",
    "    return make_path(config_dir, \"configs_light.json\") if getattr(args, \"light\", False) else make_path(config_dir, \"configs.json\")\n",
    "\n",
    "def format_config_string(keywords, area, period, sampling_ratio):\n",
    "    # Format config string for filenames\n",
    "    period_str = \"[\" + \"-\".join(map(str, period)) + \"]\"\n",
    "    area_str = str(area).replace(\"'\", \"\").replace(\" \", \"\")\n",
    "    keywords_str = str(keywords).replace(\"'\", \"\").replace(\" \", \"\")\n",
    "    sampling_str = f\"[{sampling_ratio}sampling]\" if sampling_ratio < 1 else \"\"\n",
    "    return f\"{keywords_str}{area_str}{period_str}{sampling_str}\"\n",
    "\n",
    "analysis_date = \"2025-06-07_1732\" # AI, CPC, 2025 scientometrics rev.\n",
    "args = argparse.Namespace(\n",
    "    do_eval=True,\n",
    "    do_save=False,\n",
    "    config_file=make_path(root_dir, \"configs\", \"USED_configs\", \"[CONFIGS]\"+analysis_date+\".json\"),\n",
    "    eval_train_set=False\n",
    ")\n",
    "\n",
    "project_data_dir = make_path(master_dir, \"data\")\n",
    "data_dir = \"/home2/glee/patent_data/data/\"\n",
    "model_dir = make_path(root_dir, \"models\")\n",
    "result_dir = make_path(root_dir, \"results\")\n",
    "config_dir = make_path(root_dir, \"configs\")\n",
    "\n",
    "config_file = get_config_file(args, config_dir)\n",
    "if args.do_eval: args.do_train = False\n",
    "configs = DotDict().load(config_file)\n",
    "org_config_keys = {key: list(configs[key].keys()) for key in configs.keys()}\n",
    "\n",
    "# Update configs with command line arguments if present\n",
    "instant_configs = {k: v for k, v in vars(args).items() if v is not None}\n",
    "for configkey in org_config_keys:\n",
    "    configs[configkey].update({k: v for k, v in instant_configs.items() if k in org_config_keys[configkey]})\n",
    "\n",
    "# Assign loss weights based on model type\n",
    "loss_weights_map = {\n",
    "    \"enc-pred-dec\": lambda lw: {\"recon\": lw[\"recon\"] / sum(lw.values()), \"y\": 1 - lw[\"recon\"] / sum(lw.values())},\n",
    "    \"enc-pred\": lambda lw: {\"recon\": 0, \"y\": 1},\n",
    "    \"enc-dec\": lambda lw: {\"recon\": 1, \"y\": 0}\n",
    "}\n",
    "model_type = configs.model.model_type\n",
    "if model_type in loss_weights_map:\n",
    "    configs.train.loss_weights = loss_weights_map[model_type](configs.train.loss_weights)\n",
    "\n",
    "# Device assignment logic\n",
    "if configs.train.use_accelerator:\n",
    "    accelerator = Accelerator()\n",
    "    device_ids = list(range(torch.cuda.device_count()))\n",
    "    device = accelerator.device\n",
    "    configs.train.update({\"accelerator\": accelerator})\n",
    "elif torch.cuda.is_available():\n",
    "    device_ids = list(range(torch.cuda.device_count()))\n",
    "    gpu_usages = [np.sum([float(usage.split(\"uses\")[-1].replace(\" \",\"\").replace(\"MB\",\"\")) for usage in torch.cuda.list_gpu_processes(id).split(\"GPU memory\") if usage and \"no processes are running\" not in usage]) for id in device_ids]\n",
    "    device_ids = np.argsort(gpu_usages)[:configs.train.n_gpus]\n",
    "    device_ids = [torch.device('cuda', int(x)) for x in device_ids]\n",
    "    device = device_ids[0]\n",
    "    torch.cuda.set_device(device)\n",
    "else:\n",
    "    device = torch.device('cpu')\n",
    "    device_ids = []\n",
    "\n",
    "# Prepare dataset-related config values\n",
    "config_str = format_config_string(configs.data.target_keywords, configs.data.target_area, configs.data.target_period, configs.data.sampling_ratio)\n",
    "configs.data.update({\n",
    "    \"root_dir\": root_dir,\n",
    "    \"data_dir\": data_dir,\n",
    "    \"model_dir\": model_dir,\n",
    "    \"result_dir\": result_dir,\n",
    "    \"pretrained_enc\": configs.model.pretrained_enc,\n",
    "    \"pretrained_dec\": configs.model.pretrained_dec,\n",
    "    \"data_nrows\": None,\n",
    "    \"data_file\": f\"collection_{config_str}.csv\"\n",
    "})\n",
    "configs.train.update({\n",
    "    \"device\": device,\n",
    "    \"device_ids\": device_ids,\n",
    "    \"root_dir\": root_dir,\n",
    "    \"data_dir\": data_dir,\n",
    "    \"model_dir\": model_dir,\n",
    "    \"use_keywords\": configs.data.use_keywords,\n",
    "    \"class_system\": configs.data.class_system,\n",
    "    \"curr_ep\": 1,\n",
    "    \"early_stop_patience\": int(0.3 * configs.train.max_epochs)\n",
    "})\n",
    "configs.model.update({\n",
    "    \"device\": device,\n",
    "    \"device_ids\": device_ids,\n",
    "    \"n_directions\": 2 if configs.model.bidirec else 1,\n",
    "    \"use_accelerator\": configs.train.use_accelerator,\n",
    "    \"model_dir\": model_dir\n",
    "})\n",
    "\n",
    "# Set hyperparameters for model training (To be TUNED)\n",
    "if configs.train.do_train and configs.train.do_tune:\n",
    "    # Set tunable hyperparameters to None for tuning\n",
    "    for attr in [\"n_layers\", \"d_embedding\", \"d_enc_hidden\", \"d_pred_hidden\"]:\n",
    "        setattr(configs.model, attr, None)\n",
    "    for attr in [\"learning_rate\", \"batch_size\"]:\n",
    "        setattr(configs.train, attr, None)\n",
    "    config_name = \"HPARAM_TUNING\"\n",
    "    final_model_path = None\n",
    "else:\n",
    "    # Use fixed hyperparameters for training\n",
    "    n_layers = configs.model.n_layers\n",
    "    d_embedding = configs.model.d_embedding\n",
    "    d_enc_hidden = configs.model.d_enc_hidden\n",
    "    d_pred_hidden = configs.model.d_pred_hidden\n",
    "    d_latent = configs.model.d_latent\n",
    "\n",
    "    key_components = {\n",
    "        \"data\": [\"class_level\", \"class_system\", \"max_seq_len_class\", \"max_seq_len_claim\", \"vocab_size\"],\n",
    "        \"model\": [\"n_layers\", \"d_hidden\", \"d_pred_hidden\", \"d_latent\", \"d_embedding\", \"d_ff\", \"n_head\", \"d_head\"],\n",
    "        \"train\": [\"learning_rate\", \"batch_size\", \"max_epochs\", \"curr_ep\"]\n",
    "    }\n",
    "    # Build model config name for checkpoint file\n",
    "    model_config_name = f\"{config_str}data\"\n",
    "    model_config_name += f\"[{configs.data.class_system}]system\"\n",
    "    for key in [\"model\", \"train\"]:\n",
    "        for component in key_components[key]:\n",
    "            model_config_name += f\"[{str(configs[key][component])}]{component}\"\n",
    "    final_model_path = make_path(model_dir, f\"[MODEL]{model_config_name}.ckpt\")"
   ]
  },
  {
   "cell_type": "markdown",
   "metadata": {},
   "source": [
    "# Dataset setting"
   ]
  },
  {
   "cell_type": "code",
   "execution_count": null,
   "metadata": {
    "ExecuteTime": {
     "end_time": "2025-06-10T18:51:35.712961Z",
     "start_time": "2025-06-10T18:51:35.712950Z"
    },
    "scrolled": true
   },
   "outputs": [],
   "source": [
    "''' PART 2: Dataset setting '''\n",
    "tstart = time.time()\n",
    "dataset_config_name = \"\".join([config_keywords, config_area, config_period, config_sampling_ratio]) + \"data\"\n",
    "for component in key_components[\"data\"]:\n",
    "    dataset_config_name += f\"[{str(configs.data[component])}]{component}\"\n",
    "dataset_path = os.path.join(project_data_dir, \"pickled_dataset\", \"[DATASET]\"+dataset_config_name+\".pickle\")\n",
    "\n",
    "if os.path.exists(dataset_path) and args.do_save is False:\n",
    "    print(\"Load pickled dataset...\")\n",
    "    with open(dataset_path, \"rb\") as f:\n",
    "        tech_dataset = pickle.load(f)   # Load pickled dataset if dataset with same configuration already saved\n",
    "        if tech_dataset.pretrained_enc != configs.data.pretrained_enc or tech_dataset.pretrained_dec != configs.data.pretrained_dec:\n",
    "            tech_dataset.pretrained_enc = configs.data.pretrained_enc\n",
    "            tech_dataset.pretrained_dec = configs.data.pretrained_dec\n",
    "            tech_dataset.tokenizers = tech_dataset.get_tokenizers()\n",
    "        for tk in tech_dataset.tokenizers.values():\n",
    "            if \"vocab_size\" not in dir(tk):\n",
    "                tk.vocab_size = tk.get_vocab_size()\n",
    "        tech_dataset.use_keywords = configs.data.use_keywords\n",
    "        ## load saved rawdata\n",
    "        if tech_dataset.rawdata is None:\n",
    "            tech_dataset.rawdata = pd.read_csv(os.path.join(data_dir, configs.data.data_file), low_memory=False)\n",
    "    print(\"Pickled dataset loaded\")\n",
    "else:\n",
    "    print(\"Make dataset...\")\n",
    "    if args.debug:\n",
    "        configs.data.update({\"data_nrows\": 1000})\n",
    "        dataset_path += \".debug\"\n",
    "    tech_dataset = TechDataset(configs.data)\n",
    "    if not args.debug:\n",
    "        rawdata_for_save = copy.deepcopy(tech_dataset.rawdata)\n",
    "        with open(dataset_path, \"wb\") as f:\n",
    "            tech_dataset.rawdata = None\n",
    "            pickle.dump(tech_dataset, f)\n",
    "        tech_dataset.rawdata = rawdata_for_save\n",
    "tend = time.time()\n",
    "\n",
    "configs.model.update({\"tokenizers\": tech_dataset.tokenizers,\n",
    "                    \"n_enc_seq_claim\": tech_dataset.max_seq_len_claim,\n",
    "                    \"n_dec_seq_claim\": tech_dataset.max_seq_len_claim,\n",
    "                    \"n_enc_seq_class\": tech_dataset.max_seq_len_class,\n",
    "                    \"n_dec_seq_class\": tech_dataset.max_seq_len_class,\n",
    "                    \"n_outputs\": 1 if configs.data.pred_type==\"regression\" else tech_dataset.n_outputs,\n",
    "                    \"i_padding\": tech_dataset.tokenizers[\"class_enc\"].pad_id})"
   ]
  },
  {
   "cell_type": "markdown",
   "metadata": {},
   "source": [
    "# Load model"
   ]
  },
  {
   "cell_type": "code",
   "execution_count": null,
   "metadata": {
    "ExecuteTime": {
     "end_time": "2025-06-10T18:12:19.324104Z",
     "start_time": "2025-06-10T18:12:19.324081Z"
    }
   },
   "outputs": [],
   "source": [
    "final_model = build_model(configs.model, tokenizers=tech_dataset.tokenizers)\n",
    "final_model_finder = final_model_path.split(\"[MODEL]\")[-1].split(\"max_epochs\")[0]+\"max_epochs\"\n",
    "matched_ckpts = [f for f in os.listdir(model_dir) if final_model_finder in f]\n",
    "latest_ckpt_index = np.argmax([int(f.split(\"curr_ep\")[0].split(\"[\")[-1].replace(\"]\",\"\")) for f in matched_ckpts])\n",
    "final_model_path = os.path.join(model_dir, matched_ckpts[latest_ckpt_index])\n",
    "if os.path.exists(final_model_path):\n",
    "    best_states = torch.load(final_model_path, map_location=device)\n",
    "else:\n",
    "    raise Exception(\"Model need to be trained first\")\n",
    "\n",
    "has_module_prefix = any(k.startswith(\"module.\") for k in best_states.keys())\n",
    "if has_module_prefix:\n",
    "    stripped = {}\n",
    "    for k, v in best_states.items():\n",
    "        new_key = k[len(\"module.\"):] if k.startswith(\"module.\") else k\n",
    "        stripped[new_key] = v\n",
    "    best_states = stripped\n",
    "final_model.load_state_dict(best_states)\n",
    "\n",
    "del best_states\n",
    "torch.cuda.empty_cache()\n",
    "print(\"Model successfully loaded\")"
   ]
  },
  {
   "cell_type": "code",
   "execution_count": null,
   "metadata": {
    "ExecuteTime": {
     "end_time": "2025-06-10T18:12:19.329439Z",
     "start_time": "2025-06-10T18:12:19.329416Z"
    }
   },
   "outputs": [],
   "source": [
    " if re.search(\"^1.\", torch.__version__) is not None:\n",
    "        model_size = sum(t.numel() for t in final_model.parameters())\n",
    "        print(f\"Model size: {model_size/1000**2:.1f}M paramaters\")"
   ]
  },
  {
   "cell_type": "code",
   "execution_count": null,
   "metadata": {
    "ExecuteTime": {
     "end_time": "2025-06-10T18:52:51.373647Z",
     "start_time": "2025-06-10T18:52:24.265038Z"
    }
   },
   "outputs": [],
   "source": [
    "result_path = os.path.join(root_dir, \"results\")\n",
    "used_train_data = pd.read_excel(os.path.join(result_dir, \"[DATASET]\"+analysis_date+\".xlsx\"), sheet_name=\"TRAIN_dataset\")\n",
    "used_test_data = pd.read_excel(os.path.join(result_dir, \"[DATASET]\"+analysis_date+\".xlsx\"), sheet_name=\"TEST_dataset\")"
   ]
  },
  {
   "cell_type": "code",
   "execution_count": 8,
   "metadata": {
    "ExecuteTime": {
     "end_time": "2025-06-10T18:52:53.522863Z",
     "start_time": "2025-06-10T18:52:53.500097Z"
    },
    "scrolled": true
   },
   "outputs": [
    {
     "data": {
      "text/html": [
       "<div>\n",
       "<style scoped>\n",
       "    .dataframe tbody tr th:only-of-type {\n",
       "        vertical-align: middle;\n",
       "    }\n",
       "\n",
       "    .dataframe tbody tr th {\n",
       "        vertical-align: top;\n",
       "    }\n",
       "\n",
       "    .dataframe thead th {\n",
       "        text-align: right;\n",
       "    }\n",
       "</style>\n",
       "<table border=\"1\" class=\"dataframe\">\n",
       "  <thead>\n",
       "    <tr style=\"text-align: right;\">\n",
       "      <th></th>\n",
       "      <th>patent_number</th>\n",
       "      <th>patent_number.1</th>\n",
       "      <th>main_class</th>\n",
       "      <th>sub_class</th>\n",
       "      <th>patent_classes</th>\n",
       "      <th>claims</th>\n",
       "      <th>TC5</th>\n",
       "      <th>TC5_digitized</th>\n",
       "      <th>class</th>\n",
       "    </tr>\n",
       "  </thead>\n",
       "  <tbody>\n",
       "    <tr>\n",
       "      <th>0</th>\n",
       "      <td>8423759</td>\n",
       "      <td>8423759</td>\n",
       "      <td>['H04L009', 'H04L063', 'H04L009', 'H04L009', '...</td>\n",
       "      <td>[]</td>\n",
       "      <td>['H04L009', 'H04L063', 'H04L009', 'H04L009', '...</td>\n",
       "      <td>1. A method of bootstrapping configuration for...</td>\n",
       "      <td>39</td>\n",
       "      <td>1</td>\n",
       "      <td>2335</td>\n",
       "    </tr>\n",
       "    <tr>\n",
       "      <th>1</th>\n",
       "      <td>7268723</td>\n",
       "      <td>7268723</td>\n",
       "      <td>['G01S013']</td>\n",
       "      <td>['G01S013']</td>\n",
       "      <td>['G01S013', 'G01S013']</td>\n",
       "      <td>1. A system for measuring the position of a ta...</td>\n",
       "      <td>3</td>\n",
       "      <td>0</td>\n",
       "      <td>1788</td>\n",
       "    </tr>\n",
       "    <tr>\n",
       "      <th>2</th>\n",
       "      <td>7508332</td>\n",
       "      <td>7508332</td>\n",
       "      <td>['H03M001', 'G01K007', 'G01K007']</td>\n",
       "      <td>['H03M001', 'H03M001', 'H03M001', 'H03M001']</td>\n",
       "      <td>['H03M001', 'G01K007', 'G01K007', 'H03M001', '...</td>\n",
       "      <td>1. An on die thermal sensor (ODTS) of a semico...</td>\n",
       "      <td>3</td>\n",
       "      <td>0</td>\n",
       "      <td>2307</td>\n",
       "    </tr>\n",
       "    <tr>\n",
       "      <th>3</th>\n",
       "      <td>8095229</td>\n",
       "      <td>8095229</td>\n",
       "      <td>['G05B019', 'G06Q050', 'G06Q010', 'G16Z099']</td>\n",
       "      <td>['Y02P090', 'Y02P090']</td>\n",
       "      <td>['G05B019', 'G06Q050', 'G06Q010', 'G16Z099', '...</td>\n",
       "      <td>1. A computer implemented method for defining ...</td>\n",
       "      <td>2</td>\n",
       "      <td>0</td>\n",
       "      <td>1882</td>\n",
       "    </tr>\n",
       "    <tr>\n",
       "      <th>4</th>\n",
       "      <td>8825655</td>\n",
       "      <td>8825655</td>\n",
       "      <td>['G06F016', 'G06F016', 'G06F016', 'G06V030', '...</td>\n",
       "      <td>[]</td>\n",
       "      <td>['G06F016', 'G06F016', 'G06F016', 'G06V030', '...</td>\n",
       "      <td>1. A system comprising: one or more processors...</td>\n",
       "      <td>2</td>\n",
       "      <td>0</td>\n",
       "      <td>1916</td>\n",
       "    </tr>\n",
       "    <tr>\n",
       "      <th>...</th>\n",
       "      <td>...</td>\n",
       "      <td>...</td>\n",
       "      <td>...</td>\n",
       "      <td>...</td>\n",
       "      <td>...</td>\n",
       "      <td>...</td>\n",
       "      <td>...</td>\n",
       "      <td>...</td>\n",
       "      <td>...</td>\n",
       "    </tr>\n",
       "    <tr>\n",
       "      <th>13361</th>\n",
       "      <td>7496557</td>\n",
       "      <td>7496557</td>\n",
       "      <td>['G06F016']</td>\n",
       "      <td>['Y10S707', 'Y10S707']</td>\n",
       "      <td>['G06F016', 'Y10S707', 'Y10S707']</td>\n",
       "      <td>1. A method of crawling at least one website c...</td>\n",
       "      <td>3</td>\n",
       "      <td>0</td>\n",
       "      <td>1916</td>\n",
       "    </tr>\n",
       "    <tr>\n",
       "      <th>13362</th>\n",
       "      <td>8483738</td>\n",
       "      <td>8483738</td>\n",
       "      <td>['G06F021', 'G06F021']</td>\n",
       "      <td>['H04W008', 'H04W004']</td>\n",
       "      <td>['G06F021', 'G06F021', 'H04W008', 'H04W004']</td>\n",
       "      <td>1. A child telecommunications device, comprisi...</td>\n",
       "      <td>0</td>\n",
       "      <td>0</td>\n",
       "      <td>1919</td>\n",
       "    </tr>\n",
       "    <tr>\n",
       "      <th>13363</th>\n",
       "      <td>8838301</td>\n",
       "      <td>8838301</td>\n",
       "      <td>['B61L029', 'B61L025', 'B61L029', 'B61L029']</td>\n",
       "      <td>['B61L025']</td>\n",
       "      <td>['B61L029', 'B61L025', 'B61L029', 'B61L029', '...</td>\n",
       "      <td>1. A method for train traffic advising includi...</td>\n",
       "      <td>10</td>\n",
       "      <td>0</td>\n",
       "      <td>700</td>\n",
       "    </tr>\n",
       "    <tr>\n",
       "      <th>13364</th>\n",
       "      <td>9087301</td>\n",
       "      <td>9087301</td>\n",
       "      <td>['G06N003', 'G06N003', 'G06N003', 'G06N003']</td>\n",
       "      <td>['G06N003', 'G06N003']</td>\n",
       "      <td>['G06N003', 'G06N003', 'G06N003', 'G06N003', '...</td>\n",
       "      <td>1. A neural network system, comprising: a memo...</td>\n",
       "      <td>11</td>\n",
       "      <td>0</td>\n",
       "      <td>1933</td>\n",
       "    </tr>\n",
       "    <tr>\n",
       "      <th>13365</th>\n",
       "      <td>9158975</td>\n",
       "      <td>9158975</td>\n",
       "      <td>['G08B013', 'G08B013', 'G08B013', 'G06V020', '...</td>\n",
       "      <td>['G06V040', 'G06V020', 'G06V010', 'G06V010', '...</td>\n",
       "      <td>['G08B013', 'G08B013', 'G08B013', 'G06V020', '...</td>\n",
       "      <td>1. A method for video monitoring a retail busi...</td>\n",
       "      <td>22</td>\n",
       "      <td>1</td>\n",
       "      <td>1988</td>\n",
       "    </tr>\n",
       "  </tbody>\n",
       "</table>\n",
       "<p>13366 rows × 9 columns</p>\n",
       "</div>"
      ],
      "text/plain": [
       "       patent_number  patent_number.1  \\\n",
       "0            8423759          8423759   \n",
       "1            7268723          7268723   \n",
       "2            7508332          7508332   \n",
       "3            8095229          8095229   \n",
       "4            8825655          8825655   \n",
       "...              ...              ...   \n",
       "13361        7496557          7496557   \n",
       "13362        8483738          8483738   \n",
       "13363        8838301          8838301   \n",
       "13364        9087301          9087301   \n",
       "13365        9158975          9158975   \n",
       "\n",
       "                                              main_class  \\\n",
       "0      ['H04L009', 'H04L063', 'H04L009', 'H04L009', '...   \n",
       "1                                            ['G01S013']   \n",
       "2                      ['H03M001', 'G01K007', 'G01K007']   \n",
       "3           ['G05B019', 'G06Q050', 'G06Q010', 'G16Z099']   \n",
       "4      ['G06F016', 'G06F016', 'G06F016', 'G06V030', '...   \n",
       "...                                                  ...   \n",
       "13361                                        ['G06F016']   \n",
       "13362                             ['G06F021', 'G06F021']   \n",
       "13363       ['B61L029', 'B61L025', 'B61L029', 'B61L029']   \n",
       "13364       ['G06N003', 'G06N003', 'G06N003', 'G06N003']   \n",
       "13365  ['G08B013', 'G08B013', 'G08B013', 'G06V020', '...   \n",
       "\n",
       "                                               sub_class  \\\n",
       "0                                                     []   \n",
       "1                                            ['G01S013']   \n",
       "2           ['H03M001', 'H03M001', 'H03M001', 'H03M001']   \n",
       "3                                 ['Y02P090', 'Y02P090']   \n",
       "4                                                     []   \n",
       "...                                                  ...   \n",
       "13361                             ['Y10S707', 'Y10S707']   \n",
       "13362                             ['H04W008', 'H04W004']   \n",
       "13363                                        ['B61L025']   \n",
       "13364                             ['G06N003', 'G06N003']   \n",
       "13365  ['G06V040', 'G06V020', 'G06V010', 'G06V010', '...   \n",
       "\n",
       "                                          patent_classes  \\\n",
       "0      ['H04L009', 'H04L063', 'H04L009', 'H04L009', '...   \n",
       "1                                 ['G01S013', 'G01S013']   \n",
       "2      ['H03M001', 'G01K007', 'G01K007', 'H03M001', '...   \n",
       "3      ['G05B019', 'G06Q050', 'G06Q010', 'G16Z099', '...   \n",
       "4      ['G06F016', 'G06F016', 'G06F016', 'G06V030', '...   \n",
       "...                                                  ...   \n",
       "13361                  ['G06F016', 'Y10S707', 'Y10S707']   \n",
       "13362       ['G06F021', 'G06F021', 'H04W008', 'H04W004']   \n",
       "13363  ['B61L029', 'B61L025', 'B61L029', 'B61L029', '...   \n",
       "13364  ['G06N003', 'G06N003', 'G06N003', 'G06N003', '...   \n",
       "13365  ['G08B013', 'G08B013', 'G08B013', 'G06V020', '...   \n",
       "\n",
       "                                                  claims  TC5  TC5_digitized  \\\n",
       "0      1. A method of bootstrapping configuration for...   39              1   \n",
       "1      1. A system for measuring the position of a ta...    3              0   \n",
       "2      1. An on die thermal sensor (ODTS) of a semico...    3              0   \n",
       "3      1. A computer implemented method for defining ...    2              0   \n",
       "4      1. A system comprising: one or more processors...    2              0   \n",
       "...                                                  ...  ...            ...   \n",
       "13361  1. A method of crawling at least one website c...    3              0   \n",
       "13362  1. A child telecommunications device, comprisi...    0              0   \n",
       "13363  1. A method for train traffic advising includi...   10              0   \n",
       "13364  1. A neural network system, comprising: a memo...   11              0   \n",
       "13365  1. A method for video monitoring a retail busi...   22              1   \n",
       "\n",
       "       class  \n",
       "0       2335  \n",
       "1       1788  \n",
       "2       2307  \n",
       "3       1882  \n",
       "4       1916  \n",
       "...      ...  \n",
       "13361   1916  \n",
       "13362   1919  \n",
       "13363    700  \n",
       "13364   1933  \n",
       "13365   1988  \n",
       "\n",
       "[13366 rows x 9 columns]"
      ]
     },
     "execution_count": 8,
     "metadata": {},
     "output_type": "execute_result"
    }
   ],
   "source": [
    "used_test_data"
   ]
  },
  {
   "cell_type": "code",
   "execution_count": null,
   "metadata": {
    "ExecuteTime": {
     "end_time": "2025-06-10T18:53:40.814489Z",
     "start_time": "2025-06-10T18:52:56.449435Z"
    }
   },
   "outputs": [],
   "source": [
    "org_data = pd.read_csv(os.path.join(data_dir, \"collection_[uspto_AI][2006-2015].csv\"))\n",
    "org_data = org_data.set_index(\"patent_number\")"
   ]
  },
  {
   "cell_type": "code",
   "execution_count": 13,
   "metadata": {
    "ExecuteTime": {
     "end_time": "2025-06-10T18:54:12.492895Z",
     "start_time": "2025-06-10T18:54:12.297902Z"
    },
    "scrolled": true
   },
   "outputs": [
    {
     "data": {
      "text/html": [
       "<div>\n",
       "<style scoped>\n",
       "    .dataframe tbody tr th:only-of-type {\n",
       "        vertical-align: middle;\n",
       "    }\n",
       "\n",
       "    .dataframe tbody tr th {\n",
       "        vertical-align: top;\n",
       "    }\n",
       "\n",
       "    .dataframe thead th {\n",
       "        text-align: right;\n",
       "    }\n",
       "</style>\n",
       "<table border=\"1\" class=\"dataframe\">\n",
       "  <thead>\n",
       "    <tr style=\"text-align: right;\">\n",
       "      <th></th>\n",
       "      <th>patent_number.1</th>\n",
       "      <th>forward_refs</th>\n",
       "      <th>application_year_forward_refs</th>\n",
       "      <th>citing_years</th>\n",
       "      <th>granted_date</th>\n",
       "      <th>granted_year</th>\n",
       "      <th>main_cpc</th>\n",
       "      <th>sub_cpc</th>\n",
       "      <th>main_ipc</th>\n",
       "      <th>sub_ipc</th>\n",
       "      <th>...</th>\n",
       "      <th>2013</th>\n",
       "      <th>2014</th>\n",
       "      <th>2015</th>\n",
       "      <th>2016</th>\n",
       "      <th>2017</th>\n",
       "      <th>2018</th>\n",
       "      <th>2019</th>\n",
       "      <th>2020</th>\n",
       "      <th>2021</th>\n",
       "      <th>2022</th>\n",
       "    </tr>\n",
       "    <tr>\n",
       "      <th>patent_number</th>\n",
       "      <th></th>\n",
       "      <th></th>\n",
       "      <th></th>\n",
       "      <th></th>\n",
       "      <th></th>\n",
       "      <th></th>\n",
       "      <th></th>\n",
       "      <th></th>\n",
       "      <th></th>\n",
       "      <th></th>\n",
       "      <th></th>\n",
       "      <th></th>\n",
       "      <th></th>\n",
       "      <th></th>\n",
       "      <th></th>\n",
       "      <th></th>\n",
       "      <th></th>\n",
       "      <th></th>\n",
       "      <th></th>\n",
       "      <th></th>\n",
       "      <th></th>\n",
       "    </tr>\n",
       "  </thead>\n",
       "  <tbody>\n",
       "    <tr>\n",
       "      <th>6983309</th>\n",
       "      <td>6983309</td>\n",
       "      <td>10235008;8243902;8050917;9582461;8015607;76068...</td>\n",
       "      <td>2014;2014;2008;2008;2004;2004;2004;2008;2008;2...</td>\n",
       "      <td>['2019' '2019' '2021' '2021' '2009' '2009' '20...</td>\n",
       "      <td>2006-01-03</td>\n",
       "      <td>2006</td>\n",
       "      <td>G06Q10/107;H04L63/123;H04L63/12;G06Q20/3674;G0...</td>\n",
       "      <td>Y10S707/99945;Y10S707/99948;H04L2209/60;H04L51...</td>\n",
       "      <td>[\"G06F15/16 20060101 G06F015/16\"]</td>\n",
       "      <td>[\"G06F15/173 20060101 G06F015/173\", \"G06F17/00...</td>\n",
       "      <td>...</td>\n",
       "      <td>2</td>\n",
       "      <td>3</td>\n",
       "      <td>1</td>\n",
       "      <td>0</td>\n",
       "      <td>2</td>\n",
       "      <td>0</td>\n",
       "      <td>2</td>\n",
       "      <td>0</td>\n",
       "      <td>2</td>\n",
       "      <td>0</td>\n",
       "    </tr>\n",
       "    <tr>\n",
       "      <th>6981642</th>\n",
       "      <td>6981642</td>\n",
       "      <td>8985462;9418269;7303131;7976167;8646694;108957...</td>\n",
       "      <td>2019;2004;2006;2003;2007;2007;2011;2007;2008;2...</td>\n",
       "      <td>['2021' '2007' '2008' '2009' '2010' '2011' '20...</td>\n",
       "      <td>2006-01-03</td>\n",
       "      <td>2006</td>\n",
       "      <td>G06K7/10722;G06K7/10811;G02B7/285</td>\n",
       "      <td>NaN</td>\n",
       "      <td>[\"G06K7/10 20060101 G06K007/10\"]</td>\n",
       "      <td>NaN</td>\n",
       "      <td>...</td>\n",
       "      <td>1</td>\n",
       "      <td>3</td>\n",
       "      <td>3</td>\n",
       "      <td>1</td>\n",
       "      <td>0</td>\n",
       "      <td>0</td>\n",
       "      <td>0</td>\n",
       "      <td>0</td>\n",
       "      <td>1</td>\n",
       "      <td>0</td>\n",
       "    </tr>\n",
       "    <tr>\n",
       "      <th>6982420</th>\n",
       "      <td>6982420</td>\n",
       "      <td>7838834</td>\n",
       "      <td>2008</td>\n",
       "      <td>['2010']</td>\n",
       "      <td>2006-01-03</td>\n",
       "      <td>2006</td>\n",
       "      <td>H01J37/26;G06V20/698</td>\n",
       "      <td>H01J2237/221</td>\n",
       "      <td>[\"G21K7/00 20060101 G21K007/00\"]</td>\n",
       "      <td>NaN</td>\n",
       "      <td>...</td>\n",
       "      <td>0</td>\n",
       "      <td>0</td>\n",
       "      <td>0</td>\n",
       "      <td>0</td>\n",
       "      <td>0</td>\n",
       "      <td>0</td>\n",
       "      <td>0</td>\n",
       "      <td>0</td>\n",
       "      <td>0</td>\n",
       "      <td>0</td>\n",
       "    </tr>\n",
       "    <tr>\n",
       "      <th>6983071</th>\n",
       "      <td>6983071</td>\n",
       "      <td>8675968</td>\n",
       "      <td>2009</td>\n",
       "      <td>['2014']</td>\n",
       "      <td>2006-01-03</td>\n",
       "      <td>2006</td>\n",
       "      <td>G06V30/155;G06V30/1444;G06V10/22;G06V10/273</td>\n",
       "      <td>G06V30/10</td>\n",
       "      <td>[\"G06K9/34 20060101 G06K009/34\"]</td>\n",
       "      <td>NaN</td>\n",
       "      <td>...</td>\n",
       "      <td>0</td>\n",
       "      <td>1</td>\n",
       "      <td>0</td>\n",
       "      <td>0</td>\n",
       "      <td>0</td>\n",
       "      <td>0</td>\n",
       "      <td>0</td>\n",
       "      <td>0</td>\n",
       "      <td>0</td>\n",
       "      <td>0</td>\n",
       "    </tr>\n",
       "    <tr>\n",
       "      <th>6982717</th>\n",
       "      <td>6982717</td>\n",
       "      <td>8111264;8421795</td>\n",
       "      <td>2006;2007;2007</td>\n",
       "      <td>['2012' '2013' '2013']</td>\n",
       "      <td>2006-01-03</td>\n",
       "      <td>2006</td>\n",
       "      <td>G06T5/002</td>\n",
       "      <td>A63F2300/8017;A63F2300/66</td>\n",
       "      <td>[\"G06T15/00 20060101 G06T015/00\"]</td>\n",
       "      <td>NaN</td>\n",
       "      <td>...</td>\n",
       "      <td>2</td>\n",
       "      <td>0</td>\n",
       "      <td>0</td>\n",
       "      <td>0</td>\n",
       "      <td>0</td>\n",
       "      <td>0</td>\n",
       "      <td>0</td>\n",
       "      <td>0</td>\n",
       "      <td>0</td>\n",
       "      <td>0</td>\n",
       "    </tr>\n",
       "    <tr>\n",
       "      <th>...</th>\n",
       "      <td>...</td>\n",
       "      <td>...</td>\n",
       "      <td>...</td>\n",
       "      <td>...</td>\n",
       "      <td>...</td>\n",
       "      <td>...</td>\n",
       "      <td>...</td>\n",
       "      <td>...</td>\n",
       "      <td>...</td>\n",
       "      <td>...</td>\n",
       "      <td>...</td>\n",
       "      <td>...</td>\n",
       "      <td>...</td>\n",
       "      <td>...</td>\n",
       "      <td>...</td>\n",
       "      <td>...</td>\n",
       "      <td>...</td>\n",
       "      <td>...</td>\n",
       "      <td>...</td>\n",
       "      <td>...</td>\n",
       "      <td>...</td>\n",
       "    </tr>\n",
       "    <tr>\n",
       "      <th>9224259</th>\n",
       "      <td>9224259</td>\n",
       "      <td>10940388;9876894;9882981;10709989;10803041;959...</td>\n",
       "      <td>2015;2017;2016;2018;2019;2018;2017;2019;2015;2...</td>\n",
       "      <td>['2018' '2018' '2019' '2020' '2020' '2020' '20...</td>\n",
       "      <td>2015-12-29</td>\n",
       "      <td>2015</td>\n",
       "      <td>A63F13/358;H04L67/10;G07F17/3241;G07F17/3234;G...</td>\n",
       "      <td>NaN</td>\n",
       "      <td>[\"G07F17/32 20060101 G07F017/32\"]</td>\n",
       "      <td>NaN</td>\n",
       "      <td>...</td>\n",
       "      <td>0</td>\n",
       "      <td>0</td>\n",
       "      <td>0</td>\n",
       "      <td>1</td>\n",
       "      <td>2</td>\n",
       "      <td>4</td>\n",
       "      <td>1</td>\n",
       "      <td>3</td>\n",
       "      <td>2</td>\n",
       "      <td>0</td>\n",
       "    </tr>\n",
       "    <tr>\n",
       "      <th>9223616</th>\n",
       "      <td>9223616</td>\n",
       "      <td>10768959</td>\n",
       "      <td>2015</td>\n",
       "      <td>['2020']</td>\n",
       "      <td>2015-12-29</td>\n",
       "      <td>2015</td>\n",
       "      <td>G06F9/4856;G06F9/5077</td>\n",
       "      <td>NaN</td>\n",
       "      <td>[\"G06F15/173 20060101 G06F015/173\"]</td>\n",
       "      <td>[\"G06F9/48 20060101 G06F009/48\", \"G06F9/50 200...</td>\n",
       "      <td>...</td>\n",
       "      <td>0</td>\n",
       "      <td>0</td>\n",
       "      <td>0</td>\n",
       "      <td>0</td>\n",
       "      <td>0</td>\n",
       "      <td>0</td>\n",
       "      <td>0</td>\n",
       "      <td>1</td>\n",
       "      <td>0</td>\n",
       "      <td>0</td>\n",
       "    </tr>\n",
       "    <tr>\n",
       "      <th>9223929</th>\n",
       "      <td>9223929</td>\n",
       "      <td>9708647;10106839;9499861;10501778;10174367;945...</td>\n",
       "      <td>2013;2016;2017;2011;2011;2015;2015</td>\n",
       "      <td>['2018' '2019' '2019' '2016' '2016' '2016' '20...</td>\n",
       "      <td>2015-12-29</td>\n",
       "      <td>2015</td>\n",
       "      <td>G16B5/20;G16B25/10;G16B25/00;G16B40/30;G16B40/...</td>\n",
       "      <td>G16B30/10</td>\n",
       "      <td>[\"G06F7/60 20060101 G06F007/60\"]</td>\n",
       "      <td>[\"G01N33/48 20060101 G01N033/48\", \"G01N31/00 2...</td>\n",
       "      <td>...</td>\n",
       "      <td>0</td>\n",
       "      <td>0</td>\n",
       "      <td>0</td>\n",
       "      <td>3</td>\n",
       "      <td>1</td>\n",
       "      <td>1</td>\n",
       "      <td>2</td>\n",
       "      <td>0</td>\n",
       "      <td>0</td>\n",
       "      <td>0</td>\n",
       "    </tr>\n",
       "    <tr>\n",
       "      <th>9223600</th>\n",
       "      <td>9223600</td>\n",
       "      <td>10341257;9973445;10057191;10110514;10084726;10...</td>\n",
       "      <td>2015;2015;2015;2015;2019;2015</td>\n",
       "      <td>['2018' '2018' '2018' '2019' '2020' '2018']</td>\n",
       "      <td>2015-12-29</td>\n",
       "      <td>2015</td>\n",
       "      <td>G06F9/45525;G06F9/45533</td>\n",
       "      <td>NaN</td>\n",
       "      <td>[\"G06F9/455 20060101 G06F009/455\"]</td>\n",
       "      <td>NaN</td>\n",
       "      <td>...</td>\n",
       "      <td>0</td>\n",
       "      <td>0</td>\n",
       "      <td>0</td>\n",
       "      <td>0</td>\n",
       "      <td>0</td>\n",
       "      <td>4</td>\n",
       "      <td>1</td>\n",
       "      <td>1</td>\n",
       "      <td>0</td>\n",
       "      <td>0</td>\n",
       "    </tr>\n",
       "    <tr>\n",
       "      <th>9225724</th>\n",
       "      <td>9225724</td>\n",
       "      <td>9497199;9516029;10887320;10362041;11074272;106...</td>\n",
       "      <td>2018;2018;2018;2019;2018;2016;2016;2015;2015;2...</td>\n",
       "      <td>['2019' '2019' '2020' '2021' '2021' '2016' '20...</td>\n",
       "      <td>2015-12-29</td>\n",
       "      <td>2015</td>\n",
       "      <td>G06F9/4887;H04L63/10;G06F16/21;G06F16/951;G06F...</td>\n",
       "      <td>NaN</td>\n",
       "      <td>[\"G06F9/46 20060101 G06F009/46\"]</td>\n",
       "      <td>[\"H04L29/06 20060101 H04L029/06\", \"G06F17/30 2...</td>\n",
       "      <td>...</td>\n",
       "      <td>0</td>\n",
       "      <td>0</td>\n",
       "      <td>0</td>\n",
       "      <td>4</td>\n",
       "      <td>0</td>\n",
       "      <td>2</td>\n",
       "      <td>2</td>\n",
       "      <td>1</td>\n",
       "      <td>2</td>\n",
       "      <td>0</td>\n",
       "    </tr>\n",
       "  </tbody>\n",
       "</table>\n",
       "<p>296437 rows × 61 columns</p>\n",
       "</div>"
      ],
      "text/plain": [
       "               patent_number.1  \\\n",
       "patent_number                    \n",
       "6983309                6983309   \n",
       "6981642                6981642   \n",
       "6982420                6982420   \n",
       "6983071                6983071   \n",
       "6982717                6982717   \n",
       "...                        ...   \n",
       "9224259                9224259   \n",
       "9223616                9223616   \n",
       "9223929                9223929   \n",
       "9223600                9223600   \n",
       "9225724                9225724   \n",
       "\n",
       "                                                    forward_refs  \\\n",
       "patent_number                                                      \n",
       "6983309        10235008;8243902;8050917;9582461;8015607;76068...   \n",
       "6981642        8985462;9418269;7303131;7976167;8646694;108957...   \n",
       "6982420                                                  7838834   \n",
       "6983071                                                  8675968   \n",
       "6982717                                          8111264;8421795   \n",
       "...                                                          ...   \n",
       "9224259        10940388;9876894;9882981;10709989;10803041;959...   \n",
       "9223616                                                 10768959   \n",
       "9223929        9708647;10106839;9499861;10501778;10174367;945...   \n",
       "9223600        10341257;9973445;10057191;10110514;10084726;10...   \n",
       "9225724        9497199;9516029;10887320;10362041;11074272;106...   \n",
       "\n",
       "                                   application_year_forward_refs  \\\n",
       "patent_number                                                      \n",
       "6983309        2014;2014;2008;2008;2004;2004;2004;2008;2008;2...   \n",
       "6981642        2019;2004;2006;2003;2007;2007;2011;2007;2008;2...   \n",
       "6982420                                                     2008   \n",
       "6983071                                                     2009   \n",
       "6982717                                           2006;2007;2007   \n",
       "...                                                          ...   \n",
       "9224259        2015;2017;2016;2018;2019;2018;2017;2019;2015;2...   \n",
       "9223616                                                     2015   \n",
       "9223929                       2013;2016;2017;2011;2011;2015;2015   \n",
       "9223600                            2015;2015;2015;2015;2019;2015   \n",
       "9225724        2018;2018;2018;2019;2018;2016;2016;2015;2015;2...   \n",
       "\n",
       "                                                    citing_years granted_date  \\\n",
       "patent_number                                                                   \n",
       "6983309        ['2019' '2019' '2021' '2021' '2009' '2009' '20...   2006-01-03   \n",
       "6981642        ['2021' '2007' '2008' '2009' '2010' '2011' '20...   2006-01-03   \n",
       "6982420                                                 ['2010']   2006-01-03   \n",
       "6983071                                                 ['2014']   2006-01-03   \n",
       "6982717                                   ['2012' '2013' '2013']   2006-01-03   \n",
       "...                                                          ...          ...   \n",
       "9224259        ['2018' '2018' '2019' '2020' '2020' '2020' '20...   2015-12-29   \n",
       "9223616                                                 ['2020']   2015-12-29   \n",
       "9223929        ['2018' '2019' '2019' '2016' '2016' '2016' '20...   2015-12-29   \n",
       "9223600              ['2018' '2018' '2018' '2019' '2020' '2018']   2015-12-29   \n",
       "9225724        ['2019' '2019' '2020' '2021' '2021' '2016' '20...   2015-12-29   \n",
       "\n",
       "               granted_year  \\\n",
       "patent_number                 \n",
       "6983309                2006   \n",
       "6981642                2006   \n",
       "6982420                2006   \n",
       "6983071                2006   \n",
       "6982717                2006   \n",
       "...                     ...   \n",
       "9224259                2015   \n",
       "9223616                2015   \n",
       "9223929                2015   \n",
       "9223600                2015   \n",
       "9225724                2015   \n",
       "\n",
       "                                                        main_cpc  \\\n",
       "patent_number                                                      \n",
       "6983309        G06Q10/107;H04L63/123;H04L63/12;G06Q20/3674;G0...   \n",
       "6981642                        G06K7/10722;G06K7/10811;G02B7/285   \n",
       "6982420                                     H01J37/26;G06V20/698   \n",
       "6983071              G06V30/155;G06V30/1444;G06V10/22;G06V10/273   \n",
       "6982717                                                G06T5/002   \n",
       "...                                                          ...   \n",
       "9224259        A63F13/358;H04L67/10;G07F17/3241;G07F17/3234;G...   \n",
       "9223616                                    G06F9/4856;G06F9/5077   \n",
       "9223929        G16B5/20;G16B25/10;G16B25/00;G16B40/30;G16B40/...   \n",
       "9223600                                  G06F9/45525;G06F9/45533   \n",
       "9225724        G06F9/4887;H04L63/10;G06F16/21;G06F16/951;G06F...   \n",
       "\n",
       "                                                         sub_cpc  \\\n",
       "patent_number                                                      \n",
       "6983309        Y10S707/99945;Y10S707/99948;H04L2209/60;H04L51...   \n",
       "6981642                                                      NaN   \n",
       "6982420                                             H01J2237/221   \n",
       "6983071                                                G06V30/10   \n",
       "6982717                                A63F2300/8017;A63F2300/66   \n",
       "...                                                          ...   \n",
       "9224259                                                      NaN   \n",
       "9223616                                                      NaN   \n",
       "9223929                                                G16B30/10   \n",
       "9223600                                                      NaN   \n",
       "9225724                                                      NaN   \n",
       "\n",
       "                                          main_ipc  \\\n",
       "patent_number                                        \n",
       "6983309          [\"G06F15/16 20060101 G06F015/16\"]   \n",
       "6981642           [\"G06K7/10 20060101 G06K007/10\"]   \n",
       "6982420           [\"G21K7/00 20060101 G21K007/00\"]   \n",
       "6983071           [\"G06K9/34 20060101 G06K009/34\"]   \n",
       "6982717          [\"G06T15/00 20060101 G06T015/00\"]   \n",
       "...                                            ...   \n",
       "9224259          [\"G07F17/32 20060101 G07F017/32\"]   \n",
       "9223616        [\"G06F15/173 20060101 G06F015/173\"]   \n",
       "9223929           [\"G06F7/60 20060101 G06F007/60\"]   \n",
       "9223600         [\"G06F9/455 20060101 G06F009/455\"]   \n",
       "9225724           [\"G06F9/46 20060101 G06F009/46\"]   \n",
       "\n",
       "                                                         sub_ipc  ... 2013  \\\n",
       "patent_number                                                     ...        \n",
       "6983309        [\"G06F15/173 20060101 G06F015/173\", \"G06F17/00...  ...    2   \n",
       "6981642                                                      NaN  ...    1   \n",
       "6982420                                                      NaN  ...    0   \n",
       "6983071                                                      NaN  ...    0   \n",
       "6982717                                                      NaN  ...    2   \n",
       "...                                                          ...  ...  ...   \n",
       "9224259                                                      NaN  ...    0   \n",
       "9223616        [\"G06F9/48 20060101 G06F009/48\", \"G06F9/50 200...  ...    0   \n",
       "9223929        [\"G01N33/48 20060101 G01N033/48\", \"G01N31/00 2...  ...    0   \n",
       "9223600                                                      NaN  ...    0   \n",
       "9225724        [\"H04L29/06 20060101 H04L029/06\", \"G06F17/30 2...  ...    0   \n",
       "\n",
       "              2014 2015 2016  2017  2018  2019  2020  2021  2022  \n",
       "patent_number                                                     \n",
       "6983309          3    1    0     2     0     2     0     2     0  \n",
       "6981642          3    3    1     0     0     0     0     1     0  \n",
       "6982420          0    0    0     0     0     0     0     0     0  \n",
       "6983071          1    0    0     0     0     0     0     0     0  \n",
       "6982717          0    0    0     0     0     0     0     0     0  \n",
       "...            ...  ...  ...   ...   ...   ...   ...   ...   ...  \n",
       "9224259          0    0    1     2     4     1     3     2     0  \n",
       "9223616          0    0    0     0     0     0     1     0     0  \n",
       "9223929          0    0    3     1     1     2     0     0     0  \n",
       "9223600          0    0    0     0     4     1     1     0     0  \n",
       "9225724          0    0    4     0     2     2     1     2     0  \n",
       "\n",
       "[296437 rows x 61 columns]"
      ]
     },
     "execution_count": 13,
     "metadata": {},
     "output_type": "execute_result"
    }
   ],
   "source": [
    "org_data"
   ]
  },
  {
   "cell_type": "markdown",
   "metadata": {},
   "source": [
    "# Inference"
   ]
  },
  {
   "cell_type": "markdown",
   "metadata": {},
   "source": [
    "## Validation analysis"
   ]
  },
  {
   "cell_type": "code",
   "execution_count": null,
   "metadata": {
    "ExecuteTime": {
     "end_time": "2025-06-09T16:10:41.672063Z",
     "start_time": "2025-06-09T16:10:41.661651Z"
    }
   },
   "outputs": [],
   "source": [
    "col_years = [\"<1976\"] + np.arange(1976,2022).astype(str).tolist()\n",
    "latest_year = 2022\n",
    "n_TC = configs.data.n_TC"
   ]
  },
  {
   "cell_type": "code",
   "execution_count": 555,
   "metadata": {
    "ExecuteTime": {
     "end_time": "2025-06-09T21:52:35.283966Z",
     "start_time": "2025-06-09T21:52:34.179053Z"
    }
   },
   "outputs": [],
   "source": [
    "ref_config_period = \"[2006-2020]\"\n",
    "ref_data_file = \"collection_\" + \"\".join([config_keywords, config_area, ref_config_period, config_sampling_ratio]) + \".csv\"\n",
    "ref_configs = copy.deepcopy(configs)\n",
    "ref_configs.data.update({\"target_period\": ref_config_period, \"data_file\": ref_data_file})"
   ]
  },
  {
   "cell_type": "code",
   "execution_count": 558,
   "metadata": {
    "ExecuteTime": {
     "end_time": "2025-06-09T21:52:47.856738Z",
     "start_time": "2025-06-09T21:52:47.847849Z"
    }
   },
   "outputs": [],
   "source": [
    "load_ref = False"
   ]
  },
  {
   "cell_type": "code",
   "execution_count": 557,
   "metadata": {
    "ExecuteTime": {
     "end_time": "2025-06-09T21:52:45.716864Z",
     "start_time": "2025-06-09T21:52:45.707913Z"
    }
   },
   "outputs": [],
   "source": [
    "ref_dataset_path = os.path.join(root_dir, \"data\", \"[DATASET]reference_[uspto_AI][2006-2020].pickle\")"
   ]
  },
  {
   "cell_type": "code",
   "execution_count": 560,
   "metadata": {
    "ExecuteTime": {
     "end_time": "2025-06-09T22:18:31.484420Z",
     "start_time": "2025-06-09T21:53:07.654614Z"
    }
   },
   "outputs": [
    {
     "name": "stdout",
     "output_type": "stream",
     "text": [
      "\n",
      "\n",
      "\n",
      "Tokenizer is trained and saved\n"
     ]
    }
   ],
   "source": [
    "if load_ref:\n",
    "    with open(dataset_path, \"rb\") as f:\n",
    "        ref_dataset = pickle.load(f)\n",
    "        if ref_dataset.rawdata is None:\n",
    "            ref_dataset.rawdata = pd.read_csv(os.path.join(ref_configs.data.data_dir, ref_configs.data.data_file), low_memory=False)\n",
    "else: \n",
    "    ref_dataset = TechDataset(ref_configs.data)\n",
    "    with open(ref_dataset_path, \"wb\") as f:\n",
    "        ref_dataset.rawdata = None\n",
    "        pickle.dump(ref_dataset, f)\n",
    "    ref_dataset.rawdata = pd.read_csv(os.path.join(ref_configs.data.data_dir, ref_configs.data.data_file), low_memory=False)"
   ]
  },
  {
   "cell_type": "code",
   "execution_count": 564,
   "metadata": {
    "ExecuteTime": {
     "end_time": "2025-06-09T22:23:02.297513Z",
     "start_time": "2025-06-09T22:19:54.864915Z"
    }
   },
   "outputs": [],
   "source": [
    "ref_dataset.rawdata = pd.read_csv(os.path.join(ref_configs.data.data_dir, ref_configs.data.data_file), low_memory=False)"
   ]
  },
  {
   "cell_type": "code",
   "execution_count": 17,
   "metadata": {
    "ExecuteTime": {
     "end_time": "2025-06-09T16:15:07.115301Z",
     "start_time": "2025-06-09T16:15:07.109520Z"
    }
   },
   "outputs": [
    {
     "data": {
      "text/plain": [
       "<data.TechDataset at 0x7fc742008ca0>"
      ]
     },
     "execution_count": 17,
     "metadata": {},
     "output_type": "execute_result"
    }
   ],
   "source": [
    "ref_dataset"
   ]
  },
  {
   "cell_type": "code",
   "execution_count": 572,
   "metadata": {
    "ExecuteTime": {
     "end_time": "2025-06-09T22:25:48.632934Z",
     "start_time": "2025-06-09T22:25:43.929832Z"
    }
   },
   "outputs": [],
   "source": [
    "used_rawdata = tech_dataset.rawdata.set_index(\"patent_number\")\n",
    "total_data = pd.concat([tech_dataset.data, ref_dataset.data], axis=0)\n",
    "total_data = total_data.drop_duplicates(subset=[\"patent_number\"])\n",
    "total_rawdata = pd.concat([tech_dataset.rawdata.set_index(\"patent_number\"), ref_dataset.rawdata.set_index(\"patent_number\")], axis=0)\n",
    "total_rawdata = total_rawdata.drop_duplicates(subset=[\"patent_number.1\"])"
   ]
  },
  {
   "cell_type": "markdown",
   "metadata": {},
   "source": [
    "- Used dataset"
   ]
  },
  {
   "cell_type": "code",
   "execution_count": null,
   "metadata": {
    "ExecuteTime": {
     "end_time": "2025-06-09T16:15:23.479020Z",
     "start_time": "2025-06-09T16:15:23.390951Z"
    }
   },
   "outputs": [],
   "source": [
    "used_test_data_TC = used_test_data[used_test_data[\"TC5\"]!=0].reset_index()\n",
    "used_test_index_TC = tech_dataset.data.index.get_indexer(pd.Index(used_test_data_TC[\"patent_number\"].astype(str)))"
   ]
  },
  {
   "cell_type": "code",
   "execution_count": 22,
   "metadata": {
    "ExecuteTime": {
     "end_time": "2025-06-09T16:15:25.719077Z",
     "start_time": "2025-06-09T16:15:25.711170Z"
    }
   },
   "outputs": [],
   "source": [
    "def breakdown(ipcs):\n",
    "    return ([ipc[0] for ipc in ipcs], [ipc[:3] for ipc in ipcs], [ipc[:4] for ipc in ipcs], ipcs)"
   ]
  },
  {
   "cell_type": "code",
   "execution_count": null,
   "metadata": {
    "ExecuteTime": {
     "end_time": "2025-06-09T16:15:26.195683Z",
     "start_time": "2025-06-09T16:15:26.160680Z"
    }
   },
   "outputs": [],
   "source": [
    "def validate_reliability(model=None, idx=None, L1_threshold=0.5, n_iter=30, step_size=40):\n",
    "    cnt_nonexist = 0\n",
    "    cnt_noFC = 0\n",
    "    cnt_diverge = 0\n",
    "    cnt_same_ipcs = 0\n",
    "    cnt_diff_ipcs = 0\n",
    "    \n",
    "    input_class = torch.tensor(tech_dataset.tokenizers[\"class_enc\"].encode(tech_dataset.X_class[used_test_index_TC][idx])).unsqueeze(0)\n",
    "    input_claim = tech_dataset.tokenize(tech_dataset.tokenizers[\"claim_enc\"], tech_dataset.X_claim[used_test_index_TC][idx])\n",
    "    input_claim = {k: v.unsqueeze(0) for k, v in input_claim.items()}\n",
    "    batch_input = {\"class\": torch.tensor(input_class), \"claim\": input_claim}\n",
    "    input_inf = to_device(batch_input, model.device)\n",
    "\n",
    "    # output_class = torch.tensor(tech_dataset.tokenizers[\"class_dec\"].encode(tech_dataset.X_class[used_test_index_TC][idx])).unsqueeze(0)\n",
    "    # batch_output = {\"text_outputs\": torch.tensor(output_class)}\n",
    "    # output_inf = to_device(batch_output, model.device)\n",
    "\n",
    "    enc_outputs, z, mu, logvar = model.encode(input_inf)\n",
    "    # org_z = copy.deepcopy(z.view(1,-1).cpu().detach().numpy())\n",
    "    pred_outputs = model.predict(z)\n",
    "    # org_y = copy.deepcopy(pred_outputs.argmax(1).cpu().detach().numpy())\n",
    "    # dec_inputs = None\n",
    "\n",
    "    if used_test_data_TC.iloc[idx][\"TC5\"] > 0:\n",
    "        forward_refs = used_rawdata.loc[used_test_data_TC.iloc[idx][\"patent_number\"]][\"forward_refs\"].split(\";\")\n",
    "        ref_info = total_data.loc[[ref for ref in forward_refs if ref in total_data.index]]\n",
    "        if len(ref_info) == 0:\n",
    "            cnt_nonexist += 1\n",
    "            return (cnt_nonexist, cnt_noFC, cnt_diverge, cnt_same_ipcs, cnt_diff_ipcs), None\n",
    "        else:\n",
    "            ref_ipcs = ref_info[\"patent_classes\"].apply(lambda x: set(x))\n",
    "            ref_FCs = ref_info[\"TC\"+str(n_TC)]\n",
    "\n",
    "            tokenizer = tech_dataset.tokenizers[\"class_dec\"]\n",
    "            \n",
    "            org_text = tokenizer.decode_batch(input_class.cpu().detach().numpy())[0]\n",
    "            org_text = org_text[org_text.index(tokenizer.sos_token)+1:org_text.index(tokenizer.eos_token)]\n",
    "            if set(org_text)==set(np.concatenate(ref_ipcs.apply(lambda x: list(x)).values)):\n",
    "                cnt_same_ipcs += 1\n",
    "\n",
    "            inclusions = [None, None, None, None]\n",
    "            higher_impacts = [None, None, None, None]\n",
    "            similar_refs_out = [None, None, None, None]\n",
    "            unsimilar_refs_out = [None, None, None, None]\n",
    "            optimised = False\n",
    "            for i in range(n_iter):\n",
    "                pred_outputs = model.predict(z)\n",
    "                z.retain_grad()\n",
    "                FC_estimated = np.round(np.exp(pred_outputs[0,1].item()), 4) # estimated forward citations\n",
    "                FC_estimated_inv = np.round(np.exp(pred_outputs[0,0].item()), 4)\n",
    "                \n",
    "                L1_error = (1-torch.exp(pred_outputs[0,1]))\n",
    "                L1_error.backward(retain_graph=True)\n",
    "\n",
    "                grad_for_update = (step_size * z.grad)\n",
    "                z_ = z - grad_for_update\n",
    "\n",
    "                z.grad.zero_()\n",
    "                dec_outputs = model.decode(z_, enc_outputs, dec_inputs=None)\n",
    "                dec_outputs = dec_outputs.argmax(-1)\n",
    "\n",
    "                tokenizer = tech_dataset.tokenizers[\"class_dec\"]\n",
    "                gen_text = tokenizer.decode_batch(dec_outputs.cpu().detach().numpy())[0]\n",
    "                if tokenizer.eos_token in gen_text:\n",
    "                    gen_text = gen_text[gen_text.index(tokenizer.sos_token)+1:gen_text.index(tokenizer.eos_token)]\n",
    "                else:\n",
    "                    gen_text = gen_text[gen_text.index(tokenizer.sos_token)+1:]\n",
    "                if gen_text != []:\n",
    "                    gen_text = [gen_text[0]] + list(np.array(gen_text[1:])[np.unique(gen_text[1:], return_index=True)[1]])                \n",
    "                    gen_text = set(gen_text)\n",
    "                else: continue\n",
    "                \n",
    "                if FC_estimated>=L1_threshold:\n",
    "                    optimised = True\n",
    "    \n",
    "                    gen_text_breakdown = breakdown(gen_text)\n",
    "                    ref_ipcs_breakdown = (ref_ipcs.apply(lambda x: breakdown(x)[0]), ref_ipcs.apply(lambda x: breakdown(x)[1]), ref_ipcs.apply(lambda x: breakdown(x)[2]), ref_ipcs)\n",
    "            \n",
    "                    for i in range(4):\n",
    "                        if inclusions[i] is not None: continue\n",
    "                        temp_gen_text = gen_text_breakdown[i]\n",
    "                        temp_ref_ipcs = ref_ipcs_breakdown[i]\n",
    "                    \n",
    "                        hit_index = temp_ref_ipcs.apply(lambda x: 1 if set(x)==set(temp_gen_text) else 0)==1\n",
    "                        similar_refs = temp_ref_ipcs[hit_index].index\n",
    "                        similar_refs_out[i] = similar_refs\n",
    "                        unsimilar_refs = temp_ref_ipcs[~hit_index].index\n",
    "                        unsimilar_refs_out[i] = unsimilar_refs\n",
    "                        if len(similar_refs) == 0:\n",
    "                            inclusions[i] = 0\n",
    "                            higher_impacts[i] = None\n",
    "                        elif len(unsimilar_refs) == 0:\n",
    "                            inclusions[i] = 1\n",
    "                            similar_mean_FC = np.mean(ref_FCs.loc[similar_refs])\n",
    "                            if similar_mean_FC <= 0:\n",
    "                                higher_impacts[i] = 0\n",
    "                            else:\n",
    "                                higher_impacts[i] = 1\n",
    "                        else:\n",
    "                            inclusions[i] = 1\n",
    "                            similar_mean_FC = np.mean(ref_FCs.loc[similar_refs])\n",
    "                            unsimilar_mean_FC = np.mean(ref_FCs.loc[unsimilar_refs])\n",
    "                            if similar_mean_FC >= unsimilar_mean_FC:\n",
    "                                if similar_mean_FC <= 0:\n",
    "                                    higher_impacts[i] = None\n",
    "                                else:\n",
    "                                    higher_impacts[i] = 1\n",
    "                            else:\n",
    "                                higher_impacts[i] = 0\n",
    "                    if None not in inclusions:\n",
    "                        break\n",
    "                z = z_\n",
    "                \n",
    "            if optimised:\n",
    "                cnt_diff_ipcs += 1\n",
    "                return (cnt_nonexist, cnt_noFC, cnt_diverge, cnt_same_ipcs, cnt_diff_ipcs), {\"index\": idx, \"patent_id\": used_test_data_TC.iloc[idx][\"patent_number\"], \n",
    "                         \"org_text\": org_text, \"gen_text\": gen_text, \"ref_ipcs\": ref_ipcs, \"ref_FCs\": ref_FCs,\n",
    "                         \"inclusions\": inclusions, \"higher_impacts\": higher_impacts, \n",
    "                         \"FC_estimated\": FC_estimated,\n",
    "                         \"similar_refs\": similar_refs_out, \"unsimilar_refs\": unsimilar_refs_out}\n",
    "            else:\n",
    "                cnt_diverge += 1\n",
    "                return (cnt_nonexist, cnt_noFC, cnt_diverge, cnt_same_ipcs, cnt_diff_ipcs), None\n",
    "    else:\n",
    "        pass\n",
    "        cnt_noFC += 1\n",
    "        return (cnt_nonexist, cnt_noFC, cnt_diverge, cnt_same_ipcs, cnt_diff_ipcs), None"
   ]
  },
  {
   "cell_type": "markdown",
   "metadata": {},
   "source": [
    "- Load computed dict_out (validation)"
   ]
  },
  {
   "cell_type": "code",
   "execution_count": 439,
   "metadata": {
    "ExecuteTime": {
     "end_time": "2025-06-09T21:29:35.911136Z",
     "start_time": "2025-06-09T21:29:35.901174Z"
    }
   },
   "outputs": [
    {
     "name": "stdout",
     "output_type": "stream",
     "text": [
      "2025-06-07_1732_thre0.8\n"
     ]
    }
   ],
   "source": [
    "load_dict_out = True\n",
    "save_dict_out = False\n",
    "L1_threshold = 0.8 # or None\n",
    "n_iter = 30\n",
    "step_size = 40\n",
    "analysis_config = analysis_date + \"_thre\" + str(L1_threshold)\n",
    "print(analysis_config)"
   ]
  },
  {
   "cell_type": "code",
   "execution_count": null,
   "metadata": {
    "ExecuteTime": {
     "end_time": "2025-06-09T21:29:45.510952Z",
     "start_time": "2025-06-09T21:29:37.707641Z"
    },
    "scrolled": false
   },
   "outputs": [
    {
     "name": "stdout",
     "output_type": "stream",
     "text": [
      "dict_out loaded\n"
     ]
    }
   ],
   "source": [
    "if load_dict_out:\n",
    "    with open(\"../results/validation/\"+analysis_config+\"/dict_out.pickle\", \"rb\") as f:\n",
    "        dict_out = pickle.load(f)\n",
    "    print(\"dict_out loaded\")\n",
    "else:\n",
    "    model = final_model.module if torch.cuda.is_available() else final_model\n",
    "    cnt_nonexist, cnt_noFC, cnt_diverge, cnt_same_ipcs, cnt_diff_ipcs = 0, 0, 0, 0, 0\n",
    "    dict_out = {\"index\": [], \"patent_id\": [], \"org_text\": [], \"gen_text\": [], \"ref_ipcs\": [], \"ref_FCs\": [],\n",
    "                \"inclusions\": [], \"higher_impacts\": [], \"FC_estimated\": [], \"similar_refs\": [], \"unsimilar_refs\": []}\n",
    "    for idx in tqdm(range(len(used_test_index_TC))):\n",
    "        cnts, results = validate_reliability(model=model, idx=idx, L1_threshold=L1_threshold, n_iter=n_iter, step_size=step_size)\n",
    "        cnt_nonexist += cnts[0]\n",
    "        cnt_noFC += cnts[1]\n",
    "        cnt_diverge += cnts[2]\n",
    "        cnt_same_ipcs += cnts[3]\n",
    "        cnt_diff_ipcs += cnts[4]\n",
    "        if results is not None:\n",
    "            for k,v in results.items():\n",
    "                dict_out[k].append(v)\n",
    "    for k, v in dict_out.items():\n",
    "        dict_out[k] = np.array(v)\n",
    "    dict_out[\"cnts\"] = {\"cnt_nonexist\": cnt_nonexist, \"cnt_noFC\": cnt_noFC, \n",
    "                \"cnt_diverge\": cnt_diverge, \"cnt_same_ipcs\": cnt_same_ipcs, \"cnt_diff_ipcs\": cnt_diff_ipcs}\n",
    "    \n",
    "    if save_dict_out:\n",
    "        save_dir = \"../results/validation/\"+analysis_config\n",
    "        if not os.path.exists(save_dir):\n",
    "            os.makedirs(save_dir)\n",
    "        with open(save_dir+\"/dict_out.pickle\", \"wb\") as f:\n",
    "            pickle.dump(dict_out, f)"
   ]
  },
  {
   "cell_type": "code",
   "execution_count": 442,
   "metadata": {
    "ExecuteTime": {
     "end_time": "2025-06-09T21:29:52.321841Z",
     "start_time": "2025-06-09T21:29:52.311455Z"
    },
    "scrolled": true
   },
   "outputs": [
    {
     "data": {
      "text/plain": [
       "{'cnt_nonexist': 2983,\n",
       " 'cnt_noFC': 0,\n",
       " 'cnt_diverge': 8,\n",
       " 'cnt_same_ipcs': 618,\n",
       " 'cnt_diff_ipcs': 6929}"
      ]
     },
     "execution_count": 442,
     "metadata": {},
     "output_type": "execute_result"
    }
   ],
   "source": [
    "dict_out[\"cnts\"]"
   ]
  },
  {
   "cell_type": "code",
   "execution_count": 443,
   "metadata": {
    "ExecuteTime": {
     "end_time": "2025-06-09T21:29:52.486723Z",
     "start_time": "2025-06-09T21:29:52.327684Z"
    },
    "scrolled": false
   },
   "outputs": [
    {
     "name": "stdout",
     "output_type": "stream",
     "text": [
      "#total: 9920\n",
      "#valid data: 6929\n",
      "#nonexist data: 2983\n",
      "#no forward citations: 0\n",
      "#diverged: 8\n",
      "#same ipcs: 618\n",
      "\n",
      "\n",
      "for level 2, Ratio generated IPCs are included in citing patents: 0.3413\n",
      "for level 2, Ratio generated IPCs have higher impact than other citing patents: 0.5187\n",
      "\n",
      "\n",
      "for level 3, Ratio generated IPCs are included in citing patents: 0.1328\n",
      "for level 3, Ratio generated IPCs have higher impact than other citing patents: 0.4843\n",
      "\n",
      "\n",
      "for level 4, Ratio generated IPCs are included in citing patents: 0.0398\n",
      "for level 4, Ratio generated IPCs have higher impact than other citing patents: 0.485\n",
      "\n",
      "\n"
     ]
    }
   ],
   "source": [
    "print(\"#total:\",len(used_test_index_TC))\n",
    "print(\"#valid data:\",len(dict_out[\"index\"]))\n",
    "print(\"#nonexist data:\",dict_out[\"cnts\"][\"cnt_nonexist\"])\n",
    "print(\"#no forward citations:\",dict_out[\"cnts\"][\"cnt_noFC\"])\n",
    "print(\"#diverged:\",dict_out[\"cnts\"][\"cnt_diverge\"])\n",
    "print(\"#same ipcs:\",dict_out[\"cnts\"][\"cnt_same_ipcs\"])\n",
    "print(\"\\n\")\n",
    "for i in range(1,4):\n",
    "    inclusions = np.array(dict_out[\"inclusions\"])[:,i]\n",
    "    ratio_included = np.round(len(inclusions[inclusions==1])/len(inclusions), 4)\n",
    "    higher_impacts = np.array(dict_out[\"higher_impacts\"])[:,i][np.array(dict_out[\"higher_impacts\"])[:,i] != None]\n",
    "    ratio_higher_impact = np.round(len(higher_impacts[higher_impacts==1])/len(higher_impacts), 4)\n",
    "    print(f\"for level {i+1}, Ratio generated IPCs are included in citing patents: {ratio_included}\")\n",
    "    print(f\"for level {i+1}, Ratio generated IPCs have higher impact than other citing patents: {ratio_higher_impact}\")\n",
    "    print(\"\\n\")"
   ]
  },
  {
   "cell_type": "code",
   "execution_count": 445,
   "metadata": {
    "ExecuteTime": {
     "end_time": "2025-06-09T21:30:02.615499Z",
     "start_time": "2025-06-09T21:29:52.634191Z"
    },
    "scrolled": true
   },
   "outputs": [
    {
     "name": "stderr",
     "output_type": "stream",
     "text": [
      "/home2/glee/.conda/envs/DL/lib/python3.9/site-packages/numpy/core/fromnumeric.py:3702: RuntimeWarning: Degrees of freedom <= 0 for slice\n",
      "  return _methods._var(a, axis=axis, dtype=dtype, out=out, ddof=ddof,\n",
      "/home2/glee/.conda/envs/DL/lib/python3.9/site-packages/numpy/core/_methods.py:253: RuntimeWarning: invalid value encountered in double_scalars\n",
      "  ret = ret.dtype.type(ret / rcount)\n"
     ]
    },
    {
     "name": "stdout",
     "output_type": "stream",
     "text": [
      "Distribution of forward citations (hit)\n",
      " count    730.000000\n",
      "mean      23.068493\n",
      "std       53.970380\n",
      "min        0.000000\n",
      "25%        1.000000\n",
      "50%        3.500000\n",
      "75%       14.000000\n",
      "max      421.000000\n",
      "dtype: float64 \n",
      "\n",
      "Distribution of forward citations (not hit)\n",
      " count    3546.000000\n",
      "mean       22.330231\n",
      "std        45.144595\n",
      "min         0.000000\n",
      "25%         1.000000\n",
      "50%         4.000000\n",
      "75%        18.000000\n",
      "max       481.000000\n",
      "dtype: float64 \n",
      "\n",
      "Distribution of mean forward citations (hit)\n",
      " count    276.000000\n",
      "mean      11.163587\n",
      "std       24.624972\n",
      "min        0.000000\n",
      "25%        0.500000\n",
      "50%        3.000000\n",
      "75%        9.625000\n",
      "max      164.000000\n",
      "dtype: float64 \n",
      "\n",
      "Distribution of mean forward citations (not hit)\n",
      " count    276.000000\n",
      "mean       9.878425\n",
      "std       19.964201\n",
      "min        0.000000\n",
      "25%        0.350000\n",
      "50%        3.101010\n",
      "75%       10.754808\n",
      "max      137.148148\n",
      "dtype: float64 \n",
      "\n",
      "Distribution of difference of forward citations\n",
      " count    276.000000\n",
      "mean       1.285162\n",
      "std       17.579612\n",
      "min      -86.000000\n",
      "25%       -3.000000\n",
      "50%        0.000000\n",
      "75%        3.656250\n",
      "max      128.626866\n",
      "dtype: float64 \n",
      "\n"
     ]
    }
   ],
   "source": [
    "from scipy.stats import ttest_ind\n",
    "whole_patent_classes = tech_dataset.data[\"patent_classes\"].apply(lambda x: set(x))\n",
    "\n",
    "hit_similar_FCs, hit_unsimilar_FCs, hit_diff_FCs = [], [], []\n",
    "hit_similar_FCs_mean, hit_unsimilar_FCs_mean = [], []\n",
    "hit_similar_FCs_rank = []\n",
    "whole_FC_ttest = {\"statistic\": [], \"pvalue\": []}\n",
    "whole_FCs_diff = []\n",
    "hit_samples_index = dict_out[\"inclusions\"][:,-1]==1\n",
    "\n",
    "hit_patent_ids = dict_out[\"patent_id\"][hit_samples_index]\n",
    "hit_similar_refs = dict_out[\"similar_refs\"][hit_samples_index][:,-1]\n",
    "hit_unsimilar_refs = dict_out[\"unsimilar_refs\"][hit_samples_index][:,-1]\n",
    "\n",
    "for i in range(len(hit_patent_ids)):\n",
    "    hit_FCs = dict_out[\"ref_FCs\"][hit_samples_index][i]\n",
    "    hit_FCs = hit_FCs.loc[~hit_FCs.index.duplicated(keep=\"first\")]\n",
    "    hit_similar_FC = hit_FCs.loc[hit_similar_refs[i].drop_duplicates()]\n",
    "    hit_similar_FC_rank = hit_FCs.rank(pct=True).loc[hit_similar_refs[i].drop_duplicates()]\n",
    "    hit_unsimilar_FC = hit_FCs.loc[hit_unsimilar_refs[i].drop_duplicates()]\n",
    "    if len(hit_unsimilar_FC)>0:\n",
    "        hit_diff_FC = hit_similar_FC.mean() - hit_unsimilar_FC.mean()\n",
    "    else:\n",
    "        hit_diff_FC = hit_similar_FC.mean()\n",
    "    \n",
    "    org_whole_FC = tech_dataset.data.loc[whole_patent_classes[whole_patent_classes==set(dict_out[\"org_text\"][hit_samples_index][i])].index][\"TC5\"]\n",
    "    gen_whole_FC = tech_dataset.data.loc[whole_patent_classes[whole_patent_classes==set(dict_out[\"gen_text\"][hit_samples_index][i])].index][\"TC5\"]\n",
    "    if len(org_whole_FC)>0:\n",
    "        whole_FC_diff = gen_whole_FC.mean() - org_whole_FC.mean()\n",
    "    else:\n",
    "        whole_FC_diff = gen_whole_FC.mean()\n",
    "    \n",
    "    hit_similar_FCs.append(hit_similar_FC)\n",
    "    hit_similar_FCs_rank.append(hit_similar_FC_rank)\n",
    "    hit_similar_FCs_mean.append(hit_similar_FC.mean())\n",
    "    hit_unsimilar_FCs.append(hit_unsimilar_FC)\n",
    "    if len(hit_unsimilar_FC)>0:\n",
    "        hit_unsimilar_FCs_mean.append(hit_unsimilar_FC.mean())\n",
    "    else:\n",
    "        hit_unsimilar_FCs_mean.append(0)\n",
    "    hit_diff_FCs.append(hit_diff_FC)\n",
    "    \n",
    "    ttest_res = ttest_ind(gen_whole_FC, org_whole_FC, equal_var=False)\n",
    "    \n",
    "    whole_FC_ttest[\"statistic\"].append(ttest_res.statistic)\n",
    "    whole_FC_ttest[\"pvalue\"].append(ttest_res.pvalue)\n",
    "    if set(dict_out[\"org_text\"][hit_samples_index][i]) != set(dict_out[\"gen_text\"][hit_samples_index][i]):\n",
    "        whole_FCs_diff.append(whole_FC_diff)\n",
    "    \n",
    "hit_similar_FCs = np.concatenate(hit_similar_FCs)\n",
    "hit_similar_FCs_rank = np.concatenate(hit_similar_FCs_rank)\n",
    "hit_similar_FCs_mean = np.array(hit_similar_FCs_mean)\n",
    "hit_unsimilar_FCs = np.concatenate(hit_unsimilar_FCs)\n",
    "hit_unsimilar_FCs_mean = np.array(hit_unsimilar_FCs_mean)\n",
    "hit_diff_FCs = np.array(hit_diff_FCs)\n",
    "\n",
    "print(\"Distribution of forward citations (hit)\\n\",pd.Series(hit_similar_FCs).describe(),\"\\n\")\n",
    "print(\"Distribution of forward citations (not hit)\\n\",pd.Series(hit_unsimilar_FCs).describe(),\"\\n\")\n",
    "print(\"Distribution of mean forward citations (hit)\\n\",pd.Series(hit_similar_FCs_mean).describe(),\"\\n\")\n",
    "print(\"Distribution of mean forward citations (not hit)\\n\",pd.Series(hit_unsimilar_FCs_mean).describe(),\"\\n\")\n",
    "print(\"Distribution of difference of forward citations\\n\",pd.Series(hit_diff_FCs).describe(),\"\\n\")"
   ]
  },
  {
   "cell_type": "code",
   "execution_count": 446,
   "metadata": {
    "ExecuteTime": {
     "end_time": "2025-06-09T21:30:05.398589Z",
     "start_time": "2025-06-09T21:30:02.618283Z"
    },
    "scrolled": true
   },
   "outputs": [
    {
     "name": "stderr",
     "output_type": "stream",
     "text": [
      "100%|██████████| 276/276 [00:02<00:00, 99.95it/s] \n"
     ]
    }
   ],
   "source": [
    "cnt_same, cnt_diff = 0, 0\n",
    "ranks_same, ranks_diff = [], []\n",
    "value_same, value_diff = [], []\n",
    "org_patents_same, org_patents_diff = [], []\n",
    "cols_val = [\"patent_id\", \"org_ipcs\", \"org_FC\", \"gen_ipcs\", \"is_same\", \n",
    "            \"forward_ref\", \"ref_ipcs\", \"ref_FC\", \"ref_FC_rank\"]\n",
    "df_val = pd.DataFrame(columns=cols_val)\n",
    "hit_similar_refs = dict_out[\"similar_refs\"][hit_samples_index][:,-1]\n",
    "\n",
    "for i in tqdm(range(len(dict_out[\"ref_ipcs\"][hit_samples_index]))):\n",
    "    pid = dict_out[\"patent_id\"][hit_samples_index][i]\n",
    "    pid = str(pid)\n",
    "    org_FC = tech_dataset.data.loc[pid][\"TC5\"]\n",
    "    orgs = set(dict_out[\"org_text\"][dict_out[\"inclusions\"][:,-1]==1][i])\n",
    "    gens = set(dict_out[\"gen_text\"][dict_out[\"inclusions\"][:,-1]==1][i])\n",
    "    is_same = 1 if orgs==gens or orgs.union(gens)==orgs else 0\n",
    "    hit_FCs = dict_out[\"ref_FCs\"][hit_samples_index][i]\n",
    "    hit_FCs = hit_FCs.loc[~hit_FCs.index.duplicated(keep=\"first\")]\n",
    "    hit_similar_FC = hit_FCs.loc[hit_similar_refs[i][hit_similar_refs[i].duplicated()]]\n",
    "#     hit_similar_FC = hit_similar_FC.drop_duplicates()\n",
    "    hit_similar_FC_rank = hit_FCs.rank(pct=True).loc[hit_similar_refs[i][hit_similar_refs[i].duplicated()]]\n",
    "#     hit_similar_FC_rank = hit_similar_FC_rank.drop_duplicates()\n",
    "    \n",
    "    for ref in hit_similar_refs[i].drop_duplicates():\n",
    "        ref_ipcs = dict_out[\"ref_ipcs\"][hit_samples_index][i].loc[ref]\n",
    "        if isinstance(ref_ipcs, pd.Series): ref_ipcs = ref_ipcs[0]\n",
    "        hit_similar_FC = hit_FCs.loc[ref]\n",
    "        if isinstance(hit_similar_FC, pd.Series): hit_similar_FC = hit_similar_FC[0]\n",
    "        hit_similar_FC_rank = hit_FCs.rank(pct=True).loc[ref]\n",
    "        if isinstance(hit_similar_FC_rank, pd.Series): hit_similar_FC_rank = hit_similar_FC_rank[0]\n",
    "        \n",
    "        df_container = pd.DataFrame([[pid, orgs, org_FC, gens, is_same, ref, ref_ipcs, hit_similar_FC, hit_similar_FC_rank]], columns=cols_val)\n",
    "        df_val = pd.concat([df_val, df_container])\n",
    "\n",
    "df_val = df_val.set_index(\"patent_id\")"
   ]
  },
  {
   "cell_type": "code",
   "execution_count": 447,
   "metadata": {
    "ExecuteTime": {
     "end_time": "2025-06-09T21:30:05.439269Z",
     "start_time": "2025-06-09T21:30:05.401248Z"
    }
   },
   "outputs": [],
   "source": [
    "df_val.loc[:,\"ref_FC_new\"] = df_val.apply(lambda x: str(x[\"ref_FC\"])+\" (\"+str(np.round(x[\"ref_FC_rank\"],2))+\")\", axis=1)"
   ]
  },
  {
   "cell_type": "code",
   "execution_count": 448,
   "metadata": {
    "ExecuteTime": {
     "end_time": "2025-06-09T21:30:05.577984Z",
     "start_time": "2025-06-09T21:30:05.441560Z"
    },
    "scrolled": true
   },
   "outputs": [
    {
     "data": {
      "text/html": [
       "<div>\n",
       "<style scoped>\n",
       "    .dataframe tbody tr th:only-of-type {\n",
       "        vertical-align: middle;\n",
       "    }\n",
       "\n",
       "    .dataframe tbody tr th {\n",
       "        vertical-align: top;\n",
       "    }\n",
       "\n",
       "    .dataframe thead th {\n",
       "        text-align: right;\n",
       "    }\n",
       "</style>\n",
       "<table border=\"1\" class=\"dataframe\">\n",
       "  <thead>\n",
       "    <tr style=\"text-align: right;\">\n",
       "      <th></th>\n",
       "      <th>org_ipcs</th>\n",
       "      <th>org_FC</th>\n",
       "      <th>gen_ipcs</th>\n",
       "      <th>is_same</th>\n",
       "      <th>forward_ref</th>\n",
       "      <th>ref_ipcs</th>\n",
       "      <th>ref_FC</th>\n",
       "      <th>ref_FC_rank</th>\n",
       "      <th>ref_FC_new</th>\n",
       "    </tr>\n",
       "    <tr>\n",
       "      <th>patent_id</th>\n",
       "      <th></th>\n",
       "      <th></th>\n",
       "      <th></th>\n",
       "      <th></th>\n",
       "      <th></th>\n",
       "      <th></th>\n",
       "      <th></th>\n",
       "      <th></th>\n",
       "      <th></th>\n",
       "    </tr>\n",
       "  </thead>\n",
       "  <tbody>\n",
       "    <tr>\n",
       "      <th>7542816</th>\n",
       "      <td>{Y10S707, G06F016, G11B027}</td>\n",
       "      <td>18</td>\n",
       "      <td>{G06F016}</td>\n",
       "      <td>1</td>\n",
       "      <td>9576050</td>\n",
       "      <td>{G06F016}</td>\n",
       "      <td>6</td>\n",
       "      <td>0.821429</td>\n",
       "      <td>6 (0.82)</td>\n",
       "    </tr>\n",
       "    <tr>\n",
       "      <th>8355610</th>\n",
       "      <td>{G02B027, G02B006}</td>\n",
       "      <td>30</td>\n",
       "      <td>{G02B027}</td>\n",
       "      <td>1</td>\n",
       "      <td>9715110</td>\n",
       "      <td>{G02B027}</td>\n",
       "      <td>18</td>\n",
       "      <td>0.857143</td>\n",
       "      <td>18 (0.86)</td>\n",
       "    </tr>\n",
       "    <tr>\n",
       "      <th>7010095</th>\n",
       "      <td>{A61B090, A61B034}</td>\n",
       "      <td>5</td>\n",
       "      <td>{A61B090, A61B034}</td>\n",
       "      <td>1</td>\n",
       "      <td>8165659</td>\n",
       "      <td>{A61B090, A61B034}</td>\n",
       "      <td>6</td>\n",
       "      <td>1.000000</td>\n",
       "      <td>6 (1.0)</td>\n",
       "    </tr>\n",
       "    <tr>\n",
       "      <th>8977643</th>\n",
       "      <td>{G06F016}</td>\n",
       "      <td>35</td>\n",
       "      <td>{G06F016}</td>\n",
       "      <td>1</td>\n",
       "      <td>10169421</td>\n",
       "      <td>{G06F016}</td>\n",
       "      <td>0</td>\n",
       "      <td>1.000000</td>\n",
       "      <td>0 (1.0)</td>\n",
       "    </tr>\n",
       "    <tr>\n",
       "      <th>7242681</th>\n",
       "      <td>{H04L063}</td>\n",
       "      <td>10</td>\n",
       "      <td>{H04L063, G06F021}</td>\n",
       "      <td>0</td>\n",
       "      <td>9875344</td>\n",
       "      <td>{H04L063, G06F021}</td>\n",
       "      <td>20</td>\n",
       "      <td>0.800000</td>\n",
       "      <td>20 (0.8)</td>\n",
       "    </tr>\n",
       "    <tr>\n",
       "      <th>...</th>\n",
       "      <td>...</td>\n",
       "      <td>...</td>\n",
       "      <td>...</td>\n",
       "      <td>...</td>\n",
       "      <td>...</td>\n",
       "      <td>...</td>\n",
       "      <td>...</td>\n",
       "      <td>...</td>\n",
       "      <td>...</td>\n",
       "    </tr>\n",
       "    <tr>\n",
       "      <th>7366735</th>\n",
       "      <td>{Y10S707, G06F016}</td>\n",
       "      <td>16</td>\n",
       "      <td>{Y10S707, G06F016}</td>\n",
       "      <td>1</td>\n",
       "      <td>7493305</td>\n",
       "      <td>{Y10S707, G06F016}</td>\n",
       "      <td>8</td>\n",
       "      <td>1.000000</td>\n",
       "      <td>8 (1.0)</td>\n",
       "    </tr>\n",
       "    <tr>\n",
       "      <th>7080090</th>\n",
       "      <td>{Y10S707, G06F016, G06F021}</td>\n",
       "      <td>3</td>\n",
       "      <td>{G06F016, G06F021}</td>\n",
       "      <td>1</td>\n",
       "      <td>10346429</td>\n",
       "      <td>{G06F016, G06F021}</td>\n",
       "      <td>12</td>\n",
       "      <td>1.000000</td>\n",
       "      <td>12 (1.0)</td>\n",
       "    </tr>\n",
       "    <tr>\n",
       "      <th>9043922</th>\n",
       "      <td>{G06F021}</td>\n",
       "      <td>16</td>\n",
       "      <td>{G06F016, H04L063, G06F021}</td>\n",
       "      <td>0</td>\n",
       "      <td>9977920</td>\n",
       "      <td>{G06F016, H04L063, G06F021}</td>\n",
       "      <td>1</td>\n",
       "      <td>0.583333</td>\n",
       "      <td>1 (0.58)</td>\n",
       "    </tr>\n",
       "    <tr>\n",
       "      <th>7475425</th>\n",
       "      <td>{H04L063}</td>\n",
       "      <td>17</td>\n",
       "      <td>{H04L063}</td>\n",
       "      <td>1</td>\n",
       "      <td>9356941</td>\n",
       "      <td>{H04L063}</td>\n",
       "      <td>15</td>\n",
       "      <td>1.000000</td>\n",
       "      <td>15 (1.0)</td>\n",
       "    </tr>\n",
       "    <tr>\n",
       "      <th>7818341</th>\n",
       "      <td>{G06F016}</td>\n",
       "      <td>4</td>\n",
       "      <td>{G06F016}</td>\n",
       "      <td>1</td>\n",
       "      <td>9135357</td>\n",
       "      <td>{G06F016}</td>\n",
       "      <td>0</td>\n",
       "      <td>0.750000</td>\n",
       "      <td>0 (0.75)</td>\n",
       "    </tr>\n",
       "  </tbody>\n",
       "</table>\n",
       "<p>730 rows × 9 columns</p>\n",
       "</div>"
      ],
      "text/plain": [
       "                              org_ipcs org_FC                     gen_ipcs  \\\n",
       "patent_id                                                                    \n",
       "7542816    {Y10S707, G06F016, G11B027}     18                    {G06F016}   \n",
       "8355610             {G02B027, G02B006}     30                    {G02B027}   \n",
       "7010095             {A61B090, A61B034}      5           {A61B090, A61B034}   \n",
       "8977643                      {G06F016}     35                    {G06F016}   \n",
       "7242681                      {H04L063}     10           {H04L063, G06F021}   \n",
       "...                                ...    ...                          ...   \n",
       "7366735             {Y10S707, G06F016}     16           {Y10S707, G06F016}   \n",
       "7080090    {Y10S707, G06F016, G06F021}      3           {G06F016, G06F021}   \n",
       "9043922                      {G06F021}     16  {G06F016, H04L063, G06F021}   \n",
       "7475425                      {H04L063}     17                    {H04L063}   \n",
       "7818341                      {G06F016}      4                    {G06F016}   \n",
       "\n",
       "          is_same forward_ref                     ref_ipcs ref_FC  \\\n",
       "patent_id                                                           \n",
       "7542816         1     9576050                    {G06F016}      6   \n",
       "8355610         1     9715110                    {G02B027}     18   \n",
       "7010095         1     8165659           {A61B090, A61B034}      6   \n",
       "8977643         1    10169421                    {G06F016}      0   \n",
       "7242681         0     9875344           {H04L063, G06F021}     20   \n",
       "...           ...         ...                          ...    ...   \n",
       "7366735         1     7493305           {Y10S707, G06F016}      8   \n",
       "7080090         1    10346429           {G06F016, G06F021}     12   \n",
       "9043922         0     9977920  {G06F016, H04L063, G06F021}      1   \n",
       "7475425         1     9356941                    {H04L063}     15   \n",
       "7818341         1     9135357                    {G06F016}      0   \n",
       "\n",
       "           ref_FC_rank ref_FC_new  \n",
       "patent_id                          \n",
       "7542816       0.821429   6 (0.82)  \n",
       "8355610       0.857143  18 (0.86)  \n",
       "7010095       1.000000    6 (1.0)  \n",
       "8977643       1.000000    0 (1.0)  \n",
       "7242681       0.800000   20 (0.8)  \n",
       "...                ...        ...  \n",
       "7366735       1.000000    8 (1.0)  \n",
       "7080090       1.000000   12 (1.0)  \n",
       "9043922       0.583333   1 (0.58)  \n",
       "7475425       1.000000   15 (1.0)  \n",
       "7818341       0.750000   0 (0.75)  \n",
       "\n",
       "[730 rows x 9 columns]"
      ]
     },
     "execution_count": 448,
     "metadata": {},
     "output_type": "execute_result"
    }
   ],
   "source": [
    "df_val"
   ]
  },
  {
   "cell_type": "code",
   "execution_count": 667,
   "metadata": {
    "ExecuteTime": {
     "end_time": "2025-06-09T22:59:27.497028Z",
     "start_time": "2025-06-09T22:59:27.408819Z"
    },
    "scrolled": false
   },
   "outputs": [
    {
     "name": "stdout",
     "output_type": "stream",
     "text": [
      "total hit: 730\n",
      "same: 669\n",
      "diff: 61\n",
      "over L1 criterion: 18\n",
      "ratio: 0.29508196721311475\n"
     ]
    }
   ],
   "source": [
    "L1_criterion = tech_dataset.data[\"TC5\"].quantile(0.9)\n",
    "print(\"total hit:\", len(df_val))\n",
    "print(\"same:\",len(df_val[df_val[\"is_same\"]==1]))\n",
    "print(\"diff:\",len(df_val[df_val[\"is_same\"]==0]))\n",
    "print(\"over L1 criterion:\", len(df_val[df_val[\"is_same\"]==0][df_val[df_val[\"is_same\"]==0][\"ref_FC\"]>=L1_criterion]))\n",
    "print(\"ratio:\",len(df_val[df_val[\"is_same\"]==0][df_val[df_val[\"is_same\"]==0][\"ref_FC\"]>=L1_criterion]) / len(df_val[df_val[\"is_same\"]==0]))"
   ]
  },
  {
   "cell_type": "code",
   "execution_count": 668,
   "metadata": {
    "ExecuteTime": {
     "end_time": "2025-06-09T22:59:28.084898Z",
     "start_time": "2025-06-09T22:59:28.042992Z"
    },
    "scrolled": false
   },
   "outputs": [
    {
     "data": {
      "text/html": [
       "<div>\n",
       "<style scoped>\n",
       "    .dataframe tbody tr th:only-of-type {\n",
       "        vertical-align: middle;\n",
       "    }\n",
       "\n",
       "    .dataframe tbody tr th {\n",
       "        vertical-align: top;\n",
       "    }\n",
       "\n",
       "    .dataframe thead th {\n",
       "        text-align: right;\n",
       "    }\n",
       "</style>\n",
       "<table border=\"1\" class=\"dataframe\">\n",
       "  <thead>\n",
       "    <tr style=\"text-align: right;\">\n",
       "      <th></th>\n",
       "      <th>org_ipcs</th>\n",
       "      <th>org_FC</th>\n",
       "      <th>gen_ipcs</th>\n",
       "      <th>forward_ref</th>\n",
       "      <th>ref_ipcs</th>\n",
       "      <th>ref_FC_new</th>\n",
       "    </tr>\n",
       "    <tr>\n",
       "      <th>patent_id</th>\n",
       "      <th></th>\n",
       "      <th></th>\n",
       "      <th></th>\n",
       "      <th></th>\n",
       "      <th></th>\n",
       "      <th></th>\n",
       "    </tr>\n",
       "  </thead>\n",
       "  <tbody>\n",
       "    <tr>\n",
       "      <th>7242681</th>\n",
       "      <td>{H04L063}</td>\n",
       "      <td>10</td>\n",
       "      <td>{H04L063, G06F021}</td>\n",
       "      <td>9875344</td>\n",
       "      <td>{H04L063, G06F021}</td>\n",
       "      <td>20 (0.8)</td>\n",
       "    </tr>\n",
       "    <tr>\n",
       "      <th>8549579</th>\n",
       "      <td>{H04L051, H04L063}</td>\n",
       "      <td>8</td>\n",
       "      <td>{H04L063, G06F021}</td>\n",
       "      <td>9087215</td>\n",
       "      <td>{H04L063, G06F021}</td>\n",
       "      <td>23 (1.0)</td>\n",
       "    </tr>\n",
       "    <tr>\n",
       "      <th>8307177</th>\n",
       "      <td>{G06F016, G06F011, G06F009}</td>\n",
       "      <td>165</td>\n",
       "      <td>{G06F016, G06F011, G06F009, G06F003}</td>\n",
       "      <td>9823977</td>\n",
       "      <td>{G06F016, G06F011, G06F009, G06F003}</td>\n",
       "      <td>40 (0.92)</td>\n",
       "    </tr>\n",
       "    <tr>\n",
       "      <th>8307177</th>\n",
       "      <td>{G06F016, G06F011, G06F009}</td>\n",
       "      <td>165</td>\n",
       "      <td>{G06F016, G06F011, G06F009, G06F003}</td>\n",
       "      <td>10474542</td>\n",
       "      <td>{G06F016, G06F011, G06F009, G06F003}</td>\n",
       "      <td>20 (0.78)</td>\n",
       "    </tr>\n",
       "    <tr>\n",
       "      <th>9089966</th>\n",
       "      <td>{B25J009}</td>\n",
       "      <td>13</td>\n",
       "      <td>{B25J009, Y10S901}</td>\n",
       "      <td>9486921</td>\n",
       "      <td>{B25J009, Y10S901}</td>\n",
       "      <td>114 (1.0)</td>\n",
       "    </tr>\n",
       "    <tr>\n",
       "      <th>8832846</th>\n",
       "      <td>{G06F008, G06F021}</td>\n",
       "      <td>14</td>\n",
       "      <td>{H04L063, G06F021}</td>\n",
       "      <td>9536108</td>\n",
       "      <td>{H04L063, G06F021}</td>\n",
       "      <td>71 (1.0)</td>\n",
       "    </tr>\n",
       "    <tr>\n",
       "      <th>7697758</th>\n",
       "      <td>{G06K009, G06V030}</td>\n",
       "      <td>33</td>\n",
       "      <td>{G06V010, G06V030, G06F016, G06V020}</td>\n",
       "      <td>8953886</td>\n",
       "      <td>{G06V010, G06V030, G06F016, G06V020}</td>\n",
       "      <td>39 (1.0)</td>\n",
       "    </tr>\n",
       "    <tr>\n",
       "      <th>7024364</th>\n",
       "      <td>{G10L015, H04M003}</td>\n",
       "      <td>10</td>\n",
       "      <td>{G10L015, G06F003}</td>\n",
       "      <td>8589161</td>\n",
       "      <td>{G10L015, G06F003}</td>\n",
       "      <td>33 (0.7)</td>\n",
       "    </tr>\n",
       "    <tr>\n",
       "      <th>7024364</th>\n",
       "      <td>{G10L015, H04M003}</td>\n",
       "      <td>10</td>\n",
       "      <td>{G10L015, G06F003}</td>\n",
       "      <td>9721566</td>\n",
       "      <td>{G10L015, G06F003}</td>\n",
       "      <td>102 (0.87)</td>\n",
       "    </tr>\n",
       "    <tr>\n",
       "      <th>7127403</th>\n",
       "      <td>{G10L015, H04M003}</td>\n",
       "      <td>6</td>\n",
       "      <td>{G10L015, G06F003}</td>\n",
       "      <td>9721566</td>\n",
       "      <td>{G10L015, G06F003}</td>\n",
       "      <td>102 (0.88)</td>\n",
       "    </tr>\n",
       "    <tr>\n",
       "      <th>7127403</th>\n",
       "      <td>{G10L015, H04M003}</td>\n",
       "      <td>6</td>\n",
       "      <td>{G10L015, G06F003}</td>\n",
       "      <td>8670985</td>\n",
       "      <td>{G10L015, G06F003}</td>\n",
       "      <td>22 (0.69)</td>\n",
       "    </tr>\n",
       "    <tr>\n",
       "      <th>7769756</th>\n",
       "      <td>{H04L065, H04N021, H04N019, H04H060}</td>\n",
       "      <td>16</td>\n",
       "      <td>{H04N021, H04H060, G06Q030}</td>\n",
       "      <td>8966525</td>\n",
       "      <td>{H04N021, H04H060, G06Q030}</td>\n",
       "      <td>37 (1.0)</td>\n",
       "    </tr>\n",
       "    <tr>\n",
       "      <th>7363549</th>\n",
       "      <td>{G06F011}</td>\n",
       "      <td>28</td>\n",
       "      <td>{G06F016, G06F011}</td>\n",
       "      <td>7979441</td>\n",
       "      <td>{G06F016, G06F011}</td>\n",
       "      <td>18 (0.77)</td>\n",
       "    </tr>\n",
       "    <tr>\n",
       "      <th>7363549</th>\n",
       "      <td>{G06F011}</td>\n",
       "      <td>28</td>\n",
       "      <td>{G06F016, G06F011}</td>\n",
       "      <td>8108429</td>\n",
       "      <td>{G06F016, G06F011}</td>\n",
       "      <td>40 (1.0)</td>\n",
       "    </tr>\n",
       "    <tr>\n",
       "      <th>7363549</th>\n",
       "      <td>{G06F011}</td>\n",
       "      <td>28</td>\n",
       "      <td>{G06F016, G06F011}</td>\n",
       "      <td>7904913</td>\n",
       "      <td>{G06F016, G06F011}</td>\n",
       "      <td>24 (0.86)</td>\n",
       "    </tr>\n",
       "    <tr>\n",
       "      <th>7363549</th>\n",
       "      <td>{G06F011}</td>\n",
       "      <td>28</td>\n",
       "      <td>{G06F016, G06F011}</td>\n",
       "      <td>7689602</td>\n",
       "      <td>{G06F016, G06F011}</td>\n",
       "      <td>17 (0.73)</td>\n",
       "    </tr>\n",
       "    <tr>\n",
       "      <th>7363549</th>\n",
       "      <td>{G06F011}</td>\n",
       "      <td>28</td>\n",
       "      <td>{G06F016, G06F011}</td>\n",
       "      <td>8131723</td>\n",
       "      <td>{G06F016, G06F011}</td>\n",
       "      <td>29 (0.95)</td>\n",
       "    </tr>\n",
       "    <tr>\n",
       "      <th>8832594</th>\n",
       "      <td>{G06F040, G06F003}</td>\n",
       "      <td>161</td>\n",
       "      <td>{G06F040, G06F016, G06F003}</td>\n",
       "      <td>9043696</td>\n",
       "      <td>{G06F040, G06F016, G06F003}</td>\n",
       "      <td>153 (0.93)</td>\n",
       "    </tr>\n",
       "  </tbody>\n",
       "</table>\n",
       "</div>"
      ],
      "text/plain": [
       "                                       org_ipcs org_FC  \\\n",
       "patent_id                                                \n",
       "7242681                               {H04L063}     10   \n",
       "8549579                      {H04L051, H04L063}      8   \n",
       "8307177             {G06F016, G06F011, G06F009}    165   \n",
       "8307177             {G06F016, G06F011, G06F009}    165   \n",
       "9089966                               {B25J009}     13   \n",
       "8832846                      {G06F008, G06F021}     14   \n",
       "7697758                      {G06K009, G06V030}     33   \n",
       "7024364                      {G10L015, H04M003}     10   \n",
       "7024364                      {G10L015, H04M003}     10   \n",
       "7127403                      {G10L015, H04M003}      6   \n",
       "7127403                      {G10L015, H04M003}      6   \n",
       "7769756    {H04L065, H04N021, H04N019, H04H060}     16   \n",
       "7363549                               {G06F011}     28   \n",
       "7363549                               {G06F011}     28   \n",
       "7363549                               {G06F011}     28   \n",
       "7363549                               {G06F011}     28   \n",
       "7363549                               {G06F011}     28   \n",
       "8832594                      {G06F040, G06F003}    161   \n",
       "\n",
       "                                       gen_ipcs forward_ref  \\\n",
       "patent_id                                                     \n",
       "7242681                      {H04L063, G06F021}     9875344   \n",
       "8549579                      {H04L063, G06F021}     9087215   \n",
       "8307177    {G06F016, G06F011, G06F009, G06F003}     9823977   \n",
       "8307177    {G06F016, G06F011, G06F009, G06F003}    10474542   \n",
       "9089966                      {B25J009, Y10S901}     9486921   \n",
       "8832846                      {H04L063, G06F021}     9536108   \n",
       "7697758    {G06V010, G06V030, G06F016, G06V020}     8953886   \n",
       "7024364                      {G10L015, G06F003}     8589161   \n",
       "7024364                      {G10L015, G06F003}     9721566   \n",
       "7127403                      {G10L015, G06F003}     9721566   \n",
       "7127403                      {G10L015, G06F003}     8670985   \n",
       "7769756             {H04N021, H04H060, G06Q030}     8966525   \n",
       "7363549                      {G06F016, G06F011}     7979441   \n",
       "7363549                      {G06F016, G06F011}     8108429   \n",
       "7363549                      {G06F016, G06F011}     7904913   \n",
       "7363549                      {G06F016, G06F011}     7689602   \n",
       "7363549                      {G06F016, G06F011}     8131723   \n",
       "8832594             {G06F040, G06F016, G06F003}     9043696   \n",
       "\n",
       "                                       ref_ipcs  ref_FC_new  \n",
       "patent_id                                                    \n",
       "7242681                      {H04L063, G06F021}    20 (0.8)  \n",
       "8549579                      {H04L063, G06F021}    23 (1.0)  \n",
       "8307177    {G06F016, G06F011, G06F009, G06F003}   40 (0.92)  \n",
       "8307177    {G06F016, G06F011, G06F009, G06F003}   20 (0.78)  \n",
       "9089966                      {B25J009, Y10S901}   114 (1.0)  \n",
       "8832846                      {H04L063, G06F021}    71 (1.0)  \n",
       "7697758    {G06V010, G06V030, G06F016, G06V020}    39 (1.0)  \n",
       "7024364                      {G10L015, G06F003}    33 (0.7)  \n",
       "7024364                      {G10L015, G06F003}  102 (0.87)  \n",
       "7127403                      {G10L015, G06F003}  102 (0.88)  \n",
       "7127403                      {G10L015, G06F003}   22 (0.69)  \n",
       "7769756             {H04N021, H04H060, G06Q030}    37 (1.0)  \n",
       "7363549                      {G06F016, G06F011}   18 (0.77)  \n",
       "7363549                      {G06F016, G06F011}    40 (1.0)  \n",
       "7363549                      {G06F016, G06F011}   24 (0.86)  \n",
       "7363549                      {G06F016, G06F011}   17 (0.73)  \n",
       "7363549                      {G06F016, G06F011}   29 (0.95)  \n",
       "8832594             {G06F040, G06F016, G06F003}  153 (0.93)  "
      ]
     },
     "execution_count": 668,
     "metadata": {},
     "output_type": "execute_result"
    }
   ],
   "source": [
    "## 인용 IPC 중 생성 IPC와 동일한 게 있으면서, 입력 IPC와 생성 IPC가 다르고, 피인용수가 전체 데이터셋의 L1 기준 이상인 샘플\n",
    "df_val[df_val[\"is_same\"]==0][df_val[df_val[\"is_same\"]==0][\"ref_FC\"]>=L1_criterion].drop(labels=[\"is_same\", \"ref_FC\", \"ref_FC_rank\"], axis=1)"
   ]
  },
  {
   "cell_type": "code",
   "execution_count": 669,
   "metadata": {
    "ExecuteTime": {
     "end_time": "2025-06-09T23:03:54.035229Z",
     "start_time": "2025-06-09T23:03:53.854228Z"
    }
   },
   "outputs": [],
   "source": [
    "df_val[df_val[\"is_same\"]==0][df_val[df_val[\"is_same\"]==0][\"ref_FC\"]>=L1_criterion].drop(labels=[\"is_same\", \"ref_FC\", \"ref_FC_rank\"], axis=1).to_csv(\"Breakthrough_examples.csv\")"
   ]
  },
  {
   "cell_type": "code",
   "execution_count": 451,
   "metadata": {
    "ExecuteTime": {
     "end_time": "2025-06-09T21:30:06.011600Z",
     "start_time": "2025-06-09T21:30:05.864613Z"
    }
   },
   "outputs": [
    {
     "data": {
      "text/plain": [
       "patent_id\n",
       "7242681    7242681\n",
       "8549579    8549579\n",
       "8549579    8549579\n",
       "9089966    9089966\n",
       "8832846    8832846\n",
       "8621259    8621259\n",
       "7697758    7697758\n",
       "7693889    7693889\n",
       "7024364    7024364\n",
       "7024364    7024364\n",
       "7127403    7127403\n",
       "7127403    7127403\n",
       "7769756    7769756\n",
       "7363549    7363549\n",
       "7363549    7363549\n",
       "7389229    7389229\n",
       "dtype: object"
      ]
     },
     "execution_count": 451,
     "metadata": {},
     "output_type": "execute_result"
    }
   ],
   "source": [
    "## 인용 IPC 중 생성 IPC와 동일하면서, 입력 IPC와는 다르고, 피인용수가 입력 특허보다 많은 샘플\n",
    "df_val[df_val[\"is_same\"]==0].drop(labels=[\"is_same\", \"ref_FC\", \"ref_FC_rank\"], axis=1).apply(lambda x: x.name if int(x[\"org_FC\"]) <= int(x[\"ref_FC_new\"].split(\"(\")[0]) else np.nan, axis=1).dropna()"
   ]
  },
  {
   "cell_type": "code",
   "execution_count": 452,
   "metadata": {
    "ExecuteTime": {
     "end_time": "2025-06-09T21:30:06.200413Z",
     "start_time": "2025-06-09T21:30:06.014921Z"
    },
    "scrolled": false
   },
   "outputs": [
    {
     "data": {
      "text/html": [
       "<div>\n",
       "<style scoped>\n",
       "    .dataframe tbody tr th:only-of-type {\n",
       "        vertical-align: middle;\n",
       "    }\n",
       "\n",
       "    .dataframe tbody tr th {\n",
       "        vertical-align: top;\n",
       "    }\n",
       "\n",
       "    .dataframe thead th {\n",
       "        text-align: right;\n",
       "    }\n",
       "</style>\n",
       "<table border=\"1\" class=\"dataframe\">\n",
       "  <thead>\n",
       "    <tr style=\"text-align: right;\">\n",
       "      <th></th>\n",
       "      <th>org_ipcs</th>\n",
       "      <th>org_FC</th>\n",
       "      <th>gen_ipcs</th>\n",
       "      <th>is_same</th>\n",
       "      <th>forward_ref</th>\n",
       "      <th>ref_ipcs</th>\n",
       "      <th>ref_FC</th>\n",
       "      <th>ref_FC_rank</th>\n",
       "      <th>ref_FC_new</th>\n",
       "    </tr>\n",
       "    <tr>\n",
       "      <th>patent_id</th>\n",
       "      <th></th>\n",
       "      <th></th>\n",
       "      <th></th>\n",
       "      <th></th>\n",
       "      <th></th>\n",
       "      <th></th>\n",
       "      <th></th>\n",
       "      <th></th>\n",
       "      <th></th>\n",
       "    </tr>\n",
       "  </thead>\n",
       "  <tbody>\n",
       "    <tr>\n",
       "      <th>7697758</th>\n",
       "      <td>{G06K009, G06V030}</td>\n",
       "      <td>33</td>\n",
       "      <td>{G06V010, G06V030, G06F016, G06V020}</td>\n",
       "      <td>0</td>\n",
       "      <td>8620083</td>\n",
       "      <td>{G06V010, G06V030, G06F016, G06V020}</td>\n",
       "      <td>4</td>\n",
       "      <td>0.735294</td>\n",
       "      <td>4 (0.74)</td>\n",
       "    </tr>\n",
       "    <tr>\n",
       "      <th>7697758</th>\n",
       "      <td>{G06K009, G06V030}</td>\n",
       "      <td>33</td>\n",
       "      <td>{G06V010, G06V030, G06F016, G06V020}</td>\n",
       "      <td>0</td>\n",
       "      <td>8953886</td>\n",
       "      <td>{G06V010, G06V030, G06F016, G06V020}</td>\n",
       "      <td>39</td>\n",
       "      <td>1.000000</td>\n",
       "      <td>39 (1.0)</td>\n",
       "    </tr>\n",
       "  </tbody>\n",
       "</table>\n",
       "</div>"
      ],
      "text/plain": [
       "                     org_ipcs org_FC                              gen_ipcs  \\\n",
       "patent_id                                                                    \n",
       "7697758    {G06K009, G06V030}     33  {G06V010, G06V030, G06F016, G06V020}   \n",
       "7697758    {G06K009, G06V030}     33  {G06V010, G06V030, G06F016, G06V020}   \n",
       "\n",
       "          is_same forward_ref                              ref_ipcs ref_FC  \\\n",
       "patent_id                                                                    \n",
       "7697758         0     8620083  {G06V010, G06V030, G06F016, G06V020}      4   \n",
       "7697758         0     8953886  {G06V010, G06V030, G06F016, G06V020}     39   \n",
       "\n",
       "           ref_FC_rank ref_FC_new  \n",
       "patent_id                          \n",
       "7697758       0.735294   4 (0.74)  \n",
       "7697758       1.000000   39 (1.0)  "
      ]
     },
     "execution_count": 452,
     "metadata": {},
     "output_type": "execute_result"
    }
   ],
   "source": [
    "df_val.loc[\"7697758\"]"
   ]
  },
  {
   "cell_type": "markdown",
   "metadata": {},
   "source": [
    "## Revision 분석 결과 Table"
   ]
  },
  {
   "cell_type": "code",
   "execution_count": 453,
   "metadata": {
    "ExecuteTime": {
     "end_time": "2025-06-09T21:30:06.378468Z",
     "start_time": "2025-06-09T21:30:06.205173Z"
    }
   },
   "outputs": [
    {
     "data": {
      "text/plain": [
       "4011"
      ]
     },
     "execution_count": 453,
     "metadata": {},
     "output_type": "execute_result"
    }
   ],
   "source": [
    "tech_dataset.tokenizers[\"class_enc\"].get_vocab_size()"
   ]
  },
  {
   "cell_type": "code",
   "execution_count": 454,
   "metadata": {
    "ExecuteTime": {
     "end_time": "2025-06-09T21:30:06.506984Z",
     "start_time": "2025-06-09T21:30:06.382357Z"
    }
   },
   "outputs": [],
   "source": [
    "# target_pns = np.array([\"6983071\", \"6983051\", \"9226068\", \"9223929\"])\n",
    "# target_pns = np.array([\"6985630\", \"6983357\", \"9225871\", \"9225879\"])"
   ]
  },
  {
   "cell_type": "code",
   "execution_count": 455,
   "metadata": {
    "ExecuteTime": {
     "end_time": "2025-06-09T21:30:06.666405Z",
     "start_time": "2025-06-09T21:30:06.513530Z"
    }
   },
   "outputs": [],
   "source": [
    "target_pns = np.array([6981379,\n",
    "6983071,\n",
    "6983099,\n",
    "6983272,\n",
    "6983357,\n",
    "6983878,\n",
    "6985159,\n",
    "6985172,\n",
    "6985630,\n",
    "6985721,\n",
    "6985779,\n",
    "6985860,\n",
    "6985920,\n",
    "6985922,\n",
    "6985941,\n",
    "6987008,\n",
    "6987886,\n",
    "6987987,\n",
    "6988012,\n",
    "6988059,\n",
    "6988108,\n",
    "6988140,\n",
    "6988279]).astype(str)"
   ]
  },
  {
   "cell_type": "code",
   "execution_count": 456,
   "metadata": {
    "ExecuteTime": {
     "end_time": "2025-06-09T21:30:06.777928Z",
     "start_time": "2025-06-09T21:30:06.671864Z"
    }
   },
   "outputs": [],
   "source": [
    "target_pns = np.array([\n",
    "9222639,\n",
    "9223301,\n",
    "9223451,\n",
    "9223461,\n",
    "9223476,\n",
    "9223499,\n",
    "9223561,\n",
    "9223562,\n",
    "9223581,\n",
    "9223586,\n",
    "9223621,\n",
    "9223713,\n",
    "9223721,\n",
    "9223755,\n",
    "9223778,\n",
    "9223830,\n",
    "9223831,\n",
    "9223838,\n",
    "9223895,\n",
    "9223904,\n",
    "9223955,\n",
    "9223967,\n",
    "9224043,\n",
    "9224096,\n",
    "9224119,\n",
    "9224173,\n",
    "9224196\n",
    "]).astype(str)"
   ]
  },
  {
   "cell_type": "code",
   "execution_count": 457,
   "metadata": {
    "ExecuteTime": {
     "end_time": "2025-06-09T21:30:07.007713Z",
     "start_time": "2025-06-09T21:30:06.784831Z"
    },
    "scrolled": true
   },
   "outputs": [
    {
     "data": {
      "text/html": [
       "<div>\n",
       "<style scoped>\n",
       "    .dataframe tbody tr th:only-of-type {\n",
       "        vertical-align: middle;\n",
       "    }\n",
       "\n",
       "    .dataframe tbody tr th {\n",
       "        vertical-align: top;\n",
       "    }\n",
       "\n",
       "    .dataframe thead th {\n",
       "        text-align: right;\n",
       "    }\n",
       "</style>\n",
       "<table border=\"1\" class=\"dataframe\">\n",
       "  <thead>\n",
       "    <tr style=\"text-align: right;\">\n",
       "      <th></th>\n",
       "      <th>patent_number</th>\n",
       "      <th>main_class</th>\n",
       "      <th>sub_class</th>\n",
       "      <th>patent_classes</th>\n",
       "      <th>claims</th>\n",
       "      <th>TC5</th>\n",
       "      <th>TC5_digitized</th>\n",
       "      <th>class</th>\n",
       "    </tr>\n",
       "    <tr>\n",
       "      <th>patent_number</th>\n",
       "      <th></th>\n",
       "      <th></th>\n",
       "      <th></th>\n",
       "      <th></th>\n",
       "      <th></th>\n",
       "      <th></th>\n",
       "      <th></th>\n",
       "      <th></th>\n",
       "    </tr>\n",
       "  </thead>\n",
       "  <tbody>\n",
       "    <tr>\n",
       "      <th>9222639</th>\n",
       "      <td>9222639</td>\n",
       "      <td>[F21S043, F21S043, F21S043]</td>\n",
       "      <td>[B60Q003, F21S043]</td>\n",
       "      <td>[F21S043, F21S043, F21S043, B60Q003, F21S043]</td>\n",
       "      <td>1. A vehicle composite reflection and refracti...</td>\n",
       "      <td>0</td>\n",
       "      <td>0</td>\n",
       "      <td>1534</td>\n",
       "    </tr>\n",
       "    <tr>\n",
       "      <th>9223301</th>\n",
       "      <td>9223301</td>\n",
       "      <td>[G05B013]</td>\n",
       "      <td>[Y02P030]</td>\n",
       "      <td>[G05B013, Y02P030]</td>\n",
       "      <td>1. A method comprising: receiving a first meas...</td>\n",
       "      <td>12</td>\n",
       "      <td>0</td>\n",
       "      <td>1879</td>\n",
       "    </tr>\n",
       "    <tr>\n",
       "      <th>9223451</th>\n",
       "      <td>9223451</td>\n",
       "      <td>[G06F003, G06F003, G06F001, G02B027, G06F003]</td>\n",
       "      <td>[H01Q001]</td>\n",
       "      <td>[G06F003, G06F003, G06F001, G02B027, G06F003, ...</td>\n",
       "      <td>1. A method comprising: sending a first transm...</td>\n",
       "      <td>4</td>\n",
       "      <td>0</td>\n",
       "      <td>1907</td>\n",
       "    </tr>\n",
       "    <tr>\n",
       "      <th>9223461</th>\n",
       "      <td>9223461</td>\n",
       "      <td>[G06F003, G06F003, G06F003, G06F003, G06F003, ...</td>\n",
       "      <td>[G06F003, H04W088]</td>\n",
       "      <td>[G06F003, G06F003, G06F003, G06F003, G06F003, ...</td>\n",
       "      <td>1. A method of facilitating a user's navigatio...</td>\n",
       "      <td>11</td>\n",
       "      <td>0</td>\n",
       "      <td>1907</td>\n",
       "    </tr>\n",
       "    <tr>\n",
       "      <th>9223476</th>\n",
       "      <td>9223476</td>\n",
       "      <td>[G06F003, G06Q030, G06Q030, G06F003, H04L067, ...</td>\n",
       "      <td>[G06F003]</td>\n",
       "      <td>[G06F003, G06Q030, G06Q030, G06F003, H04L067, ...</td>\n",
       "      <td>1. A system comprising: at least one processor...</td>\n",
       "      <td>1</td>\n",
       "      <td>0</td>\n",
       "      <td>1907</td>\n",
       "    </tr>\n",
       "    <tr>\n",
       "      <th>9223499</th>\n",
       "      <td>9223499</td>\n",
       "      <td>[G06F003, G06F003, G06F003]</td>\n",
       "      <td>[]</td>\n",
       "      <td>[G06F003, G06F003, G06F003]</td>\n",
       "      <td>1. A user interaction arrangement comprising: ...</td>\n",
       "      <td>0</td>\n",
       "      <td>0</td>\n",
       "      <td>1907</td>\n",
       "    </tr>\n",
       "    <tr>\n",
       "      <th>9223561</th>\n",
       "      <td>9223561</td>\n",
       "      <td>[G06F008]</td>\n",
       "      <td>[G06F009, G06F009]</td>\n",
       "      <td>[G06F008, G06F009, G06F009]</td>\n",
       "      <td>1. A method for providing an on-demand softwar...</td>\n",
       "      <td>54</td>\n",
       "      <td>1</td>\n",
       "      <td>1910</td>\n",
       "    </tr>\n",
       "    <tr>\n",
       "      <th>9223562</th>\n",
       "      <td>9223562</td>\n",
       "      <td>[G06F008]</td>\n",
       "      <td>[Y10S707]</td>\n",
       "      <td>[G06F008, Y10S707]</td>\n",
       "      <td>1. A computer program product comprising a non...</td>\n",
       "      <td>4</td>\n",
       "      <td>0</td>\n",
       "      <td>1910</td>\n",
       "    </tr>\n",
       "    <tr>\n",
       "      <th>9223581</th>\n",
       "      <td>9223581</td>\n",
       "      <td>[G06F015, G06F015, G06F009]</td>\n",
       "      <td>[Y02D010]</td>\n",
       "      <td>[G06F015, G06F015, G06F009, Y02D010]</td>\n",
       "      <td>1. A method for operating a system-on-chip (So...</td>\n",
       "      <td>0</td>\n",
       "      <td>0</td>\n",
       "      <td>1915</td>\n",
       "    </tr>\n",
       "    <tr>\n",
       "      <th>9223586</th>\n",
       "      <td>9223586</td>\n",
       "      <td>[G06F009, G06F009]</td>\n",
       "      <td>[G06F009]</td>\n",
       "      <td>[G06F009, G06F009, G06F009]</td>\n",
       "      <td>1. A method of operating a computing device in...</td>\n",
       "      <td>1</td>\n",
       "      <td>0</td>\n",
       "      <td>1911</td>\n",
       "    </tr>\n",
       "    <tr>\n",
       "      <th>9223621</th>\n",
       "      <td>9223621</td>\n",
       "      <td>[G06F009]</td>\n",
       "      <td>[G06F009]</td>\n",
       "      <td>[G06F009, G06F009]</td>\n",
       "      <td>1. A computer implemented method for processin...</td>\n",
       "      <td>15</td>\n",
       "      <td>0</td>\n",
       "      <td>1911</td>\n",
       "    </tr>\n",
       "    <tr>\n",
       "      <th>9223713</th>\n",
       "      <td>9223713</td>\n",
       "      <td>[G06F012]</td>\n",
       "      <td>[]</td>\n",
       "      <td>[G06F012]</td>\n",
       "      <td>1. A storage controller, comprising: a cache r...</td>\n",
       "      <td>0</td>\n",
       "      <td>0</td>\n",
       "      <td>1913</td>\n",
       "    </tr>\n",
       "    <tr>\n",
       "      <th>9223721</th>\n",
       "      <td>9223721</td>\n",
       "      <td>[G06F012, G06F009, G06F012, G06F012]</td>\n",
       "      <td>[]</td>\n",
       "      <td>[G06F012, G06F009, G06F012, G06F012]</td>\n",
       "      <td>1. A non-transitory computer readable storage ...</td>\n",
       "      <td>0</td>\n",
       "      <td>0</td>\n",
       "      <td>1913</td>\n",
       "    </tr>\n",
       "    <tr>\n",
       "      <th>9223755</th>\n",
       "      <td>9223755</td>\n",
       "      <td>[G06F017, G06F017]</td>\n",
       "      <td>[G05B023, G06F011, G06F017]</td>\n",
       "      <td>[G06F017, G06F017, G05B023, G06F011, G06F017]</td>\n",
       "      <td>1. A method for automatically decreasing produ...</td>\n",
       "      <td>0</td>\n",
       "      <td>0</td>\n",
       "      <td>1917</td>\n",
       "    </tr>\n",
       "    <tr>\n",
       "      <th>9223778</th>\n",
       "      <td>9223778</td>\n",
       "      <td>[G06F040, H04L012]</td>\n",
       "      <td>[H04L051]</td>\n",
       "      <td>[G06F040, H04L012, H04L051]</td>\n",
       "      <td>1. A computer-implemented method for the monit...</td>\n",
       "      <td>0</td>\n",
       "      <td>0</td>\n",
       "      <td>1921</td>\n",
       "    </tr>\n",
       "    <tr>\n",
       "      <th>9223830</th>\n",
       "      <td>9223830</td>\n",
       "      <td>[G06F040, G06F016, G06Q030]</td>\n",
       "      <td>[G06F016]</td>\n",
       "      <td>[G06F040, G06F016, G06Q030, G06F016]</td>\n",
       "      <td>1. A system for presentation analysis, the sys...</td>\n",
       "      <td>1</td>\n",
       "      <td>0</td>\n",
       "      <td>1921</td>\n",
       "    </tr>\n",
       "    <tr>\n",
       "      <th>9223831</th>\n",
       "      <td>9223831</td>\n",
       "      <td>[G06F016, G06Q030, G06Q030]</td>\n",
       "      <td>[Y10S707]</td>\n",
       "      <td>[G06F016, G06Q030, G06Q030, Y10S707]</td>\n",
       "      <td>1. A networked based computing system for retr...</td>\n",
       "      <td>11</td>\n",
       "      <td>0</td>\n",
       "      <td>1916</td>\n",
       "    </tr>\n",
       "    <tr>\n",
       "      <th>9223838</th>\n",
       "      <td>9223838</td>\n",
       "      <td>[G06F016, G06Q030, G06Q050, G06F016, G06F016, ...</td>\n",
       "      <td>[G06Q030]</td>\n",
       "      <td>[G06F016, G06Q030, G06Q050, G06F016, G06F016, ...</td>\n",
       "      <td>1. A method comprising, by a computing device:...</td>\n",
       "      <td>2</td>\n",
       "      <td>0</td>\n",
       "      <td>1916</td>\n",
       "    </tr>\n",
       "    <tr>\n",
       "      <th>9223895</th>\n",
       "      <td>9223895</td>\n",
       "      <td>[G06F016, G06F016]</td>\n",
       "      <td>[G06F003, G06F016, G06F016, G06F005, G06F003, ...</td>\n",
       "      <td>[G06F016, G06F016, G06F003, G06F016, G06F016, ...</td>\n",
       "      <td>1. A method implemented on at least one machin...</td>\n",
       "      <td>1</td>\n",
       "      <td>0</td>\n",
       "      <td>1916</td>\n",
       "    </tr>\n",
       "    <tr>\n",
       "      <th>9223904</th>\n",
       "      <td>9223904</td>\n",
       "      <td>[G06F030, G06T019]</td>\n",
       "      <td>[]</td>\n",
       "      <td>[G06F030, G06T019]</td>\n",
       "      <td>1. A method performed in an electronic device,...</td>\n",
       "      <td>0</td>\n",
       "      <td>0</td>\n",
       "      <td>1920</td>\n",
       "    </tr>\n",
       "    <tr>\n",
       "      <th>9223955</th>\n",
       "      <td>9223955</td>\n",
       "      <td>[G06V040, G06F003, H04W012, G06F021, G06F021, ...</td>\n",
       "      <td>[H04W012]</td>\n",
       "      <td>[G06V040, G06F003, H04W012, G06F021, G06F021, ...</td>\n",
       "      <td>1. A device comprising: a hardware processor; ...</td>\n",
       "      <td>10</td>\n",
       "      <td>0</td>\n",
       "      <td>1959</td>\n",
       "    </tr>\n",
       "    <tr>\n",
       "      <th>9223967</th>\n",
       "      <td>9223967</td>\n",
       "      <td>[G06F021, G06F009, G06F009, G06F009, G06F021, ...</td>\n",
       "      <td>[G06F011, G06F011]</td>\n",
       "      <td>[G06F021, G06F009, G06F009, G06F009, G06F021, ...</td>\n",
       "      <td>1. A microprocessor comprising: at least one i...</td>\n",
       "      <td>7</td>\n",
       "      <td>0</td>\n",
       "      <td>1919</td>\n",
       "    </tr>\n",
       "    <tr>\n",
       "      <th>9224043</th>\n",
       "      <td>9224043</td>\n",
       "      <td>[G05D001, G06V020, G06T007, G06T007, G05D001]</td>\n",
       "      <td>[Y10S901]</td>\n",
       "      <td>[G05D001, G06V020, G06T007, G06T007, G05D001, ...</td>\n",
       "      <td>1. A map generation method comprising: obtaini...</td>\n",
       "      <td>2</td>\n",
       "      <td>0</td>\n",
       "      <td>1885</td>\n",
       "    </tr>\n",
       "    <tr>\n",
       "      <th>9224096</th>\n",
       "      <td>9224096</td>\n",
       "      <td>[G06N003, H04W004, H04W004, G06F021, G06Q010, ...</td>\n",
       "      <td>[G08B013, H04W004]</td>\n",
       "      <td>[G06N003, H04W004, H04W004, G06F021, G06Q010, ...</td>\n",
       "      <td>1. A method for a device to self-assess a stat...</td>\n",
       "      <td>22</td>\n",
       "      <td>1</td>\n",
       "      <td>1933</td>\n",
       "    </tr>\n",
       "    <tr>\n",
       "      <th>9224119</th>\n",
       "      <td>9224119</td>\n",
       "      <td>[G06F008, G06F008, G06Q010, G06Q010]</td>\n",
       "      <td>[Y04S010]</td>\n",
       "      <td>[G06F008, G06F008, G06Q010, G06Q010, Y04S010]</td>\n",
       "      <td>1. A method to architect and define extensible...</td>\n",
       "      <td>4</td>\n",
       "      <td>0</td>\n",
       "      <td>1910</td>\n",
       "    </tr>\n",
       "    <tr>\n",
       "      <th>9224173</th>\n",
       "      <td>9224173</td>\n",
       "      <td>[H04L067, G06Q050]</td>\n",
       "      <td>[G06Q010]</td>\n",
       "      <td>[H04L067, G06Q050, G06Q010]</td>\n",
       "      <td>1. A method comprising: establishing a communi...</td>\n",
       "      <td>3</td>\n",
       "      <td>0</td>\n",
       "      <td>2349</td>\n",
       "    </tr>\n",
       "    <tr>\n",
       "      <th>9224196</th>\n",
       "      <td>9224196</td>\n",
       "      <td>[G06V030, G01N021, G06V010, G06T007, G07D007, ...</td>\n",
       "      <td>[G06V030, G06V020]</td>\n",
       "      <td>[G06V030, G01N021, G06V010, G06T007, G07D007, ...</td>\n",
       "      <td>1. A method for determining authenticity, comp...</td>\n",
       "      <td>10</td>\n",
       "      <td>0</td>\n",
       "      <td>1958</td>\n",
       "    </tr>\n",
       "  </tbody>\n",
       "</table>\n",
       "</div>"
      ],
      "text/plain": [
       "               patent_number  \\\n",
       "patent_number                  \n",
       "9222639              9222639   \n",
       "9223301              9223301   \n",
       "9223451              9223451   \n",
       "9223461              9223461   \n",
       "9223476              9223476   \n",
       "9223499              9223499   \n",
       "9223561              9223561   \n",
       "9223562              9223562   \n",
       "9223581              9223581   \n",
       "9223586              9223586   \n",
       "9223621              9223621   \n",
       "9223713              9223713   \n",
       "9223721              9223721   \n",
       "9223755              9223755   \n",
       "9223778              9223778   \n",
       "9223830              9223830   \n",
       "9223831              9223831   \n",
       "9223838              9223838   \n",
       "9223895              9223895   \n",
       "9223904              9223904   \n",
       "9223955              9223955   \n",
       "9223967              9223967   \n",
       "9224043              9224043   \n",
       "9224096              9224096   \n",
       "9224119              9224119   \n",
       "9224173              9224173   \n",
       "9224196              9224196   \n",
       "\n",
       "                                                      main_class  \\\n",
       "patent_number                                                      \n",
       "9222639                              [F21S043, F21S043, F21S043]   \n",
       "9223301                                                [G05B013]   \n",
       "9223451            [G06F003, G06F003, G06F001, G02B027, G06F003]   \n",
       "9223461        [G06F003, G06F003, G06F003, G06F003, G06F003, ...   \n",
       "9223476        [G06F003, G06Q030, G06Q030, G06F003, H04L067, ...   \n",
       "9223499                              [G06F003, G06F003, G06F003]   \n",
       "9223561                                                [G06F008]   \n",
       "9223562                                                [G06F008]   \n",
       "9223581                              [G06F015, G06F015, G06F009]   \n",
       "9223586                                       [G06F009, G06F009]   \n",
       "9223621                                                [G06F009]   \n",
       "9223713                                                [G06F012]   \n",
       "9223721                     [G06F012, G06F009, G06F012, G06F012]   \n",
       "9223755                                       [G06F017, G06F017]   \n",
       "9223778                                       [G06F040, H04L012]   \n",
       "9223830                              [G06F040, G06F016, G06Q030]   \n",
       "9223831                              [G06F016, G06Q030, G06Q030]   \n",
       "9223838        [G06F016, G06Q030, G06Q050, G06F016, G06F016, ...   \n",
       "9223895                                       [G06F016, G06F016]   \n",
       "9223904                                       [G06F030, G06T019]   \n",
       "9223955        [G06V040, G06F003, H04W012, G06F021, G06F021, ...   \n",
       "9223967        [G06F021, G06F009, G06F009, G06F009, G06F021, ...   \n",
       "9224043            [G05D001, G06V020, G06T007, G06T007, G05D001]   \n",
       "9224096        [G06N003, H04W004, H04W004, G06F021, G06Q010, ...   \n",
       "9224119                     [G06F008, G06F008, G06Q010, G06Q010]   \n",
       "9224173                                       [H04L067, G06Q050]   \n",
       "9224196        [G06V030, G01N021, G06V010, G06T007, G07D007, ...   \n",
       "\n",
       "                                                       sub_class  \\\n",
       "patent_number                                                      \n",
       "9222639                                       [B60Q003, F21S043]   \n",
       "9223301                                                [Y02P030]   \n",
       "9223451                                                [H01Q001]   \n",
       "9223461                                       [G06F003, H04W088]   \n",
       "9223476                                                [G06F003]   \n",
       "9223499                                                       []   \n",
       "9223561                                       [G06F009, G06F009]   \n",
       "9223562                                                [Y10S707]   \n",
       "9223581                                                [Y02D010]   \n",
       "9223586                                                [G06F009]   \n",
       "9223621                                                [G06F009]   \n",
       "9223713                                                       []   \n",
       "9223721                                                       []   \n",
       "9223755                              [G05B023, G06F011, G06F017]   \n",
       "9223778                                                [H04L051]   \n",
       "9223830                                                [G06F016]   \n",
       "9223831                                                [Y10S707]   \n",
       "9223838                                                [G06Q030]   \n",
       "9223895        [G06F003, G06F016, G06F016, G06F005, G06F003, ...   \n",
       "9223904                                                       []   \n",
       "9223955                                                [H04W012]   \n",
       "9223967                                       [G06F011, G06F011]   \n",
       "9224043                                                [Y10S901]   \n",
       "9224096                                       [G08B013, H04W004]   \n",
       "9224119                                                [Y04S010]   \n",
       "9224173                                                [G06Q010]   \n",
       "9224196                                       [G06V030, G06V020]   \n",
       "\n",
       "                                                  patent_classes  \\\n",
       "patent_number                                                      \n",
       "9222639            [F21S043, F21S043, F21S043, B60Q003, F21S043]   \n",
       "9223301                                       [G05B013, Y02P030]   \n",
       "9223451        [G06F003, G06F003, G06F001, G02B027, G06F003, ...   \n",
       "9223461        [G06F003, G06F003, G06F003, G06F003, G06F003, ...   \n",
       "9223476        [G06F003, G06Q030, G06Q030, G06F003, H04L067, ...   \n",
       "9223499                              [G06F003, G06F003, G06F003]   \n",
       "9223561                              [G06F008, G06F009, G06F009]   \n",
       "9223562                                       [G06F008, Y10S707]   \n",
       "9223581                     [G06F015, G06F015, G06F009, Y02D010]   \n",
       "9223586                              [G06F009, G06F009, G06F009]   \n",
       "9223621                                       [G06F009, G06F009]   \n",
       "9223713                                                [G06F012]   \n",
       "9223721                     [G06F012, G06F009, G06F012, G06F012]   \n",
       "9223755            [G06F017, G06F017, G05B023, G06F011, G06F017]   \n",
       "9223778                              [G06F040, H04L012, H04L051]   \n",
       "9223830                     [G06F040, G06F016, G06Q030, G06F016]   \n",
       "9223831                     [G06F016, G06Q030, G06Q030, Y10S707]   \n",
       "9223838        [G06F016, G06Q030, G06Q050, G06F016, G06F016, ...   \n",
       "9223895        [G06F016, G06F016, G06F003, G06F016, G06F016, ...   \n",
       "9223904                                       [G06F030, G06T019]   \n",
       "9223955        [G06V040, G06F003, H04W012, G06F021, G06F021, ...   \n",
       "9223967        [G06F021, G06F009, G06F009, G06F009, G06F021, ...   \n",
       "9224043        [G05D001, G06V020, G06T007, G06T007, G05D001, ...   \n",
       "9224096        [G06N003, H04W004, H04W004, G06F021, G06Q010, ...   \n",
       "9224119            [G06F008, G06F008, G06Q010, G06Q010, Y04S010]   \n",
       "9224173                              [H04L067, G06Q050, G06Q010]   \n",
       "9224196        [G06V030, G01N021, G06V010, G06T007, G07D007, ...   \n",
       "\n",
       "                                                          claims  TC5  \\\n",
       "patent_number                                                           \n",
       "9222639        1. A vehicle composite reflection and refracti...    0   \n",
       "9223301        1. A method comprising: receiving a first meas...   12   \n",
       "9223451        1. A method comprising: sending a first transm...    4   \n",
       "9223461        1. A method of facilitating a user's navigatio...   11   \n",
       "9223476        1. A system comprising: at least one processor...    1   \n",
       "9223499        1. A user interaction arrangement comprising: ...    0   \n",
       "9223561        1. A method for providing an on-demand softwar...   54   \n",
       "9223562        1. A computer program product comprising a non...    4   \n",
       "9223581        1. A method for operating a system-on-chip (So...    0   \n",
       "9223586        1. A method of operating a computing device in...    1   \n",
       "9223621        1. A computer implemented method for processin...   15   \n",
       "9223713        1. A storage controller, comprising: a cache r...    0   \n",
       "9223721        1. A non-transitory computer readable storage ...    0   \n",
       "9223755        1. A method for automatically decreasing produ...    0   \n",
       "9223778        1. A computer-implemented method for the monit...    0   \n",
       "9223830        1. A system for presentation analysis, the sys...    1   \n",
       "9223831        1. A networked based computing system for retr...   11   \n",
       "9223838        1. A method comprising, by a computing device:...    2   \n",
       "9223895        1. A method implemented on at least one machin...    1   \n",
       "9223904        1. A method performed in an electronic device,...    0   \n",
       "9223955        1. A device comprising: a hardware processor; ...   10   \n",
       "9223967        1. A microprocessor comprising: at least one i...    7   \n",
       "9224043        1. A map generation method comprising: obtaini...    2   \n",
       "9224096        1. A method for a device to self-assess a stat...   22   \n",
       "9224119        1. A method to architect and define extensible...    4   \n",
       "9224173        1. A method comprising: establishing a communi...    3   \n",
       "9224196        1. A method for determining authenticity, comp...   10   \n",
       "\n",
       "               TC5_digitized  class  \n",
       "patent_number                        \n",
       "9222639                    0   1534  \n",
       "9223301                    0   1879  \n",
       "9223451                    0   1907  \n",
       "9223461                    0   1907  \n",
       "9223476                    0   1907  \n",
       "9223499                    0   1907  \n",
       "9223561                    1   1910  \n",
       "9223562                    0   1910  \n",
       "9223581                    0   1915  \n",
       "9223586                    0   1911  \n",
       "9223621                    0   1911  \n",
       "9223713                    0   1913  \n",
       "9223721                    0   1913  \n",
       "9223755                    0   1917  \n",
       "9223778                    0   1921  \n",
       "9223830                    0   1921  \n",
       "9223831                    0   1916  \n",
       "9223838                    0   1916  \n",
       "9223895                    0   1916  \n",
       "9223904                    0   1920  \n",
       "9223955                    0   1959  \n",
       "9223967                    0   1919  \n",
       "9224043                    0   1885  \n",
       "9224096                    1   1933  \n",
       "9224119                    0   1910  \n",
       "9224173                    0   2349  \n",
       "9224196                    0   1958  "
      ]
     },
     "execution_count": 457,
     "metadata": {},
     "output_type": "execute_result"
    }
   ],
   "source": [
    "tech_dataset.data.loc[target_pns]"
   ]
  },
  {
   "cell_type": "code",
   "execution_count": 458,
   "metadata": {
    "ExecuteTime": {
     "end_time": "2025-06-09T21:30:07.132575Z",
     "start_time": "2025-06-09T21:30:07.011728Z"
    }
   },
   "outputs": [],
   "source": [
    "target_pns = np.array([\"6983071\", \"6983272\", \"9223967\", \"9224096\"])"
   ]
  },
  {
   "cell_type": "code",
   "execution_count": 801,
   "metadata": {
    "ExecuteTime": {
     "end_time": "2025-06-10T03:03:59.215418Z",
     "start_time": "2025-06-10T03:03:59.177629Z"
    }
   },
   "outputs": [
    {
     "data": {
      "text/html": [
       "<div>\n",
       "<style scoped>\n",
       "    .dataframe tbody tr th:only-of-type {\n",
       "        vertical-align: middle;\n",
       "    }\n",
       "\n",
       "    .dataframe tbody tr th {\n",
       "        vertical-align: top;\n",
       "    }\n",
       "\n",
       "    .dataframe thead th {\n",
       "        text-align: right;\n",
       "    }\n",
       "</style>\n",
       "<table border=\"1\" class=\"dataframe\">\n",
       "  <thead>\n",
       "    <tr style=\"text-align: right;\">\n",
       "      <th></th>\n",
       "      <th>patent_number</th>\n",
       "      <th>main_class</th>\n",
       "      <th>sub_class</th>\n",
       "      <th>patent_classes</th>\n",
       "      <th>claims</th>\n",
       "      <th>TC5</th>\n",
       "      <th>TC5_digitized</th>\n",
       "      <th>class</th>\n",
       "    </tr>\n",
       "    <tr>\n",
       "      <th>patent_number</th>\n",
       "      <th></th>\n",
       "      <th></th>\n",
       "      <th></th>\n",
       "      <th></th>\n",
       "      <th></th>\n",
       "      <th></th>\n",
       "      <th></th>\n",
       "      <th></th>\n",
       "    </tr>\n",
       "  </thead>\n",
       "  <tbody>\n",
       "    <tr>\n",
       "      <th>6983071</th>\n",
       "      <td>6983071</td>\n",
       "      <td>[G06V030, G06V030, G06V010, G06V010]</td>\n",
       "      <td>[G06V030]</td>\n",
       "      <td>[G06V030, G06V030, G06V010, G06V010, G06V030]</td>\n",
       "      <td>1. A character segmentation device for removin...</td>\n",
       "      <td>0</td>\n",
       "      <td>0</td>\n",
       "      <td>1958</td>\n",
       "    </tr>\n",
       "    <tr>\n",
       "      <th>6983272</th>\n",
       "      <td>6983272</td>\n",
       "      <td>[G06Q030, G06Q030, G06Q030, G06Q030, G06Q050, ...</td>\n",
       "      <td>[Y10S707, Y10S707, Y10S707, Y10S707, Y10S707]</td>\n",
       "      <td>[G06Q030, G06Q030, G06Q030, G06Q030, G06Q050, ...</td>\n",
       "      <td>1. A method of generating a result list in res...</td>\n",
       "      <td>38</td>\n",
       "      <td>1</td>\n",
       "      <td>1941</td>\n",
       "    </tr>\n",
       "    <tr>\n",
       "      <th>9223967</th>\n",
       "      <td>9223967</td>\n",
       "      <td>[G06F021, G06F009, G06F009, G06F009, G06F021, ...</td>\n",
       "      <td>[G06F011, G06F011]</td>\n",
       "      <td>[G06F021, G06F009, G06F009, G06F009, G06F021, ...</td>\n",
       "      <td>1. A microprocessor comprising: at least one i...</td>\n",
       "      <td>7</td>\n",
       "      <td>0</td>\n",
       "      <td>1919</td>\n",
       "    </tr>\n",
       "    <tr>\n",
       "      <th>9224096</th>\n",
       "      <td>9224096</td>\n",
       "      <td>[G06N003, H04W004, H04W004, G06F021, G06Q010, ...</td>\n",
       "      <td>[G08B013, H04W004]</td>\n",
       "      <td>[G06N003, H04W004, H04W004, G06F021, G06Q010, ...</td>\n",
       "      <td>1. A method for a device to self-assess a stat...</td>\n",
       "      <td>22</td>\n",
       "      <td>1</td>\n",
       "      <td>1933</td>\n",
       "    </tr>\n",
       "  </tbody>\n",
       "</table>\n",
       "</div>"
      ],
      "text/plain": [
       "               patent_number  \\\n",
       "patent_number                  \n",
       "6983071              6983071   \n",
       "6983272              6983272   \n",
       "9223967              9223967   \n",
       "9224096              9224096   \n",
       "\n",
       "                                                      main_class  \\\n",
       "patent_number                                                      \n",
       "6983071                     [G06V030, G06V030, G06V010, G06V010]   \n",
       "6983272        [G06Q030, G06Q030, G06Q030, G06Q030, G06Q050, ...   \n",
       "9223967        [G06F021, G06F009, G06F009, G06F009, G06F021, ...   \n",
       "9224096        [G06N003, H04W004, H04W004, G06F021, G06Q010, ...   \n",
       "\n",
       "                                                   sub_class  \\\n",
       "patent_number                                                  \n",
       "6983071                                            [G06V030]   \n",
       "6983272        [Y10S707, Y10S707, Y10S707, Y10S707, Y10S707]   \n",
       "9223967                                   [G06F011, G06F011]   \n",
       "9224096                                   [G08B013, H04W004]   \n",
       "\n",
       "                                                  patent_classes  \\\n",
       "patent_number                                                      \n",
       "6983071            [G06V030, G06V030, G06V010, G06V010, G06V030]   \n",
       "6983272        [G06Q030, G06Q030, G06Q030, G06Q030, G06Q050, ...   \n",
       "9223967        [G06F021, G06F009, G06F009, G06F009, G06F021, ...   \n",
       "9224096        [G06N003, H04W004, H04W004, G06F021, G06Q010, ...   \n",
       "\n",
       "                                                          claims  TC5  \\\n",
       "patent_number                                                           \n",
       "6983071        1. A character segmentation device for removin...    0   \n",
       "6983272        1. A method of generating a result list in res...   38   \n",
       "9223967        1. A microprocessor comprising: at least one i...    7   \n",
       "9224096        1. A method for a device to self-assess a stat...   22   \n",
       "\n",
       "               TC5_digitized  class  \n",
       "patent_number                        \n",
       "6983071                    0   1958  \n",
       "6983272                    1   1941  \n",
       "9223967                    0   1919  \n",
       "9224096                    1   1933  "
      ]
     },
     "execution_count": 801,
     "metadata": {},
     "output_type": "execute_result"
    }
   ],
   "source": [
    "tech_dataset.data.loc[target_pns]"
   ]
  },
  {
   "cell_type": "code",
   "execution_count": 874,
   "metadata": {
    "ExecuteTime": {
     "end_time": "2025-06-10T03:11:59.659471Z",
     "start_time": "2025-06-10T03:11:59.641500Z"
    }
   },
   "outputs": [
    {
     "data": {
      "text/plain": [
       "{'G06V010', 'G06V030'}"
      ]
     },
     "execution_count": 874,
     "metadata": {},
     "output_type": "execute_result"
    }
   ],
   "source": [
    "set(tech_dataset.data.loc[\"6983071\"][\"patent_classes\"])"
   ]
  },
  {
   "cell_type": "code",
   "execution_count": 876,
   "metadata": {
    "ExecuteTime": {
     "end_time": "2025-06-10T03:12:02.945174Z",
     "start_time": "2025-06-10T03:12:02.909386Z"
    },
    "scrolled": false
   },
   "outputs": [
    {
     "data": {
      "text/html": [
       "<div>\n",
       "<style scoped>\n",
       "    .dataframe tbody tr th:only-of-type {\n",
       "        vertical-align: middle;\n",
       "    }\n",
       "\n",
       "    .dataframe tbody tr th {\n",
       "        vertical-align: top;\n",
       "    }\n",
       "\n",
       "    .dataframe thead th {\n",
       "        text-align: right;\n",
       "    }\n",
       "</style>\n",
       "<table border=\"1\" class=\"dataframe\">\n",
       "  <thead>\n",
       "    <tr style=\"text-align: right;\">\n",
       "      <th></th>\n",
       "      <th>patent_number</th>\n",
       "      <th>patent_number.1</th>\n",
       "      <th>forward_refs</th>\n",
       "      <th>application_year_forward_refs</th>\n",
       "      <th>citing_years</th>\n",
       "      <th>granted_date</th>\n",
       "      <th>granted_year</th>\n",
       "      <th>main_cpc</th>\n",
       "      <th>sub_cpc</th>\n",
       "      <th>main_ipc</th>\n",
       "      <th>...</th>\n",
       "      <th>2013</th>\n",
       "      <th>2014</th>\n",
       "      <th>2015</th>\n",
       "      <th>2016</th>\n",
       "      <th>2017</th>\n",
       "      <th>2018</th>\n",
       "      <th>2019</th>\n",
       "      <th>2020</th>\n",
       "      <th>2021</th>\n",
       "      <th>2022</th>\n",
       "    </tr>\n",
       "  </thead>\n",
       "  <tbody>\n",
       "    <tr>\n",
       "      <th>3</th>\n",
       "      <td>6983071</td>\n",
       "      <td>6983071</td>\n",
       "      <td>8675968</td>\n",
       "      <td>2009</td>\n",
       "      <td>['2014']</td>\n",
       "      <td>2006-01-03</td>\n",
       "      <td>2006</td>\n",
       "      <td>G06V30/155;G06V30/1444;G06V10/22;G06V10/273</td>\n",
       "      <td>G06V30/10</td>\n",
       "      <td>[\"G06K9/34 20060101 G06K009/34\"]</td>\n",
       "      <td>...</td>\n",
       "      <td>0</td>\n",
       "      <td>1</td>\n",
       "      <td>0</td>\n",
       "      <td>0</td>\n",
       "      <td>0</td>\n",
       "      <td>0</td>\n",
       "      <td>0</td>\n",
       "      <td>0</td>\n",
       "      <td>0</td>\n",
       "      <td>0</td>\n",
       "    </tr>\n",
       "  </tbody>\n",
       "</table>\n",
       "<p>1 rows × 62 columns</p>\n",
       "</div>"
      ],
      "text/plain": [
       "   patent_number  patent_number.1 forward_refs application_year_forward_refs  \\\n",
       "3        6983071          6983071      8675968                          2009   \n",
       "\n",
       "  citing_years granted_date  granted_year  \\\n",
       "3     ['2014']   2006-01-03          2006   \n",
       "\n",
       "                                      main_cpc    sub_cpc  \\\n",
       "3  G06V30/155;G06V30/1444;G06V10/22;G06V10/273  G06V30/10   \n",
       "\n",
       "                           main_ipc  ... 2013 2014 2015 2016 2017  2018  2019  \\\n",
       "3  [\"G06K9/34 20060101 G06K009/34\"]  ...    0    1    0    0    0     0     0   \n",
       "\n",
       "   2020  2021  2022  \n",
       "3     0     0     0  \n",
       "\n",
       "[1 rows x 62 columns]"
      ]
     },
     "execution_count": 876,
     "metadata": {},
     "output_type": "execute_result"
    }
   ],
   "source": [
    "tech_dataset.rawdata[tech_dataset.rawdata[\"patent_number\"]==6983071]"
   ]
  },
  {
   "cell_type": "code",
   "execution_count": 877,
   "metadata": {
    "ExecuteTime": {
     "end_time": "2025-06-10T03:12:04.187411Z",
     "start_time": "2025-06-10T03:12:04.174270Z"
    }
   },
   "outputs": [
    {
     "data": {
      "text/plain": [
       "array([     2,     91, 133314, 133218])"
      ]
     },
     "execution_count": 877,
     "metadata": {},
     "output_type": "execute_result"
    }
   ],
   "source": [
    "tech_dataset.data.index.get_indexer(pd.Index(target_pns))"
   ]
  },
  {
   "cell_type": "code",
   "execution_count": 1,
   "metadata": {
    "ExecuteTime": {
     "end_time": "2025-06-10T18:10:07.524424Z",
     "start_time": "2025-06-10T18:10:07.490617Z"
    }
   },
   "outputs": [],
   "source": [
    "idx = 2"
   ]
  },
  {
   "cell_type": "code",
   "execution_count": 880,
   "metadata": {
    "ExecuteTime": {
     "end_time": "2025-06-10T03:12:13.914628Z",
     "start_time": "2025-06-10T03:12:13.580764Z"
    }
   },
   "outputs": [
    {
     "name": "stdout",
     "output_type": "stream",
     "text": [
      "0.2665\n",
      "{'G06K019', 'H04W004', 'G06Q010', 'G06F021', 'G06K007'}\n"
     ]
    }
   ],
   "source": [
    "input_class = torch.tensor(tech_dataset.tokenizers[\"class_enc\"].encode(tech_dataset.X_class[idx])).unsqueeze(0)\n",
    "input_claim = tech_dataset.tokenize(tech_dataset.tokenizers[\"claim_enc\"], tech_dataset.X_claim[idx])\n",
    "input_claim = {k: v.unsqueeze(0) for k, v in input_claim.items()}\n",
    "batch_input = {\"class\": torch.tensor(input_class), \"claim\": input_claim}\n",
    "input_inf = to_device(batch_input, model.device)\n",
    "\n",
    "output_class = torch.tensor(tech_dataset.tokenizers[\"class_dec\"].encode(tech_dataset.X_class[idx])).unsqueeze(0)\n",
    "batch_output = {\"text_outputs\": torch.tensor(output_class)}\n",
    "output_inf = to_device(batch_output, model.device)\n",
    "\n",
    "enc_outputs, z, mu, logvar = model.encode(input_inf)\n",
    "\n",
    "pred_outputs = model.predict(z)\n",
    "z.retain_grad()\n",
    "FC_estimated = np.round(np.exp(pred_outputs[0,1].item()), 4) # estimated forward citations\n",
    "FC_estimated_inv = np.round(np.exp(pred_outputs[0,0].item()), 4)\n",
    "\n",
    "dec_outputs = model.decode(z_, enc_outputs, dec_inputs=None)\n",
    "dec_outputs = dec_outputs.argmax(-1)\n",
    "\n",
    "tokenizer = tech_dataset.tokenizers[\"class_dec\"]\n",
    "gen_text = tokenizer.decode_batch(dec_outputs.cpu().detach().numpy())[0]\n",
    "if tokenizer.eos_token in gen_text:\n",
    "    gen_text = gen_text[gen_text.index(tokenizer.sos_token)+1:gen_text.index(tokenizer.eos_token)]\n",
    "else:\n",
    "    gen_text = gen_text[gen_text.index(tokenizer.sos_token)+1:]\n",
    "if gen_text != []:\n",
    "    gen_text = [gen_text[0]] + list(np.array(gen_text[1:])[np.unique(gen_text[1:], return_index=True)[1]])                \n",
    "    gen_text = set(gen_text)\n",
    "    \n",
    "    \n",
    "print(FC_estimated)\n",
    "print(gen_text)"
   ]
  },
  {
   "cell_type": "code",
   "execution_count": 881,
   "metadata": {
    "ExecuteTime": {
     "end_time": "2025-06-10T03:12:23.396336Z",
     "start_time": "2025-06-10T03:12:15.391647Z"
    },
    "scrolled": false
   },
   "outputs": [
    {
     "name": "stdout",
     "output_type": "stream",
     "text": [
      "Iteration 0, Generated IPC {'G06V010', 'G06V030'}, L1 prob 0.3357\n",
      "Iteration 1, Generated IPC {'G06V010', 'G06V030'}, L1 prob 0.6907\n",
      "Iteration 2, Generated IPC {'G06V010', 'G06V030'}, L1 prob 0.8328\n",
      "Iteration 3, Generated IPC {'G06V010', 'G06V030', 'G06F016'}, L1 prob 0.8672\n",
      "Iteration 4, Generated IPC {'G06V010', 'G06V030', 'G06F016'}, L1 prob 0.891\n",
      "Iteration 5, Generated IPC {'G06V010', 'G06V030', 'G06F016'}, L1 prob 0.908\n",
      "Iteration 6, Generated IPC {'G06V010', 'G06V030', 'G06F016'}, L1 prob 0.9207\n",
      "Iteration 7, Generated IPC {'G06V010', 'G06V030', 'G06F016'}, L1 prob 0.9305\n",
      "Iteration 8, Generated IPC {'G06V010', 'G06V030', 'G06F016'}, L1 prob 0.9382\n",
      "Iteration 9, Generated IPC {'G06V010', 'G06V030', 'G06F016'}, L1 prob 0.9444\n",
      "Iteration 10, Generated IPC {'G06V010', 'G06V030', 'G06F016'}, L1 prob 0.9496\n",
      "Iteration 11, Generated IPC {'G06V010', 'G06V030', 'G06F016'}, L1 prob 0.9551\n",
      "Iteration 12, Generated IPC {'G06V010', 'G06V030', 'G06F016'}, L1 prob 0.9596\n",
      "Iteration 13, Generated IPC {'G06V010', 'G06V030', 'G06F016'}, L1 prob 0.9633\n",
      "Iteration 14, Generated IPC {'G06V010', 'G06V030', 'G06F016'}, L1 prob 0.9663\n",
      "Iteration 15, Generated IPC {'G06V010', 'G06V030', 'G06F016'}, L1 prob 0.9689\n",
      "Iteration 16, Generated IPC {'G06V010', 'G06V030', 'G06F016'}, L1 prob 0.9712\n",
      "Iteration 17, Generated IPC {'G06V010', 'G06V030', 'G06F016'}, L1 prob 0.9731\n",
      "Iteration 18, Generated IPC {'G06V010', 'G06V030', 'G06F016'}, L1 prob 0.9748\n",
      "Iteration 19, Generated IPC {'G06V010', 'G06V030', 'G06F016'}, L1 prob 0.9763\n",
      "Iteration 20, Generated IPC {'G06V010', 'G06V030', 'G06F016'}, L1 prob 0.9776\n",
      "Iteration 21, Generated IPC {'G06V010', 'G06V030', 'G06F016'}, L1 prob 0.9788\n",
      "Iteration 22, Generated IPC {'G06V010', 'G06V030', 'G06F016'}, L1 prob 0.9799\n",
      "Iteration 23, Generated IPC {'G06V010', 'G06V030', 'G06F016'}, L1 prob 0.9808\n",
      "Iteration 24, Generated IPC {'G06V010', 'G06V030', 'G06F016'}, L1 prob 0.9817\n",
      "Iteration 25, Generated IPC {'G06V010', 'G06V030', 'G06F016'}, L1 prob 0.9825\n",
      "Iteration 26, Generated IPC {'G06V010', 'G06V030', 'G06F016'}, L1 prob 0.9833\n",
      "Iteration 27, Generated IPC {'G06V010', 'G06V030', 'G06F016'}, L1 prob 0.9839\n",
      "Iteration 28, Generated IPC {'G06V010', 'G06V030', 'G06F016'}, L1 prob 0.9846\n",
      "Iteration 29, Generated IPC {'G06V010', 'G06V030', 'G06F016'}, L1 prob 0.9851\n",
      "Iteration 30, Generated IPC {'G06V010', 'G06V030', 'G06F016'}, L1 prob 0.9857\n"
     ]
    }
   ],
   "source": [
    "step_size = 7\n",
    "\n",
    "while 1:\n",
    "    i = 0\n",
    "    enc_outputs, z, mu, logvar = model.encode(input_inf)\n",
    "    pred_outputs = model.predict(z)\n",
    "\n",
    "    dec_outputs = model.decode(z, enc_outputs, dec_inputs=None)\n",
    "    dec_outputs = dec_outputs.argmax(-1)\n",
    "\n",
    "    tokenizer = tech_dataset.tokenizers[\"class_dec\"]\n",
    "    gen_text = tokenizer.decode_batch(dec_outputs.cpu().detach().numpy())[0]\n",
    "\n",
    "    if tokenizer.eos_token in gen_text:\n",
    "        gen_text = gen_text[gen_text.index(tokenizer.sos_token)+1:gen_text.index(tokenizer.eos_token)]\n",
    "    else:\n",
    "        gen_text = gen_text[gen_text.index(tokenizer.sos_token)+1:]\n",
    "    if gen_text != []:\n",
    "        gen_text = [gen_text[0]] + list(np.array(gen_text[1:])[np.unique(gen_text[1:], return_index=True)[1]])                \n",
    "        gen_text = set(gen_text)\n",
    "\n",
    "    FC_estimated = np.round(np.exp(pred_outputs[0,1].item()), 4)\n",
    "#     if FC_estimated > 0.7: continue\n",
    "\n",
    "    print(f\"Iteration 0, Generated IPC {gen_text}, L1 prob {FC_estimated}\")\n",
    "\n",
    "    inclusions = [None, None, None, None]\n",
    "    higher_impacts = [None, None, None, None]\n",
    "    similar_refs_out = [None, None, None, None]\n",
    "    unsimilar_refs_out = [None, None, None, None]\n",
    "\n",
    "    optimised = False\n",
    "    for i in range(1,n_iter+1):\n",
    "        pred_outputs = model.predict(z)\n",
    "        z.retain_grad()\n",
    "        L1_error = (1-torch.exp(pred_outputs[0,1]))\n",
    "        L1_error.backward(retain_graph=True)\n",
    "        grad_for_update = (step_size * z.grad)\n",
    "        z_ = z - grad_for_update\n",
    "\n",
    "        z.grad.zero_()\n",
    "        dec_outputs = model.decode(z_, enc_outputs, dec_inputs=None)\n",
    "        dec_outputs = dec_outputs.argmax(-1)\n",
    "\n",
    "        pred_outputs_ = model.predict(z_)\n",
    "        FC_estimated = np.round(np.exp(pred_outputs_[0,1].item()), 4) # estimated forward citations\n",
    "        FC_estimated_inv = np.round(np.exp(pred_outputs_[0,0].item()), 4)\n",
    "\n",
    "        tokenizer = tech_dataset.tokenizers[\"class_dec\"]\n",
    "        gen_text = tokenizer.decode_batch(dec_outputs.cpu().detach().numpy())[0]\n",
    "        if tokenizer.eos_token in gen_text:\n",
    "            gen_text = gen_text[gen_text.index(tokenizer.sos_token)+1:gen_text.index(tokenizer.eos_token)]\n",
    "        else:\n",
    "            gen_text = gen_text[gen_text.index(tokenizer.sos_token)+1:]\n",
    "        if gen_text != []:\n",
    "            gen_text = [gen_text[0]] + list(np.array(gen_text[1:])[np.unique(gen_text[1:], return_index=True)[1]])                \n",
    "            gen_text = set(gen_text)\n",
    "        else: continue\n",
    "\n",
    "        print(f\"Iteration {i}, Generated IPC {gen_text}, L1 prob {FC_estimated}\")\n",
    "\n",
    "        z = z_\n",
    "\n",
    "        if FC_estimated>=L1_threshold:\n",
    "            optimised = True\n",
    "            \n",
    "    break"
   ]
  },
  {
   "cell_type": "markdown",
   "metadata": {},
   "source": [
    "## descriptive statistics"
   ]
  },
  {
   "cell_type": "code",
   "execution_count": 467,
   "metadata": {
    "ExecuteTime": {
     "end_time": "2025-06-09T21:30:17.199222Z",
     "start_time": "2025-06-09T21:30:17.188425Z"
    },
    "scrolled": true
   },
   "outputs": [
    {
     "data": {
      "text/plain": [
       "count     18.000000\n",
       "mean      50.222222\n",
       "std       40.493363\n",
       "min       17.000000\n",
       "25%       22.250000\n",
       "50%       35.000000\n",
       "75%       63.250000\n",
       "max      153.000000\n",
       "Name: ref_FC, dtype: float64"
      ]
     },
     "execution_count": 467,
     "metadata": {},
     "output_type": "execute_result"
    }
   ],
   "source": [
    "df_val[df_val[\"is_same\"]==0][df_val[df_val[\"is_same\"]==0][\"ref_FC\"]>=L1_criterion][\"ref_FC\"].astype(int).describe()"
   ]
  },
  {
   "cell_type": "code",
   "execution_count": 468,
   "metadata": {
    "ExecuteTime": {
     "end_time": "2025-06-09T21:30:17.323535Z",
     "start_time": "2025-06-09T21:30:17.201095Z"
    }
   },
   "outputs": [
    {
     "data": {
      "text/plain": [
       "count    18.000000\n",
       "mean      0.882822\n",
       "std       0.112677\n",
       "min       0.690265\n",
       "25%       0.782831\n",
       "50%       0.900309\n",
       "75%       1.000000\n",
       "max       1.000000\n",
       "Name: ref_FC_rank, dtype: float64"
      ]
     },
     "execution_count": 468,
     "metadata": {},
     "output_type": "execute_result"
    }
   ],
   "source": [
    "df_val[df_val[\"is_same\"]==0][df_val[df_val[\"is_same\"]==0][\"ref_FC\"]>=L1_criterion][\"ref_FC_rank\"].describe()"
   ]
  },
  {
   "cell_type": "code",
   "execution_count": 469,
   "metadata": {
    "ExecuteTime": {
     "end_time": "2025-06-09T21:30:17.414605Z",
     "start_time": "2025-06-09T21:30:17.325393Z"
    },
    "scrolled": false
   },
   "outputs": [],
   "source": [
    "# ## 인용 IPC 중 생성 IPC와 동일한 게 있으면서, 입력 IPC와 생성 IPC가 다르고, 피인용수가 전체 데이터셋의 L1 기준인 9 이상인 샘플\n",
    "# df_val[df_val[\"is_same\"]==0][df_val[df_val[\"is_same\"]==0][\"ref_FC\"]>=L1_criterion]"
   ]
  },
  {
   "cell_type": "markdown",
   "metadata": {},
   "source": [
    "- Patent_matched 전체"
   ]
  },
  {
   "cell_type": "code",
   "execution_count": 470,
   "metadata": {
    "ExecuteTime": {
     "end_time": "2025-06-09T21:30:17.544494Z",
     "start_time": "2025-06-09T21:30:17.417736Z"
    },
    "scrolled": true
   },
   "outputs": [
    {
     "data": {
      "text/plain": [
       "count    730.000000\n",
       "mean      23.068493\n",
       "std       53.970380\n",
       "min        0.000000\n",
       "25%        1.000000\n",
       "50%        3.500000\n",
       "75%       14.000000\n",
       "max      421.000000\n",
       "Name: ref_FC, dtype: float64"
      ]
     },
     "execution_count": 470,
     "metadata": {},
     "output_type": "execute_result"
    }
   ],
   "source": [
    "df_val[\"ref_FC\"].astype(float).describe()"
   ]
  },
  {
   "cell_type": "code",
   "execution_count": 471,
   "metadata": {
    "ExecuteTime": {
     "end_time": "2025-06-09T21:30:17.664340Z",
     "start_time": "2025-06-09T21:30:17.547101Z"
    }
   },
   "outputs": [
    {
     "data": {
      "text/plain": [
       "count    730.000000\n",
       "mean       0.590544\n",
       "std        0.292384\n",
       "min        0.035088\n",
       "25%        0.333333\n",
       "50%        0.607143\n",
       "75%        0.851389\n",
       "max        1.000000\n",
       "Name: ref_FC_rank, dtype: float64"
      ]
     },
     "execution_count": 471,
     "metadata": {},
     "output_type": "execute_result"
    }
   ],
   "source": [
    "df_val[\"ref_FC_rank\"].astype(float).describe()"
   ]
  },
  {
   "cell_type": "markdown",
   "metadata": {},
   "source": [
    "- IPC_original == IPC_identified"
   ]
  },
  {
   "cell_type": "code",
   "execution_count": 472,
   "metadata": {
    "ExecuteTime": {
     "end_time": "2025-06-09T21:30:17.796635Z",
     "start_time": "2025-06-09T21:30:17.667073Z"
    },
    "scrolled": false
   },
   "outputs": [
    {
     "data": {
      "text/plain": [
       "count    669.000000\n",
       "mean      23.630792\n",
       "std       55.587523\n",
       "min        0.000000\n",
       "25%        1.000000\n",
       "50%        3.000000\n",
       "75%       13.000000\n",
       "max      421.000000\n",
       "Name: ref_FC, dtype: float64"
      ]
     },
     "execution_count": 472,
     "metadata": {},
     "output_type": "execute_result"
    }
   ],
   "source": [
    "df_val[df_val[\"is_same\"]==1][\"ref_FC\"].astype(int).describe()"
   ]
  },
  {
   "cell_type": "code",
   "execution_count": 473,
   "metadata": {
    "ExecuteTime": {
     "end_time": "2025-06-09T21:30:17.920462Z",
     "start_time": "2025-06-09T21:30:17.800439Z"
    },
    "scrolled": true
   },
   "outputs": [
    {
     "data": {
      "text/plain": [
       "count    669.000000\n",
       "mean       0.590445\n",
       "std        0.291475\n",
       "min        0.035088\n",
       "25%        0.333333\n",
       "50%        0.607143\n",
       "75%        0.846154\n",
       "max        1.000000\n",
       "Name: ref_FC_rank, dtype: float64"
      ]
     },
     "execution_count": 473,
     "metadata": {},
     "output_type": "execute_result"
    }
   ],
   "source": [
    "df_val[df_val[\"is_same\"]==1][\"ref_FC_rank\"].astype(float).describe()"
   ]
  },
  {
   "cell_type": "markdown",
   "metadata": {},
   "source": [
    "- IPC_original != IPC_identified"
   ]
  },
  {
   "cell_type": "code",
   "execution_count": 474,
   "metadata": {
    "ExecuteTime": {
     "end_time": "2025-06-09T21:30:18.051171Z",
     "start_time": "2025-06-09T21:30:17.924718Z"
    }
   },
   "outputs": [
    {
     "data": {
      "text/plain": [
       "count     61.000000\n",
       "mean      16.901639\n",
       "std       30.767789\n",
       "min        0.000000\n",
       "25%        1.000000\n",
       "50%        4.000000\n",
       "75%       20.000000\n",
       "max      153.000000\n",
       "Name: ref_FC, dtype: float64"
      ]
     },
     "execution_count": 474,
     "metadata": {},
     "output_type": "execute_result"
    }
   ],
   "source": [
    "df_val[df_val[\"is_same\"]==0][\"ref_FC\"].astype(int).describe()"
   ]
  },
  {
   "cell_type": "code",
   "execution_count": 475,
   "metadata": {
    "ExecuteTime": {
     "end_time": "2025-06-09T21:30:18.153580Z",
     "start_time": "2025-06-09T21:30:18.055272Z"
    },
    "scrolled": false
   },
   "outputs": [
    {
     "data": {
      "text/plain": [
       "count    61.000000\n",
       "mean      0.591630\n",
       "std       0.304668\n",
       "min       0.066372\n",
       "25%       0.312500\n",
       "50%       0.613636\n",
       "75%       0.874016\n",
       "max       1.000000\n",
       "Name: ref_FC_rank, dtype: float64"
      ]
     },
     "execution_count": 475,
     "metadata": {},
     "output_type": "execute_result"
    }
   ],
   "source": [
    "df_val[df_val[\"is_same\"]==0][\"ref_FC_rank\"].astype(float).describe()"
   ]
  },
  {
   "cell_type": "code",
   "execution_count": 476,
   "metadata": {
    "ExecuteTime": {
     "end_time": "2025-06-09T21:31:25.280021Z",
     "start_time": "2025-06-09T21:31:25.244458Z"
    }
   },
   "outputs": [
    {
     "data": {
      "text/html": [
       "<div>\n",
       "<style scoped>\n",
       "    .dataframe tbody tr th:only-of-type {\n",
       "        vertical-align: middle;\n",
       "    }\n",
       "\n",
       "    .dataframe tbody tr th {\n",
       "        vertical-align: top;\n",
       "    }\n",
       "\n",
       "    .dataframe thead th {\n",
       "        text-align: right;\n",
       "    }\n",
       "</style>\n",
       "<table border=\"1\" class=\"dataframe\">\n",
       "  <thead>\n",
       "    <tr style=\"text-align: right;\">\n",
       "      <th></th>\n",
       "      <th>patent_number</th>\n",
       "      <th>main_class</th>\n",
       "      <th>sub_class</th>\n",
       "      <th>patent_classes</th>\n",
       "      <th>claims</th>\n",
       "      <th>TC5</th>\n",
       "      <th>TC5_digitized</th>\n",
       "      <th>class</th>\n",
       "    </tr>\n",
       "    <tr>\n",
       "      <th>patent_number</th>\n",
       "      <th></th>\n",
       "      <th></th>\n",
       "      <th></th>\n",
       "      <th></th>\n",
       "      <th></th>\n",
       "      <th></th>\n",
       "      <th></th>\n",
       "      <th></th>\n",
       "    </tr>\n",
       "  </thead>\n",
       "  <tbody>\n",
       "    <tr>\n",
       "      <th>6983309</th>\n",
       "      <td>6983309</td>\n",
       "      <td>[G06Q010, H04L063, H04L063, G06Q020, G06Q020, ...</td>\n",
       "      <td>[Y10S707, Y10S707, H04L051]</td>\n",
       "      <td>[G06Q010, H04L063, H04L063, G06Q020, G06Q020, ...</td>\n",
       "      <td>1. An electronic apparatus comprising: a trans...</td>\n",
       "      <td>8</td>\n",
       "      <td>0</td>\n",
       "      <td>1939</td>\n",
       "    </tr>\n",
       "    <tr>\n",
       "      <th>6982420</th>\n",
       "      <td>6982420</td>\n",
       "      <td>[H01J037, G06V020]</td>\n",
       "      <td>[]</td>\n",
       "      <td>[H01J037, G06V020]</td>\n",
       "      <td>1. A sample observation method comprising a st...</td>\n",
       "      <td>1</td>\n",
       "      <td>0</td>\n",
       "      <td>2157</td>\n",
       "    </tr>\n",
       "    <tr>\n",
       "      <th>6983071</th>\n",
       "      <td>6983071</td>\n",
       "      <td>[G06V030, G06V030, G06V010, G06V010]</td>\n",
       "      <td>[G06V030]</td>\n",
       "      <td>[G06V030, G06V030, G06V010, G06V010, G06V030]</td>\n",
       "      <td>1. A character segmentation device for removin...</td>\n",
       "      <td>0</td>\n",
       "      <td>0</td>\n",
       "      <td>1958</td>\n",
       "    </tr>\n",
       "    <tr>\n",
       "      <th>6982717</th>\n",
       "      <td>6982717</td>\n",
       "      <td>[G06T005]</td>\n",
       "      <td>[]</td>\n",
       "      <td>[G06T005]</td>\n",
       "      <td>1. A game apparatus comprising: an image gener...</td>\n",
       "      <td>0</td>\n",
       "      <td>0</td>\n",
       "      <td>1948</td>\n",
       "    </tr>\n",
       "    <tr>\n",
       "      <th>6983073</th>\n",
       "      <td>6983073</td>\n",
       "      <td>[G06T005, G06T005, G06T005]</td>\n",
       "      <td>[]</td>\n",
       "      <td>[G06T005, G06T005, G06T005]</td>\n",
       "      <td>1. A method for recovering an image defined as...</td>\n",
       "      <td>1</td>\n",
       "      <td>0</td>\n",
       "      <td>1948</td>\n",
       "    </tr>\n",
       "    <tr>\n",
       "      <th>...</th>\n",
       "      <td>...</td>\n",
       "      <td>...</td>\n",
       "      <td>...</td>\n",
       "      <td>...</td>\n",
       "      <td>...</td>\n",
       "      <td>...</td>\n",
       "      <td>...</td>\n",
       "      <td>...</td>\n",
       "    </tr>\n",
       "    <tr>\n",
       "      <th>9223620</th>\n",
       "      <td>9223620</td>\n",
       "      <td>[G06F009, G06F009]</td>\n",
       "      <td>[]</td>\n",
       "      <td>[G06F009, G06F009]</td>\n",
       "      <td>1. A data processing apparatus comprising: an ...</td>\n",
       "      <td>0</td>\n",
       "      <td>0</td>\n",
       "      <td>1911</td>\n",
       "    </tr>\n",
       "    <tr>\n",
       "      <th>9223405</th>\n",
       "      <td>9223405</td>\n",
       "      <td>[G06F003, G06F003]</td>\n",
       "      <td>[G06F003]</td>\n",
       "      <td>[G06F003, G06F003, G06F003]</td>\n",
       "      <td>1. An apparatus for inputting information base...</td>\n",
       "      <td>1</td>\n",
       "      <td>0</td>\n",
       "      <td>1907</td>\n",
       "    </tr>\n",
       "    <tr>\n",
       "      <th>9225764</th>\n",
       "      <td>9225764</td>\n",
       "      <td>[G06Q030, G06F009, G06F009, H04L067, G06F009]</td>\n",
       "      <td>[G06Q010, G06F009, G06Q010]</td>\n",
       "      <td>[G06Q030, G06F009, G06F009, H04L067, G06F009, ...</td>\n",
       "      <td>1. A method for executing a server application...</td>\n",
       "      <td>0</td>\n",
       "      <td>0</td>\n",
       "      <td>1941</td>\n",
       "    </tr>\n",
       "    <tr>\n",
       "      <th>9226068</th>\n",
       "      <td>9226068</td>\n",
       "      <td>[G10K011, G10K011, G10K011, G10K011, G10K011, ...</td>\n",
       "      <td>[]</td>\n",
       "      <td>[G10K011, G10K011, G10K011, G10K011, G10K011, ...</td>\n",
       "      <td>1. A personal audio system, comprising: a firs...</td>\n",
       "      <td>9</td>\n",
       "      <td>0</td>\n",
       "      <td>2042</td>\n",
       "    </tr>\n",
       "    <tr>\n",
       "      <th>9223929</th>\n",
       "      <td>9223929</td>\n",
       "      <td>[G16B005, G16B025, G16B025, G16B040, G16B040, ...</td>\n",
       "      <td>[G16B030]</td>\n",
       "      <td>[G16B005, G16B025, G16B025, G16B040, G16B040, ...</td>\n",
       "      <td>1. A method of processing affinity-based array...</td>\n",
       "      <td>7</td>\n",
       "      <td>0</td>\n",
       "      <td>2079</td>\n",
       "    </tr>\n",
       "  </tbody>\n",
       "</table>\n",
       "<p>133654 rows × 8 columns</p>\n",
       "</div>"
      ],
      "text/plain": [
       "               patent_number  \\\n",
       "patent_number                  \n",
       "6983309              6983309   \n",
       "6982420              6982420   \n",
       "6983071              6983071   \n",
       "6982717              6982717   \n",
       "6983073              6983073   \n",
       "...                      ...   \n",
       "9223620              9223620   \n",
       "9223405              9223405   \n",
       "9225764              9225764   \n",
       "9226068              9226068   \n",
       "9223929              9223929   \n",
       "\n",
       "                                                      main_class  \\\n",
       "patent_number                                                      \n",
       "6983309        [G06Q010, H04L063, H04L063, G06Q020, G06Q020, ...   \n",
       "6982420                                       [H01J037, G06V020]   \n",
       "6983071                     [G06V030, G06V030, G06V010, G06V010]   \n",
       "6982717                                                [G06T005]   \n",
       "6983073                              [G06T005, G06T005, G06T005]   \n",
       "...                                                          ...   \n",
       "9223620                                       [G06F009, G06F009]   \n",
       "9223405                                       [G06F003, G06F003]   \n",
       "9225764            [G06Q030, G06F009, G06F009, H04L067, G06F009]   \n",
       "9226068        [G10K011, G10K011, G10K011, G10K011, G10K011, ...   \n",
       "9223929        [G16B005, G16B025, G16B025, G16B040, G16B040, ...   \n",
       "\n",
       "                                 sub_class  \\\n",
       "patent_number                                \n",
       "6983309        [Y10S707, Y10S707, H04L051]   \n",
       "6982420                                 []   \n",
       "6983071                          [G06V030]   \n",
       "6982717                                 []   \n",
       "6983073                                 []   \n",
       "...                                    ...   \n",
       "9223620                                 []   \n",
       "9223405                          [G06F003]   \n",
       "9225764        [G06Q010, G06F009, G06Q010]   \n",
       "9226068                                 []   \n",
       "9223929                          [G16B030]   \n",
       "\n",
       "                                                  patent_classes  \\\n",
       "patent_number                                                      \n",
       "6983309        [G06Q010, H04L063, H04L063, G06Q020, G06Q020, ...   \n",
       "6982420                                       [H01J037, G06V020]   \n",
       "6983071            [G06V030, G06V030, G06V010, G06V010, G06V030]   \n",
       "6982717                                                [G06T005]   \n",
       "6983073                              [G06T005, G06T005, G06T005]   \n",
       "...                                                          ...   \n",
       "9223620                                       [G06F009, G06F009]   \n",
       "9223405                              [G06F003, G06F003, G06F003]   \n",
       "9225764        [G06Q030, G06F009, G06F009, H04L067, G06F009, ...   \n",
       "9226068        [G10K011, G10K011, G10K011, G10K011, G10K011, ...   \n",
       "9223929        [G16B005, G16B025, G16B025, G16B040, G16B040, ...   \n",
       "\n",
       "                                                          claims  TC5  \\\n",
       "patent_number                                                           \n",
       "6983309        1. An electronic apparatus comprising: a trans...    8   \n",
       "6982420        1. A sample observation method comprising a st...    1   \n",
       "6983071        1. A character segmentation device for removin...    0   \n",
       "6982717        1. A game apparatus comprising: an image gener...    0   \n",
       "6983073        1. A method for recovering an image defined as...    1   \n",
       "...                                                          ...  ...   \n",
       "9223620        1. A data processing apparatus comprising: an ...    0   \n",
       "9223405        1. An apparatus for inputting information base...    1   \n",
       "9225764        1. A method for executing a server application...    0   \n",
       "9226068        1. A personal audio system, comprising: a firs...    9   \n",
       "9223929        1. A method of processing affinity-based array...    7   \n",
       "\n",
       "               TC5_digitized  class  \n",
       "patent_number                        \n",
       "6983309                    0   1939  \n",
       "6982420                    0   2157  \n",
       "6983071                    0   1958  \n",
       "6982717                    0   1948  \n",
       "6983073                    0   1948  \n",
       "...                      ...    ...  \n",
       "9223620                    0   1911  \n",
       "9223405                    0   1907  \n",
       "9225764                    0   1941  \n",
       "9226068                    0   2042  \n",
       "9223929                    0   2079  \n",
       "\n",
       "[133654 rows x 8 columns]"
      ]
     },
     "execution_count": 476,
     "metadata": {},
     "output_type": "execute_result"
    }
   ],
   "source": [
    "tech_dataset.data"
   ]
  },
  {
   "cell_type": "code",
   "execution_count": 477,
   "metadata": {
    "ExecuteTime": {
     "end_time": "2025-06-09T21:33:51.326897Z",
     "start_time": "2025-06-09T21:33:51.318944Z"
    }
   },
   "outputs": [],
   "source": [
    "idx = 0"
   ]
  },
  {
   "cell_type": "code",
   "execution_count": 478,
   "metadata": {
    "ExecuteTime": {
     "end_time": "2025-06-09T21:33:57.572615Z",
     "start_time": "2025-06-09T21:33:57.557845Z"
    }
   },
   "outputs": [
    {
     "data": {
      "text/plain": [
       "index                                                              0\n",
       "patent_number                                                8423759\n",
       "patent_number.1                                              8423759\n",
       "main_class         ['H04L009', 'H04L063', 'H04L009', 'H04L009', '...\n",
       "sub_class                                                         []\n",
       "patent_classes     ['H04L009', 'H04L063', 'H04L009', 'H04L009', '...\n",
       "claims             1. A method of bootstrapping configuration for...\n",
       "TC5                                                               39\n",
       "TC5_digitized                                                      1\n",
       "class                                                           2335\n",
       "Name: 0, dtype: object"
      ]
     },
     "execution_count": 478,
     "metadata": {},
     "output_type": "execute_result"
    }
   ],
   "source": [
    "used_test_data_TC.iloc[idx]"
   ]
  },
  {
   "cell_type": "code",
   "execution_count": 479,
   "metadata": {
    "ExecuteTime": {
     "end_time": "2025-06-09T21:34:05.817902Z",
     "start_time": "2025-06-09T21:34:05.797077Z"
    }
   },
   "outputs": [
    {
     "data": {
      "text/plain": [
       "patent_number.1                                                            8423759\n",
       "forward_refs                     9178701;9954866;10110595;9258118;10601594;9985...\n",
       "application_year_forward_refs    2016;2014;2016;2016;2016;2015;2015;2015;2013;2...\n",
       "citing_years                     ['2018' '2018' '2018' '2018' '2018' '2018' '20...\n",
       "granted_date                                                            2013-04-16\n",
       "                                                       ...                        \n",
       "2018                                                                            15\n",
       "2019                                                                            11\n",
       "2020                                                                             9\n",
       "2021                                                                             2\n",
       "2022                                                                             0\n",
       "Name: 8423759, Length: 61, dtype: object"
      ]
     },
     "execution_count": 479,
     "metadata": {},
     "output_type": "execute_result"
    }
   ],
   "source": [
    "used_rawdata.loc[used_test_data_TC.iloc[idx][\"patent_number\"]]"
   ]
  },
  {
   "cell_type": "code",
   "execution_count": 481,
   "metadata": {
    "ExecuteTime": {
     "end_time": "2025-06-09T21:34:19.288224Z",
     "start_time": "2025-06-09T21:34:19.268874Z"
    }
   },
   "outputs": [],
   "source": [
    "forward_refs = used_rawdata.loc[used_test_data_TC.iloc[idx][\"patent_number\"]][\"forward_refs\"].split(\";\")"
   ]
  },
  {
   "cell_type": "code",
   "execution_count": 576,
   "metadata": {
    "ExecuteTime": {
     "end_time": "2025-06-09T22:26:29.681087Z",
     "start_time": "2025-06-09T22:26:28.788640Z"
    }
   },
   "outputs": [],
   "source": [
    "forward_refs = used_rawdata.loc[used_test_data_TC.iloc[idx][\"patent_number\"]][\"forward_refs\"].split(\";\")\n",
    "ref_info = total_data.loc[[ref for ref in forward_refs if ref in total_data.index]]"
   ]
  },
  {
   "cell_type": "code",
   "execution_count": 577,
   "metadata": {
    "ExecuteTime": {
     "end_time": "2025-06-09T22:26:30.518787Z",
     "start_time": "2025-06-09T22:26:30.483087Z"
    },
    "scrolled": true
   },
   "outputs": [
    {
     "data": {
      "text/html": [
       "<div>\n",
       "<style scoped>\n",
       "    .dataframe tbody tr th:only-of-type {\n",
       "        vertical-align: middle;\n",
       "    }\n",
       "\n",
       "    .dataframe tbody tr th {\n",
       "        vertical-align: top;\n",
       "    }\n",
       "\n",
       "    .dataframe thead th {\n",
       "        text-align: right;\n",
       "    }\n",
       "</style>\n",
       "<table border=\"1\" class=\"dataframe\">\n",
       "  <thead>\n",
       "    <tr style=\"text-align: right;\">\n",
       "      <th></th>\n",
       "      <th>patent_number</th>\n",
       "      <th>main_class</th>\n",
       "      <th>sub_class</th>\n",
       "      <th>patent_classes</th>\n",
       "      <th>claims</th>\n",
       "      <th>TC5</th>\n",
       "      <th>TC5_digitized</th>\n",
       "      <th>class</th>\n",
       "    </tr>\n",
       "    <tr>\n",
       "      <th>patent_number</th>\n",
       "      <th></th>\n",
       "      <th></th>\n",
       "      <th></th>\n",
       "      <th></th>\n",
       "      <th></th>\n",
       "      <th></th>\n",
       "      <th></th>\n",
       "      <th></th>\n",
       "    </tr>\n",
       "  </thead>\n",
       "  <tbody>\n",
       "    <tr>\n",
       "      <th>9954866</th>\n",
       "      <td>9954866</td>\n",
       "      <td>[H04L009, H04L009, H04L009, H04L063, H04L063, ...</td>\n",
       "      <td>[H04L009, H04L009]</td>\n",
       "      <td>[H04L009, H04L009, H04L009, H04L063, H04L063, ...</td>\n",
       "      <td>1. A computer-implemented method, comprising: ...</td>\n",
       "      <td>2</td>\n",
       "      <td>0</td>\n",
       "      <td>2983</td>\n",
       "    </tr>\n",
       "    <tr>\n",
       "      <th>9215076</th>\n",
       "      <td>9215076</td>\n",
       "      <td>[H04L009, H04L063, H04L009, H04L009, H04L063, ...</td>\n",
       "      <td>[H04L009]</td>\n",
       "      <td>[H04L009, H04L063, H04L009, H04L009, H04L063, ...</td>\n",
       "      <td>1. A computer-implemented method, comprising: ...</td>\n",
       "      <td>85</td>\n",
       "      <td>1</td>\n",
       "      <td>2335</td>\n",
       "    </tr>\n",
       "    <tr>\n",
       "      <th>9819654</th>\n",
       "      <td>9819654</td>\n",
       "      <td>[H04L067, H04L063, H04L063, H04L063, H04L063, ...</td>\n",
       "      <td>[H04L063]</td>\n",
       "      <td>[H04L067, H04L063, H04L063, H04L063, H04L063, ...</td>\n",
       "      <td>1. A system, comprising: one or more processor...</td>\n",
       "      <td>2</td>\n",
       "      <td>0</td>\n",
       "      <td>2998</td>\n",
       "    </tr>\n",
       "    <tr>\n",
       "      <th>9882900</th>\n",
       "      <td>9882900</td>\n",
       "      <td>[H04L063, H04L009, H04L009, H04L009, H04L063, ...</td>\n",
       "      <td>[H04L009]</td>\n",
       "      <td>[H04L063, H04L009, H04L009, H04L009, H04L063, ...</td>\n",
       "      <td>1. A computer-implemented method, comprising: ...</td>\n",
       "      <td>0</td>\n",
       "      <td>0</td>\n",
       "      <td>2996</td>\n",
       "    </tr>\n",
       "    <tr>\n",
       "      <th>9420007</th>\n",
       "      <td>9420007</td>\n",
       "      <td>[H04L063, H04L009, H04L063, H04L063, G06F021, ...</td>\n",
       "      <td>[H04L063, G06F021]</td>\n",
       "      <td>[H04L063, H04L009, H04L063, H04L063, G06F021, ...</td>\n",
       "      <td>1. A system of a virtual computing resource se...</td>\n",
       "      <td>2</td>\n",
       "      <td>0</td>\n",
       "      <td>2996</td>\n",
       "    </tr>\n",
       "    <tr>\n",
       "      <th>9197409</th>\n",
       "      <td>9197409</td>\n",
       "      <td>[H04L009, H04L009, G06F021, H04L009, H04L009, ...</td>\n",
       "      <td>[H04L063, H04L063, H04L009]</td>\n",
       "      <td>[H04L009, H04L009, G06F021, H04L009, H04L009, ...</td>\n",
       "      <td>1. A computer-implemented method of authentica...</td>\n",
       "      <td>2</td>\n",
       "      <td>0</td>\n",
       "      <td>2335</td>\n",
       "    </tr>\n",
       "    <tr>\n",
       "      <th>9311500</th>\n",
       "      <td>9311500</td>\n",
       "      <td>[G06F021, H04L009, H04L009, G06F021, H04L063, ...</td>\n",
       "      <td>[H04L009, H04L009, H04L009]</td>\n",
       "      <td>[G06F021, H04L009, H04L009, G06F021, H04L063, ...</td>\n",
       "      <td>1. A computer-implemented method, comprising: ...</td>\n",
       "      <td>4</td>\n",
       "      <td>0</td>\n",
       "      <td>2513</td>\n",
       "    </tr>\n",
       "    <tr>\n",
       "      <th>10356062</th>\n",
       "      <td>10356062</td>\n",
       "      <td>[H04L063, H04L063, G06F021, H04L009, H04L063, ...</td>\n",
       "      <td>[H04L009]</td>\n",
       "      <td>[H04L063, H04L063, G06F021, H04L009, H04L063, ...</td>\n",
       "      <td>1. A computer-implemented method, comprising: ...</td>\n",
       "      <td>0</td>\n",
       "      <td>0</td>\n",
       "      <td>2996</td>\n",
       "    </tr>\n",
       "    <tr>\n",
       "      <th>9906564</th>\n",
       "      <td>9906564</td>\n",
       "      <td>[H04L063, H04L063, H04L063, H04L009, G06F021, ...</td>\n",
       "      <td>[H04L063, G06F021]</td>\n",
       "      <td>[H04L063, H04L063, H04L063, H04L009, G06F021, ...</td>\n",
       "      <td>1. A system, comprising: memory to store instr...</td>\n",
       "      <td>0</td>\n",
       "      <td>0</td>\n",
       "      <td>2996</td>\n",
       "    </tr>\n",
       "    <tr>\n",
       "      <th>10375067</th>\n",
       "      <td>10375067</td>\n",
       "      <td>[H04L009, H04L063, H04L063, H04L063, H04L009, ...</td>\n",
       "      <td>[H04L009]</td>\n",
       "      <td>[H04L009, H04L063, H04L063, H04L063, H04L009, ...</td>\n",
       "      <td>1. A non-transitory computer-readable storage ...</td>\n",
       "      <td>0</td>\n",
       "      <td>0</td>\n",
       "      <td>2983</td>\n",
       "    </tr>\n",
       "    <tr>\n",
       "      <th>10044503</th>\n",
       "      <td>10044503</td>\n",
       "      <td>[H04L009, H04L063, H04L009, G06F021, H04L009]</td>\n",
       "      <td>[]</td>\n",
       "      <td>[H04L009, H04L063, H04L009, G06F021, H04L009]</td>\n",
       "      <td>1. A computer-implemented method, comprising: ...</td>\n",
       "      <td>5</td>\n",
       "      <td>0</td>\n",
       "      <td>2983</td>\n",
       "    </tr>\n",
       "    <tr>\n",
       "      <th>9292711</th>\n",
       "      <td>9292711</td>\n",
       "      <td>[G06F012, G06F021, H04L063, G06F021, G06F021, ...</td>\n",
       "      <td>[]</td>\n",
       "      <td>[G06F012, G06F021, H04L063, G06F021, G06F021, ...</td>\n",
       "      <td>1. A computer-implemented method, comprising: ...</td>\n",
       "      <td>2</td>\n",
       "      <td>0</td>\n",
       "      <td>2506</td>\n",
       "    </tr>\n",
       "    <tr>\n",
       "      <th>10412059</th>\n",
       "      <td>10412059</td>\n",
       "      <td>[H04L009, H04L063, H04L063, H04L063, H04L009, ...</td>\n",
       "      <td>[H04L063]</td>\n",
       "      <td>[H04L009, H04L063, H04L063, H04L063, H04L009, ...</td>\n",
       "      <td>1. A method, comprising: receiving a request f...</td>\n",
       "      <td>0</td>\n",
       "      <td>0</td>\n",
       "      <td>2983</td>\n",
       "    </tr>\n",
       "    <tr>\n",
       "      <th>9258117</th>\n",
       "      <td>9258117</td>\n",
       "      <td>[H04L063, H04L009, H04L063, H04L009, H04L009, ...</td>\n",
       "      <td>[H04L009]</td>\n",
       "      <td>[H04L063, H04L009, H04L063, H04L009, H04L009, ...</td>\n",
       "      <td>1. A computer-implemented method, comprising: ...</td>\n",
       "      <td>22</td>\n",
       "      <td>1</td>\n",
       "      <td>2996</td>\n",
       "    </tr>\n",
       "    <tr>\n",
       "      <th>9237019</th>\n",
       "      <td>9237019</td>\n",
       "      <td>[H04L009, H04L063, H04L067, H04L063, H04L063, ...</td>\n",
       "      <td>[H04L063]</td>\n",
       "      <td>[H04L009, H04L063, H04L067, H04L063, H04L063, ...</td>\n",
       "      <td>1. A computer-implemented method, comprising: ...</td>\n",
       "      <td>3</td>\n",
       "      <td>0</td>\n",
       "      <td>2983</td>\n",
       "    </tr>\n",
       "  </tbody>\n",
       "</table>\n",
       "</div>"
      ],
      "text/plain": [
       "               patent_number  \\\n",
       "patent_number                  \n",
       "9954866              9954866   \n",
       "9215076              9215076   \n",
       "9819654              9819654   \n",
       "9882900              9882900   \n",
       "9420007              9420007   \n",
       "9197409              9197409   \n",
       "9311500              9311500   \n",
       "10356062            10356062   \n",
       "9906564              9906564   \n",
       "10375067            10375067   \n",
       "10044503            10044503   \n",
       "9292711              9292711   \n",
       "10412059            10412059   \n",
       "9258117              9258117   \n",
       "9237019              9237019   \n",
       "\n",
       "                                                      main_class  \\\n",
       "patent_number                                                      \n",
       "9954866        [H04L009, H04L009, H04L009, H04L063, H04L063, ...   \n",
       "9215076        [H04L009, H04L063, H04L009, H04L009, H04L063, ...   \n",
       "9819654        [H04L067, H04L063, H04L063, H04L063, H04L063, ...   \n",
       "9882900        [H04L063, H04L009, H04L009, H04L009, H04L063, ...   \n",
       "9420007        [H04L063, H04L009, H04L063, H04L063, G06F021, ...   \n",
       "9197409        [H04L009, H04L009, G06F021, H04L009, H04L009, ...   \n",
       "9311500        [G06F021, H04L009, H04L009, G06F021, H04L063, ...   \n",
       "10356062       [H04L063, H04L063, G06F021, H04L009, H04L063, ...   \n",
       "9906564        [H04L063, H04L063, H04L063, H04L009, G06F021, ...   \n",
       "10375067       [H04L009, H04L063, H04L063, H04L063, H04L009, ...   \n",
       "10044503           [H04L009, H04L063, H04L009, G06F021, H04L009]   \n",
       "9292711        [G06F012, G06F021, H04L063, G06F021, G06F021, ...   \n",
       "10412059       [H04L009, H04L063, H04L063, H04L063, H04L009, ...   \n",
       "9258117        [H04L063, H04L009, H04L063, H04L009, H04L009, ...   \n",
       "9237019        [H04L009, H04L063, H04L067, H04L063, H04L063, ...   \n",
       "\n",
       "                                 sub_class  \\\n",
       "patent_number                                \n",
       "9954866                 [H04L009, H04L009]   \n",
       "9215076                          [H04L009]   \n",
       "9819654                          [H04L063]   \n",
       "9882900                          [H04L009]   \n",
       "9420007                 [H04L063, G06F021]   \n",
       "9197409        [H04L063, H04L063, H04L009]   \n",
       "9311500        [H04L009, H04L009, H04L009]   \n",
       "10356062                         [H04L009]   \n",
       "9906564                 [H04L063, G06F021]   \n",
       "10375067                         [H04L009]   \n",
       "10044503                                []   \n",
       "9292711                                 []   \n",
       "10412059                         [H04L063]   \n",
       "9258117                          [H04L009]   \n",
       "9237019                          [H04L063]   \n",
       "\n",
       "                                                  patent_classes  \\\n",
       "patent_number                                                      \n",
       "9954866        [H04L009, H04L009, H04L009, H04L063, H04L063, ...   \n",
       "9215076        [H04L009, H04L063, H04L009, H04L009, H04L063, ...   \n",
       "9819654        [H04L067, H04L063, H04L063, H04L063, H04L063, ...   \n",
       "9882900        [H04L063, H04L009, H04L009, H04L009, H04L063, ...   \n",
       "9420007        [H04L063, H04L009, H04L063, H04L063, G06F021, ...   \n",
       "9197409        [H04L009, H04L009, G06F021, H04L009, H04L009, ...   \n",
       "9311500        [G06F021, H04L009, H04L009, G06F021, H04L063, ...   \n",
       "10356062       [H04L063, H04L063, G06F021, H04L009, H04L063, ...   \n",
       "9906564        [H04L063, H04L063, H04L063, H04L009, G06F021, ...   \n",
       "10375067       [H04L009, H04L063, H04L063, H04L063, H04L009, ...   \n",
       "10044503           [H04L009, H04L063, H04L009, G06F021, H04L009]   \n",
       "9292711        [G06F012, G06F021, H04L063, G06F021, G06F021, ...   \n",
       "10412059       [H04L009, H04L063, H04L063, H04L063, H04L009, ...   \n",
       "9258117        [H04L063, H04L009, H04L063, H04L009, H04L009, ...   \n",
       "9237019        [H04L009, H04L063, H04L067, H04L063, H04L063, ...   \n",
       "\n",
       "                                                          claims  TC5  \\\n",
       "patent_number                                                           \n",
       "9954866        1. A computer-implemented method, comprising: ...    2   \n",
       "9215076        1. A computer-implemented method, comprising: ...   85   \n",
       "9819654        1. A system, comprising: one or more processor...    2   \n",
       "9882900        1. A computer-implemented method, comprising: ...    0   \n",
       "9420007        1. A system of a virtual computing resource se...    2   \n",
       "9197409        1. A computer-implemented method of authentica...    2   \n",
       "9311500        1. A computer-implemented method, comprising: ...    4   \n",
       "10356062       1. A computer-implemented method, comprising: ...    0   \n",
       "9906564        1. A system, comprising: memory to store instr...    0   \n",
       "10375067       1. A non-transitory computer-readable storage ...    0   \n",
       "10044503       1. A computer-implemented method, comprising: ...    5   \n",
       "9292711        1. A computer-implemented method, comprising: ...    2   \n",
       "10412059       1. A method, comprising: receiving a request f...    0   \n",
       "9258117        1. A computer-implemented method, comprising: ...   22   \n",
       "9237019        1. A computer-implemented method, comprising: ...    3   \n",
       "\n",
       "               TC5_digitized  class  \n",
       "patent_number                        \n",
       "9954866                    0   2983  \n",
       "9215076                    1   2335  \n",
       "9819654                    0   2998  \n",
       "9882900                    0   2996  \n",
       "9420007                    0   2996  \n",
       "9197409                    0   2335  \n",
       "9311500                    0   2513  \n",
       "10356062                   0   2996  \n",
       "9906564                    0   2996  \n",
       "10375067                   0   2983  \n",
       "10044503                   0   2983  \n",
       "9292711                    0   2506  \n",
       "10412059                   0   2983  \n",
       "9258117                    1   2996  \n",
       "9237019                    0   2983  "
      ]
     },
     "execution_count": 577,
     "metadata": {},
     "output_type": "execute_result"
    }
   ],
   "source": [
    "ref_info"
   ]
  },
  {
   "cell_type": "code",
   "execution_count": 578,
   "metadata": {
    "ExecuteTime": {
     "end_time": "2025-06-09T22:26:39.420398Z",
     "start_time": "2025-06-09T22:26:39.286267Z"
    }
   },
   "outputs": [],
   "source": [
    "forward_refs = used_rawdata.loc[used_test_data_TC[\"patent_number\"]][\"forward_refs\"].apply(lambda x: np.array(x.split(\";\")))"
   ]
  },
  {
   "cell_type": "code",
   "execution_count": 579,
   "metadata": {
    "ExecuteTime": {
     "end_time": "2025-06-09T22:26:40.229703Z",
     "start_time": "2025-06-09T22:26:40.214227Z"
    }
   },
   "outputs": [
    {
     "data": {
      "text/plain": [
       "patent_number\n",
       "8423759    [9178701, 9954866, 10110595, 9258118, 10601594...\n",
       "7268723                          [8922423, 7663530, 7333046]\n",
       "7508332                 [7714763, 8625734, 9478260, 7936204]\n",
       "8095229               [9811076, 10372834, 10564626, 9292626]\n",
       "8825655                                 [10176148, 10380166]\n",
       "                                 ...                        \n",
       "7577671                                  [10671588, 8612420]\n",
       "7496557                 [8447751, 8041705, 9245037, 8255385]\n",
       "8838301    [10049298, 10479333, 9499184, 10110795, 922764...\n",
       "9087301    [10198688, 10019667, 10748058, 10318862, 10552...\n",
       "9158975    [10043060, 10565439, 10303934, 9973736, 109433...\n",
       "Name: forward_refs, Length: 9920, dtype: object"
      ]
     },
     "execution_count": 579,
     "metadata": {},
     "output_type": "execute_result"
    }
   ],
   "source": [
    "forward_refs"
   ]
  },
  {
   "cell_type": "code",
   "execution_count": 580,
   "metadata": {
    "ExecuteTime": {
     "end_time": "2025-06-09T22:26:49.845831Z",
     "start_time": "2025-06-09T22:26:49.589299Z"
    },
    "scrolled": true
   },
   "outputs": [],
   "source": [
    "valid_refs = forward_refs.apply(lambda x: [xx for xx in x if xx in total_data.index])"
   ]
  },
  {
   "cell_type": "code",
   "execution_count": 581,
   "metadata": {
    "ExecuteTime": {
     "end_time": "2025-06-09T22:26:51.864718Z",
     "start_time": "2025-06-09T22:26:51.851439Z"
    }
   },
   "outputs": [],
   "source": [
    "exist_refs = valid_refs[valid_refs.apply(lambda x: True if x != [] else False)]"
   ]
  },
  {
   "cell_type": "code",
   "execution_count": 683,
   "metadata": {
    "ExecuteTime": {
     "end_time": "2025-06-09T23:45:54.157932Z",
     "start_time": "2025-06-09T23:45:54.143694Z"
    }
   },
   "outputs": [
    {
     "data": {
      "text/plain": [
       "patent_number\n",
       "8423759    [9954866, 9215076, 9819654, 9882900, 9420007, ...\n",
       "8095229                                   [9811076, 9292626]\n",
       "8616308                                            [8977485]\n",
       "7313340                          [8670142, 9135512, 7757162]\n",
       "7529392                                            [7684643]\n",
       "                                 ...                        \n",
       "7287033        [7533136, 8065308, 9058695, 8489597, 7472140]\n",
       "7577671                                            [8612420]\n",
       "7496557                                            [8041705]\n",
       "8838301                         [10049298, 9688297, 9875414]\n",
       "9158975    [9973736, 9330468, 10373470, 10192414, 1031883...\n",
       "Name: forward_refs, Length: 6937, dtype: object"
      ]
     },
     "execution_count": 683,
     "metadata": {},
     "output_type": "execute_result"
    }
   ],
   "source": [
    "exist_refs"
   ]
  },
  {
   "cell_type": "code",
   "execution_count": 582,
   "metadata": {
    "ExecuteTime": {
     "end_time": "2025-06-09T22:26:52.520846Z",
     "start_time": "2025-06-09T22:26:52.511522Z"
    }
   },
   "outputs": [
    {
     "data": {
      "text/plain": [
       "'9954866'"
      ]
     },
     "execution_count": 582,
     "metadata": {},
     "output_type": "execute_result"
    }
   ],
   "source": [
    "exist_refs.iloc[0][0]"
   ]
  },
  {
   "cell_type": "code",
   "execution_count": 540,
   "metadata": {
    "ExecuteTime": {
     "end_time": "2025-06-09T21:48:37.215279Z",
     "start_time": "2025-06-09T21:48:37.200358Z"
    }
   },
   "outputs": [
    {
     "data": {
      "text/plain": [
       "85"
      ]
     },
     "execution_count": 540,
     "metadata": {},
     "output_type": "execute_result"
    }
   ],
   "source": [
    "total_data.loc[exist_refs.iloc[0][0]][\"TC5\"]"
   ]
  },
  {
   "cell_type": "code",
   "execution_count": 586,
   "metadata": {
    "ExecuteTime": {
     "end_time": "2025-06-09T22:27:14.483788Z",
     "start_time": "2025-06-09T22:27:14.446862Z"
    }
   },
   "outputs": [
    {
     "data": {
      "text/html": [
       "<div>\n",
       "<style scoped>\n",
       "    .dataframe tbody tr th:only-of-type {\n",
       "        vertical-align: middle;\n",
       "    }\n",
       "\n",
       "    .dataframe tbody tr th {\n",
       "        vertical-align: top;\n",
       "    }\n",
       "\n",
       "    .dataframe thead th {\n",
       "        text-align: right;\n",
       "    }\n",
       "</style>\n",
       "<table border=\"1\" class=\"dataframe\">\n",
       "  <thead>\n",
       "    <tr style=\"text-align: right;\">\n",
       "      <th></th>\n",
       "      <th>patent_number</th>\n",
       "      <th>main_class</th>\n",
       "      <th>sub_class</th>\n",
       "      <th>patent_classes</th>\n",
       "      <th>claims</th>\n",
       "      <th>TC5</th>\n",
       "      <th>TC5_digitized</th>\n",
       "      <th>class</th>\n",
       "    </tr>\n",
       "    <tr>\n",
       "      <th>patent_number</th>\n",
       "      <th></th>\n",
       "      <th></th>\n",
       "      <th></th>\n",
       "      <th></th>\n",
       "      <th></th>\n",
       "      <th></th>\n",
       "      <th></th>\n",
       "      <th></th>\n",
       "    </tr>\n",
       "  </thead>\n",
       "  <tbody>\n",
       "    <tr>\n",
       "      <th>6983309</th>\n",
       "      <td>6983309</td>\n",
       "      <td>[G06Q010, H04L063, H04L063, G06Q020, G06Q020, ...</td>\n",
       "      <td>[Y10S707, Y10S707, H04L051]</td>\n",
       "      <td>[G06Q010, H04L063, H04L063, G06Q020, G06Q020, ...</td>\n",
       "      <td>1. An electronic apparatus comprising: a trans...</td>\n",
       "      <td>8</td>\n",
       "      <td>0</td>\n",
       "      <td>1939</td>\n",
       "    </tr>\n",
       "    <tr>\n",
       "      <th>6982420</th>\n",
       "      <td>6982420</td>\n",
       "      <td>[H01J037, G06V020]</td>\n",
       "      <td>[]</td>\n",
       "      <td>[H01J037, G06V020]</td>\n",
       "      <td>1. A sample observation method comprising a st...</td>\n",
       "      <td>1</td>\n",
       "      <td>0</td>\n",
       "      <td>2157</td>\n",
       "    </tr>\n",
       "    <tr>\n",
       "      <th>6983071</th>\n",
       "      <td>6983071</td>\n",
       "      <td>[G06V030, G06V030, G06V010, G06V010]</td>\n",
       "      <td>[G06V030]</td>\n",
       "      <td>[G06V030, G06V030, G06V010, G06V010, G06V030]</td>\n",
       "      <td>1. A character segmentation device for removin...</td>\n",
       "      <td>0</td>\n",
       "      <td>0</td>\n",
       "      <td>1958</td>\n",
       "    </tr>\n",
       "    <tr>\n",
       "      <th>6982717</th>\n",
       "      <td>6982717</td>\n",
       "      <td>[G06T005]</td>\n",
       "      <td>[]</td>\n",
       "      <td>[G06T005]</td>\n",
       "      <td>1. A game apparatus comprising: an image gener...</td>\n",
       "      <td>0</td>\n",
       "      <td>0</td>\n",
       "      <td>1948</td>\n",
       "    </tr>\n",
       "    <tr>\n",
       "      <th>6983073</th>\n",
       "      <td>6983073</td>\n",
       "      <td>[G06T005, G06T005, G06T005]</td>\n",
       "      <td>[]</td>\n",
       "      <td>[G06T005, G06T005, G06T005]</td>\n",
       "      <td>1. A method for recovering an image defined as...</td>\n",
       "      <td>1</td>\n",
       "      <td>0</td>\n",
       "      <td>1948</td>\n",
       "    </tr>\n",
       "    <tr>\n",
       "      <th>...</th>\n",
       "      <td>...</td>\n",
       "      <td>...</td>\n",
       "      <td>...</td>\n",
       "      <td>...</td>\n",
       "      <td>...</td>\n",
       "      <td>...</td>\n",
       "      <td>...</td>\n",
       "      <td>...</td>\n",
       "    </tr>\n",
       "    <tr>\n",
       "      <th>10521802</th>\n",
       "      <td>10521802</td>\n",
       "      <td>[G06Q050, G06Q010, G06F040, G06F040, G06Q030, ...</td>\n",
       "      <td>[G06F016]</td>\n",
       "      <td>[G06Q050, G06Q010, G06F040, G06F040, G06Q030, ...</td>\n",
       "      <td>1. A computer-implemented method for reporting...</td>\n",
       "      <td>2</td>\n",
       "      <td>0</td>\n",
       "      <td>2539</td>\n",
       "    </tr>\n",
       "    <tr>\n",
       "      <th>10517556</th>\n",
       "      <td>10517556</td>\n",
       "      <td>[A61B006, A61B006, A61B006, A61B006, A61B006, ...</td>\n",
       "      <td>[G01R033, A61B005, G01R033, G01R033, A61B005, ...</td>\n",
       "      <td>[A61B006, A61B006, A61B006, A61B006, A61B006, ...</td>\n",
       "      <td>1. A computer-implemented method for increasin...</td>\n",
       "      <td>0</td>\n",
       "      <td>0</td>\n",
       "      <td>240</td>\n",
       "    </tr>\n",
       "    <tr>\n",
       "      <th>10523658</th>\n",
       "      <td>10523658</td>\n",
       "      <td>[H04L009, H04L009, H04L063, H04L067, H04L063, ...</td>\n",
       "      <td>[]</td>\n",
       "      <td>[H04L009, H04L009, H04L063, H04L067, H04L063, ...</td>\n",
       "      <td>1. A method comprising: establishing a first s...</td>\n",
       "      <td>0</td>\n",
       "      <td>0</td>\n",
       "      <td>2983</td>\n",
       "    </tr>\n",
       "    <tr>\n",
       "      <th>10523420</th>\n",
       "      <td>10523420</td>\n",
       "      <td>[H04L009, H04L009, H04L009, H04B010, H04B010]</td>\n",
       "      <td>[]</td>\n",
       "      <td>[H04L009, H04L009, H04L009, H04B010, H04B010]</td>\n",
       "      <td>1. An apparatus, comprising: a memory to store...</td>\n",
       "      <td>11</td>\n",
       "      <td>1</td>\n",
       "      <td>2983</td>\n",
       "    </tr>\n",
       "    <tr>\n",
       "      <th>10523929</th>\n",
       "      <td>10523929</td>\n",
       "      <td>[G06T017, H04N013, G06T007, G06T015, H04N021, ...</td>\n",
       "      <td>[H04N013, H04N013]</td>\n",
       "      <td>[G06T017, H04N013, G06T007, G06T015, H04N021, ...</td>\n",
       "      <td>1. A system comprising: a non-transitory memor...</td>\n",
       "      <td>0</td>\n",
       "      <td>0</td>\n",
       "      <td>2550</td>\n",
       "    </tr>\n",
       "  </tbody>\n",
       "</table>\n",
       "<p>258750 rows × 8 columns</p>\n",
       "</div>"
      ],
      "text/plain": [
       "               patent_number  \\\n",
       "patent_number                  \n",
       "6983309              6983309   \n",
       "6982420              6982420   \n",
       "6983071              6983071   \n",
       "6982717              6982717   \n",
       "6983073              6983073   \n",
       "...                      ...   \n",
       "10521802            10521802   \n",
       "10517556            10517556   \n",
       "10523658            10523658   \n",
       "10523420            10523420   \n",
       "10523929            10523929   \n",
       "\n",
       "                                                      main_class  \\\n",
       "patent_number                                                      \n",
       "6983309        [G06Q010, H04L063, H04L063, G06Q020, G06Q020, ...   \n",
       "6982420                                       [H01J037, G06V020]   \n",
       "6983071                     [G06V030, G06V030, G06V010, G06V010]   \n",
       "6982717                                                [G06T005]   \n",
       "6983073                              [G06T005, G06T005, G06T005]   \n",
       "...                                                          ...   \n",
       "10521802       [G06Q050, G06Q010, G06F040, G06F040, G06Q030, ...   \n",
       "10517556       [A61B006, A61B006, A61B006, A61B006, A61B006, ...   \n",
       "10523658       [H04L009, H04L009, H04L063, H04L067, H04L063, ...   \n",
       "10523420           [H04L009, H04L009, H04L009, H04B010, H04B010]   \n",
       "10523929       [G06T017, H04N013, G06T007, G06T015, H04N021, ...   \n",
       "\n",
       "                                                       sub_class  \\\n",
       "patent_number                                                      \n",
       "6983309                              [Y10S707, Y10S707, H04L051]   \n",
       "6982420                                                       []   \n",
       "6983071                                                [G06V030]   \n",
       "6982717                                                       []   \n",
       "6983073                                                       []   \n",
       "...                                                          ...   \n",
       "10521802                                               [G06F016]   \n",
       "10517556       [G01R033, A61B005, G01R033, G01R033, A61B005, ...   \n",
       "10523658                                                      []   \n",
       "10523420                                                      []   \n",
       "10523929                                      [H04N013, H04N013]   \n",
       "\n",
       "                                                  patent_classes  \\\n",
       "patent_number                                                      \n",
       "6983309        [G06Q010, H04L063, H04L063, G06Q020, G06Q020, ...   \n",
       "6982420                                       [H01J037, G06V020]   \n",
       "6983071            [G06V030, G06V030, G06V010, G06V010, G06V030]   \n",
       "6982717                                                [G06T005]   \n",
       "6983073                              [G06T005, G06T005, G06T005]   \n",
       "...                                                          ...   \n",
       "10521802       [G06Q050, G06Q010, G06F040, G06F040, G06Q030, ...   \n",
       "10517556       [A61B006, A61B006, A61B006, A61B006, A61B006, ...   \n",
       "10523658       [H04L009, H04L009, H04L063, H04L067, H04L063, ...   \n",
       "10523420           [H04L009, H04L009, H04L009, H04B010, H04B010]   \n",
       "10523929       [G06T017, H04N013, G06T007, G06T015, H04N021, ...   \n",
       "\n",
       "                                                          claims  TC5  \\\n",
       "patent_number                                                           \n",
       "6983309        1. An electronic apparatus comprising: a trans...    8   \n",
       "6982420        1. A sample observation method comprising a st...    1   \n",
       "6983071        1. A character segmentation device for removin...    0   \n",
       "6982717        1. A game apparatus comprising: an image gener...    0   \n",
       "6983073        1. A method for recovering an image defined as...    1   \n",
       "...                                                          ...  ...   \n",
       "10521802       1. A computer-implemented method for reporting...    2   \n",
       "10517556       1. A computer-implemented method for increasin...    0   \n",
       "10523658       1. A method comprising: establishing a first s...    0   \n",
       "10523420       1. An apparatus, comprising: a memory to store...   11   \n",
       "10523929       1. A system comprising: a non-transitory memor...    0   \n",
       "\n",
       "               TC5_digitized  class  \n",
       "patent_number                        \n",
       "6983309                    0   1939  \n",
       "6982420                    0   2157  \n",
       "6983071                    0   1958  \n",
       "6982717                    0   1948  \n",
       "6983073                    0   1948  \n",
       "...                      ...    ...  \n",
       "10521802                   0   2539  \n",
       "10517556                   0    240  \n",
       "10523658                   0   2983  \n",
       "10523420                   1   2983  \n",
       "10523929                   0   2550  \n",
       "\n",
       "[258750 rows x 8 columns]"
      ]
     },
     "execution_count": 586,
     "metadata": {},
     "output_type": "execute_result"
    }
   ],
   "source": [
    "total_data"
   ]
  },
  {
   "cell_type": "code",
   "execution_count": 622,
   "metadata": {
    "ExecuteTime": {
     "end_time": "2025-06-09T22:34:29.974277Z",
     "start_time": "2025-06-09T22:34:21.123101Z"
    }
   },
   "outputs": [],
   "source": [
    "ref_ipcs = exist_refs.apply(lambda x: [set(total_data.loc[xx][\"patent_classes\"]) for xx in x])\n",
    "ref_ipcs.name = \"ref_ipc\""
   ]
  },
  {
   "cell_type": "code",
   "execution_count": 593,
   "metadata": {
    "ExecuteTime": {
     "end_time": "2025-06-09T22:28:31.647848Z",
     "start_time": "2025-06-09T22:28:31.640816Z"
    }
   },
   "outputs": [
    {
     "data": {
      "text/plain": [
       "[{'G06F021', 'H04L009', 'H04L063'},\n",
       " {'G06F021', 'H04L009', 'H04L063'},\n",
       " {'H04L009', 'H04L063', 'H04L067'},\n",
       " {'H04L009', 'H04L063'},\n",
       " {'G06F021', 'H04L009', 'H04L063'},\n",
       " {'G06F021', 'H04L009', 'H04L063'},\n",
       " {'G06F021', 'H04L009', 'H04L063'},\n",
       " {'G06F021', 'H04L009', 'H04L063'},\n",
       " {'G06F021', 'H04L009', 'H04L063'},\n",
       " {'H04L009', 'H04L063'},\n",
       " {'G06F021', 'H04L009', 'H04L063'},\n",
       " {'G06F012', 'G06F021', 'H04L063'},\n",
       " {'H04L009', 'H04L063', 'H04L067'},\n",
       " {'H04L009', 'H04L063'},\n",
       " {'H04L009', 'H04L063', 'H04L067'}]"
      ]
     },
     "execution_count": 593,
     "metadata": {},
     "output_type": "execute_result"
    }
   ],
   "source": [
    "ref_ipcs.iloc[0]"
   ]
  },
  {
   "cell_type": "code",
   "execution_count": 630,
   "metadata": {
    "ExecuteTime": {
     "end_time": "2025-06-09T22:35:40.941598Z",
     "start_time": "2025-06-09T22:35:32.286886Z"
    }
   },
   "outputs": [],
   "source": [
    "ref_FC = exist_refs.apply(lambda x: [total_data.loc[xx][\"TC5\"] for xx in x])\n",
    "ref_FC.name = \"TC5\""
   ]
  },
  {
   "cell_type": "code",
   "execution_count": 631,
   "metadata": {
    "ExecuteTime": {
     "end_time": "2025-06-09T22:35:40.952024Z",
     "start_time": "2025-06-09T22:35:40.944121Z"
    }
   },
   "outputs": [
    {
     "data": {
      "text/plain": [
       "patent_number\n",
       "8423759    [2, 85, 2, 0, 2, 2, 4, 0, 0, 0, 5, 2, 0, 22, 3]\n",
       "8095229                                            [1, 10]\n",
       "8616308                                                [1]\n",
       "7313340                                         [0, 0, 12]\n",
       "7529392                                                [0]\n",
       "                                ...                       \n",
       "7287033                                    [2, 7, 2, 0, 2]\n",
       "7577671                                               [22]\n",
       "7496557                                                [1]\n",
       "8838301                                          [1, 3, 2]\n",
       "9158975                                 [1, 1, 1, 0, 0, 1]\n",
       "Name: TC5, Length: 6937, dtype: object"
      ]
     },
     "execution_count": 631,
     "metadata": {},
     "output_type": "execute_result"
    }
   ],
   "source": [
    "ref_FC"
   ]
  },
  {
   "cell_type": "code",
   "execution_count": 637,
   "metadata": {
    "ExecuteTime": {
     "end_time": "2025-06-09T22:36:42.576850Z",
     "start_time": "2025-06-09T22:36:40.785810Z"
    }
   },
   "outputs": [],
   "source": [
    "org_ipcs = pd.Series(exist_refs.index, name=\"patent_number\").astype(str).apply(lambda x: set(total_data.loc[x][\"patent_classes\"]))\n",
    "org_ipcs.index = exist_refs.index\n",
    "org_ipcs.name = \"org_ipc\""
   ]
  },
  {
   "cell_type": "code",
   "execution_count": 623,
   "metadata": {
    "ExecuteTime": {
     "end_time": "2025-06-09T22:34:32.185964Z",
     "start_time": "2025-06-09T22:34:32.172415Z"
    }
   },
   "outputs": [
    {
     "data": {
      "text/plain": [
       "patent_number\n",
       "8423759                                   {H04L063, H04L009}\n",
       "8095229        {G16Z099, Y02P090, G06Q010, G05B019, G06Q050}\n",
       "8616308                                   {B62D055, Y10S901}\n",
       "7313340                                   {H04N001, G03G015}\n",
       "7529392                                            {G06T007}\n",
       "                                 ...                        \n",
       "7287033                                   {Y10S707, G06F016}\n",
       "7577671                                   {Y10S707, G06F016}\n",
       "7496557                                   {Y10S707, G06F016}\n",
       "8838301                                   {B61L025, B61L029}\n",
       "9158975    {G06T007, G06V020, G08B013, G06V040, G06V010, ...\n",
       "Name: patent_number, Length: 6937, dtype: object"
      ]
     },
     "execution_count": 623,
     "metadata": {},
     "output_type": "execute_result"
    }
   ],
   "source": [
    "org_ipcs"
   ]
  },
  {
   "cell_type": "code",
   "execution_count": 624,
   "metadata": {
    "ExecuteTime": {
     "end_time": "2025-06-09T22:34:32.724119Z",
     "start_time": "2025-06-09T22:34:32.707769Z"
    }
   },
   "outputs": [
    {
     "data": {
      "text/plain": [
       "patent_number\n",
       "8423759    [{H04L063, G06F021, H04L009}, {H04L063, G06F02...\n",
       "8095229    [{B33Y050, G05B015, Y02P090, G06Q010, G05B019}...\n",
       "8616308                        [{B25J009, G05D001, G05D003}]\n",
       "7313340    [{H04N001}, {G06V010, G06V030}, {G06F016, H04N...\n",
       "7529392                                          [{G06T005}]\n",
       "                                 ...                        \n",
       "7287033    [{Y10S707, G06F008, G06F016}, {Y10S707, G06F01...\n",
       "7577671                        [{G06Q010, G06F016, G06Q030}]\n",
       "7496557                                 [{Y10S707, G06F016}]\n",
       "8838301    [{G06K009, B61L023, G06V020, H04N007}, {B61L01...\n",
       "9158975    [{A61B050, H04N007, G01C021, H04N005}, {G06T00...\n",
       "Name: forward_refs, Length: 6937, dtype: object"
      ]
     },
     "execution_count": 624,
     "metadata": {},
     "output_type": "execute_result"
    }
   ],
   "source": [
    "ref_ipcs"
   ]
  },
  {
   "cell_type": "code",
   "execution_count": 632,
   "metadata": {
    "ExecuteTime": {
     "end_time": "2025-06-09T22:35:41.094077Z",
     "start_time": "2025-06-09T22:35:40.953854Z"
    }
   },
   "outputs": [
    {
     "data": {
      "text/plain": [
       "patent_number\n",
       "8423759    [2, 85, 2, 0, 2, 2, 4, 0, 0, 0, 5, 2, 0, 22, 3]\n",
       "8095229                                            [1, 10]\n",
       "8616308                                                [1]\n",
       "7313340                                         [0, 0, 12]\n",
       "7529392                                                [0]\n",
       "                                ...                       \n",
       "7287033                                    [2, 7, 2, 0, 2]\n",
       "7577671                                               [22]\n",
       "7496557                                                [1]\n",
       "8838301                                          [1, 3, 2]\n",
       "9158975                                 [1, 1, 1, 0, 0, 1]\n",
       "Name: TC5, Length: 6937, dtype: object"
      ]
     },
     "execution_count": 632,
     "metadata": {},
     "output_type": "execute_result"
    }
   ],
   "source": [
    "ref_FC"
   ]
  },
  {
   "cell_type": "code",
   "execution_count": 639,
   "metadata": {
    "ExecuteTime": {
     "end_time": "2025-06-09T22:36:55.094667Z",
     "start_time": "2025-06-09T22:36:55.086069Z"
    }
   },
   "outputs": [],
   "source": [
    "compare_total = pd.concat([org_ipcs, ref_ipcs, ref_FC], axis=1)"
   ]
  },
  {
   "cell_type": "code",
   "execution_count": 640,
   "metadata": {
    "ExecuteTime": {
     "end_time": "2025-06-09T22:36:55.514908Z",
     "start_time": "2025-06-09T22:36:55.480300Z"
    }
   },
   "outputs": [
    {
     "data": {
      "text/html": [
       "<div>\n",
       "<style scoped>\n",
       "    .dataframe tbody tr th:only-of-type {\n",
       "        vertical-align: middle;\n",
       "    }\n",
       "\n",
       "    .dataframe tbody tr th {\n",
       "        vertical-align: top;\n",
       "    }\n",
       "\n",
       "    .dataframe thead th {\n",
       "        text-align: right;\n",
       "    }\n",
       "</style>\n",
       "<table border=\"1\" class=\"dataframe\">\n",
       "  <thead>\n",
       "    <tr style=\"text-align: right;\">\n",
       "      <th></th>\n",
       "      <th>org_ipc</th>\n",
       "      <th>ref_ipc</th>\n",
       "      <th>TC5</th>\n",
       "    </tr>\n",
       "    <tr>\n",
       "      <th>patent_number</th>\n",
       "      <th></th>\n",
       "      <th></th>\n",
       "      <th></th>\n",
       "    </tr>\n",
       "  </thead>\n",
       "  <tbody>\n",
       "    <tr>\n",
       "      <th>8423759</th>\n",
       "      <td>{H04L063, H04L009}</td>\n",
       "      <td>[{H04L063, G06F021, H04L009}, {H04L063, G06F02...</td>\n",
       "      <td>[2, 85, 2, 0, 2, 2, 4, 0, 0, 0, 5, 2, 0, 22, 3]</td>\n",
       "    </tr>\n",
       "    <tr>\n",
       "      <th>8095229</th>\n",
       "      <td>{G16Z099, Y02P090, G06Q010, G05B019, G06Q050}</td>\n",
       "      <td>[{B33Y050, G05B015, Y02P090, G06Q010, G05B019}...</td>\n",
       "      <td>[1, 10]</td>\n",
       "    </tr>\n",
       "    <tr>\n",
       "      <th>8616308</th>\n",
       "      <td>{B62D055, Y10S901}</td>\n",
       "      <td>[{B25J009, G05D001, G05D003}]</td>\n",
       "      <td>[1]</td>\n",
       "    </tr>\n",
       "    <tr>\n",
       "      <th>7313340</th>\n",
       "      <td>{H04N001, G03G015}</td>\n",
       "      <td>[{H04N001}, {G06V010, G06V030}, {G06F016, H04N...</td>\n",
       "      <td>[0, 0, 12]</td>\n",
       "    </tr>\n",
       "    <tr>\n",
       "      <th>7529392</th>\n",
       "      <td>{G06T007}</td>\n",
       "      <td>[{G06T005}]</td>\n",
       "      <td>[0]</td>\n",
       "    </tr>\n",
       "    <tr>\n",
       "      <th>...</th>\n",
       "      <td>...</td>\n",
       "      <td>...</td>\n",
       "      <td>...</td>\n",
       "    </tr>\n",
       "    <tr>\n",
       "      <th>7287033</th>\n",
       "      <td>{Y10S707, G06F016}</td>\n",
       "      <td>[{Y10S707, G06F008, G06F016}, {Y10S707, G06F01...</td>\n",
       "      <td>[2, 7, 2, 0, 2]</td>\n",
       "    </tr>\n",
       "    <tr>\n",
       "      <th>7577671</th>\n",
       "      <td>{Y10S707, G06F016}</td>\n",
       "      <td>[{G06Q010, G06F016, G06Q030}]</td>\n",
       "      <td>[22]</td>\n",
       "    </tr>\n",
       "    <tr>\n",
       "      <th>7496557</th>\n",
       "      <td>{Y10S707, G06F016}</td>\n",
       "      <td>[{Y10S707, G06F016}]</td>\n",
       "      <td>[1]</td>\n",
       "    </tr>\n",
       "    <tr>\n",
       "      <th>8838301</th>\n",
       "      <td>{B61L025, B61L029}</td>\n",
       "      <td>[{G06K009, B61L023, G06V020, H04N007}, {B61L01...</td>\n",
       "      <td>[1, 3, 2]</td>\n",
       "    </tr>\n",
       "    <tr>\n",
       "      <th>9158975</th>\n",
       "      <td>{G06T007, G06V020, G08B013, G06V040, G06V010, ...</td>\n",
       "      <td>[{A61B050, H04N007, G01C021, H04N005}, {G06T00...</td>\n",
       "      <td>[1, 1, 1, 0, 0, 1]</td>\n",
       "    </tr>\n",
       "  </tbody>\n",
       "</table>\n",
       "<p>6937 rows × 3 columns</p>\n",
       "</div>"
      ],
      "text/plain": [
       "                                                         org_ipc  \\\n",
       "patent_number                                                      \n",
       "8423759                                       {H04L063, H04L009}   \n",
       "8095229            {G16Z099, Y02P090, G06Q010, G05B019, G06Q050}   \n",
       "8616308                                       {B62D055, Y10S901}   \n",
       "7313340                                       {H04N001, G03G015}   \n",
       "7529392                                                {G06T007}   \n",
       "...                                                          ...   \n",
       "7287033                                       {Y10S707, G06F016}   \n",
       "7577671                                       {Y10S707, G06F016}   \n",
       "7496557                                       {Y10S707, G06F016}   \n",
       "8838301                                       {B61L025, B61L029}   \n",
       "9158975        {G06T007, G06V020, G08B013, G06V040, G06V010, ...   \n",
       "\n",
       "                                                         ref_ipc  \\\n",
       "patent_number                                                      \n",
       "8423759        [{H04L063, G06F021, H04L009}, {H04L063, G06F02...   \n",
       "8095229        [{B33Y050, G05B015, Y02P090, G06Q010, G05B019}...   \n",
       "8616308                            [{B25J009, G05D001, G05D003}]   \n",
       "7313340        [{H04N001}, {G06V010, G06V030}, {G06F016, H04N...   \n",
       "7529392                                              [{G06T005}]   \n",
       "...                                                          ...   \n",
       "7287033        [{Y10S707, G06F008, G06F016}, {Y10S707, G06F01...   \n",
       "7577671                            [{G06Q010, G06F016, G06Q030}]   \n",
       "7496557                                     [{Y10S707, G06F016}]   \n",
       "8838301        [{G06K009, B61L023, G06V020, H04N007}, {B61L01...   \n",
       "9158975        [{A61B050, H04N007, G01C021, H04N005}, {G06T00...   \n",
       "\n",
       "                                                           TC5  \n",
       "patent_number                                                   \n",
       "8423759        [2, 85, 2, 0, 2, 2, 4, 0, 0, 0, 5, 2, 0, 22, 3]  \n",
       "8095229                                                [1, 10]  \n",
       "8616308                                                    [1]  \n",
       "7313340                                             [0, 0, 12]  \n",
       "7529392                                                    [0]  \n",
       "...                                                        ...  \n",
       "7287033                                        [2, 7, 2, 0, 2]  \n",
       "7577671                                                   [22]  \n",
       "7496557                                                    [1]  \n",
       "8838301                                              [1, 3, 2]  \n",
       "9158975                                     [1, 1, 1, 0, 0, 1]  \n",
       "\n",
       "[6937 rows x 3 columns]"
      ]
     },
     "execution_count": 640,
     "metadata": {},
     "output_type": "execute_result"
    }
   ],
   "source": [
    "compare_total"
   ]
  },
  {
   "cell_type": "code",
   "execution_count": null,
   "metadata": {
    "ExecuteTime": {
     "start_time": "2025-06-10T18:41:27.598Z"
    }
   },
   "outputs": [],
   "source": [
    "print(\"A\")"
   ]
  },
  {
   "cell_type": "code",
   "execution_count": 661,
   "metadata": {
    "ExecuteTime": {
     "end_time": "2025-06-09T22:39:22.940517Z",
     "start_time": "2025-06-09T22:39:22.601328Z"
    }
   },
   "outputs": [],
   "source": [
    "ref_FC_identical = compare_total.apply(lambda x: [x[\"TC5\"][i] for i in range(len(x[\"ref_ipc\"])) if x[\"ref_ipc\"][i]==x[\"org_ipc\"]], axis=1)"
   ]
  },
  {
   "cell_type": "code",
   "execution_count": 662,
   "metadata": {
    "ExecuteTime": {
     "end_time": "2025-06-09T22:39:45.528784Z",
     "start_time": "2025-06-09T22:39:45.516404Z"
    }
   },
   "outputs": [],
   "source": [
    "valid_FC_identical = ref_FC_identical[ref_FC_identical.apply(lambda x: True if x != [] else False)]"
   ]
  },
  {
   "cell_type": "code",
   "execution_count": 664,
   "metadata": {
    "ExecuteTime": {
     "end_time": "2025-06-09T22:40:06.641885Z",
     "start_time": "2025-06-09T22:40:06.593718Z"
    }
   },
   "outputs": [],
   "source": [
    "avg_FC_identical = valid_FC_identical.apply(lambda x: np.mean(x))"
   ]
  },
  {
   "cell_type": "markdown",
   "metadata": {},
   "source": [
    "**논문에 들어간 분석 결과(20250610)**\n",
    "\n",
    "전체 셋에서 org_ipc==ref_ipc 인 경우에 대한 평균 FC\n",
    "\n",
    "이전에는 class_new in ref_ipcs 인 경우 내에서 org_ipc==ref_ipc의 평균 FC 계산했는데, 이렇게 하면 실제 domain remained 기술을 모두 반영하는 것이 아님"
   ]
  },
  {
   "cell_type": "code",
   "execution_count": 666,
   "metadata": {
    "ExecuteTime": {
     "end_time": "2025-06-09T22:40:16.639623Z",
     "start_time": "2025-06-09T22:40:16.600739Z"
    }
   },
   "outputs": [
    {
     "data": {
      "text/plain": [
       "count    1930.000000\n",
       "mean        5.666213\n",
       "std        13.403872\n",
       "min         0.000000\n",
       "25%         0.000000\n",
       "50%         2.000000\n",
       "75%         5.500000\n",
       "max       160.700000\n",
       "dtype: float64"
      ]
     },
     "execution_count": 666,
     "metadata": {},
     "output_type": "execute_result"
    }
   ],
   "source": [
    "avg_FC_identical.describe()"
   ]
  },
  {
   "cell_type": "code",
   "execution_count": 641,
   "metadata": {
    "ExecuteTime": {
     "end_time": "2025-06-09T22:36:56.232057Z",
     "start_time": "2025-06-09T22:36:56.226390Z"
    }
   },
   "outputs": [],
   "source": [
    "temp = compare_total.iloc[0]"
   ]
  },
  {
   "cell_type": "code",
   "execution_count": 653,
   "metadata": {
    "ExecuteTime": {
     "end_time": "2025-06-09T22:38:21.812956Z",
     "start_time": "2025-06-09T22:38:21.801212Z"
    }
   },
   "outputs": [
    {
     "data": {
      "text/plain": [
       "[0, 0, 22]"
      ]
     },
     "execution_count": 653,
     "metadata": {},
     "output_type": "execute_result"
    }
   ],
   "source": [
    "[temp[\"TC5\"][i] for i in range(len(temp[\"ref_ipc\"])) if temp[\"ref_ipc\"][i]==temp[\"org_ipc\"]]"
   ]
  },
  {
   "cell_type": "markdown",
   "metadata": {},
   "source": [
    "## macro validation analysis\n"
   ]
  },
  {
   "cell_type": "code",
   "execution_count": 677,
   "metadata": {
    "ExecuteTime": {
     "end_time": "2025-06-09T23:44:22.041759Z",
     "start_time": "2025-06-09T23:44:22.010683Z"
    }
   },
   "outputs": [],
   "source": [
    "org_patent_ids = dict_out[\"patent_id\"]\n",
    "org_ipcs = pd.Series(dict_out[\"org_text\"]).apply(lambda x: set(x))\n",
    "org_ipcs.name = \"patent_number\"\n",
    "org_ipcs.index = org_patent_ids\n",
    "gen_ipcs = pd.Series(dict_out[\"gen_text\"])\n",
    "gen_ipcs.name = \"patent_number\"\n",
    "gen_ipcs.index = org_patent_ids"
   ]
  },
  {
   "cell_type": "code",
   "execution_count": 679,
   "metadata": {
    "ExecuteTime": {
     "end_time": "2025-06-09T23:44:23.823954Z",
     "start_time": "2025-06-09T23:44:23.808664Z"
    }
   },
   "outputs": [
    {
     "data": {
      "text/plain": [
       "8423759                                   {H04L063, H04L009}\n",
       "8095229        {G16Z099, Y02P090, G06Q010, G05B019, G06Q050}\n",
       "8616308                                   {B62D055, Y10S901}\n",
       "7313340                                   {H04N001, G03G015}\n",
       "7529392                                            {G06T007}\n",
       "                                 ...                        \n",
       "7287033                                   {Y10S707, G06F016}\n",
       "7577671                                   {Y10S707, G06F016}\n",
       "7496557                                   {Y10S707, G06F016}\n",
       "8838301                                   {B61L025, B61L029}\n",
       "9158975    {G06T007, G06V020, G08B013, G06V040, G06V010, ...\n",
       "Name: patent_number, Length: 6929, dtype: object"
      ]
     },
     "execution_count": 679,
     "metadata": {},
     "output_type": "execute_result"
    }
   ],
   "source": [
    "org_ipcs"
   ]
  },
  {
   "cell_type": "code",
   "execution_count": 680,
   "metadata": {
    "ExecuteTime": {
     "end_time": "2025-06-09T23:44:24.473639Z",
     "start_time": "2025-06-09T23:44:24.459152Z"
    }
   },
   "outputs": [
    {
     "data": {
      "text/plain": [
       "8423759                 {G06Q010, H04L063, G06Q020, G05B019}\n",
       "8095229    {G06Q050, H04L012, Y02P090, G06Q010, H04L067, ...\n",
       "8616308                 {A61M005, G05D001, G06N003, A61N001}\n",
       "7313340    {G06Q040, G06F016, G06F003, H04L067, G06F021, ...\n",
       "7529392                          {G06V040, G06F003, G06Q030}\n",
       "                                 ...                        \n",
       "7287033                                   {G06F016, H04L065}\n",
       "7577671                                   {H04W004, G06F016}\n",
       "7496557                                            {G06F016}\n",
       "8838301        {B61L027, H04W004, Y02P090, G06Q010, G06Q030}\n",
       "9158975                                   {G06V040, G06V020}\n",
       "Name: patent_number, Length: 6929, dtype: object"
      ]
     },
     "execution_count": 680,
     "metadata": {},
     "output_type": "execute_result"
    }
   ],
   "source": [
    "gen_ipcs"
   ]
  },
  {
   "cell_type": "code",
   "execution_count": null,
   "metadata": {},
   "outputs": [],
   "source": []
  },
  {
   "cell_type": "code",
   "execution_count": 737,
   "metadata": {
    "ExecuteTime": {
     "end_time": "2025-06-10T00:00:53.893562Z",
     "start_time": "2025-06-10T00:00:53.766585Z"
    }
   },
   "outputs": [],
   "source": [
    "ipcs_total_frozen = total_data.iloc[:10000].apply(lambda x: frozenset(x[\"patent_classes\"]), axis=1)"
   ]
  },
  {
   "cell_type": "code",
   "execution_count": 744,
   "metadata": {
    "ExecuteTime": {
     "end_time": "2025-06-10T00:01:46.024040Z",
     "start_time": "2025-06-10T00:01:45.864578Z"
    }
   },
   "outputs": [],
   "source": [
    "org_ipcs_frozen = org_ipcs.apply(lambda x: frozenset(np.sort(list(x))))\n",
    "gen_ipcs_frozen = gen_ipcs.apply(lambda x: frozenset(np.sort(list(x))))"
   ]
  },
  {
   "cell_type": "code",
   "execution_count": 745,
   "metadata": {
    "ExecuteTime": {
     "end_time": "2025-06-10T00:01:53.649709Z",
     "start_time": "2025-06-10T00:01:53.635244Z"
    }
   },
   "outputs": [
    {
     "data": {
      "text/plain": [
       "8423759                                   (H04L063, H04L009)\n",
       "8095229        (G16Z099, Y02P090, G06Q010, G05B019, G06Q050)\n",
       "8616308                                   (B62D055, Y10S901)\n",
       "7313340                                   (H04N001, G03G015)\n",
       "7529392                                            (G06T007)\n",
       "                                 ...                        \n",
       "7287033                                   (Y10S707, G06F016)\n",
       "7577671                                   (Y10S707, G06F016)\n",
       "7496557                                   (Y10S707, G06F016)\n",
       "8838301                                   (B61L025, B61L029)\n",
       "9158975    (G06V020, G06T007, G08B013, G06V040, G06V010, ...\n",
       "Name: patent_number, Length: 6929, dtype: object"
      ]
     },
     "execution_count": 745,
     "metadata": {},
     "output_type": "execute_result"
    }
   ],
   "source": [
    "org_ipcs_frozen"
   ]
  },
  {
   "cell_type": "code",
   "execution_count": 776,
   "metadata": {
    "ExecuteTime": {
     "end_time": "2025-06-10T00:09:52.115415Z",
     "start_time": "2025-06-10T00:09:31.809924Z"
    }
   },
   "outputs": [
    {
     "name": "stderr",
     "output_type": "stream",
     "text": [
      "100%|██████████| 6929/6929 [00:20<00:00, 341.50it/s]\n"
     ]
    }
   ],
   "source": [
    "avg_TIs_org, avg_TIs_gen = {}, {}\n",
    "\n",
    "for i in tqdm(range(len(org_ipcs_frozen))):\n",
    "    pn = org_ipcs_frozen.index[i]\n",
    "    ipc_org = org_ipcs_frozen.iloc[i]\n",
    "    ipc_gen = gen_ipcs_frozen.iloc[i]\n",
    "    \n",
    "    avg_TIs_org[pn] = np.mean(total_data.loc[ipcs_total_frozen[ipcs_total_frozen==ipc_org].index][\"TC5\"])\n",
    "    avg_TIs_gen[pn] = np.mean(total_data.loc[ipcs_total_frozen[ipcs_total_frozen==ipc_gen].index][\"TC5\"])"
   ]
  },
  {
   "cell_type": "code",
   "execution_count": 793,
   "metadata": {
    "ExecuteTime": {
     "end_time": "2025-06-10T00:12:28.148329Z",
     "start_time": "2025-06-10T00:12:27.925270Z"
    },
    "scrolled": false
   },
   "outputs": [],
   "source": [
    "res_macro = pd.concat([org_ipcs, pd.DataFrame(avg_TIs_org, index=[0]).T, gen_ipcs, pd.DataFrame(avg_TIs_gen, index=[0]).T], axis=1)\n",
    "res_macro.columns = [\"org_ipc\", \"org_TI\", \"gen_ipc\", \"gen_TI\"]"
   ]
  },
  {
   "cell_type": "code",
   "execution_count": 794,
   "metadata": {
    "ExecuteTime": {
     "end_time": "2025-06-10T00:12:28.810133Z",
     "start_time": "2025-06-10T00:12:28.777382Z"
    }
   },
   "outputs": [
    {
     "data": {
      "text/html": [
       "<div>\n",
       "<style scoped>\n",
       "    .dataframe tbody tr th:only-of-type {\n",
       "        vertical-align: middle;\n",
       "    }\n",
       "\n",
       "    .dataframe tbody tr th {\n",
       "        vertical-align: top;\n",
       "    }\n",
       "\n",
       "    .dataframe thead th {\n",
       "        text-align: right;\n",
       "    }\n",
       "</style>\n",
       "<table border=\"1\" class=\"dataframe\">\n",
       "  <thead>\n",
       "    <tr style=\"text-align: right;\">\n",
       "      <th></th>\n",
       "      <th>org_ipc</th>\n",
       "      <th>org_TI</th>\n",
       "      <th>gen_ipc</th>\n",
       "      <th>gen_TI</th>\n",
       "    </tr>\n",
       "  </thead>\n",
       "  <tbody>\n",
       "    <tr>\n",
       "      <th>8423759</th>\n",
       "      <td>{H04L063, H04L009}</td>\n",
       "      <td>35.500000</td>\n",
       "      <td>{G06Q010, H04L063, G06Q020, G05B019}</td>\n",
       "      <td>NaN</td>\n",
       "    </tr>\n",
       "    <tr>\n",
       "      <th>8095229</th>\n",
       "      <td>{G16Z099, Y02P090, G06Q010, G05B019, G06Q050}</td>\n",
       "      <td>NaN</td>\n",
       "      <td>{G06Q050, H04L012, Y02P090, G06Q010, H04L067, ...</td>\n",
       "      <td>NaN</td>\n",
       "    </tr>\n",
       "    <tr>\n",
       "      <th>8616308</th>\n",
       "      <td>{B62D055, Y10S901}</td>\n",
       "      <td>NaN</td>\n",
       "      <td>{A61M005, G05D001, G06N003, A61N001}</td>\n",
       "      <td>NaN</td>\n",
       "    </tr>\n",
       "    <tr>\n",
       "      <th>7313340</th>\n",
       "      <td>{H04N001, G03G015}</td>\n",
       "      <td>2.000000</td>\n",
       "      <td>{G06Q040, G06F016, G06F003, H04L067, G06F021, ...</td>\n",
       "      <td>NaN</td>\n",
       "    </tr>\n",
       "    <tr>\n",
       "      <th>7529392</th>\n",
       "      <td>{G06T007}</td>\n",
       "      <td>4.695652</td>\n",
       "      <td>{G06V040, G06F003, G06Q030}</td>\n",
       "      <td>NaN</td>\n",
       "    </tr>\n",
       "    <tr>\n",
       "      <th>...</th>\n",
       "      <td>...</td>\n",
       "      <td>...</td>\n",
       "      <td>...</td>\n",
       "      <td>...</td>\n",
       "    </tr>\n",
       "    <tr>\n",
       "      <th>7287033</th>\n",
       "      <td>{Y10S707, G06F016}</td>\n",
       "      <td>9.901048</td>\n",
       "      <td>{G06F016, H04L065}</td>\n",
       "      <td>NaN</td>\n",
       "    </tr>\n",
       "    <tr>\n",
       "      <th>7577671</th>\n",
       "      <td>{Y10S707, G06F016}</td>\n",
       "      <td>9.901048</td>\n",
       "      <td>{H04W004, G06F016}</td>\n",
       "      <td>NaN</td>\n",
       "    </tr>\n",
       "    <tr>\n",
       "      <th>7496557</th>\n",
       "      <td>{Y10S707, G06F016}</td>\n",
       "      <td>9.901048</td>\n",
       "      <td>{G06F016}</td>\n",
       "      <td>10.1</td>\n",
       "    </tr>\n",
       "    <tr>\n",
       "      <th>8838301</th>\n",
       "      <td>{B61L025, B61L029}</td>\n",
       "      <td>NaN</td>\n",
       "      <td>{B61L027, H04W004, Y02P090, G06Q010, G06Q030}</td>\n",
       "      <td>NaN</td>\n",
       "    </tr>\n",
       "    <tr>\n",
       "      <th>9158975</th>\n",
       "      <td>{G06T007, G06V020, G08B013, G06V040, G06V010, ...</td>\n",
       "      <td>NaN</td>\n",
       "      <td>{G06V040, G06V020}</td>\n",
       "      <td>24.0</td>\n",
       "    </tr>\n",
       "  </tbody>\n",
       "</table>\n",
       "<p>6929 rows × 4 columns</p>\n",
       "</div>"
      ],
      "text/plain": [
       "                                                   org_ipc     org_TI  \\\n",
       "8423759                                 {H04L063, H04L009}  35.500000   \n",
       "8095229      {G16Z099, Y02P090, G06Q010, G05B019, G06Q050}        NaN   \n",
       "8616308                                 {B62D055, Y10S901}        NaN   \n",
       "7313340                                 {H04N001, G03G015}   2.000000   \n",
       "7529392                                          {G06T007}   4.695652   \n",
       "...                                                    ...        ...   \n",
       "7287033                                 {Y10S707, G06F016}   9.901048   \n",
       "7577671                                 {Y10S707, G06F016}   9.901048   \n",
       "7496557                                 {Y10S707, G06F016}   9.901048   \n",
       "8838301                                 {B61L025, B61L029}        NaN   \n",
       "9158975  {G06T007, G06V020, G08B013, G06V040, G06V010, ...        NaN   \n",
       "\n",
       "                                                   gen_ipc  gen_TI  \n",
       "8423759               {G06Q010, H04L063, G06Q020, G05B019}     NaN  \n",
       "8095229  {G06Q050, H04L012, Y02P090, G06Q010, H04L067, ...     NaN  \n",
       "8616308               {A61M005, G05D001, G06N003, A61N001}     NaN  \n",
       "7313340  {G06Q040, G06F016, G06F003, H04L067, G06F021, ...     NaN  \n",
       "7529392                        {G06V040, G06F003, G06Q030}     NaN  \n",
       "...                                                    ...     ...  \n",
       "7287033                                 {G06F016, H04L065}     NaN  \n",
       "7577671                                 {H04W004, G06F016}     NaN  \n",
       "7496557                                          {G06F016}    10.1  \n",
       "8838301      {B61L027, H04W004, Y02P090, G06Q010, G06Q030}     NaN  \n",
       "9158975                                 {G06V040, G06V020}    24.0  \n",
       "\n",
       "[6929 rows x 4 columns]"
      ]
     },
     "execution_count": 794,
     "metadata": {},
     "output_type": "execute_result"
    }
   ],
   "source": [
    "res_macro"
   ]
  },
  {
   "cell_type": "code",
   "execution_count": 797,
   "metadata": {
    "ExecuteTime": {
     "end_time": "2025-06-10T00:13:02.800514Z",
     "start_time": "2025-06-10T00:13:02.789174Z"
    }
   },
   "outputs": [],
   "source": [
    "valid_res_macro = res_macro[(res_macro[\"org_TI\"].notna()) & (res_macro[\"gen_TI\"].notna())]"
   ]
  },
  {
   "cell_type": "code",
   "execution_count": 798,
   "metadata": {
    "ExecuteTime": {
     "end_time": "2025-06-10T00:13:05.613002Z",
     "start_time": "2025-06-10T00:13:05.579473Z"
    }
   },
   "outputs": [
    {
     "data": {
      "text/html": [
       "<div>\n",
       "<style scoped>\n",
       "    .dataframe tbody tr th:only-of-type {\n",
       "        vertical-align: middle;\n",
       "    }\n",
       "\n",
       "    .dataframe tbody tr th {\n",
       "        vertical-align: top;\n",
       "    }\n",
       "\n",
       "    .dataframe thead th {\n",
       "        text-align: right;\n",
       "    }\n",
       "</style>\n",
       "<table border=\"1\" class=\"dataframe\">\n",
       "  <thead>\n",
       "    <tr style=\"text-align: right;\">\n",
       "      <th></th>\n",
       "      <th>org_ipc</th>\n",
       "      <th>org_TI</th>\n",
       "      <th>gen_ipc</th>\n",
       "      <th>gen_TI</th>\n",
       "    </tr>\n",
       "  </thead>\n",
       "  <tbody>\n",
       "    <tr>\n",
       "      <th>8386498</th>\n",
       "      <td>{H04L063, H04L041}</td>\n",
       "      <td>18.166667</td>\n",
       "      <td>{G06F016, H04L063, G06F021}</td>\n",
       "      <td>9.00</td>\n",
       "    </tr>\n",
       "    <tr>\n",
       "      <th>7647471</th>\n",
       "      <td>{G06F012}</td>\n",
       "      <td>4.847222</td>\n",
       "      <td>{G06F016, G06F021}</td>\n",
       "      <td>14.00</td>\n",
       "    </tr>\n",
       "    <tr>\n",
       "      <th>7542816</th>\n",
       "      <td>{Y10S707, G06F016, G11B027}</td>\n",
       "      <td>8.571429</td>\n",
       "      <td>{G06F016}</td>\n",
       "      <td>10.10</td>\n",
       "    </tr>\n",
       "    <tr>\n",
       "      <th>7002462</th>\n",
       "      <td>{B66B027}</td>\n",
       "      <td>3.000000</td>\n",
       "      <td>{A61B005, A61N001}</td>\n",
       "      <td>9.25</td>\n",
       "    </tr>\n",
       "    <tr>\n",
       "      <th>8032383</th>\n",
       "      <td>{G10L015}</td>\n",
       "      <td>6.515464</td>\n",
       "      <td>{G10L015, G06F016}</td>\n",
       "      <td>6.00</td>\n",
       "    </tr>\n",
       "    <tr>\n",
       "      <th>...</th>\n",
       "      <td>...</td>\n",
       "      <td>...</td>\n",
       "      <td>...</td>\n",
       "      <td>...</td>\n",
       "    </tr>\n",
       "    <tr>\n",
       "      <th>8373775</th>\n",
       "      <td>{G06T005}</td>\n",
       "      <td>3.640000</td>\n",
       "      <td>{G06F016}</td>\n",
       "      <td>10.10</td>\n",
       "    </tr>\n",
       "    <tr>\n",
       "      <th>7475425</th>\n",
       "      <td>{H04L063}</td>\n",
       "      <td>9.000000</td>\n",
       "      <td>{H04L063}</td>\n",
       "      <td>9.00</td>\n",
       "    </tr>\n",
       "    <tr>\n",
       "      <th>7818341</th>\n",
       "      <td>{G06F016}</td>\n",
       "      <td>10.100000</td>\n",
       "      <td>{G06F016}</td>\n",
       "      <td>10.10</td>\n",
       "    </tr>\n",
       "    <tr>\n",
       "      <th>7627618</th>\n",
       "      <td>{Y10S707, G06F016, G06F009}</td>\n",
       "      <td>3.428571</td>\n",
       "      <td>{G06F016, G06F003}</td>\n",
       "      <td>42.00</td>\n",
       "    </tr>\n",
       "    <tr>\n",
       "      <th>7496557</th>\n",
       "      <td>{Y10S707, G06F016}</td>\n",
       "      <td>9.901048</td>\n",
       "      <td>{G06F016}</td>\n",
       "      <td>10.10</td>\n",
       "    </tr>\n",
       "  </tbody>\n",
       "</table>\n",
       "<p>1084 rows × 4 columns</p>\n",
       "</div>"
      ],
      "text/plain": [
       "                             org_ipc     org_TI                      gen_ipc  \\\n",
       "8386498           {H04L063, H04L041}  18.166667  {G06F016, H04L063, G06F021}   \n",
       "7647471                    {G06F012}   4.847222           {G06F016, G06F021}   \n",
       "7542816  {Y10S707, G06F016, G11B027}   8.571429                    {G06F016}   \n",
       "7002462                    {B66B027}   3.000000           {A61B005, A61N001}   \n",
       "8032383                    {G10L015}   6.515464           {G10L015, G06F016}   \n",
       "...                              ...        ...                          ...   \n",
       "8373775                    {G06T005}   3.640000                    {G06F016}   \n",
       "7475425                    {H04L063}   9.000000                    {H04L063}   \n",
       "7818341                    {G06F016}  10.100000                    {G06F016}   \n",
       "7627618  {Y10S707, G06F016, G06F009}   3.428571           {G06F016, G06F003}   \n",
       "7496557           {Y10S707, G06F016}   9.901048                    {G06F016}   \n",
       "\n",
       "         gen_TI  \n",
       "8386498    9.00  \n",
       "7647471   14.00  \n",
       "7542816   10.10  \n",
       "7002462    9.25  \n",
       "8032383    6.00  \n",
       "...         ...  \n",
       "8373775   10.10  \n",
       "7475425    9.00  \n",
       "7818341   10.10  \n",
       "7627618   42.00  \n",
       "7496557   10.10  \n",
       "\n",
       "[1084 rows x 4 columns]"
      ]
     },
     "execution_count": 798,
     "metadata": {},
     "output_type": "execute_result"
    }
   ],
   "source": [
    "valid_res_macro"
   ]
  },
  {
   "cell_type": "code",
   "execution_count": 799,
   "metadata": {
    "ExecuteTime": {
     "end_time": "2025-06-10T00:13:14.071739Z",
     "start_time": "2025-06-10T00:13:14.060578Z"
    }
   },
   "outputs": [
    {
     "data": {
      "text/plain": [
       "10.33533590921993"
      ]
     },
     "execution_count": 799,
     "metadata": {},
     "output_type": "execute_result"
    }
   ],
   "source": [
    "valid_res_macro[\"org_TI\"].mean()"
   ]
  },
  {
   "cell_type": "code",
   "execution_count": 800,
   "metadata": {
    "ExecuteTime": {
     "end_time": "2025-06-10T00:13:19.490323Z",
     "start_time": "2025-06-10T00:13:19.479211Z"
    }
   },
   "outputs": [
    {
     "data": {
      "text/plain": [
       "13.485535757873558"
      ]
     },
     "execution_count": 800,
     "metadata": {},
     "output_type": "execute_result"
    }
   ],
   "source": [
    "valid_res_macro[\"gen_TI\"].mean()"
   ]
  },
  {
   "cell_type": "code",
   "execution_count": null,
   "metadata": {},
   "outputs": [],
   "source": []
  },
  {
   "cell_type": "code",
   "execution_count": null,
   "metadata": {},
   "outputs": [],
   "source": []
  },
  {
   "cell_type": "code",
   "execution_count": null,
   "metadata": {},
   "outputs": [],
   "source": []
  },
  {
   "cell_type": "code",
   "execution_count": null,
   "metadata": {},
   "outputs": [],
   "source": []
  },
  {
   "cell_type": "code",
   "execution_count": null,
   "metadata": {},
   "outputs": [],
   "source": []
  },
  {
   "cell_type": "code",
   "execution_count": null,
   "metadata": {},
   "outputs": [],
   "source": []
  },
  {
   "cell_type": "code",
   "execution_count": null,
   "metadata": {},
   "outputs": [],
   "source": []
  },
  {
   "cell_type": "code",
   "execution_count": null,
   "metadata": {},
   "outputs": [],
   "source": []
  },
  {
   "cell_type": "code",
   "execution_count": null,
   "metadata": {},
   "outputs": [],
   "source": []
  }
 ],
 "metadata": {
  "kernelspec": {
   "display_name": "DL",
   "language": "python",
   "name": "dl"
  },
  "language_info": {
   "codemirror_mode": {
    "name": "ipython",
    "version": 3
   },
   "file_extension": ".py",
   "mimetype": "text/x-python",
   "name": "python",
   "nbconvert_exporter": "python",
   "pygments_lexer": "ipython3",
   "version": "3.9.7"
  },
  "toc": {
   "base_numbering": 1,
   "nav_menu": {},
   "number_sections": true,
   "sideBar": true,
   "skip_h1_title": false,
   "title_cell": "Table of Contents",
   "title_sidebar": "Contents",
   "toc_cell": false,
   "toc_position": {},
   "toc_section_display": true,
   "toc_window_display": false
  }
 },
 "nbformat": 4,
 "nbformat_minor": 2
}
