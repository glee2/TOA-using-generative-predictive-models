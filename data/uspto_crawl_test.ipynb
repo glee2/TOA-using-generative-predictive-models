{
 "cells": [
  {
   "cell_type": "code",
   "execution_count": 1,
   "metadata": {
    "ExecuteTime": {
     "end_time": "2022-10-25T15:06:29.787295Z",
     "start_time": "2022-10-25T15:06:29.629938Z"
    }
   },
   "outputs": [],
   "source": [
    "import sys\n",
    "sys.path.append(\"/share/tml_package\")\n",
    "import uspto\n",
    "from uspto import Patent\n",
    "from uspto.analysis import *"
   ]
  },
  {
   "cell_type": "code",
   "execution_count": 2,
   "metadata": {
    "ExecuteTime": {
     "end_time": "2022-10-25T15:06:36.761338Z",
     "start_time": "2022-10-25T15:06:36.740771Z"
    }
   },
   "outputs": [
    {
     "data": {
      "text/plain": [
       "['/usr/lib/python36.zip',\n",
       " '/usr/lib/python3.6',\n",
       " '/usr/lib/python3.6/lib-dynload',\n",
       " '',\n",
       " '/home2/glee/.local/lib/python3.6/site-packages',\n",
       " '/usr/local/lib/python3.6/dist-packages',\n",
       " '/share/uspto_pkg',\n",
       " '/usr/lib/python3/dist-packages',\n",
       " '/usr/local/lib/python3.6/dist-packages/IPython/extensions',\n",
       " '/home2/glee/.ipython',\n",
       " '/share/tml_package']"
      ]
     },
     "execution_count": 2,
     "metadata": {},
     "output_type": "execute_result"
    }
   ],
   "source": [
    "sys.path"
   ]
  },
  {
   "cell_type": "code",
   "execution_count": null,
   "metadata": {
    "ExecuteTime": {
     "end_time": "2022-10-25T03:20:26.617467Z",
     "start_time": "2022-10-25T03:20:26.610891Z"
    }
   },
   "outputs": [],
   "source": [
    "import pymysql"
   ]
  },
  {
   "cell_type": "code",
   "execution_count": 4,
   "metadata": {
    "ExecuteTime": {
     "end_time": "2022-10-25T15:11:04.455660Z",
     "start_time": "2022-10-25T15:11:04.397733Z"
    }
   },
   "outputs": [],
   "source": [
    "uspto.shared.set_html_dir('/share/uspto/html/')\n",
    "p = uspto.Patent('6981282')"
   ]
  },
  {
   "cell_type": "code",
   "execution_count": null,
   "metadata": {
    "ExecuteTime": {
     "end_time": "2022-10-25T14:23:29.816262Z",
     "start_time": "2022-10-25T14:23:29.808077Z"
    }
   },
   "outputs": [],
   "source": [
    "p.inventors"
   ]
  },
  {
   "cell_type": "code",
   "execution_count": null,
   "metadata": {
    "ExecuteTime": {
     "end_time": "2022-10-25T14:26:23.085517Z",
     "start_time": "2022-10-25T14:26:23.055716Z"
    },
    "scrolled": true
   },
   "outputs": [],
   "source": [
    "citation.count_forward"
   ]
  },
  {
   "cell_type": "code",
   "execution_count": null,
   "metadata": {
    "ExecuteTime": {
     "end_time": "2022-10-25T14:41:24.102411Z",
     "start_time": "2022-10-25T14:41:24.088208Z"
    }
   },
   "outputs": [],
   "source": [
    "pn = uspto.parse.pn_formatting('6981282')"
   ]
  },
  {
   "cell_type": "code",
   "execution_count": null,
   "metadata": {
    "ExecuteTime": {
     "end_time": "2022-10-25T14:46:26.349662Z",
     "start_time": "2022-10-25T14:46:26.344730Z"
    }
   },
   "outputs": [],
   "source": [
    "pn = '6981282'"
   ]
  },
  {
   "cell_type": "code",
   "execution_count": null,
   "metadata": {
    "ExecuteTime": {
     "end_time": "2022-10-25T14:46:43.869067Z",
     "start_time": "2022-10-25T14:46:43.811860Z"
    }
   },
   "outputs": [],
   "source": [
    "doc = uspto.parse.load(pn)"
   ]
  },
  {
   "cell_type": "code",
   "execution_count": null,
   "metadata": {
    "ExecuteTime": {
     "end_time": "2022-10-25T14:47:06.915660Z",
     "start_time": "2022-10-25T14:47:06.857261Z"
    },
    "scrolled": true
   },
   "outputs": [],
   "source": [
    "p.load_file()"
   ]
  },
  {
   "cell_type": "code",
   "execution_count": null,
   "metadata": {
    "ExecuteTime": {
     "end_time": "2022-10-25T14:44:42.931282Z",
     "start_time": "2022-10-25T14:44:42.925857Z"
    }
   },
   "outputs": [],
   "source": [
    "from uspto.parse import *"
   ]
  },
  {
   "cell_type": "code",
   "execution_count": null,
   "metadata": {
    "ExecuteTime": {
     "end_time": "2022-10-25T14:52:14.092991Z",
     "start_time": "2022-10-25T14:52:12.130277Z"
    }
   },
   "outputs": [],
   "source": [
    "import pandas as pd"
   ]
  },
  {
   "cell_type": "code",
   "execution_count": null,
   "metadata": {
    "ExecuteTime": {
     "end_time": "2022-10-25T14:52:20.028899Z",
     "start_time": "2022-10-25T14:52:19.601955Z"
    }
   },
   "outputs": [],
   "source": [
    "data = pd.read_csv('../data/data.csv')"
   ]
  },
  {
   "cell_type": "code",
   "execution_count": null,
   "metadata": {
    "ExecuteTime": {
     "end_time": "2022-10-25T14:53:21.069370Z",
     "start_time": "2022-10-25T14:53:20.965545Z"
    }
   },
   "outputs": [],
   "source": [
    "data"
   ]
  },
  {
   "cell_type": "code",
   "execution_count": null,
   "metadata": {
    "ExecuteTime": {
     "end_time": "2022-10-25T14:33:41.132357Z",
     "start_time": "2022-10-25T14:33:41.111982Z"
    },
    "scrolled": true
   },
   "outputs": [],
   "source": [
    "dir(p)"
   ]
  },
  {
   "cell_type": "code",
   "execution_count": null,
   "metadata": {
    "ExecuteTime": {
     "end_time": "2022-10-25T14:25:03.123246Z",
     "start_time": "2022-10-25T14:25:03.114520Z"
    }
   },
   "outputs": [],
   "source": [
    "uspto.batch(['analysis_test.csv', '6981282', []])"
   ]
  }
 ],
 "metadata": {
  "kernelspec": {
   "display_name": "Python 3",
   "language": "python",
   "name": "python3"
  },
  "language_info": {
   "codemirror_mode": {
    "name": "ipython",
    "version": 3
   },
   "file_extension": ".py",
   "mimetype": "text/x-python",
   "name": "python",
   "nbconvert_exporter": "python",
   "pygments_lexer": "ipython3",
   "version": "3.6.9"
  },
  "toc": {
   "base_numbering": 1,
   "nav_menu": {},
   "number_sections": true,
   "sideBar": true,
   "skip_h1_title": false,
   "title_cell": "Table of Contents",
   "title_sidebar": "Contents",
   "toc_cell": false,
   "toc_position": {},
   "toc_section_display": true,
   "toc_window_display": false
  }
 },
 "nbformat": 4,
 "nbformat_minor": 2
}
